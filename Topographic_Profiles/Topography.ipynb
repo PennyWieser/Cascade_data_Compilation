{
 "cells": [
  {
   "cell_type": "code",
   "execution_count": 1,
   "id": "64d99335-a787-4f5a-be53-a65504874c9b",
   "metadata": {},
   "outputs": [],
   "source": [
    "import numpy as np\n",
    "import pandas as pd\n",
    "import matplotlib.pyplot as plt\n",
    "import Thermobar as pt"
   ]
  },
  {
   "cell_type": "code",
   "execution_count": null,
   "id": "cf635b65-cb35-4d81-884e-3376630ff72a",
   "metadata": {},
   "outputs": [],
   "source": []
  },
  {
   "cell_type": "markdown",
   "id": "6787a38a-32db-481e-b79f-13c80f826fb4",
   "metadata": {},
   "source": [
    "## You'll need to run this once"
   ]
  },
  {
   "cell_type": "code",
   "execution_count": 2,
   "id": "89669cfb-d4f3-4bae-aeb2-2ab14f57e970",
   "metadata": {},
   "outputs": [],
   "source": [
    "#!pip install geopy"
   ]
  },
  {
   "cell_type": "markdown",
   "id": "897e24a2-cdf5-4f7e-ab5d-71bab77428a2",
   "metadata": {},
   "source": [
    "## This is used to define the density-depth relationships, and set the scales the same as all the figures in the text"
   ]
  },
  {
   "cell_type": "code",
   "execution_count": 3,
   "id": "2b313aed-e528-4dde-b9df-05fe9648aa84",
   "metadata": {},
   "outputs": [],
   "source": [
    "rho=2700\n",
    "P_axis_min=-3\n",
    "P_axis_max=12\n",
    "D_axis_min=100000*P_axis_min/(9.8*rho)\n",
    "D_axis_max=100000*P_axis_max/(9.8*rho)\n"
   ]
  },
  {
   "cell_type": "markdown",
   "id": "f4d30cce-d9e0-4829-8902-b68995469ca5",
   "metadata": {},
   "source": [
    "## Hood"
   ]
  },
  {
   "cell_type": "code",
   "execution_count": 38,
   "id": "4cac4051-405c-4dcc-821d-003910fbdcb4",
   "metadata": {},
   "outputs": [
    {
     "data": {
      "image/png": "[encoded data removed]",
      "text/plain": [
       "<Figure size 300x400 with 3 Axes>"
      ]
     },
     "metadata": {},
     "output_type": "display_data"
    }
   ],
   "source": [
    "import geopy.distance\n",
    "topo=pd.read_excel('Topography_GIS.xlsx', sheet_name='Hood')\n",
    "topo['Elevation']=topo['Elevation_m']/1000\n",
    "lat=topo['Lat']\n",
    "long=topo['Long']\n",
    "Dist=np.empty(len(long))\n",
    "\n",
    "for i in range(0, len(lat)):\n",
    "    \n",
    "    coords_2 = (long[0], lat[0] )\n",
    "    coords_1 = (long[i], lat[i])\n",
    "    Dist[i]=geopy.distance.geodesic(coords_1, coords_2).km\n",
    "\n",
    "    \n",
    "import seaborn as sns\n",
    "fig, (ax1) = plt.subplots(1, 1, figsize=(3,4), sharey=True)\n",
    "ax2 = ax1.twinx()\n",
    "axx=ax2.twiny()\n",
    "max_el_h=max(topo['Elevation'])\n",
    "max_elev=topo['Elevation']==max(topo['Elevation'])\n",
    "axx.plot(Dist, -topo['Elevation'], '-r', lw=1)\n",
    "axx.plot(Dist, 0*Dist, '-k', lw=0.5)\n",
    "axx.plot([Dist[0], Dist[-1]], [0, 0], '-k', lw=0.5)\n",
    "axx.plot([Dist[0], Dist[0]], [0, -topo['Elevation'].iloc[0]], '-r', lw=0.5)\n",
    "axx.plot([Dist[-1], Dist[-1]], [0, -topo['Elevation'].iloc[-1]], '-r', lw=0.5)\n",
    "Dist_max=Dist[max_elev]\n",
    "#axx.errorbar(Dist_max[0], [-max_el_h-1], xerr=5, capsize=5, color='k')\n",
    "ax1.set_ylim([P_axis_max, P_axis_min])\n",
    "ax2.set_ylim([D_axis_max, D_axis_min])\n",
    "axx.set_ylim([D_axis_max, D_axis_min])\n",
    "axx.set_xlim([Dist_max[0]-10, Dist_max[0]+10])\n",
    "ax1.set_xlim([-0.5, 0.5])\n",
    "\n",
    "ax1.set_xlabel(None)\n",
    "ax1.set_ylabel(None)\n",
    "ax1.tick_params(direction=\"in\")\n",
    "ax2.tick_params(direction=\"in\")\n",
    "#ax1.grid(color = 'k', linestyle = '--', axis='y',linewidth = 1, alpha = 0.1, zorder=0)\n",
    "ax2.set_yticks([])\n",
    "ax1.set_yticks([])\n",
    "axx.set_yticks([])\n",
    "ax2.set_xticks([])\n",
    "ax1.set_xticks([])\n",
    "axx.set_xticks([])\n",
    "\n",
    "ax1.set_frame_on(False)\n",
    "ax2.set_frame_on(False)\n",
    "axx.set_frame_on(False)\n",
    "ax1.plot([-0.5, 0.5], [10, 10], '-k', lw=0.3)\n",
    "ax1.plot([-0.5, 0.5], [0, 0], '-k', lw=0.3)\n",
    "fig.savefig('Topography_Hood.png', dpi=200, transparent=True)"
   ]
  },
  {
   "cell_type": "code",
   "execution_count": 5,
   "id": "570877e1",
   "metadata": {},
   "outputs": [],
   "source": [
    "#!pip install geopy"
   ]
  },
  {
   "cell_type": "markdown",
   "id": "88d21c55-9a32-4462-bce9-55231a525200",
   "metadata": {},
   "source": [
    "## Newberry"
   ]
  },
  {
   "cell_type": "code",
   "execution_count": 6,
   "id": "438afa95-03e1-4912-aedc-8c73e425d40b",
   "metadata": {},
   "outputs": [
    {
     "data": {
      "image/png": "[encoded data removed]",
      "text/plain": [
       "<Figure size 300x400 with 3 Axes>"
      ]
     },
     "metadata": {},
     "output_type": "display_data"
    }
   ],
   "source": [
    "import geopy.distance\n",
    "topo=pd.read_excel('Topography_GIS.xlsx', sheet_name='Newberry')\n",
    "topo['Elevation']=topo['Elevation_m']/1000\n",
    "lat=topo['Lat']\n",
    "long=topo['Long']\n",
    "Dist=np.empty(len(long))\n",
    "\n",
    "for i in range(0, len(lat)):\n",
    "    \n",
    "    coords_2 = (long[0], lat[0] )\n",
    "    coords_1 = (long[i], lat[i])\n",
    "    Dist[i]=geopy.distance.geodesic(coords_1, coords_2).km\n",
    "\n",
    "    \n",
    "import seaborn as sns\n",
    "fig, (ax1) = plt.subplots(1, 1, figsize=(3,4), sharey=True)\n",
    "ax2 = ax1.twinx()\n",
    "axx=ax2.twiny()\n",
    "max_el_h=max(topo['Elevation'])\n",
    "max_elev=topo['Elevation']==max(topo['Elevation'])\n",
    "axx.plot(Dist, -topo['Elevation'], '-r', lw=1)\n",
    "axx.plot(Dist, 0*Dist, '-k', lw=0.5)\n",
    "axx.plot([Dist[0], Dist[-1]], [0, 0], '-k', lw=0.5)\n",
    "axx.plot([Dist[0], Dist[0]], [0, -topo['Elevation'].iloc[0]], '-r', lw=0.5)\n",
    "axx.plot([Dist[-1], Dist[-1]], [0, -topo['Elevation'].iloc[-1]], '-r', lw=0.5)\n",
    "Dist_max=Dist[max_elev]\n",
    "#axx.errorbar(Dist_max[0], [-max_el_h-1], xerr=5, capsize=5, color='k')\n",
    "ax1.set_ylim([P_axis_max, P_axis_min])\n",
    "ax2.set_ylim([D_axis_max, D_axis_min])\n",
    "axx.set_ylim([D_axis_max, D_axis_min])\n",
    "axx.set_xlim([Dist_max[0]-30, Dist_max[0]+25])\n",
    "ax1.set_xlim([-0.5, 0.5])\n",
    "\n",
    "ax1.set_xlabel(None)\n",
    "ax1.set_ylabel(None)\n",
    "ax1.tick_params(direction=\"in\")\n",
    "ax2.tick_params(direction=\"in\")\n",
    "#ax1.grid(color = 'k', linestyle = '--', axis='y',linewidth = 1, alpha = 0.1, zorder=0)\n",
    "ax2.set_yticks([])\n",
    "ax1.set_yticks([])\n",
    "axx.set_yticks([])\n",
    "ax2.set_xticks([])\n",
    "ax1.set_xticks([])\n",
    "axx.set_xticks([])\n",
    "\n",
    "ax1.set_frame_on(False)\n",
    "ax2.set_frame_on(False)\n",
    "axx.set_frame_on(False)\n",
    "\n",
    "fig.savefig('Newberry_Topo.png', dpi=200, transparent=True)"
   ]
  },
  {
   "cell_type": "code",
   "execution_count": 7,
   "id": "7195a452-fd0d-4256-a88c-cda829c88dc2",
   "metadata": {},
   "outputs": [
    {
     "data": {
      "image/png": "[encoded data removed]",
      "text/plain": [
       "<Figure size 300x400 with 3 Axes>"
      ]
     },
     "metadata": {},
     "output_type": "display_data"
    }
   ],
   "source": [
    "import geopy.distance\n",
    "topo=pd.read_excel('Topography_GIS.xlsx', sheet_name='MSH')\n",
    "topo['Elevation']=topo['Elevation_m']/1000\n",
    "lat=topo['Lat']\n",
    "long=topo['Long']\n",
    "Dist=np.empty(len(long))\n",
    "\n",
    "for i in range(0, len(lat)):\n",
    "    \n",
    "    coords_2 = (long[0], lat[0] )\n",
    "    coords_1 = (long[i], lat[i])\n",
    "    Dist[i]=geopy.distance.geodesic(coords_1, coords_2).km\n",
    "\n",
    "    \n",
    "import seaborn as sns\n",
    "fig, (ax1) = plt.subplots(1, 1, figsize=(3,4), sharey=True)\n",
    "ax2 = ax1.twinx()\n",
    "axx=ax2.twiny()\n",
    "max_el_h=max(topo['Elevation'])\n",
    "max_elev=topo['Elevation']==max(topo['Elevation'])\n",
    "axx.plot(Dist, -topo['Elevation'], '-r', lw=1)\n",
    "axx.plot(Dist, 0*Dist, '-k', lw=0.5)\n",
    "axx.plot([Dist[0], Dist[-1]], [0, 0], '-k', lw=0.5)\n",
    "axx.plot([Dist[0], Dist[0]], [0, -topo['Elevation'].iloc[0]], '-r', lw=0.5)\n",
    "axx.plot([Dist[-1], Dist[-1]], [0, -topo['Elevation'].iloc[-1]], '-r', lw=0.5)\n",
    "Dist_max=Dist[max_elev]\n",
    "#axx.errorbar(Dist_max[0], [-max_el_h-1], xerr=5, capsize=5, color='k')\n",
    "ax1.set_ylim([P_axis_max, P_axis_min])\n",
    "ax2.set_ylim([D_axis_max, D_axis_min])\n",
    "axx.set_ylim([D_axis_max, D_axis_min])\n",
    "axx.set_xlim([Dist_max[0]-9, Dist_max[0]+6])\n",
    "ax1.set_xlim([-0.5, 0.5])\n",
    "\n",
    "ax1.set_xlabel(None)\n",
    "ax1.set_ylabel(None)\n",
    "ax1.tick_params(direction=\"in\")\n",
    "ax2.tick_params(direction=\"in\")\n",
    "#ax1.grid(color = 'k', linestyle = '--', axis='y',linewidth = 1, alpha = 0.1, zorder=0)\n",
    "ax2.set_yticks([])\n",
    "ax1.set_yticks([])\n",
    "axx.set_yticks([])\n",
    "ax2.set_xticks([])\n",
    "ax1.set_xticks([])\n",
    "axx.set_xticks([])\n",
    "\n",
    "ax1.set_frame_on(False)\n",
    "ax2.set_frame_on(False)\n",
    "axx.set_frame_on(False)\n",
    "\n",
    "fig.savefig('MSH_Topo.png', dpi=200, transparent=True)"
   ]
  },
  {
   "cell_type": "code",
   "execution_count": 8,
   "id": "3ff9c52c-b3cf-4a22-ba0b-6a3d74247002",
   "metadata": {},
   "outputs": [
    {
     "data": {
      "image/png": "[encoded data removed]",
      "text/plain": [
       "<Figure size 300x400 with 3 Axes>"
      ]
     },
     "metadata": {},
     "output_type": "display_data"
    }
   ],
   "source": [
    "import geopy.distance\n",
    "topo=pd.read_excel('Topography_GIS.xlsx', sheet_name='Adams')\n",
    "topo['Elevation']=topo['Elevation_m']/1000\n",
    "lat=topo['Lat']\n",
    "long=topo['Long']\n",
    "Dist=np.empty(len(long))\n",
    "\n",
    "for i in range(0, len(lat)):\n",
    "    \n",
    "    coords_2 = (long[0], lat[0] )\n",
    "    coords_1 = (long[i], lat[i])\n",
    "    Dist[i]=geopy.distance.geodesic(coords_1, coords_2).km\n",
    "\n",
    "    \n",
    "import seaborn as sns\n",
    "fig, (ax1) = plt.subplots(1, 1, figsize=(3,4), sharey=True)\n",
    "ax2 = ax1.twinx()\n",
    "axx=ax2.twiny()\n",
    "max_el_h=max(topo['Elevation'])\n",
    "max_elev=topo['Elevation']==max(topo['Elevation'])\n",
    "axx.plot(Dist, -topo['Elevation'], '-r', lw=1)\n",
    "axx.plot(Dist, 0*Dist, '-k', lw=0.5)\n",
    "axx.plot([Dist[0], Dist[-1]], [0, 0], '-k', lw=0.5)\n",
    "axx.plot([Dist[0], Dist[0]], [0, -topo['Elevation'].iloc[0]], '-r', lw=0.5)\n",
    "axx.plot([Dist[-1], Dist[-1]], [0, -topo['Elevation'].iloc[-1]], '-r', lw=0.5)\n",
    "Dist_max=Dist[max_elev]\n",
    "#axx.errorbar(Dist_max[0], [-max_el_h-1], xerr=5, capsize=5, color='k')\n",
    "ax1.set_ylim([P_axis_max, P_axis_min])\n",
    "ax2.set_ylim([D_axis_max, D_axis_min])\n",
    "axx.set_ylim([D_axis_max, D_axis_min])\n",
    "axx.set_xlim([Dist_max[0]-7.5, Dist_max[0]+7.5])\n",
    "ax1.set_xlim([-0.5, 0.5])\n",
    "\n",
    "ax1.set_xlabel(None)\n",
    "ax1.set_ylabel(None)\n",
    "ax1.tick_params(direction=\"in\")\n",
    "ax2.tick_params(direction=\"in\")\n",
    "#ax1.grid(color = 'k', linestyle = '--', axis='y',linewidth = 1, alpha = 0.1, zorder=0)\n",
    "ax2.set_yticks([])\n",
    "ax1.set_yticks([])\n",
    "axx.set_yticks([])\n",
    "ax2.set_xticks([])\n",
    "ax1.set_xticks([])\n",
    "axx.set_xticks([])\n",
    "\n",
    "ax1.set_frame_on(False)\n",
    "ax2.set_frame_on(False)\n",
    "axx.set_frame_on(False)\n",
    "\n",
    "fig.savefig('Adams_Topo.png', dpi=200, transparent=True)"
   ]
  },
  {
   "cell_type": "code",
   "execution_count": 39,
   "id": "c3cbdc5d-e2dc-4562-8cbf-154e838f9d43",
   "metadata": {},
   "outputs": [
    {
     "data": {
      "image/png": "[encoded data removed]",
      "text/plain": [
       "<Figure size 300x400 with 3 Axes>"
      ]
     },
     "metadata": {},
     "output_type": "display_data"
    }
   ],
   "source": [
    "import geopy.distance\n",
    "topo=pd.read_excel('Topography_GIS.xlsx', sheet_name='Rainier')\n",
    "topo['Elevation']=topo['Elevation_m']/1000\n",
    "lat=topo['Lat']\n",
    "long=topo['Long']\n",
    "Dist=np.empty(len(long))\n",
    "\n",
    "for i in range(0, len(lat)):\n",
    "    \n",
    "    coords_2 = (long[0], lat[0] )\n",
    "    coords_1 = (long[i], lat[i])\n",
    "    Dist[i]=geopy.distance.geodesic(coords_1, coords_2).km\n",
    "\n",
    "    \n",
    "import seaborn as sns\n",
    "fig, (ax1) = plt.subplots(1, 1, figsize=(3,4), sharey=True)\n",
    "ax2 = ax1.twinx()\n",
    "axx=ax2.twiny()\n",
    "max_el_h=max(topo['Elevation'])\n",
    "max_elev=topo['Elevation']==max(topo['Elevation'])\n",
    "axx.plot(Dist, -topo['Elevation'], '-r', lw=1)\n",
    "axx.plot(Dist, 0*Dist, '-k', lw=0.5)\n",
    "axx.plot([Dist[0], Dist[-1]], [0, 0], '-k', lw=0.5)\n",
    "axx.plot([Dist[0], Dist[0]], [0, -topo['Elevation'].iloc[0]], '-r', lw=0.5)\n",
    "axx.plot([Dist[-1], Dist[-1]], [0, -topo['Elevation'].iloc[-1]], '-r', lw=0.5)\n",
    "Dist_max=Dist[max_elev]\n",
    "#axx.errorbar(Dist_max[0], [-max_el_h-1], xerr=5, capsize=5, color='k')\n",
    "ax1.set_ylim([P_axis_max, P_axis_min])\n",
    "ax2.set_ylim([D_axis_max, D_axis_min])\n",
    "axx.set_ylim([D_axis_max, D_axis_min])\n",
    "axx.set_xlim([Dist_max[0]-7.5, Dist_max[0]+7.5])\n",
    "ax1.set_xlim([-0.5, 0.5])\n",
    "\n",
    "ax1.set_xlabel(None)\n",
    "ax1.set_ylabel(None)\n",
    "ax1.tick_params(direction=\"in\")\n",
    "ax2.tick_params(direction=\"in\")\n",
    "#ax1.grid(color = 'k', linestyle = '--', axis='y',linewidth = 1, alpha = 0.1, zorder=0)\n",
    "ax2.set_yticks([])\n",
    "ax1.set_yticks([])\n",
    "axx.set_yticks([])\n",
    "ax2.set_xticks([])\n",
    "ax1.set_xticks([])\n",
    "axx.set_xticks([])\n",
    "\n",
    "ax1.set_frame_on(False)\n",
    "ax2.set_frame_on(False)\n",
    "axx.set_frame_on(False)\n",
    "ax1.plot([-0.5, 0.5], [10, 10], '-k', lw=0.3)\n",
    "ax1.plot([-0.5, 0.5], [0, 0], '-k', lw=0.3)\n",
    "fig.savefig('Rainier_Topo.png', dpi=200, transparent=True)"
   ]
  },
  {
   "cell_type": "code",
   "execution_count": 10,
   "id": "ff64b148-ec3e-4f78-8a9d-3ffd24588bde",
   "metadata": {},
   "outputs": [
    {
     "data": {
      "image/png": "[encoded data removed]",
      "text/plain": [
       "<Figure size 300x400 with 3 Axes>"
      ]
     },
     "metadata": {},
     "output_type": "display_data"
    }
   ],
   "source": [
    "import geopy.distance\n",
    "topo=pd.read_excel('Topography_GIS.xlsx', sheet_name='Glacier_Peak')\n",
    "topo['Elevation']=topo['Elevation_m']/1000\n",
    "lat=topo['Lat']\n",
    "long=topo['Long']\n",
    "Dist=np.empty(len(long))\n",
    "\n",
    "for i in range(0, len(lat)):\n",
    "    \n",
    "    coords_2 = (long[0], lat[0] )\n",
    "    coords_1 = (long[i], lat[i])\n",
    "    Dist[i]=geopy.distance.geodesic(coords_1, coords_2).km\n",
    "\n",
    "    \n",
    "import seaborn as sns\n",
    "fig, (ax1) = plt.subplots(1, 1, figsize=(3,4), sharey=True)\n",
    "ax2 = ax1.twinx()\n",
    "axx=ax2.twiny()\n",
    "max_el_h=max(topo['Elevation'])\n",
    "max_elev=topo['Elevation']==max(topo['Elevation'])\n",
    "axx.plot(Dist, -topo['Elevation'], '-r', lw=1)\n",
    "axx.plot(Dist, 0*Dist, '-k', lw=0.5)\n",
    "axx.plot([Dist[0], Dist[-1]], [0, 0], '-k', lw=0.5)\n",
    "\n",
    "Dist_max=Dist[max_elev]\n",
    "#axx.errorbar(Dist_max[0], [-max_el_h-1], xerr=5, capsize=5, color='k')\n",
    "ax1.set_ylim([P_axis_max, P_axis_min])\n",
    "ax2.set_ylim([D_axis_max, D_axis_min])\n",
    "axx.set_ylim([D_axis_max, D_axis_min])\n",
    "axx.set_xlim([Dist_max[0]-7.5, Dist_max[0]+7.5])\n",
    "ax1.set_xlim([-0.5, 0.5])\n",
    "\n",
    "ax1.set_xlabel(None)\n",
    "ax1.set_ylabel(None)\n",
    "ax1.tick_params(direction=\"in\")\n",
    "ax2.tick_params(direction=\"in\")\n",
    "#ax1.grid(color = 'k', linestyle = '--', axis='y',linewidth = 1, alpha = 0.1, zorder=0)\n",
    "ax2.set_yticks([])\n",
    "ax1.set_yticks([])\n",
    "axx.set_yticks([])\n",
    "ax2.set_xticks([])\n",
    "ax1.set_xticks([])\n",
    "axx.set_xticks([])\n",
    "\n",
    "ax1.set_frame_on(False)\n",
    "ax2.set_frame_on(False)\n",
    "axx.set_frame_on(False)\n",
    "\n",
    "fig.savefig('Glacier_Topo.png', dpi=200, transparent=True)"
   ]
  },
  {
   "cell_type": "markdown",
   "id": "10df2550-b385-4e1b-a186-1d72d9316124",
   "metadata": {},
   "source": [
    "## Rainier"
   ]
  },
  {
   "cell_type": "code",
   "execution_count": 11,
   "id": "5ec468cc-8790-4a95-8c42-895b76392b6d",
   "metadata": {},
   "outputs": [
    {
     "data": {
      "image/png": "[encoded data removed]",
      "text/plain": [
       "<Figure size 300x400 with 3 Axes>"
      ]
     },
     "metadata": {},
     "output_type": "display_data"
    }
   ],
   "source": [
    "import geopy.distance\n",
    "topo=pd.read_excel('Topography_GIS.xlsx', sheet_name='Rainier')\n",
    "topo['Elevation']=topo['Elevation_m']/1000\n",
    "lat=topo['Lat']\n",
    "long=topo['Long']\n",
    "Dist=np.empty(len(long))\n",
    "\n",
    "for i in range(0, len(lat)):\n",
    "    \n",
    "    coords_2 = (long[0], lat[0] )\n",
    "    coords_1 = (long[i], lat[i])\n",
    "    Dist[i]=geopy.distance.geodesic(coords_1, coords_2).km\n",
    "\n",
    "    \n",
    "import seaborn as sns\n",
    "fig, (ax1) = plt.subplots(1, 1, figsize=(3,4), sharey=True)\n",
    "ax2 = ax1.twinx()\n",
    "axx=ax2.twiny()\n",
    "max_el_h=max(topo['Elevation'])\n",
    "max_elev=topo['Elevation']==max(topo['Elevation'])\n",
    "axx.plot(Dist, -topo['Elevation'], '-r', lw=0.5)\n",
    "axx.plot(Dist, 0*Dist, '-k', lw=0.5)\n",
    "axx.plot([Dist[0], Dist[-1]], [0, 0], '-r', lw=0.5)\n",
    "axx.plot([Dist[0], Dist[0]], [0, -topo['Elevation'].iloc[0]], '-r', lw=0.5)\n",
    "axx.plot([Dist[-1], Dist[-1]], [0, -topo['Elevation'].iloc[-1]], '-r', lw=0.5)\n",
    "Dist_max=Dist[max_elev]\n",
    "axx.errorbar(Dist_max[0], [-max_el_h-1], xerr=5, capsize=5, color='k')\n",
    "ax1.set_ylim([P_axis_max, P_axis_min])\n",
    "ax2.set_ylim([D_axis_max, D_axis_min])\n",
    "axx.set_ylim([D_axis_max, D_axis_min])\n",
    "\n",
    "ax1.set_xlim([-0.5, 0.5])\n",
    "\n",
    "ax1.set_xlabel(None)\n",
    "ax1.set_ylabel(None)\n",
    "ax1.tick_params(direction=\"in\")\n",
    "ax2.tick_params(direction=\"in\")\n",
    "#ax1.grid(color = 'k', linestyle = '--', axis='y',linewidth = 1, alpha = 0.1, zorder=0)\n",
    "ax2.set_yticks([])\n",
    "ax1.set_yticks([])\n",
    "axx.set_yticks([])\n",
    "ax2.set_xticks([])\n",
    "ax1.set_xticks([])\n",
    "axx.set_xticks([])\n",
    "fig.savefig('Rainier_Topo.png', dpi=200, transparent=True)"
   ]
  },
  {
   "cell_type": "markdown",
   "id": "0152fe82-36dc-4b9b-9f2e-64f39c866555",
   "metadata": {},
   "source": [
    "## Lassen"
   ]
  },
  {
   "cell_type": "code",
   "execution_count": 30,
   "id": "f9860f39-1f65-4436-9b85-f946387135e8",
   "metadata": {},
   "outputs": [
    {
     "data": {
      "image/png": "[encoded data removed]",
      "text/plain": [
       "<Figure size 300x400 with 3 Axes>"
      ]
     },
     "metadata": {},
     "output_type": "display_data"
    }
   ],
   "source": [
    "import geopy.distance\n",
    "topo=pd.read_excel('Topography_GIS.xlsx', sheet_name='Lassen')\n",
    "topo['Elevation']=topo['Elevation_m']/1000\n",
    "lat=topo['Lat']\n",
    "long=topo['Long']\n",
    "Dist=np.empty(len(long))\n",
    "\n",
    "for i in range(0, len(lat)):\n",
    "    \n",
    "    coords_2 = (long[0], lat[0] )\n",
    "    coords_1 = (long[i], lat[i])\n",
    "    Dist[i]=geopy.distance.geodesic(coords_1, coords_2).km\n",
    "\n",
    "    \n",
    "import seaborn as sns\n",
    "fig, (ax1) = plt.subplots(1, 1, figsize=(3,4), sharey=True)\n",
    "ax2 = ax1.twinx()\n",
    "axx=ax2.twiny()\n",
    "max_el_h=max(topo['Elevation'])\n",
    "max_elev=topo['Elevation']==max(topo['Elevation'])\n",
    "axx.plot(Dist, -topo['Elevation'], '-r', lw=1)\n",
    "axx.plot(Dist, 0*Dist, '-k', lw=0.5)\n",
    "axx.plot([Dist[0], Dist[-1]], [0, 0], '-k', lw=0.5)\n",
    "axx.plot([Dist[0], Dist[0]], [0, -topo['Elevation'].iloc[0]], '-r', lw=0.5)\n",
    "axx.plot([Dist[-1], Dist[-1]], [0, -topo['Elevation'].iloc[-1]], '-r', lw=0.5)\n",
    "Dist_max=Dist[max_elev]\n",
    "#axx.errorbar(Dist_max[0], [-max_el_h-1], xerr=5, capsize=5, color='k')\n",
    "ax1.set_ylim([P_axis_max, P_axis_min])\n",
    "ax2.set_ylim([D_axis_max, D_axis_min])\n",
    "axx.set_ylim([D_axis_max, D_axis_min])\n",
    "axx.set_xlim([Dist_max[0]-7.5, Dist_max[0]+7.5])\n",
    "ax1.set_xlim([-0.5, 0.5])\n",
    "ax1.plot([-0.5, 0.5], [10, 10], '-k', lw=0.3)\n",
    "ax1.plot([-0.5, 0.5], [0, 0], '-k', lw=0.3)\n",
    "ax1.set_xlabel(None)\n",
    "ax1.set_ylabel(None)\n",
    "ax1.tick_params(direction=\"in\")\n",
    "ax2.tick_params(direction=\"in\")\n",
    "#ax1.grid(color = 'k', linestyle = '--', axis='y',linewidth = 1, alpha = 0.1, zorder=0)\n",
    "ax2.set_yticks([])\n",
    "ax1.set_yticks([])\n",
    "axx.set_yticks([])\n",
    "ax2.set_xticks([])\n",
    "ax1.set_xticks([])\n",
    "axx.set_xticks([])\n",
    "\n",
    "ax1.set_frame_on(False)\n",
    "#ax2.set_frame_on(False)\n",
    "axx.set_frame_on(False)\n",
    "\n",
    "fig.savefig('Lassen_Topo2.png', dpi=300, transparent=True)"
   ]
  },
  {
   "cell_type": "markdown",
   "id": "c5c8eaa9-55be-4645-a54b-4fc077f23409",
   "metadata": {},
   "source": [
    "## Shasta"
   ]
  },
  {
   "cell_type": "code",
   "execution_count": 32,
   "id": "39964c27-83fc-4271-a7ea-adad2eb95025",
   "metadata": {},
   "outputs": [
    {
     "data": {
      "image/png": "[encoded data removed]",
      "text/plain": [
       "<Figure size 300x400 with 3 Axes>"
      ]
     },
     "metadata": {},
     "output_type": "display_data"
    }
   ],
   "source": [
    "import geopy.distance\n",
    "topo=pd.read_excel('Topography_GIS.xlsx', sheet_name='Shasta')\n",
    "topo['Elevation']=topo['Elevation_m']/1000\n",
    "lat=topo['Lat']\n",
    "long=topo['Long']\n",
    "Dist=np.empty(len(long))\n",
    "\n",
    "for i in range(0, len(lat)):\n",
    "    \n",
    "    coords_2 = (long[0], lat[0] )\n",
    "    coords_1 = (long[i], lat[i])\n",
    "    Dist[i]=geopy.distance.geodesic(coords_1, coords_2).km\n",
    "\n",
    "    \n",
    "import seaborn as sns\n",
    "fig, (ax1) = plt.subplots(1, 1, figsize=(3,4), sharey=True)\n",
    "ax2 = ax1.twinx()\n",
    "axx=ax2.twiny()\n",
    "max_el_h=max(topo['Elevation'])\n",
    "max_elev=topo['Elevation']==max(topo['Elevation'])\n",
    "axx.plot(Dist, -topo['Elevation'], '-r', lw=1)\n",
    "axx.plot(Dist, 0*Dist, '-k', lw=0.5)\n",
    "axx.plot([Dist[0], Dist[-1]], [0, 0], '-k', lw=0.5)\n",
    "axx.plot([Dist[0], Dist[0]], [0, -topo['Elevation'].iloc[0]], '-r', lw=0.5)\n",
    "axx.plot([Dist[-1], Dist[-1]], [0, -topo['Elevation'].iloc[-1]], '-r', lw=0.5)\n",
    "Dist_max=Dist[max_elev]\n",
    "#axx.errorbar(Dist_max[0], [-max_el_h-1], xerr=5, capsize=5, color='k')\n",
    "ax1.set_ylim([P_axis_max, P_axis_min])\n",
    "ax2.set_ylim([D_axis_max, D_axis_min])\n",
    "axx.set_ylim([D_axis_max, D_axis_min])\n",
    "axx.set_xlim([Dist_max[0]-7.5, Dist_max[0]+7.5])\n",
    "ax1.set_xlim([-0.5, 0.5])\n",
    "ax1.plot([-0.5, 0.5], [10, 10], '-k', lw=0.3)\n",
    "ax1.plot([-0.5, 0.5], [0, 0], '-k', lw=0.3)\n",
    "\n",
    "ax1.set_xlabel(None)\n",
    "ax1.set_ylabel(None)\n",
    "ax1.tick_params(direction=\"in\")\n",
    "ax2.tick_params(direction=\"in\")\n",
    "#ax1.grid(color = 'k', linestyle = '--', axis='y',linewidth = 1, alpha = 0.1, zorder=0)\n",
    "ax2.set_yticks([])\n",
    "ax1.set_yticks([])\n",
    "axx.set_yticks([])\n",
    "ax2.set_xticks([])\n",
    "ax1.set_xticks([])\n",
    "axx.set_xticks([])\n",
    "\n",
    "ax1.set_frame_on(False)\n",
    "ax2.set_frame_on(False)\n",
    "axx.set_frame_on(False)\n",
    "\n",
    "fig.savefig('Shasta_Topo.png', dpi=200)"
   ]
  },
  {
   "cell_type": "code",
   "execution_count": 33,
   "id": "8fc28f37-cbfb-4e6e-83e4-2eb622de2aad",
   "metadata": {},
   "outputs": [
    {
     "data": {
      "image/png": "[encoded data removed]",
      "text/plain": [
       "<Figure size 200x400 with 3 Axes>"
      ]
     },
     "metadata": {},
     "output_type": "display_data"
    }
   ],
   "source": [
    "import geopy.distance\n",
    "topo=pd.read_excel('Topography_GIS.xlsx', sheet_name='Medicine Lake')\n",
    "topo['Elevation']=topo['Elevation_m']/1000\n",
    "lat=topo['Lat']\n",
    "long=topo['Long']\n",
    "Dist=np.empty(len(long))\n",
    "\n",
    "for i in range(0, len(lat)):\n",
    "    \n",
    "    coords_2 = (long[0], lat[0] )\n",
    "    coords_1 = (long[i], lat[i])\n",
    "    Dist[i]=geopy.distance.geodesic(coords_1, coords_2).km\n",
    "\n",
    "    \n",
    "import seaborn as sns\n",
    "fig, (ax1) = plt.subplots(1, 1, figsize=(2,4), sharey=True)\n",
    "ax2 = ax1.twinx()\n",
    "axx=ax2.twiny()\n",
    "max_el_h=max(topo['Elevation'])\n",
    "max_elev=topo['Elevation']==max(topo['Elevation'])\n",
    "axx.plot(Dist, -topo['Elevation'], '-r', lw=1)\n",
    "axx.plot(Dist, 0*Dist, '-k', lw=0.5)\n",
    "axx.plot([Dist[0], Dist[-1]], [0, 0], '-k', lw=0.5)\n",
    "axx.plot([Dist[0], Dist[0]], [0, -topo['Elevation'].iloc[0]], '-r', lw=0.5)\n",
    "axx.plot([Dist[-1], Dist[-1]], [0, -topo['Elevation'].iloc[-1]], '-r', lw=0.5)\n",
    "Dist_max=Dist[max_elev]\n",
    "#axx.errorbar(Dist_max[0], [-max_el_h-1], xerr=5, capsize=5, color='k')\n",
    "ax1.set_ylim([P_axis_max, P_axis_min])\n",
    "ax2.set_ylim([D_axis_max, D_axis_min])\n",
    "axx.set_ylim([D_axis_max, D_axis_min])\n",
    "axx.set_xlim([Dist_max[0]-15, Dist_max[0]+15])\n",
    "ax1.set_xlim([-0.5, 0.5])\n",
    "\n",
    "ax1.set_xlabel(None)\n",
    "ax1.set_ylabel(None)\n",
    "ax1.tick_params(direction=\"in\")\n",
    "ax2.tick_params(direction=\"in\")\n",
    "#ax1.grid(color = 'k', linestyle = '--', axis='y',linewidth = 1, alpha = 0.1, zorder=0)\n",
    "ax2.set_yticks([])\n",
    "ax1.set_yticks([])\n",
    "axx.set_yticks([])\n",
    "ax2.set_xticks([])\n",
    "ax1.set_xticks([])\n",
    "axx.set_xticks([])\n",
    "ax1.plot([-0.5, 0.5], [10, 10], '-k', lw=0.3)\n",
    "ax1.plot([-0.5, 0.5], [0, 0], '-k', lw=0.3)\n",
    "\n",
    "ax1.set_frame_on(False)\n",
    "ax2.set_frame_on(False)\n",
    "axx.set_frame_on(False)\n",
    "\n",
    "fig.savefig('MedicineLake_Topo.png', dpi=200, transparent=True)"
   ]
  },
  {
   "cell_type": "markdown",
   "id": "0ef4f9d1-596c-43cf-b089-48b09b340b9a",
   "metadata": {},
   "source": [
    "## Crater Lake"
   ]
  },
  {
   "cell_type": "code",
   "execution_count": 34,
   "id": "d6ee2274-e79d-4634-a5a5-6adb13f3a316",
   "metadata": {},
   "outputs": [
    {
     "data": {
      "image/png": "[encoded data removed]",
      "text/plain": [
       "<Figure size 300x400 with 3 Axes>"
      ]
     },
     "metadata": {},
     "output_type": "display_data"
    }
   ],
   "source": [
    "import geopy.distance\n",
    "topo=pd.read_excel('Topography_GIS.xlsx', sheet_name='Crater Lake')\n",
    "topo['Elevation']=topo['Elevation_m']/1000\n",
    "lat=topo['Lat']\n",
    "long=topo['Long']\n",
    "Dist=np.empty(len(long))\n",
    "\n",
    "for i in range(0, len(lat)):\n",
    "    \n",
    "    coords_2 = (long[0], lat[0] )\n",
    "    coords_1 = (long[i], lat[i])\n",
    "    Dist[i]=geopy.distance.geodesic(coords_1, coords_2).km\n",
    "\n",
    "    \n",
    "import seaborn as sns\n",
    "fig, (ax1) = plt.subplots(1, 1, figsize=(3,4), sharey=True)\n",
    "ax2 = ax1.twinx()\n",
    "axx=ax2.twiny()\n",
    "max_el_h=max(topo['Elevation'])\n",
    "max_elev=topo['Elevation']==max(topo['Elevation'])\n",
    "axx.plot(Dist, -topo['Elevation'], '-r', lw=1)\n",
    "axx.plot(Dist, 0*Dist, '-k', lw=0.5)\n",
    "axx.plot([Dist[0], Dist[-1]], [0, 0], '-k', lw=0.5)\n",
    "axx.plot([Dist[0], Dist[0]], [0, -topo['Elevation'].iloc[0]], '-r', lw=0.5)\n",
    "axx.plot([Dist[-1], Dist[-1]], [0, -topo['Elevation'].iloc[-1]], '-r', lw=0.5)\n",
    "Dist_max=Dist[max_elev]\n",
    "#axx.errorbar(Dist_max[0], [-max_el_h-1], xerr=5, capsize=5, color='k')\n",
    "ax1.set_ylim([P_axis_max, P_axis_min])\n",
    "ax2.set_ylim([D_axis_max, D_axis_min])\n",
    "axx.set_ylim([D_axis_max, D_axis_min])\n",
    "axx.set_xlim([Dist_max[0]-20, Dist_max[0]+10])\n",
    "ax1.set_xlim([-0.5, 0.5])\n",
    "\n",
    "ax1.set_xlabel(None)\n",
    "ax1.set_ylabel(None)\n",
    "ax1.tick_params(direction=\"in\")\n",
    "ax2.tick_params(direction=\"in\")\n",
    "#ax1.grid(color = 'k', linestyle = '--', axis='y',linewidth = 1, alpha = 0.1, zorder=0)\n",
    "ax2.set_yticks([])\n",
    "ax1.set_yticks([])\n",
    "axx.set_yticks([])\n",
    "ax2.set_xticks([])\n",
    "ax1.set_xticks([])\n",
    "axx.set_xticks([])\n",
    "\n",
    "ax1.set_frame_on(False)\n",
    "ax2.set_frame_on(False)\n",
    "axx.set_frame_on(False)\n",
    "ax1.plot([-0.5, 0.5], [10, 10], '-k', lw=0.3)\n",
    "ax1.plot([-0.5, 0.5], [0, 0], '-k', lw=0.3)\n",
    "\n",
    "fig.savefig('CraterLake_Topo.png', dpi=200, transparent=True)"
   ]
  },
  {
   "cell_type": "markdown",
   "id": "f963db1f-30c9-467e-836e-d213d235daf6",
   "metadata": {},
   "source": [
    "## Thre sisters"
   ]
  },
  {
   "cell_type": "code",
   "execution_count": 35,
   "id": "1a6189cd-47ac-4cb3-925a-e76a0fbad784",
   "metadata": {},
   "outputs": [
    {
     "data": {
      "image/png": "[encoded data removed]",
      "text/plain": [
       "<Figure size 300x400 with 3 Axes>"
      ]
     },
     "metadata": {},
     "output_type": "display_data"
    }
   ],
   "source": [
    "import geopy.distance\n",
    "topo=pd.read_excel('Topography_GIS.xlsx', sheet_name='3 Sisters')\n",
    "topo['Elevation']=topo['Elevation_m']/1000\n",
    "lat=topo['Lat']\n",
    "long=topo['Long']\n",
    "Dist=np.empty(len(long))\n",
    "\n",
    "for i in range(0, len(lat)):\n",
    "    \n",
    "    coords_2 = (long[0], lat[0] )\n",
    "    coords_1 = (long[i], lat[i])\n",
    "    Dist[i]=geopy.distance.geodesic(coords_1, coords_2).km\n",
    "\n",
    "    \n",
    "import seaborn as sns\n",
    "fig, (ax1) = plt.subplots(1, 1, figsize=(3,4), sharey=True)\n",
    "ax2 = ax1.twinx()\n",
    "axx=ax2.twiny()\n",
    "max_el_h=max(topo['Elevation'])\n",
    "max_elev=topo['Elevation']==max(topo['Elevation'])\n",
    "axx.plot(Dist, -topo['Elevation'], '-r', lw=1)\n",
    "axx.plot(Dist, 0*Dist, '-k', lw=0.5)\n",
    "axx.plot([Dist[0], Dist[-1]], [0, 0], '-k', lw=0.5)\n",
    "axx.plot([Dist[0], Dist[0]], [0, -topo['Elevation'].iloc[0]], '-r', lw=0.5)\n",
    "axx.plot([Dist[-1], Dist[-1]], [0, -topo['Elevation'].iloc[-1]], '-r', lw=0.5)\n",
    "Dist_max=Dist[max_elev]\n",
    "#axx.errorbar(Dist_max[0], [-max_el_h-1], xerr=5, capsize=5, color='k')\n",
    "ax1.set_ylim([P_axis_max, P_axis_min])\n",
    "ax2.set_ylim([D_axis_max, D_axis_min])\n",
    "axx.set_ylim([D_axis_max, D_axis_min])\n",
    "axx.set_xlim([Dist_max[0]-12, Dist_max[0]+5])\n",
    "ax1.set_xlim([-0.5, 0.5])\n",
    "\n",
    "ax1.set_xlabel(None)\n",
    "ax1.set_ylabel(None)\n",
    "ax1.tick_params(direction=\"in\")\n",
    "ax2.tick_params(direction=\"in\")\n",
    "#ax1.grid(color = 'k', linestyle = '--', axis='y',linewidth = 1, alpha = 0.1, zorder=0)\n",
    "ax2.set_yticks([])\n",
    "ax1.set_yticks([])\n",
    "axx.set_yticks([])\n",
    "ax2.set_xticks([])\n",
    "ax1.set_xticks([])\n",
    "axx.set_xticks([])\n",
    "\n",
    "ax1.set_frame_on(False)\n",
    "ax2.set_frame_on(False)\n",
    "axx.set_frame_on(False)\n",
    "ax1.plot([-0.5, 0.5], [10, 10], '-k', lw=0.3)\n",
    "ax1.plot([-0.5, 0.5], [0, 0], '-k', lw=0.3)\n",
    "\n",
    "fig.savefig('Sisters_Topo.png', dpi=200, transparent=True)"
   ]
  },
  {
   "cell_type": "code",
   "execution_count": 17,
   "id": "886940ff-ae29-4c83-8dd6-ed07529746fc",
   "metadata": {},
   "outputs": [
    {
     "data": {
      "text/plain": [
       "[<matplotlib.lines.Line2D at 0x2b1454db6d0>]"
      ]
     },
     "execution_count": 17,
     "metadata": {},
     "output_type": "execute_result"
    },
    {
     "data": {
      "image/png": "[encoded data removed]",
      "text/plain": [
       "<Figure size 300x400 with 3 Axes>"
      ]
     },
     "metadata": {},
     "output_type": "display_data"
    }
   ],
   "source": [
    "fig, (ax1) = plt.subplots(1, 1, figsize=(3,4), sharey=True)\n",
    "ax2 = ax1.twinx()\n",
    "axx=ax2.twiny()\n",
    "max_el_h=max(topo['Elevation'])\n",
    "max_elev=topo['Elevation']==max(topo['Elevation'])\n",
    "axx.plot(Dist, -topo['Elevation'], '-r', lw=1)"
   ]
  },
  {
   "cell_type": "markdown",
   "id": "c687ba51-3b74-4d84-b873-2bc804038760",
   "metadata": {},
   "source": [
    "## Jefferson"
   ]
  },
  {
   "cell_type": "code",
   "execution_count": 36,
   "id": "c8a65346-608e-4287-b92b-87380a3cd48d",
   "metadata": {},
   "outputs": [
    {
     "data": {
      "image/png": "[encoded data removed]",
      "text/plain": [
       "<Figure size 300x400 with 3 Axes>"
      ]
     },
     "metadata": {},
     "output_type": "display_data"
    }
   ],
   "source": [
    "import geopy.distance\n",
    "topo=pd.read_excel('Topography_GIS.xlsx', sheet_name='Mt. Jefferson')\n",
    "topo['Elevation']=topo['Elevation_m']/1000\n",
    "lat=topo['Lat']\n",
    "long=topo['Long']\n",
    "Dist=np.empty(len(long))\n",
    "\n",
    "for i in range(0, len(lat)):\n",
    "    \n",
    "    coords_2 = (long[0], lat[0] )\n",
    "    coords_1 = (long[i], lat[i])\n",
    "    Dist[i]=geopy.distance.geodesic(coords_1, coords_2).km\n",
    "\n",
    "    \n",
    "import seaborn as sns\n",
    "fig, (ax1) = plt.subplots(1, 1, figsize=(3,4), sharey=True)\n",
    "ax2 = ax1.twinx()\n",
    "axx=ax2.twiny()\n",
    "max_el_h=max(topo['Elevation'])\n",
    "max_elev=topo['Elevation']==max(topo['Elevation'])\n",
    "axx.plot(Dist, -topo['Elevation'], '-r', lw=1)\n",
    "axx.plot(Dist, 0*Dist, '-k', lw=0.5)\n",
    "axx.plot([Dist[0], Dist[-1]], [0, 0], '-k', lw=0.5)\n",
    "axx.plot([Dist[0], Dist[0]], [0, -topo['Elevation'].iloc[0]], '-r', lw=0.5)\n",
    "axx.plot([Dist[-1], Dist[-1]], [0, -topo['Elevation'].iloc[-1]], '-r', lw=0.5)\n",
    "Dist_max=Dist[max_elev]\n",
    "#axx.errorbar(Dist_max[0], [-max_el_h-1], xerr=5, capsize=5, color='k')\n",
    "ax1.set_ylim([P_axis_max, P_axis_min])\n",
    "ax2.set_ylim([D_axis_max, D_axis_min])\n",
    "axx.set_ylim([D_axis_max, D_axis_min])\n",
    "axx.set_xlim([Dist_max[0]-5, Dist_max[0]+5])\n",
    "ax1.set_xlim([-0.5, 0.5])\n",
    "\n",
    "ax1.set_xlabel(None)\n",
    "ax1.set_ylabel(None)\n",
    "ax1.tick_params(direction=\"in\")\n",
    "ax2.tick_params(direction=\"in\")\n",
    "#ax1.grid(color = 'k', linestyle = '--', axis='y',linewidth = 1, alpha = 0.1, zorder=0)\n",
    "ax2.set_yticks([])\n",
    "ax1.set_yticks([])\n",
    "axx.set_yticks([])\n",
    "ax2.set_xticks([])\n",
    "ax1.set_xticks([])\n",
    "axx.set_xticks([])\n",
    "\n",
    "ax1.set_frame_on(False)\n",
    "ax2.set_frame_on(False)\n",
    "axx.set_frame_on(False)\n",
    "ax1.plot([-0.5, 0.5], [10, 10], '-k', lw=0.3)\n",
    "ax1.plot([-0.5, 0.5], [0, 0], '-k', lw=0.3)\n",
    "\n",
    "fig.savefig('Jefferson_Topo.png', dpi=200, transparent=True)"
   ]
  },
  {
   "cell_type": "code",
   "execution_count": 19,
   "id": "5e6ae57f-999e-43d3-a07e-3316b2fd8ece",
   "metadata": {},
   "outputs": [
    {
     "data": {
      "image/png": "[encoded data removed]",
      "text/plain": [
       "<Figure size 300x400 with 3 Axes>"
      ]
     },
     "metadata": {},
     "output_type": "display_data"
    }
   ],
   "source": [
    "import geopy.distance\n",
    "topo=pd.read_excel('Topography_GIS.xlsx', sheet_name='M. Baker')\n",
    "topo['Elevation']=topo['Elevation_m']/1000\n",
    "lat=topo['Lat']\n",
    "long=topo['Long']\n",
    "Dist=np.empty(len(long))\n",
    "\n",
    "for i in range(0, len(lat)):\n",
    "    \n",
    "    coords_2 = (long[0], lat[0] )\n",
    "    coords_1 = (long[i], lat[i])\n",
    "    Dist[i]=geopy.distance.geodesic(coords_1, coords_2).km\n",
    "\n",
    "    \n",
    "import seaborn as sns\n",
    "fig, (ax1) = plt.subplots(1, 1, figsize=(3,4), sharey=True)\n",
    "ax2 = ax1.twinx()\n",
    "axx=ax2.twiny()\n",
    "max_el_h=max(topo['Elevation'])\n",
    "max_elev=topo['Elevation']==max(topo['Elevation'])\n",
    "axx.plot(Dist, -topo['Elevation'], '-r', lw=1)\n",
    "axx.plot(Dist, 0*Dist, '-k', lw=0.5)\n",
    "axx.plot([Dist[0], Dist[-1]], [0, 0], '-k', lw=0.5)\n",
    "axx.plot([Dist[0], Dist[0]], [0, -topo['Elevation'].iloc[0]], '-r', lw=0.5)\n",
    "axx.plot([Dist[-1], Dist[-1]], [0, -topo['Elevation'].iloc[-1]], '-r', lw=0.5)\n",
    "Dist_max=Dist[max_elev]\n",
    "#axx.errorbar(Dist_max[0], [-max_el_h-1], xerr=5, capsize=5, color='k')\n",
    "ax1.set_ylim([P_axis_max, P_axis_min])\n",
    "ax2.set_ylim([D_axis_max, D_axis_min])\n",
    "axx.set_ylim([D_axis_max, D_axis_min])\n",
    "axx.set_xlim([Dist_max[0]-7.5, Dist_max[0]+5])\n",
    "ax1.set_xlim([-0.5, 0.5])\n",
    "\n",
    "ax1.set_xlabel(None)\n",
    "ax1.set_ylabel(None)\n",
    "ax1.tick_params(direction=\"in\")\n",
    "ax2.tick_params(direction=\"in\")\n",
    "#ax1.grid(color = 'k', linestyle = '--', axis='y',linewidth = 1, alpha = 0.1, zorder=0)\n",
    "ax2.set_yticks([])\n",
    "ax1.set_yticks([])\n",
    "axx.set_yticks([])\n",
    "ax2.set_xticks([])\n",
    "ax1.set_xticks([])\n",
    "axx.set_xticks([])\n",
    "\n",
    "ax1.set_frame_on(False)\n",
    "ax2.set_frame_on(False)\n",
    "axx.set_frame_on(False)\n",
    "\n",
    "fig.savefig('Baker_Topo.png', dpi=200, transparent=True)"
   ]
  },
  {
   "cell_type": "code",
   "execution_count": 20,
   "id": "06e6e3ec-6597-47b1-88ea-2820d5e1ce79",
   "metadata": {},
   "outputs": [
    {
     "data": {
      "text/plain": [
       "[<matplotlib.lines.Line2D at 0x2b145819040>]"
      ]
     },
     "execution_count": 20,
     "metadata": {},
     "output_type": "execute_result"
    },
    {
     "data": {
      "image/png": "[encoded data removed]",
      "text/plain": [
       "<Figure size 300x400 with 3 Axes>"
      ]
     },
     "metadata": {},
     "output_type": "display_data"
    }
   ],
   "source": [
    "fig, (ax1) = plt.subplots(1, 1, figsize=(3,4), sharey=True)\n",
    "ax2 = ax1.twinx()\n",
    "axx=ax2.twiny()\n",
    "max_el_h=max(topo['Elevation'])\n",
    "max_elev=topo['Elevation']==max(topo['Elevation'])\n",
    "axx.plot(Dist, -topo['Elevation'], '-r', lw=1)"
   ]
  },
  {
   "cell_type": "code",
   "execution_count": null,
   "id": "b6b661cb-1ddf-48c3-9282-aa3792413de8",
   "metadata": {},
   "outputs": [],
   "source": []
  }
 ],
 "metadata": {
  "kernelspec": {
   "display_name": "Python 3 (ipykernel)",
   "language": "python",
   "name": "python3"
  },
  "language_info": {
   "codemirror_mode": {
    "name": "ipython",
    "version": 3
   },
   "file_extension": ".py",
   "mimetype": "text/x-python",
   "name": "python",
   "nbconvert_exporter": "python",
   "pygments_lexer": "ipython3",
   "version": "3.9.17"
  }
 },
 "nbformat": 4,
 "nbformat_minor": 5
}
