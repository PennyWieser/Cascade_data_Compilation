{
 "cells": [
  {
   "cell_type": "code",
   "execution_count": 1,
   "id": "007b59bc-e50a-4449-974e-694e2cb0ed22",
   "metadata": {},
   "outputs": [],
   "source": [
    "#!pip install Thermobar"
   ]
  },
  {
   "cell_type": "code",
   "execution_count": 2,
   "id": "17043dc2-4a7b-4c3b-9600-2fbb35b3d60c",
   "metadata": {},
   "outputs": [],
   "source": [
    "import Thermobar as pt\n",
    "import pandas as pd\n",
    "import numpy as np\n",
    "import matplotlib.pyplot as plt"
   ]
  },
  {
   "cell_type": "markdown",
   "id": "6a903025-9eea-4941-89ef-fcbe6624ef17",
   "metadata": {},
   "source": [
    "## Mt Baker"
   ]
  },
  {
   "cell_type": "code",
   "execution_count": 3,
   "id": "b152a237-3285-4816-97ef-c40d93641ca1",
   "metadata": {},
   "outputs": [
    {
     "name": "stdout",
     "output_type": "stream",
     "text": [
      "['Px' 'Amp']\n"
     ]
    },
    {
     "data": {
      "image/png": "[encoded data removed]",
      "text/plain": [
       "<Figure size 432x288 with 1 Axes>"
      ]
     },
     "metadata": {
      "needs_background": "light"
     },
     "output_type": "display_data"
    }
   ],
   "source": [
    "import warnings as w\n",
    "with w.catch_warnings():\n",
    "    w.simplefilter('ignore')\n",
    "\n",
    "    Baker_read_Cpx=pt.import_excel('Baker.xlsx', sheet_name='Cpx_All')\n",
    "    Baker_Input_Cpx=Baker_read_Cpx['my_input']\n",
    "    Baker_Cpx=Baker_read_Cpx['Cpxs']\n",
    "    Baker_Cpx_copy=Baker_Cpx.copy()\n",
    "\n",
    "    ### Filtering these out.\n",
    "\n",
    "    Baker_cpx_comps=pt.calculate_clinopyroxene_components(cpx_comps=Baker_Cpx)\n",
    "    # Are a few outside 3.95 to 4.05 Cat sums, CaCaMgFe lies 0.3 - 0.55\n",
    "    Cat_Sum_Filt=(Baker_cpx_comps['Cation_Sum_Cpx'].between(3.95, 4.05))\n",
    "    Baker_Cpx_class=pt.classify_phases(df=Baker_Cpx, return_end_members=True,\n",
    "                            str_to_drop='_Cpx')\n",
    "    print(Baker_Cpx_class['Phase_Min_Group_ML'].unique())\n",
    "\n",
    "    Baker_cpx_filt=Baker_Cpx.loc[(Baker_Cpx_class['Phase_Min_Group_ML']==\"Px\")&\n",
    "                                      (Baker_Cpx_class['Ca_CaMgFe'].between(0.2, 0.5))&\n",
    "                                 Cat_Sum_Filt].reset_index(drop=True)\n",
    "\n",
    "    Baker_cpx_Press_All=pt.calculate_cpx_only_press_all_eqs(cpx_comps=Baker_cpx_filt, \n",
    "                                                            plot=True, return_cpx=False)\n",
    "\n",
    "    Baker_Input_filt=Baker_Input_Cpx.loc[((Baker_Cpx_class['Phase_Min_Group_ML']==\"Px\")&\n",
    "                                      (Baker_Cpx_class['Ca_CaMgFe'].between(0.2, 0.5))\n",
    "                                        &\n",
    "                                        Cat_Sum_Filt)].reset_index(drop=True)\n",
    "    Baker_Input_filt['Cation_sum_Cpx']=Baker_cpx_comps['Cation_Sum_Cpx']\n",
    "    Baker_Input_filt['MachineLearning_Class']=Baker_Cpx_class['Phase_Min_Group_ML']\n",
    "    Baker_Input_filt['Ca_CaMgFe']=Baker_Cpx_class['Ca_CaMgFe']\n",
    "    Baker_Combo=pd.concat([Baker_cpx_Press_All, Baker_Input_filt], axis=1)\n",
    "    Baker_Input_filt.to_clipboard(excel=True)"
   ]
  },
  {
   "cell_type": "code",
   "execution_count": 4,
   "id": "b9a11e67-9420-4738-88b4-18896e1f7800",
   "metadata": {},
   "outputs": [
    {
     "name": "stdout",
     "output_type": "stream",
     "text": [
      "['Px']\n"
     ]
    },
    {
     "data": {
      "image/png": "[encoded data removed]",
      "text/plain": [
       "<Figure size 432x288 with 1 Axes>"
      ]
     },
     "metadata": {
      "needs_background": "light"
     },
     "output_type": "display_data"
    }
   ],
   "source": [
    "with w.catch_warnings():\n",
    "    w.simplefilter('ignore')\n",
    "    Glacier_read_Cpx=pt.import_excel('Glacier.xlsx', sheet_name='Cpx_All')\n",
    "    Glacier_Input_Cpx=Glacier_read_Cpx['my_input']\n",
    "    Glacier_Cpx=Glacier_read_Cpx['Cpxs']\n",
    "    Glacier_Cpx_copy=Glacier_Cpx.copy()\n",
    "\n",
    "    ### Filtering these out.\n",
    "\n",
    "    Glacier_cpx_comps=pt.calculate_clinopyroxene_components(cpx_comps=Glacier_Cpx)\n",
    "    # Are a few outside 3.95 to 4.05 Cat sums, CaCaMgFe lies 0.3 - 0.55\n",
    "    Cat_Sum_Filt=(Glacier_cpx_comps['Cation_Sum_Cpx'].between(3.95, 4.05))\n",
    "    Glacier_Cpx_class=pt.classify_phases(df=Glacier_Cpx, return_end_members=True,\n",
    "                            str_to_drop='_Cpx')\n",
    "    print(Glacier_Cpx_class['Phase_Min_Group_ML'].unique())\n",
    "\n",
    "    Glacier_cpx_filt=Glacier_Cpx.loc[(Glacier_Cpx_class['Phase_Min_Group_ML']==\"Px\")&\n",
    "                                      (Glacier_Cpx_class['Ca_CaMgFe'].between(0.2, 0.5))&\n",
    "                                 Cat_Sum_Filt].reset_index(drop=True)\n",
    "\n",
    "    Glacier_cpx_Press_All=pt.calculate_cpx_only_press_all_eqs(cpx_comps=Glacier_cpx_filt, \n",
    "                                                            plot=True, return_cpx=False)\n",
    "\n",
    "    Glacier_Input_filt=Glacier_Input_Cpx.loc[((Glacier_Cpx_class['Phase_Min_Group_ML']==\"Px\")&\n",
    "                                      (Glacier_Cpx_class['Ca_CaMgFe'].between(0.2, 0.5))\n",
    "                                        &\n",
    "                                        Cat_Sum_Filt)].reset_index(drop=True)\n",
    "    Glacier_Input_filt['Cation_sum_Cpx']=Glacier_cpx_comps['Cation_Sum_Cpx']\n",
    "    Glacier_Input_filt['MachineLearning_Class']=Glacier_Cpx_class['Phase_Min_Group_ML']\n",
    "    Glacier_Input_filt['Ca_CaMgFe']=Glacier_Cpx_class['Ca_CaMgFe']\n",
    "    Glacier_Input_filt.to_clipboard(excel=True)\n",
    "    Glacier_Combo=pd.concat([Glacier_cpx_Press_All, Glacier_Input_filt], axis=1)"
   ]
  },
  {
   "cell_type": "markdown",
   "id": "3c3dd065-a6e6-4ecc-95fe-0ce248ee0916",
   "metadata": {},
   "source": [
    "## Mount Ranier"
   ]
  },
  {
   "cell_type": "code",
   "execution_count": 5,
   "id": "d0c0e98f-9d70-4f0c-a173-56095ee86708",
   "metadata": {},
   "outputs": [
    {
     "name": "stdout",
     "output_type": "stream",
     "text": [
      "['Px']\n"
     ]
    },
    {
     "data": {
      "image/png": "[encoded data removed]",
      "text/plain": [
       "<Figure size 432x288 with 1 Axes>"
      ]
     },
     "metadata": {
      "needs_background": "light"
     },
     "output_type": "display_data"
    }
   ],
   "source": [
    "with w.catch_warnings():\n",
    "    w.simplefilter('ignore')\n",
    "    Rainier_read_Cpx=pt.import_excel('Rainier.xlsx', sheet_name='Cpx_All')\n",
    "    Rainier_Input_Cpx=Rainier_read_Cpx['my_input']\n",
    "    Rainier_Cpx=Rainier_read_Cpx['Cpxs']\n",
    "    Rainier_Cpx_copy=Rainier_Cpx.copy()\n",
    "\n",
    "    ### Filtering these out.\n",
    "\n",
    "    Rainier_cpx_comps=pt.calculate_clinopyroxene_components(cpx_comps=Rainier_Cpx)\n",
    "    # Are a few outside 3.95 to 4.05 Cat sums, CaCaMgFe lies 0.3 - 0.55\n",
    "    Cat_Sum_Filt=(Rainier_cpx_comps['Cation_Sum_Cpx'].between(3.95, 4.05))\n",
    "    Rainier_Cpx_class=pt.classify_phases(df=Rainier_Cpx, return_end_members=True,\n",
    "                            str_to_drop='_Cpx')\n",
    "    print(Rainier_Cpx_class['Phase_Min_Group_ML'].unique())\n",
    "\n",
    "    Rainier_cpx_filt=Rainier_Cpx.loc[(Rainier_Cpx_class['Phase_Min_Group_ML']==\"Px\")&\n",
    "                                      (Rainier_Cpx_class['Ca_CaMgFe'].between(0.2, 0.5))&\n",
    "                                 Cat_Sum_Filt].reset_index(drop=True)\n",
    "\n",
    "    Rainier_cpx_Press_All=pt.calculate_cpx_only_press_all_eqs(cpx_comps=Rainier_cpx_filt, \n",
    "                                                            plot=True, return_cpx=False)\n",
    "\n",
    "    Rainier_Input_filt=Rainier_Input_Cpx.loc[((Rainier_Cpx_class['Phase_Min_Group_ML']==\"Px\")&\n",
    "                                      (Rainier_Cpx_class['Ca_CaMgFe'].between(0.2, 0.5))\n",
    "                                        &\n",
    "                                        Cat_Sum_Filt)].reset_index(drop=True)\n",
    "    Rainier_Input_filt['Cation_sum_Cpx']=Rainier_cpx_comps['Cation_Sum_Cpx']\n",
    "    Rainier_Input_filt['MachineLearning_Class']=Rainier_Cpx_class['Phase_Min_Group_ML']\n",
    "    Rainier_Input_filt['Ca_CaMgFe']=Rainier_Cpx_class['Ca_CaMgFe']\n",
    "    Rainier_Input_filt.to_clipboard(excel=True)\n",
    "    Rainier_Combo=pd.concat([Rainier_cpx_Press_All, Rainier_Input_filt], axis=1)"
   ]
  },
  {
   "cell_type": "markdown",
   "id": "52d13963-3eee-493f-9b88-e4ec3b451213",
   "metadata": {},
   "source": [
    "## Mount St Helens\n",
    "- Need to type up still"
   ]
  },
  {
   "cell_type": "code",
   "execution_count": 6,
   "id": "67471bda-6fd0-4e12-ae40-8add3b738c0e",
   "metadata": {},
   "outputs": [
    {
     "name": "stdout",
     "output_type": "stream",
     "text": [
      "['Px' 'Amp']\n"
     ]
    },
    {
     "data": {
      "image/png": "[encoded data removed]",
      "text/plain": [
       "<Figure size 432x288 with 1 Axes>"
      ]
     },
     "metadata": {
      "needs_background": "light"
     },
     "output_type": "display_data"
    }
   ],
   "source": [
    "with w.catch_warnings():\n",
    "    w.simplefilter('ignore')\n",
    "    MSH_read_Cpx=pt.import_excel('MSH.xlsx', sheet_name='Cpx_All')\n",
    "    MSH_Input_Cpx=MSH_read_Cpx['my_input']\n",
    "    MSH_Cpx=MSH_read_Cpx['Cpxs']\n",
    "    MSH_Cpx_copy=MSH_Cpx.copy()\n",
    "\n",
    "    ### Filtering these out.\n",
    "\n",
    "    MSH_cpx_comps=pt.calculate_clinopyroxene_components(cpx_comps=MSH_Cpx)\n",
    "    # Are a few outside 3.95 to 4.05 Cat sums, CaCaMgFe lies 0.3 - 0.55\n",
    "    Cat_Sum_Filt=(MSH_cpx_comps['Cation_Sum_Cpx'].between(3.95, 4.05))\n",
    "    MSH_Cpx_class=pt.classify_phases(df=MSH_Cpx, return_end_members=True,\n",
    "                            str_to_drop='_Cpx')\n",
    "    print(MSH_Cpx_class['Phase_Min_Group_ML'].unique())\n",
    "\n",
    "    MSH_cpx_filt=MSH_Cpx.loc[(MSH_Cpx_class['Phase_Min_Group_ML']==\"Px\")&\n",
    "                                      (MSH_Cpx_class['Ca_CaMgFe'].between(0.2, 0.5))&\n",
    "                                 Cat_Sum_Filt].reset_index(drop=True)\n",
    "\n",
    "    MSH_cpx_Press_All=pt.calculate_cpx_only_press_all_eqs(cpx_comps=MSH_cpx_filt, \n",
    "                                                            plot=True, return_cpx=False)\n",
    "\n",
    "    MSH_Input_filt=MSH_Input_Cpx.loc[((MSH_Cpx_class['Phase_Min_Group_ML']==\"Px\")&\n",
    "                                      (MSH_Cpx_class['Ca_CaMgFe'].between(0.2, 0.5))\n",
    "                                        &\n",
    "                                        Cat_Sum_Filt)].reset_index(drop=True)\n",
    "    MSH_Input_filt['Cation_sum_Cpx']=MSH_cpx_comps['Cation_Sum_Cpx']\n",
    "    MSH_Input_filt['MachineLearning_Class']=MSH_Cpx_class['Phase_Min_Group_ML']\n",
    "    MSH_Input_filt['Ca_CaMgFe']=MSH_Cpx_class['Ca_CaMgFe']\n",
    "    MSH_Input_filt.to_clipboard(excel=True)\n",
    "    MSH_Combo=pd.concat([MSH_cpx_Press_All, MSH_Input_filt], axis=1)"
   ]
  },
  {
   "cell_type": "markdown",
   "id": "f8ffa2f8-cf78-463e-a315-bffa1a4c0621",
   "metadata": {},
   "source": [
    "## Mount Adams\n",
    "- All from Hildreth and Fiersten. "
   ]
  },
  {
   "cell_type": "code",
   "execution_count": 7,
   "id": "0ce8e0ab-c84c-4f6d-85dd-e15c059ee42c",
   "metadata": {},
   "outputs": [
    {
     "name": "stdout",
     "output_type": "stream",
     "text": [
      "['Px' 'Amp']\n"
     ]
    },
    {
     "data": {
      "image/png": "[encoded data removed]",
      "text/plain": [
       "<Figure size 432x288 with 1 Axes>"
      ]
     },
     "metadata": {
      "needs_background": "light"
     },
     "output_type": "display_data"
    }
   ],
   "source": [
    "with w.catch_warnings():\n",
    "    w.simplefilter('ignore')\n",
    "    Adams_read_Cpx=pt.import_excel('Adams.xlsx', sheet_name='Cpx_All')\n",
    "    Adams_Input_Cpx=Adams_read_Cpx['my_input']\n",
    "    Adams_Cpx=Adams_read_Cpx['Cpxs']\n",
    "    Adams_Cpx_copy=Adams_Cpx.copy()\n",
    "\n",
    "    ### Filtering these out.\n",
    "\n",
    "    Adams_cpx_comps=pt.calculate_clinopyroxene_components(cpx_comps=Adams_Cpx)\n",
    "    # Are a few outside 3.95 to 4.05 Cat sums, CaCaMgFe lies 0.3 - 0.55\n",
    "    Cat_Sum_Filt=(Adams_cpx_comps['Cation_Sum_Cpx'].between(3.95, 4.05))\n",
    "    Adams_Cpx_class=pt.classify_phases(df=Adams_Cpx, return_end_members=True,\n",
    "                            str_to_drop='_Cpx')\n",
    "    print(Adams_Cpx_class['Phase_Min_Group_ML'].unique())\n",
    "\n",
    "    Adams_cpx_filt=Adams_Cpx.loc[(Adams_Cpx_class['Phase_Min_Group_ML']==\"Px\")&\n",
    "                                      (Adams_Cpx_class['Ca_CaMgFe'].between(0.2, 0.5))&\n",
    "                                 Cat_Sum_Filt].reset_index(drop=True)\n",
    "\n",
    "    Adams_cpx_Press_All=pt.calculate_cpx_only_press_all_eqs(cpx_comps=Adams_cpx_filt, \n",
    "                                                            plot=True, return_cpx=False)\n",
    "\n",
    "    Adams_Input_filt=Adams_Input_Cpx.loc[((Adams_Cpx_class['Phase_Min_Group_ML']==\"Px\")&\n",
    "                                      (Adams_Cpx_class['Ca_CaMgFe'].between(0.2, 0.5))\n",
    "                                        &\n",
    "                                        Cat_Sum_Filt)].reset_index(drop=True)\n",
    "    Adams_Input_filt['Cation_sum_Cpx']=Adams_cpx_comps['Cation_Sum_Cpx']\n",
    "    Adams_Input_filt['MachineLearning_Class']=Adams_Cpx_class['Phase_Min_Group_ML']\n",
    "    Adams_Input_filt['Ca_CaMgFe']=Adams_Cpx_class['Ca_CaMgFe']\n",
    "    Adams_Input_filt.to_clipboard(excel=True)\n",
    "    Adams_Combo=pd.concat([Adams_cpx_Press_All, Adams_Input_filt], axis=1)"
   ]
  },
  {
   "cell_type": "code",
   "execution_count": 8,
   "id": "d4274c07-0609-4adb-9b86-4836bbf0a6a7",
   "metadata": {},
   "outputs": [
    {
     "data": {
      "text/html": [
       "<div>\n",
       "<style scoped>\n",
       "    .dataframe tbody tr th:only-of-type {\n",
       "        vertical-align: middle;\n",
       "    }\n",
       "\n",
       "    .dataframe tbody tr th {\n",
       "        vertical-align: top;\n",
       "    }\n",
       "\n",
       "    .dataframe thead th {\n",
       "        text-align: right;\n",
       "    }\n",
       "</style>\n",
       "<table border=\"1\" class=\"dataframe\">\n",
       "  <thead>\n",
       "    <tr style=\"text-align: right;\">\n",
       "      <th></th>\n",
       "      <th>SiO2_input</th>\n",
       "      <th>TiO2_input</th>\n",
       "      <th>Al2O3_input</th>\n",
       "      <th>FeOt_input</th>\n",
       "      <th>MnO_input</th>\n",
       "      <th>MgO_input</th>\n",
       "      <th>CaO_input</th>\n",
       "      <th>Na2O_input</th>\n",
       "      <th>K2O_input</th>\n",
       "      <th>Ca_B</th>\n",
       "      <th>...</th>\n",
       "      <th>Cation_Sum_Cpx</th>\n",
       "      <th>Ca_CaMgFe</th>\n",
       "      <th>Sum_Oxides</th>\n",
       "      <th>Phase_Min_Group_ML</th>\n",
       "      <th>Phase_Mineral</th>\n",
       "      <th>Ab</th>\n",
       "      <th>An</th>\n",
       "      <th>Or</th>\n",
       "      <th>Fspar_Class</th>\n",
       "      <th>Ca/CaMgFe</th>\n",
       "    </tr>\n",
       "  </thead>\n",
       "  <tbody>\n",
       "    <tr>\n",
       "      <th>221</th>\n",
       "      <td>53.880</td>\n",
       "      <td>0.818</td>\n",
       "      <td>5.356</td>\n",
       "      <td>11.326</td>\n",
       "      <td>0.311</td>\n",
       "      <td>15.250</td>\n",
       "      <td>10.117</td>\n",
       "      <td>0.815</td>\n",
       "      <td>0.0</td>\n",
       "      <td>1.533708</td>\n",
       "      <td>...</td>\n",
       "      <td>3.901258</td>\n",
       "      <td>0.251822</td>\n",
       "      <td>97.896</td>\n",
       "      <td>Amp</td>\n",
       "      <td>Mg-Hornblende</td>\n",
       "      <td>N/A</td>\n",
       "      <td>N/A</td>\n",
       "      <td>N/A</td>\n",
       "      <td>N/A</td>\n",
       "      <td>N/A</td>\n",
       "    </tr>\n",
       "    <tr>\n",
       "      <th>486</th>\n",
       "      <td>50.103</td>\n",
       "      <td>0.079</td>\n",
       "      <td>1.279</td>\n",
       "      <td>1.847</td>\n",
       "      <td>0.377</td>\n",
       "      <td>13.218</td>\n",
       "      <td>19.414</td>\n",
       "      <td>0.303</td>\n",
       "      <td>0.0</td>\n",
       "      <td>3.293826</td>\n",
       "      <td>...</td>\n",
       "      <td>3.908882</td>\n",
       "      <td>0.494669</td>\n",
       "      <td>86.620</td>\n",
       "      <td>Amp</td>\n",
       "      <td>Mg-Hornblende</td>\n",
       "      <td>N/A</td>\n",
       "      <td>N/A</td>\n",
       "      <td>N/A</td>\n",
       "      <td>N/A</td>\n",
       "      <td>N/A</td>\n",
       "    </tr>\n",
       "    <tr>\n",
       "      <th>714</th>\n",
       "      <td>51.952</td>\n",
       "      <td>0.601</td>\n",
       "      <td>1.752</td>\n",
       "      <td>9.096</td>\n",
       "      <td>0.268</td>\n",
       "      <td>15.616</td>\n",
       "      <td>16.980</td>\n",
       "      <td>0.343</td>\n",
       "      <td>0.0</td>\n",
       "      <td>2.656039</td>\n",
       "      <td>...</td>\n",
       "      <td>3.977567</td>\n",
       "      <td>0.370687</td>\n",
       "      <td>96.619</td>\n",
       "      <td>Amp</td>\n",
       "      <td>Mg-Hornblende</td>\n",
       "      <td>N/A</td>\n",
       "      <td>N/A</td>\n",
       "      <td>N/A</td>\n",
       "      <td>N/A</td>\n",
       "      <td>N/A</td>\n",
       "    </tr>\n",
       "    <tr>\n",
       "      <th>968</th>\n",
       "      <td>52.395</td>\n",
       "      <td>0.514</td>\n",
       "      <td>3.936</td>\n",
       "      <td>12.865</td>\n",
       "      <td>0.454</td>\n",
       "      <td>15.021</td>\n",
       "      <td>12.715</td>\n",
       "      <td>0.240</td>\n",
       "      <td>0.0</td>\n",
       "      <td>1.959436</td>\n",
       "      <td>...</td>\n",
       "      <td>3.941327</td>\n",
       "      <td>0.291256</td>\n",
       "      <td>98.140</td>\n",
       "      <td>Amp</td>\n",
       "      <td>Mg-Hornblende</td>\n",
       "      <td>N/A</td>\n",
       "      <td>N/A</td>\n",
       "      <td>N/A</td>\n",
       "      <td>N/A</td>\n",
       "      <td>N/A</td>\n",
       "    </tr>\n",
       "  </tbody>\n",
       "</table>\n",
       "<p>4 rows × 22 columns</p>\n",
       "</div>"
      ],
      "text/plain": [
       "     SiO2_input  TiO2_input  Al2O3_input  FeOt_input  MnO_input  MgO_input  \\\n",
       "221      53.880       0.818        5.356      11.326      0.311     15.250   \n",
       "486      50.103       0.079        1.279       1.847      0.377     13.218   \n",
       "714      51.952       0.601        1.752       9.096      0.268     15.616   \n",
       "968      52.395       0.514        3.936      12.865      0.454     15.021   \n",
       "\n",
       "     CaO_input  Na2O_input  K2O_input      Ca_B  ...  Cation_Sum_Cpx  \\\n",
       "221     10.117       0.815        0.0  1.533708  ...        3.901258   \n",
       "486     19.414       0.303        0.0  3.293826  ...        3.908882   \n",
       "714     16.980       0.343        0.0  2.656039  ...        3.977567   \n",
       "968     12.715       0.240        0.0  1.959436  ...        3.941327   \n",
       "\n",
       "     Ca_CaMgFe  Sum_Oxides  Phase_Min_Group_ML  Phase_Mineral   Ab   An   Or  \\\n",
       "221   0.251822      97.896                 Amp  Mg-Hornblende  N/A  N/A  N/A   \n",
       "486   0.494669      86.620                 Amp  Mg-Hornblende  N/A  N/A  N/A   \n",
       "714   0.370687      96.619                 Amp  Mg-Hornblende  N/A  N/A  N/A   \n",
       "968   0.291256      98.140                 Amp  Mg-Hornblende  N/A  N/A  N/A   \n",
       "\n",
       "    Fspar_Class Ca/CaMgFe  \n",
       "221         N/A       N/A  \n",
       "486         N/A       N/A  \n",
       "714         N/A       N/A  \n",
       "968         N/A       N/A  \n",
       "\n",
       "[4 rows x 22 columns]"
      ]
     },
     "execution_count": 8,
     "metadata": {},
     "output_type": "execute_result"
    }
   ],
   "source": [
    "Adams_Cpx_class.loc[Adams_Cpx_class['Phase_Min_Group_ML']==\"Amp\"]"
   ]
  },
  {
   "cell_type": "code",
   "execution_count": 9,
   "id": "b29e46e9-67ff-4fad-9b07-adf041ceec81",
   "metadata": {},
   "outputs": [
    {
     "data": {
      "text/plain": [
       "Text(0, 0.5, 'Na2O')"
      ]
     },
     "execution_count": 9,
     "metadata": {},
     "output_type": "execute_result"
    },
    {
     "data": {
      "image/png": "[encoded data removed]",
      "text/plain": [
       "<Figure size 432x288 with 1 Axes>"
      ]
     },
     "metadata": {
      "needs_background": "light"
     },
     "output_type": "display_data"
    }
   ],
   "source": [
    "Adams_Amp=Adams_Cpx_class.loc[Adams_Cpx_class['Phase_Min_Group_ML']==\"Amp\"]\n",
    "Adams_Cpx=Adams_Cpx_class.loc[Adams_Cpx_class['Phase_Mineral']==\"Cpx\"]\n",
    "Adams_Opx=Adams_Cpx_class.loc[Adams_Cpx_class['Phase_Mineral']==\"Opx\"]\n",
    "plt.plot(Adams_Amp['SiO2_input'], Adams_Amp['Na2O_input'], '.b')\n",
    "plt.plot(Adams_Cpx['SiO2_input'], Adams_Cpx['Na2O_input'], '.g')\n",
    "plt.plot(Adams_Opx['SiO2_input'], Adams_Opx['Na2O_input'], '.r')\n",
    "plt.xlabel(\"SiO2\")\n",
    "plt.ylabel(\"Na2O\")"
   ]
  },
  {
   "cell_type": "markdown",
   "id": "c637d221-9d57-4e24-ad31-db077291202d",
   "metadata": {},
   "source": [
    "## Mount Hood"
   ]
  },
  {
   "cell_type": "code",
   "execution_count": 10,
   "id": "0e93d47a-a05c-4094-8186-04a17a34beff",
   "metadata": {},
   "outputs": [
    {
     "name": "stdout",
     "output_type": "stream",
     "text": [
      "['Px' 'Amp']\n"
     ]
    },
    {
     "data": {
      "image/png": "[encoded data removed]",
      "text/plain": [
       "<Figure size 432x288 with 1 Axes>"
      ]
     },
     "metadata": {
      "needs_background": "light"
     },
     "output_type": "display_data"
    }
   ],
   "source": [
    "with w.catch_warnings():\n",
    "    w.simplefilter('ignore')\n",
    "    Hood_read_Cpx=pt.import_excel('Hood.xlsx', sheet_name='Cpx_All')\n",
    "    Hood_Input_Cpx=Hood_read_Cpx['my_input']\n",
    "    Hood_Cpx=Hood_read_Cpx['Cpxs']\n",
    "    Hood_Cpx_copy=Hood_Cpx.copy()\n",
    "\n",
    "    ### Filtering these out.\n",
    "\n",
    "    Hood_cpx_comps=pt.calculate_clinopyroxene_components(cpx_comps=Hood_Cpx)\n",
    "    # Are a few outside 3.95 to 4.05 Cat sums, CaCaMgFe lies 0.3 - 0.55\n",
    "    Cat_Sum_Filt=(Hood_cpx_comps['Cation_Sum_Cpx'].between(3.95, 4.05))\n",
    "    Hood_Cpx_class=pt.classify_phases(df=Hood_Cpx, return_end_members=True,\n",
    "                            str_to_drop='_Cpx')\n",
    "    print(Hood_Cpx_class['Phase_Min_Group_ML'].unique())\n",
    "\n",
    "    Hood_cpx_filt=Hood_Cpx.loc[(Hood_Cpx_class['Phase_Min_Group_ML']==\"Px\")&\n",
    "                                      (Hood_Cpx_class['Ca_CaMgFe'].between(0.2, 0.5))&\n",
    "                                 Cat_Sum_Filt].reset_index(drop=True)\n",
    "\n",
    "    Hood_cpx_Press_All=pt.calculate_cpx_only_press_all_eqs(cpx_comps=Hood_cpx_filt, \n",
    "                                                            plot=True, return_cpx=False)\n",
    "\n",
    "    Hood_Input_filt=Hood_Input_Cpx.loc[((Hood_Cpx_class['Phase_Min_Group_ML']==\"Px\")&\n",
    "                                      (Hood_Cpx_class['Ca_CaMgFe'].between(0.2, 0.5))\n",
    "                                        &\n",
    "                                        Cat_Sum_Filt)].reset_index(drop=True)\n",
    "    Hood_Input_filt['Cation_sum_Cpx']=Hood_cpx_comps['Cation_Sum_Cpx']\n",
    "    Hood_Input_filt['MachineLearning_Class']=Hood_Cpx_class['Phase_Min_Group_ML']\n",
    "    Hood_Input_filt['Ca_CaMgFe']=Hood_Cpx_class['Ca_CaMgFe']\n",
    "    Hood_Input_filt.to_clipboard(excel=True)\n",
    "    Hood_Combo=pd.concat([Hood_cpx_Press_All, Hood_Input_filt], axis=1)"
   ]
  },
  {
   "cell_type": "code",
   "execution_count": 11,
   "id": "200e585c-c841-4170-bffa-ac376286c425",
   "metadata": {},
   "outputs": [
    {
     "data": {
      "text/plain": [
       "array(['Darr_2006_Thesis', 'Cribb_1997_Thesis'], dtype=object)"
      ]
     },
     "execution_count": 11,
     "metadata": {},
     "output_type": "execute_result"
    }
   ],
   "source": [
    "Hood_Input_Cpx['Reference'].unique()"
   ]
  },
  {
   "cell_type": "markdown",
   "id": "0d4c2b58-dd8b-41a5-984d-4085a9215674",
   "metadata": {},
   "source": [
    "## Mount Jefferson"
   ]
  },
  {
   "cell_type": "code",
   "execution_count": 12,
   "id": "4917fb2e-6111-4eb6-a96a-cc4df68aa2a7",
   "metadata": {},
   "outputs": [
    {
     "name": "stdout",
     "output_type": "stream",
     "text": [
      "['Px' 'Amp']\n"
     ]
    },
    {
     "data": {
      "image/png": "[encoded data removed]",
      "text/plain": [
       "<Figure size 432x288 with 1 Axes>"
      ]
     },
     "metadata": {
      "needs_background": "light"
     },
     "output_type": "display_data"
    }
   ],
   "source": [
    "with w.catch_warnings():\n",
    "    w.simplefilter('ignore')\n",
    "    Jefferson_read_Cpx=pt.import_excel('Jefferson.xlsx', sheet_name='Cpx_All')\n",
    "    Jefferson_Input_Cpx=Jefferson_read_Cpx['my_input']\n",
    "    Jefferson_Cpx=Jefferson_read_Cpx['Cpxs']\n",
    "    Jefferson_Cpx_copy=Jefferson_Cpx.copy()\n",
    "\n",
    "    ### Filtering these out.\n",
    "\n",
    "    Jefferson_cpx_comps=pt.calculate_clinopyroxene_components(cpx_comps=Jefferson_Cpx)\n",
    "    # Are a few outside 3.95 to 4.05 Cat sums, CaCaMgFe lies 0.3 - 0.55\n",
    "    Cat_Sum_Filt=(Jefferson_cpx_comps['Cation_Sum_Cpx'].between(3.95, 4.05))\n",
    "    Jefferson_Cpx_class=pt.classify_phases(df=Jefferson_Cpx, return_end_members=True,\n",
    "                            str_to_drop='_Cpx')\n",
    "    print(Jefferson_Cpx_class['Phase_Min_Group_ML'].unique())\n",
    "\n",
    "    Jefferson_cpx_filt=Jefferson_Cpx.loc[(Jefferson_Cpx_class['Phase_Min_Group_ML']==\"Px\")&\n",
    "                                      (Jefferson_Cpx_class['Ca_CaMgFe'].between(0.2, 0.5))&\n",
    "                                 Cat_Sum_Filt].reset_index(drop=True)\n",
    "\n",
    "    Jefferson_cpx_Press_All=pt.calculate_cpx_only_press_all_eqs(cpx_comps=Jefferson_cpx_filt, \n",
    "                                                            plot=True, return_cpx=False)\n",
    "\n",
    "    Jefferson_Input_filt=Jefferson_Input_Cpx.loc[((Jefferson_Cpx_class['Phase_Min_Group_ML']==\"Px\")&\n",
    "                                      (Jefferson_Cpx_class['Ca_CaMgFe'].between(0.2, 0.5))\n",
    "                                        &\n",
    "                                        Cat_Sum_Filt)].reset_index(drop=True)\n",
    "    Jefferson_Input_filt['Cation_sum_Cpx']=Jefferson_cpx_comps['Cation_Sum_Cpx']\n",
    "    Jefferson_Input_filt['MachineLearning_Class']=Jefferson_Cpx_class['Phase_Min_Group_ML']\n",
    "    Jefferson_Input_filt['Ca_CaMgFe']=Jefferson_Cpx_class['Ca_CaMgFe']\n",
    "    Jefferson_Input_filt.to_clipboard(excel=True)\n",
    "    Jefferson_Combo=pd.concat([Jefferson_cpx_Press_All, Jefferson_Input_filt], axis=1)"
   ]
  },
  {
   "cell_type": "code",
   "execution_count": 13,
   "id": "13c0f04b-2b7a-4e11-87c3-eddac5c60629",
   "metadata": {},
   "outputs": [
    {
     "data": {
      "text/plain": [
       "array(['DiGuilio_2015', 'Ustunisik_et_al_2016'], dtype=object)"
      ]
     },
     "execution_count": 13,
     "metadata": {},
     "output_type": "execute_result"
    }
   ],
   "source": [
    "Jefferson_Input_Cpx['Reference'].unique()"
   ]
  },
  {
   "cell_type": "markdown",
   "id": "d5d4c515-fd29-4bcf-89f3-7e8ba736cd1f",
   "metadata": {},
   "source": [
    "## North Sister"
   ]
  },
  {
   "cell_type": "code",
   "execution_count": 14,
   "id": "a1860936-c65e-4c0a-85cd-e252d87e36cb",
   "metadata": {},
   "outputs": [
    {
     "name": "stdout",
     "output_type": "stream",
     "text": [
      "['Px']\n"
     ]
    },
    {
     "data": {
      "image/png": "[encoded data removed]",
      "text/plain": [
       "<Figure size 432x288 with 1 Axes>"
      ]
     },
     "metadata": {
      "needs_background": "light"
     },
     "output_type": "display_data"
    }
   ],
   "source": [
    "with w.catch_warnings():\n",
    "    w.simplefilter('ignore')\n",
    "    NorthSister_read_Cpx=pt.import_excel('Mid_NorthSister.xlsx', sheet_name='Cpx_All')\n",
    "    NorthSister_Input_Cpx=NorthSister_read_Cpx['my_input']\n",
    "    NorthSister_Cpx=NorthSister_read_Cpx['Cpxs']\n",
    "    NorthSister_Cpx_copy=NorthSister_Cpx.copy()\n",
    "\n",
    "    ### Filtering these out.\n",
    "\n",
    "    NorthSister_cpx_comps=pt.calculate_clinopyroxene_components(cpx_comps=NorthSister_Cpx)\n",
    "    # Are a few outside 3.95 to 4.05 Cat sums, CaCaMgFe lies 0.3 - 0.55\n",
    "    Cat_Sum_Filt=(NorthSister_cpx_comps['Cation_Sum_Cpx'].between(3.95, 4.05))\n",
    "    NorthSister_Cpx_class=pt.classify_phases(df=NorthSister_Cpx, return_end_members=True,\n",
    "                            str_to_drop='_Cpx')\n",
    "    print(NorthSister_Cpx_class['Phase_Min_Group_ML'].unique())\n",
    "\n",
    "    NorthSister_cpx_filt=NorthSister_Cpx.loc[(NorthSister_Cpx_class['Phase_Min_Group_ML']==\"Px\")&\n",
    "                                      (NorthSister_Cpx_class['Ca_CaMgFe'].between(0.2, 0.5))&\n",
    "                                 Cat_Sum_Filt].reset_index(drop=True)\n",
    "\n",
    "    NorthSister_cpx_Press_All=pt.calculate_cpx_only_press_all_eqs(cpx_comps=NorthSister_cpx_filt, \n",
    "                                                            plot=True, return_cpx=False)\n",
    "\n",
    "    NorthSister_Input_filt=NorthSister_Input_Cpx.loc[((NorthSister_Cpx_class['Phase_Min_Group_ML']==\"Px\")&\n",
    "                                      (NorthSister_Cpx_class['Ca_CaMgFe'].between(0.2, 0.5))\n",
    "                                        &\n",
    "                                        Cat_Sum_Filt)].reset_index(drop=True)\n",
    "    NorthSister_Input_filt['Cation_sum_Cpx']=NorthSister_cpx_comps['Cation_Sum_Cpx']\n",
    "    NorthSister_Input_filt['MachineLearning_Class']=NorthSister_Cpx_class['Phase_Min_Group_ML']\n",
    "    NorthSister_Input_filt['Ca_CaMgFe']=NorthSister_Cpx_class['Ca_CaMgFe']\n",
    "    NorthSister_Input_filt.to_clipboard(excel=True)\n",
    "    NorthSister_Combo=pd.concat([NorthSister_cpx_Press_All, NorthSister_Input_filt], axis=1)"
   ]
  },
  {
   "cell_type": "code",
   "execution_count": 15,
   "id": "57b9f406-4943-4584-83a1-9b1b7c94bb91",
   "metadata": {},
   "outputs": [
    {
     "data": {
      "text/plain": [
       "0    Schmidt and Grunder, 2011\n",
       "1    Schmidt and Grunder, 2011\n",
       "2    Schmidt and Grunder, 2011\n",
       "3    Schmidt and Grunder, 2011\n",
       "4    Schmidt and Grunder, 2011\n",
       "5    Schmidt and Grunder, 2011\n",
       "Name: Reference, dtype: object"
      ]
     },
     "execution_count": 15,
     "metadata": {},
     "output_type": "execute_result"
    }
   ],
   "source": [
    "NorthSister_Input_Cpx['Reference']"
   ]
  },
  {
   "cell_type": "markdown",
   "id": "70fc6954-8fae-431f-a5ae-2eca631c2501",
   "metadata": {},
   "source": [
    "## South Sister\n",
    "-waiting for Laura to send rest of analyses"
   ]
  },
  {
   "cell_type": "code",
   "execution_count": 16,
   "id": "7fef6cf0-9018-4826-b152-8374a8221931",
   "metadata": {},
   "outputs": [
    {
     "name": "stdout",
     "output_type": "stream",
     "text": [
      "['Px']\n"
     ]
    },
    {
     "data": {
      "image/png": "[encoded data removed]",
      "text/plain": [
       "<Figure size 432x288 with 1 Axes>"
      ]
     },
     "metadata": {
      "needs_background": "light"
     },
     "output_type": "display_data"
    }
   ],
   "source": [
    "with w.catch_warnings():\n",
    "    w.simplefilter('ignore')\n",
    "    SouthSister_read_Cpx=pt.import_excel('South_Sister.xlsx', sheet_name='Cpx_All')\n",
    "    SouthSister_Input_Cpx=SouthSister_read_Cpx['my_input']\n",
    "    SouthSister_Cpx=SouthSister_read_Cpx['Cpxs']\n",
    "    SouthSister_Cpx_copy=SouthSister_Cpx.copy()\n",
    "\n",
    "    ### Filtering these out.\n",
    "\n",
    "    SouthSister_cpx_comps=pt.calculate_clinopyroxene_components(cpx_comps=SouthSister_Cpx)\n",
    "    # Are a few outside 3.95 to 4.05 Cat sums, CaCaMgFe lies 0.3 - 0.55\n",
    "    Cat_Sum_Filt=(SouthSister_cpx_comps['Cation_Sum_Cpx'].between(3.95, 4.05))\n",
    "    SouthSister_Cpx_class=pt.classify_phases(df=SouthSister_Cpx, return_end_members=True,\n",
    "                            str_to_drop='_Cpx')\n",
    "    print(SouthSister_Cpx_class['Phase_Min_Group_ML'].unique())\n",
    "\n",
    "    SouthSister_cpx_filt=SouthSister_Cpx.loc[(SouthSister_Cpx_class['Phase_Min_Group_ML']==\"Px\")&\n",
    "                                      (SouthSister_Cpx_class['Ca_CaMgFe'].between(0.2, 0.5))&\n",
    "                                 Cat_Sum_Filt].reset_index(drop=True)\n",
    "\n",
    "    SouthSister_cpx_Press_All=pt.calculate_cpx_only_press_all_eqs(cpx_comps=SouthSister_cpx_filt, \n",
    "                                                            plot=True, return_cpx=False)\n",
    "\n",
    "    SouthSister_Input_filt=SouthSister_Input_Cpx.loc[((SouthSister_Cpx_class['Phase_Min_Group_ML']==\"Px\")&\n",
    "                                      (SouthSister_Cpx_class['Ca_CaMgFe'].between(0.2, 0.5))\n",
    "                                        &\n",
    "                                        Cat_Sum_Filt)].reset_index(drop=True)\n",
    "    SouthSister_Input_filt['Cation_sum_Cpx']=SouthSister_cpx_comps['Cation_Sum_Cpx']\n",
    "    SouthSister_Input_filt['MachineLearning_Class']=SouthSister_Cpx_class['Phase_Min_Group_ML']\n",
    "    SouthSister_Input_filt['Ca_CaMgFe']=SouthSister_Cpx_class['Ca_CaMgFe']\n",
    "    SouthSister_Input_filt.to_clipboard(excel=True)\n",
    "    SouthSister_Combo=pd.concat([SouthSister_cpx_Press_All, SouthSister_Input_filt], axis=1)"
   ]
  },
  {
   "cell_type": "markdown",
   "id": "5a738f90-3eb2-430c-bcf3-76aac06685ae",
   "metadata": {},
   "source": [
    "## Mount Mazama"
   ]
  },
  {
   "cell_type": "code",
   "execution_count": 17,
   "id": "942a6504-6298-4ce2-833c-b9fc3c9933ef",
   "metadata": {},
   "outputs": [
    {
     "name": "stdout",
     "output_type": "stream",
     "text": [
      "['Px' 'Amp' 'Not Classified - Total<60']\n"
     ]
    },
    {
     "data": {
      "image/png": "[encoded data removed]",
      "text/plain": [
       "<Figure size 432x288 with 1 Axes>"
      ]
     },
     "metadata": {
      "needs_background": "light"
     },
     "output_type": "display_data"
    }
   ],
   "source": [
    "with w.catch_warnings():\n",
    "    w.simplefilter('ignore')\n",
    "    Mazama_read_Cpx=pt.import_excel('Mazama.xlsx', sheet_name='Cpx_All')\n",
    "    Mazama_Input_Cpx=Mazama_read_Cpx['my_input']\n",
    "    Mazama_Cpx=Mazama_read_Cpx['Cpxs']\n",
    "    Mazama_Cpx_copy=Mazama_Cpx.copy()\n",
    "\n",
    "    ### Filtering these out.\n",
    "\n",
    "    Mazama_cpx_comps=pt.calculate_clinopyroxene_components(cpx_comps=Mazama_Cpx)\n",
    "    # Are a few outside 3.95 to 4.05 Cat sums, CaCaMgFe lies 0.3 - 0.55\n",
    "    Cat_Sum_Filt=(Mazama_cpx_comps['Cation_Sum_Cpx'].between(3.95, 4.05))\n",
    "    Mazama_Cpx_class=pt.classify_phases(df=Mazama_Cpx, return_end_members=True,\n",
    "                            str_to_drop='_Cpx')\n",
    "    print(Mazama_Cpx_class['Phase_Min_Group_ML'].unique())\n",
    "\n",
    "    Mazama_cpx_filt=Mazama_Cpx.loc[(Mazama_Cpx_class['Phase_Min_Group_ML']==\"Px\")&\n",
    "                                      (Mazama_Cpx_class['Ca_CaMgFe'].between(0.2, 0.5))&\n",
    "                                 Cat_Sum_Filt].reset_index(drop=True)\n",
    "\n",
    "    Mazama_cpx_Press_All=pt.calculate_cpx_only_press_all_eqs(cpx_comps=Mazama_cpx_filt, \n",
    "                                                            plot=True, return_cpx=False)\n",
    "\n",
    "    Mazama_Input_filt=Mazama_Input_Cpx.loc[((Mazama_Cpx_class['Phase_Min_Group_ML']==\"Px\")&\n",
    "                                      (Mazama_Cpx_class['Ca_CaMgFe'].between(0.2, 0.5))\n",
    "                                        &\n",
    "                                        Cat_Sum_Filt)].reset_index(drop=True)\n",
    "    Mazama_Input_filt['Cation_sum_Cpx']=Mazama_cpx_comps['Cation_Sum_Cpx']\n",
    "    Mazama_Input_filt['MachineLearning_Class']=Mazama_Cpx_class['Phase_Min_Group_ML']\n",
    "    Mazama_Input_filt['Ca_CaMgFe']=Mazama_Cpx_class['Ca_CaMgFe']\n",
    "    Mazama_Input_filt.to_clipboard(excel=True)\n",
    "    Mazama_Combo=pd.concat([Mazama_cpx_Press_All, Mazama_Input_filt], axis=1)    "
   ]
  },
  {
   "cell_type": "code",
   "execution_count": 18,
   "id": "7896e0ce-a513-4ba9-b1ba-c41ff2d0b62f",
   "metadata": {},
   "outputs": [
    {
     "data": {
      "text/plain": [
       "array(['Nakada_1994 ', 'Nakada_1994', 'Wright_2012',\n",
       "       'Druitt and Bacon, 1988'], dtype=object)"
      ]
     },
     "execution_count": 18,
     "metadata": {},
     "output_type": "execute_result"
    }
   ],
   "source": [
    "Mazama_Input_Cpx['Reference'].unique()"
   ]
  },
  {
   "cell_type": "code",
   "execution_count": 19,
   "id": "e846f1f3-8745-4a4f-b72b-53f34e68e54b",
   "metadata": {},
   "outputs": [
    {
     "data": {
      "text/plain": [
       "300"
      ]
     },
     "execution_count": 19,
     "metadata": {},
     "output_type": "execute_result"
    }
   ],
   "source": [
    "# so 300 of them have Jd from Al\n",
    "sum(Mazama_cpx_Press_All['Jd_from 0=Na, 1=Al'])"
   ]
  },
  {
   "cell_type": "markdown",
   "id": "ccbfb322-e848-4a00-b890-daee85ab2210",
   "metadata": {},
   "source": [
    "## Shasta"
   ]
  },
  {
   "cell_type": "code",
   "execution_count": 20,
   "id": "97951355-363c-480f-837c-56601ed54fc2",
   "metadata": {},
   "outputs": [
    {
     "name": "stdout",
     "output_type": "stream",
     "text": [
      "['Px']\n"
     ]
    },
    {
     "data": {
      "image/png": "[encoded data removed]",
      "text/plain": [
       "<Figure size 432x288 with 1 Axes>"
      ]
     },
     "metadata": {
      "needs_background": "light"
     },
     "output_type": "display_data"
    }
   ],
   "source": [
    "with w.catch_warnings():\n",
    "    w.simplefilter('ignore')\n",
    "    Shasta_read_Cpx=pt.import_excel('Shasta.xlsx', sheet_name='Cpx_All')\n",
    "    Shasta_Input_Cpx=Shasta_read_Cpx['my_input']\n",
    "    Shasta_Cpx=Shasta_read_Cpx['Cpxs']\n",
    "    Shasta_Cpx_copy=Shasta_Cpx.copy()\n",
    "\n",
    "    ### Filtering these out.\n",
    "\n",
    "    Shasta_cpx_comps=pt.calculate_clinopyroxene_components(cpx_comps=Shasta_Cpx)\n",
    "    # Are a few outside 3.95 to 4.05 Cat sums, CaCaMgFe lies 0.3 - 0.55\n",
    "    Cat_Sum_Filt=(Shasta_cpx_comps['Cation_Sum_Cpx'].between(3.95, 4.05))\n",
    "    Shasta_Cpx_class=pt.classify_phases(df=Shasta_Cpx, return_end_members=True,\n",
    "                            str_to_drop='_Cpx')\n",
    "    print(Shasta_Cpx_class['Phase_Min_Group_ML'].unique())\n",
    "\n",
    "    Shasta_cpx_filt=Shasta_Cpx.loc[(Shasta_Cpx_class['Phase_Min_Group_ML']==\"Px\")&\n",
    "                                      (Shasta_Cpx_class['Ca_CaMgFe'].between(0.2, 0.5))&\n",
    "                                 Cat_Sum_Filt].reset_index(drop=True)\n",
    "\n",
    "    Shasta_cpx_Press_All=pt.calculate_cpx_only_press_all_eqs(cpx_comps=Shasta_cpx_filt, \n",
    "                                                            plot=True, return_cpx=False)\n",
    "\n",
    "    Shasta_Input_filt=Shasta_Input_Cpx.loc[((Shasta_Cpx_class['Phase_Min_Group_ML']==\"Px\")&\n",
    "                                      (Shasta_Cpx_class['Ca_CaMgFe'].between(0.2, 0.5))\n",
    "                                        &\n",
    "                                        Cat_Sum_Filt)].reset_index(drop=True)\n",
    "    Shasta_Input_filt['Cation_sum_Cpx']=Shasta_cpx_comps['Cation_Sum_Cpx']\n",
    "    Shasta_Input_filt['MachineLearning_Class']=Shasta_Cpx_class['Phase_Min_Group_ML']\n",
    "    Shasta_Input_filt['Ca_CaMgFe']=Shasta_Cpx_class['Ca_CaMgFe']\n",
    "    Shasta_Input_filt.to_clipboard(excel=True)\n",
    "    Shasta_Combo=pd.concat([Shasta_cpx_Press_All, Shasta_Input_filt], axis=1)        "
   ]
  },
  {
   "cell_type": "markdown",
   "id": "20393504-4b5c-40cc-bef2-6c2d77049820",
   "metadata": {},
   "source": [
    "## Crater Lake"
   ]
  },
  {
   "cell_type": "code",
   "execution_count": 21,
   "id": "42c41bcb-e89d-4368-9fe4-38929fcde436",
   "metadata": {},
   "outputs": [
    {
     "name": "stdout",
     "output_type": "stream",
     "text": [
      "['Px' 'Amp' 'Not Classified - Total<60']\n"
     ]
    },
    {
     "data": {
      "image/png": "[encoded data removed]",
      "text/plain": [
       "<Figure size 432x288 with 1 Axes>"
      ]
     },
     "metadata": {
      "needs_background": "light"
     },
     "output_type": "display_data"
    }
   ],
   "source": [
    "with w.catch_warnings():\n",
    "    w.simplefilter('ignore')\n",
    "    Mazama_read_Cpx=pt.import_excel('Mazama.xlsx', sheet_name='Cpx_All')\n",
    "    Mazama_Input_Cpx=Mazama_read_Cpx['my_input']\n",
    "    Mazama_Cpx=Mazama_read_Cpx['Cpxs']\n",
    "    Mazama_Cpx_copy=Mazama_Cpx.copy()\n",
    "\n",
    "    ### Filtering these out.\n",
    "\n",
    "    Mazama_cpx_comps=pt.calculate_clinopyroxene_components(cpx_comps=Mazama_Cpx)\n",
    "    # Are a few outside 3.95 to 4.05 Cat sums, CaCaMgFe lies 0.3 - 0.55\n",
    "    Cat_Sum_Filt=(Mazama_cpx_comps['Cation_Sum_Cpx'].between(3.95, 4.05))\n",
    "    Mazama_Cpx_class=pt.classify_phases(df=Mazama_Cpx, return_end_members=True,\n",
    "                            str_to_drop='_Cpx')\n",
    "    print(Mazama_Cpx_class['Phase_Min_Group_ML'].unique())\n",
    "\n",
    "    Mazama_cpx_filt=Mazama_Cpx.loc[(Mazama_Cpx_class['Phase_Min_Group_ML']==\"Px\")&\n",
    "                                      (Mazama_Cpx_class['Ca_CaMgFe'].between(0.2, 0.5))&\n",
    "                                 Cat_Sum_Filt].reset_index(drop=True)\n",
    "\n",
    "    Mazama_cpx_Press_All=pt.calculate_cpx_only_press_all_eqs(cpx_comps=Mazama_cpx_filt, \n",
    "                                                            plot=True, return_cpx=False)\n",
    "\n",
    "    Mazama_Input_filt=Mazama_Input_Cpx.loc[((Mazama_Cpx_class['Phase_Min_Group_ML']==\"Px\")&\n",
    "                                      (Mazama_Cpx_class['Ca_CaMgFe'].between(0.2, 0.5))\n",
    "                                        &\n",
    "                                        Cat_Sum_Filt)].reset_index(drop=True)\n",
    "    Mazama_Input_filt['Cation_sum_Cpx']=Mazama_cpx_comps['Cation_Sum_Cpx']\n",
    "    Mazama_Input_filt['MachineLearning_Class']=Mazama_Cpx_class['Phase_Min_Group_ML']\n",
    "    Mazama_Input_filt['Ca_CaMgFe']=Mazama_Cpx_class['Ca_CaMgFe']\n",
    "    Mazama_Input_filt.to_clipboard(excel=True)\n",
    "    Mazama_Combo=pd.concat([Mazama_cpx_Press_All, Mazama_Input_filt], axis=1)        "
   ]
  },
  {
   "cell_type": "markdown",
   "id": "9ec3a8e8-afa0-4aaa-a207-e690b5167cf9",
   "metadata": {},
   "source": [
    "## Medicine Lake"
   ]
  },
  {
   "cell_type": "code",
   "execution_count": 22,
   "id": "9fbdb53d-dd62-4553-bc4b-301717d60e6b",
   "metadata": {},
   "outputs": [
    {
     "name": "stdout",
     "output_type": "stream",
     "text": [
      "['Px' 'Amp']\n"
     ]
    },
    {
     "data": {
      "image/png": "[encoded data removed]",
      "text/plain": [
       "<Figure size 432x288 with 1 Axes>"
      ]
     },
     "metadata": {
      "needs_background": "light"
     },
     "output_type": "display_data"
    }
   ],
   "source": [
    "with w.catch_warnings():\n",
    "    w.simplefilter('ignore')\n",
    "    MedicineLake_read_Cpx=pt.import_excel('MedicineLake.xlsx', sheet_name='Cpx_All')\n",
    "    MedicineLake_Input_Cpx=MedicineLake_read_Cpx['my_input']\n",
    "    MedicineLake_Cpx=MedicineLake_read_Cpx['Cpxs']\n",
    "    MedicineLake_Cpx_copy=MedicineLake_Cpx.copy()\n",
    "\n",
    "    ### Filtering these out.\n",
    "\n",
    "    MedicineLake_cpx_comps=pt.calculate_clinopyroxene_components(cpx_comps=MedicineLake_Cpx)\n",
    "    # Are a few outside 3.95 to 4.05 Cat sums, CaCaMgFe lies 0.3 - 0.55\n",
    "    Cat_Sum_Filt=(MedicineLake_cpx_comps['Cation_Sum_Cpx'].between(3.95, 4.05))\n",
    "    MedicineLake_Cpx_class=pt.classify_phases(df=MedicineLake_Cpx, return_end_members=True,\n",
    "                            str_to_drop='_Cpx')\n",
    "    print(MedicineLake_Cpx_class['Phase_Min_Group_ML'].unique())\n",
    "\n",
    "    MedicineLake_cpx_filt=MedicineLake_Cpx.loc[(MedicineLake_Cpx_class['Phase_Min_Group_ML']==\"Px\")&\n",
    "                                      (MedicineLake_Cpx_class['Ca_CaMgFe'].between(0.2, 0.5))&\n",
    "                                 Cat_Sum_Filt].reset_index(drop=True)\n",
    "\n",
    "    MedicineLake_cpx_Press_All=pt.calculate_cpx_only_press_all_eqs(cpx_comps=MedicineLake_cpx_filt, \n",
    "                                                            plot=True, return_cpx=False)\n",
    "\n",
    "    MedicineLake_Input_filt=MedicineLake_Input_Cpx.loc[((MedicineLake_Cpx_class['Phase_Min_Group_ML']==\"Px\")&\n",
    "                                      (MedicineLake_Cpx_class['Ca_CaMgFe'].between(0.2, 0.5))\n",
    "                                        &\n",
    "                                        Cat_Sum_Filt)].reset_index(drop=True)\n",
    "    MedicineLake_Input_filt['Cation_sum_Cpx']=MedicineLake_cpx_comps['Cation_Sum_Cpx']\n",
    "    MedicineLake_Input_filt['MachineLearning_Class']=MedicineLake_Cpx_class['Phase_Min_Group_ML']\n",
    "    MedicineLake_Input_filt['Ca_CaMgFe']=MedicineLake_Cpx_class['Ca_CaMgFe']\n",
    "    MedicineLake_Input_filt.to_clipboard(excel=True)\n",
    "    MedicineLake_Combo=pd.concat([MedicineLake_cpx_Press_All, MedicineLake_Input_filt], axis=1)        "
   ]
  },
  {
   "cell_type": "code",
   "execution_count": 23,
   "id": "75589646-8967-435d-bb6e-dd26bf19d068",
   "metadata": {},
   "outputs": [
    {
     "data": {
      "text/plain": [
       "array(['Kinzler et al. (2000)', 'Grove and Donnelly-Nolan, 1986',\n",
       "       'Grove et al. 1997', 'Gerlach and Grove, 1982'], dtype=object)"
      ]
     },
     "execution_count": 23,
     "metadata": {},
     "output_type": "execute_result"
    }
   ],
   "source": [
    "MedicineLake_Combo['Reference'].unique()"
   ]
  },
  {
   "cell_type": "markdown",
   "id": "7c0ebe34-30b1-4b1b-98c4-5b1b24a4184a",
   "metadata": {},
   "source": [
    "## Lassen Peak"
   ]
  },
  {
   "cell_type": "code",
   "execution_count": 24,
   "id": "024fe609-055c-47b2-a4b7-a81c97944a6c",
   "metadata": {},
   "outputs": [
    {
     "name": "stdout",
     "output_type": "stream",
     "text": [
      "['Px' 'Amp']\n"
     ]
    },
    {
     "data": {
      "image/png": "[encoded data removed]",
      "text/plain": [
       "<Figure size 432x288 with 1 Axes>"
      ]
     },
     "metadata": {
      "needs_background": "light"
     },
     "output_type": "display_data"
    }
   ],
   "source": [
    "with w.catch_warnings():\n",
    "    w.simplefilter('ignore')\n",
    "    Lassen_read_Cpx=pt.import_excel('Lassen.xlsx', sheet_name='Cpx_All')\n",
    "    Lassen_Input_Cpx=Lassen_read_Cpx['my_input']\n",
    "    Lassen_Cpx=Lassen_read_Cpx['Cpxs']\n",
    "    Lassen_Cpx_copy=Lassen_Cpx.copy()\n",
    "\n",
    "    ### Filtering these out.\n",
    "\n",
    "    Lassen_cpx_comps=pt.calculate_clinopyroxene_components(cpx_comps=Lassen_Cpx)\n",
    "    # Are a few outside 3.95 to 4.05 Cat sums, CaCaMgFe lies 0.3 - 0.55\n",
    "    Cat_Sum_Filt=(Lassen_cpx_comps['Cation_Sum_Cpx'].between(3.95, 4.05))\n",
    "    Lassen_Cpx_class=pt.classify_phases(df=Lassen_Cpx, return_end_members=True,\n",
    "                            str_to_drop='_Cpx')\n",
    "    print(Lassen_Cpx_class['Phase_Min_Group_ML'].unique())\n",
    "\n",
    "    Lassen_cpx_filt=Lassen_Cpx.loc[(Lassen_Cpx_class['Phase_Min_Group_ML']==\"Px\")&\n",
    "                                      (Lassen_Cpx_class['Ca_CaMgFe'].between(0.2, 0.5))&\n",
    "                                 Cat_Sum_Filt].reset_index(drop=True)\n",
    "\n",
    "    Lassen_cpx_Press_All=pt.calculate_cpx_only_press_all_eqs(cpx_comps=Lassen_cpx_filt, \n",
    "                                                            plot=True, return_cpx=False)\n",
    "\n",
    "    Lassen_Input_filt=Lassen_Input_Cpx.loc[((Lassen_Cpx_class['Phase_Min_Group_ML']==\"Px\")&\n",
    "                                      (Lassen_Cpx_class['Ca_CaMgFe'].between(0.2, 0.5))\n",
    "                                        &\n",
    "                                        Cat_Sum_Filt)].reset_index(drop=True)\n",
    "    Lassen_Input_filt['Cation_sum_Cpx']=Lassen_cpx_comps['Cation_Sum_Cpx']\n",
    "    Lassen_Input_filt['MachineLearning_Class']=Lassen_Cpx_class['Phase_Min_Group_ML']\n",
    "    Lassen_Input_filt['Ca_CaMgFe']=Lassen_Cpx_class['Ca_CaMgFe']\n",
    "    Lassen_Input_filt.to_clipboard(excel=True)\n",
    "    Lassen_Combo=pd.concat([Lassen_cpx_Press_All, Lassen_Input_filt], axis=1)        "
   ]
  },
  {
   "cell_type": "markdown",
   "id": "fcd9780a-2813-4cea-8239-767644032190",
   "metadata": {},
   "source": [
    "## GaribaldiVolcanicBelt"
   ]
  },
  {
   "cell_type": "code",
   "execution_count": 25,
   "id": "55cbb4c9-8061-46ce-826e-72a57e04918c",
   "metadata": {},
   "outputs": [
    {
     "name": "stdout",
     "output_type": "stream",
     "text": [
      "['Px']\n"
     ]
    },
    {
     "data": {
      "image/png": "[encoded data removed]",
      "text/plain": [
       "<Figure size 432x288 with 1 Axes>"
      ]
     },
     "metadata": {
      "needs_background": "light"
     },
     "output_type": "display_data"
    }
   ],
   "source": [
    "with w.catch_warnings():\n",
    "    w.simplefilter('ignore')\n",
    "    GVB_read_Cpx=pt.import_excel('Garibaldi_Volcanic_Belt.xlsx', sheet_name='Cpx_All')\n",
    "    GVB_Input_Cpx=GVB_read_Cpx['my_input']\n",
    "    GVB_Cpx=GVB_read_Cpx['Cpxs']\n",
    "    GVB_Cpx_copy=GVB_Cpx.copy()\n",
    "\n",
    "    ### Filtering these out.\n",
    "\n",
    "    GVB_cpx_comps=pt.calculate_clinopyroxene_components(cpx_comps=GVB_Cpx)\n",
    "    # Are a few outside 3.95 to 4.05 Cat sums, CaCaMgFe lies 0.3 - 0.55\n",
    "    Cat_Sum_Filt=(GVB_cpx_comps['Cation_Sum_Cpx'].between(3.95, 4.05))\n",
    "    GVB_Cpx_class=pt.classify_phases(df=GVB_Cpx, return_end_members=True,\n",
    "                            str_to_drop='_Cpx')\n",
    "    print(GVB_Cpx_class['Phase_Min_Group_ML'].unique())\n",
    "\n",
    "    GVB_cpx_filt=GVB_Cpx.loc[(GVB_Cpx_class['Phase_Min_Group_ML']==\"Px\")&\n",
    "                                      (GVB_Cpx_class['Ca_CaMgFe'].between(0.2, 0.5))&\n",
    "                                 Cat_Sum_Filt].reset_index(drop=True)\n",
    "\n",
    "    GVB_cpx_Press_All=pt.calculate_cpx_only_press_all_eqs(cpx_comps=GVB_cpx_filt, \n",
    "                                                            plot=True, return_cpx=False)\n",
    "\n",
    "    GVB_Input_filt=GVB_Input_Cpx.loc[((GVB_Cpx_class['Phase_Min_Group_ML']==\"Px\")&\n",
    "                                      (GVB_Cpx_class['Ca_CaMgFe'].between(0.2, 0.5))\n",
    "                                        &\n",
    "                                        Cat_Sum_Filt)].reset_index(drop=True)\n",
    "    GVB_Input_filt['Cation_sum_Cpx']=GVB_cpx_comps['Cation_Sum_Cpx']\n",
    "    GVB_Input_filt['MachineLearning_Class']=GVB_Cpx_class['Phase_Min_Group_ML']\n",
    "    GVB_Input_filt['Ca_CaMgFe']=GVB_Cpx_class['Ca_CaMgFe']\n",
    "    GVB_Input_filt.to_clipboard(excel=True)\n",
    "    GVB_Combo=pd.concat([GVB_cpx_Press_All, GVB_Input_filt], axis=1)        "
   ]
  },
  {
   "cell_type": "markdown",
   "id": "67bda0aa-f736-444e-8feb-e4bcbbf6a513",
   "metadata": {},
   "source": [
    "### Combining"
   ]
  },
  {
   "cell_type": "code",
   "execution_count": 28,
   "id": "2c4e0398-6722-41f4-871b-763ae883a603",
   "metadata": {},
   "outputs": [],
   "source": [
    "## Combining\n",
    "GVB_Combo['Latitude']=49.93\n",
    "Baker_Combo['Latitude']=48.7767\n",
    "Glacier_Combo['Latitude']=48.1119\n",
    "Rainier_Combo['Latitude']=46.8523\n",
    "\n",
    "MSH_Combo['Latitude']=46.1914\n",
    "Adams_Combo['Latitude']=46.2024\n",
    "Hood_Combo['Latitude']=45.3736\n",
    "Jefferson_Combo['Latitude']=44.6743\n",
    "NorthSister_Combo['Latitude']=44.1662\n",
    "SouthSister_Combo['Latitude']=44.1034\n",
    "Mazama_Combo['Latitude']=42.85\n",
    "Shasta_Combo['Latitude']=41.544\n",
    "Lassen_Combo['Latitude']=40.654342\n",
    "Baker_Combo['Volcano']=\"Baker\"\n",
    "Glacier_Combo['Volcano']=\"Glacier\"\n",
    "Rainier_Combo['Volcano']=\"Rainier\"\n",
    "MSH_Combo['Volcano']=\"MSH\"\n",
    "Hood_Combo['Volcano']=\"Hood\"\n",
    "Jefferson_Combo['Volcano']=\"Jefferson\"\n",
    "NorthSister_Combo['Volcano']=\"North Sister\"\n",
    "SouthSister_Combo['Volcano']=\"South Sister\"\n",
    "Mazama_Combo['Volcano']=\"Mazama\"\n",
    "Shasta_Combo['Volcano']=\"Shasta\"\n",
    "Lassen_Combo['Volcano']=\"Lassen\"\n",
    "Adams_Combo['Volcano']=\"Adams\"\n",
    "Mazama_Combo['Volcano']=\"CraterLake\"\n",
    "Mazama_Combo['Latitude']=42.9446\n",
    "GVB_Combo['Volcano']=\"GVB\"\n",
    "# Other things we need\n",
    "Shasta_Combo[\"Stage\"]=Shasta_Input_filt['Stage']\n",
    "MedicineLake_Combo['Volcano']=\"MedicineLake\"\n",
    "MedicineLake_Combo['Latitude']=41.61063\n",
    "Combo_Cpx=pd.concat([GVB_Combo, Baker_Combo, Glacier_Combo, Rainier_Combo, Adams_Combo,\n",
    "                    MSH_Combo,  Hood_Combo, MedicineLake_Combo,\n",
    "                     Jefferson_Combo, NorthSister_Combo,\n",
    "SouthSister_Combo, Mazama_Combo, Shasta_Combo, Lassen_Combo], axis=0)\n",
    "Combo_Cpx['Phase']=\"Cpx\"\n",
    "Combo_Cpx['Preferred_P']=Combo_Cpx['P_Wang21_eq1']\n",
    "Combo_Cpx['Preferred_P2']=Combo_Cpx['P_Jorgenson22']\n",
    "from pickle import dump\n",
    "import pickle\n",
    "dump(Combo_Cpx, open('Combo_Cpx.pkl', 'wb'))"
   ]
  },
  {
   "cell_type": "code",
   "execution_count": 30,
   "id": "723270a7-c73f-4c6b-b849-192a55ac72d0",
   "metadata": {},
   "outputs": [
    {
     "data": {
      "text/html": [
       "<div>\n",
       "<style scoped>\n",
       "    .dataframe tbody tr th:only-of-type {\n",
       "        vertical-align: middle;\n",
       "    }\n",
       "\n",
       "    .dataframe tbody tr th {\n",
       "        vertical-align: top;\n",
       "    }\n",
       "\n",
       "    .dataframe thead th {\n",
       "        text-align: right;\n",
       "    }\n",
       "</style>\n",
       "<table border=\"1\" class=\"dataframe\">\n",
       "  <thead>\n",
       "    <tr style=\"text-align: right;\">\n",
       "      <th></th>\n",
       "      <th>P_Wang21_eq1</th>\n",
       "      <th>T_Wang21_eq2</th>\n",
       "      <th>T_Petrelli20</th>\n",
       "      <th>T_Petrelli21_H2O</th>\n",
       "      <th>P_Petrelli21_H2O</th>\n",
       "      <th>T_Put_Teq32d_Peq32a</th>\n",
       "      <th>T_Put_Teq32d_Peq32b</th>\n",
       "      <th>P_Petrelli20</th>\n",
       "      <th>P_Put_Teq32d_Peq32a</th>\n",
       "      <th>P_Put_Teq32d_Peq32b</th>\n",
       "      <th>...</th>\n",
       "      <th>MnO_Cpx</th>\n",
       "      <th>MgO_Cpx</th>\n",
       "      <th>CaO_Cpx</th>\n",
       "      <th>Na2O_Cpx</th>\n",
       "      <th>K2O_Cpx</th>\n",
       "      <th>Total</th>\n",
       "      <th>Cation_sum_Cpx</th>\n",
       "      <th>MachineLearning_Class</th>\n",
       "      <th>Ca_CaMgFe</th>\n",
       "      <th>Latitude</th>\n",
       "    </tr>\n",
       "  </thead>\n",
       "  <tbody>\n",
       "    <tr>\n",
       "      <th>0</th>\n",
       "      <td>2.517872</td>\n",
       "      <td>1456.687076</td>\n",
       "      <td>1350.223333</td>\n",
       "      <td>1421.290000</td>\n",
       "      <td>1.799002</td>\n",
       "      <td>1461.901365</td>\n",
       "      <td>1455.596842</td>\n",
       "      <td>2.498804</td>\n",
       "      <td>3.414687</td>\n",
       "      <td>2.661912</td>\n",
       "      <td>...</td>\n",
       "      <td>0.1401</td>\n",
       "      <td>16.67</td>\n",
       "      <td>21.67</td>\n",
       "      <td>0.2527</td>\n",
       "      <td>NaN</td>\n",
       "      <td>100.6019</td>\n",
       "      <td>4.012393</td>\n",
       "      <td>Px</td>\n",
       "      <td>0.442100</td>\n",
       "      <td>48.7767</td>\n",
       "    </tr>\n",
       "    <tr>\n",
       "      <th>1</th>\n",
       "      <td>1.705477</td>\n",
       "      <td>1460.945299</td>\n",
       "      <td>1359.043333</td>\n",
       "      <td>1440.481111</td>\n",
       "      <td>1.471578</td>\n",
       "      <td>1438.978968</td>\n",
       "      <td>1442.018975</td>\n",
       "      <td>2.171644</td>\n",
       "      <td>0.605647</td>\n",
       "      <td>0.968479</td>\n",
       "      <td>...</td>\n",
       "      <td>0.0958</td>\n",
       "      <td>16.78</td>\n",
       "      <td>22.28</td>\n",
       "      <td>0.2396</td>\n",
       "      <td>NaN</td>\n",
       "      <td>99.6542</td>\n",
       "      <td>4.010013</td>\n",
       "      <td>Px</td>\n",
       "      <td>0.454417</td>\n",
       "      <td>48.7767</td>\n",
       "    </tr>\n",
       "    <tr>\n",
       "      <th>2</th>\n",
       "      <td>0.073163</td>\n",
       "      <td>1387.467416</td>\n",
       "      <td>1368.614444</td>\n",
       "      <td>1380.090000</td>\n",
       "      <td>1.441304</td>\n",
       "      <td>1386.148579</td>\n",
       "      <td>1374.458209</td>\n",
       "      <td>1.506584</td>\n",
       "      <td>-0.346414</td>\n",
       "      <td>-1.786835</td>\n",
       "      <td>...</td>\n",
       "      <td>0.2940</td>\n",
       "      <td>15.05</td>\n",
       "      <td>18.08</td>\n",
       "      <td>0.3272</td>\n",
       "      <td>NaN</td>\n",
       "      <td>99.2188</td>\n",
       "      <td>4.018674</td>\n",
       "      <td>Px</td>\n",
       "      <td>0.375967</td>\n",
       "      <td>48.7767</td>\n",
       "    </tr>\n",
       "    <tr>\n",
       "      <th>3</th>\n",
       "      <td>0.644088</td>\n",
       "      <td>1431.222749</td>\n",
       "      <td>1294.421111</td>\n",
       "      <td>1405.456667</td>\n",
       "      <td>1.138762</td>\n",
       "      <td>1435.385873</td>\n",
       "      <td>1436.421659</td>\n",
       "      <td>2.041309</td>\n",
       "      <td>1.140302</td>\n",
       "      <td>1.264621</td>\n",
       "      <td>...</td>\n",
       "      <td>0.1708</td>\n",
       "      <td>16.07</td>\n",
       "      <td>21.20</td>\n",
       "      <td>0.2248</td>\n",
       "      <td>NaN</td>\n",
       "      <td>98.0902</td>\n",
       "      <td>4.011215</td>\n",
       "      <td>Px</td>\n",
       "      <td>0.440163</td>\n",
       "      <td>48.7767</td>\n",
       "    </tr>\n",
       "    <tr>\n",
       "      <th>4</th>\n",
       "      <td>0.058494</td>\n",
       "      <td>1410.391090</td>\n",
       "      <td>1326.328889</td>\n",
       "      <td>1403.333333</td>\n",
       "      <td>1.032220</td>\n",
       "      <td>1412.363304</td>\n",
       "      <td>1421.255077</td>\n",
       "      <td>1.875191</td>\n",
       "      <td>0.003823</td>\n",
       "      <td>1.081286</td>\n",
       "      <td>...</td>\n",
       "      <td>0.2242</td>\n",
       "      <td>15.45</td>\n",
       "      <td>21.04</td>\n",
       "      <td>0.3433</td>\n",
       "      <td>NaN</td>\n",
       "      <td>98.9903</td>\n",
       "      <td>4.020115</td>\n",
       "      <td>Px</td>\n",
       "      <td>0.431942</td>\n",
       "      <td>48.7767</td>\n",
       "    </tr>\n",
       "  </tbody>\n",
       "</table>\n",
       "<p>5 rows × 82 columns</p>\n",
       "</div>"
      ],
      "text/plain": [
       "   P_Wang21_eq1  T_Wang21_eq2  T_Petrelli20  T_Petrelli21_H2O  \\\n",
       "0      2.517872   1456.687076   1350.223333       1421.290000   \n",
       "1      1.705477   1460.945299   1359.043333       1440.481111   \n",
       "2      0.073163   1387.467416   1368.614444       1380.090000   \n",
       "3      0.644088   1431.222749   1294.421111       1405.456667   \n",
       "4      0.058494   1410.391090   1326.328889       1403.333333   \n",
       "\n",
       "   P_Petrelli21_H2O  T_Put_Teq32d_Peq32a  T_Put_Teq32d_Peq32b  P_Petrelli20  \\\n",
       "0          1.799002          1461.901365          1455.596842      2.498804   \n",
       "1          1.471578          1438.978968          1442.018975      2.171644   \n",
       "2          1.441304          1386.148579          1374.458209      1.506584   \n",
       "3          1.138762          1435.385873          1436.421659      2.041309   \n",
       "4          1.032220          1412.363304          1421.255077      1.875191   \n",
       "\n",
       "   P_Put_Teq32d_Peq32a  P_Put_Teq32d_Peq32b  ...  MnO_Cpx  MgO_Cpx  CaO_Cpx  \\\n",
       "0             3.414687             2.661912  ...   0.1401    16.67    21.67   \n",
       "1             0.605647             0.968479  ...   0.0958    16.78    22.28   \n",
       "2            -0.346414            -1.786835  ...   0.2940    15.05    18.08   \n",
       "3             1.140302             1.264621  ...   0.1708    16.07    21.20   \n",
       "4             0.003823             1.081286  ...   0.2242    15.45    21.04   \n",
       "\n",
       "   Na2O_Cpx  K2O_Cpx     Total  Cation_sum_Cpx  MachineLearning_Class  \\\n",
       "0    0.2527      NaN  100.6019        4.012393                     Px   \n",
       "1    0.2396      NaN   99.6542        4.010013                     Px   \n",
       "2    0.3272      NaN   99.2188        4.018674                     Px   \n",
       "3    0.2248      NaN   98.0902        4.011215                     Px   \n",
       "4    0.3433      NaN   98.9903        4.020115                     Px   \n",
       "\n",
       "   Ca_CaMgFe  Latitude  \n",
       "0   0.442100   48.7767  \n",
       "1   0.454417   48.7767  \n",
       "2   0.375967   48.7767  \n",
       "3   0.440163   48.7767  \n",
       "4   0.431942   48.7767  \n",
       "\n",
       "[5 rows x 82 columns]"
      ]
     },
     "execution_count": 30,
     "metadata": {},
     "output_type": "execute_result"
    }
   ],
   "source": [
    "Baker_Combo.head()"
   ]
  },
  {
   "cell_type": "code",
   "execution_count": 25,
   "id": "e309673e-6181-424e-88b8-1181ac32ba84",
   "metadata": {},
   "outputs": [
    {
     "data": {
      "text/html": [
       "<div>\n",
       "<style scoped>\n",
       "    .dataframe tbody tr th:only-of-type {\n",
       "        vertical-align: middle;\n",
       "    }\n",
       "\n",
       "    .dataframe tbody tr th {\n",
       "        vertical-align: top;\n",
       "    }\n",
       "\n",
       "    .dataframe thead th {\n",
       "        text-align: right;\n",
       "    }\n",
       "</style>\n",
       "<table border=\"1\" class=\"dataframe\">\n",
       "  <thead>\n",
       "    <tr style=\"text-align: right;\">\n",
       "      <th></th>\n",
       "      <th>P_Wang21_eq1</th>\n",
       "      <th>T_Wang21_eq2</th>\n",
       "      <th>T_Jorgenson22</th>\n",
       "      <th>P_Jorgenson22</th>\n",
       "      <th>T_Petrelli20</th>\n",
       "      <th>T_Petrelli21_H2O</th>\n",
       "      <th>P_Petrelli21_H2O</th>\n",
       "      <th>T_Put_Teq32d_Peq32a</th>\n",
       "      <th>T_Put_Teq32d_Peq32b</th>\n",
       "      <th>P_Petrelli20</th>\n",
       "      <th>...</th>\n",
       "      <th>MnO_Cpx</th>\n",
       "      <th>MgO_Cpx</th>\n",
       "      <th>CaO_Cpx</th>\n",
       "      <th>Na2O_Cpx</th>\n",
       "      <th>Cr2O3_Cpx</th>\n",
       "      <th>K2O_Cpx</th>\n",
       "      <th>Total</th>\n",
       "      <th>Cation_sum_Cpx</th>\n",
       "      <th>MachineLearning_Class</th>\n",
       "      <th>Ca_CaMgFe</th>\n",
       "    </tr>\n",
       "  </thead>\n",
       "  <tbody>\n",
       "    <tr>\n",
       "      <th>0</th>\n",
       "      <td>1.174656</td>\n",
       "      <td>1429.795381</td>\n",
       "      <td>1387.393781</td>\n",
       "      <td>1.121759</td>\n",
       "      <td>1367.403333</td>\n",
       "      <td>1430.916667</td>\n",
       "      <td>0.495613</td>\n",
       "      <td>1449.927008</td>\n",
       "      <td>1443.803571</td>\n",
       "      <td>1.132780</td>\n",
       "      <td>...</td>\n",
       "      <td>0.13</td>\n",
       "      <td>16.30</td>\n",
       "      <td>20.50</td>\n",
       "      <td>0.29</td>\n",
       "      <td>0.64</td>\n",
       "      <td>0.00</td>\n",
       "      <td>NaN</td>\n",
       "      <td>4.013699</td>\n",
       "      <td>Px</td>\n",
       "      <td>0.421441</td>\n",
       "    </tr>\n",
       "    <tr>\n",
       "      <th>1</th>\n",
       "      <td>-0.277807</td>\n",
       "      <td>1412.607486</td>\n",
       "      <td>1348.140050</td>\n",
       "      <td>1.691935</td>\n",
       "      <td>1315.896667</td>\n",
       "      <td>1381.706667</td>\n",
       "      <td>1.103384</td>\n",
       "      <td>1426.634482</td>\n",
       "      <td>1428.250157</td>\n",
       "      <td>2.267609</td>\n",
       "      <td>...</td>\n",
       "      <td>0.29</td>\n",
       "      <td>16.01</td>\n",
       "      <td>21.29</td>\n",
       "      <td>0.16</td>\n",
       "      <td>0.39</td>\n",
       "      <td>0.00</td>\n",
       "      <td>99.53</td>\n",
       "      <td>4.004187</td>\n",
       "      <td>Px</td>\n",
       "      <td>0.436107</td>\n",
       "    </tr>\n",
       "    <tr>\n",
       "      <th>2</th>\n",
       "      <td>-3.659129</td>\n",
       "      <td>1361.299256</td>\n",
       "      <td>1324.135075</td>\n",
       "      <td>0.843557</td>\n",
       "      <td>1294.648889</td>\n",
       "      <td>1350.580000</td>\n",
       "      <td>1.105371</td>\n",
       "      <td>1329.790077</td>\n",
       "      <td>1332.129648</td>\n",
       "      <td>1.799151</td>\n",
       "      <td>...</td>\n",
       "      <td>0.39</td>\n",
       "      <td>15.24</td>\n",
       "      <td>21.44</td>\n",
       "      <td>0.22</td>\n",
       "      <td>0.05</td>\n",
       "      <td>0.00</td>\n",
       "      <td>101.07</td>\n",
       "      <td>4.028947</td>\n",
       "      <td>Px</td>\n",
       "      <td>0.427561</td>\n",
       "    </tr>\n",
       "    <tr>\n",
       "      <th>3</th>\n",
       "      <td>0.700781</td>\n",
       "      <td>1409.420381</td>\n",
       "      <td>1380.552985</td>\n",
       "      <td>1.756400</td>\n",
       "      <td>1374.181111</td>\n",
       "      <td>1435.534444</td>\n",
       "      <td>1.287976</td>\n",
       "      <td>1438.665810</td>\n",
       "      <td>1427.044610</td>\n",
       "      <td>2.162647</td>\n",
       "      <td>...</td>\n",
       "      <td>0.16</td>\n",
       "      <td>15.63</td>\n",
       "      <td>20.46</td>\n",
       "      <td>0.26</td>\n",
       "      <td>0.33</td>\n",
       "      <td>NaN</td>\n",
       "      <td>100.16</td>\n",
       "      <td>4.019637</td>\n",
       "      <td>Px</td>\n",
       "      <td>0.423101</td>\n",
       "    </tr>\n",
       "    <tr>\n",
       "      <th>4</th>\n",
       "      <td>1.422243</td>\n",
       "      <td>1408.706550</td>\n",
       "      <td>1380.403731</td>\n",
       "      <td>0.899239</td>\n",
       "      <td>1385.665556</td>\n",
       "      <td>1406.910000</td>\n",
       "      <td>0.835840</td>\n",
       "      <td>1436.864923</td>\n",
       "      <td>1433.994878</td>\n",
       "      <td>0.975482</td>\n",
       "      <td>...</td>\n",
       "      <td>0.23</td>\n",
       "      <td>15.25</td>\n",
       "      <td>19.55</td>\n",
       "      <td>0.29</td>\n",
       "      <td>0.00</td>\n",
       "      <td>NaN</td>\n",
       "      <td>99.99</td>\n",
       "      <td>4.008819</td>\n",
       "      <td>Px</td>\n",
       "      <td>0.405679</td>\n",
       "    </tr>\n",
       "    <tr>\n",
       "      <th>5</th>\n",
       "      <td>0.899259</td>\n",
       "      <td>1431.963013</td>\n",
       "      <td>1349.747015</td>\n",
       "      <td>1.419311</td>\n",
       "      <td>1330.316667</td>\n",
       "      <td>1429.174444</td>\n",
       "      <td>0.389113</td>\n",
       "      <td>1450.353835</td>\n",
       "      <td>1449.473949</td>\n",
       "      <td>2.301909</td>\n",
       "      <td>...</td>\n",
       "      <td>0.19</td>\n",
       "      <td>17.00</td>\n",
       "      <td>20.20</td>\n",
       "      <td>0.25</td>\n",
       "      <td>0.28</td>\n",
       "      <td>NaN</td>\n",
       "      <td>100.00</td>\n",
       "      <td>4.017663</td>\n",
       "      <td>Px</td>\n",
       "      <td>0.409664</td>\n",
       "    </tr>\n",
       "    <tr>\n",
       "      <th>6</th>\n",
       "      <td>0.036703</td>\n",
       "      <td>1408.769400</td>\n",
       "      <td>1406.856468</td>\n",
       "      <td>1.822435</td>\n",
       "      <td>1398.321111</td>\n",
       "      <td>1431.467778</td>\n",
       "      <td>1.925582</td>\n",
       "      <td>1432.253726</td>\n",
       "      <td>1423.054371</td>\n",
       "      <td>2.182378</td>\n",
       "      <td>...</td>\n",
       "      <td>0.13</td>\n",
       "      <td>16.70</td>\n",
       "      <td>19.10</td>\n",
       "      <td>0.28</td>\n",
       "      <td>0.14</td>\n",
       "      <td>0.00</td>\n",
       "      <td>100.00</td>\n",
       "      <td>4.035310</td>\n",
       "      <td>Px</td>\n",
       "      <td>0.033885</td>\n",
       "    </tr>\n",
       "    <tr>\n",
       "      <th>7</th>\n",
       "      <td>4.205289</td>\n",
       "      <td>1440.204178</td>\n",
       "      <td>1404.950995</td>\n",
       "      <td>2.834455</td>\n",
       "      <td>1414.924444</td>\n",
       "      <td>1417.255556</td>\n",
       "      <td>4.821711</td>\n",
       "      <td>1475.988649</td>\n",
       "      <td>1462.163775</td>\n",
       "      <td>4.300127</td>\n",
       "      <td>...</td>\n",
       "      <td>0.31</td>\n",
       "      <td>17.60</td>\n",
       "      <td>15.50</td>\n",
       "      <td>0.36</td>\n",
       "      <td>0.29</td>\n",
       "      <td>0.00</td>\n",
       "      <td>99.70</td>\n",
       "      <td>4.037988</td>\n",
       "      <td>Px</td>\n",
       "      <td>0.387626</td>\n",
       "    </tr>\n",
       "    <tr>\n",
       "      <th>8</th>\n",
       "      <td>2.073368</td>\n",
       "      <td>1430.089373</td>\n",
       "      <td>1394.861443</td>\n",
       "      <td>0.255353</td>\n",
       "      <td>1388.814444</td>\n",
       "      <td>1398.771111</td>\n",
       "      <td>1.021738</td>\n",
       "      <td>1465.016178</td>\n",
       "      <td>1450.066333</td>\n",
       "      <td>1.126124</td>\n",
       "      <td>...</td>\n",
       "      <td>0.29</td>\n",
       "      <td>17.20</td>\n",
       "      <td>16.90</td>\n",
       "      <td>0.16</td>\n",
       "      <td>0.17</td>\n",
       "      <td>NaN</td>\n",
       "      <td>99.00</td>\n",
       "      <td>4.011156</td>\n",
       "      <td>Px</td>\n",
       "      <td>0.321689</td>\n",
       "    </tr>\n",
       "    <tr>\n",
       "      <th>9</th>\n",
       "      <td>-0.053378</td>\n",
       "      <td>1395.206458</td>\n",
       "      <td>1383.781841</td>\n",
       "      <td>0.619465</td>\n",
       "      <td>1328.141111</td>\n",
       "      <td>1362.285556</td>\n",
       "      <td>0.889056</td>\n",
       "      <td>1427.752355</td>\n",
       "      <td>1434.761153</td>\n",
       "      <td>1.652476</td>\n",
       "      <td>...</td>\n",
       "      <td>0.43</td>\n",
       "      <td>16.60</td>\n",
       "      <td>18.90</td>\n",
       "      <td>0.22</td>\n",
       "      <td>0.01</td>\n",
       "      <td>0.00</td>\n",
       "      <td>100.70</td>\n",
       "      <td>3.999435</td>\n",
       "      <td>Px</td>\n",
       "      <td>0.350061</td>\n",
       "    </tr>\n",
       "    <tr>\n",
       "      <th>10</th>\n",
       "      <td>-1.109393</td>\n",
       "      <td>1382.121356</td>\n",
       "      <td>1294.602736</td>\n",
       "      <td>1.720234</td>\n",
       "      <td>1292.774444</td>\n",
       "      <td>1357.756667</td>\n",
       "      <td>2.729600</td>\n",
       "      <td>1391.729969</td>\n",
       "      <td>1383.758745</td>\n",
       "      <td>2.839496</td>\n",
       "      <td>...</td>\n",
       "      <td>0.36</td>\n",
       "      <td>15.40</td>\n",
       "      <td>20.70</td>\n",
       "      <td>0.35</td>\n",
       "      <td>0.06</td>\n",
       "      <td>0.03</td>\n",
       "      <td>100.00</td>\n",
       "      <td>4.012732</td>\n",
       "      <td>Px</td>\n",
       "      <td>0.381780</td>\n",
       "    </tr>\n",
       "    <tr>\n",
       "      <th>11</th>\n",
       "      <td>-0.023316</td>\n",
       "      <td>1403.895129</td>\n",
       "      <td>1360.836567</td>\n",
       "      <td>1.041796</td>\n",
       "      <td>1338.083333</td>\n",
       "      <td>1382.658889</td>\n",
       "      <td>1.400082</td>\n",
       "      <td>1432.006876</td>\n",
       "      <td>1428.176482</td>\n",
       "      <td>2.023527</td>\n",
       "      <td>...</td>\n",
       "      <td>0.31</td>\n",
       "      <td>16.10</td>\n",
       "      <td>19.90</td>\n",
       "      <td>0.14</td>\n",
       "      <td>0.00</td>\n",
       "      <td>NaN</td>\n",
       "      <td>101.00</td>\n",
       "      <td>4.031544</td>\n",
       "      <td>Px</td>\n",
       "      <td>0.421148</td>\n",
       "    </tr>\n",
       "  </tbody>\n",
       "</table>\n",
       "<p>12 rows × 33 columns</p>\n",
       "</div>"
      ],
      "text/plain": [
       "    P_Wang21_eq1  T_Wang21_eq2  T_Jorgenson22  P_Jorgenson22  T_Petrelli20  \\\n",
       "0       1.174656   1429.795381    1387.393781       1.121759   1367.403333   \n",
       "1      -0.277807   1412.607486    1348.140050       1.691935   1315.896667   \n",
       "2      -3.659129   1361.299256    1324.135075       0.843557   1294.648889   \n",
       "3       0.700781   1409.420381    1380.552985       1.756400   1374.181111   \n",
       "4       1.422243   1408.706550    1380.403731       0.899239   1385.665556   \n",
       "5       0.899259   1431.963013    1349.747015       1.419311   1330.316667   \n",
       "6       0.036703   1408.769400    1406.856468       1.822435   1398.321111   \n",
       "7       4.205289   1440.204178    1404.950995       2.834455   1414.924444   \n",
       "8       2.073368   1430.089373    1394.861443       0.255353   1388.814444   \n",
       "9      -0.053378   1395.206458    1383.781841       0.619465   1328.141111   \n",
       "10     -1.109393   1382.121356    1294.602736       1.720234   1292.774444   \n",
       "11     -0.023316   1403.895129    1360.836567       1.041796   1338.083333   \n",
       "\n",
       "    T_Petrelli21_H2O  P_Petrelli21_H2O  T_Put_Teq32d_Peq32a  \\\n",
       "0        1430.916667          0.495613          1449.927008   \n",
       "1        1381.706667          1.103384          1426.634482   \n",
       "2        1350.580000          1.105371          1329.790077   \n",
       "3        1435.534444          1.287976          1438.665810   \n",
       "4        1406.910000          0.835840          1436.864923   \n",
       "5        1429.174444          0.389113          1450.353835   \n",
       "6        1431.467778          1.925582          1432.253726   \n",
       "7        1417.255556          4.821711          1475.988649   \n",
       "8        1398.771111          1.021738          1465.016178   \n",
       "9        1362.285556          0.889056          1427.752355   \n",
       "10       1357.756667          2.729600          1391.729969   \n",
       "11       1382.658889          1.400082          1432.006876   \n",
       "\n",
       "    T_Put_Teq32d_Peq32b  P_Petrelli20  ...  MnO_Cpx  MgO_Cpx  CaO_Cpx  \\\n",
       "0           1443.803571      1.132780  ...     0.13    16.30    20.50   \n",
       "1           1428.250157      2.267609  ...     0.29    16.01    21.29   \n",
       "2           1332.129648      1.799151  ...     0.39    15.24    21.44   \n",
       "3           1427.044610      2.162647  ...     0.16    15.63    20.46   \n",
       "4           1433.994878      0.975482  ...     0.23    15.25    19.55   \n",
       "5           1449.473949      2.301909  ...     0.19    17.00    20.20   \n",
       "6           1423.054371      2.182378  ...     0.13    16.70    19.10   \n",
       "7           1462.163775      4.300127  ...     0.31    17.60    15.50   \n",
       "8           1450.066333      1.126124  ...     0.29    17.20    16.90   \n",
       "9           1434.761153      1.652476  ...     0.43    16.60    18.90   \n",
       "10          1383.758745      2.839496  ...     0.36    15.40    20.70   \n",
       "11          1428.176482      2.023527  ...     0.31    16.10    19.90   \n",
       "\n",
       "   Na2O_Cpx Cr2O3_Cpx  K2O_Cpx   Total Cation_sum_Cpx  MachineLearning_Class  \\\n",
       "0      0.29      0.64     0.00     NaN       4.013699                     Px   \n",
       "1      0.16      0.39     0.00   99.53       4.004187                     Px   \n",
       "2      0.22      0.05     0.00  101.07       4.028947                     Px   \n",
       "3      0.26      0.33      NaN  100.16       4.019637                     Px   \n",
       "4      0.29      0.00      NaN   99.99       4.008819                     Px   \n",
       "5      0.25      0.28      NaN  100.00       4.017663                     Px   \n",
       "6      0.28      0.14     0.00  100.00       4.035310                     Px   \n",
       "7      0.36      0.29     0.00   99.70       4.037988                     Px   \n",
       "8      0.16      0.17      NaN   99.00       4.011156                     Px   \n",
       "9      0.22      0.01     0.00  100.70       3.999435                     Px   \n",
       "10     0.35      0.06     0.03  100.00       4.012732                     Px   \n",
       "11     0.14      0.00      NaN  101.00       4.031544                     Px   \n",
       "\n",
       "    Ca_CaMgFe  \n",
       "0    0.421441  \n",
       "1    0.436107  \n",
       "2    0.427561  \n",
       "3    0.423101  \n",
       "4    0.405679  \n",
       "5    0.409664  \n",
       "6    0.033885  \n",
       "7    0.387626  \n",
       "8    0.321689  \n",
       "9    0.350061  \n",
       "10   0.381780  \n",
       "11   0.421148  \n",
       "\n",
       "[12 rows x 33 columns]"
      ]
     },
     "execution_count": 25,
     "metadata": {},
     "output_type": "execute_result"
    }
   ],
   "source": [
    "MedicineLake_Combo"
   ]
  },
  {
   "cell_type": "code",
   "execution_count": 36,
   "id": "1bcf0ff2-60c5-41d0-9719-609bd7463b91",
   "metadata": {},
   "outputs": [
    {
     "ename": "InvalidIndexError",
     "evalue": "Reindexing only valid with uniquely valued Index objects",
     "output_type": "error",
     "traceback": [
      "\u001b[1;31m---------------------------------------------------------------------------\u001b[0m",
      "\u001b[1;31mInvalidIndexError\u001b[0m                         Traceback (most recent call last)",
      "Input \u001b[1;32mIn [36]\u001b[0m, in \u001b[0;36m<cell line: 1>\u001b[1;34m()\u001b[0m\n\u001b[1;32m----> 1\u001b[0m Combo_Cpx\u001b[38;5;241m=\u001b[39m\u001b[43mpd\u001b[49m\u001b[38;5;241;43m.\u001b[39;49m\u001b[43mconcat\u001b[49m\u001b[43m(\u001b[49m\u001b[43m[\u001b[49m\u001b[43mBaker_Combo\u001b[49m\u001b[38;5;241;43m.\u001b[39;49m\u001b[43mreset_index\u001b[49m\u001b[43m(\u001b[49m\u001b[43mdrop\u001b[49m\u001b[38;5;241;43m=\u001b[39;49m\u001b[38;5;28;43;01mTrue\u001b[39;49;00m\u001b[43m)\u001b[49m\u001b[43m,\u001b[49m\u001b[43m \u001b[49m\u001b[43mGlacier_Combo\u001b[49m\u001b[38;5;241;43m.\u001b[39;49m\u001b[43mreset_index\u001b[49m\u001b[43m(\u001b[49m\u001b[43mdrop\u001b[49m\u001b[38;5;241;43m=\u001b[39;49m\u001b[38;5;28;43;01mTrue\u001b[39;49;00m\u001b[43m)\u001b[49m\u001b[43m]\u001b[49m\u001b[43m,\u001b[49m\u001b[43m \u001b[49m\u001b[43maxis\u001b[49m\u001b[38;5;241;43m=\u001b[39;49m\u001b[38;5;241;43m0\u001b[39;49m\u001b[43m)\u001b[49m\n\u001b[0;32m      2\u001b[0m Combo_Cpx\n",
      "File \u001b[1;32m~\\anaconda3\\lib\\site-packages\\pandas\\util\\_decorators.py:311\u001b[0m, in \u001b[0;36mdeprecate_nonkeyword_arguments.<locals>.decorate.<locals>.wrapper\u001b[1;34m(*args, **kwargs)\u001b[0m\n\u001b[0;32m    305\u001b[0m \u001b[38;5;28;01mif\u001b[39;00m \u001b[38;5;28mlen\u001b[39m(args) \u001b[38;5;241m>\u001b[39m num_allow_args:\n\u001b[0;32m    306\u001b[0m     warnings\u001b[38;5;241m.\u001b[39mwarn(\n\u001b[0;32m    307\u001b[0m         msg\u001b[38;5;241m.\u001b[39mformat(arguments\u001b[38;5;241m=\u001b[39marguments),\n\u001b[0;32m    308\u001b[0m         \u001b[38;5;167;01mFutureWarning\u001b[39;00m,\n\u001b[0;32m    309\u001b[0m         stacklevel\u001b[38;5;241m=\u001b[39mstacklevel,\n\u001b[0;32m    310\u001b[0m     )\n\u001b[1;32m--> 311\u001b[0m \u001b[38;5;28;01mreturn\u001b[39;00m func(\u001b[38;5;241m*\u001b[39margs, \u001b[38;5;241m*\u001b[39m\u001b[38;5;241m*\u001b[39mkwargs)\n",
      "File \u001b[1;32m~\\anaconda3\\lib\\site-packages\\pandas\\core\\reshape\\concat.py:360\u001b[0m, in \u001b[0;36mconcat\u001b[1;34m(objs, axis, join, ignore_index, keys, levels, names, verify_integrity, sort, copy)\u001b[0m\n\u001b[0;32m    156\u001b[0m \u001b[38;5;124;03m\"\"\"\u001b[39;00m\n\u001b[0;32m    157\u001b[0m \u001b[38;5;124;03mConcatenate pandas objects along a particular axis with optional set logic\u001b[39;00m\n\u001b[0;32m    158\u001b[0m \u001b[38;5;124;03malong the other axes.\u001b[39;00m\n\u001b[1;32m   (...)\u001b[0m\n\u001b[0;32m    345\u001b[0m \u001b[38;5;124;03mValueError: Indexes have overlapping values: ['a']\u001b[39;00m\n\u001b[0;32m    346\u001b[0m \u001b[38;5;124;03m\"\"\"\u001b[39;00m\n\u001b[0;32m    347\u001b[0m op \u001b[38;5;241m=\u001b[39m _Concatenator(\n\u001b[0;32m    348\u001b[0m     objs,\n\u001b[0;32m    349\u001b[0m     axis\u001b[38;5;241m=\u001b[39maxis,\n\u001b[1;32m   (...)\u001b[0m\n\u001b[0;32m    357\u001b[0m     sort\u001b[38;5;241m=\u001b[39msort,\n\u001b[0;32m    358\u001b[0m )\n\u001b[1;32m--> 360\u001b[0m \u001b[38;5;28;01mreturn\u001b[39;00m \u001b[43mop\u001b[49m\u001b[38;5;241;43m.\u001b[39;49m\u001b[43mget_result\u001b[49m\u001b[43m(\u001b[49m\u001b[43m)\u001b[49m\n",
      "File \u001b[1;32m~\\anaconda3\\lib\\site-packages\\pandas\\core\\reshape\\concat.py:591\u001b[0m, in \u001b[0;36m_Concatenator.get_result\u001b[1;34m(self)\u001b[0m\n\u001b[0;32m    589\u001b[0m         obj_labels \u001b[38;5;241m=\u001b[39m obj\u001b[38;5;241m.\u001b[39maxes[\u001b[38;5;241m1\u001b[39m \u001b[38;5;241m-\u001b[39m ax]\n\u001b[0;32m    590\u001b[0m         \u001b[38;5;28;01mif\u001b[39;00m \u001b[38;5;129;01mnot\u001b[39;00m new_labels\u001b[38;5;241m.\u001b[39mequals(obj_labels):\n\u001b[1;32m--> 591\u001b[0m             indexers[ax] \u001b[38;5;241m=\u001b[39m \u001b[43mobj_labels\u001b[49m\u001b[38;5;241;43m.\u001b[39;49m\u001b[43mget_indexer\u001b[49m\u001b[43m(\u001b[49m\u001b[43mnew_labels\u001b[49m\u001b[43m)\u001b[49m\n\u001b[0;32m    593\u001b[0m     mgrs_indexers\u001b[38;5;241m.\u001b[39mappend((obj\u001b[38;5;241m.\u001b[39m_mgr, indexers))\n\u001b[0;32m    595\u001b[0m new_data \u001b[38;5;241m=\u001b[39m concatenate_managers(\n\u001b[0;32m    596\u001b[0m     mgrs_indexers, \u001b[38;5;28mself\u001b[39m\u001b[38;5;241m.\u001b[39mnew_axes, concat_axis\u001b[38;5;241m=\u001b[39m\u001b[38;5;28mself\u001b[39m\u001b[38;5;241m.\u001b[39mbm_axis, copy\u001b[38;5;241m=\u001b[39m\u001b[38;5;28mself\u001b[39m\u001b[38;5;241m.\u001b[39mcopy\n\u001b[0;32m    597\u001b[0m )\n",
      "File \u001b[1;32m~\\anaconda3\\lib\\site-packages\\pandas\\core\\indexes\\base.py:3721\u001b[0m, in \u001b[0;36mIndex.get_indexer\u001b[1;34m(self, target, method, limit, tolerance)\u001b[0m\n\u001b[0;32m   3718\u001b[0m \u001b[38;5;28mself\u001b[39m\u001b[38;5;241m.\u001b[39m_check_indexing_method(method, limit, tolerance)\n\u001b[0;32m   3720\u001b[0m \u001b[38;5;28;01mif\u001b[39;00m \u001b[38;5;129;01mnot\u001b[39;00m \u001b[38;5;28mself\u001b[39m\u001b[38;5;241m.\u001b[39m_index_as_unique:\n\u001b[1;32m-> 3721\u001b[0m     \u001b[38;5;28;01mraise\u001b[39;00m InvalidIndexError(\u001b[38;5;28mself\u001b[39m\u001b[38;5;241m.\u001b[39m_requires_unique_msg)\n\u001b[0;32m   3723\u001b[0m \u001b[38;5;28;01mif\u001b[39;00m \u001b[38;5;28mlen\u001b[39m(target) \u001b[38;5;241m==\u001b[39m \u001b[38;5;241m0\u001b[39m:\n\u001b[0;32m   3724\u001b[0m     \u001b[38;5;28;01mreturn\u001b[39;00m np\u001b[38;5;241m.\u001b[39marray([], dtype\u001b[38;5;241m=\u001b[39mnp\u001b[38;5;241m.\u001b[39mintp)\n",
      "\u001b[1;31mInvalidIndexError\u001b[0m: Reindexing only valid with uniquely valued Index objects"
     ]
    }
   ],
   "source": [
    "Combo_Cpx=pd.concat([Baker_Combo.reset_index(drop=True), Glacier_Combo.reset_index(drop=True)], axis=0)\n",
    "Combo_Cpx"
   ]
  },
  {
   "cell_type": "code",
   "execution_count": null,
   "id": "0cb02e5d-3eaf-4a07-853c-4b22e2aa2921",
   "metadata": {},
   "outputs": [],
   "source": [
    "Combo_Cpx.loc[Combo_Cpx['Cr2O3_Cpx']>1.5]"
   ]
  },
  {
   "cell_type": "code",
   "execution_count": null,
   "id": "6b9c91e8-52af-4080-8c65-cb1d1e3a126a",
   "metadata": {},
   "outputs": [],
   "source": [
    "100*sum(Combo_Cpx['Jd_from 0=Na, 1=Al']==0)/len(Combo_Cpx)\n",
    "Jd_from_Na=(Combo_Cpx['Jd_from 0=Na, 1=Al']==0)\n",
    "Jd_from_Al=(Combo_Cpx['Jd_from 0=Na, 1=Al']==1)"
   ]
  },
  {
   "cell_type": "code",
   "execution_count": null,
   "id": "d48c9d11-3f3b-4014-93c5-7b1507d5655a",
   "metadata": {},
   "outputs": [],
   "source": [
    "100*sum(Combo_Cpx['Jd_from 0=Na, 1=Al']==1)/len(Combo_Cpx)"
   ]
  },
  {
   "cell_type": "code",
   "execution_count": null,
   "id": "bd2e18f3-de84-4d0a-9296-72e318898caf",
   "metadata": {},
   "outputs": [],
   "source": [
    "plt.plot(Combo_Cpx['Al2O3_Cpx'].loc[Jd_from_Na], Combo_Cpx['Na2O_Cpx'].loc[Jd_from_Na],\n",
    "         'ok', mfc='yellow', label='from Na')\n",
    "plt.plot(Combo_Cpx['Al2O3_Cpx'].loc[Jd_from_Al], Combo_Cpx['Na2O_Cpx'].loc[Jd_from_Al],\n",
    "         '.r', mfc='red', label='from Al')\n",
    "plt.legend()"
   ]
  },
  {
   "cell_type": "code",
   "execution_count": null,
   "id": "9b85f292-db1a-47ad-a514-67e559b34211",
   "metadata": {},
   "outputs": [],
   "source": [
    "plt.plot(Combo_Cpx['P_Wang21_eq1'].loc[Jd_from_Na], Combo_Cpx['Na2O_Cpx'].loc[Jd_from_Na],\n",
    "         'ok', mfc='yellow', label='from Na')\n",
    "plt.plot(Combo_Cpx['P_Wang21_eq1'].loc[Jd_from_Al], Combo_Cpx['Na2O_Cpx'].loc[Jd_from_Al],\n",
    "         '.r', mfc='red', label='from Al')\n",
    "plt.legend()"
   ]
  },
  {
   "cell_type": "code",
   "execution_count": null,
   "id": "1475ff7f-610b-4224-82ee-540bd014cce4",
   "metadata": {},
   "outputs": [],
   "source": [
    "plt.hist(Combo_Cpx['P_Wang21_eq1'], bins=20)"
   ]
  },
  {
   "cell_type": "markdown",
   "id": "b95b6b26-6dc5-4732-ac11-90bf0f2c174b",
   "metadata": {},
   "source": [
    "## Violin plots for each volcano"
   ]
  },
  {
   "cell_type": "code",
   "execution_count": null,
   "id": "c5223dce-1b19-4884-a68a-9eed645c0cc3",
   "metadata": {},
   "outputs": [],
   "source": [
    "Pequation=\"P_Wang21_eq1\"\n",
    "import seaborn as sns\n",
    "fig, ((ax1, ax2, ax3, ax4, ax5, ax6),  (ax7, ax8, ax9, ax10, ax11, ax12)) = plt.subplots(2, 6, figsize=(12, 10), sharey=True)\n",
    "Baker_cpx_Press_All\n",
    "ax1.set_title(\"Baker, N = \"+str(len(Baker_cpx_Press_All)))\n",
    "ax = sns.violinplot(y=Baker_cpx_Press_All[Pequation], inner=\"stick\", cut=0, ax=ax1, color=\"orange\", linewidth=1, \n",
    "                   linecolor='r')\n",
    "ax2.set_title(\"Glacier, N = \"+str(len(Glacier_cpx_Press_All)))\n",
    "ax = sns.violinplot(y=Glacier_cpx_Press_All[Pequation], inner=\"stick\", cut=0, ax=ax2, color=\"orange\", linewidth=1, \n",
    "                   linecolor='r')\n",
    "ax3.set_title(\"Rainier, N = \"+str(len(Rainier_cpx_Press_All)))\n",
    "ax = sns.violinplot(y=Rainier_cpx_Press_All[Pequation], inner=\"stick\", cut=0, ax=ax3, color=\"green\", linewidth=1, \n",
    "                   linecolor='r')\n",
    "ax4.set_title(\"MSH, N = \"+str(len(MSH_cpx_Press_All)))\n",
    "\n",
    "ax = sns.violinplot(y=MSH_cpx_Press_All[Pequation], inner=\"stick\", cut=0, ax=ax4, color=\"green\", linewidth=1, \n",
    "                   linecolor='r')\n",
    "ax5.set_title(\"Adams, N = \"+str(len(Adams_cpx_Press_All)))\n",
    "ax = sns.violinplot(y=Adams_cpx_Press_All[Pequation], inner=\"stick\", cut=0, ax=ax5, color=\"green\", linewidth=1, \n",
    "                   linecolor='r')\n",
    "ax6.set_title(\"Hood, N = \"+str(len(Hood_cpx_Press_All)))\n",
    "ax = sns.violinplot(y=Hood_cpx_Press_All[Pequation], inner=\"stick\", cut=0, ax=ax6, color=\"lightblue\", linewidth=1, \n",
    "                   linecolor='r')\n",
    "\n",
    "ax7.set_title(\"Jefferson, N = \"+str(len(Jefferson_cpx_Press_All)))\n",
    "ax = sns.violinplot(y=Jefferson_cpx_Press_All[Pequation], inner=\"stick\", cut=0, ax=ax7, color=\"lightblue\", linewidth=1, \n",
    "                   linecolor='r')\n",
    "\n",
    "ax8.set_title(\"NorthSister, N = \"+str(len(NorthSister_cpx_Press_All)))\n",
    "ax = sns.violinplot(y=NorthSister_cpx_Press_All[Pequation], inner=\"stick\", cut=0, ax=ax8, color=\"magenta\", linewidth=1, \n",
    "                   linecolor='r')\n",
    "\n",
    "ax9.set_title(\"SouthSister, N = \"+str(len(SouthSister_cpx_Press_All)))\n",
    "ax = sns.violinplot(y=SouthSister_cpx_Press_All[Pequation], inner=\"stick\", cut=0, ax=ax9, color=\"magenta\", linewidth=1, \n",
    "                   linecolor='r')\n",
    "\n",
    "ax10.set_title(\"Mazama, N= \"+str(len(Mazama_cpx_Press_All)))\n",
    "ax = sns.violinplot(y=Mazama_cpx_Press_All[Pequation], inner=\"stick\", cut=0, ax=ax10, color=\"magenta\", linewidth=1, \n",
    "                   linecolor='r')\n",
    "\n",
    "ax11.set_title(\"Shasta, N= \"+str(len(Shasta_cpx_Press_All)))\n",
    "ax = sns.violinplot(y=Shasta_cpx_Press_All[Pequation], inner=\"stick\", cut=0, ax=ax11, color=\"magenta\", linewidth=1, \n",
    "                   linecolor='r')\n",
    "\n",
    "ax12.set_title(\"Lassen, N= \"+str(len(Lassen_cpx_Press_All)))\n",
    "ax = sns.violinplot(y=Lassen_cpx_Press_All[Pequation], inner=\"stick\", cut=0, ax=ax12, color=\"magenta\", linewidth=1, \n",
    "                   linecolor='r')\n",
    "plt.ylim([-2.5, 15])\n",
    "plt.gca().invert_yaxis()\n"
   ]
  },
  {
   "cell_type": "code",
   "execution_count": 53,
   "id": "5070760f-b7c6-4575-bd80-43d650d2f09b",
   "metadata": {},
   "outputs": [
    {
     "data": {
      "text/plain": [
       "2848"
      ]
     },
     "execution_count": 53,
     "metadata": {},
     "output_type": "execute_result"
    }
   ],
   "source": [
    "len(Combo_Cpx)"
   ]
  },
  {
   "cell_type": "code",
   "execution_count": 54,
   "id": "7fb96f52-f303-41f3-b8f3-772767cf9666",
   "metadata": {},
   "outputs": [
    {
     "data": {
      "image/png": "[encoded data removed]",
      "text/plain": [
       "<Figure size 720x360 with 1 Axes>"
      ]
     },
     "metadata": {
      "needs_background": "light"
     },
     "output_type": "display_data"
    }
   ],
   "source": [
    "fig, (ax1) = plt.subplots(1, 1, figsize=(10,5), sharey=True)\n",
    "axes_cols = (axes.flatten()[::2], axes.flatten()[1::2])\n",
    "Combo_Cpx['Phase']=\"Cpx\"\n",
    "Combo_Cpx.loc[0:10, 'Phase']=\"Amp\"\n",
    "\n",
    "sns.violinplot(x=\"Latitude\", y=\"P_Petrelli21\", hue=\"Phase\", cut=0, inner=\"stick\",\n",
    "            data=Combo_Cpx, split=True, ax=ax1)\n",
    "# (y=Hood_cpx_Press_All[Pequation], inner=\"stick\", cut=0, ax=ax6, color=\"lightblue\", linewidth=1, \n",
    "#                    linecolor='r')\n",
    "fig.tight_layout()"
   ]
  },
  {
   "cell_type": "code",
   "execution_count": 55,
   "id": "e9fe9532-d2f3-42cf-b4b8-3204e4545206",
   "metadata": {},
   "outputs": [
    {
     "data": {
      "image/png": "[encoded data removed]",
      "text/plain": [
       "<Figure size 720x1152 with 8 Axes>"
      ]
     },
     "metadata": {
      "needs_background": "light"
     },
     "output_type": "display_data"
    }
   ],
   "source": [
    "fig, axes = plt.subplots(4, 2, figsize=(10, 16), sharey='row')\n",
    "axes_cols = (axes.flatten()[::2], axes.flatten()[1::2])\n",
    "Combo_Cpx['Phase']=\"Cpx\"\n",
    "Combo_Cpx.loc[0:10, 'Phase']=\"Amp\"\n",
    "for (sex_name, sex), axes_col in zip(Combo_Cpx.groupby('Latitude'), axes_cols):\n",
    "    sns.countplot(x=\"Latitude\", hue=\"Latitude\", data=sex, ax=axes_col[0])\n",
    "    for scale, ax in zip(['area', 'count', 'width'], axes_col[1:]):\n",
    "        sns.violinplot(x=\"Latitude\", y=\"P_Petrelli21\", hue=\"Phase\",\n",
    "            data=Combo_Cpx, split=True, ax=ax, scale=scale)\n",
    "        ax.set_title('scale = {}'.format(scale), y=0.95)\n",
    "sns.despine()\n",
    "fig.tight_layout()"
   ]
  },
  {
   "cell_type": "markdown",
   "id": "a2e3fad5-8d8f-4efb-9b1e-6b4c6b0f49c9",
   "metadata": {},
   "source": [
    "## Petrelli 21"
   ]
  },
  {
   "cell_type": "code",
   "execution_count": null,
   "id": "671db487-5c87-4c84-a273-bc0c0e55dad8",
   "metadata": {},
   "outputs": [],
   "source": [
    "Pequation=\"P_Petrelli21\"\n",
    "import seaborn as sns\n",
    "fig, ((ax1, ax2, ax3, ax4, ax5, ax6),  (ax7, ax8, ax9, ax10, ax11, ax12)) = plt.subplots(2, 6, figsize=(12, 10), sharey=True)\n",
    "Baker_cpx_Press_All\n",
    "ax1.set_title(\"Baker, N = \"+str(len(Baker_cpx_Press_All)))\n",
    "ax = sns.violinplot(y=Baker_cpx_Press_All[Pequation], inner=\"stick\", cut=0, ax=ax1, color=\"orange\", linewidth=1, \n",
    "                   linecolor='r')\n",
    "ax2.set_title(\"Glacier, N = \"+str(len(Glacier_cpx_Press_All)))\n",
    "ax = sns.violinplot(y=Glacier_cpx_Press_All[Pequation], inner=\"stick\", cut=0, ax=ax2, color=\"orange\", linewidth=1, \n",
    "                   linecolor='r')\n",
    "ax3.set_title(\"Rainier, N = \"+str(len(Rainier_cpx_Press_All)))\n",
    "ax = sns.violinplot(y=Rainier_cpx_Press_All[Pequation], inner=\"stick\", cut=0, ax=ax3, color=\"green\", linewidth=1, \n",
    "                   linecolor='r')\n",
    "ax4.set_title(\"MSH, N = \"+str(len(MSH_cpx_Press_All)))\n",
    "\n",
    "ax = sns.violinplot(y=MSH_cpx_Press_All[Pequation], inner=\"stick\", cut=0, ax=ax4, color=\"green\", linewidth=1, \n",
    "                   linecolor='r')\n",
    "ax5.set_title(\"Adams, N = \"+str(len(Adams_cpx_Press_All)))\n",
    "ax = sns.violinplot(y=Adams_cpx_Press_All[Pequation], inner=\"stick\", cut=0, ax=ax5, color=\"green\", linewidth=1, \n",
    "                   linecolor='r')\n",
    "ax6.set_title(\"Hood, N = \"+str(len(Hood_cpx_Press_All)))\n",
    "ax = sns.violinplot(y=Hood_cpx_Press_All[Pequation], inner=\"stick\", cut=0, ax=ax6, color=\"lightblue\", linewidth=1, \n",
    "                   linecolor='r')\n",
    "\n",
    "ax7.set_title(\"Jefferson, N = \"+str(len(Jefferson_cpx_Press_All)))\n",
    "ax = sns.violinplot(y=Jefferson_cpx_Press_All[Pequation], inner=\"stick\", cut=0, ax=ax7, color=\"lightblue\", linewidth=1, \n",
    "                   linecolor='r')\n",
    "\n",
    "ax8.set_title(\"NorthSister, N = \"+str(len(NorthSister_cpx_Press_All)))\n",
    "ax = sns.violinplot(y=NorthSister_cpx_Press_All[Pequation], inner=\"stick\", cut=0, ax=ax8, color=\"magenta\", linewidth=1, \n",
    "                   linecolor='r')\n",
    "\n",
    "ax9.set_title(\"SouthSister, N = \"+str(len(SouthSister_cpx_Press_All)))\n",
    "ax = sns.violinplot(y=SouthSister_cpx_Press_All[Pequation], inner=\"stick\", cut=0, ax=ax9, color=\"magenta\", linewidth=1, \n",
    "                   linecolor='r')\n",
    "\n",
    "ax10.set_title(\"Mazama, N= \"+str(len(Mazama_cpx_Press_All)))\n",
    "ax = sns.violinplot(y=Mazama_cpx_Press_All[Pequation], inner=\"stick\", cut=0, ax=ax10, color=\"magenta\", linewidth=1, \n",
    "                   linecolor='r')\n",
    "\n",
    "ax11.set_title(\"Shasta, N= \"+str(len(Shasta_cpx_Press_All)))\n",
    "ax = sns.violinplot(y=Shasta_cpx_Press_All[Pequation], inner=\"stick\", cut=0, ax=ax11, color=\"magenta\", linewidth=1, \n",
    "                   linecolor='r')\n",
    "\n",
    "ax12.set_title(\"Lassen, N= \"+str(len(Lassen_cpx_Press_All)))\n",
    "ax = sns.violinplot(y=Lassen_cpx_Press_All[Pequation], inner=\"stick\", cut=0, ax=ax12, color=\"magenta\", linewidth=1, \n",
    "                   linecolor='r')\n",
    "plt.ylim([-2.5, 15])\n",
    "plt.gca().invert_yaxis()\n"
   ]
  },
  {
   "cell_type": "markdown",
   "id": "ce5d7c2b-1c71-41de-8893-4456b9a90da7",
   "metadata": {},
   "source": [
    "## Puirka 32a -H2O-indep"
   ]
  },
  {
   "cell_type": "code",
   "execution_count": null,
   "id": "aad2f25e-d122-4751-ab24-5d10d7fd2887",
   "metadata": {},
   "outputs": [],
   "source": [
    "Pequation=\"P_Put_Teq32d_Peq32a\"\n",
    "import seaborn as sns\n",
    "fig, ((ax1, ax2, ax3, ax4, ax5, ax6),  (ax7, ax8, ax9, ax10, ax11, ax12)) = plt.subplots(2, 6, figsize=(12, 10), sharey=True)\n",
    "Baker_cpx_Press_All\n",
    "ax1.set_title(\"Baker, N = \"+str(len(Baker_cpx_Press_All)))\n",
    "ax = sns.violinplot(y=Baker_cpx_Press_All[Pequation], inner=\"stick\", cut=0, ax=ax1, color=\"orange\", linewidth=1, \n",
    "                   linecolor='r')\n",
    "ax2.set_title(\"Glacier, N = \"+str(len(Glacier_cpx_Press_All)))\n",
    "ax = sns.violinplot(y=Glacier_cpx_Press_All[Pequation], inner=\"stick\", cut=0, ax=ax2, color=\"orange\", linewidth=1, \n",
    "                   linecolor='r')\n",
    "ax3.set_title(\"Rainier, N = \"+str(len(Rainier_cpx_Press_All)))\n",
    "ax = sns.violinplot(y=Rainier_cpx_Press_All[Pequation], inner=\"stick\", cut=0, ax=ax3, color=\"green\", linewidth=1, \n",
    "                   linecolor='r')\n",
    "ax4.set_title(\"MSH, N = \"+str(len(MSH_cpx_Press_All)))\n",
    "\n",
    "ax = sns.violinplot(y=MSH_cpx_Press_All[Pequation], inner=\"stick\", cut=0, ax=ax4, color=\"green\", linewidth=1, \n",
    "                   linecolor='r')\n",
    "ax5.set_title(\"Adams, N = \"+str(len(Adams_cpx_Press_All)))\n",
    "ax = sns.violinplot(y=Adams_cpx_Press_All[Pequation], inner=\"stick\", cut=0, ax=ax5, color=\"green\", linewidth=1, \n",
    "                   linecolor='r')\n",
    "ax6.set_title(\"Hood, N = \"+str(len(Hood_cpx_Press_All)))\n",
    "ax = sns.violinplot(y=Hood_cpx_Press_All[Pequation], inner=\"stick\", cut=0, ax=ax6, color=\"lightblue\", linewidth=1, \n",
    "                   linecolor='r')\n",
    "\n",
    "ax7.set_title(\"Jefferson, N = \"+str(len(Jefferson_cpx_Press_All)))\n",
    "ax = sns.violinplot(y=Jefferson_cpx_Press_All[Pequation], inner=\"stick\", cut=0, ax=ax7, color=\"lightblue\", linewidth=1, \n",
    "                   linecolor='r')\n",
    "\n",
    "ax8.set_title(\"NorthSister, N = \"+str(len(NorthSister_cpx_Press_All)))\n",
    "ax = sns.violinplot(y=NorthSister_cpx_Press_All[Pequation], inner=\"stick\", cut=0, ax=ax8, color=\"magenta\", linewidth=1, \n",
    "                   linecolor='r')\n",
    "\n",
    "ax9.set_title(\"SouthSister, N = \"+str(len(SouthSister_cpx_Press_All)))\n",
    "ax = sns.violinplot(y=SouthSister_cpx_Press_All[Pequation], inner=\"stick\", cut=0, ax=ax9, color=\"magenta\", linewidth=1, \n",
    "                   linecolor='r')\n",
    "\n",
    "ax10.set_title(\"Mazama, N= \"+str(len(Mazama_cpx_Press_All)))\n",
    "ax = sns.violinplot(y=Mazama_cpx_Press_All[Pequation], inner=\"stick\", cut=0, ax=ax10, color=\"magenta\", linewidth=1, \n",
    "                   linecolor='r')\n",
    "\n",
    "ax11.set_title(\"Shasta, N= \"+str(len(Shasta_cpx_Press_All)))\n",
    "ax = sns.violinplot(y=Shasta_cpx_Press_All[Pequation], inner=\"stick\", cut=0, ax=ax11, color=\"magenta\", linewidth=1, \n",
    "                   linecolor='r')\n",
    "\n",
    "ax12.set_title(\"Lassen, N= \"+str(len(Lassen_cpx_Press_All)))\n",
    "ax = sns.violinplot(y=Lassen_cpx_Press_All[Pequation], inner=\"stick\", cut=0, ax=ax12, color=\"magenta\", linewidth=1, \n",
    "                   linecolor='r')\n",
    "plt.ylim([-2.5, 15])\n",
    "plt.gca().invert_yaxis()\n"
   ]
  },
  {
   "cell_type": "markdown",
   "id": "4b46cb4c-a853-4c39-aebf-fe2cc8c2ac05",
   "metadata": {},
   "source": [
    "## Combine Data along with Latitude, save to a pickle"
   ]
  },
  {
   "cell_type": "code",
   "execution_count": null,
   "id": "43015946-2f83-4f53-a121-9f6e09fe88b5",
   "metadata": {},
   "outputs": [],
   "source": []
  },
  {
   "cell_type": "code",
   "execution_count": null,
   "id": "8facb065-cd39-4143-8f5d-16969f2d8893",
   "metadata": {},
   "outputs": [],
   "source": [
    "xaxis=\"P_Petrelli21\"\n",
    "yaxis=\"P_Wang21_eq1\"#\"P_Petrelli21\"\n",
    "plt.plot(Combo_Cpx[xaxis], Combo_Cpx[yaxis], '.k')\n",
    "stats=pt.calculate_R2(Combo_Cpx[xaxis], Combo_Cpx[yaxis])\n",
    "print(\"R2= \" + str(stats['R2']))\n",
    "plt.ylim([-3, 12])\n",
    "plt.xlabel('Petrelli 2021 (kbar)')\n",
    "plt.ylabel('Wang eq 1 (kbar)')\n",
    "plt.plot([-5, 12], [-5, 12], ':r')"
   ]
  },
  {
   "cell_type": "code",
   "execution_count": null,
   "id": "85edb4d6-469e-4a33-b46e-ff9f01ea4b4c",
   "metadata": {},
   "outputs": [],
   "source": [
    "xaxis=\"P_Put_Teq32d_Peq32a\"\n",
    "yaxis=\"P_Wang21_eq1\"#\"P_Petrelli21\"\n",
    "plt.plot(Combo_Cpx[xaxis], Combo_Cpx[yaxis], '.k')\n",
    "stats=pt.calculate_R2(Combo_Cpx[xaxis], Combo_Cpx[yaxis])\n",
    "print(\"R2= \" + str(stats['R2']))\n",
    "plt.ylim([-3, 12])\n",
    "plt.xlabel(str(xaxis))\n",
    "plt.ylabel(str(yaxis))\n",
    "plt.plot([-5, 12], [-5, 12], ':r')"
   ]
  },
  {
   "cell_type": "code",
   "execution_count": null,
   "id": "e058060a-29ae-4e3f-8f9f-223427ef2195",
   "metadata": {},
   "outputs": [],
   "source": [
    "xaxis=\"P_Put_Teq32d_Peq32b\"\n",
    "yaxis=\"P_Wang21_eq1\"#\"P_Petrelli21\"\n",
    "plt.plot(Combo_Cpx[xaxis], Combo_Cpx[yaxis], '.k')\n",
    "stats=pt.calculate_R2(Combo_Cpx[xaxis], Combo_Cpx[yaxis])\n",
    "print(\"R2= \" + str(stats['R2']))\n",
    "plt.ylim([-3, 12])\n",
    "plt.xlabel(str(xaxis))\n",
    "plt.ylabel(str(yaxis))\n",
    "plt.plot([-5, 12], [-5, 12], ':r')"
   ]
  },
  {
   "cell_type": "code",
   "execution_count": null,
   "id": "6481ea84-77f2-4d70-89b0-d590356ceca6",
   "metadata": {},
   "outputs": [],
   "source": [
    "xaxis=\"P_Put_Teq32d_Peq32b\"\n",
    "yaxis=\"P_Petrelli21\"#\"P_Petrelli21\"\n",
    "plt.plot(Combo_Cpx[xaxis], Combo_Cpx[yaxis], '.k')\n",
    "stats=pt.calculate_R2(Combo_Cpx[xaxis], Combo_Cpx[yaxis])\n",
    "print(\"R2= \" + str(stats['R2']))\n",
    "plt.ylim([-3, 12])\n",
    "plt.xlabel(str(xaxis))\n",
    "plt.ylabel(str(yaxis))\n",
    "plt.plot([-5, 12], [-5, 12], ':r')"
   ]
  },
  {
   "cell_type": "code",
   "execution_count": null,
   "id": "e4959aa7-4886-4467-afb6-3099dca3f93f",
   "metadata": {},
   "outputs": [],
   "source": [
    "xaxis=\"Cr2O3_Cpx\"\n",
    "yaxis=\"P_Petrelli21\"#\"P_Petrelli21\" #P_Wang21_eq1\n",
    "plt.plot(Combo_Cpx[xaxis], Combo_Cpx[yaxis], '.k')\n",
    "stats=pt.calculate_R2(Combo_Cpx[xaxis], Combo_Cpx[yaxis])\n",
    "print(\"R2= \" + str(stats['R2']))\n",
    "plt.ylim([-3, 12])\n",
    "plt.xlabel(str(xaxis))\n",
    "plt.ylabel(str(yaxis))"
   ]
  },
  {
   "cell_type": "code",
   "execution_count": null,
   "id": "4d31ceda-61d1-45b7-8f9c-9b9da0192cd1",
   "metadata": {},
   "outputs": [],
   "source": [
    "xaxis=\"P_Wang21_eq3\"\n",
    "yaxis=\"P_Wang21_eq1\"#\"P_Petrelli21\"\n",
    "plt.plot(Combo_Cpx[xaxis], Combo_Cpx[yaxis], '.k')\n",
    "stats=pt.calculate_R2(Combo_Cpx[xaxis], Combo_Cpx[yaxis])\n",
    "print(\"R2= \" + str(stats['R2']))\n",
    "plt.ylim([-3, 12])"
   ]
  },
  {
   "cell_type": "code",
   "execution_count": null,
   "id": "a8f2a10d-fae5-484c-8dcf-b72dda0b57ef",
   "metadata": {},
   "outputs": [],
   "source": [
    "Combo_Cpx"
   ]
  },
  {
   "cell_type": "code",
   "execution_count": null,
   "id": "94122477-e69f-4113-8735-209520d0abcc",
   "metadata": {},
   "outputs": [],
   "source": [
    "xaxis=\"Mgno_Cpx\"\n",
    "yaxis=\"P_Wang21_eq1\"\n",
    "plt.plot(Combo_Cpx[xaxis], Combo_Cpx[yaxis], '.k')\n",
    "stats=pt.calculate_R2(Combo_Cpx[xaxis], Combo_Cpx[yaxis])\n",
    "print(\"R2= \" + str(stats['R2']))\n",
    "plt.ylim([-3, 12])\n",
    "plt.xlabel(xaxis)\n",
    "plt.ylabel(yaxis)"
   ]
  },
  {
   "cell_type": "markdown",
   "id": "8b187a3d-634b-42e0-b63a-6b05068f69fa",
   "metadata": {},
   "source": [
    "## Latitudinal trends"
   ]
  },
  {
   "cell_type": "code",
   "execution_count": null,
   "id": "d404f23f-83fa-4052-a1e1-21a3ae466ed5",
   "metadata": {},
   "outputs": [],
   "source": [
    "xaxis=\"Latitude\"\n",
    "yaxis=\"P_Wang21_eq1\"\n",
    "fig, (ax1) = plt.subplots(1, figsize=(7,3))\n",
    "ax2=ax1.twinx()\n",
    "ax1.plot(Combo_Cpx[xaxis], Combo_Cpx[yaxis], '.k')\n",
    "#ax2.plot(Lat, -s10_phase+Mean_S10_phase, '-', color='red', alpha=0.7 )\n",
    "ax2.plot(Lat, -Av_heat_flow, ':r' )\n",
    "stats=pt.calculate_R2(Combo_Cpx[xaxis], Combo_Cpx[yaxis])\n",
    "print(\"R2= \" + str(stats['R2']))\n",
    "ax1.set_ylim([-3, 12])\n",
    "ax1.set_xlabel(xaxis)\n",
    "ax1.set_ylabel(yaxis)"
   ]
  },
  {
   "cell_type": "code",
   "execution_count": null,
   "id": "14dd120d-20e1-4061-9013-0ac7920f0e82",
   "metadata": {},
   "outputs": [],
   "source": [
    "xaxis=\"Cr2O3_Cpx\"\n",
    "yaxis=\"P_Wang21_eq1\"\n",
    "plt.plot(Combo_Cpx[xaxis], Combo_Cpx[yaxis], '.k')\n",
    "stats=pt.calculate_R2(Combo_Cpx[xaxis], Combo_Cpx[yaxis])\n",
    "print(\"R2= \" + str(stats['R2']))\n",
    "plt.ylim([-3, 12])\n",
    "plt.xlabel(xaxis)\n",
    "plt.ylabel(yaxis)"
   ]
  },
  {
   "cell_type": "code",
   "execution_count": null,
   "id": "1e8ca73d-11ce-47c0-a12c-dee77a3535f8",
   "metadata": {},
   "outputs": [],
   "source": [
    "Adams_cpx_Press_All['P_Wang21_eq1']"
   ]
  },
  {
   "cell_type": "code",
   "execution_count": null,
   "id": "9dca8839-ba53-4d41-a769-f9b1e3ec9a6a",
   "metadata": {},
   "outputs": [],
   "source": []
  },
  {
   "cell_type": "code",
   "execution_count": null,
   "id": "ab5194cd-36ca-44d1-9732-74994121eb6f",
   "metadata": {},
   "outputs": [],
   "source": []
  },
  {
   "cell_type": "code",
   "execution_count": null,
   "id": "02f946c7-77a9-49f6-b398-0823feea4a19",
   "metadata": {},
   "outputs": [],
   "source": []
  }
 ],
 "metadata": {
  "kernelspec": {
   "display_name": "Python 3 (ipykernel)",
   "language": "python",
   "name": "python3"
  },
  "language_info": {
   "codemirror_mode": {
    "name": "ipython",
    "version": 3
   },
   "file_extension": ".py",
   "mimetype": "text/x-python",
   "name": "python",
   "nbconvert_exporter": "python",
   "pygments_lexer": "ipython3",
   "version": "3.9.13"
  }
 },
 "nbformat": 4,
 "nbformat_minor": 5
}
