{
 "cells": [
  {
   "cell_type": "code",
   "execution_count": 8,
   "id": "f7fb73cf-9460-47b8-9bd0-bd453bb17f0d",
   "metadata": {},
   "outputs": [],
   "source": [
    "import numpy as np\n",
    "import pandas as pd\n",
    "import matplotlib.pyplot as plt\n",
    "import Thermobar as pt\n",
    "from pickle import load\n",
    "import pickle"
   ]
  },
  {
   "cell_type": "markdown",
   "id": "8521678a-72c4-48d0-9753-648355b12ab4",
   "metadata": {},
   "source": [
    "## First, lets load Cpx data"
   ]
  },
  {
   "cell_type": "code",
   "execution_count": 9,
   "id": "8453bb64-2b6f-40f8-a7c9-ac9dc2a2aab8",
   "metadata": {},
   "outputs": [
    {
     "name": "stderr",
     "output_type": "stream",
     "text": [
      "C:\\Users\\penny\\AppData\\Local\\Temp\\ipykernel_22744\\2879000667.py:4: SettingWithCopyWarning: \n",
      "A value is trying to be set on a copy of a slice from a DataFrame.\n",
      "Try using .loc[row_indexer,col_indexer] = value instead\n",
      "\n",
      "See the caveats in the documentation: https://pandas.pydata.org/pandas-docs/stable/user_guide/indexing.html#returning-a-view-versus-a-copy\n",
      "  Baker_Cpx['Sample_ID_Cpx']=\"Baker\"\n"
     ]
    }
   ],
   "source": [
    "with open(r'../Combo_Cpx.pkl', 'rb') as f:\n",
    "            All_Cpx=load(f)\n",
    "Baker_Cpx=All_Cpx.loc[All_Cpx['Volcano']==\"Baker\"]\n",
    "Baker_Cpx['Sample_ID_Cpx']=\"Baker\""
   ]
  },
  {
   "cell_type": "code",
   "execution_count": 10,
   "id": "68d0ec61-50a1-44c4-b8ea-fc752b179b32",
   "metadata": {},
   "outputs": [
    {
     "data": {
      "text/plain": [
       "230"
      ]
     },
     "execution_count": 10,
     "metadata": {},
     "output_type": "execute_result"
    }
   ],
   "source": [
    "len(Baker_Cpx)"
   ]
  },
  {
   "cell_type": "code",
   "execution_count": 11,
   "id": "31e13d33-dc0d-4479-b342-a9ad59c38e5d",
   "metadata": {},
   "outputs": [],
   "source": [
    "WangCopy=Baker_Cpx.copy()\n",
    "WangCopy['Preferred_P']=WangCopy['P_Wang21_eq1']\n",
    "WangCopy['Model']=\"Wang\"\n",
    "JorgensonCopy=Baker_Cpx.copy()\n",
    "JorgensonCopy['Preferred_P']=JorgensonCopy['P_Jorgenson22']\n",
    "JorgensonCopy['Model']=\"Jorgenson\"\n",
    "\n",
    "Combo_Cpx=pd.concat([WangCopy, JorgensonCopy], axis=0)\n",
    "Combo_Cpx['Sample_ID_Cpx']=\"Baker\""
   ]
  },
  {
   "cell_type": "markdown",
   "id": "ce5301c4-2fc5-4ffa-bea5-c3f2a2a10aa5",
   "metadata": {},
   "source": [
    "## Choose Crustal density"
   ]
  },
  {
   "cell_type": "code",
   "execution_count": 12,
   "id": "5969034c-fad7-4f3b-99e7-6e549602329a",
   "metadata": {},
   "outputs": [],
   "source": [
    "rho=2700\n",
    "P_axis_min=-3\n",
    "P_axis_max=12\n",
    "D_axis_min=100000*P_axis_min/(9.8*rho)\n",
    "D_axis_max=100000*P_axis_max/(9.8*rho)\n"
   ]
  },
  {
   "cell_type": "code",
   "execution_count": 15,
   "id": "03aecb9b-4065-4d14-a4ce-d29b9a6cdd76",
   "metadata": {},
   "outputs": [
    {
     "data": {
      "image/png": "[encoded data removed]",
      "text/plain": [
       "<Figure size 200x400 with 2 Axes>"
      ]
     },
     "metadata": {},
     "output_type": "display_data"
    }
   ],
   "source": [
    "import seaborn as sns\n",
    "fig, (ax1) = plt.subplots(1, 1, figsize=(2,4), sharey=True)\n",
    "ax2 = ax1.twinx()\n",
    "# ticks = [40.540139,41.3099, 41.6108, 42.9446, 43.7221, 44.103449, 44.6743, 45.3736, 46.1914, 46.8523, 48.1119, 48.7767]\n",
    "# labels = ['Baker', 'Baker', 'Med Lake', 'Crater Lake', 'Newberry', '3 Sisters', 'Mt. Jeff', 'Mt. Hood', 'MSH', 'Rainier', 'Glac. Pk.', 'Mt. Baker']\n",
    "# ax2.set_xticks(ticks, minor=False)\n",
    "# ax2.set_xticklabels(labels, fontdict=None, minor=False, rotation=90)\n",
    "#ax1.set_xlim([40, 49])\n",
    "volc_order=[\"Baker\"]\n",
    "sns.violinplot(x=\"Sample_ID_Cpx\", y=\"Preferred_P\",  cut=0,  inner=None, hue=\"Model\",\n",
    "            data=Combo_Cpx, split=True, ax=ax1, width=0.9, order=volc_order, stick=True)\n",
    "\n",
    "ax1.plot(-0.1+0*Combo_Cpx['Preferred_P'].loc[(Combo_Cpx['Model']==\"Wang\")\n",
    "                                        &(Combo_Cpx[\"Sample_ID_Cpx\"]==\"Baker\")],\n",
    "      Combo_Cpx['Preferred_P'].loc[(Combo_Cpx['Model']==\"Wang\")\n",
    "                                        &(Combo_Cpx[\"Sample_ID_Cpx\"]==\"Baker\")],  \n",
    "         'xb')\n",
    "\n",
    "ax1.plot(0.1+0*Combo_Cpx['Preferred_P'].loc[(Combo_Cpx['Model']==\"Jorgenson\")\n",
    "                                        &(Combo_Cpx[\"Sample_ID_Cpx\"]==\"Baker\")],\n",
    "      Combo_Cpx['Preferred_P'].loc[(Combo_Cpx['Model']==\"Jorgenson\")\n",
    "                                        &(Combo_Cpx[\"Sample_ID_Cpx\"]==\"Baker\")],  \n",
    "         'xr')\n",
    "\n",
    "ax1.plot(-0.1,\n",
    "      np.nanmedian(Combo_Cpx['Preferred_P'].loc[(Combo_Cpx['Model']==\"Wang\")\n",
    "                                        &(Combo_Cpx[\"Sample_ID_Cpx\"]==\"Baker\")]),  \n",
    "         '*k', mfc='w', ms=20)\n",
    "\n",
    "ax1.plot(0.1,\n",
    "      np.nanmedian(Combo_Cpx['Preferred_P'].loc[(Combo_Cpx['Model']==\"Jorgenson\")\n",
    "                                        &(Combo_Cpx[\"Sample_ID_Cpx\"]==\"Baker\")]),  \n",
    "         '*k', mfc='w', ms=20)\n",
    "\n",
    "\n",
    "\n",
    "ax1.plot([-1, 5], [0, 0], '-k', lw=0.5)\n",
    "ax1.set_ylim([P_axis_max, P_axis_min])\n",
    "ax2.set_ylim([D_axis_max, D_axis_min])\n",
    "ax1.set_xlim([-0.5, 0.5])\n",
    "ax1.get_legend().remove()\n",
    "ax1.set_xlabel(None)\n",
    "ax1.set_ylabel(None)\n",
    "ax1.tick_params(direction=\"in\")\n",
    "ax2.tick_params(direction=\"in\")\n",
    "ax1.grid(color = 'k', linestyle = '--', axis='y',linewidth = 1, alpha = 0.1, zorder=0)\n",
    "ax2.set_yticks([])\n",
    "ax1.set_xticks([])\n",
    "fig.savefig('Baker_Cpx.png', dpi=200)"
   ]
  },
  {
   "cell_type": "code",
   "execution_count": 17,
   "id": "1ecef7cf-3f58-443d-b7de-103133d789a4",
   "metadata": {},
   "outputs": [
    {
     "name": "stdout",
     "output_type": "stream",
     "text": [
      "2.4020207628418078\n"
     ]
    }
   ],
   "source": [
    "print(np.nanmedian(Combo_Cpx['Preferred_P'].loc[(Combo_Cpx['Model']==\"Wang\")\n",
    "                                        &(Combo_Cpx[\"Sample_ID_Cpx\"]==\"Baker\")]))"
   ]
  },
  {
   "cell_type": "code",
   "execution_count": 16,
   "id": "a0f5df2b-5dbb-4878-bfb8-4d675c07fcb5",
   "metadata": {},
   "outputs": [
    {
     "name": "stdout",
     "output_type": "stream",
     "text": [
      "1.757351990049751\n"
     ]
    }
   ],
   "source": [
    "print(np.nanmedian(Combo_Cpx['Preferred_P'].loc[(Combo_Cpx['Model']==\"Jorgenson\")\n",
    "                                        &(Combo_Cpx[\"Sample_ID_Cpx\"]==\"Baker\")]))"
   ]
  },
  {
   "cell_type": "markdown",
   "id": "1006a8e0-8f2a-42bd-8440-78a0ad244c8b",
   "metadata": {},
   "source": [
    "## Amphibole"
   ]
  },
  {
   "cell_type": "code",
   "execution_count": 7,
   "id": "13d8a74b-fa9c-4228-b34f-c92d10d8b272",
   "metadata": {},
   "outputs": [
    {
     "name": "stdout",
     "output_type": "stream",
     "text": [
      "10\n",
      "10\n"
     ]
    },
    {
     "name": "stderr",
     "output_type": "stream",
     "text": [
      "C:\\Users\\penny\\AppData\\Local\\Temp\\ipykernel_22744\\3000767137.py:4: SettingWithCopyWarning: \n",
      "A value is trying to be set on a copy of a slice from a DataFrame.\n",
      "Try using .loc[row_indexer,col_indexer] = value instead\n",
      "\n",
      "See the caveats in the documentation: https://pandas.pydata.org/pandas-docs/stable/user_guide/indexing.html#returning-a-view-versus-a-copy\n",
      "  Baker_Amp['Sample_ID_Amp']=\"Baker\"\n",
      "C:\\Users\\penny\\AppData\\Local\\Temp\\ipykernel_22744\\3000767137.py:9: SettingWithCopyWarning: \n",
      "A value is trying to be set on a copy of a slice from a DataFrame.\n",
      "Try using .loc[row_indexer,col_indexer] = value instead\n",
      "\n",
      "See the caveats in the documentation: https://pandas.pydata.org/pandas-docs/stable/user_guide/indexing.html#returning-a-view-versus-a-copy\n",
      "  Baker_Amp_Filt['Sample_ID_Amp']=\"Baker\"\n",
      "C:\\Users\\penny\\AppData\\Local\\Temp\\ipykernel_22744\\3000767137.py:10: SettingWithCopyWarning: \n",
      "A value is trying to be set on a copy of a slice from a DataFrame.\n",
      "Try using .loc[row_indexer,col_indexer] = value instead\n",
      "\n",
      "See the caveats in the documentation: https://pandas.pydata.org/pandas-docs/stable/user_guide/indexing.html#returning-a-view-versus-a-copy\n",
      "  Baker_Amp['Class']='Unfilt'\n",
      "C:\\Users\\penny\\AppData\\Local\\Temp\\ipykernel_22744\\3000767137.py:11: SettingWithCopyWarning: \n",
      "A value is trying to be set on a copy of a slice from a DataFrame.\n",
      "Try using .loc[row_indexer,col_indexer] = value instead\n",
      "\n",
      "See the caveats in the documentation: https://pandas.pydata.org/pandas-docs/stable/user_guide/indexing.html#returning-a-view-versus-a-copy\n",
      "  Baker_Amp_Filt['Class']='filt'\n"
     ]
    },
    {
     "data": {
      "image/png": "[encoded data removed]",
      "text/plain": [
       "<Figure size 200x400 with 2 Axes>"
      ]
     },
     "metadata": {},
     "output_type": "display_data"
    }
   ],
   "source": [
    "\n",
    "with open(r'../Combo_Amp.pkl', 'rb') as f:\n",
    "            All_Amp=load(f)\n",
    "Baker_Amp=All_Amp.loc[All_Amp['Volcano']==\"Baker\"]\n",
    "Baker_Amp['Sample_ID_Amp']=\"Baker\"\n",
    "\n",
    "with open(r'../Combo_Amp_Filt.pkl', 'rb') as f:\n",
    "            All_Amp_Filt=load(f)\n",
    "Baker_Amp_Filt=All_Amp_Filt.loc[All_Amp_Filt['Volcano']==\"Baker\"]\n",
    "Baker_Amp_Filt['Sample_ID_Amp']=\"Baker\"\n",
    "Baker_Amp['Class']='Unfilt'\n",
    "Baker_Amp_Filt['Class']='filt'\n",
    "\n",
    "Combo_Amp=pd.concat([Baker_Amp_Filt, Baker_Amp], axis=0)\n",
    "\n",
    "print(sum(Baker_Amp['P_kbar_calc']>-10))\n",
    "print(sum(Baker_Amp_Filt['P_kbar_calc']>-10))\n",
    "\n",
    "import seaborn as sns\n",
    "fig, (ax1) = plt.subplots(1, 1, figsize=(2,4), sharey=True)\n",
    "ax2 = ax1.twinx()\n",
    "\n",
    "\n",
    "# ax = sns.violinplot(y=Baker_Amp['P_Ridolfi21'],\n",
    "#                 inner=None, cut=0, ax=ax1, color=\"lightgreen\", linewidth=0.5)\n",
    "sns.violinplot(x=\"Volcano\", y=\"P_Ridolfi21\",  cut=0,  inner=None, hue=\"Class\",\n",
    "            data=Combo_Amp, split=True, ax=ax1, width=0.9,  palette=['lightgreen', 'grey'],\n",
    "               stick=True)\n",
    "\n",
    "\n",
    "ax1.plot(-0.1+0*Baker_Amp_Filt['P_Ridolfi21'],\n",
    "  Baker_Amp_Filt['P_Ridolfi21'],\n",
    "         'x', mec='grey')\n",
    "ax1.plot(+0.1+0*Baker_Amp['P_Ridolfi21'],\n",
    "  Baker_Amp['P_Ridolfi21'],\n",
    "         'x', mec='black')\n",
    "\n",
    "ax1.plot(-0.1,\n",
    "  np.nanmedian(Baker_Amp_Filt['P_Ridolfi21']),\n",
    "         '*k', mfc='w', ms=20)\n",
    "\n",
    "ax1.plot(+0.1,\n",
    "  np.nanmedian(Baker_Amp['P_Ridolfi21']),\n",
    "         '*k', mfc='w', ms=20)\n",
    "ax1.get_legend().remove()\n",
    "ax1.plot([-1, 5], [0, 0], '-k', lw=0.5)\n",
    "ax1.set_ylim([P_axis_max, P_axis_min])\n",
    "ax2.set_ylim([D_axis_max, D_axis_min])\n",
    "ax1.set_xlim([-0.5, 0.5])\n",
    "ax1.set_xlabel(None)\n",
    "ax1.set_ylabel(None)\n",
    "\n",
    "ax1.tick_params(direction=\"in\")\n",
    "ax2.tick_params(direction=\"in\")\n",
    "ax2.set_yticks([])\n",
    "ax1.set_xticks([])\n",
    "ax1.grid(color = 'k', linestyle = '--', axis='y',linewidth = 1, alpha = 0.1, zorder=0)\n",
    "\n",
    "\n",
    "fig.savefig('Baker_Amp.png', dpi=200)"
   ]
  },
  {
   "cell_type": "code",
   "execution_count": 18,
   "id": "5ee13d12-7eba-43d3-9d44-7edd012caa34",
   "metadata": {},
   "outputs": [
    {
     "data": {
      "text/plain": [
       "2.918438625008367"
      ]
     },
     "execution_count": 18,
     "metadata": {},
     "output_type": "execute_result"
    }
   ],
   "source": [
    "np.nanmedian(Baker_Amp_Filt['P_Ridolfi21'])"
   ]
  },
  {
   "cell_type": "code",
   "execution_count": 15,
   "id": "b9bc764e-7b8a-4af2-a41d-c26e224fccaf",
   "metadata": {},
   "outputs": [
    {
     "data": {
      "text/plain": [
       "10"
      ]
     },
     "execution_count": 15,
     "metadata": {},
     "output_type": "execute_result"
    }
   ],
   "source": [
    "sum(Baker_Amp['P_kbar_calc']>-10)"
   ]
  },
  {
   "cell_type": "code",
   "execution_count": 11,
   "id": "615b9593-9326-4c59-b7a9-d70a85b93173",
   "metadata": {},
   "outputs": [
    {
     "data": {
      "image/png": "[encoded data removed]",
      "text/plain": [
       "<Figure size 144x288 with 2 Axes>"
      ]
     },
     "metadata": {
      "needs_background": "light"
     },
     "output_type": "display_data"
    }
   ],
   "source": [
    "import seaborn as sns\n",
    "fig, (ax1) = plt.subplots(1, 1, figsize=(2,4), sharey=True)\n",
    "ax2 = ax1.twinx()\n",
    "\n",
    "\n",
    "ax = sns.violinplot(y=Baker_Amp['P_Ridolfi21'],\n",
    "                inner=None, cut=0, ax=ax1, color=\"lightgreen\", linewidth=0.5)\n",
    "\n",
    "\n",
    "ax1.plot(0*Baker_Amp['P_Ridolfi21'],\n",
    "  Baker_Amp['P_Ridolfi21'],\n",
    "         'x', mec='green')\n",
    "\n",
    "ax1.plot(0,\n",
    "  np.nanmedian(Baker_Amp['P_Ridolfi21']),\n",
    "         '*k', mfc='w', ms=20)\n",
    "# ax1.plot(0,\n",
    "#   np.nanmean(Baker_Amp['P_Ridolfi21']),\n",
    "#          'pk', mfc='w', ms=5)\n",
    "ax1.plot([-1, 5], [0, 0], '-k', lw=0.5)\n",
    "ax1.set_ylim([P_axis_max, P_axis_min])\n",
    "ax2.set_ylim([D_axis_max, D_axis_min])\n",
    "ax1.set_xlim([-0.5, 0.5])\n",
    "ax1.set_xlabel(None)\n",
    "ax1.set_ylabel(None)\n",
    "\n",
    "ax1.tick_params(direction=\"in\")\n",
    "ax2.tick_params(direction=\"in\")\n",
    "ax2.set_yticks([])\n",
    "ax1.set_xticks([])\n",
    "ax1.grid(color = 'k', linestyle = '--', axis='y',linewidth = 1, alpha = 0.1, zorder=0)\n",
    "\n",
    "\n",
    "fig.savefig('Baker_Amp.png', dpi=200)"
   ]
  },
  {
   "cell_type": "code",
   "execution_count": 19,
   "id": "09656e44-ac7f-4b62-af05-2c20bbb409a9",
   "metadata": {},
   "outputs": [],
   "source": [
    "## Load in LP data"
   ]
  },
  {
   "cell_type": "code",
   "execution_count": 13,
   "id": "41821936-e344-4fae-9a12-f803d537e6b2",
   "metadata": {},
   "outputs": [
    {
     "data": {
      "text/html": [
       "<div>\n",
       "<style scoped>\n",
       "    .dataframe tbody tr th:only-of-type {\n",
       "        vertical-align: middle;\n",
       "    }\n",
       "\n",
       "    .dataframe tbody tr th {\n",
       "        vertical-align: top;\n",
       "    }\n",
       "\n",
       "    .dataframe thead th {\n",
       "        text-align: right;\n",
       "    }\n",
       "</style>\n",
       "<table border=\"1\" class=\"dataframe\">\n",
       "  <thead>\n",
       "    <tr style=\"text-align: right;\">\n",
       "      <th></th>\n",
       "      <th>Volcano</th>\n",
       "      <th>Latitude</th>\n",
       "      <th>Depth</th>\n",
       "      <th>Depth definition</th>\n",
       "      <th>Reference</th>\n",
       "      <th>Unnamed: 5</th>\n",
       "      <th>Unnamed: 6</th>\n",
       "    </tr>\n",
       "  </thead>\n",
       "  <tbody>\n",
       "    <tr>\n",
       "      <th>23</th>\n",
       "      <td>Mount Baker</td>\n",
       "      <td>48.7767</td>\n",
       "      <td>25.105868</td>\n",
       "      <td>presume sea level based on their Fig. 7, which...</td>\n",
       "      <td>Nichols et al. 2011</td>\n",
       "      <td>NaN</td>\n",
       "      <td>NaN</td>\n",
       "    </tr>\n",
       "    <tr>\n",
       "      <th>24</th>\n",
       "      <td>Mount Baker</td>\n",
       "      <td>48.7767</td>\n",
       "      <td>24.621900</td>\n",
       "      <td>presume sea level based on their Fig. 7, which...</td>\n",
       "      <td>Nichols et al. 2011</td>\n",
       "      <td>NaN</td>\n",
       "      <td>NaN</td>\n",
       "    </tr>\n",
       "    <tr>\n",
       "      <th>25</th>\n",
       "      <td>Mount Baker</td>\n",
       "      <td>48.7767</td>\n",
       "      <td>22.686025</td>\n",
       "      <td>presume sea level based on their Fig. 7, which...</td>\n",
       "      <td>Nichols et al. 2011</td>\n",
       "      <td>NaN</td>\n",
       "      <td>NaN</td>\n",
       "    </tr>\n",
       "    <tr>\n",
       "      <th>26</th>\n",
       "      <td>Mount Baker</td>\n",
       "      <td>48.7767</td>\n",
       "      <td>27.041742</td>\n",
       "      <td>presume sea level based on their Fig. 7, which...</td>\n",
       "      <td>Nichols et al. 2011</td>\n",
       "      <td>NaN</td>\n",
       "      <td>NaN</td>\n",
       "    </tr>\n",
       "    <tr>\n",
       "      <th>27</th>\n",
       "      <td>Mount Baker</td>\n",
       "      <td>48.7767</td>\n",
       "      <td>27.949183</td>\n",
       "      <td>presume sea level based on their Fig. 7, which...</td>\n",
       "      <td>Nichols et al. 2011</td>\n",
       "      <td>NaN</td>\n",
       "      <td>NaN</td>\n",
       "    </tr>\n",
       "    <tr>\n",
       "      <th>28</th>\n",
       "      <td>Mount Baker</td>\n",
       "      <td>48.7767</td>\n",
       "      <td>27.707199</td>\n",
       "      <td>presume sea level based on their Fig. 7, which...</td>\n",
       "      <td>Nichols et al. 2011</td>\n",
       "      <td>NaN</td>\n",
       "      <td>NaN</td>\n",
       "    </tr>\n",
       "    <tr>\n",
       "      <th>29</th>\n",
       "      <td>Mount Baker</td>\n",
       "      <td>48.7767</td>\n",
       "      <td>27.888687</td>\n",
       "      <td>presume sea level based on their Fig. 7, which...</td>\n",
       "      <td>Nichols et al. 2011</td>\n",
       "      <td>NaN</td>\n",
       "      <td>NaN</td>\n",
       "    </tr>\n",
       "    <tr>\n",
       "      <th>30</th>\n",
       "      <td>Mount Baker</td>\n",
       "      <td>48.7767</td>\n",
       "      <td>28.251664</td>\n",
       "      <td>presume sea level based on their Fig. 7, which...</td>\n",
       "      <td>Nichols et al. 2011</td>\n",
       "      <td>NaN</td>\n",
       "      <td>NaN</td>\n",
       "    </tr>\n",
       "    <tr>\n",
       "      <th>31</th>\n",
       "      <td>Mount Baker</td>\n",
       "      <td>48.7767</td>\n",
       "      <td>22.383545</td>\n",
       "      <td>presume sea level based on their Fig. 7, which...</td>\n",
       "      <td>Nichols et al. 2011</td>\n",
       "      <td>NaN</td>\n",
       "      <td>NaN</td>\n",
       "    </tr>\n",
       "    <tr>\n",
       "      <th>32</th>\n",
       "      <td>Mount Baker</td>\n",
       "      <td>48.7767</td>\n",
       "      <td>19.298246</td>\n",
       "      <td>presume sea level based on their Fig. 7, which...</td>\n",
       "      <td>Nichols et al. 2011</td>\n",
       "      <td>NaN</td>\n",
       "      <td>NaN</td>\n",
       "    </tr>\n",
       "    <tr>\n",
       "      <th>33</th>\n",
       "      <td>Mount Baker</td>\n",
       "      <td>48.7767</td>\n",
       "      <td>19.177253</td>\n",
       "      <td>presume sea level based on their Fig. 7, which...</td>\n",
       "      <td>Nichols et al. 2011</td>\n",
       "      <td>NaN</td>\n",
       "      <td>NaN</td>\n",
       "    </tr>\n",
       "    <tr>\n",
       "      <th>34</th>\n",
       "      <td>Mount Baker</td>\n",
       "      <td>48.7767</td>\n",
       "      <td>17.785844</td>\n",
       "      <td>presume sea level based on their Fig. 7, which...</td>\n",
       "      <td>Nichols et al. 2011</td>\n",
       "      <td>NaN</td>\n",
       "      <td>NaN</td>\n",
       "    </tr>\n",
       "    <tr>\n",
       "      <th>35</th>\n",
       "      <td>Mount Baker</td>\n",
       "      <td>48.7767</td>\n",
       "      <td>22.504537</td>\n",
       "      <td>presume sea level based on their Fig. 7, which...</td>\n",
       "      <td>Nichols et al. 2011</td>\n",
       "      <td>NaN</td>\n",
       "      <td>NaN</td>\n",
       "    </tr>\n",
       "    <tr>\n",
       "      <th>36</th>\n",
       "      <td>Mount Baker</td>\n",
       "      <td>48.7767</td>\n",
       "      <td>24.198427</td>\n",
       "      <td>presume sea level based on their Fig. 7, which...</td>\n",
       "      <td>Nichols et al. 2011</td>\n",
       "      <td>NaN</td>\n",
       "      <td>NaN</td>\n",
       "    </tr>\n",
       "    <tr>\n",
       "      <th>37</th>\n",
       "      <td>Mount Baker</td>\n",
       "      <td>48.7767</td>\n",
       "      <td>23.653962</td>\n",
       "      <td>presume sea level based on their Fig. 7, which...</td>\n",
       "      <td>Nichols et al. 2011</td>\n",
       "      <td>NaN</td>\n",
       "      <td>NaN</td>\n",
       "    </tr>\n",
       "    <tr>\n",
       "      <th>38</th>\n",
       "      <td>Mount Baker</td>\n",
       "      <td>48.7767</td>\n",
       "      <td>21.113128</td>\n",
       "      <td>presume sea level based on their Fig. 7, which...</td>\n",
       "      <td>Nichols et al. 2011</td>\n",
       "      <td>NaN</td>\n",
       "      <td>NaN</td>\n",
       "    </tr>\n",
       "    <tr>\n",
       "      <th>39</th>\n",
       "      <td>Mount Baker</td>\n",
       "      <td>48.7767</td>\n",
       "      <td>17.543860</td>\n",
       "      <td>presume sea level based on their Fig. 7, which...</td>\n",
       "      <td>Nichols et al. 2011</td>\n",
       "      <td>NaN</td>\n",
       "      <td>NaN</td>\n",
       "    </tr>\n",
       "    <tr>\n",
       "      <th>40</th>\n",
       "      <td>Mount Baker</td>\n",
       "      <td>48.7767</td>\n",
       "      <td>18.148820</td>\n",
       "      <td>presume sea level based on their Fig. 7, which...</td>\n",
       "      <td>Nichols et al. 2011</td>\n",
       "      <td>NaN</td>\n",
       "      <td>NaN</td>\n",
       "    </tr>\n",
       "    <tr>\n",
       "      <th>41</th>\n",
       "      <td>Mount Baker</td>\n",
       "      <td>48.7767</td>\n",
       "      <td>16.757411</td>\n",
       "      <td>presume sea level based on their Fig. 7, which...</td>\n",
       "      <td>Nichols et al. 2011</td>\n",
       "      <td>NaN</td>\n",
       "      <td>NaN</td>\n",
       "    </tr>\n",
       "    <tr>\n",
       "      <th>42</th>\n",
       "      <td>Mount Baker</td>\n",
       "      <td>48.7767</td>\n",
       "      <td>15.486993</td>\n",
       "      <td>presume sea level based on their Fig. 7, which...</td>\n",
       "      <td>Nichols et al. 2011</td>\n",
       "      <td>NaN</td>\n",
       "      <td>NaN</td>\n",
       "    </tr>\n",
       "    <tr>\n",
       "      <th>43</th>\n",
       "      <td>Mount Baker</td>\n",
       "      <td>48.7767</td>\n",
       "      <td>19.479734</td>\n",
       "      <td>presume sea level based on their Fig. 7, which...</td>\n",
       "      <td>Nichols et al. 2011</td>\n",
       "      <td>NaN</td>\n",
       "      <td>NaN</td>\n",
       "    </tr>\n",
       "    <tr>\n",
       "      <th>44</th>\n",
       "      <td>Mount Baker</td>\n",
       "      <td>48.7767</td>\n",
       "      <td>18.935269</td>\n",
       "      <td>presume sea level based on their Fig. 7, which...</td>\n",
       "      <td>Nichols et al. 2011</td>\n",
       "      <td>NaN</td>\n",
       "      <td>NaN</td>\n",
       "    </tr>\n",
       "    <tr>\n",
       "      <th>45</th>\n",
       "      <td>Mount Baker</td>\n",
       "      <td>48.7767</td>\n",
       "      <td>19.782214</td>\n",
       "      <td>presume sea level based on their Fig. 7, which...</td>\n",
       "      <td>Nichols et al. 2011</td>\n",
       "      <td>NaN</td>\n",
       "      <td>NaN</td>\n",
       "    </tr>\n",
       "    <tr>\n",
       "      <th>46</th>\n",
       "      <td>Mount Baker</td>\n",
       "      <td>48.7767</td>\n",
       "      <td>20.447671</td>\n",
       "      <td>presume sea level based on their Fig. 7, which...</td>\n",
       "      <td>Nichols et al. 2011</td>\n",
       "      <td>NaN</td>\n",
       "      <td>NaN</td>\n",
       "    </tr>\n",
       "    <tr>\n",
       "      <th>47</th>\n",
       "      <td>Mount Baker</td>\n",
       "      <td>48.7767</td>\n",
       "      <td>22.020569</td>\n",
       "      <td>presume sea level based on their Fig. 7, which...</td>\n",
       "      <td>Nichols et al. 2011</td>\n",
       "      <td>NaN</td>\n",
       "      <td>NaN</td>\n",
       "    </tr>\n",
       "    <tr>\n",
       "      <th>48</th>\n",
       "      <td>Mount Baker</td>\n",
       "      <td>48.7767</td>\n",
       "      <td>41.802783</td>\n",
       "      <td>presume sea level based on their Fig. 7, which...</td>\n",
       "      <td>Nichols et al. 2011</td>\n",
       "      <td>NaN</td>\n",
       "      <td>NaN</td>\n",
       "    </tr>\n",
       "    <tr>\n",
       "      <th>49</th>\n",
       "      <td>Mount Baker</td>\n",
       "      <td>48.7767</td>\n",
       "      <td>29.038113</td>\n",
       "      <td>presume sea level based on their Fig. 7, which...</td>\n",
       "      <td>Nichols et al. 2011</td>\n",
       "      <td>NaN</td>\n",
       "      <td>NaN</td>\n",
       "    </tr>\n",
       "    <tr>\n",
       "      <th>50</th>\n",
       "      <td>Mount Baker</td>\n",
       "      <td>48.7767</td>\n",
       "      <td>25.347852</td>\n",
       "      <td>presume sea level based on their Fig. 7, which...</td>\n",
       "      <td>Nichols et al. 2011</td>\n",
       "      <td>NaN</td>\n",
       "      <td>NaN</td>\n",
       "    </tr>\n",
       "    <tr>\n",
       "      <th>51</th>\n",
       "      <td>Mount Baker</td>\n",
       "      <td>48.7767</td>\n",
       "      <td>19.479734</td>\n",
       "      <td>presume sea level based on their Fig. 7, which...</td>\n",
       "      <td>Nichols et al. 2011</td>\n",
       "      <td>NaN</td>\n",
       "      <td>NaN</td>\n",
       "    </tr>\n",
       "    <tr>\n",
       "      <th>52</th>\n",
       "      <td>Mount Baker</td>\n",
       "      <td>48.7767</td>\n",
       "      <td>28.614640</td>\n",
       "      <td>presume sea level based on their Fig. 7, which...</td>\n",
       "      <td>Nichols et al. 2011</td>\n",
       "      <td>NaN</td>\n",
       "      <td>NaN</td>\n",
       "    </tr>\n",
       "    <tr>\n",
       "      <th>53</th>\n",
       "      <td>Mount Baker</td>\n",
       "      <td>48.7767</td>\n",
       "      <td>23.956443</td>\n",
       "      <td>presume sea level based on their Fig. 7, which...</td>\n",
       "      <td>Nichols et al. 2011</td>\n",
       "      <td>NaN</td>\n",
       "      <td>NaN</td>\n",
       "    </tr>\n",
       "  </tbody>\n",
       "</table>\n",
       "</div>"
      ],
      "text/plain": [
       "        Volcano  Latitude      Depth  \\\n",
       "23  Mount Baker   48.7767  25.105868   \n",
       "24  Mount Baker   48.7767  24.621900   \n",
       "25  Mount Baker   48.7767  22.686025   \n",
       "26  Mount Baker   48.7767  27.041742   \n",
       "27  Mount Baker   48.7767  27.949183   \n",
       "28  Mount Baker   48.7767  27.707199   \n",
       "29  Mount Baker   48.7767  27.888687   \n",
       "30  Mount Baker   48.7767  28.251664   \n",
       "31  Mount Baker   48.7767  22.383545   \n",
       "32  Mount Baker   48.7767  19.298246   \n",
       "33  Mount Baker   48.7767  19.177253   \n",
       "34  Mount Baker   48.7767  17.785844   \n",
       "35  Mount Baker   48.7767  22.504537   \n",
       "36  Mount Baker   48.7767  24.198427   \n",
       "37  Mount Baker   48.7767  23.653962   \n",
       "38  Mount Baker   48.7767  21.113128   \n",
       "39  Mount Baker   48.7767  17.543860   \n",
       "40  Mount Baker   48.7767  18.148820   \n",
       "41  Mount Baker   48.7767  16.757411   \n",
       "42  Mount Baker   48.7767  15.486993   \n",
       "43  Mount Baker   48.7767  19.479734   \n",
       "44  Mount Baker   48.7767  18.935269   \n",
       "45  Mount Baker   48.7767  19.782214   \n",
       "46  Mount Baker   48.7767  20.447671   \n",
       "47  Mount Baker   48.7767  22.020569   \n",
       "48  Mount Baker   48.7767  41.802783   \n",
       "49  Mount Baker   48.7767  29.038113   \n",
       "50  Mount Baker   48.7767  25.347852   \n",
       "51  Mount Baker   48.7767  19.479734   \n",
       "52  Mount Baker   48.7767  28.614640   \n",
       "53  Mount Baker   48.7767  23.956443   \n",
       "\n",
       "                                     Depth definition            Reference  \\\n",
       "23  presume sea level based on their Fig. 7, which...  Nichols et al. 2011   \n",
       "24  presume sea level based on their Fig. 7, which...  Nichols et al. 2011   \n",
       "25  presume sea level based on their Fig. 7, which...  Nichols et al. 2011   \n",
       "26  presume sea level based on their Fig. 7, which...  Nichols et al. 2011   \n",
       "27  presume sea level based on their Fig. 7, which...  Nichols et al. 2011   \n",
       "28  presume sea level based on their Fig. 7, which...  Nichols et al. 2011   \n",
       "29  presume sea level based on their Fig. 7, which...  Nichols et al. 2011   \n",
       "30  presume sea level based on their Fig. 7, which...  Nichols et al. 2011   \n",
       "31  presume sea level based on their Fig. 7, which...  Nichols et al. 2011   \n",
       "32  presume sea level based on their Fig. 7, which...  Nichols et al. 2011   \n",
       "33  presume sea level based on their Fig. 7, which...  Nichols et al. 2011   \n",
       "34  presume sea level based on their Fig. 7, which...  Nichols et al. 2011   \n",
       "35  presume sea level based on their Fig. 7, which...  Nichols et al. 2011   \n",
       "36  presume sea level based on their Fig. 7, which...  Nichols et al. 2011   \n",
       "37  presume sea level based on their Fig. 7, which...  Nichols et al. 2011   \n",
       "38  presume sea level based on their Fig. 7, which...  Nichols et al. 2011   \n",
       "39  presume sea level based on their Fig. 7, which...  Nichols et al. 2011   \n",
       "40  presume sea level based on their Fig. 7, which...  Nichols et al. 2011   \n",
       "41  presume sea level based on their Fig. 7, which...  Nichols et al. 2011   \n",
       "42  presume sea level based on their Fig. 7, which...  Nichols et al. 2011   \n",
       "43  presume sea level based on their Fig. 7, which...  Nichols et al. 2011   \n",
       "44  presume sea level based on their Fig. 7, which...  Nichols et al. 2011   \n",
       "45  presume sea level based on their Fig. 7, which...  Nichols et al. 2011   \n",
       "46  presume sea level based on their Fig. 7, which...  Nichols et al. 2011   \n",
       "47  presume sea level based on their Fig. 7, which...  Nichols et al. 2011   \n",
       "48  presume sea level based on their Fig. 7, which...  Nichols et al. 2011   \n",
       "49  presume sea level based on their Fig. 7, which...  Nichols et al. 2011   \n",
       "50  presume sea level based on their Fig. 7, which...  Nichols et al. 2011   \n",
       "51  presume sea level based on their Fig. 7, which...  Nichols et al. 2011   \n",
       "52  presume sea level based on their Fig. 7, which...  Nichols et al. 2011   \n",
       "53  presume sea level based on their Fig. 7, which...  Nichols et al. 2011   \n",
       "\n",
       "    Unnamed: 5  Unnamed: 6  \n",
       "23         NaN         NaN  \n",
       "24         NaN         NaN  \n",
       "25         NaN         NaN  \n",
       "26         NaN         NaN  \n",
       "27         NaN         NaN  \n",
       "28         NaN         NaN  \n",
       "29         NaN         NaN  \n",
       "30         NaN         NaN  \n",
       "31         NaN         NaN  \n",
       "32         NaN         NaN  \n",
       "33         NaN         NaN  \n",
       "34         NaN         NaN  \n",
       "35         NaN         NaN  \n",
       "36         NaN         NaN  \n",
       "37         NaN         NaN  \n",
       "38         NaN         NaN  \n",
       "39         NaN         NaN  \n",
       "40         NaN         NaN  \n",
       "41         NaN         NaN  \n",
       "42         NaN         NaN  \n",
       "43         NaN         NaN  \n",
       "44         NaN         NaN  \n",
       "45         NaN         NaN  \n",
       "46         NaN         NaN  \n",
       "47         NaN         NaN  \n",
       "48         NaN         NaN  \n",
       "49         NaN         NaN  \n",
       "50         NaN         NaN  \n",
       "51         NaN         NaN  \n",
       "52         NaN         NaN  \n",
       "53         NaN         NaN  "
      ]
     },
     "execution_count": 13,
     "metadata": {},
     "output_type": "execute_result"
    }
   ],
   "source": [
    "LPs=pd.read_excel(r'../Geophysics_Sept2022.xlsx',\n",
    "                  sheet_name=\"LPEarthquakes\")\n",
    "LPs_Baker=LPs.loc[LPs['Volcano']==\"Mount Baker\"]\n",
    "LPs_Baker"
   ]
  },
  {
   "cell_type": "code",
   "execution_count": 21,
   "id": "5f95b959-e90e-4328-9d65-e79f6d1c6852",
   "metadata": {},
   "outputs": [
    {
     "data": {
      "text/plain": [
       "array(['Lassen', 'Medicine Lake', 'Three sisters', 'Crater Lake',\n",
       "       'Mount Baker', 'Glacier Peak', 'Mount Ranier',\n",
       "       'Mount Saint Helens'], dtype=object)"
      ]
     },
     "execution_count": 21,
     "metadata": {},
     "output_type": "execute_result"
    }
   ],
   "source": [
    "LPs['Volcano'].unique()"
   ]
  },
  {
   "cell_type": "markdown",
   "id": "b7cc5b8f-2c7f-4be3-a40a-a7670b99f8bd",
   "metadata": {},
   "source": [
    "## Expet plot"
   ]
  },
  {
   "cell_type": "markdown",
   "id": "6e45a011-023a-4bff-ad06-e481b53d30ba",
   "metadata": {},
   "source": [
    "## Raw template for geophysics and Exp Pet"
   ]
  },
  {
   "cell_type": "code",
   "execution_count": 14,
   "id": "85832d6e-9d94-47cd-9704-3d3255c3580e",
   "metadata": {},
   "outputs": [
    {
     "data": {
      "image/png": "[encoded data removed]",
      "text/plain": [
       "<Figure size 144x288 with 2 Axes>"
      ]
     },
     "metadata": {
      "needs_background": "light"
     },
     "output_type": "display_data"
    }
   ],
   "source": [
    "import seaborn as sns\n",
    "fig, (ax1) = plt.subplots(1, 1, figsize=(2,4), sharey=True)\n",
    "ax2 = ax1.twinx()\n",
    "from matplotlib import patches\n",
    "\n",
    "av_stat_level=2.000\n",
    "summit_height=3.2876\n",
    "dif=summit_height-av_stat_level\n",
    "## Hodge and Crider - GPS.\n",
    "ax2.plot(0, 5.8+dif, 12, '*k', mfc='black', ms=15)\n",
    "\n",
    "ax2.plot(LPs_Baker['Depth']*0+0.6, LPs_Baker['Depth']+summit_height, 'ok', mfc='red', ms=3)\n",
    "\n",
    "ax1.plot([-1, 5], [0, 0], '-k', lw=0.5)\n",
    "ax1.set_ylim([P_axis_max, P_axis_min])\n",
    "ax2.set_ylim([D_axis_max, D_axis_min])\n",
    "\n",
    "ax1.tick_params(direction=\"in\")\n",
    "ax2.tick_params(direction=\"in\")\n",
    "ax1.set_xlim([-0.3, 1.2])\n",
    "ax1.set_xlabel(None)\n",
    "ax1.set_ylabel(None)\n",
    "ax1.set_xticks([])\n",
    "#ax1.set_xticklabels(['Exp Pet', 'Exp Pet', 'MT', 'Seismics'], rotation=90)\n",
    "ax1.grid(color = 'k', linestyle = '--', axis='y',linewidth = 1, alpha = 0.1, zorder=0)\n",
    "                 \n",
    "fig.savefig('Geophy_Baker.png', dpi=200, bbox_inches=\"tight\")"
   ]
  },
  {
   "cell_type": "code",
   "execution_count": 4,
   "id": "2abcd680-574d-459f-93bc-01dc58c3f12d",
   "metadata": {},
   "outputs": [
    {
     "name": "stdout",
     "output_type": "stream",
     "text": [
      "['Amp']\n"
     ]
    },
    {
     "name": "stderr",
     "output_type": "stream",
     "text": [
      "C:\\Users\\penny\\anaconda3\\lib\\site-packages\\sklearn\\base.py:329: UserWarning: Trying to unpickle estimator SVC from version 0.24.1 when using version 1.0.2. This might lead to breaking code or invalid results. Use at your own risk. For more info please refer to:\n",
      "https://scikit-learn.org/stable/modules/model_persistence.html#security-maintainability-limitations\n",
      "  warnings.warn(\n",
      "C:\\Users\\penny\\anaconda3\\lib\\site-packages\\sklearn\\base.py:329: UserWarning: Trying to unpickle estimator StandardScaler from version 0.24.1 when using version 1.0.2. This might lead to breaking code or invalid results. Use at your own risk. For more info please refer to:\n",
      "https://scikit-learn.org/stable/modules/model_persistence.html#security-maintainability-limitations\n",
      "  warnings.warn(\n"
     ]
    }
   ],
   "source": [
    "## Same for amphibole\n",
    "\n",
    "Baker_read_Amp=pt.import_excel('Baker.xlsx', sheet_name='Amp_All')\n",
    "Baker_Input_Amp=Baker_read_Amp['my_input']\n",
    "Baker_Amp=Baker_read_Amp['Amps']\n",
    "Baker_Amp['Sample_ID_Amp']='Baker'\n",
    "Baker_Amp_copy=Baker_Amp.copy()\n",
    "Baker_Amp_comps=pt.get_amp_sites_from_input(amp_comps=Baker_Amp)\n",
    "# Are a few outside 3.95 to 4.05 Cat sums, CaCaMgFe lies 0.3 - 0.55\n",
    "Baker_Amp_filt1=Baker_Amp.loc[( (Baker_Amp_comps['cation_sum_All'].between(15, 16)) )]\n",
    "Baker_Amp_class=pt.classify_phases(df=Baker_Amp_filt1, return_end_members=True,\n",
    "                        str_to_drop='_Amp')\n",
    "print(Baker_Amp_class['Phase_Min_Group_ML'].unique())\n",
    "Baker_Amp_filt=Baker_Amp_filt1.loc[Baker_Amp_class['Phase_Min_Group_ML']==\"Amp\"].reset_index(drop=True)\n",
    "Baker_Amp_Press_NoFilter=pt.calculate_amp_only_press(amp_comps=Baker_Amp_filt, \n",
    "                        Ridolfi_Filter=False, equationP=\"P_Ridolfi2021\")\n",
    "Baker_Amp_Press_Filter=pt.calculate_amp_only_press(amp_comps=Baker_Amp_filt, \n",
    "                        Ridolfi_Filter=True, equationP=\"P_Ridolfi2021\")\n"
   ]
  },
  {
   "cell_type": "code",
   "execution_count": 5,
   "id": "0c40be9e-ae71-4998-9ce7-52c8a0e2d835",
   "metadata": {},
   "outputs": [
    {
     "data": {
      "text/plain": [
       "12"
      ]
     },
     "execution_count": 5,
     "metadata": {},
     "output_type": "execute_result"
    }
   ],
   "source": [
    "len(Baker_Amp_Press_NoFilter)"
   ]
  },
  {
   "cell_type": "code",
   "execution_count": 27,
   "id": "f75c362c-6356-41e1-8533-8bfbf38a4c4b",
   "metadata": {},
   "outputs": [
    {
     "data": {
      "text/plain": [
       "[<matplotlib.lines.Line2D at 0x1f433c2b6a0>]"
      ]
     },
     "execution_count": 27,
     "metadata": {},
     "output_type": "execute_result"
    },
    {
     "data": {
      "image/png": "[encoded data removed]",
      "text/plain": [
       "<Figure size 432x288 with 1 Axes>"
      ]
     },
     "metadata": {
      "needs_background": "light"
     },
     "output_type": "display_data"
    }
   ],
   "source": [
    "plt.plot(\n",
    "         (Baker_Amp_filt['MgO_Amp']/40.3044)/(Baker_Amp_filt['MgO_Amp']/40.3044+Baker_Amp_filt['FeOt_Amp']/71.844),\n",
    "    Baker_Amp_Press_NoFilter['P_kbar_calc'], 'ok')"
   ]
  },
  {
   "cell_type": "code",
   "execution_count": 28,
   "id": "209fe8f4-df37-4af2-befd-5c45109198c8",
   "metadata": {},
   "outputs": [
    {
     "name": "stderr",
     "output_type": "stream",
     "text": [
      "c:\\users\\penny\\onedrive - oregon state university\\postdoc\\pymme\\mybarometers\\thermobar_outer\\src\\Thermobar\\amphibole.py:229: UserWarning: You must enter a value for T in Kelvin to get results from equation3 and 5 from Zhang, and SiO2 from Putrka (2016)\n",
      "  w.warn('You must enter a value for T in Kelvin to get results from equation3 and 5 from Zhang, and SiO2 from Putrka (2016)')\n"
     ]
    }
   ],
   "source": [
    "Amp_Chem=pt.calculate_amp_only_melt_comps(amp_comps=Baker_Amp_filt)"
   ]
  },
  {
   "cell_type": "code",
   "execution_count": 29,
   "id": "01277fd4-71d1-422f-99eb-84d72c944eb7",
   "metadata": {},
   "outputs": [
    {
     "data": {
      "text/plain": [
       "[<matplotlib.lines.Line2D at 0x1f433a92eb0>]"
      ]
     },
     "execution_count": 29,
     "metadata": {},
     "output_type": "execute_result"
    },
    {
     "data": {
      "image/png": "[encoded data removed]",
      "text/plain": [
       "<Figure size 720x360 with 2 Axes>"
      ]
     },
     "metadata": {
      "needs_background": "light"
     },
     "output_type": "display_data"
    }
   ],
   "source": [
    "fig, (ax1, ax2) = plt.subplots(1, 2, figsize=(10,5), sharey=True)\n",
    "ax1.plot(\n",
    "         Amp_Chem['MgO_Eq9_Zhang17'],\n",
    "    Baker_Amp_Press_NoFilter['P_kbar_calc'], 'ok')\n",
    "ax1.set_xlabel('Calculated MgO Zhang')\n",
    "ax1.set_ylabel('Calcated P Ridolfi 21')\n",
    "\n",
    "ax2.set_xlabel('Calculated SiO2 Zhang')\n",
    "ax2.set_ylabel('Calcated P Ridolfi 21')\n",
    "\n",
    "ax2.plot(\n",
    "         Amp_Chem['SiO2_Eq1_Zhang17'],\n",
    "    Baker_Amp_Press_NoFilter['P_kbar_calc'], 'ok')"
   ]
  },
  {
   "cell_type": "code",
   "execution_count": 30,
   "id": "af627d8c-c0dc-4fd5-8035-42f3c77dcb2c",
   "metadata": {},
   "outputs": [],
   "source": [
    "#None Filtered\n",
    "Baker_Amp_Press_All=Baker_Amp_Press_NoFilter.copy()\n",
    "Baker_Amp_Press_All['Preferred_P']=Baker_Amp_Press_All['P_kbar_calc']\n",
    "Baker_Amp_Press_All['Model']=\"Ridolfi not filtered\"\n",
    "Baker_Amp_Press_All['Sample_ID_Amp']=\"Baker domefield\"\n",
    "\n",
    "Baker_Amp_Press_Filt=Baker_Amp_Press_Filter.copy()\n",
    "Baker_Amp_Press_Filt['Preferred_P']=Baker_Amp_Press_Filt['P_kbar_calc']\n",
    "Baker_Amp_Press_Filt['Model']=\"Ridolfi filtered\"\n",
    "Baker_Amp_Press_Filt['Sample_ID_Amp']=\"Baker domefield\"\n",
    "\n",
    "Combo_Amp=pd.concat([Baker_Amp_Press_All, Baker_Amp_Press_Filt], axis=0)"
   ]
  },
  {
   "cell_type": "code",
   "execution_count": 34,
   "id": "309b6ff8-098e-427a-ae55-233b28333cdf",
   "metadata": {},
   "outputs": [
    {
     "data": {
      "text/plain": [
       "12"
      ]
     },
     "execution_count": 34,
     "metadata": {},
     "output_type": "execute_result"
    }
   ],
   "source": [
    "len(Baker_Amp_Press_All)"
   ]
  },
  {
   "cell_type": "code",
   "execution_count": 31,
   "id": "65eddb29-31af-405c-bbd2-f8b748cc0a0b",
   "metadata": {},
   "outputs": [],
   "source": [
    "Combo_Amp.to_pickle(\"Amp_Baker.pkl\")"
   ]
  },
  {
   "cell_type": "code",
   "execution_count": 32,
   "id": "e51f0090-05a8-4854-a7bc-0a89b349ba07",
   "metadata": {},
   "outputs": [
    {
     "data": {
      "text/plain": [
       "0     Baker domefield\n",
       "1     Baker domefield\n",
       "2     Baker domefield\n",
       "3     Baker domefield\n",
       "4     Baker domefield\n",
       "5     Baker domefield\n",
       "6     Baker domefield\n",
       "7     Baker domefield\n",
       "8     Baker domefield\n",
       "9     Baker domefield\n",
       "10    Baker domefield\n",
       "11    Baker domefield\n",
       "Name: Sample_ID_Amp, dtype: object"
      ]
     },
     "execution_count": 32,
     "metadata": {},
     "output_type": "execute_result"
    }
   ],
   "source": [
    "Baker_Amp_Press_All['Sample_ID_Amp']"
   ]
  },
  {
   "cell_type": "code",
   "execution_count": 37,
   "id": "d9be12c5-5bc3-42c5-a28e-0d4fe1e8da1d",
   "metadata": {},
   "outputs": [
    {
     "data": {
      "image/png": "[encoded data removed]",
      "text/plain": [
       "<Figure size 144x288 with 2 Axes>"
      ]
     },
     "metadata": {
      "needs_background": "light"
     },
     "output_type": "display_data"
    }
   ],
   "source": [
    "import seaborn as sns\n",
    "fig, (ax1) = plt.subplots(1, 1, figsize=(2,4), sharey=True)\n",
    "ax2 = ax1.twinx()\n",
    "\n",
    "volc_order=[\"Baker\", \"Baker domefield\"]\n",
    "sns.violinplot(x=\"Sample_ID_Amp\", y=\"Preferred_P\",  cut=0, \n",
    "               linewidth=1,hue=\"Model\", inner=None,\n",
    "            data=Combo_Amp, split=True, ax=ax1, width=0.9, order=volc_order, stick=True\n",
    "              , palette=['lightgreen', 'grey'])\n",
    "\n",
    "# ax1.plot(-0.1+0*Combo_Amp['Preferred_P'].loc[(Combo_Amp['Model']==\"Ridolfi not filtered\")\n",
    "#                                         &(Combo_Amp[\"Sample_ID_Cpx\"]==\"Baker\")],\n",
    "#       Combo_Amp['Preferred_P'].loc[(Combo_Amp['Model']==\"Ridolfi not filtered\")\n",
    "#                                         &(Combo_Amp[\"Sample_ID_Cpx\"]==\"Baker\")],  \n",
    "#          'xb')\n",
    "\n",
    "# ax1.plot(0.1+0*Combo_Amp['Preferred_P'].loc[(Combo_Amp['Model']==\"Ridolfi filtered\")\n",
    "#                                         &(Combo_Amp[\"Sample_ID_Cpx\"]==\"Baker\")],\n",
    "#       Combo_Amp['Preferred_P'].loc[(Combo_Amp['Model']==\"Ridolfi filtered\")\n",
    "#                                         &(Combo_Amp[\"Sample_ID_Cpx\"]==\"Baker\")],  \n",
    "#          'xr')\n",
    "\n",
    "# ax1.plot(-0.1,\n",
    "#       np.nanmedian(Combo_Amp['Preferred_P'].loc[(Combo_Amp['Model']==\"Ridolfi not filtered\")\n",
    "#                                         &(Combo_Amp[\"Sample_ID_Cpx\"]==\"Baker\")]),  \n",
    "#          '*k', mfc='w', ms=20)\n",
    "\n",
    "# ax1.plot(0.1,\n",
    "#       np.nanmedian(Combo_Amp['Preferred_P'].loc[(Combo_Amp['Model']==\"Ridolfi filtered\")\n",
    "#                                         &(Combo_Amp[\"Sample_ID_Cpx\"]==\"Baker\")]),  \n",
    "#          '*k', mfc='w', ms=20)\n",
    "\n",
    "ax1.plot(0.9+0*Combo_Amp['Preferred_P'].loc[(Combo_Amp['Model']==\"Ridolfi not filtered\")\n",
    "                                        &(Combo_Amp[\"Sample_ID_Amp\"]==\"Baker domefield\")],\n",
    "      Combo_Amp['Preferred_P'].loc[(Combo_Amp['Model']==\"Ridolfi not filtered\")\n",
    "                                        &(Combo_Amp[\"Sample_ID_Amp\"]==\"Baker domefield\")],  \n",
    "         'x', mec='green')\n",
    "\n",
    "ax1.plot(1.1+0*Combo_Amp['Preferred_P'].loc[(Combo_Amp['Model']==\"Ridolfi filtered\")\n",
    "                                        &(Combo_Amp[\"Sample_ID_Amp\"]==\"Baker domefield\")],\n",
    "      Combo_Amp['Preferred_P'].loc[(Combo_Amp['Model']==\"Ridolfi filtered\")\n",
    "                                        &(Combo_Amp[\"Sample_ID_Amp\"]==\"Baker domefield\")],  \n",
    "         'x', mec='k')\n",
    "\n",
    "ax1.plot(0.9,\n",
    "      np.nanmedian(Combo_Amp['Preferred_P'].loc[(Combo_Amp['Model']==\"Ridolfi not filtered\")\n",
    "                                        &(Combo_Amp[\"Sample_ID_Amp\"]==\"Baker domefield\")]),  \n",
    "         '*k', mfc='w', ms=20)\n",
    "\n",
    "ax1.plot(1.1,\n",
    "      np.nanmedian(Combo_Amp['Preferred_P'].loc[(Combo_Amp['Model']==\"Ridolfi filtered\")\n",
    "                                        &(Combo_Amp[\"Sample_ID_Amp\"]==\"Baker domefield\")]),  \n",
    "         '*k', mfc='w', ms=20)\n",
    "\n",
    "ax1.plot([-1, 5], [0, 0], '-k', lw=0.5)\n",
    "ax1.set_ylim([P_axis_max, P_axis_min])\n",
    "ax2.set_ylim([D_axis_max, D_axis_min])\n",
    "ax1.set_xlim([0.5, 1.5])\n",
    "ax1.get_legend().remove()\n",
    "ax1.set_xlabel(None)\n",
    "ax1.set_ylabel(None)\n",
    "\n",
    "ax1.tick_params(direction=\"in\")\n",
    "ax2.tick_params(direction=\"in\")\n",
    "ax2.set_yticks([])\n",
    "ax1.set_xticks([])\n",
    "ax1.grid(color = 'k', linestyle = '--', axis='y',linewidth = 1, alpha = 0.1, zorder=0)\n",
    "\n",
    "\n",
    "fig.savefig('Baker_Amp.png', dpi=200)\n",
    "\n"
   ]
  },
  {
   "cell_type": "code",
   "execution_count": null,
   "id": "58a4756b-4dbb-4964-950a-bda2b1c59643",
   "metadata": {},
   "outputs": [],
   "source": [
    "Baker_Amp_Press_Filter"
   ]
  },
  {
   "cell_type": "code",
   "execution_count": null,
   "id": "81a10478-4082-410e-b5b3-daf024b3db52",
   "metadata": {},
   "outputs": [],
   "source": [
    "plt.plot(1.1,\n",
    "      np.nanmedian(Combo_Amp['Preferred_P'].loc[(Combo_Amp['Model']==\"Ridolfi filtered\")\n",
    "                                        &(Combo_Amp[\"Sample_ID_Amp\"]==\"Baker domefield\")]),  \n",
    "         '*k', mfc='w', ms=20)"
   ]
  },
  {
   "cell_type": "code",
   "execution_count": null,
   "id": "94bfe1b8-4f99-4503-88a4-1c712c542bda",
   "metadata": {},
   "outputs": [],
   "source": [
    "Combo_Amp[\"Sample_ID_Amp\"]"
   ]
  },
  {
   "cell_type": "code",
   "execution_count": null,
   "id": "4759be25-6b15-45af-9281-f5e8ae9fe912",
   "metadata": {},
   "outputs": [],
   "source": [
    "Combo_Amp['Preferred_P'].loc[(Combo_Amp['Model']==\"Ridolfi filtered\")\n",
    "                                        &(Combo_Amp[\"Sample_ID_Amp\"]==\"Baker domefield\")]"
   ]
  },
  {
   "cell_type": "code",
   "execution_count": null,
   "id": "de72aa5c-02a5-45df-b79d-202d25d2b679",
   "metadata": {},
   "outputs": [],
   "source": []
  }
 ],
 "metadata": {
  "kernelspec": {
   "display_name": "Python 3 (ipykernel)",
   "language": "python",
   "name": "python3"
  },
  "language_info": {
   "codemirror_mode": {
    "name": "ipython",
    "version": 3
   },
   "file_extension": ".py",
   "mimetype": "text/x-python",
   "name": "python",
   "nbconvert_exporter": "python",
   "pygments_lexer": "ipython3",
   "version": "3.9.13"
  }
 },
 "nbformat": 4,
 "nbformat_minor": 5
}
