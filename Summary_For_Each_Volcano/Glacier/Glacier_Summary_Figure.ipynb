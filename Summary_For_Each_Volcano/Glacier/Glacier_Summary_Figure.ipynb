{
 "cells": [
  {
   "cell_type": "code",
   "execution_count": 1,
   "id": "f7fb73cf-9460-47b8-9bd0-bd453bb17f0d",
   "metadata": {},
   "outputs": [],
   "source": [
    "import numpy as np\n",
    "import pandas as pd\n",
    "import matplotlib.pyplot as plt\n",
    "import Thermobar as pt\n",
    "from pickle import load\n",
    "import pickle"
   ]
  },
  {
   "cell_type": "markdown",
   "id": "8521678a-72c4-48d0-9753-648355b12ab4",
   "metadata": {},
   "source": [
    "## First, lets load Cpx data"
   ]
  },
  {
   "cell_type": "code",
   "execution_count": 2,
   "id": "8453bb64-2b6f-40f8-a7c9-ac9dc2a2aab8",
   "metadata": {},
   "outputs": [
    {
     "name": "stderr",
     "output_type": "stream",
     "text": [
      "C:\\Users\\penny\\AppData\\Local\\Temp\\ipykernel_31192\\3079542794.py:4: SettingWithCopyWarning: \n",
      "A value is trying to be set on a copy of a slice from a DataFrame.\n",
      "Try using .loc[row_indexer,col_indexer] = value instead\n",
      "\n",
      "See the caveats in the documentation: https://pandas.pydata.org/pandas-docs/stable/user_guide/indexing.html#returning-a-view-versus-a-copy\n",
      "  Glacier_Cpx['Sample_ID_Cpx']=\"Glacier\"\n"
     ]
    }
   ],
   "source": [
    "with open(r'../Combo_Cpx.pkl', 'rb') as f:\n",
    "            All_Cpx=load(f)\n",
    "Glacier_Cpx=All_Cpx.loc[All_Cpx['Volcano']==\"Glacier\"]\n",
    "Glacier_Cpx['Sample_ID_Cpx']=\"Glacier\""
   ]
  },
  {
   "cell_type": "code",
   "execution_count": 3,
   "id": "3fb1af71-e5af-44b8-8469-42127d4e5a2e",
   "metadata": {},
   "outputs": [
    {
     "name": "stdout",
     "output_type": "stream",
     "text": [
      "18\n"
     ]
    }
   ],
   "source": [
    "print(len(Glacier_Cpx))\n",
    "WangCopy=Glacier_Cpx.copy()\n",
    "WangCopy['Preferred_P']=WangCopy['P_Wang21_eq1']\n",
    "WangCopy['Model']=\"Wang\"\n",
    "JorgensonCopy=Glacier_Cpx.copy()\n",
    "JorgensonCopy['Preferred_P']=JorgensonCopy['P_Jorgenson22']\n",
    "JorgensonCopy['Model']=\"Jorgenson\"\n",
    "\n",
    "Combo_Cpx=pd.concat([WangCopy, JorgensonCopy], axis=0)"
   ]
  },
  {
   "cell_type": "markdown",
   "id": "ce5301c4-2fc5-4ffa-bea5-c3f2a2a10aa5",
   "metadata": {},
   "source": [
    "## Choose Crustal density"
   ]
  },
  {
   "cell_type": "code",
   "execution_count": 4,
   "id": "5969034c-fad7-4f3b-99e7-6e549602329a",
   "metadata": {},
   "outputs": [],
   "source": [
    "rho=2700\n",
    "P_axis_min=-3\n",
    "P_axis_max=12\n",
    "D_axis_min=100000*P_axis_min/(9.8*rho)\n",
    "D_axis_max=100000*P_axis_max/(9.8*rho)\n"
   ]
  },
  {
   "cell_type": "code",
   "execution_count": 7,
   "id": "03aecb9b-4065-4d14-a4ce-d29b9a6cdd76",
   "metadata": {},
   "outputs": [
    {
     "data": {
      "image/png": "[encoded data removed]",
      "text/plain": [
       "<Figure size 144x288 with 2 Axes>"
      ]
     },
     "metadata": {
      "needs_background": "light"
     },
     "output_type": "display_data"
    }
   ],
   "source": [
    "import seaborn as sns\n",
    "fig, (ax1) = plt.subplots(1, 1, figsize=(2,4), sharey=True)\n",
    "ax2 = ax1.twinx()\n",
    "# ticks = [40.540139,41.3099, 41.6108, 42.9446, 43.7221, 44.103449, 44.6743, 45.3736, 46.1914, 46.8523, 48.1119, 48.7767]\n",
    "# labels = ['Glacier', 'Glacier', 'Med Lake', 'Crater Lake', 'Newberry', '3 Sisters', 'Mt. Jeff', 'Mt. Hood', 'MSH', 'Rainier', 'Glac. Pk.', 'Mt. Baker']\n",
    "# ax2.set_xticks(ticks, minor=False)\n",
    "# ax2.set_xticklabels(labels, fontdict=None, minor=False, rotation=90)\n",
    "#ax1.set_xlim([40, 49])\n",
    "volc_order=[ \"Glacier\"]\n",
    "sns.violinplot(x=\"Sample_ID_Cpx\", y=\"Preferred_P\",  cut=0,  inner=None, hue=\"Model\",\n",
    "            data=Combo_Cpx, split=True, ax=ax1, width=0.9, order=volc_order, stick=True)\n",
    "\n",
    "ax1.plot(-0.1+0*Combo_Cpx['Preferred_P'].loc[(Combo_Cpx['Model']==\"Wang\")\n",
    "                                        &(Combo_Cpx[\"Sample_ID_Cpx\"]==\"Glacier\")],\n",
    "      Combo_Cpx['Preferred_P'].loc[(Combo_Cpx['Model']==\"Wang\")\n",
    "                                        &(Combo_Cpx[\"Sample_ID_Cpx\"]==\"Glacier\")],  \n",
    "         'xb')\n",
    "\n",
    "ax1.plot(0.1+0*Combo_Cpx['Preferred_P'].loc[(Combo_Cpx['Model']==\"Jorgenson\")\n",
    "                                        &(Combo_Cpx[\"Sample_ID_Cpx\"]==\"Glacier\")],\n",
    "      Combo_Cpx['Preferred_P'].loc[(Combo_Cpx['Model']==\"Jorgenson\")\n",
    "                                        &(Combo_Cpx[\"Sample_ID_Cpx\"]==\"Glacier\")],  \n",
    "         'xr')\n",
    "\n",
    "ax1.plot(-0.1,\n",
    "      np.nanmedian(Combo_Cpx['Preferred_P'].loc[(Combo_Cpx['Model']==\"Wang\")\n",
    "                                        &(Combo_Cpx[\"Sample_ID_Cpx\"]==\"Glacier\")]),  \n",
    "         '*k', mfc='w', ms=20)\n",
    "\n",
    "ax1.plot(0.1,\n",
    "      np.nanmedian(Combo_Cpx['Preferred_P'].loc[(Combo_Cpx['Model']==\"Jorgenson\")\n",
    "                                        &(Combo_Cpx[\"Sample_ID_Cpx\"]==\"Glacier\")]),  \n",
    "         '*k', mfc='w', ms=20)\n",
    "\n",
    "  \n",
    "\n",
    "ax1.plot([-1, 5], [0, 0], '-k', lw=0.5)\n",
    "ax1.set_ylim([P_axis_max, P_axis_min])\n",
    "ax2.set_ylim([D_axis_max, D_axis_min])\n",
    "ax1.set_xlim([-0.5, 0.5])\n",
    "ax1.get_legend().remove()\n",
    "ax1.set_xlabel(None)\n",
    "ax1.set_ylabel(None)\n",
    "ax1.tick_params(direction=\"in\")\n",
    "ax2.tick_params(direction=\"in\")\n",
    "ax1.grid(color = 'k', linestyle = '--', axis='y',linewidth = 1, alpha = 0.1, zorder=0)\n",
    "ax2.set_yticks([])\n",
    "ax1.set_xticks([])\n",
    "fig.savefig('Glacier_Cpx.png', dpi=200)"
   ]
  },
  {
   "cell_type": "code",
   "execution_count": 5,
   "id": "e66609b0-b5cd-4292-982f-8e770e154e1f",
   "metadata": {},
   "outputs": [
    {
     "name": "stdout",
     "output_type": "stream",
     "text": [
      "2.2161578645598343\n"
     ]
    }
   ],
   "source": [
    "print(np.nanmedian(Combo_Cpx['Preferred_P'].loc[(Combo_Cpx['Model']==\"Wang\")\n",
    "                                        &(Combo_Cpx[\"Sample_ID_Cpx\"]==\"Glacier\")]))"
   ]
  },
  {
   "cell_type": "code",
   "execution_count": 6,
   "id": "3a0ec536-dfbb-42d6-b190-70f56272c934",
   "metadata": {},
   "outputs": [
    {
     "name": "stdout",
     "output_type": "stream",
     "text": [
      "2.241851990049752\n"
     ]
    }
   ],
   "source": [
    "print(np.nanmedian(Combo_Cpx['Preferred_P'].loc[(Combo_Cpx['Model']==\"Jorgenson\")\n",
    "                                        &(Combo_Cpx[\"Sample_ID_Cpx\"]==\"Glacier\")]))"
   ]
  },
  {
   "cell_type": "markdown",
   "id": "fd5bf02e-71f1-4b10-8e5f-8bd751710443",
   "metadata": {},
   "source": [
    "## No Amphibole"
   ]
  },
  {
   "cell_type": "code",
   "execution_count": 8,
   "id": "09656e44-ac7f-4b62-af05-2c20bbb409a9",
   "metadata": {},
   "outputs": [],
   "source": [
    "## Load in LP data"
   ]
  },
  {
   "cell_type": "code",
   "execution_count": 9,
   "id": "41821936-e344-4fae-9a12-f803d537e6b2",
   "metadata": {},
   "outputs": [
    {
     "data": {
      "text/html": [
       "<div>\n",
       "<style scoped>\n",
       "    .dataframe tbody tr th:only-of-type {\n",
       "        vertical-align: middle;\n",
       "    }\n",
       "\n",
       "    .dataframe tbody tr th {\n",
       "        vertical-align: top;\n",
       "    }\n",
       "\n",
       "    .dataframe thead th {\n",
       "        text-align: right;\n",
       "    }\n",
       "</style>\n",
       "<table border=\"1\" class=\"dataframe\">\n",
       "  <thead>\n",
       "    <tr style=\"text-align: right;\">\n",
       "      <th></th>\n",
       "      <th>Volcano</th>\n",
       "      <th>Latitude</th>\n",
       "      <th>Depth</th>\n",
       "      <th>Depth definition</th>\n",
       "      <th>Reference</th>\n",
       "      <th>Unnamed: 5</th>\n",
       "      <th>Unnamed: 6</th>\n",
       "    </tr>\n",
       "  </thead>\n",
       "  <tbody>\n",
       "    <tr>\n",
       "      <th>54</th>\n",
       "      <td>Glacier Peak</td>\n",
       "      <td>48.1119</td>\n",
       "      <td>10.100309</td>\n",
       "      <td>presume sea level based on their Fig. 7, which...</td>\n",
       "      <td>Nichols et al. 2011</td>\n",
       "      <td>NaN</td>\n",
       "      <td>NaN</td>\n",
       "    </tr>\n",
       "    <tr>\n",
       "      <th>55</th>\n",
       "      <td>Glacier Peak</td>\n",
       "      <td>48.1119</td>\n",
       "      <td>19.498457</td>\n",
       "      <td>presume sea level based on their Fig. 7, which...</td>\n",
       "      <td>Nichols et al. 2011</td>\n",
       "      <td>NaN</td>\n",
       "      <td>NaN</td>\n",
       "    </tr>\n",
       "    <tr>\n",
       "      <th>56</th>\n",
       "      <td>Glacier Peak</td>\n",
       "      <td>48.1119</td>\n",
       "      <td>21.496914</td>\n",
       "      <td>presume sea level based on their Fig. 7, which...</td>\n",
       "      <td>Nichols et al. 2011</td>\n",
       "      <td>NaN</td>\n",
       "      <td>NaN</td>\n",
       "    </tr>\n",
       "    <tr>\n",
       "      <th>57</th>\n",
       "      <td>Glacier Peak</td>\n",
       "      <td>48.1119</td>\n",
       "      <td>20.470679</td>\n",
       "      <td>presume sea level based on their Fig. 7, which...</td>\n",
       "      <td>Nichols et al. 2011</td>\n",
       "      <td>NaN</td>\n",
       "      <td>NaN</td>\n",
       "    </tr>\n",
       "    <tr>\n",
       "      <th>58</th>\n",
       "      <td>Glacier Peak</td>\n",
       "      <td>48.1119</td>\n",
       "      <td>20.254630</td>\n",
       "      <td>presume sea level based on their Fig. 7, which...</td>\n",
       "      <td>Nichols et al. 2011</td>\n",
       "      <td>NaN</td>\n",
       "      <td>NaN</td>\n",
       "    </tr>\n",
       "    <tr>\n",
       "      <th>59</th>\n",
       "      <td>Glacier Peak</td>\n",
       "      <td>48.1119</td>\n",
       "      <td>16.959877</td>\n",
       "      <td>presume sea level based on their Fig. 7, which...</td>\n",
       "      <td>Nichols et al. 2011</td>\n",
       "      <td>NaN</td>\n",
       "      <td>NaN</td>\n",
       "    </tr>\n",
       "    <tr>\n",
       "      <th>60</th>\n",
       "      <td>Glacier Peak</td>\n",
       "      <td>48.1119</td>\n",
       "      <td>16.581790</td>\n",
       "      <td>presume sea level based on their Fig. 7, which...</td>\n",
       "      <td>Nichols et al. 2011</td>\n",
       "      <td>NaN</td>\n",
       "      <td>NaN</td>\n",
       "    </tr>\n",
       "    <tr>\n",
       "      <th>61</th>\n",
       "      <td>Glacier Peak</td>\n",
       "      <td>48.1119</td>\n",
       "      <td>15.663580</td>\n",
       "      <td>presume sea level based on their Fig. 7, which...</td>\n",
       "      <td>Nichols et al. 2011</td>\n",
       "      <td>NaN</td>\n",
       "      <td>NaN</td>\n",
       "    </tr>\n",
       "  </tbody>\n",
       "</table>\n",
       "</div>"
      ],
      "text/plain": [
       "         Volcano  Latitude      Depth  \\\n",
       "54  Glacier Peak   48.1119  10.100309   \n",
       "55  Glacier Peak   48.1119  19.498457   \n",
       "56  Glacier Peak   48.1119  21.496914   \n",
       "57  Glacier Peak   48.1119  20.470679   \n",
       "58  Glacier Peak   48.1119  20.254630   \n",
       "59  Glacier Peak   48.1119  16.959877   \n",
       "60  Glacier Peak   48.1119  16.581790   \n",
       "61  Glacier Peak   48.1119  15.663580   \n",
       "\n",
       "                                     Depth definition            Reference  \\\n",
       "54  presume sea level based on their Fig. 7, which...  Nichols et al. 2011   \n",
       "55  presume sea level based on their Fig. 7, which...  Nichols et al. 2011   \n",
       "56  presume sea level based on their Fig. 7, which...  Nichols et al. 2011   \n",
       "57  presume sea level based on their Fig. 7, which...  Nichols et al. 2011   \n",
       "58  presume sea level based on their Fig. 7, which...  Nichols et al. 2011   \n",
       "59  presume sea level based on their Fig. 7, which...  Nichols et al. 2011   \n",
       "60  presume sea level based on their Fig. 7, which...  Nichols et al. 2011   \n",
       "61  presume sea level based on their Fig. 7, which...  Nichols et al. 2011   \n",
       "\n",
       "    Unnamed: 5  Unnamed: 6  \n",
       "54         NaN         NaN  \n",
       "55         NaN         NaN  \n",
       "56         NaN         NaN  \n",
       "57         NaN         NaN  \n",
       "58         NaN         NaN  \n",
       "59         NaN         NaN  \n",
       "60         NaN         NaN  \n",
       "61         NaN         NaN  "
      ]
     },
     "execution_count": 9,
     "metadata": {},
     "output_type": "execute_result"
    }
   ],
   "source": [
    "LPs=pd.read_excel(r'..\\Geophysics_April23.xlsx',\n",
    "                  sheet_name=\"LPEarthquakes\")\n",
    "LPs_Glacier=LPs.loc[LPs['Volcano']==\"Glacier Peak\"]\n",
    "LPs_Glacier"
   ]
  },
  {
   "cell_type": "code",
   "execution_count": 12,
   "id": "de72aa5c-02a5-45df-b79d-202d25d2b679",
   "metadata": {},
   "outputs": [
    {
     "data": {
      "image/png": "[encoded data removed]",
      "text/plain": [
       "<Figure size 108x288 with 2 Axes>"
      ]
     },
     "metadata": {
      "needs_background": "light"
     },
     "output_type": "display_data"
    }
   ],
   "source": [
    "import seaborn as sns\n",
    "fig, (ax1) = plt.subplots(1, 1, figsize=(1.5,4), sharey=True)\n",
    "ax2 = ax1.twinx()\n",
    "from matplotlib import patches\n",
    "elev=3.213 # Elevation of Glacier in Km\n",
    "\n",
    "\n",
    "ax2.plot(1+0*LPs_Glacier['Depth'], LPs_Glacier['Depth']+elev, 'ok', mfc='red', ms=5)\n",
    "\n",
    "\n",
    "ax1.plot([-1, 8], [0, 0], '-k', lw=0.5)\n",
    "ax1.set_ylim([P_axis_max, P_axis_min])\n",
    "ax2.set_ylim([D_axis_max, D_axis_min])\n",
    "\n",
    "ax1.tick_params(direction=\"in\")\n",
    "ax2.tick_params(direction=\"in\")\n",
    "ax1.set_xlim([0, 2])\n",
    "ax1.set_xlabel(None)\n",
    "ax1.set_ylabel(None)\n",
    "ax1.set_xticks([])\n",
    "#ax1.set_xticklabels(['Exp Pet', 'Exp Pet', 'MT', 'Seismics'], rotation=90)\n",
    "ax1.grid(color = 'k', linestyle = '--', axis='y',linewidth = 1, alpha = 0.1, zorder=0)\n",
    "                 \n",
    "fig.savefig('Geophysical+Other_Glacier.png', dpi=200, bbox_inches=\"tight\")"
   ]
  },
  {
   "cell_type": "code",
   "execution_count": null,
   "id": "4b3ee413-0579-4bff-b894-932b4311be73",
   "metadata": {},
   "outputs": [],
   "source": []
  }
 ],
 "metadata": {
  "kernelspec": {
   "display_name": "Python 3 (ipykernel)",
   "language": "python",
   "name": "python3"
  },
  "language_info": {
   "codemirror_mode": {
    "name": "ipython",
    "version": 3
   },
   "file_extension": ".py",
   "mimetype": "text/x-python",
   "name": "python",
   "nbconvert_exporter": "python",
   "pygments_lexer": "ipython3",
   "version": "3.9.13"
  }
 },
 "nbformat": 4,
 "nbformat_minor": 5
}
