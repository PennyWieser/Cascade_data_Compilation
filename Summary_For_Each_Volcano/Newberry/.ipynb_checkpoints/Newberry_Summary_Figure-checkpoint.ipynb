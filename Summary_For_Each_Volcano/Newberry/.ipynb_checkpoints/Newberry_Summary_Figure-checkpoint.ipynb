{
 "cells": [
  {
   "cell_type": "code",
   "execution_count": 1,
   "id": "f7fb73cf-9460-47b8-9bd0-bd453bb17f0d",
   "metadata": {},
   "outputs": [],
   "source": [
    "import numpy as np\n",
    "import pandas as pd\n",
    "import matplotlib.pyplot as plt\n",
    "import Thermobar as pt"
   ]
  },
  {
   "cell_type": "markdown",
   "id": "8521678a-72c4-48d0-9753-648355b12ab4",
   "metadata": {},
   "source": [
    "## First, lets load Cpx data"
   ]
  },
  {
   "cell_type": "code",
   "execution_count": 2,
   "id": "8453bb64-2b6f-40f8-a7c9-ac9dc2a2aab8",
   "metadata": {},
   "outputs": [
    {
     "name": "stderr",
     "output_type": "stream",
     "text": [
      "C:\\Users\\penny\\anaconda3\\lib\\site-packages\\sklearn\\base.py:329: UserWarning: Trying to unpickle estimator SVC from version 0.24.1 when using version 1.0.2. This might lead to breaking code or invalid results. Use at your own risk. For more info please refer to:\n",
      "https://scikit-learn.org/stable/modules/model_persistence.html#security-maintainability-limitations\n",
      "  warnings.warn(\n",
      "C:\\Users\\penny\\anaconda3\\lib\\site-packages\\sklearn\\base.py:329: UserWarning: Trying to unpickle estimator StandardScaler from version 0.24.1 when using version 1.0.2. This might lead to breaking code or invalid results. Use at your own risk. For more info please refer to:\n",
      "https://scikit-learn.org/stable/modules/model_persistence.html#security-maintainability-limitations\n",
      "  warnings.warn(\n"
     ]
    },
    {
     "name": "stdout",
     "output_type": "stream",
     "text": [
      "['Px']\n"
     ]
    },
    {
     "data": {
      "image/png": "[encoded data removed]",
      "text/plain": [
       "<Figure size 432x288 with 1 Axes>"
      ]
     },
     "metadata": {
      "needs_background": "light"
     },
     "output_type": "display_data"
    }
   ],
   "source": [
    "Newberry_read_Cpx=pt.import_excel('Newberry.xlsx', sheet_name='Cpx_All')\n",
    "Newberry_Input_Cpx=Newberry_read_Cpx['my_input']\n",
    "Newberry_Cpx=Newberry_read_Cpx['Cpxs']\n",
    "Newberry_Cpx['Sample_ID_Cpx']='Newberry'\n",
    "\n",
    "Newberry_Cpx_copy=Newberry_Cpx.copy()\n",
    "Newberry_cpx_comps=pt.calculate_clinopyroxene_components(cpx_comps=Newberry_Cpx)\n",
    "# Are a few outside 3.95 to 4.05 Cat sums, CaCaMgFe lies 0.3 - 0.55\n",
    "Newberry_cpx_filt1=Newberry_Cpx.loc[( (Newberry_cpx_comps['Cation_Sum_Cpx'].between(3.95, 4.05)) )]\n",
    "Newberry_Cpx_class=pt.classify_phases(df=Newberry_cpx_filt1, return_end_members=True,\n",
    "                        str_to_drop='_Cpx')\n",
    "print(Newberry_Cpx_class['Phase_Min_Group_ML'].unique())\n",
    "Newberry_cpx_filt=Newberry_cpx_filt1.loc[(Newberry_Cpx_class['Phase_Min_Group_ML']==\"Px\")\n",
    "                                        &(Newberry_Cpx_class['Ca_CaMgFe'].between(0.2, 0.5))\n",
    "                                       ]\n",
    "Newberry_cpx_Press_All=pt.calculate_cpx_only_press_all_eqs(cpx_comps=Newberry_cpx_filt, plot=True)\n",
    "\n"
   ]
  },
  {
   "cell_type": "code",
   "execution_count": 3,
   "id": "ddadacbe-72f5-4c64-91c6-ba0ae5abcda5",
   "metadata": {},
   "outputs": [
    {
     "data": {
      "text/plain": [
       "79"
      ]
     },
     "execution_count": 3,
     "metadata": {},
     "output_type": "execute_result"
    }
   ],
   "source": [
    "len(Newberry_cpx_filt)"
   ]
  },
  {
   "cell_type": "markdown",
   "id": "79109bd2-298f-4ef9-8fed-438d36167630",
   "metadata": {},
   "source": [
    "## Splitting into Petrelli and Wang"
   ]
  },
  {
   "cell_type": "code",
   "execution_count": 4,
   "id": "9cee4e09-c573-4fbc-bc74-da8c4942b71e",
   "metadata": {},
   "outputs": [],
   "source": [
    "# Wang\n",
    "Newberry_cpx_Press_All['Preferred_P']=Newberry_cpx_Press_All['P_Wang21_eq1']\n",
    "\n",
    "Newberry_cpx_Press_All_copy=Newberry_cpx_Press_All.copy()\n",
    "Newberry_cpx_Press_All_copy['Preferred_P']=Newberry_cpx_Press_All['P_Petrelli21']\n",
    "\n",
    "Newberry_cpx_Press_All_copy['Model']=\"Petrelli\"\n",
    "Newberry_cpx_Press_All['Model']=\"Wang\"\n",
    "\n",
    "Combo_Cpx=pd.concat([Newberry_cpx_Press_All, Newberry_cpx_Press_All_copy], axis=0)"
   ]
  },
  {
   "cell_type": "code",
   "execution_count": 5,
   "id": "31a69069-1bf5-440c-ba5d-bd6a8a32cd04",
   "metadata": {},
   "outputs": [],
   "source": [
    "Combo_Cpx.to_pickle(\"Cpx_Newberry.pkl\")"
   ]
  },
  {
   "cell_type": "markdown",
   "id": "ce5301c4-2fc5-4ffa-bea5-c3f2a2a10aa5",
   "metadata": {},
   "source": [
    "## Choose Crustal density"
   ]
  },
  {
   "cell_type": "code",
   "execution_count": 4,
   "id": "5969034c-fad7-4f3b-99e7-6e549602329a",
   "metadata": {},
   "outputs": [],
   "source": [
    "rho=2700\n",
    "P_axis_min=-3\n",
    "P_axis_max=12\n",
    "D_axis_min=100000*P_axis_min/(9.8*rho)\n",
    "D_axis_max=100000*P_axis_max/(9.8*rho)\n"
   ]
  },
  {
   "cell_type": "code",
   "execution_count": 7,
   "id": "212960cc-0032-45c9-ad08-88840b802bea",
   "metadata": {},
   "outputs": [
    {
     "data": {
      "text/plain": [
       "array(['Rainier'], dtype=object)"
      ]
     },
     "execution_count": 7,
     "metadata": {},
     "output_type": "execute_result"
    }
   ],
   "source": [
    "Newberry_cpx_Press_All['Sample_ID_Cpx'].unique()"
   ]
  },
  {
   "cell_type": "code",
   "execution_count": 8,
   "id": "77347f03-60d0-486d-9b96-db2d141a2d50",
   "metadata": {},
   "outputs": [
    {
     "data": {
      "text/plain": [
       "(array([0., 0., 0., 0., 0., 0., 0., 0., 0., 0.]),\n",
       " array([0. , 0.1, 0.2, 0.3, 0.4, 0.5, 0.6, 0.7, 0.8, 0.9, 1. ]),\n",
       " <BarContainer object of 10 artists>)"
      ]
     },
     "execution_count": 8,
     "metadata": {},
     "output_type": "execute_result"
    },
    {
     "data": {
      "image/png": "[encoded data removed]",
      "text/plain": [
       "<Figure size 432x288 with 1 Axes>"
      ]
     },
     "metadata": {
      "needs_background": "light"
     },
     "output_type": "display_data"
    }
   ],
   "source": [
    "plt.hist(Newberry_cpx_Press_All['P_Wang21_eq1'].loc[Newberry_cpx_Press_All['Sample_ID_Cpx']==\"Spessartite\"])\n",
    "plt.hist(Newberry_cpx_Press_All['P_Wang21_eq1'].loc[Newberry_cpx_Press_All['Sample_ID_Cpx']==\"BURROUGHS MOUNTAIN\"],\n",
    "         alpha=0.4)\n",
    "plt.hist(Newberry_cpx_Press_All['P_Wang21_eq1'].loc[Newberry_cpx_Press_All['Sample_ID_Cpx']==\"sunset mafics\"],\n",
    "         alpha=0.4)"
   ]
  },
  {
   "cell_type": "code",
   "execution_count": 9,
   "id": "dce73f1e-6f2c-4a20-a7ea-1b26a91dc8fc",
   "metadata": {},
   "outputs": [
    {
     "data": {
      "text/plain": [
       "(array([0., 0., 0., 0., 0., 0., 0., 0., 0., 0.]),\n",
       " array([0. , 0.1, 0.2, 0.3, 0.4, 0.5, 0.6, 0.7, 0.8, 0.9, 1. ]),\n",
       " <BarContainer object of 10 artists>)"
      ]
     },
     "execution_count": 9,
     "metadata": {},
     "output_type": "execute_result"
    },
    {
     "data": {
      "image/png": "[encoded data removed]",
      "text/plain": [
       "<Figure size 432x288 with 1 Axes>"
      ]
     },
     "metadata": {
      "needs_background": "light"
     },
     "output_type": "display_data"
    }
   ],
   "source": [
    "plt.hist(Newberry_cpx_Press_All['P_Petrelli21'].loc[Newberry_cpx_Press_All['Sample_ID_Cpx']==\"Spessartite\"])\n",
    "plt.hist(Newberry_cpx_Press_All['P_Petrelli21'].loc[Newberry_cpx_Press_All['Sample_ID_Cpx']==\"BURROUGHS MOUNTAIN\"],\n",
    "         alpha=0.4)\n",
    "plt.hist(Newberry_cpx_Press_All['P_Petrelli21'].loc[Newberry_cpx_Press_All['Sample_ID_Cpx']==\"sunset mafics\"],\n",
    "         alpha=0.4)"
   ]
  },
  {
   "cell_type": "code",
   "execution_count": 10,
   "id": "03aecb9b-4065-4d14-a4ce-d29b9a6cdd76",
   "metadata": {},
   "outputs": [
    {
     "data": {
      "image/png": "[encoded data removed]",
      "text/plain": [
       "<Figure size 180x288 with 2 Axes>"
      ]
     },
     "metadata": {
      "needs_background": "light"
     },
     "output_type": "display_data"
    }
   ],
   "source": [
    "import seaborn as sns\n",
    "fig, (ax1) = plt.subplots(1, 1, figsize=(2.5,4), sharey=True)\n",
    "ax2 = ax1.twinx()\n",
    "# ticks = [40.540139,41.3099, 41.6108, 42.9446, 43.7221, 44.103449, 44.6743, 45.3736, 46.1914, 46.8523, 48.1119, 48.7767]\n",
    "# labels = ['Newberry', 'Newberry', 'Med Lake', 'Crater Lake', 'Newberry', '3 Sisters', 'Mt. Jeff', 'Mt. Newberry', 'Newberry', 'Newberry', 'Glac. Pk.', 'Mt. Baker']\n",
    "# ax2.set_xticks(ticks, minor=False)\n",
    "# ax2.set_xticklabels(labels, fontdict=None, minor=False, rotation=90)\n",
    "#ax1.set_xlim([40, 49])\n",
    "volc_order=[\"Newberry\"]\n",
    "sns.violinplot(x=\"Sample_ID_Cpx\", y=\"Preferred_P\",  cut=0,  inner=None, hue=\"Model\",\n",
    "            data=Combo_Cpx, split=True, ax=ax1, width=0.9, order=volc_order, stick=True)\n",
    "\n",
    "ax1.plot(-0.1+0*Combo_Cpx['Preferred_P'].loc[(Combo_Cpx['Model']==\"Wang\")\n",
    "                                        &(Combo_Cpx[\"Sample_ID_Cpx\"]==\"Newberry\")],\n",
    "      Combo_Cpx['Preferred_P'].loc[(Combo_Cpx['Model']==\"Wang\")\n",
    "                                        &(Combo_Cpx[\"Sample_ID_Cpx\"]==\"Newberry\")],  \n",
    "         'xb')\n",
    "\n",
    "ax1.plot(0.1+0*Combo_Cpx['Preferred_P'].loc[(Combo_Cpx['Model']==\"Petrelli\")\n",
    "                                        &(Combo_Cpx[\"Sample_ID_Cpx\"]==\"Newberry\")],\n",
    "      Combo_Cpx['Preferred_P'].loc[(Combo_Cpx['Model']==\"Petrelli\")\n",
    "                                        &(Combo_Cpx[\"Sample_ID_Cpx\"]==\"Newberry\")],  \n",
    "         'xr')\n",
    "\n",
    "ax1.plot(-0.1,\n",
    "      np.nanmedian(Combo_Cpx['Preferred_P'].loc[(Combo_Cpx['Model']==\"Wang\")\n",
    "                                        &(Combo_Cpx[\"Sample_ID_Cpx\"]==\"Newberry\")]),  \n",
    "         '*k', mfc='w', ms=20)\n",
    "\n",
    "ax1.plot(0.1,\n",
    "      np.nanmedian(Combo_Cpx['Preferred_P'].loc[(Combo_Cpx['Model']==\"Petrelli\")\n",
    "                                        &(Combo_Cpx[\"Sample_ID_Cpx\"]==\"Newberry\")]),  \n",
    "         '*k', mfc='w', ms=20)\n",
    "\n",
    "ax1.plot(0.9+0*Combo_Cpx['Preferred_P'].loc[(Combo_Cpx['Model']==\"Wang\")\n",
    "                                        &(Combo_Cpx[\"Sample_ID_Cpx\"]==\"Newberry\")],\n",
    "      Combo_Cpx['Preferred_P'].loc[(Combo_Cpx['Model']==\"Wang\")\n",
    "                                        &(Combo_Cpx[\"Sample_ID_Cpx\"]==\"Newberry\")],  \n",
    "         'xb')\n",
    "\n",
    "ax1.plot(1.1+0*Combo_Cpx['Preferred_P'].loc[(Combo_Cpx['Model']==\"Petrelli\")\n",
    "                                        &(Combo_Cpx[\"Sample_ID_Cpx\"]==\"Newberry\")],\n",
    "      Combo_Cpx['Preferred_P'].loc[(Combo_Cpx['Model']==\"Petrelli\")\n",
    "                                        &(Combo_Cpx[\"Sample_ID_Cpx\"]==\"Newberry\")],  \n",
    "         'xr')\n",
    "\n",
    "ax1.plot(0.9,\n",
    "      np.nanmedian(Combo_Cpx['Preferred_P'].loc[(Combo_Cpx['Model']==\"Wang\")\n",
    "                                        &(Combo_Cpx[\"Sample_ID_Cpx\"]==\"Newberry\")]),  \n",
    "         '*k', mfc='w', ms=20)\n",
    "\n",
    "ax1.plot(1.1,\n",
    "      np.nanmedian(Combo_Cpx['Preferred_P'].loc[(Combo_Cpx['Model']==\"Petrelli\")\n",
    "                                        &(Combo_Cpx[\"Sample_ID_Cpx\"]==\"Newberry\")]),  \n",
    "         '*k', mfc='w', ms=20)\n",
    "\n",
    "ax1.plot([-1, 5], [0, 0], '-k', lw=0.5)\n",
    "ax1.set_ylim([P_axis_max, P_axis_min])\n",
    "ax2.set_ylim([D_axis_max, D_axis_min])\n",
    "ax1.set_xlim([-0.5, 0.5])\n",
    "ax1.get_legend().remove()\n",
    "ax1.set_xlabel(None)\n",
    "ax1.set_ylabel(None)\n",
    "ax1.tick_params(direction=\"in\")\n",
    "ax2.tick_params(direction=\"in\")\n",
    "ax1.grid(color = 'k', linestyle = '--', axis='y',linewidth = 1, alpha = 0.1, zorder=0)\n",
    "ax2.set_yticks([])\n",
    "ax1.set_xticks([])\n",
    "fig.savefig('Newberry_Cpx.png', dpi=200)"
   ]
  },
  {
   "cell_type": "code",
   "execution_count": 11,
   "id": "32152334-4b43-4f00-809c-52b5f2280222",
   "metadata": {},
   "outputs": [
    {
     "data": {
      "text/plain": [
       "158"
      ]
     },
     "execution_count": 11,
     "metadata": {},
     "output_type": "execute_result"
    }
   ],
   "source": [
    "len(Combo_Cpx)"
   ]
  },
  {
   "cell_type": "markdown",
   "id": "5ecd2305-8966-4812-927a-9279747a2ea3",
   "metadata": {},
   "source": [
    "## Opx - Cpx Barometry"
   ]
  },
  {
   "cell_type": "code",
   "execution_count": 12,
   "id": "386e1110-77c2-48f1-a669-01c9e12155bc",
   "metadata": {},
   "outputs": [
    {
     "data": {
      "text/plain": [
       "[<matplotlib.lines.Line2D at 0x18485403af0>]"
      ]
     },
     "execution_count": 12,
     "metadata": {},
     "output_type": "execute_result"
    },
    {
     "data": {
      "image/png": "[encoded data removed]",
      "text/plain": [
       "<Figure size 432x288 with 1 Axes>"
      ]
     },
     "metadata": {
      "needs_background": "light"
     },
     "output_type": "display_data"
    }
   ],
   "source": [
    "cpx_comps=pt.calculate_clinopyroxene_components(cpx_comps=Newberry_cpx_filt)\n",
    "\n",
    "plt.plot(cpx_comps['Mgno_Cpx'].loc[cpx_comps[\"Sample_ID_Cpx\"]==\"Newberry\"]                         \n",
    "        , Newberry_cpx_Press_All['P_Wang21_eq1'].loc[Newberry_cpx_Press_All[\"Sample_ID_Cpx\"]==\"Newberry\"]\n",
    "         , 'ok')\n",
    "\n",
    "plt.plot(cpx_comps['Mgno_Cpx'].loc[cpx_comps[\"Sample_ID_Cpx\"]==\"Newberry\"]                         \n",
    ", Newberry_cpx_Press_All['P_Wang21_eq1'].loc[Newberry_cpx_Press_All[\"Sample_ID_Cpx\"]==\"Newberry\"]\n",
    "         , 'or')"
   ]
  },
  {
   "cell_type": "code",
   "execution_count": 13,
   "id": "5ab298ae-0e39-4d03-9840-a0ca1d8c656e",
   "metadata": {},
   "outputs": [
    {
     "data": {
      "text/plain": [
       "59"
      ]
     },
     "execution_count": 13,
     "metadata": {},
     "output_type": "execute_result"
    }
   ],
   "source": [
    "sum(cpx_comps['Jd_from 0=Na, 1=Al']==0)"
   ]
  },
  {
   "cell_type": "code",
   "execution_count": 14,
   "id": "dd0d6e4a-427b-4df8-b0a4-f96e429c3db2",
   "metadata": {},
   "outputs": [
    {
     "data": {
      "text/plain": [
       "20"
      ]
     },
     "execution_count": 14,
     "metadata": {},
     "output_type": "execute_result"
    }
   ],
   "source": [
    "sum(cpx_comps['Jd_from 0=Na, 1=Al']==1)"
   ]
  },
  {
   "cell_type": "code",
   "execution_count": 15,
   "id": "bd9506d8-6e3d-444c-a4ad-4fb5bae018df",
   "metadata": {},
   "outputs": [
    {
     "data": {
      "text/plain": [
       "[<matplotlib.lines.Line2D at 0x1848546ca60>]"
      ]
     },
     "execution_count": 15,
     "metadata": {},
     "output_type": "execute_result"
    },
    {
     "data": {
      "image/png": "[encoded data removed]",
      "text/plain": [
       "<Figure size 432x288 with 1 Axes>"
      ]
     },
     "metadata": {
      "needs_background": "light"
     },
     "output_type": "display_data"
    }
   ],
   "source": [
    "cpx_comps=pt.calculate_clinopyroxene_components(cpx_comps=Newberry_cpx_filt).reset_index(drop=True)\n",
    "\n",
    "plt.plot(cpx_comps['Al2O3_Cpx'].loc[cpx_comps[\"Sample_ID_Cpx\"]==\"Newberry\"]                         \n",
    "        , Newberry_cpx_Press_All['P_Wang21_eq1'].loc[Newberry_cpx_Press_All[\"Sample_ID_Cpx\"]==\"Newberry\"]\n",
    "         , 'ok')\n",
    "\n",
    "plt.plot(cpx_comps['Al2O3_Cpx'].loc[cpx_comps[\"Sample_ID_Cpx\"]==\"Newberry\"]                         \n",
    ", Newberry_cpx_Press_All['P_Wang21_eq1'].loc[Newberry_cpx_Press_All[\"Sample_ID_Cpx\"]==\"Newberry\"]\n",
    "         , 'or')"
   ]
  },
  {
   "cell_type": "code",
   "execution_count": 16,
   "id": "6c831ce6-5347-4b72-9f0c-66c3eb76a8bf",
   "metadata": {},
   "outputs": [
    {
     "data": {
      "text/plain": [
       "[<matplotlib.lines.Line2D at 0x184854d92b0>]"
      ]
     },
     "execution_count": 16,
     "metadata": {},
     "output_type": "execute_result"
    },
    {
     "data": {
      "image/png": "[encoded data removed]",
      "text/plain": [
       "<Figure size 432x288 with 1 Axes>"
      ]
     },
     "metadata": {
      "needs_background": "light"
     },
     "output_type": "display_data"
    }
   ],
   "source": [
    "cpx_comps=pt.calculate_clinopyroxene_components(cpx_comps=Newberry_cpx_filt)\n",
    "\n",
    "plt.plot(cpx_comps['Na2O_Cpx'].loc[cpx_comps[\"Sample_ID_Cpx\"]==\"Newberry\"]                         \n",
    "        , Newberry_cpx_Press_All['P_Wang21_eq1'].loc[Newberry_cpx_Press_All[\"Sample_ID_Cpx\"]==\"Newberry\"]\n",
    "         , 'ok')\n",
    "\n",
    "plt.plot(cpx_comps['Na2O_Cpx'].loc[cpx_comps[\"Sample_ID_Cpx\"]==\"Newberry\"]                         \n",
    ", Newberry_cpx_Press_All['P_Wang21_eq1'].loc[Newberry_cpx_Press_All[\"Sample_ID_Cpx\"]==\"Newberry\"]\n",
    "         , 'or')"
   ]
  },
  {
   "cell_type": "code",
   "execution_count": 17,
   "id": "09656e44-ac7f-4b62-af05-2c20bbb409a9",
   "metadata": {},
   "outputs": [],
   "source": [
    "## Load in LP data"
   ]
  },
  {
   "cell_type": "code",
   "execution_count": 2,
   "id": "41821936-e344-4fae-9a12-f803d537e6b2",
   "metadata": {},
   "outputs": [
    {
     "data": {
      "text/html": [
       "<div>\n",
       "<style scoped>\n",
       "    .dataframe tbody tr th:only-of-type {\n",
       "        vertical-align: middle;\n",
       "    }\n",
       "\n",
       "    .dataframe tbody tr th {\n",
       "        vertical-align: top;\n",
       "    }\n",
       "\n",
       "    .dataframe thead th {\n",
       "        text-align: right;\n",
       "    }\n",
       "</style>\n",
       "<table border=\"1\" class=\"dataframe\">\n",
       "  <thead>\n",
       "    <tr style=\"text-align: right;\">\n",
       "      <th></th>\n",
       "      <th>Volcano</th>\n",
       "      <th>Latitude</th>\n",
       "      <th>Depth</th>\n",
       "      <th>Depth definition</th>\n",
       "      <th>Reference</th>\n",
       "      <th>Unnamed: 5</th>\n",
       "      <th>Unnamed: 6</th>\n",
       "    </tr>\n",
       "  </thead>\n",
       "  <tbody>\n",
       "  </tbody>\n",
       "</table>\n",
       "</div>"
      ],
      "text/plain": [
       "Empty DataFrame\n",
       "Columns: [Volcano, Latitude, Depth, Depth definition, Reference, Unnamed: 5, Unnamed: 6]\n",
       "Index: []"
      ]
     },
     "execution_count": 2,
     "metadata": {},
     "output_type": "execute_result"
    }
   ],
   "source": [
    "LPs=pd.read_excel(r'C:\\Users\\penny\\OneDrive - Oregon State University\\Postdoc\\Compilations\\Geophysics_Jan2021.xlsx',\n",
    "                  sheet_name=\"LPEarthquakes\")\n",
    "LPs_Newberry=LPs.loc[LPs['Volcano']==\"Newberry\"]\n",
    "LPs_Newberry.head()"
   ]
  },
  {
   "cell_type": "markdown",
   "id": "6e45a011-023a-4bff-ad06-e481b53d30ba",
   "metadata": {},
   "source": [
    "## Raw template for geophysics and Exp Pet"
   ]
  },
  {
   "cell_type": "markdown",
   "id": "6035d4ad-4d02-499f-ae79-251d829f289d",
   "metadata": {},
   "source": [
    "## Expet plot"
   ]
  },
  {
   "cell_type": "code",
   "execution_count": 7,
   "id": "701c220e-87c7-41d4-8b8d-6e29e84923f0",
   "metadata": {},
   "outputs": [
    {
     "data": {
      "image/png": "[encoded data removed]",
      "text/plain": [
       "<Figure size 144x288 with 2 Axes>"
      ]
     },
     "metadata": {
      "needs_background": "light"
     },
     "output_type": "display_data"
    }
   ],
   "source": [
    "import seaborn as sns\n",
    "fig, (ax1) = plt.subplots(1, 1, figsize=(2,4), sharey=True)\n",
    "ax2 = ax1.twinx()\n",
    "from matplotlib import patches\n",
    "# around 1 kbar\n",
    "ax1.plot([0.2, 0.3],[1, 1], '-k',  lw=3)\n",
    "\n",
    "\n",
    "ax1.plot([-1, 5], [0, 0], '-k', lw=0.5)\n",
    "ax1.set_ylim([P_axis_max, P_axis_min])\n",
    "ax2.set_ylim([D_axis_max, D_axis_min])\n",
    "\n",
    "ax1.tick_params(direction=\"in\")\n",
    "ax2.tick_params(direction=\"in\")\n",
    "ax1.set_xlim([0, 0.5])\n",
    "ax1.set_xlabel(None)\n",
    "ax1.set_ylabel(None)\n",
    "ax1.set_xticks([])\n",
    "ax1.grid(color = 'k', linestyle = '--', axis='y',linewidth = 1, alpha = 0.1, zorder=0)\n",
    "ax2.set_yticks([])                 \n",
    "fig.savefig('Expet_Newberry.png', dpi=200, bbox_inches=\"tight\")"
   ]
  },
  {
   "cell_type": "code",
   "execution_count": 23,
   "id": "85832d6e-9d94-47cd-9704-3d3255c3580e",
   "metadata": {},
   "outputs": [
    {
     "data": {
      "image/png": "[encoded data removed]",
      "text/plain": [
       "<Figure size 288x288 with 2 Axes>"
      ]
     },
     "metadata": {
      "needs_background": "light"
     },
     "output_type": "display_data"
    }
   ],
   "source": [
    "import seaborn as sns\n",
    "fig, (ax1) = plt.subplots(1, 1, figsize=(4,4), sharey=True)\n",
    "ax2 = ax1.twinx()\n",
    "from matplotlib import patches\n",
    "\n",
    "sep=0.5\n",
    "### SEISMIC CONSTRAINTS\n",
    "# Achauer 1988\n",
    "rect_A1988 = patches.Rectangle((0.5,3),0.2, 2,linewidth=1,\n",
    "                            edgecolor='k',facecolor='red')\n",
    "ax2.add_patch(rect_A1988)\n",
    "\n",
    "# Beachy 2012\n",
    "rect_B2012 = patches.Rectangle((0.5+sep,3),0.2, 3,linewidth=1,\n",
    "                            edgecolor='k',facecolor='red')\n",
    "ax2.add_patch(rect_B2012)\n",
    "\n",
    "# Heath et al. 2015\n",
    "\n",
    "rect_H2015 = patches.Rectangle((0.5+sep*2,3),0.2, 2,linewidth=1,\n",
    "                            edgecolor='k',facecolor='red')\n",
    "ax2.add_patch(rect_H2015)\n",
    "\n",
    "# Heath et al. 2018\n",
    "ax2.plot([0.5+sep*3, 0.5+sep*3+0.5],[2.5, 2.5], '-r',  lw=3)\n",
    "\n",
    "# MT\n",
    "rect_BM = patches.Rectangle((0.5+sep*5.5,3),0.2, 1,linewidth=1,\n",
    "                            edgecolor='k',facecolor='blue')\n",
    "ax2.add_patch(rect_BM)\n",
    "\n",
    "# Geodetics.\n",
    "ax2.plot([0.5+sep*7, 0.5+sep*7+0.5],[10, 10], '-k',  lw=3)\n",
    "\n",
    "ax1.plot([-1, 8], [0, 0], '-k', lw=0.5)\n",
    "ax1.set_ylim([P_axis_max, P_axis_min])\n",
    "ax2.set_ylim([D_axis_max, D_axis_min])\n",
    "\n",
    "ax1.tick_params(direction=\"in\")\n",
    "ax2.tick_params(direction=\"in\")\n",
    "ax1.set_xlim([0, 5])\n",
    "ax1.set_xlabel(None)\n",
    "ax1.set_ylabel(None)\n",
    "ax1.set_xticks([])\n",
    "#ax1.set_xticklabels(['Exp Pet', 'Exp Pet', 'MT', 'Seismics'], rotation=90)\n",
    "ax1.grid(color = 'k', linestyle = '--', axis='y',linewidth = 1, alpha = 0.1, zorder=0)\n",
    "                 \n",
    "fig.savefig('Geophysical+Other_Newberry.png', dpi=200, bbox_inches=\"tight\")"
   ]
  },
  {
   "cell_type": "code",
   "execution_count": 22,
   "id": "2abcd680-574d-459f-93bc-01dc58c3f12d",
   "metadata": {},
   "outputs": [
    {
     "name": "stderr",
     "output_type": "stream",
     "text": [
      "C:\\Users\\penny\\anaconda3\\lib\\site-packages\\sklearn\\base.py:329: UserWarning: Trying to unpickle estimator SVC from version 0.24.1 when using version 1.0.2. This might lead to breaking code or invalid results. Use at your own risk. For more info please refer to:\n",
      "https://scikit-learn.org/stable/modules/model_persistence.html#security-maintainability-limitations\n",
      "  warnings.warn(\n",
      "C:\\Users\\penny\\anaconda3\\lib\\site-packages\\sklearn\\base.py:329: UserWarning: Trying to unpickle estimator StandardScaler from version 0.24.1 when using version 1.0.2. This might lead to breaking code or invalid results. Use at your own risk. For more info please refer to:\n",
      "https://scikit-learn.org/stable/modules/model_persistence.html#security-maintainability-limitations\n",
      "  warnings.warn(\n"
     ]
    },
    {
     "name": "stdout",
     "output_type": "stream",
     "text": [
      "['Amp']\n"
     ]
    }
   ],
   "source": [
    "## Same for amphibole\n",
    "\n",
    "Newberry_read_Amp=pt.import_excel('Newberry.xlsx', sheet_name='Amp_All')\n",
    "Newberry_Input_Amp=Newberry_read_Amp['my_input']\n",
    "Newberry_Amp=Newberry_read_Amp['Amps']\n",
    "Newberry_Amp['Sample_ID_Amp']='Newberry'\n",
    "Newberry_Amp_copy=Newberry_Amp.copy()\n",
    "Newberry_Amp_comps=pt.get_amp_sites_from_input(amp_comps=Newberry_Amp)\n",
    "# Are a few outside 3.95 to 4.05 Cat sums, CaCaMgFe lies 0.3 - 0.55\n",
    "Newberry_Amp_filt1=Newberry_Amp.loc[( (Newberry_Amp_comps['cation_sum_All'].between(15, 16)) )]\n",
    "Newberry_Amp_class=pt.classify_phases(df=Newberry_Amp_filt1, return_end_members=True,\n",
    "                        str_to_drop='_Amp')\n",
    "print(Newberry_Amp_class['Phase_Min_Group_ML'].unique())\n",
    "Newberry_Amp_filt=Newberry_Amp_filt1.loc[Newberry_Amp_class['Phase_Min_Group_ML']==\"Amp\"].reset_index(drop=True)\n",
    "Newberry_Amp_Press_NoFilter=pt.calculate_amp_only_press(amp_comps=Newberry_Amp_filt, \n",
    "                        Ridolfi_Filter=False, equationP=\"P_Ridolfi2021\")\n",
    "Newberry_Amp_Press_Filter=pt.calculate_amp_only_press(amp_comps=Newberry_Amp_filt, \n",
    "                        Ridolfi_Filter=True, equationP=\"P_Ridolfi2021\")\n"
   ]
  },
  {
   "cell_type": "code",
   "execution_count": 23,
   "id": "0c40be9e-ae71-4998-9ce7-52c8a0e2d835",
   "metadata": {},
   "outputs": [
    {
     "data": {
      "text/plain": [
       "31"
      ]
     },
     "execution_count": 23,
     "metadata": {},
     "output_type": "execute_result"
    }
   ],
   "source": [
    "len(Newberry_Amp_Press_NoFilter)"
   ]
  },
  {
   "cell_type": "code",
   "execution_count": 24,
   "id": "f75c362c-6356-41e1-8533-8bfbf38a4c4b",
   "metadata": {},
   "outputs": [
    {
     "data": {
      "text/plain": [
       "[<matplotlib.lines.Line2D at 0x184ffe62d60>]"
      ]
     },
     "execution_count": 24,
     "metadata": {},
     "output_type": "execute_result"
    },
    {
     "data": {
      "image/png": "[encoded data removed]",
      "text/plain": [
       "<Figure size 432x288 with 1 Axes>"
      ]
     },
     "metadata": {
      "needs_background": "light"
     },
     "output_type": "display_data"
    }
   ],
   "source": [
    "plt.plot(\n",
    "         (Newberry_Amp_filt['MgO_Amp']/40.3044)/(Newberry_Amp_filt['MgO_Amp']/40.3044+Newberry_Amp_filt['FeOt_Amp']/71.844),\n",
    "    Newberry_Amp_Press_NoFilter['P_kbar_calc'], 'ok')"
   ]
  },
  {
   "cell_type": "code",
   "execution_count": 25,
   "id": "209fe8f4-df37-4af2-befd-5c45109198c8",
   "metadata": {},
   "outputs": [
    {
     "name": "stderr",
     "output_type": "stream",
     "text": [
      "c:\\users\\penny\\onedrive - oregon state university\\postdoc\\pymme\\mybarometers\\thermobar_outer\\src\\Thermobar\\amphibole.py:229: UserWarning: You must enter a value for T in Kelvin to get results from equation3 and 5 from Zhang, and SiO2 from Putrka (2016)\n",
      "  w.warn('You must enter a value for T in Kelvin to get results from equation3 and 5 from Zhang, and SiO2 from Putrka (2016)')\n"
     ]
    }
   ],
   "source": [
    "Amp_Chem=pt.calculate_amp_only_melt_comps(amp_comps=Newberry_Amp_filt)"
   ]
  },
  {
   "cell_type": "code",
   "execution_count": 26,
   "id": "01277fd4-71d1-422f-99eb-84d72c944eb7",
   "metadata": {},
   "outputs": [
    {
     "data": {
      "text/plain": [
       "[<matplotlib.lines.Line2D at 0x18485833c10>]"
      ]
     },
     "execution_count": 26,
     "metadata": {},
     "output_type": "execute_result"
    },
    {
     "data": {
      "image/png": "[encoded data removed]",
      "text/plain": [
       "<Figure size 720x360 with 2 Axes>"
      ]
     },
     "metadata": {
      "needs_background": "light"
     },
     "output_type": "display_data"
    }
   ],
   "source": [
    "fig, (ax1, ax2) = plt.subplots(1, 2, figsize=(10,5), sharey=True)\n",
    "ax1.plot(\n",
    "         Amp_Chem['MgO_Eq9_Zhang17'],\n",
    "    Newberry_Amp_Press_NoFilter['P_kbar_calc'], 'ok')\n",
    "ax1.set_xlabel('Calculated MgO Zhang')\n",
    "ax1.set_ylabel('Calcated P Ridolfi 21')\n",
    "\n",
    "ax2.set_xlabel('Calculated SiO2 Zhang')\n",
    "ax2.set_ylabel('Calcated P Ridolfi 21')\n",
    "\n",
    "ax2.plot(\n",
    "         Amp_Chem['SiO2_Eq1_Zhang17'],\n",
    "    Newberry_Amp_Press_NoFilter['P_kbar_calc'], 'ok')"
   ]
  },
  {
   "cell_type": "code",
   "execution_count": 27,
   "id": "af627d8c-c0dc-4fd5-8035-42f3c77dcb2c",
   "metadata": {},
   "outputs": [],
   "source": [
    "#None Filtered\n",
    "Newberry_Amp_Press_All=Newberry_Amp_Press_NoFilter.copy()\n",
    "Newberry_Amp_Press_All['Preferred_P']=Newberry_Amp_Press_All['P_kbar_calc']\n",
    "Newberry_Amp_Press_All['Model']=\"Ridolfi not filtered\"\n",
    "Newberry_Amp_Press_All['Sample_ID_Amp']=\"Newberry\"\n",
    "\n",
    "Newberry_Amp_Press_Filt=Newberry_Amp_Press_Filter.copy()\n",
    "Newberry_Amp_Press_Filt['Preferred_P']=Newberry_Amp_Press_Filt['P_kbar_calc']\n",
    "Newberry_Amp_Press_Filt['Model']=\"Ridolfi filtered\"\n",
    "Newberry_Amp_Press_Filt['Sample_ID_Amp']=\"Newberry\"\n",
    "\n",
    "Combo_Amp=pd.concat([Newberry_Amp_Press_All, Newberry_Amp_Press_Filt], axis=0)"
   ]
  },
  {
   "cell_type": "code",
   "execution_count": 28,
   "id": "443795db-47af-4f1e-a6e5-64344c5a2832",
   "metadata": {},
   "outputs": [],
   "source": [
    "Combo_Amp.to_pickle(\"Amp_Newberry.pkl\")"
   ]
  },
  {
   "cell_type": "code",
   "execution_count": 37,
   "id": "e51f0090-05a8-4854-a7bc-0a89b349ba07",
   "metadata": {},
   "outputs": [
    {
     "data": {
      "text/plain": [
       "0     Rainier\n",
       "1     Rainier\n",
       "2     Rainier\n",
       "3     Rainier\n",
       "4     Rainier\n",
       "5     Rainier\n",
       "6     Rainier\n",
       "7     Rainier\n",
       "8     Rainier\n",
       "9     Rainier\n",
       "10    Rainier\n",
       "11    Rainier\n",
       "12    Rainier\n",
       "13    Rainier\n",
       "14    Rainier\n",
       "15    Rainier\n",
       "16    Rainier\n",
       "17    Rainier\n",
       "18    Rainier\n",
       "19    Rainier\n",
       "20    Rainier\n",
       "21    Rainier\n",
       "22    Rainier\n",
       "23    Rainier\n",
       "24    Rainier\n",
       "25    Rainier\n",
       "26    Rainier\n",
       "27    Rainier\n",
       "28    Rainier\n",
       "29    Rainier\n",
       "30    Rainier\n",
       "Name: Sample_ID_Amp, dtype: object"
      ]
     },
     "execution_count": 37,
     "metadata": {},
     "output_type": "execute_result"
    }
   ],
   "source": [
    "Newberry_Amp_Press_All['Sample_ID_Amp']"
   ]
  },
  {
   "cell_type": "code",
   "execution_count": 38,
   "id": "d9be12c5-5bc3-42c5-a28e-0d4fe1e8da1d",
   "metadata": {},
   "outputs": [
    {
     "data": {
      "image/png": "[encoded data removed]",
      "text/plain": [
       "<Figure size 180x288 with 2 Axes>"
      ]
     },
     "metadata": {
      "needs_background": "light"
     },
     "output_type": "display_data"
    }
   ],
   "source": [
    "import seaborn as sns\n",
    "fig, (ax1) = plt.subplots(1, 1, figsize=(2.5,4), sharey=True)\n",
    "ax2 = ax1.twinx()\n",
    "\n",
    "volc_order=['' 'Newberry']\n",
    "sns.violinplot(x=\"Sample_ID_Amp\", y=\"Preferred_P\",  cut=0, \n",
    "               linewidth=1,hue=\"Model\", inner=None,\n",
    "            data=Combo_Amp, split=True, ax=ax1, width=0.9, order=volc_order, stick=True\n",
    "              , palette=['lightgreen', 'grey'])\n",
    "\n",
    "# ax1.plot(-0.1+0*Combo_Amp['Preferred_P'].loc[(Combo_Amp['Model']==\"Ridolfi not filtered\")\n",
    "#                                         &(Combo_Amp[\"Sample_ID_Cpx\"]==\"Newberry\")],\n",
    "#       Combo_Amp['Preferred_P'].loc[(Combo_Amp['Model']==\"Ridolfi not filtered\")\n",
    "#                                         &(Combo_Amp[\"Sample_ID_Cpx\"]==\"Newberry\")],  \n",
    "#          'xb')\n",
    "\n",
    "# ax1.plot(0.1+0*Combo_Amp['Preferred_P'].loc[(Combo_Amp['Model']==\"Ridolfi filtered\")\n",
    "#                                         &(Combo_Amp[\"Sample_ID_Cpx\"]==\"Newberry\")],\n",
    "#       Combo_Amp['Preferred_P'].loc[(Combo_Amp['Model']==\"Ridolfi filtered\")\n",
    "#                                         &(Combo_Amp[\"Sample_ID_Cpx\"]==\"Newberry\")],  \n",
    "#          'xr')\n",
    "\n",
    "# ax1.plot(-0.1,\n",
    "#       np.nanmedian(Combo_Amp['Preferred_P'].loc[(Combo_Amp['Model']==\"Ridolfi not filtered\")\n",
    "#                                         &(Combo_Amp[\"Sample_ID_Cpx\"]==\"Newberry\")]),  \n",
    "#          '*k', mfc='w', ms=20)\n",
    "\n",
    "# ax1.plot(0.1,\n",
    "#       np.nanmedian(Combo_Amp['Preferred_P'].loc[(Combo_Amp['Model']==\"Ridolfi filtered\")\n",
    "#                                         &(Combo_Amp[\"Sample_ID_Cpx\"]==\"Newberry\")]),  \n",
    "#          '*k', mfc='w', ms=20)\n",
    "\n",
    "ax1.plot(-0.1+0*Combo_Amp['Preferred_P'].loc[(Combo_Amp['Model']==\"Ridolfi not filtered\")\n",
    "                                        &(Combo_Amp[\"Sample_ID_Amp\"]==\"Newberry\")],\n",
    "      Combo_Amp['Preferred_P'].loc[(Combo_Amp['Model']==\"Ridolfi not filtered\")\n",
    "                                        &(Combo_Amp[\"Sample_ID_Amp\"]==\"Newberry\")],  \n",
    "         'x', mec='green')\n",
    "\n",
    "ax1.plot(0.1+0*Combo_Amp['Preferred_P'].loc[(Combo_Amp['Model']==\"Ridolfi filtered\")\n",
    "                                        &(Combo_Amp[\"Sample_ID_Amp\"]==\"Newberry\")],\n",
    "      Combo_Amp['Preferred_P'].loc[(Combo_Amp['Model']==\"Ridolfi filtered\")\n",
    "                                        &(Combo_Amp[\"Sample_ID_Amp\"]==\"Newberry\")],  \n",
    "         'x', mec='k')\n",
    "\n",
    "ax1.plot(-0.1,\n",
    "      np.nanmedian(Combo_Amp['Preferred_P'].loc[(Combo_Amp['Model']==\"Ridolfi not filtered\")\n",
    "                                        &(Combo_Amp[\"Sample_ID_Amp\"]==\"Newberry\")]),  \n",
    "         '*k', mfc='w', ms=20)\n",
    "\n",
    "ax1.plot(0.1,\n",
    "      np.nanmedian(Combo_Amp['Preferred_P'].loc[(Combo_Amp['Model']==\"Ridolfi filtered\")\n",
    "                                        &(Combo_Amp[\"Sample_ID_Amp\"]==\"Newberry\")]),  \n",
    "         '*k', mfc='w', ms=20)\n",
    "\n",
    "ax1.plot([-1, 5], [0, 0], '-k', lw=0.5)\n",
    "ax1.set_ylim([P_axis_max, P_axis_min])\n",
    "ax2.set_ylim([D_axis_max, D_axis_min])\n",
    "ax1.set_xlim([-0.5, 0.5])\n",
    "ax1.get_legend().remove()\n",
    "ax1.set_xlabel(None)\n",
    "ax1.set_ylabel(None)\n",
    "\n",
    "ax1.tick_params(direction=\"in\")\n",
    "ax2.tick_params(direction=\"in\")\n",
    "ax2.set_yticks([])\n",
    "ax1.set_xticks([])\n",
    "ax1.grid(color = 'k', linestyle = '--', axis='y',linewidth = 1, alpha = 0.1, zorder=0)\n",
    "\n",
    "\n",
    "fig.savefig('Newberry_Amp.png', dpi=200)\n",
    "\n"
   ]
  },
  {
   "cell_type": "code",
   "execution_count": 39,
   "id": "58a4756b-4dbb-4964-950a-bda2b1c59643",
   "metadata": {},
   "outputs": [
    {
     "data": {
      "text/html": [
       "<div>\n",
       "<style scoped>\n",
       "    .dataframe tbody tr th:only-of-type {\n",
       "        vertical-align: middle;\n",
       "    }\n",
       "\n",
       "    .dataframe tbody tr th {\n",
       "        vertical-align: top;\n",
       "    }\n",
       "\n",
       "    .dataframe thead th {\n",
       "        text-align: right;\n",
       "    }\n",
       "</style>\n",
       "<table border=\"1\" class=\"dataframe\">\n",
       "  <thead>\n",
       "    <tr style=\"text-align: right;\">\n",
       "      <th></th>\n",
       "      <th>P_kbar_calc</th>\n",
       "      <th>Input_Check</th>\n",
       "      <th>Fail Msg</th>\n",
       "      <th>classification</th>\n",
       "      <th>equation</th>\n",
       "      <th>H2O_calc</th>\n",
       "      <th>Fe2O3_calc</th>\n",
       "      <th>FeO_calc</th>\n",
       "      <th>Total_recalc</th>\n",
       "      <th>Sum_input</th>\n",
       "      <th>...</th>\n",
       "      <th>Fe2_calc</th>\n",
       "      <th>O=F,Cl</th>\n",
       "      <th>Total</th>\n",
       "      <th>Mgno_Fe2</th>\n",
       "      <th>Mgno_FeT</th>\n",
       "      <th>Na_calc</th>\n",
       "      <th>B_Sum</th>\n",
       "      <th>A_Sum</th>\n",
       "      <th>class</th>\n",
       "      <th>APE</th>\n",
       "    </tr>\n",
       "  </thead>\n",
       "  <tbody>\n",
       "    <tr>\n",
       "      <th>0</th>\n",
       "      <td>NaN</td>\n",
       "      <td>False</td>\n",
       "      <td>APE &gt;60</td>\n",
       "      <td>low-Ca</td>\n",
       "      <td>1c+1d</td>\n",
       "      <td>1.998790</td>\n",
       "      <td>18.242268</td>\n",
       "      <td>-5.484626</td>\n",
       "      <td>100.086432</td>\n",
       "      <td>96.260</td>\n",
       "      <td>...</td>\n",
       "      <td>-0.649271</td>\n",
       "      <td>-0.000000</td>\n",
       "      <td>NaN</td>\n",
       "      <td>1.268871</td>\n",
       "      <td>0.703097</td>\n",
       "      <td>0.651710</td>\n",
       "      <td>2.000000</td>\n",
       "      <td>0.082384</td>\n",
       "      <td>N/A</td>\n",
       "      <td>107.111808</td>\n",
       "    </tr>\n",
       "    <tr>\n",
       "      <th>1</th>\n",
       "      <td>NaN</td>\n",
       "      <td>False</td>\n",
       "      <td>APE &gt;60</td>\n",
       "      <td>low-Ca</td>\n",
       "      <td>1c+1d</td>\n",
       "      <td>2.003470</td>\n",
       "      <td>20.053239</td>\n",
       "      <td>-7.184161</td>\n",
       "      <td>99.432548</td>\n",
       "      <td>95.420</td>\n",
       "      <td>...</td>\n",
       "      <td>-0.848476</td>\n",
       "      <td>-0.000000</td>\n",
       "      <td>NaN</td>\n",
       "      <td>1.364725</td>\n",
       "      <td>0.712254</td>\n",
       "      <td>0.692743</td>\n",
       "      <td>1.928941</td>\n",
       "      <td>0.037834</td>\n",
       "      <td>N/A</td>\n",
       "      <td>63.416630</td>\n",
       "    </tr>\n",
       "    <tr>\n",
       "      <th>2</th>\n",
       "      <td>NaN</td>\n",
       "      <td>False</td>\n",
       "      <td>Low Ca (&lt;1.5)</td>\n",
       "      <td>low-Ca</td>\n",
       "      <td>1c+1d</td>\n",
       "      <td>1.991229</td>\n",
       "      <td>14.245130</td>\n",
       "      <td>-2.447950</td>\n",
       "      <td>99.588409</td>\n",
       "      <td>96.170</td>\n",
       "      <td>...</td>\n",
       "      <td>-0.290889</td>\n",
       "      <td>-0.000000</td>\n",
       "      <td>NaN</td>\n",
       "      <td>1.104376</td>\n",
       "      <td>0.714098</td>\n",
       "      <td>0.608530</td>\n",
       "      <td>2.000000</td>\n",
       "      <td>0.136544</td>\n",
       "      <td>N/A</td>\n",
       "      <td>53.345936</td>\n",
       "    </tr>\n",
       "    <tr>\n",
       "      <th>3</th>\n",
       "      <td>3.171172</td>\n",
       "      <td>True</td>\n",
       "      <td></td>\n",
       "      <td>Mg-hastingsite</td>\n",
       "      <td>1b</td>\n",
       "      <td>1.986417</td>\n",
       "      <td>7.228779</td>\n",
       "      <td>2.865453</td>\n",
       "      <td>101.100648</td>\n",
       "      <td>98.390</td>\n",
       "      <td>...</td>\n",
       "      <td>0.341326</td>\n",
       "      <td>-0.000000</td>\n",
       "      <td>NaN</td>\n",
       "      <td>0.912531</td>\n",
       "      <td>0.761360</td>\n",
       "      <td>0.115287</td>\n",
       "      <td>2.000000</td>\n",
       "      <td>0.670039</td>\n",
       "      <td>N/A</td>\n",
       "      <td>51.964039</td>\n",
       "    </tr>\n",
       "    <tr>\n",
       "      <th>4</th>\n",
       "      <td>3.664027</td>\n",
       "      <td>True</td>\n",
       "      <td></td>\n",
       "      <td>Tschermakitic pargasite</td>\n",
       "      <td>(1b+1c)/2</td>\n",
       "      <td>1.988509</td>\n",
       "      <td>9.756445</td>\n",
       "      <td>0.311026</td>\n",
       "      <td>100.125980</td>\n",
       "      <td>97.160</td>\n",
       "      <td>...</td>\n",
       "      <td>0.037010</td>\n",
       "      <td>-0.000000</td>\n",
       "      <td>NaN</td>\n",
       "      <td>0.989611</td>\n",
       "      <td>0.765218</td>\n",
       "      <td>0.320025</td>\n",
       "      <td>2.000000</td>\n",
       "      <td>0.456342</td>\n",
       "      <td>N/A</td>\n",
       "      <td>49.001328</td>\n",
       "    </tr>\n",
       "    <tr>\n",
       "      <th>5</th>\n",
       "      <td>5.213857</td>\n",
       "      <td>True</td>\n",
       "      <td></td>\n",
       "      <td>Mg-hastingsite</td>\n",
       "      <td>1a</td>\n",
       "      <td>1.974871</td>\n",
       "      <td>8.841845</td>\n",
       "      <td>4.623995</td>\n",
       "      <td>101.570711</td>\n",
       "      <td>98.710</td>\n",
       "      <td>...</td>\n",
       "      <td>0.554019</td>\n",
       "      <td>-0.000000</td>\n",
       "      <td>NaN</td>\n",
       "      <td>0.844056</td>\n",
       "      <td>0.665494</td>\n",
       "      <td>0.279259</td>\n",
       "      <td>2.000000</td>\n",
       "      <td>0.503936</td>\n",
       "      <td>N/A</td>\n",
       "      <td>0.000000</td>\n",
       "    </tr>\n",
       "    <tr>\n",
       "      <th>6</th>\n",
       "      <td>3.745263</td>\n",
       "      <td>True</td>\n",
       "      <td></td>\n",
       "      <td>Mg-hastingsite</td>\n",
       "      <td>(1b+1c)/2</td>\n",
       "      <td>1.962440</td>\n",
       "      <td>7.278958</td>\n",
       "      <td>6.930301</td>\n",
       "      <td>101.781698</td>\n",
       "      <td>99.090</td>\n",
       "      <td>...</td>\n",
       "      <td>0.835607</td>\n",
       "      <td>-0.000000</td>\n",
       "      <td>NaN</td>\n",
       "      <td>0.776537</td>\n",
       "      <td>0.641136</td>\n",
       "      <td>0.228196</td>\n",
       "      <td>2.000000</td>\n",
       "      <td>0.607482</td>\n",
       "      <td>N/A</td>\n",
       "      <td>26.279106</td>\n",
       "    </tr>\n",
       "    <tr>\n",
       "      <th>7</th>\n",
       "      <td>4.321979</td>\n",
       "      <td>True</td>\n",
       "      <td></td>\n",
       "      <td>Tschermakitic pargasite</td>\n",
       "      <td>1c</td>\n",
       "      <td>1.972127</td>\n",
       "      <td>7.335599</td>\n",
       "      <td>4.769334</td>\n",
       "      <td>100.857060</td>\n",
       "      <td>98.150</td>\n",
       "      <td>...</td>\n",
       "      <td>0.572228</td>\n",
       "      <td>-0.000000</td>\n",
       "      <td>NaN</td>\n",
       "      <td>0.842112</td>\n",
       "      <td>0.691098</td>\n",
       "      <td>0.249196</td>\n",
       "      <td>2.000000</td>\n",
       "      <td>0.488018</td>\n",
       "      <td>N/A</td>\n",
       "      <td>10.285422</td>\n",
       "    </tr>\n",
       "    <tr>\n",
       "      <th>8</th>\n",
       "      <td>4.396070</td>\n",
       "      <td>True</td>\n",
       "      <td></td>\n",
       "      <td>Mg-hastingsite</td>\n",
       "      <td>(1b+1c)/2</td>\n",
       "      <td>1.979692</td>\n",
       "      <td>6.957510</td>\n",
       "      <td>4.169544</td>\n",
       "      <td>101.066746</td>\n",
       "      <td>98.390</td>\n",
       "      <td>...</td>\n",
       "      <td>0.498353</td>\n",
       "      <td>-0.000000</td>\n",
       "      <td>NaN</td>\n",
       "      <td>0.865101</td>\n",
       "      <td>0.719390</td>\n",
       "      <td>0.216074</td>\n",
       "      <td>2.000000</td>\n",
       "      <td>0.554274</td>\n",
       "      <td>N/A</td>\n",
       "      <td>13.993950</td>\n",
       "    </tr>\n",
       "    <tr>\n",
       "      <th>9</th>\n",
       "      <td>2.899669</td>\n",
       "      <td>True</td>\n",
       "      <td></td>\n",
       "      <td>Tschermakitic pargasite</td>\n",
       "      <td>1b</td>\n",
       "      <td>1.930004</td>\n",
       "      <td>7.717213</td>\n",
       "      <td>6.091953</td>\n",
       "      <td>99.133170</td>\n",
       "      <td>96.430</td>\n",
       "      <td>...</td>\n",
       "      <td>0.746870</td>\n",
       "      <td>-0.000000</td>\n",
       "      <td>NaN</td>\n",
       "      <td>0.795454</td>\n",
       "      <td>0.645055</td>\n",
       "      <td>0.350147</td>\n",
       "      <td>2.000000</td>\n",
       "      <td>0.422817</td>\n",
       "      <td>N/A</td>\n",
       "      <td>45.502012</td>\n",
       "    </tr>\n",
       "    <tr>\n",
       "      <th>10</th>\n",
       "      <td>2.879788</td>\n",
       "      <td>True</td>\n",
       "      <td></td>\n",
       "      <td>Tschermakitic pargasite</td>\n",
       "      <td>1b</td>\n",
       "      <td>1.936532</td>\n",
       "      <td>7.905564</td>\n",
       "      <td>6.051473</td>\n",
       "      <td>99.517569</td>\n",
       "      <td>96.789</td>\n",
       "      <td>...</td>\n",
       "      <td>0.739405</td>\n",
       "      <td>-0.000000</td>\n",
       "      <td>NaN</td>\n",
       "      <td>0.797338</td>\n",
       "      <td>0.643934</td>\n",
       "      <td>0.336768</td>\n",
       "      <td>2.000000</td>\n",
       "      <td>0.419046</td>\n",
       "      <td>N/A</td>\n",
       "      <td>40.888299</td>\n",
       "    </tr>\n",
       "    <tr>\n",
       "      <th>11</th>\n",
       "      <td>2.677996</td>\n",
       "      <td>True</td>\n",
       "      <td></td>\n",
       "      <td>Tschermakitic pargasite</td>\n",
       "      <td>1b</td>\n",
       "      <td>1.944884</td>\n",
       "      <td>8.008624</td>\n",
       "      <td>6.147738</td>\n",
       "      <td>99.902246</td>\n",
       "      <td>97.155</td>\n",
       "      <td>...</td>\n",
       "      <td>0.747942</td>\n",
       "      <td>-0.000000</td>\n",
       "      <td>NaN</td>\n",
       "      <td>0.795687</td>\n",
       "      <td>0.641947</td>\n",
       "      <td>0.334714</td>\n",
       "      <td>2.000000</td>\n",
       "      <td>0.403099</td>\n",
       "      <td>N/A</td>\n",
       "      <td>34.127625</td>\n",
       "    </tr>\n",
       "    <tr>\n",
       "      <th>12</th>\n",
       "      <td>2.889690</td>\n",
       "      <td>True</td>\n",
       "      <td></td>\n",
       "      <td>Tschermakitic pargasite</td>\n",
       "      <td>1b</td>\n",
       "      <td>1.924027</td>\n",
       "      <td>7.865453</td>\n",
       "      <td>6.049565</td>\n",
       "      <td>99.069045</td>\n",
       "      <td>96.357</td>\n",
       "      <td>...</td>\n",
       "      <td>0.743977</td>\n",
       "      <td>-0.000000</td>\n",
       "      <td>NaN</td>\n",
       "      <td>0.797546</td>\n",
       "      <td>0.644819</td>\n",
       "      <td>0.307050</td>\n",
       "      <td>2.000000</td>\n",
       "      <td>0.459379</td>\n",
       "      <td>N/A</td>\n",
       "      <td>41.693478</td>\n",
       "    </tr>\n",
       "    <tr>\n",
       "      <th>13</th>\n",
       "      <td>2.960767</td>\n",
       "      <td>True</td>\n",
       "      <td></td>\n",
       "      <td>Tschermakitic pargasite</td>\n",
       "      <td>1b</td>\n",
       "      <td>1.921556</td>\n",
       "      <td>7.602592</td>\n",
       "      <td>6.024090</td>\n",
       "      <td>98.782239</td>\n",
       "      <td>96.099</td>\n",
       "      <td>...</td>\n",
       "      <td>0.741796</td>\n",
       "      <td>-0.000000</td>\n",
       "      <td>NaN</td>\n",
       "      <td>0.798034</td>\n",
       "      <td>0.649150</td>\n",
       "      <td>0.323647</td>\n",
       "      <td>2.000000</td>\n",
       "      <td>0.455066</td>\n",
       "      <td>N/A</td>\n",
       "      <td>42.117990</td>\n",
       "    </tr>\n",
       "    <tr>\n",
       "      <th>14</th>\n",
       "      <td>3.120344</td>\n",
       "      <td>True</td>\n",
       "      <td></td>\n",
       "      <td>Tschermakitic pargasite</td>\n",
       "      <td>1b</td>\n",
       "      <td>1.929898</td>\n",
       "      <td>7.537025</td>\n",
       "      <td>5.780088</td>\n",
       "      <td>99.259012</td>\n",
       "      <td>96.574</td>\n",
       "      <td>...</td>\n",
       "      <td>0.708674</td>\n",
       "      <td>-0.000000</td>\n",
       "      <td>NaN</td>\n",
       "      <td>0.808244</td>\n",
       "      <td>0.659795</td>\n",
       "      <td>0.298378</td>\n",
       "      <td>2.000000</td>\n",
       "      <td>0.494720</td>\n",
       "      <td>N/A</td>\n",
       "      <td>37.522184</td>\n",
       "    </tr>\n",
       "    <tr>\n",
       "      <th>15</th>\n",
       "      <td>3.022466</td>\n",
       "      <td>True</td>\n",
       "      <td></td>\n",
       "      <td>Mg-hastingsite</td>\n",
       "      <td>1b</td>\n",
       "      <td>1.916711</td>\n",
       "      <td>5.899413</td>\n",
       "      <td>6.963633</td>\n",
       "      <td>98.629757</td>\n",
       "      <td>96.122</td>\n",
       "      <td>...</td>\n",
       "      <td>0.859658</td>\n",
       "      <td>-0.000000</td>\n",
       "      <td>NaN</td>\n",
       "      <td>0.774161</td>\n",
       "      <td>0.660458</td>\n",
       "      <td>0.286513</td>\n",
       "      <td>2.000000</td>\n",
       "      <td>0.508879</td>\n",
       "      <td>N/A</td>\n",
       "      <td>34.851202</td>\n",
       "    </tr>\n",
       "    <tr>\n",
       "      <th>16</th>\n",
       "      <td>2.809279</td>\n",
       "      <td>True</td>\n",
       "      <td></td>\n",
       "      <td>Tschermakitic pargasite</td>\n",
       "      <td>1b</td>\n",
       "      <td>1.940108</td>\n",
       "      <td>8.113019</td>\n",
       "      <td>5.791802</td>\n",
       "      <td>99.553929</td>\n",
       "      <td>96.801</td>\n",
       "      <td>...</td>\n",
       "      <td>0.706373</td>\n",
       "      <td>-0.000000</td>\n",
       "      <td>NaN</td>\n",
       "      <td>0.805620</td>\n",
       "      <td>0.647083</td>\n",
       "      <td>0.349208</td>\n",
       "      <td>2.000000</td>\n",
       "      <td>0.392770</td>\n",
       "      <td>N/A</td>\n",
       "      <td>41.848282</td>\n",
       "    </tr>\n",
       "    <tr>\n",
       "      <th>17</th>\n",
       "      <td>NaN</td>\n",
       "      <td>False</td>\n",
       "      <td>APE &gt;60</td>\n",
       "      <td>Mg-Hornblende</td>\n",
       "      <td>1b</td>\n",
       "      <td>1.930926</td>\n",
       "      <td>5.636693</td>\n",
       "      <td>4.829032</td>\n",
       "      <td>97.654651</td>\n",
       "      <td>95.159</td>\n",
       "      <td>...</td>\n",
       "      <td>0.591753</td>\n",
       "      <td>-0.000000</td>\n",
       "      <td>NaN</td>\n",
       "      <td>0.864239</td>\n",
       "      <td>0.756385</td>\n",
       "      <td>0.325345</td>\n",
       "      <td>2.000000</td>\n",
       "      <td>0.492910</td>\n",
       "      <td>N/A</td>\n",
       "      <td>83.980968</td>\n",
       "    </tr>\n",
       "    <tr>\n",
       "      <th>18</th>\n",
       "      <td>NaN</td>\n",
       "      <td>False</td>\n",
       "      <td>APE &gt;60</td>\n",
       "      <td>Mg-Hornblende</td>\n",
       "      <td>1b</td>\n",
       "      <td>1.961139</td>\n",
       "      <td>6.881403</td>\n",
       "      <td>3.741026</td>\n",
       "      <td>99.040568</td>\n",
       "      <td>96.390</td>\n",
       "      <td>...</td>\n",
       "      <td>0.451366</td>\n",
       "      <td>-0.000000</td>\n",
       "      <td>NaN</td>\n",
       "      <td>0.894730</td>\n",
       "      <td>0.761966</td>\n",
       "      <td>0.348981</td>\n",
       "      <td>2.000000</td>\n",
       "      <td>0.486097</td>\n",
       "      <td>N/A</td>\n",
       "      <td>95.574020</td>\n",
       "    </tr>\n",
       "    <tr>\n",
       "      <th>19</th>\n",
       "      <td>NaN</td>\n",
       "      <td>False</td>\n",
       "      <td>APE &gt;60</td>\n",
       "      <td>Mg-Hornblende</td>\n",
       "      <td>1b</td>\n",
       "      <td>1.950750</td>\n",
       "      <td>5.315935</td>\n",
       "      <td>5.253654</td>\n",
       "      <td>98.709339</td>\n",
       "      <td>96.226</td>\n",
       "      <td>...</td>\n",
       "      <td>0.637245</td>\n",
       "      <td>-0.000000</td>\n",
       "      <td>NaN</td>\n",
       "      <td>0.853353</td>\n",
       "      <td>0.752836</td>\n",
       "      <td>0.329776</td>\n",
       "      <td>2.000000</td>\n",
       "      <td>0.491154</td>\n",
       "      <td>N/A</td>\n",
       "      <td>85.815941</td>\n",
       "    </tr>\n",
       "    <tr>\n",
       "      <th>20</th>\n",
       "      <td>NaN</td>\n",
       "      <td>False</td>\n",
       "      <td>APE &gt;60</td>\n",
       "      <td>Mg-Hornblende</td>\n",
       "      <td>1b</td>\n",
       "      <td>1.943614</td>\n",
       "      <td>5.353893</td>\n",
       "      <td>5.576499</td>\n",
       "      <td>98.781005</td>\n",
       "      <td>96.301</td>\n",
       "      <td>...</td>\n",
       "      <td>0.678888</td>\n",
       "      <td>-0.000000</td>\n",
       "      <td>NaN</td>\n",
       "      <td>0.844188</td>\n",
       "      <td>0.744036</td>\n",
       "      <td>0.312882</td>\n",
       "      <td>2.000000</td>\n",
       "      <td>0.550029</td>\n",
       "      <td>N/A</td>\n",
       "      <td>92.749104</td>\n",
       "    </tr>\n",
       "    <tr>\n",
       "      <th>21</th>\n",
       "      <td>NaN</td>\n",
       "      <td>False</td>\n",
       "      <td>APE &gt;60</td>\n",
       "      <td>Mg-Hornblende</td>\n",
       "      <td>1b</td>\n",
       "      <td>1.954766</td>\n",
       "      <td>6.736540</td>\n",
       "      <td>4.683376</td>\n",
       "      <td>99.220681</td>\n",
       "      <td>96.591</td>\n",
       "      <td>...</td>\n",
       "      <td>0.566905</td>\n",
       "      <td>-0.000000</td>\n",
       "      <td>NaN</td>\n",
       "      <td>0.866053</td>\n",
       "      <td>0.738093</td>\n",
       "      <td>0.365929</td>\n",
       "      <td>2.000000</td>\n",
       "      <td>0.519958</td>\n",
       "      <td>N/A</td>\n",
       "      <td>101.310207</td>\n",
       "    </tr>\n",
       "    <tr>\n",
       "      <th>22</th>\n",
       "      <td>NaN</td>\n",
       "      <td>False</td>\n",
       "      <td>APE &gt;60</td>\n",
       "      <td>Tschermakitic pargasite</td>\n",
       "      <td>(1b+1c)/2</td>\n",
       "      <td>1.521572</td>\n",
       "      <td>9.997498</td>\n",
       "      <td>0.234124</td>\n",
       "      <td>102.512871</td>\n",
       "      <td>100.470</td>\n",
       "      <td>...</td>\n",
       "      <td>0.027263</td>\n",
       "      <td>-0.480323</td>\n",
       "      <td>NaN</td>\n",
       "      <td>0.992347</td>\n",
       "      <td>0.766847</td>\n",
       "      <td>0.349971</td>\n",
       "      <td>2.000000</td>\n",
       "      <td>0.496201</td>\n",
       "      <td>N/A</td>\n",
       "      <td>66.480171</td>\n",
       "    </tr>\n",
       "    <tr>\n",
       "      <th>23</th>\n",
       "      <td>NaN</td>\n",
       "      <td>False</td>\n",
       "      <td>APE &gt;60</td>\n",
       "      <td>Tschermakitic pargasite</td>\n",
       "      <td>1b</td>\n",
       "      <td>1.201283</td>\n",
       "      <td>13.793428</td>\n",
       "      <td>-2.751503</td>\n",
       "      <td>103.834451</td>\n",
       "      <td>102.060</td>\n",
       "      <td>...</td>\n",
       "      <td>-0.315947</td>\n",
       "      <td>-0.808758</td>\n",
       "      <td>NaN</td>\n",
       "      <td>1.092836</td>\n",
       "      <td>0.770273</td>\n",
       "      <td>0.359708</td>\n",
       "      <td>2.000000</td>\n",
       "      <td>0.404485</td>\n",
       "      <td>N/A</td>\n",
       "      <td>60.748179</td>\n",
       "    </tr>\n",
       "    <tr>\n",
       "      <th>24</th>\n",
       "      <td>3.807256</td>\n",
       "      <td>True</td>\n",
       "      <td></td>\n",
       "      <td>Mg-hastingsite</td>\n",
       "      <td>(1b+1c)/2</td>\n",
       "      <td>1.148284</td>\n",
       "      <td>8.536996</td>\n",
       "      <td>2.868302</td>\n",
       "      <td>101.343997</td>\n",
       "      <td>100.120</td>\n",
       "      <td>...</td>\n",
       "      <td>0.343354</td>\n",
       "      <td>-0.779585</td>\n",
       "      <td>NaN</td>\n",
       "      <td>0.907891</td>\n",
       "      <td>0.728247</td>\n",
       "      <td>0.231727</td>\n",
       "      <td>2.000000</td>\n",
       "      <td>0.639945</td>\n",
       "      <td>N/A</td>\n",
       "      <td>52.342963</td>\n",
       "    </tr>\n",
       "    <tr>\n",
       "      <th>25</th>\n",
       "      <td>3.085802</td>\n",
       "      <td>True</td>\n",
       "      <td></td>\n",
       "      <td>Tschermakitic pargasite</td>\n",
       "      <td>1b</td>\n",
       "      <td>1.902381</td>\n",
       "      <td>8.613312</td>\n",
       "      <td>0.859632</td>\n",
       "      <td>101.831333</td>\n",
       "      <td>99.180</td>\n",
       "      <td>...</td>\n",
       "      <td>0.100521</td>\n",
       "      <td>-0.113991</td>\n",
       "      <td>NaN</td>\n",
       "      <td>0.972927</td>\n",
       "      <td>0.782039</td>\n",
       "      <td>0.278668</td>\n",
       "      <td>2.000000</td>\n",
       "      <td>0.463169</td>\n",
       "      <td>N/A</td>\n",
       "      <td>33.562306</td>\n",
       "    </tr>\n",
       "    <tr>\n",
       "      <th>26</th>\n",
       "      <td>NaN</td>\n",
       "      <td>False</td>\n",
       "      <td>Recalc Total&gt;102</td>\n",
       "      <td>Tschermakitic pargasite</td>\n",
       "      <td>1b</td>\n",
       "      <td>1.777980</td>\n",
       "      <td>9.277510</td>\n",
       "      <td>0.611978</td>\n",
       "      <td>102.507156</td>\n",
       "      <td>100.040</td>\n",
       "      <td>...</td>\n",
       "      <td>0.071216</td>\n",
       "      <td>-0.240312</td>\n",
       "      <td>NaN</td>\n",
       "      <td>0.980792</td>\n",
       "      <td>0.777164</td>\n",
       "      <td>0.291457</td>\n",
       "      <td>2.000000</td>\n",
       "      <td>0.483714</td>\n",
       "      <td>N/A</td>\n",
       "      <td>48.112000</td>\n",
       "    </tr>\n",
       "    <tr>\n",
       "      <th>27</th>\n",
       "      <td>NaN</td>\n",
       "      <td>False</td>\n",
       "      <td>Recalc Total&gt;102</td>\n",
       "      <td>Tschermakitic pargasite</td>\n",
       "      <td>1b</td>\n",
       "      <td>1.682894</td>\n",
       "      <td>9.592553</td>\n",
       "      <td>0.228498</td>\n",
       "      <td>102.726787</td>\n",
       "      <td>100.420</td>\n",
       "      <td>...</td>\n",
       "      <td>0.026488</td>\n",
       "      <td>-0.337159</td>\n",
       "      <td>NaN</td>\n",
       "      <td>0.992846</td>\n",
       "      <td>0.781625</td>\n",
       "      <td>0.314339</td>\n",
       "      <td>2.000000</td>\n",
       "      <td>0.455244</td>\n",
       "      <td>N/A</td>\n",
       "      <td>50.625164</td>\n",
       "    </tr>\n",
       "    <tr>\n",
       "      <th>28</th>\n",
       "      <td>NaN</td>\n",
       "      <td>False</td>\n",
       "      <td>Recalc Total&gt;102</td>\n",
       "      <td>Mg-Hornblende</td>\n",
       "      <td>1b</td>\n",
       "      <td>1.660357</td>\n",
       "      <td>7.314481</td>\n",
       "      <td>1.818337</td>\n",
       "      <td>103.007891</td>\n",
       "      <td>100.980</td>\n",
       "      <td>...</td>\n",
       "      <td>0.210032</td>\n",
       "      <td>-0.365283</td>\n",
       "      <td>NaN</td>\n",
       "      <td>0.945858</td>\n",
       "      <td>0.790868</td>\n",
       "      <td>0.278950</td>\n",
       "      <td>2.000000</td>\n",
       "      <td>0.462856</td>\n",
       "      <td>N/A</td>\n",
       "      <td>38.348131</td>\n",
       "    </tr>\n",
       "    <tr>\n",
       "      <th>29</th>\n",
       "      <td>NaN</td>\n",
       "      <td>False</td>\n",
       "      <td>APE &gt;60</td>\n",
       "      <td>Mg-Hornblende</td>\n",
       "      <td>1b</td>\n",
       "      <td>0.775244</td>\n",
       "      <td>6.862755</td>\n",
       "      <td>0.964806</td>\n",
       "      <td>102.127858</td>\n",
       "      <td>101.840</td>\n",
       "      <td>...</td>\n",
       "      <td>0.112808</td>\n",
       "      <td>-1.174947</td>\n",
       "      <td>NaN</td>\n",
       "      <td>0.972500</td>\n",
       "      <td>0.826947</td>\n",
       "      <td>0.274344</td>\n",
       "      <td>2.000000</td>\n",
       "      <td>0.623724</td>\n",
       "      <td>N/A</td>\n",
       "      <td>87.258003</td>\n",
       "    </tr>\n",
       "    <tr>\n",
       "      <th>30</th>\n",
       "      <td>NaN</td>\n",
       "      <td>False</td>\n",
       "      <td>Recalc Total&gt;102</td>\n",
       "      <td>Mg-hastingsite</td>\n",
       "      <td>1b</td>\n",
       "      <td>1.427143</td>\n",
       "      <td>8.970233</td>\n",
       "      <td>0.628470</td>\n",
       "      <td>102.506495</td>\n",
       "      <td>100.750</td>\n",
       "      <td>...</td>\n",
       "      <td>0.073178</td>\n",
       "      <td>-0.569351</td>\n",
       "      <td>NaN</td>\n",
       "      <td>0.980557</td>\n",
       "      <td>0.784625</td>\n",
       "      <td>0.299390</td>\n",
       "      <td>2.000000</td>\n",
       "      <td>0.504944</td>\n",
       "      <td>N/A</td>\n",
       "      <td>58.656769</td>\n",
       "    </tr>\n",
       "  </tbody>\n",
       "</table>\n",
       "<p>31 rows × 61 columns</p>\n",
       "</div>"
      ],
      "text/plain": [
       "    P_kbar_calc  Input_Check          Fail Msg           classification  \\\n",
       "0           NaN        False           APE >60                   low-Ca   \n",
       "1           NaN        False           APE >60                   low-Ca   \n",
       "2           NaN        False     Low Ca (<1.5)                   low-Ca   \n",
       "3      3.171172         True                             Mg-hastingsite   \n",
       "4      3.664027         True                    Tschermakitic pargasite   \n",
       "5      5.213857         True                             Mg-hastingsite   \n",
       "6      3.745263         True                             Mg-hastingsite   \n",
       "7      4.321979         True                    Tschermakitic pargasite   \n",
       "8      4.396070         True                             Mg-hastingsite   \n",
       "9      2.899669         True                    Tschermakitic pargasite   \n",
       "10     2.879788         True                    Tschermakitic pargasite   \n",
       "11     2.677996         True                    Tschermakitic pargasite   \n",
       "12     2.889690         True                    Tschermakitic pargasite   \n",
       "13     2.960767         True                    Tschermakitic pargasite   \n",
       "14     3.120344         True                    Tschermakitic pargasite   \n",
       "15     3.022466         True                             Mg-hastingsite   \n",
       "16     2.809279         True                    Tschermakitic pargasite   \n",
       "17          NaN        False           APE >60            Mg-Hornblende   \n",
       "18          NaN        False           APE >60            Mg-Hornblende   \n",
       "19          NaN        False           APE >60            Mg-Hornblende   \n",
       "20          NaN        False           APE >60            Mg-Hornblende   \n",
       "21          NaN        False           APE >60            Mg-Hornblende   \n",
       "22          NaN        False           APE >60  Tschermakitic pargasite   \n",
       "23          NaN        False           APE >60  Tschermakitic pargasite   \n",
       "24     3.807256         True                             Mg-hastingsite   \n",
       "25     3.085802         True                    Tschermakitic pargasite   \n",
       "26          NaN        False  Recalc Total>102  Tschermakitic pargasite   \n",
       "27          NaN        False  Recalc Total>102  Tschermakitic pargasite   \n",
       "28          NaN        False  Recalc Total>102            Mg-Hornblende   \n",
       "29          NaN        False           APE >60            Mg-Hornblende   \n",
       "30          NaN        False  Recalc Total>102           Mg-hastingsite   \n",
       "\n",
       "     equation  H2O_calc  Fe2O3_calc  FeO_calc  Total_recalc  Sum_input  ...  \\\n",
       "0       1c+1d  1.998790   18.242268 -5.484626    100.086432     96.260  ...   \n",
       "1       1c+1d  2.003470   20.053239 -7.184161     99.432548     95.420  ...   \n",
       "2       1c+1d  1.991229   14.245130 -2.447950     99.588409     96.170  ...   \n",
       "3          1b  1.986417    7.228779  2.865453    101.100648     98.390  ...   \n",
       "4   (1b+1c)/2  1.988509    9.756445  0.311026    100.125980     97.160  ...   \n",
       "5          1a  1.974871    8.841845  4.623995    101.570711     98.710  ...   \n",
       "6   (1b+1c)/2  1.962440    7.278958  6.930301    101.781698     99.090  ...   \n",
       "7          1c  1.972127    7.335599  4.769334    100.857060     98.150  ...   \n",
       "8   (1b+1c)/2  1.979692    6.957510  4.169544    101.066746     98.390  ...   \n",
       "9          1b  1.930004    7.717213  6.091953     99.133170     96.430  ...   \n",
       "10         1b  1.936532    7.905564  6.051473     99.517569     96.789  ...   \n",
       "11         1b  1.944884    8.008624  6.147738     99.902246     97.155  ...   \n",
       "12         1b  1.924027    7.865453  6.049565     99.069045     96.357  ...   \n",
       "13         1b  1.921556    7.602592  6.024090     98.782239     96.099  ...   \n",
       "14         1b  1.929898    7.537025  5.780088     99.259012     96.574  ...   \n",
       "15         1b  1.916711    5.899413  6.963633     98.629757     96.122  ...   \n",
       "16         1b  1.940108    8.113019  5.791802     99.553929     96.801  ...   \n",
       "17         1b  1.930926    5.636693  4.829032     97.654651     95.159  ...   \n",
       "18         1b  1.961139    6.881403  3.741026     99.040568     96.390  ...   \n",
       "19         1b  1.950750    5.315935  5.253654     98.709339     96.226  ...   \n",
       "20         1b  1.943614    5.353893  5.576499     98.781005     96.301  ...   \n",
       "21         1b  1.954766    6.736540  4.683376     99.220681     96.591  ...   \n",
       "22  (1b+1c)/2  1.521572    9.997498  0.234124    102.512871    100.470  ...   \n",
       "23         1b  1.201283   13.793428 -2.751503    103.834451    102.060  ...   \n",
       "24  (1b+1c)/2  1.148284    8.536996  2.868302    101.343997    100.120  ...   \n",
       "25         1b  1.902381    8.613312  0.859632    101.831333     99.180  ...   \n",
       "26         1b  1.777980    9.277510  0.611978    102.507156    100.040  ...   \n",
       "27         1b  1.682894    9.592553  0.228498    102.726787    100.420  ...   \n",
       "28         1b  1.660357    7.314481  1.818337    103.007891    100.980  ...   \n",
       "29         1b  0.775244    6.862755  0.964806    102.127858    101.840  ...   \n",
       "30         1b  1.427143    8.970233  0.628470    102.506495    100.750  ...   \n",
       "\n",
       "    Fe2_calc    O=F,Cl  Total  Mgno_Fe2  Mgno_FeT   Na_calc     B_Sum  \\\n",
       "0  -0.649271 -0.000000    NaN  1.268871  0.703097  0.651710  2.000000   \n",
       "1  -0.848476 -0.000000    NaN  1.364725  0.712254  0.692743  1.928941   \n",
       "2  -0.290889 -0.000000    NaN  1.104376  0.714098  0.608530  2.000000   \n",
       "3   0.341326 -0.000000    NaN  0.912531  0.761360  0.115287  2.000000   \n",
       "4   0.037010 -0.000000    NaN  0.989611  0.765218  0.320025  2.000000   \n",
       "5   0.554019 -0.000000    NaN  0.844056  0.665494  0.279259  2.000000   \n",
       "6   0.835607 -0.000000    NaN  0.776537  0.641136  0.228196  2.000000   \n",
       "7   0.572228 -0.000000    NaN  0.842112  0.691098  0.249196  2.000000   \n",
       "8   0.498353 -0.000000    NaN  0.865101  0.719390  0.216074  2.000000   \n",
       "9   0.746870 -0.000000    NaN  0.795454  0.645055  0.350147  2.000000   \n",
       "10  0.739405 -0.000000    NaN  0.797338  0.643934  0.336768  2.000000   \n",
       "11  0.747942 -0.000000    NaN  0.795687  0.641947  0.334714  2.000000   \n",
       "12  0.743977 -0.000000    NaN  0.797546  0.644819  0.307050  2.000000   \n",
       "13  0.741796 -0.000000    NaN  0.798034  0.649150  0.323647  2.000000   \n",
       "14  0.708674 -0.000000    NaN  0.808244  0.659795  0.298378  2.000000   \n",
       "15  0.859658 -0.000000    NaN  0.774161  0.660458  0.286513  2.000000   \n",
       "16  0.706373 -0.000000    NaN  0.805620  0.647083  0.349208  2.000000   \n",
       "17  0.591753 -0.000000    NaN  0.864239  0.756385  0.325345  2.000000   \n",
       "18  0.451366 -0.000000    NaN  0.894730  0.761966  0.348981  2.000000   \n",
       "19  0.637245 -0.000000    NaN  0.853353  0.752836  0.329776  2.000000   \n",
       "20  0.678888 -0.000000    NaN  0.844188  0.744036  0.312882  2.000000   \n",
       "21  0.566905 -0.000000    NaN  0.866053  0.738093  0.365929  2.000000   \n",
       "22  0.027263 -0.480323    NaN  0.992347  0.766847  0.349971  2.000000   \n",
       "23 -0.315947 -0.808758    NaN  1.092836  0.770273  0.359708  2.000000   \n",
       "24  0.343354 -0.779585    NaN  0.907891  0.728247  0.231727  2.000000   \n",
       "25  0.100521 -0.113991    NaN  0.972927  0.782039  0.278668  2.000000   \n",
       "26  0.071216 -0.240312    NaN  0.980792  0.777164  0.291457  2.000000   \n",
       "27  0.026488 -0.337159    NaN  0.992846  0.781625  0.314339  2.000000   \n",
       "28  0.210032 -0.365283    NaN  0.945858  0.790868  0.278950  2.000000   \n",
       "29  0.112808 -1.174947    NaN  0.972500  0.826947  0.274344  2.000000   \n",
       "30  0.073178 -0.569351    NaN  0.980557  0.784625  0.299390  2.000000   \n",
       "\n",
       "       A_Sum  class         APE  \n",
       "0   0.082384    N/A  107.111808  \n",
       "1   0.037834    N/A   63.416630  \n",
       "2   0.136544    N/A   53.345936  \n",
       "3   0.670039    N/A   51.964039  \n",
       "4   0.456342    N/A   49.001328  \n",
       "5   0.503936    N/A    0.000000  \n",
       "6   0.607482    N/A   26.279106  \n",
       "7   0.488018    N/A   10.285422  \n",
       "8   0.554274    N/A   13.993950  \n",
       "9   0.422817    N/A   45.502012  \n",
       "10  0.419046    N/A   40.888299  \n",
       "11  0.403099    N/A   34.127625  \n",
       "12  0.459379    N/A   41.693478  \n",
       "13  0.455066    N/A   42.117990  \n",
       "14  0.494720    N/A   37.522184  \n",
       "15  0.508879    N/A   34.851202  \n",
       "16  0.392770    N/A   41.848282  \n",
       "17  0.492910    N/A   83.980968  \n",
       "18  0.486097    N/A   95.574020  \n",
       "19  0.491154    N/A   85.815941  \n",
       "20  0.550029    N/A   92.749104  \n",
       "21  0.519958    N/A  101.310207  \n",
       "22  0.496201    N/A   66.480171  \n",
       "23  0.404485    N/A   60.748179  \n",
       "24  0.639945    N/A   52.342963  \n",
       "25  0.463169    N/A   33.562306  \n",
       "26  0.483714    N/A   48.112000  \n",
       "27  0.455244    N/A   50.625164  \n",
       "28  0.462856    N/A   38.348131  \n",
       "29  0.623724    N/A   87.258003  \n",
       "30  0.504944    N/A   58.656769  \n",
       "\n",
       "[31 rows x 61 columns]"
      ]
     },
     "execution_count": 39,
     "metadata": {},
     "output_type": "execute_result"
    }
   ],
   "source": [
    "Newberry_Amp_Press_Filter"
   ]
  },
  {
   "cell_type": "code",
   "execution_count": 26,
   "id": "81a10478-4082-410e-b5b3-daf024b3db52",
   "metadata": {},
   "outputs": [
    {
     "data": {
      "text/plain": [
       "[<matplotlib.lines.Line2D at 0x117ed8bd190>]"
      ]
     },
     "execution_count": 26,
     "metadata": {},
     "output_type": "execute_result"
    },
    {
     "data": {
      "image/png": "[encoded data removed]",
      "text/plain": [
       "<Figure size 432x288 with 1 Axes>"
      ]
     },
     "metadata": {
      "needs_background": "light"
     },
     "output_type": "display_data"
    }
   ],
   "source": [
    "plt.plot(1.1,\n",
    "      np.nanmedian(Combo_Amp['Preferred_P'].loc[(Combo_Amp['Model']==\"Ridolfi filtered\")\n",
    "                                        &(Combo_Amp[\"Sample_ID_Amp\"]==\"Newberry\")]),  \n",
    "         '*k', mfc='w', ms=20)"
   ]
  },
  {
   "cell_type": "code",
   "execution_count": 25,
   "id": "94bfe1b8-4f99-4503-88a4-1c712c542bda",
   "metadata": {},
   "outputs": [
    {
     "data": {
      "text/plain": [
       "0                   NaN\n",
       "1                   NaN\n",
       "2                   NaN\n",
       "3                   NaN\n",
       "4                   NaN\n",
       "             ...       \n",
       "537    Lassen domefield\n",
       "538    Lassen domefield\n",
       "539    Lassen domefield\n",
       "540    Lassen domefield\n",
       "541    Lassen domefield\n",
       "Name: Sample_ID_Amp, Length: 2168, dtype: object"
      ]
     },
     "execution_count": 25,
     "metadata": {},
     "output_type": "execute_result"
    }
   ],
   "source": [
    "Combo_Amp[\"Sample_ID_Amp\"]"
   ]
  },
  {
   "cell_type": "code",
   "execution_count": 24,
   "id": "4759be25-6b15-45af-9281-f5e8ae9fe912",
   "metadata": {},
   "outputs": [
    {
     "data": {
      "text/plain": [
       "0     NaN\n",
       "1     NaN\n",
       "2     NaN\n",
       "3     NaN\n",
       "4     NaN\n",
       "       ..\n",
       "537   NaN\n",
       "538   NaN\n",
       "539   NaN\n",
       "540   NaN\n",
       "541   NaN\n",
       "Name: Preferred_P, Length: 542, dtype: float64"
      ]
     },
     "execution_count": 24,
     "metadata": {},
     "output_type": "execute_result"
    }
   ],
   "source": [
    "Combo_Amp['Preferred_P'].loc[(Combo_Amp['Model']==\"Ridolfi filtered\")\n",
    "                                        &(Combo_Amp[\"Sample_ID_Amp\"]==\"Newberry\")]"
   ]
  },
  {
   "cell_type": "code",
   "execution_count": null,
   "id": "de72aa5c-02a5-45df-b79d-202d25d2b679",
   "metadata": {},
   "outputs": [],
   "source": []
  }
 ],
 "metadata": {
  "kernelspec": {
   "display_name": "Python 3 (ipykernel)",
   "language": "python",
   "name": "python3"
  },
  "language_info": {
   "codemirror_mode": {
    "name": "ipython",
    "version": 3
   },
   "file_extension": ".py",
   "mimetype": "text/x-python",
   "name": "python",
   "nbconvert_exporter": "python",
   "pygments_lexer": "ipython3",
   "version": "3.8.12"
  }
 },
 "nbformat": 4,
 "nbformat_minor": 5
}
