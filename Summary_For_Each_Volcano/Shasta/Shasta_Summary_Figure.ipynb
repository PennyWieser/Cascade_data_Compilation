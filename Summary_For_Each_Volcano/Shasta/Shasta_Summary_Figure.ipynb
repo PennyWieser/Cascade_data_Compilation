{
 "cells": [
  {
   "cell_type": "code",
   "execution_count": 1,
   "id": "f7fb73cf-9460-47b8-9bd0-bd453bb17f0d",
   "metadata": {},
   "outputs": [],
   "source": [
    "import numpy as np\n",
    "import pandas as pd\n",
    "import matplotlib.pyplot as plt\n",
    "import Thermobar as pt\n",
    "from pickle import load\n",
    "import pickle"
   ]
  },
  {
   "cell_type": "markdown",
   "id": "8521678a-72c4-48d0-9753-648355b12ab4",
   "metadata": {},
   "source": [
    "## First, lets load Cpx data"
   ]
  },
  {
   "cell_type": "code",
   "execution_count": 2,
   "id": "8453bb64-2b6f-40f8-a7c9-ac9dc2a2aab8",
   "metadata": {},
   "outputs": [
    {
     "name": "stderr",
     "output_type": "stream",
     "text": [
      "C:\\Users\\penny\\AppData\\Local\\Temp\\ipykernel_25188\\659385994.py:4: SettingWithCopyWarning: \n",
      "A value is trying to be set on a copy of a slice from a DataFrame.\n",
      "Try using .loc[row_indexer,col_indexer] = value instead\n",
      "\n",
      "See the caveats in the documentation: https://pandas.pydata.org/pandas-docs/stable/user_guide/indexing.html#returning-a-view-versus-a-copy\n",
      "  Shasta_Cpx['Sample_ID_Cpx']=\"Shasta\"\n"
     ]
    }
   ],
   "source": [
    "with open(r'../Combo_Cpx.pkl', 'rb') as f:\n",
    "            All_Cpx=load(f)\n",
    "Shasta_Cpx=All_Cpx.loc[All_Cpx['Volcano']==\"Shasta\"]\n",
    "Shasta_Cpx['Sample_ID_Cpx']=\"Shasta\"\n",
    "\n",
    "\n",
    "WangCopy=Shasta_Cpx.copy()\n",
    "WangCopy['Preferred_P']=WangCopy['P_Wang21_eq1']\n",
    "WangCopy['Model']=\"Wang\"\n",
    "JorgensonCopy=Shasta_Cpx.copy()\n",
    "JorgensonCopy['Preferred_P']=JorgensonCopy['P_Jorgenson22']\n",
    "JorgensonCopy['Model']=\"Jorgenson\"\n",
    "\n",
    "Combo_Cpx=pd.concat([WangCopy, JorgensonCopy], axis=0)\n",
    "\n"
   ]
  },
  {
   "cell_type": "code",
   "execution_count": 3,
   "id": "b4361b7b-cb3d-4b34-afaf-e707e6cf8aa1",
   "metadata": {},
   "outputs": [],
   "source": [
    "Combo_Cpx.to_clipboard(excel=True)"
   ]
  },
  {
   "cell_type": "code",
   "execution_count": 4,
   "id": "280bb658-59dd-4fbe-8eda-7d34414ed481",
   "metadata": {},
   "outputs": [
    {
     "data": {
      "text/plain": [
       "328"
      ]
     },
     "execution_count": 4,
     "metadata": {},
     "output_type": "execute_result"
    }
   ],
   "source": [
    "len(WangCopy)"
   ]
  },
  {
   "cell_type": "code",
   "execution_count": 5,
   "id": "cc8d0a9e-0492-4233-8a87-104a1539c5f2",
   "metadata": {},
   "outputs": [
    {
     "data": {
      "text/plain": [
       "328"
      ]
     },
     "execution_count": 5,
     "metadata": {},
     "output_type": "execute_result"
    }
   ],
   "source": [
    "len(JorgensonCopy)"
   ]
  },
  {
   "cell_type": "code",
   "execution_count": 6,
   "id": "e788615c-41fa-4b24-a42a-7fa49c32b07f",
   "metadata": {},
   "outputs": [
    {
     "data": {
      "text/plain": [
       "(656, 46)"
      ]
     },
     "execution_count": 6,
     "metadata": {},
     "output_type": "execute_result"
    }
   ],
   "source": [
    "np.shape(Combo_Cpx)"
   ]
  },
  {
   "cell_type": "markdown",
   "id": "ce5301c4-2fc5-4ffa-bea5-c3f2a2a10aa5",
   "metadata": {},
   "source": [
    "## Choose Crustal density"
   ]
  },
  {
   "cell_type": "code",
   "execution_count": 7,
   "id": "5969034c-fad7-4f3b-99e7-6e549602329a",
   "metadata": {},
   "outputs": [],
   "source": [
    "rho=2700\n",
    "P_axis_min=-3\n",
    "P_axis_max=12\n",
    "D_axis_min=100000*P_axis_min/(9.8*rho)\n",
    "D_axis_max=100000*P_axis_max/(9.8*rho)\n"
   ]
  },
  {
   "cell_type": "code",
   "execution_count": 23,
   "id": "03aecb9b-4065-4d14-a4ce-d29b9a6cdd76",
   "metadata": {},
   "outputs": [
    {
     "data": {
      "image/png": "[encoded data removed]",
      "text/plain": [
       "<Figure size 200x400 with 2 Axes>"
      ]
     },
     "metadata": {},
     "output_type": "display_data"
    }
   ],
   "source": [
    "import seaborn as sns\n",
    "fig, (ax1) = plt.subplots(1, 1, figsize=(2,4), sharey=True)\n",
    "ax2 = ax1.twinx()\n",
    "# ticks = [40.540139,41.3099, 41.6108, 42.9446, 43.7221, 44.103449, 44.6743, 45.3736, 46.1914, 46.8523, 48.1119, 48.7767]\n",
    "# labels = ['Shasta', 'Shasta', 'Med Lake', 'Crater Lake', 'Newberry', '3 Sisters', 'Mt. Jeff', 'Mt. Hood', 'MSH', 'Rainier', 'Glac. Pk.', 'Mt. Baker']\n",
    "# ax2.set_xticks(ticks, minor=False)\n",
    "# ax2.set_xticklabels(labels, fontdict=None, minor=False, rotation=90)\n",
    "#ax1.set_xlim([40, 49])\n",
    "volc_order=[ \"HMA\", \"Main Edifice\", \"Domefield\"]\n",
    "sns.violinplot(x=\"Stage\", y=\"Preferred_P\",  cut=0,  inner=None, hue=\"Model\",\n",
    "            data=Combo_Cpx, split=True, ax=ax1, width=0.9, order=volc_order, stick=True)\n",
    "\n",
    "ax1.plot(-0.1+0*Combo_Cpx['Preferred_P'].loc[(Combo_Cpx['Model']==\"Wang\")\n",
    "                                        &(Combo_Cpx[\"Stage\"]==\"HMA\")],\n",
    "      Combo_Cpx['Preferred_P'].loc[(Combo_Cpx['Model']==\"Wang\")\n",
    "                                        &(Combo_Cpx[\"Stage\"]==\"HMA\")],  \n",
    "         'xb')\n",
    "\n",
    "ax1.plot(0.1+0*Combo_Cpx['Preferred_P'].loc[(Combo_Cpx['Model']==\"Jorgenson\")\n",
    "                                        &(Combo_Cpx[\"Stage\"]==\"HMA\")],\n",
    "      Combo_Cpx['Preferred_P'].loc[(Combo_Cpx['Model']==\"Jorgenson\")\n",
    "                                        &(Combo_Cpx[\"Stage\"]==\"HMA\")],  \n",
    "         'xr')\n",
    "\n",
    "ax1.plot(-0.1,\n",
    "      np.nanmedian(Combo_Cpx['Preferred_P'].loc[(Combo_Cpx['Model']==\"Wang\")\n",
    "                                        &(Combo_Cpx[\"Stage\"]==\"HMA\")]),  \n",
    "         '*k', mfc='w', ms=20)\n",
    "\n",
    "ax1.plot(0.1,\n",
    "      np.nanmedian(Combo_Cpx['Preferred_P'].loc[(Combo_Cpx['Model']==\"Jorgenson\")\n",
    "                                        &(Combo_Cpx[\"Stage\"]==\"HMA\")]),  \n",
    "         '*k', mfc='w', ms=20)\n",
    "\n",
    "\n",
    "\n",
    "\n",
    "ax1.plot([-1, 5], [0, 0], '-k', lw=0.5)\n",
    "ax1.set_ylim([P_axis_max, P_axis_min])\n",
    "ax2.set_ylim([D_axis_max, D_axis_min])\n",
    "ax1.set_xlim([-0.5, 0.5])\n",
    "ax1.get_legend().remove()\n",
    "ax1.set_xlabel(None)\n",
    "ax1.set_ylabel(None)\n",
    "ax1.tick_params(direction=\"in\")\n",
    "ax2.tick_params(direction=\"in\")\n",
    "ax1.grid(color = 'k', linestyle = '--', axis='y',linewidth = 1, alpha = 0.1, zorder=0)\n",
    "ax2.set_yticks([])\n",
    "ax1.errorbar(0.42, 4, xerr=0, yerr=2.4,  ecolor='blue', elinewidth=1.5, fmt='none', capsize=4, mec='k')\n",
    "ax1.errorbar(0.37, 4, xerr=0, yerr=1.9,  ecolor='darkorange', elinewidth=1.5, fmt='none', capsize=4, mec='k')\n",
    "fig.savefig('Shasta_Cpx.png', dpi=200)"
   ]
  },
  {
   "cell_type": "code",
   "execution_count": 9,
   "id": "6fc177c4-d6e6-4be3-b850-a4d965cd571d",
   "metadata": {},
   "outputs": [
    {
     "data": {
      "text/plain": [
       "[<matplotlib.lines.Line2D at 0x11a34502580>]"
      ]
     },
     "execution_count": 9,
     "metadata": {},
     "output_type": "execute_result"
    },
    {
     "data": {
      "image/png": "[encoded data removed]",
      "text/plain": [
       "<Figure size 640x480 with 1 Axes>"
      ]
     },
     "metadata": {},
     "output_type": "display_data"
    }
   ],
   "source": [
    "plt.plot(-0.1+0*Combo_Cpx['Preferred_P'].loc[(Combo_Cpx['Model']==\"Wang\")\n",
    "                                        &(Combo_Cpx[\"Stage\"]==\"HMA\")],\n",
    "      Combo_Cpx['Preferred_P'].loc[(Combo_Cpx['Model']==\"Wang\")\n",
    "                                        &(Combo_Cpx[\"Stage\"]==\"HMA\")],  \n",
    "         'xb')"
   ]
  },
  {
   "cell_type": "code",
   "execution_count": 10,
   "id": "62ddf35e-c325-4274-97f6-862aac0925fd",
   "metadata": {},
   "outputs": [
    {
     "data": {
      "text/plain": [
       "328"
      ]
     },
     "execution_count": 10,
     "metadata": {},
     "output_type": "execute_result"
    }
   ],
   "source": [
    "len(Combo_Cpx['Preferred_P'].loc[(Combo_Cpx['Model']==\"Wang\")\n",
    "                                        &(Combo_Cpx[\"Stage\"]==\"HMA\")])"
   ]
  },
  {
   "cell_type": "markdown",
   "id": "5ecd2305-8966-4812-927a-9279747a2ea3",
   "metadata": {},
   "source": [
    "## Opx - Cpx Barometry"
   ]
  },
  {
   "cell_type": "code",
   "execution_count": 11,
   "id": "5ef8ea83-dbfa-438d-a12a-358f37af73a8",
   "metadata": {},
   "outputs": [
    {
     "name": "stderr",
     "output_type": "stream",
     "text": [
      "g:\\my drive\\postdoc\\pymme\\mybarometers\\thermobar_outer\\src\\Thermobar\\import_export.py:362: UserWarning: You've got a column heading with a lower case _cpx, this is okay if this column is for your own use, but if its an input to Thermobar, it needs to be capitalized (_Cpx)\n",
      "  w.warn(\"You've got a column heading with a lower case _cpx, this is okay if this column is for your\"\n",
      "g:\\my drive\\postdoc\\pymme\\mybarometers\\thermobar_outer\\src\\Thermobar\\import_export.py:366: UserWarning: You've got a column heading with a lower case _opx, this is okay if this column is for your own use, but if its an input to Thermobar, it needs to be capitalized (_Opx)\n",
      "  w.warn(\"You've got a column heading with a lower case _opx, this is okay if this column is for your\"\n"
     ]
    }
   ],
   "source": [
    "Shasta_read_Cpx_Opx=pt.import_excel(r'../../Stitching_Mineral_Data/Shasta.xlsx', sheet_name='Cpx_Opx_All')\n",
    "Shasta_Input_Cpx_Opx=Shasta_read_Cpx_Opx['my_input']\n",
    "Shasta_Cpx_pairs=Shasta_read_Cpx_Opx['Cpxs']\n",
    "Shasta_Opx_pairs=Shasta_read_Cpx_Opx['Opxs']\n",
    "Shasta_Cpx_pairs['Sample_ID_Cpx']=Shasta_Input_Cpx_Opx['Formation']\n",
    "\n",
    "# Same filters as used for Cpx. \n",
    "import warnings as w\n",
    "with w.catch_warnings():\n",
    "    w.simplefilter('ignore')\n",
    "    Shasta_cpx_comps=pt.calculate_clinopyroxene_components(cpx_comps=Shasta_Cpx_pairs)\n",
    "    Shasta_opx_comps=pt.calculate_orthopyroxene_components(opx_comps=Shasta_Opx_pairs)\n",
    "    \n",
    "    Cat_Sum_Filt_cpx=(Shasta_cpx_comps['Cation_Sum_Cpx'].between(3.95, 4.05))\n",
    "    Cat_Sum_Filt_opx=(Shasta_cpx_comps['Cation_Sum_Cpx'].between(3.95, 4.05))\n",
    "    \n",
    "    Ca_Filt_Opx=Shasta_opx_comps['Ca_CaMgFe'].between(-0.2, 0.06)\n",
    "    Ca_Filt_Cpx=Shasta_cpx_comps['Ca_CaMgFe'].between(0.2, 0.5)\n",
    "    HighMgno=Shasta_cpx_comps['Mgno_Cpx']>0.68\n",
    "    \n",
    "    Shasta_Cpx_pairs_Filt=Shasta_Cpx_pairs.loc[HighMgno&Ca_Filt_Opx&Ca_Filt_Cpx&Cat_Sum_Filt_cpx&Cat_Sum_Filt_opx].reset_index(drop=True)\n",
    "    Shasta_Opx_pairs_Filt=Shasta_Opx_pairs.loc[HighMgno&Ca_Filt_Opx&Ca_Filt_Cpx&Cat_Sum_Filt_cpx&Cat_Sum_Filt_opx].reset_index(drop=True)\n",
    "    Shasta_cpx_comps_Filt=Shasta_cpx_comps.loc[HighMgno&Ca_Filt_Opx&Ca_Filt_Cpx&Cat_Sum_Filt_cpx&Cat_Sum_Filt_opx].reset_index(drop=True)\n",
    "    Shasta_all_filt=Shasta_Input_Cpx_Opx.loc[HighMgno&Ca_Filt_Opx&Ca_Filt_Cpx&Cat_Sum_Filt_cpx&Cat_Sum_Filt_opx].reset_index(drop=True)\n",
    "\n",
    "\n",
    "    #More than Mg#75\n",
    "    Shasta_cpx_opx_36_39=pt.calculate_cpx_opx_press_temp(cpx_comps=Shasta_Cpx_pairs_Filt, \n",
    "                                                       opx_comps=Shasta_Opx_pairs_Filt,\n",
    "                                                             eq_tests=True,\n",
    "                                                       equationP=\"P_Put2008_eq39\",\n",
    "                                                      equationT=\"T_Put2008_eq36\")\n",
    "\n",
    "    Shasta_cpx_opx_36_39['Preferred_P']=Shasta_cpx_opx_36_39.P_kbar_calc\n",
    "    Shasta_cpx_opx_36_39['Model']=\"36-39\"\n",
    "\n",
    "    Shasta_cpx_opx_37_39=pt.calculate_cpx_opx_press_temp(cpx_comps=Shasta_Cpx_pairs_Filt, \n",
    "                                                       opx_comps=Shasta_Opx_pairs_Filt,\n",
    "                                                             eq_tests=True,\n",
    "                                                       equationP=\"P_Put2008_eq39\",\n",
    "                                                      equationT=\"T_Put2008_eq37\")\n",
    "\n",
    "    Shasta_cpx_opx_37_39['Preferred_P']=Shasta_cpx_opx_37_39.P_kbar_calc\n",
    "    Shasta_cpx_opx_37_39['Model']=\"37-39\"\n",
    "    Shasta_cpx_opx_combo=pd.concat([Shasta_cpx_opx_37_39, Shasta_cpx_opx_36_39], axis=0)"
   ]
  },
  {
   "cell_type": "code",
   "execution_count": 12,
   "id": "a5cada2b-fd73-4546-923a-fc2269ce8c7e",
   "metadata": {},
   "outputs": [],
   "source": [
    "Shasta_all_filt.to_clipboard(excel=True)"
   ]
  },
  {
   "cell_type": "code",
   "execution_count": 13,
   "id": "3b22c91c-862a-47a8-9125-5da19208ad7b",
   "metadata": {},
   "outputs": [
    {
     "data": {
      "text/plain": [
       "116"
      ]
     },
     "execution_count": 13,
     "metadata": {},
     "output_type": "execute_result"
    }
   ],
   "source": [
    "Shasta_cpx_comps['Mgno_Cpx']\n",
    "len(Shasta_Cpx_pairs_Filt)"
   ]
  },
  {
   "cell_type": "code",
   "execution_count": 14,
   "id": "7a2f0a94-fe22-41f2-9fa8-46d2b798bf5b",
   "metadata": {},
   "outputs": [
    {
     "data": {
      "text/plain": [
       "[<matplotlib.lines.Line2D at 0x11a34bad370>]"
      ]
     },
     "execution_count": 14,
     "metadata": {},
     "output_type": "execute_result"
    },
    {
     "data": {
      "image/png": "[encoded data removed]",
      "text/plain": [
       "<Figure size 640x480 with 1 Axes>"
      ]
     },
     "metadata": {},
     "output_type": "display_data"
    }
   ],
   "source": [
    "plt.plot(Shasta_cpx_opx_37_39['Kd_Fe_Mg_Cpx_Opx'], Shasta_cpx_opx_37_39.P_kbar_calc, 'ok')\n",
    "plt.plot(Shasta_cpx_opx_36_39['Kd_Fe_Mg_Cpx_Opx'], Shasta_cpx_opx_36_39.P_kbar_calc, '.r')"
   ]
  },
  {
   "cell_type": "code",
   "execution_count": 15,
   "id": "6f318a69-e689-404c-b478-acd430271956",
   "metadata": {},
   "outputs": [
    {
     "data": {
      "text/plain": [
       "[<matplotlib.lines.Line2D at 0x11a34bc2790>]"
      ]
     },
     "execution_count": 15,
     "metadata": {},
     "output_type": "execute_result"
    },
    {
     "data": {
      "image/png": "[encoded data removed]",
      "text/plain": [
       "<Figure size 640x480 with 1 Axes>"
      ]
     },
     "metadata": {},
     "output_type": "display_data"
    }
   ],
   "source": [
    "plt.plot(Shasta_cpx_opx_37_39['Delta Kd Low T'], Shasta_cpx_opx_37_39.P_kbar_calc, 'or')"
   ]
  },
  {
   "cell_type": "code",
   "execution_count": 16,
   "id": "639d3ba1-57bd-4879-8740-8d48701b86fe",
   "metadata": {},
   "outputs": [
    {
     "data": {
      "text/plain": [
       "[<matplotlib.lines.Line2D at 0x11a34e7ee50>]"
      ]
     },
     "execution_count": 16,
     "metadata": {},
     "output_type": "execute_result"
    },
    {
     "data": {
      "image/png": "[encoded data removed]",
      "text/plain": [
       "<Figure size 640x480 with 1 Axes>"
      ]
     },
     "metadata": {},
     "output_type": "display_data"
    }
   ],
   "source": [
    "plt.plot(Shasta_cpx_opx_37_39['Delta Kd High T'], Shasta_cpx_opx_37_39.P_kbar_calc, 'or')"
   ]
  },
  {
   "cell_type": "code",
   "execution_count": 27,
   "id": "00fa93f9-3203-468f-b354-21b204b5963b",
   "metadata": {},
   "outputs": [
    {
     "data": {
      "image/png": "[encoded data removed]",
      "text/plain": [
       "<Figure size 200x400 with 2 Axes>"
      ]
     },
     "metadata": {},
     "output_type": "display_data"
    }
   ],
   "source": [
    "import seaborn as sns\n",
    "fig, (ax1) = plt.subplots(1, 1, figsize=(2,4), sharey=True)\n",
    "ax2 = ax1.twinx()\n",
    "\n",
    "# ticks = [40.540139,41.3099, 41.6108, 42.9446, 43.7221, 44.103449, 44.6743, 45.3736, 46.1914, 46.8523, 48.1119, 48.7767]\n",
    "# labels = ['Shasta', 'Shasta', 'Med Lake', 'Crater Lake', 'Newberry', '3 Sisters', 'Mt. Jeff', 'Mt. Hood', 'MSH', 'Rainier', 'Glac. Pk.', 'Mt. Baker']\n",
    "# ax2.set_xticks(ticks, minor=False)\n",
    "# ax2.set_xticklabels(labels, fontdict=None, minor=False, rotation=90)\n",
    "#ax1.set_xlim([40, 49])\n",
    "volc_order=[ \"HMA\", \"Main Edifice\"]\n",
    "sns.violinplot(x=\"Sample_ID_Cpx\", y=\"Preferred_P\",  cut=0,  inner=None, hue=\"Model\",\n",
    "            data=Shasta_cpx_opx_combo, split=True, ax=ax1, width=0.9, order=volc_order, \n",
    "               stick=True, palette=['lightblue', 'lightgrey'])\n",
    "\n",
    "ax1.plot(-0.1+0*Shasta_cpx_opx_combo['Preferred_P'].loc[(Shasta_cpx_opx_combo['Model']==\"37-39\")\n",
    "                                        &(Shasta_cpx_opx_combo[\"Sample_ID_Cpx\"]==\"HMA\")],\n",
    "      Shasta_cpx_opx_combo['Preferred_P'].loc[(Shasta_cpx_opx_combo['Model']==\"37-39\")\n",
    "                                        &(Shasta_cpx_opx_combo[\"Sample_ID_Cpx\"]==\"HMA\")],  \n",
    "         'xb')\n",
    "\n",
    "ax1.plot(0.1+0*Shasta_cpx_opx_combo['Preferred_P'].loc[(Shasta_cpx_opx_combo['Model']==\"36-39\")\n",
    "                                        &(Shasta_cpx_opx_combo[\"Sample_ID_Cpx\"]==\"HMA\")],\n",
    "      Shasta_cpx_opx_combo['Preferred_P'].loc[(Shasta_cpx_opx_combo['Model']==\"36-39\")\n",
    "                                        &(Shasta_cpx_opx_combo[\"Sample_ID_Cpx\"]==\"HMA\")],  \n",
    "         'x', mec='k')\n",
    "\n",
    "ax1.plot(-0.1,\n",
    "      np.nanmedian(Shasta_cpx_opx_combo['Preferred_P'].loc[(Shasta_cpx_opx_combo['Model']==\"37-39\")\n",
    "                                        &(Shasta_cpx_opx_combo[\"Sample_ID_Cpx\"]==\"HMA\")]),  \n",
    "         '*k', mfc='w', ms=20)\n",
    "\n",
    "ax1.plot(0.1,\n",
    "      np.nanmedian(Shasta_cpx_opx_combo['Preferred_P'].loc[(Shasta_cpx_opx_combo['Model']==\"36-39\")\n",
    "                                        &(Shasta_cpx_opx_combo[\"Sample_ID_Cpx\"]==\"HMA\")]),  \n",
    "         '*k', mfc='w', ms=20)\n",
    "\n",
    "ax1.legend()\n",
    "\n",
    "ax1.plot([-1, 5], [0, 0], '-k', lw=0.5)\n",
    "ax1.set_ylim([P_axis_max, P_axis_min])\n",
    "ax2.set_ylim([D_axis_max, D_axis_min])\n",
    "ax1.set_xlim([-0.5, 0.5])\n",
    "ax1.get_legend().remove()\n",
    "ax1.set_xlabel(None)\n",
    "ax1.set_ylabel(None)\n",
    "ax1.tick_params(direction=\"in\")\n",
    "ax2.tick_params(direction=\"in\")\n",
    "ax1.grid(color = 'k', linestyle = '--', axis='y',linewidth = 1, alpha = 0.1, zorder=0)\n",
    "ax2.set_yticks([])\n",
    "\n",
    "#37-39\n",
    "ax1.errorbar(-0.38, 5, xerr=0, yerr=3.69,  ecolor='cornflowerblue', elinewidth=1.5, fmt='none', capsize=4, mec='k')\n",
    "ax1.errorbar(-0.43, 5, xerr=0, yerr=4.12, ecolor='grey', elinewidth=1.5, fmt='none', capsize=4, mec='k')\n",
    "\n",
    "\n",
    "fig.savefig('Shasta_Cpx_Opx.png', dpi=200)"
   ]
  },
  {
   "cell_type": "code",
   "execution_count": 18,
   "id": "fc1d18e6-09c5-4e6c-9e23-c88d4cfd12e0",
   "metadata": {},
   "outputs": [
    {
     "data": {
      "text/plain": [
       "232"
      ]
     },
     "execution_count": 18,
     "metadata": {},
     "output_type": "execute_result"
    }
   ],
   "source": [
    "len(Shasta_cpx_opx_combo)"
   ]
  },
  {
   "cell_type": "code",
   "execution_count": 19,
   "id": "c8c21938-5c4c-4407-8232-7c3cb997f37c",
   "metadata": {},
   "outputs": [
    {
     "ename": "SyntaxError",
     "evalue": "unexpected EOF while parsing (582913220.py, line 1)",
     "output_type": "error",
     "traceback": [
      "\u001b[1;36m  Cell \u001b[1;32mIn[19], line 1\u001b[1;36m\u001b[0m\n\u001b[1;33m    plt.plot(\u001b[0m\n\u001b[1;37m             ^\u001b[0m\n\u001b[1;31mSyntaxError\u001b[0m\u001b[1;31m:\u001b[0m unexpected EOF while parsing\n"
     ]
    }
   ],
   "source": [
    "plt.plot("
   ]
  },
  {
   "cell_type": "code",
   "execution_count": null,
   "id": "09656e44-ac7f-4b62-af05-2c20bbb409a9",
   "metadata": {},
   "outputs": [],
   "source": [
    "## Load in LP data"
   ]
  },
  {
   "cell_type": "code",
   "execution_count": null,
   "id": "41821936-e344-4fae-9a12-f803d537e6b2",
   "metadata": {},
   "outputs": [
    {
     "data": {
      "text/html": [
       "<div>\n",
       "<style scoped>\n",
       "    .dataframe tbody tr th:only-of-type {\n",
       "        vertical-align: middle;\n",
       "    }\n",
       "\n",
       "    .dataframe tbody tr th {\n",
       "        vertical-align: top;\n",
       "    }\n",
       "\n",
       "    .dataframe thead th {\n",
       "        text-align: right;\n",
       "    }\n",
       "</style>\n",
       "<table border=\"1\" class=\"dataframe\">\n",
       "  <thead>\n",
       "    <tr style=\"text-align: right;\">\n",
       "      <th></th>\n",
       "      <th>Volcano</th>\n",
       "      <th>Latitude</th>\n",
       "      <th>Depth</th>\n",
       "      <th>Depth definition</th>\n",
       "      <th>Reference</th>\n",
       "      <th>Unnamed: 5</th>\n",
       "      <th>Unnamed: 6</th>\n",
       "    </tr>\n",
       "  </thead>\n",
       "  <tbody>\n",
       "  </tbody>\n",
       "</table>\n",
       "</div>"
      ],
      "text/plain": [
       "Empty DataFrame\n",
       "Columns: [Volcano, Latitude, Depth, Depth definition, Reference, Unnamed: 5, Unnamed: 6]\n",
       "Index: []"
      ]
     },
     "execution_count": 46,
     "metadata": {},
     "output_type": "execute_result"
    }
   ],
   "source": [
    "LPs=pd.read_excel(r'../Geophysics_April23.xlsx',\n",
    "                  sheet_name=\"LPEarthquakes\")\n",
    "LPs_Shasta=LPs.loc[LPs['Volcano']==\"Shasta\"]\n",
    "LPs_Shasta"
   ]
  },
  {
   "cell_type": "markdown",
   "id": "b7cc5b8f-2c7f-4be3-a40a-a7670b99f8bd",
   "metadata": {},
   "source": [
    "## Expet plot"
   ]
  },
  {
   "cell_type": "code",
   "execution_count": null,
   "id": "f7930f30-c5e2-482a-83e6-56020e775074",
   "metadata": {},
   "outputs": [
    {
     "data": {
      "image/png": "[encoded data removed]",
      "text/plain": [
       "<Figure size 129.6x288 with 2 Axes>"
      ]
     },
     "metadata": {
      "needs_background": "light"
     },
     "output_type": "display_data"
    }
   ],
   "source": [
    "import seaborn as sns\n",
    "fig, (ax1) = plt.subplots(1, 1, figsize=(1.8,4), sharey=True)\n",
    "ax2 = ax1.twinx()\n",
    "from matplotlib import patches\n",
    "# Grove et al. (2005) - reservior at 1-2 km - \n",
    "rect_G2005 = patches.Rectangle((0.5,1),0.2,1,linewidth=1,\n",
    "                            edgecolor='grey',facecolor='grey')\n",
    "ax1.add_patch(rect_G2005)\n",
    "\n",
    "\n",
    "# Krawzinski amphibole - 2.8 to 9.5 kbar\n",
    "K_2012 = patches.Rectangle((1.9,2.76),0.2,9.48-2.76,linewidth=1,\n",
    "                            edgecolor='grey',facecolor='grey')\n",
    "\n",
    "ax1.add_patch(K_2012)\n",
    "\n",
    "# # Thurber et al., (2009) LVZ\n",
    "# ax2.plot(3, 12, '*k', mfc='red', ms=15)\n",
    "\n",
    "\n",
    "ax1.plot([-1, 5], [0, 0], '-k', lw=0.5)\n",
    "ax1.set_ylim([P_axis_max, P_axis_min])\n",
    "ax2.set_ylim([D_axis_max, D_axis_min])\n",
    "\n",
    "ax1.tick_params(direction=\"in\")\n",
    "ax2.tick_params(direction=\"in\")\n",
    "ax1.set_xlim([0, 2.5])\n",
    "ax1.set_xlabel(None)\n",
    "ax1.set_ylabel(None)\n",
    "ax1.set_xticks([])\n",
    "#ax1.set_xticklabels(['Exp Pet', 'Exp Pet', 'MT', 'Seismics'], rotation=90)\n",
    "ax1.grid(color = 'k', linestyle = '--', axis='y',linewidth = 1, alpha = 0.1, zorder=0)\n",
    "ax2.set_yticks([])                 \n",
    "fig.savefig('ExpPet_Shasta.png', dpi=200, bbox_inches=\"tight\")"
   ]
  },
  {
   "cell_type": "markdown",
   "id": "6e45a011-023a-4bff-ad06-e481b53d30ba",
   "metadata": {},
   "source": [
    "## Raw template for geophysics and Exp Pet"
   ]
  },
  {
   "cell_type": "code",
   "execution_count": null,
   "id": "85832d6e-9d94-47cd-9704-3d3255c3580e",
   "metadata": {},
   "outputs": [
    {
     "data": {
      "image/png": "[encoded data removed]",
      "text/plain": [
       "<Figure size 108x288 with 2 Axes>"
      ]
     },
     "metadata": {
      "needs_background": "light"
     },
     "output_type": "display_data"
    }
   ],
   "source": [
    "import seaborn as sns\n",
    "fig, (ax1) = plt.subplots(1, 1, figsize=(1.5,4), sharey=True)\n",
    "ax2 = ax1.twinx()\n",
    "from matplotlib import patches\n",
    "elev=4.321\n",
    "# # Thurber et al., (2009) LVZ - Doesnt explicitly say, but at one point, says below sea level in article, so presume all depths that way. \n",
    "ax2.plot(3, 12+elev, '*k', mfc='red', ms=15)\n",
    "\n",
    "\n",
    "ax1.plot([-1, 5], [0, 0], '-k', lw=0.5)\n",
    "ax1.set_ylim([P_axis_max, P_axis_min])\n",
    "ax2.set_ylim([D_axis_max, D_axis_min])\n",
    "\n",
    "ax1.tick_params(direction=\"in\")\n",
    "ax2.tick_params(direction=\"in\")\n",
    "ax1.set_xlim([2.5, 3.5])\n",
    "ax1.set_xlabel(None)\n",
    "ax1.set_ylabel(None)\n",
    "ax1.set_xticks([])\n",
    "#ax1.set_xticklabels(['Exp Pet', 'Exp Pet', 'MT', 'Seismics'], rotation=90)\n",
    "ax1.grid(color = 'k', linestyle = '--', axis='y',linewidth = 1, alpha = 0.1, zorder=0)\n",
    "                 \n",
    "fig.savefig('Geophy_Shasta.png', dpi=200, bbox_inches=\"tight\")"
   ]
  },
  {
   "cell_type": "code",
   "execution_count": null,
   "id": "2abcd680-574d-459f-93bc-01dc58c3f12d",
   "metadata": {},
   "outputs": [
    {
     "ename": "ValueError",
     "evalue": "Worksheet named 'Amp_All' not found",
     "output_type": "error",
     "traceback": [
      "\u001b[1;31m---------------------------------------------------------------------------\u001b[0m",
      "\u001b[1;31mValueError\u001b[0m                                Traceback (most recent call last)",
      "Input \u001b[1;32mIn [4]\u001b[0m, in \u001b[0;36m<module>\u001b[1;34m\u001b[0m\n\u001b[0;32m      1\u001b[0m \u001b[38;5;66;03m## Same for amphibole\u001b[39;00m\n\u001b[1;32m----> 3\u001b[0m Shasta_read_Amp\u001b[38;5;241m=\u001b[39m\u001b[43mpt\u001b[49m\u001b[38;5;241;43m.\u001b[39;49m\u001b[43mimport_excel\u001b[49m\u001b[43m(\u001b[49m\u001b[38;5;124;43m'\u001b[39;49m\u001b[38;5;124;43mShasta.xlsx\u001b[39;49m\u001b[38;5;124;43m'\u001b[39;49m\u001b[43m,\u001b[49m\u001b[43m \u001b[49m\u001b[43msheet_name\u001b[49m\u001b[38;5;241;43m=\u001b[39;49m\u001b[38;5;124;43m'\u001b[39;49m\u001b[38;5;124;43mAmp_All\u001b[39;49m\u001b[38;5;124;43m'\u001b[39;49m\u001b[43m)\u001b[49m\n\u001b[0;32m      4\u001b[0m Shasta_Input_Amp\u001b[38;5;241m=\u001b[39mShasta_read_Amp[\u001b[38;5;124m'\u001b[39m\u001b[38;5;124mmy_input\u001b[39m\u001b[38;5;124m'\u001b[39m]\n\u001b[0;32m      5\u001b[0m Shasta_Amp\u001b[38;5;241m=\u001b[39mShasta_read_Amp[\u001b[38;5;124m'\u001b[39m\u001b[38;5;124mAmps\u001b[39m\u001b[38;5;124m'\u001b[39m]\n",
      "File \u001b[1;32mc:\\users\\penny\\onedrive - oregon state university\\postdoc\\pymme\\mybarometers\\thermobar_outer\\src\\Thermobar\\import_export.py:328\u001b[0m, in \u001b[0;36mimport_excel\u001b[1;34m(filename, sheet_name, sample_label, GEOROC, suffix)\u001b[0m\n\u001b[0;32m    326\u001b[0m \u001b[38;5;28;01melif\u001b[39;00m \u001b[38;5;124m'\u001b[39m\u001b[38;5;124mxls\u001b[39m\u001b[38;5;124m'\u001b[39m \u001b[38;5;129;01min\u001b[39;00m filename:\n\u001b[0;32m    327\u001b[0m     \u001b[38;5;28;01mif\u001b[39;00m sheet_name \u001b[38;5;129;01mis\u001b[39;00m \u001b[38;5;129;01mnot\u001b[39;00m \u001b[38;5;28;01mNone\u001b[39;00m:\n\u001b[1;32m--> 328\u001b[0m         my_input \u001b[38;5;241m=\u001b[39m \u001b[43mpd\u001b[49m\u001b[38;5;241;43m.\u001b[39;49m\u001b[43mread_excel\u001b[49m\u001b[43m(\u001b[49m\u001b[43mfilename\u001b[49m\u001b[43m,\u001b[49m\u001b[43m \u001b[49m\u001b[43msheet_name\u001b[49m\u001b[38;5;241;43m=\u001b[39;49m\u001b[43msheet_name\u001b[49m\u001b[43m)\u001b[49m\n\u001b[0;32m    329\u001b[0m         \u001b[38;5;66;03m#my_input[my_input < 0] = 0\u001b[39;00m\n\u001b[0;32m    330\u001b[0m     \u001b[38;5;28;01melse\u001b[39;00m:\n\u001b[0;32m    331\u001b[0m         my_input \u001b[38;5;241m=\u001b[39m pd\u001b[38;5;241m.\u001b[39mread_excel(filename)\n",
      "File \u001b[1;32m~\\anaconda3\\lib\\site-packages\\pandas\\util\\_decorators.py:311\u001b[0m, in \u001b[0;36mdeprecate_nonkeyword_arguments.<locals>.decorate.<locals>.wrapper\u001b[1;34m(*args, **kwargs)\u001b[0m\n\u001b[0;32m    305\u001b[0m \u001b[38;5;28;01mif\u001b[39;00m \u001b[38;5;28mlen\u001b[39m(args) \u001b[38;5;241m>\u001b[39m num_allow_args:\n\u001b[0;32m    306\u001b[0m     warnings\u001b[38;5;241m.\u001b[39mwarn(\n\u001b[0;32m    307\u001b[0m         msg\u001b[38;5;241m.\u001b[39mformat(arguments\u001b[38;5;241m=\u001b[39marguments),\n\u001b[0;32m    308\u001b[0m         \u001b[38;5;167;01mFutureWarning\u001b[39;00m,\n\u001b[0;32m    309\u001b[0m         stacklevel\u001b[38;5;241m=\u001b[39mstacklevel,\n\u001b[0;32m    310\u001b[0m     )\n\u001b[1;32m--> 311\u001b[0m \u001b[38;5;28;01mreturn\u001b[39;00m \u001b[43mfunc\u001b[49m\u001b[43m(\u001b[49m\u001b[38;5;241;43m*\u001b[39;49m\u001b[43margs\u001b[49m\u001b[43m,\u001b[49m\u001b[43m \u001b[49m\u001b[38;5;241;43m*\u001b[39;49m\u001b[38;5;241;43m*\u001b[39;49m\u001b[43mkwargs\u001b[49m\u001b[43m)\u001b[49m\n",
      "File \u001b[1;32m~\\anaconda3\\lib\\site-packages\\pandas\\io\\excel\\_base.py:372\u001b[0m, in \u001b[0;36mread_excel\u001b[1;34m(io, sheet_name, header, names, index_col, usecols, squeeze, dtype, engine, converters, true_values, false_values, skiprows, nrows, na_values, keep_default_na, na_filter, verbose, parse_dates, date_parser, thousands, comment, skipfooter, convert_float, mangle_dupe_cols, storage_options)\u001b[0m\n\u001b[0;32m    366\u001b[0m     \u001b[38;5;28;01mraise\u001b[39;00m \u001b[38;5;167;01mValueError\u001b[39;00m(\n\u001b[0;32m    367\u001b[0m         \u001b[38;5;124m\"\u001b[39m\u001b[38;5;124mEngine should not be specified when passing \u001b[39m\u001b[38;5;124m\"\u001b[39m\n\u001b[0;32m    368\u001b[0m         \u001b[38;5;124m\"\u001b[39m\u001b[38;5;124man ExcelFile - ExcelFile already has the engine set\u001b[39m\u001b[38;5;124m\"\u001b[39m\n\u001b[0;32m    369\u001b[0m     )\n\u001b[0;32m    371\u001b[0m \u001b[38;5;28;01mtry\u001b[39;00m:\n\u001b[1;32m--> 372\u001b[0m     data \u001b[38;5;241m=\u001b[39m \u001b[43mio\u001b[49m\u001b[38;5;241;43m.\u001b[39;49m\u001b[43mparse\u001b[49m\u001b[43m(\u001b[49m\n\u001b[0;32m    373\u001b[0m \u001b[43m        \u001b[49m\u001b[43msheet_name\u001b[49m\u001b[38;5;241;43m=\u001b[39;49m\u001b[43msheet_name\u001b[49m\u001b[43m,\u001b[49m\n\u001b[0;32m    374\u001b[0m \u001b[43m        \u001b[49m\u001b[43mheader\u001b[49m\u001b[38;5;241;43m=\u001b[39;49m\u001b[43mheader\u001b[49m\u001b[43m,\u001b[49m\n\u001b[0;32m    375\u001b[0m \u001b[43m        \u001b[49m\u001b[43mnames\u001b[49m\u001b[38;5;241;43m=\u001b[39;49m\u001b[43mnames\u001b[49m\u001b[43m,\u001b[49m\n\u001b[0;32m    376\u001b[0m \u001b[43m        \u001b[49m\u001b[43mindex_col\u001b[49m\u001b[38;5;241;43m=\u001b[39;49m\u001b[43mindex_col\u001b[49m\u001b[43m,\u001b[49m\n\u001b[0;32m    377\u001b[0m \u001b[43m        \u001b[49m\u001b[43musecols\u001b[49m\u001b[38;5;241;43m=\u001b[39;49m\u001b[43musecols\u001b[49m\u001b[43m,\u001b[49m\n\u001b[0;32m    378\u001b[0m \u001b[43m        \u001b[49m\u001b[43msqueeze\u001b[49m\u001b[38;5;241;43m=\u001b[39;49m\u001b[43msqueeze\u001b[49m\u001b[43m,\u001b[49m\n\u001b[0;32m    379\u001b[0m \u001b[43m        \u001b[49m\u001b[43mdtype\u001b[49m\u001b[38;5;241;43m=\u001b[39;49m\u001b[43mdtype\u001b[49m\u001b[43m,\u001b[49m\n\u001b[0;32m    380\u001b[0m \u001b[43m        \u001b[49m\u001b[43mconverters\u001b[49m\u001b[38;5;241;43m=\u001b[39;49m\u001b[43mconverters\u001b[49m\u001b[43m,\u001b[49m\n\u001b[0;32m    381\u001b[0m \u001b[43m        \u001b[49m\u001b[43mtrue_values\u001b[49m\u001b[38;5;241;43m=\u001b[39;49m\u001b[43mtrue_values\u001b[49m\u001b[43m,\u001b[49m\n\u001b[0;32m    382\u001b[0m \u001b[43m        \u001b[49m\u001b[43mfalse_values\u001b[49m\u001b[38;5;241;43m=\u001b[39;49m\u001b[43mfalse_values\u001b[49m\u001b[43m,\u001b[49m\n\u001b[0;32m    383\u001b[0m \u001b[43m        \u001b[49m\u001b[43mskiprows\u001b[49m\u001b[38;5;241;43m=\u001b[39;49m\u001b[43mskiprows\u001b[49m\u001b[43m,\u001b[49m\n\u001b[0;32m    384\u001b[0m \u001b[43m        \u001b[49m\u001b[43mnrows\u001b[49m\u001b[38;5;241;43m=\u001b[39;49m\u001b[43mnrows\u001b[49m\u001b[43m,\u001b[49m\n\u001b[0;32m    385\u001b[0m \u001b[43m        \u001b[49m\u001b[43mna_values\u001b[49m\u001b[38;5;241;43m=\u001b[39;49m\u001b[43mna_values\u001b[49m\u001b[43m,\u001b[49m\n\u001b[0;32m    386\u001b[0m \u001b[43m        \u001b[49m\u001b[43mkeep_default_na\u001b[49m\u001b[38;5;241;43m=\u001b[39;49m\u001b[43mkeep_default_na\u001b[49m\u001b[43m,\u001b[49m\n\u001b[0;32m    387\u001b[0m \u001b[43m        \u001b[49m\u001b[43mna_filter\u001b[49m\u001b[38;5;241;43m=\u001b[39;49m\u001b[43mna_filter\u001b[49m\u001b[43m,\u001b[49m\n\u001b[0;32m    388\u001b[0m \u001b[43m        \u001b[49m\u001b[43mverbose\u001b[49m\u001b[38;5;241;43m=\u001b[39;49m\u001b[43mverbose\u001b[49m\u001b[43m,\u001b[49m\n\u001b[0;32m    389\u001b[0m \u001b[43m        \u001b[49m\u001b[43mparse_dates\u001b[49m\u001b[38;5;241;43m=\u001b[39;49m\u001b[43mparse_dates\u001b[49m\u001b[43m,\u001b[49m\n\u001b[0;32m    390\u001b[0m \u001b[43m        \u001b[49m\u001b[43mdate_parser\u001b[49m\u001b[38;5;241;43m=\u001b[39;49m\u001b[43mdate_parser\u001b[49m\u001b[43m,\u001b[49m\n\u001b[0;32m    391\u001b[0m \u001b[43m        \u001b[49m\u001b[43mthousands\u001b[49m\u001b[38;5;241;43m=\u001b[39;49m\u001b[43mthousands\u001b[49m\u001b[43m,\u001b[49m\n\u001b[0;32m    392\u001b[0m \u001b[43m        \u001b[49m\u001b[43mcomment\u001b[49m\u001b[38;5;241;43m=\u001b[39;49m\u001b[43mcomment\u001b[49m\u001b[43m,\u001b[49m\n\u001b[0;32m    393\u001b[0m \u001b[43m        \u001b[49m\u001b[43mskipfooter\u001b[49m\u001b[38;5;241;43m=\u001b[39;49m\u001b[43mskipfooter\u001b[49m\u001b[43m,\u001b[49m\n\u001b[0;32m    394\u001b[0m \u001b[43m        \u001b[49m\u001b[43mconvert_float\u001b[49m\u001b[38;5;241;43m=\u001b[39;49m\u001b[43mconvert_float\u001b[49m\u001b[43m,\u001b[49m\n\u001b[0;32m    395\u001b[0m \u001b[43m        \u001b[49m\u001b[43mmangle_dupe_cols\u001b[49m\u001b[38;5;241;43m=\u001b[39;49m\u001b[43mmangle_dupe_cols\u001b[49m\u001b[43m,\u001b[49m\n\u001b[0;32m    396\u001b[0m \u001b[43m    \u001b[49m\u001b[43m)\u001b[49m\n\u001b[0;32m    397\u001b[0m \u001b[38;5;28;01mfinally\u001b[39;00m:\n\u001b[0;32m    398\u001b[0m     \u001b[38;5;66;03m# make sure to close opened file handles\u001b[39;00m\n\u001b[0;32m    399\u001b[0m     \u001b[38;5;28;01mif\u001b[39;00m should_close:\n",
      "File \u001b[1;32m~\\anaconda3\\lib\\site-packages\\pandas\\io\\excel\\_base.py:1272\u001b[0m, in \u001b[0;36mExcelFile.parse\u001b[1;34m(self, sheet_name, header, names, index_col, usecols, squeeze, converters, true_values, false_values, skiprows, nrows, na_values, parse_dates, date_parser, thousands, comment, skipfooter, convert_float, mangle_dupe_cols, **kwds)\u001b[0m\n\u001b[0;32m   1238\u001b[0m \u001b[38;5;28;01mdef\u001b[39;00m \u001b[38;5;21mparse\u001b[39m(\n\u001b[0;32m   1239\u001b[0m     \u001b[38;5;28mself\u001b[39m,\n\u001b[0;32m   1240\u001b[0m     sheet_name\u001b[38;5;241m=\u001b[39m\u001b[38;5;241m0\u001b[39m,\n\u001b[1;32m   (...)\u001b[0m\n\u001b[0;32m   1259\u001b[0m     \u001b[38;5;241m*\u001b[39m\u001b[38;5;241m*\u001b[39mkwds,\n\u001b[0;32m   1260\u001b[0m ):\n\u001b[0;32m   1261\u001b[0m     \u001b[38;5;124;03m\"\"\"\u001b[39;00m\n\u001b[0;32m   1262\u001b[0m \u001b[38;5;124;03m    Parse specified sheet(s) into a DataFrame.\u001b[39;00m\n\u001b[0;32m   1263\u001b[0m \n\u001b[1;32m   (...)\u001b[0m\n\u001b[0;32m   1270\u001b[0m \u001b[38;5;124;03m        DataFrame from the passed in Excel file.\u001b[39;00m\n\u001b[0;32m   1271\u001b[0m \u001b[38;5;124;03m    \"\"\"\u001b[39;00m\n\u001b[1;32m-> 1272\u001b[0m     \u001b[38;5;28;01mreturn\u001b[39;00m \u001b[38;5;28;43mself\u001b[39;49m\u001b[38;5;241;43m.\u001b[39;49m\u001b[43m_reader\u001b[49m\u001b[38;5;241;43m.\u001b[39;49m\u001b[43mparse\u001b[49m\u001b[43m(\u001b[49m\n\u001b[0;32m   1273\u001b[0m \u001b[43m        \u001b[49m\u001b[43msheet_name\u001b[49m\u001b[38;5;241;43m=\u001b[39;49m\u001b[43msheet_name\u001b[49m\u001b[43m,\u001b[49m\n\u001b[0;32m   1274\u001b[0m \u001b[43m        \u001b[49m\u001b[43mheader\u001b[49m\u001b[38;5;241;43m=\u001b[39;49m\u001b[43mheader\u001b[49m\u001b[43m,\u001b[49m\n\u001b[0;32m   1275\u001b[0m \u001b[43m        \u001b[49m\u001b[43mnames\u001b[49m\u001b[38;5;241;43m=\u001b[39;49m\u001b[43mnames\u001b[49m\u001b[43m,\u001b[49m\n\u001b[0;32m   1276\u001b[0m \u001b[43m        \u001b[49m\u001b[43mindex_col\u001b[49m\u001b[38;5;241;43m=\u001b[39;49m\u001b[43mindex_col\u001b[49m\u001b[43m,\u001b[49m\n\u001b[0;32m   1277\u001b[0m \u001b[43m        \u001b[49m\u001b[43musecols\u001b[49m\u001b[38;5;241;43m=\u001b[39;49m\u001b[43musecols\u001b[49m\u001b[43m,\u001b[49m\n\u001b[0;32m   1278\u001b[0m \u001b[43m        \u001b[49m\u001b[43msqueeze\u001b[49m\u001b[38;5;241;43m=\u001b[39;49m\u001b[43msqueeze\u001b[49m\u001b[43m,\u001b[49m\n\u001b[0;32m   1279\u001b[0m \u001b[43m        \u001b[49m\u001b[43mconverters\u001b[49m\u001b[38;5;241;43m=\u001b[39;49m\u001b[43mconverters\u001b[49m\u001b[43m,\u001b[49m\n\u001b[0;32m   1280\u001b[0m \u001b[43m        \u001b[49m\u001b[43mtrue_values\u001b[49m\u001b[38;5;241;43m=\u001b[39;49m\u001b[43mtrue_values\u001b[49m\u001b[43m,\u001b[49m\n\u001b[0;32m   1281\u001b[0m \u001b[43m        \u001b[49m\u001b[43mfalse_values\u001b[49m\u001b[38;5;241;43m=\u001b[39;49m\u001b[43mfalse_values\u001b[49m\u001b[43m,\u001b[49m\n\u001b[0;32m   1282\u001b[0m \u001b[43m        \u001b[49m\u001b[43mskiprows\u001b[49m\u001b[38;5;241;43m=\u001b[39;49m\u001b[43mskiprows\u001b[49m\u001b[43m,\u001b[49m\n\u001b[0;32m   1283\u001b[0m \u001b[43m        \u001b[49m\u001b[43mnrows\u001b[49m\u001b[38;5;241;43m=\u001b[39;49m\u001b[43mnrows\u001b[49m\u001b[43m,\u001b[49m\n\u001b[0;32m   1284\u001b[0m \u001b[43m        \u001b[49m\u001b[43mna_values\u001b[49m\u001b[38;5;241;43m=\u001b[39;49m\u001b[43mna_values\u001b[49m\u001b[43m,\u001b[49m\n\u001b[0;32m   1285\u001b[0m \u001b[43m        \u001b[49m\u001b[43mparse_dates\u001b[49m\u001b[38;5;241;43m=\u001b[39;49m\u001b[43mparse_dates\u001b[49m\u001b[43m,\u001b[49m\n\u001b[0;32m   1286\u001b[0m \u001b[43m        \u001b[49m\u001b[43mdate_parser\u001b[49m\u001b[38;5;241;43m=\u001b[39;49m\u001b[43mdate_parser\u001b[49m\u001b[43m,\u001b[49m\n\u001b[0;32m   1287\u001b[0m \u001b[43m        \u001b[49m\u001b[43mthousands\u001b[49m\u001b[38;5;241;43m=\u001b[39;49m\u001b[43mthousands\u001b[49m\u001b[43m,\u001b[49m\n\u001b[0;32m   1288\u001b[0m \u001b[43m        \u001b[49m\u001b[43mcomment\u001b[49m\u001b[38;5;241;43m=\u001b[39;49m\u001b[43mcomment\u001b[49m\u001b[43m,\u001b[49m\n\u001b[0;32m   1289\u001b[0m \u001b[43m        \u001b[49m\u001b[43mskipfooter\u001b[49m\u001b[38;5;241;43m=\u001b[39;49m\u001b[43mskipfooter\u001b[49m\u001b[43m,\u001b[49m\n\u001b[0;32m   1290\u001b[0m \u001b[43m        \u001b[49m\u001b[43mconvert_float\u001b[49m\u001b[38;5;241;43m=\u001b[39;49m\u001b[43mconvert_float\u001b[49m\u001b[43m,\u001b[49m\n\u001b[0;32m   1291\u001b[0m \u001b[43m        \u001b[49m\u001b[43mmangle_dupe_cols\u001b[49m\u001b[38;5;241;43m=\u001b[39;49m\u001b[43mmangle_dupe_cols\u001b[49m\u001b[43m,\u001b[49m\n\u001b[0;32m   1292\u001b[0m \u001b[43m        \u001b[49m\u001b[38;5;241;43m*\u001b[39;49m\u001b[38;5;241;43m*\u001b[39;49m\u001b[43mkwds\u001b[49m\u001b[43m,\u001b[49m\n\u001b[0;32m   1293\u001b[0m \u001b[43m    \u001b[49m\u001b[43m)\u001b[49m\n",
      "File \u001b[1;32m~\\anaconda3\\lib\\site-packages\\pandas\\io\\excel\\_base.py:535\u001b[0m, in \u001b[0;36mBaseExcelReader.parse\u001b[1;34m(self, sheet_name, header, names, index_col, usecols, squeeze, dtype, true_values, false_values, skiprows, nrows, na_values, verbose, parse_dates, date_parser, thousands, comment, skipfooter, convert_float, mangle_dupe_cols, **kwds)\u001b[0m\n\u001b[0;32m    532\u001b[0m     \u001b[38;5;28mprint\u001b[39m(\u001b[38;5;124mf\u001b[39m\u001b[38;5;124m\"\u001b[39m\u001b[38;5;124mReading sheet \u001b[39m\u001b[38;5;132;01m{\u001b[39;00masheetname\u001b[38;5;132;01m}\u001b[39;00m\u001b[38;5;124m\"\u001b[39m)\n\u001b[0;32m    534\u001b[0m \u001b[38;5;28;01mif\u001b[39;00m \u001b[38;5;28misinstance\u001b[39m(asheetname, \u001b[38;5;28mstr\u001b[39m):\n\u001b[1;32m--> 535\u001b[0m     sheet \u001b[38;5;241m=\u001b[39m \u001b[38;5;28;43mself\u001b[39;49m\u001b[38;5;241;43m.\u001b[39;49m\u001b[43mget_sheet_by_name\u001b[49m\u001b[43m(\u001b[49m\u001b[43masheetname\u001b[49m\u001b[43m)\u001b[49m\n\u001b[0;32m    536\u001b[0m \u001b[38;5;28;01melse\u001b[39;00m:  \u001b[38;5;66;03m# assume an integer if not a string\u001b[39;00m\n\u001b[0;32m    537\u001b[0m     sheet \u001b[38;5;241m=\u001b[39m \u001b[38;5;28mself\u001b[39m\u001b[38;5;241m.\u001b[39mget_sheet_by_index(asheetname)\n",
      "File \u001b[1;32m~\\anaconda3\\lib\\site-packages\\pandas\\io\\excel\\_openpyxl.py:542\u001b[0m, in \u001b[0;36mOpenpyxlReader.get_sheet_by_name\u001b[1;34m(self, name)\u001b[0m\n\u001b[0;32m    541\u001b[0m \u001b[38;5;28;01mdef\u001b[39;00m \u001b[38;5;21mget_sheet_by_name\u001b[39m(\u001b[38;5;28mself\u001b[39m, name: \u001b[38;5;28mstr\u001b[39m):\n\u001b[1;32m--> 542\u001b[0m     \u001b[38;5;28;43mself\u001b[39;49m\u001b[38;5;241;43m.\u001b[39;49m\u001b[43mraise_if_bad_sheet_by_name\u001b[49m\u001b[43m(\u001b[49m\u001b[43mname\u001b[49m\u001b[43m)\u001b[49m\n\u001b[0;32m    543\u001b[0m     \u001b[38;5;28;01mreturn\u001b[39;00m \u001b[38;5;28mself\u001b[39m\u001b[38;5;241m.\u001b[39mbook[name]\n",
      "File \u001b[1;32m~\\anaconda3\\lib\\site-packages\\pandas\\io\\excel\\_base.py:474\u001b[0m, in \u001b[0;36mBaseExcelReader.raise_if_bad_sheet_by_name\u001b[1;34m(self, name)\u001b[0m\n\u001b[0;32m    472\u001b[0m \u001b[38;5;28;01mdef\u001b[39;00m \u001b[38;5;21mraise_if_bad_sheet_by_name\u001b[39m(\u001b[38;5;28mself\u001b[39m, name: \u001b[38;5;28mstr\u001b[39m) \u001b[38;5;241m-\u001b[39m\u001b[38;5;241m>\u001b[39m \u001b[38;5;28;01mNone\u001b[39;00m:\n\u001b[0;32m    473\u001b[0m     \u001b[38;5;28;01mif\u001b[39;00m name \u001b[38;5;129;01mnot\u001b[39;00m \u001b[38;5;129;01min\u001b[39;00m \u001b[38;5;28mself\u001b[39m\u001b[38;5;241m.\u001b[39msheet_names:\n\u001b[1;32m--> 474\u001b[0m         \u001b[38;5;28;01mraise\u001b[39;00m \u001b[38;5;167;01mValueError\u001b[39;00m(\u001b[38;5;124mf\u001b[39m\u001b[38;5;124m\"\u001b[39m\u001b[38;5;124mWorksheet named \u001b[39m\u001b[38;5;124m'\u001b[39m\u001b[38;5;132;01m{\u001b[39;00mname\u001b[38;5;132;01m}\u001b[39;00m\u001b[38;5;124m'\u001b[39m\u001b[38;5;124m not found\u001b[39m\u001b[38;5;124m\"\u001b[39m)\n",
      "\u001b[1;31mValueError\u001b[0m: Worksheet named 'Amp_All' not found"
     ]
    }
   ],
   "source": [
    "## Same for amphibole\n",
    "\n",
    "Shasta_read_Amp=pt.import_excel('Shasta.xlsx', sheet_name='Amp_All')\n",
    "Shasta_Input_Amp=Shasta_read_Amp['my_input']\n",
    "Shasta_Amp=Shasta_read_Amp['Amps']\n",
    "Shasta_Amp['Sample_ID_Amp']=Shasta_Input_Amp[\"Stage\"]\n",
    "Shasta_Amp_copy=Shasta_Amp.copy()\n",
    "Shasta_Amp_comps=pt.get_amp_sites_from_input(amp_comps=Shasta_Amp)\n",
    "# Are a few outside 3.95 to 4.05 Cat sums, CaCaMgFe lies 0.3 - 0.55\n",
    "Shasta_Amp_filt1=Shasta_Amp.loc[( (Shasta_Amp_comps['cation_sum_All'].between(15, 16)) )]\n",
    "Shasta_Amp_class=pt.classify_phases(df=Shasta_Amp_filt1, return_end_members=True,\n",
    "                        str_to_drop='_Amp')\n",
    "print(Shasta_Amp_class['Phase_Min_Group_ML'].unique())\n",
    "Shasta_Amp_filt=Shasta_Amp_filt1.loc[Shasta_Amp_class['Phase_Min_Group_ML']==\"Amp\"].reset_index(drop=True)\n",
    "Shasta_Amp_Press_NoFilter=pt.calculate_amp_only_press(amp_comps=Shasta_Amp_filt, \n",
    "                        Ridolfi_Filter=False, equationP=\"P_Ridolfi2021\")\n",
    "Shasta_Amp_Press_Filter=pt.calculate_amp_only_press(amp_comps=Shasta_Amp_filt, \n",
    "                        Ridolfi_Filter=True, equationP=\"P_Ridolfi2021\")\n"
   ]
  },
  {
   "cell_type": "code",
   "execution_count": null,
   "id": "0c40be9e-ae71-4998-9ce7-52c8a0e2d835",
   "metadata": {},
   "outputs": [],
   "source": [
    "len(Shasta_Amp_Press_NoFilter)"
   ]
  },
  {
   "cell_type": "code",
   "execution_count": null,
   "id": "f75c362c-6356-41e1-8533-8bfbf38a4c4b",
   "metadata": {},
   "outputs": [],
   "source": [
    "plt.plot(\n",
    "         (Shasta_Amp_filt['MgO_Amp']/40.3044)/(Shasta_Amp_filt['MgO_Amp']/40.3044+Shasta_Amp_filt['FeOt_Amp']/71.844),\n",
    "    Shasta_Amp_Press_NoFilter['P_kbar_calc'], 'ok')"
   ]
  },
  {
   "cell_type": "code",
   "execution_count": null,
   "id": "209fe8f4-df37-4af2-befd-5c45109198c8",
   "metadata": {},
   "outputs": [],
   "source": [
    "Amp_Chem=pt.calculate_amp_only_melt_comps(amp_comps=Shasta_Amp_filt)"
   ]
  },
  {
   "cell_type": "code",
   "execution_count": null,
   "id": "01277fd4-71d1-422f-99eb-84d72c944eb7",
   "metadata": {},
   "outputs": [],
   "source": [
    "fig, (ax1, ax2) = plt.subplots(1, 2, figsize=(10,5), sharey=True)\n",
    "ax1.plot(\n",
    "         Amp_Chem['MgO_Eq9_Zhang17'],\n",
    "    Shasta_Amp_Press_NoFilter['P_kbar_calc'], 'ok')\n",
    "ax1.set_xlabel('Calculated MgO Zhang')\n",
    "ax1.set_ylabel('Calcated P Ridolfi 21')\n",
    "\n",
    "ax2.set_xlabel('Calculated SiO2 Zhang')\n",
    "ax2.set_ylabel('Calcated P Ridolfi 21')\n",
    "\n",
    "ax2.plot(\n",
    "         Amp_Chem['SiO2_Eq1_Zhang17'],\n",
    "    Shasta_Amp_Press_NoFilter['P_kbar_calc'], 'ok')"
   ]
  },
  {
   "cell_type": "code",
   "execution_count": null,
   "id": "af627d8c-c0dc-4fd5-8035-42f3c77dcb2c",
   "metadata": {},
   "outputs": [],
   "source": [
    "#None Filtered\n",
    "Shasta_Amp_Press_All=Shasta_Amp_Press_NoFilter.copy()\n",
    "Shasta_Amp_Press_All['Preferred_P']=Shasta_Amp_Press_All['P_kbar_calc']\n",
    "Shasta_Amp_Press_All['Model']=\"Ridolfi not filtered\"\n",
    "Shasta_Amp_Press_All['Sample_ID_Amp']=\"Shasta domefield\"\n",
    "\n",
    "Shasta_Amp_Press_Filt=Shasta_Amp_Press_Filter.copy()\n",
    "Shasta_Amp_Press_Filt['Preferred_P']=Shasta_Amp_Press_Filt['P_kbar_calc']\n",
    "Shasta_Amp_Press_Filt['Model']=\"Ridolfi filtered\"\n",
    "Shasta_Amp_Press_Filt['Sample_ID_Amp']=\"Shasta domefield\"\n",
    "\n",
    "Combo_Amp=pd.concat([Shasta_Amp_Press_All, Shasta_Amp_Press_Filt], axis=0)"
   ]
  },
  {
   "cell_type": "code",
   "execution_count": null,
   "id": "8473be2d-0d75-4566-89cc-a59331e12ab4",
   "metadata": {},
   "outputs": [],
   "source": [
    "import pickle\n",
    "Combo_Amp.to_pickle(\"Amp_Shasta.pkl\")"
   ]
  },
  {
   "cell_type": "code",
   "execution_count": null,
   "id": "e51f0090-05a8-4854-a7bc-0a89b349ba07",
   "metadata": {},
   "outputs": [],
   "source": [
    "Shasta_Amp_Press_All['Sample_ID_Amp']"
   ]
  },
  {
   "cell_type": "code",
   "execution_count": null,
   "id": "d9be12c5-5bc3-42c5-a28e-0d4fe1e8da1d",
   "metadata": {},
   "outputs": [],
   "source": [
    "import seaborn as sns\n",
    "fig, (ax1) = plt.subplots(1, 1, figsize=(5*0.6,4), sharey=True)\n",
    "ax2 = ax1.twinx()\n",
    "\n",
    "volc_order=[\"HMA\", \"Shasta domefield\"]\n",
    "sns.violinplot(x=\"Sample_ID_Amp\", y=\"Preferred_P\",  cut=0, \n",
    "               linewidth=1,hue=\"Model\", inner=None,\n",
    "            data=Combo_Amp, split=True, ax=ax1, width=0.9, order=volc_order, stick=True\n",
    "              , palette=['lightgreen', 'grey'])\n",
    "\n",
    "# ax1.plot(-0.1+0*Combo_Amp['Preferred_P'].loc[(Combo_Amp['Model']==\"Ridolfi not filtered\")\n",
    "#                                         &(Combo_Amp[\"Stage\"]==\"HMA\")],\n",
    "#       Combo_Amp['Preferred_P'].loc[(Combo_Amp['Model']==\"Ridolfi not filtered\")\n",
    "#                                         &(Combo_Amp[\"Stage\"]==\"HMA\")],  \n",
    "#          'xb')\n",
    "\n",
    "# ax1.plot(0.1+0*Combo_Amp['Preferred_P'].loc[(Combo_Amp['Model']==\"Ridolfi filtered\")\n",
    "#                                         &(Combo_Amp[\"Stage\"]==\"HMA\")],\n",
    "#       Combo_Amp['Preferred_P'].loc[(Combo_Amp['Model']==\"Ridolfi filtered\")\n",
    "#                                         &(Combo_Amp[\"Stage\"]==\"HMA\")],  \n",
    "#          'xr')\n",
    "\n",
    "# ax1.plot(-0.1,\n",
    "#       np.nanmedian(Combo_Amp['Preferred_P'].loc[(Combo_Amp['Model']==\"Ridolfi not filtered\")\n",
    "#                                         &(Combo_Amp[\"Stage\"]==\"HMA\")]),  \n",
    "#          '*k', mfc='w', ms=20)\n",
    "\n",
    "# ax1.plot(0.1,\n",
    "#       np.nanmedian(Combo_Amp['Preferred_P'].loc[(Combo_Amp['Model']==\"Ridolfi filtered\")\n",
    "#                                         &(Combo_Amp[\"Stage\"]==\"HMA\")]),  \n",
    "#          '*k', mfc='w', ms=20)\n",
    "\n",
    "ax1.plot(0.9+0*Combo_Amp['Preferred_P'].loc[(Combo_Amp['Model']==\"Ridolfi not filtered\")\n",
    "                                        &(Combo_Amp[\"Sample_ID_Amp\"]==\"Shasta domefield\")],\n",
    "      Combo_Amp['Preferred_P'].loc[(Combo_Amp['Model']==\"Ridolfi not filtered\")\n",
    "                                        &(Combo_Amp[\"Sample_ID_Amp\"]==\"Shasta domefield\")],  \n",
    "         'x', mec='green')\n",
    "\n",
    "ax1.plot(1.1+0*Combo_Amp['Preferred_P'].loc[(Combo_Amp['Model']==\"Ridolfi filtered\")\n",
    "                                        &(Combo_Amp[\"Sample_ID_Amp\"]==\"Shasta domefield\")],\n",
    "      Combo_Amp['Preferred_P'].loc[(Combo_Amp['Model']==\"Ridolfi filtered\")\n",
    "                                        &(Combo_Amp[\"Sample_ID_Amp\"]==\"Shasta domefield\")],  \n",
    "         'x', mec='k')\n",
    "\n",
    "ax1.plot(0.9,\n",
    "      np.nanmedian(Combo_Amp['Preferred_P'].loc[(Combo_Amp['Model']==\"Ridolfi not filtered\")\n",
    "                                        &(Combo_Amp[\"Sample_ID_Amp\"]==\"Shasta domefield\")]),  \n",
    "         '*k', mfc='w', ms=20)\n",
    "\n",
    "ax1.plot(1.1,\n",
    "      np.nanmedian(Combo_Amp['Preferred_P'].loc[(Combo_Amp['Model']==\"Ridolfi filtered\")\n",
    "                                        &(Combo_Amp[\"Sample_ID_Amp\"]==\"Shasta domefield\")]),  \n",
    "         '*k', mfc='w', ms=20)\n",
    "\n",
    "ax1.plot([-1, 5], [0, 0], '-k', lw=0.5)\n",
    "ax1.set_ylim([P_axis_max, P_axis_min])\n",
    "ax2.set_ylim([D_axis_max, D_axis_min])\n",
    "ax1.set_xlim([0.5, 1.5])\n",
    "ax1.get_legend().remove()\n",
    "ax1.set_xlabel(None)\n",
    "ax1.set_ylabel(None)\n",
    "\n",
    "ax1.tick_params(direction=\"in\")\n",
    "ax2.tick_params(direction=\"in\")\n",
    "ax2.set_yticks([])\n",
    "# ax1.set_yticks([])\n",
    "ax1.grid(color = 'k', linestyle = '--', axis='y',linewidth = 1, alpha = 0.1, zorder=0)\n",
    "\n",
    "\n",
    "fig.savefig('Shasta_Amp.png', dpi=200)\n",
    "\n"
   ]
  },
  {
   "cell_type": "code",
   "execution_count": null,
   "id": "58a4756b-4dbb-4964-950a-bda2b1c59643",
   "metadata": {},
   "outputs": [],
   "source": [
    "Shasta_Amp_Press_Filter"
   ]
  },
  {
   "cell_type": "code",
   "execution_count": null,
   "id": "81a10478-4082-410e-b5b3-daf024b3db52",
   "metadata": {},
   "outputs": [],
   "source": [
    "plt.plot(1.1,\n",
    "      np.nanmedian(Combo_Amp['Preferred_P'].loc[(Combo_Amp['Model']==\"Ridolfi filtered\")\n",
    "                                        &(Combo_Amp[\"Sample_ID_Amp\"]==\"Shasta domefield\")]),  \n",
    "         '*k', mfc='w', ms=20)"
   ]
  },
  {
   "cell_type": "code",
   "execution_count": null,
   "id": "94bfe1b8-4f99-4503-88a4-1c712c542bda",
   "metadata": {},
   "outputs": [],
   "source": [
    "Combo_Amp[\"Sample_ID_Amp\"]"
   ]
  },
  {
   "cell_type": "code",
   "execution_count": null,
   "id": "4759be25-6b15-45af-9281-f5e8ae9fe912",
   "metadata": {},
   "outputs": [],
   "source": [
    "Combo_Amp['Preferred_P'].loc[(Combo_Amp['Model']==\"Ridolfi filtered\")\n",
    "                                        &(Combo_Amp[\"Sample_ID_Amp\"]==\"Shasta domefield\")]"
   ]
  },
  {
   "cell_type": "code",
   "execution_count": null,
   "id": "de72aa5c-02a5-45df-b79d-202d25d2b679",
   "metadata": {},
   "outputs": [],
   "source": []
  }
 ],
 "metadata": {
  "kernelspec": {
   "display_name": "Python 3 (ipykernel)",
   "language": "python",
   "name": "python3"
  },
  "language_info": {
   "codemirror_mode": {
    "name": "ipython",
    "version": 3
   },
   "file_extension": ".py",
   "mimetype": "text/x-python",
   "name": "python",
   "nbconvert_exporter": "python",
   "pygments_lexer": "ipython3",
   "version": "3.9.17"
  }
 },
 "nbformat": 4,
 "nbformat_minor": 5
}
