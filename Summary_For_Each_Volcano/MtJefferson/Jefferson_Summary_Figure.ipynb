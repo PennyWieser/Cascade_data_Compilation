{
 "cells": [
  {
   "cell_type": "code",
   "execution_count": 1,
   "id": "f7fb73cf-9460-47b8-9bd0-bd453bb17f0d",
   "metadata": {},
   "outputs": [],
   "source": [
    "import numpy as np\n",
    "import pandas as pd\n",
    "import matplotlib.pyplot as plt\n",
    "import Thermobar as pt\n",
    "from pickle import load\n",
    "import pickle"
   ]
  },
  {
   "cell_type": "markdown",
   "id": "8521678a-72c4-48d0-9753-648355b12ab4",
   "metadata": {},
   "source": [
    "## First, lets load Cpx data"
   ]
  },
  {
   "cell_type": "code",
   "execution_count": 2,
   "id": "8453bb64-2b6f-40f8-a7c9-ac9dc2a2aab8",
   "metadata": {},
   "outputs": [
    {
     "name": "stderr",
     "output_type": "stream",
     "text": [
      "C:\\Users\\penny\\AppData\\Local\\Temp\\ipykernel_25788\\3297680813.py:4: SettingWithCopyWarning: \n",
      "A value is trying to be set on a copy of a slice from a DataFrame.\n",
      "Try using .loc[row_indexer,col_indexer] = value instead\n",
      "\n",
      "See the caveats in the documentation: https://pandas.pydata.org/pandas-docs/stable/user_guide/indexing.html#returning-a-view-versus-a-copy\n",
      "  Jefferson_Cpx['Sample_ID_Cpx']=\"Jefferson\"\n"
     ]
    }
   ],
   "source": [
    "with open(r'../Combo_Cpx.pkl', 'rb') as f:\n",
    "            All_Cpx=load(f)\n",
    "Jefferson_Cpx=All_Cpx.loc[All_Cpx['Volcano']==\"Jefferson\"]\n",
    "Jefferson_Cpx['Sample_ID_Cpx']=\"Jefferson\""
   ]
  },
  {
   "cell_type": "code",
   "execution_count": 3,
   "id": "66d08a51-c106-4255-9685-a691630e6252",
   "metadata": {},
   "outputs": [],
   "source": [
    "WangCopy=Jefferson_Cpx.copy()\n",
    "WangCopy['Preferred_P']=WangCopy['P_Wang21_eq1']\n",
    "WangCopy['Model']=\"Wang\"\n",
    "JorgensonCopy=Jefferson_Cpx.copy()\n",
    "JorgensonCopy['Preferred_P']=JorgensonCopy['P_Jorgenson22']\n",
    "JorgensonCopy['Model']=\"Jorgenson\"\n",
    "\n",
    "Combo_Cpx=pd.concat([WangCopy, JorgensonCopy], axis=0)\n",
    "Combo_Cpx['Sample_ID_Cpx']=\"Jeff\""
   ]
  },
  {
   "cell_type": "code",
   "execution_count": 4,
   "id": "883cb801-d4d2-4af5-a9ec-914335e3515a",
   "metadata": {},
   "outputs": [
    {
     "data": {
      "text/plain": [
       "35"
      ]
     },
     "execution_count": 4,
     "metadata": {},
     "output_type": "execute_result"
    }
   ],
   "source": [
    "len(WangCopy)"
   ]
  },
  {
   "cell_type": "markdown",
   "id": "ce5301c4-2fc5-4ffa-bea5-c3f2a2a10aa5",
   "metadata": {},
   "source": [
    "## Choose Crustal density"
   ]
  },
  {
   "cell_type": "code",
   "execution_count": 5,
   "id": "5969034c-fad7-4f3b-99e7-6e549602329a",
   "metadata": {},
   "outputs": [],
   "source": [
    "rho=2700\n",
    "P_axis_min=-3\n",
    "P_axis_max=12\n",
    "D_axis_min=100000*P_axis_min/(9.8*rho)\n",
    "D_axis_max=100000*P_axis_max/(9.8*rho)\n"
   ]
  },
  {
   "cell_type": "code",
   "execution_count": 15,
   "id": "03aecb9b-4065-4d14-a4ce-d29b9a6cdd76",
   "metadata": {},
   "outputs": [
    {
     "name": "stderr",
     "output_type": "stream",
     "text": [
      "c:\\Users\\penny\\anaconda3\\lib\\site-packages\\numpy\\lib\\nanfunctions.py:1215: RuntimeWarning: Mean of empty slice\n",
      "  return np.nanmean(a, axis, out=out, keepdims=keepdims)\n"
     ]
    },
    {
     "data": {
      "image/png": "[encoded data removed]",
      "text/plain": [
       "<Figure size 200x400 with 2 Axes>"
      ]
     },
     "metadata": {},
     "output_type": "display_data"
    }
   ],
   "source": [
    "import seaborn as sns\n",
    "fig, (ax1) = plt.subplots(1, 1, figsize=(2,4), sharey=True)\n",
    "ax2 = ax1.twinx()\n",
    "# ticks = [40.540139,41.3099, 41.6108, 42.9446, 43.7221, 44.103449, 44.6743, 45.3736, 46.1914, 46.8523, 48.1119, 48.7767]\n",
    "# labels = ['Jefferson', 'Jefferson', 'Med Lake', 'Crater Lake', 'Newberry', '3 Sisters', 'Mt. Jeff', 'Mt. Hood', 'MSH', 'Rainier', 'Glac. Pk.', 'Mt. Baker']\n",
    "# ax2.set_xticks(ticks, minor=False)\n",
    "# ax2.set_xticklabels(labels, fontdict=None, minor=False, rotation=90)\n",
    "#ax1.set_xlim([40, 49])\n",
    "volc_order=[ \"Jeff\"]\n",
    "sns.violinplot(x=\"Sample_ID_Cpx\", y=\"Preferred_P\",  cut=0,  inner=None, hue=\"Model\",\n",
    "            data=Combo_Cpx, split=True, ax=ax1, width=0.9, order=volc_order, stick=True)\n",
    "\n",
    "ax1.plot(-0.1+0*Combo_Cpx['Preferred_P'].loc[(Combo_Cpx['Model']==\"Wang\")\n",
    "                                        &(Combo_Cpx[\"Sample_ID_Cpx\"]==\"Jeff\")],\n",
    "      Combo_Cpx['Preferred_P'].loc[(Combo_Cpx['Model']==\"Wang\")\n",
    "                                        &(Combo_Cpx[\"Sample_ID_Cpx\"]==\"Jeff\")],  \n",
    "         'xb')\n",
    "\n",
    "ax1.plot(0.1+0*Combo_Cpx['Preferred_P'].loc[(Combo_Cpx['Model']==\"Jorgenson\")\n",
    "                                        &(Combo_Cpx[\"Sample_ID_Cpx\"]==\"Jeff\")],\n",
    "      Combo_Cpx['Preferred_P'].loc[(Combo_Cpx['Model']==\"Jorgenson\")\n",
    "                                        &(Combo_Cpx[\"Sample_ID_Cpx\"]==\"Jeff\")],  \n",
    "         'xr')\n",
    "\n",
    "ax1.plot(-0.1,\n",
    "      np.nanmedian(Combo_Cpx['Preferred_P'].loc[(Combo_Cpx['Model']==\"Wang\")\n",
    "                                        &(Combo_Cpx[\"Sample_ID_Cpx\"]==\"Jeff\")]),  \n",
    "         '*k', mfc='w', ms=20)\n",
    "\n",
    "ax1.plot(0.1,\n",
    "      np.nanmedian(Combo_Cpx['Preferred_P'].loc[(Combo_Cpx['Model']==\"Jorgenson\")\n",
    "                                        &(Combo_Cpx[\"Sample_ID_Cpx\"]==\"Jeff\")]),  \n",
    "         '*k', mfc='w', ms=20)\n",
    "\n",
    "ax1.plot(0.9+0*Combo_Cpx['Preferred_P'].loc[(Combo_Cpx['Model']==\"Wang\")\n",
    "                                        &(Combo_Cpx[\"Sample_ID_Cpx\"]==\"Jefferson domefield\")],\n",
    "      Combo_Cpx['Preferred_P'].loc[(Combo_Cpx['Model']==\"Wang\")\n",
    "                                        &(Combo_Cpx[\"Sample_ID_Cpx\"]==\"Jefferson domefield\")],  \n",
    "         'xb')\n",
    "\n",
    "ax1.plot(1.1+0*Combo_Cpx['Preferred_P'].loc[(Combo_Cpx['Model']==\"Jorgenson\")\n",
    "                                        &(Combo_Cpx[\"Sample_ID_Cpx\"]==\"Jefferson domefield\")],\n",
    "      Combo_Cpx['Preferred_P'].loc[(Combo_Cpx['Model']==\"Jorgenson\")\n",
    "                                        &(Combo_Cpx[\"Sample_ID_Cpx\"]==\"Jefferson domefield\")],  \n",
    "         'xr')\n",
    "\n",
    "ax1.plot(0.9,\n",
    "      np.nanmedian(Combo_Cpx['Preferred_P'].loc[(Combo_Cpx['Model']==\"Wang\")\n",
    "                                        &(Combo_Cpx[\"Sample_ID_Cpx\"]==\"Jefferson domefield\")]),  \n",
    "         '*k', mfc='w', ms=20)\n",
    "\n",
    "ax1.plot(1.1,\n",
    "      np.nanmedian(Combo_Cpx['Preferred_P'].loc[(Combo_Cpx['Model']==\"Jorgenson\")\n",
    "                                        &(Combo_Cpx[\"Sample_ID_Cpx\"]==\"Jefferson domefield\")]),  \n",
    "         '*k', mfc='w', ms=20)\n",
    "\n",
    "ax1.plot([-1, 5], [0, 0], '-k', lw=0.5)\n",
    "ax1.set_ylim([P_axis_max, P_axis_min])\n",
    "ax2.set_ylim([D_axis_max, D_axis_min])\n",
    "ax1.set_xlim([-0.5, 0.5])\n",
    "ax1.get_legend().remove()\n",
    "ax1.set_xlabel(None)\n",
    "ax1.set_ylabel(None)\n",
    "ax1.tick_params(direction=\"in\")\n",
    "ax2.tick_params(direction=\"in\")\n",
    "ax1.grid(color = 'k', linestyle = '--', axis='y',linewidth = 1, alpha = 0.1, zorder=0)\n",
    "ax2.set_yticks([])\n",
    "ax1.set_xticks([])\n",
    "ax1.errorbar(-0.4, 4, xerr=0, yerr=2.4,  ecolor='blue', elinewidth=1.5, fmt='none', capsize=4, mec='k')\n",
    "ax1.errorbar(-0.35, 4, xerr=0, yerr=1.9,  ecolor='darkorange', elinewidth=1.5, fmt='none', capsize=4, mec='k')\n",
    "\n",
    "\n",
    "fig.savefig('Jefferson_Cpx.png', dpi=200)"
   ]
  },
  {
   "cell_type": "code",
   "execution_count": 7,
   "id": "f208ac5d-b53c-4b19-840e-19f409996700",
   "metadata": {},
   "outputs": [
    {
     "data": {
      "text/plain": [
       "2.4777974126113733"
      ]
     },
     "execution_count": 7,
     "metadata": {},
     "output_type": "execute_result"
    }
   ],
   "source": [
    "np.nanmedian(Combo_Cpx['Preferred_P'].loc[(Combo_Cpx['Model']==\"Wang\")\n",
    "                                        &(Combo_Cpx[\"Sample_ID_Cpx\"]==\"Jeff\")])"
   ]
  },
  {
   "cell_type": "code",
   "execution_count": 8,
   "id": "b154e06b-5147-469c-96d6-fb97354ecb30",
   "metadata": {},
   "outputs": [
    {
     "data": {
      "text/plain": [
       "1.974848258706468"
      ]
     },
     "execution_count": 8,
     "metadata": {},
     "output_type": "execute_result"
    }
   ],
   "source": [
    "np.nanmedian(Combo_Cpx['Preferred_P'].loc[(Combo_Cpx['Model']==\"Jorgenson\")\n",
    "                                        &(Combo_Cpx[\"Sample_ID_Cpx\"]==\"Jeff\")])"
   ]
  },
  {
   "cell_type": "code",
   "execution_count": 9,
   "id": "31c3fc56-2d75-4ece-9aed-86b4242cdcac",
   "metadata": {},
   "outputs": [
    {
     "name": "stderr",
     "output_type": "stream",
     "text": [
      "g:\\my drive\\postdoc\\pymme\\mybarometers\\thermobar_outer\\src\\Thermobar\\core.py:1561: FutureWarning: In a future version, the Index constructor will not infer numeric dtypes when passed object-dtype sequences (matching Series behavior)\n",
      "  cpx_calc.loc[(AlVI_minus_Na<0), 'Jd']=cpx_calc['Al_VI_cat_6ox']\n"
     ]
    }
   ],
   "source": [
    "Cpx_compnts=pt.calculate_clinopyroxene_components(cpx_comps=Jefferson_Cpx)"
   ]
  },
  {
   "cell_type": "code",
   "execution_count": 10,
   "id": "d316f578-dc15-4a96-8c5c-532162e47cf1",
   "metadata": {},
   "outputs": [
    {
     "data": {
      "text/plain": [
       "[<matplotlib.lines.Line2D at 0x24f70c485b0>]"
      ]
     },
     "execution_count": 10,
     "metadata": {},
     "output_type": "execute_result"
    },
    {
     "data": {
      "image/png": "[encoded data removed]",
      "text/plain": [
       "<Figure size 640x480 with 1 Axes>"
      ]
     },
     "metadata": {},
     "output_type": "display_data"
    }
   ],
   "source": [
    "plt.plot(Cpx_compnts['Mgno_Cpx'], WangCopy['P_Wang21_eq1'], '.r')"
   ]
  },
  {
   "cell_type": "markdown",
   "id": "5ecd2305-8966-4812-927a-9279747a2ea3",
   "metadata": {},
   "source": [
    "## Opx - Cpx Barometry"
   ]
  },
  {
   "cell_type": "code",
   "execution_count": 11,
   "id": "9509a8b7-0581-4c7e-8b1c-fc0317b3e7bd",
   "metadata": {},
   "outputs": [],
   "source": [
    "Jefferson_read_Cpx_Opx=pt.import_excel(r'../../Stitching_Mineral_Data/Jefferson.xlsx', sheet_name='Cpx_Opx_Pairs')\n",
    "Jefferson_Input_Cpx_Opx=Jefferson_read_Cpx_Opx['my_input']\n",
    "Jefferson_Cpx_pairs=Jefferson_read_Cpx_Opx['Cpxs']\n",
    "Jefferson_Opx_pairs=Jefferson_read_Cpx_Opx['Opxs']\n",
    "Jefferson_Cpx_pairs['Sample_ID_Cpx']=Jefferson_Input_Cpx_Opx['Formation']\n",
    "\n",
    "# Same filters as used for Cpx. \n",
    "import warnings as w\n",
    "with w.catch_warnings():\n",
    "    w.simplefilter('ignore')\n",
    "    Jefferson_cpx_comps=pt.calculate_clinopyroxene_components(cpx_comps=Jefferson_Cpx_pairs)\n",
    "    Jefferson_opx_comps=pt.calculate_orthopyroxene_components(opx_comps=Jefferson_Opx_pairs)\n",
    "    \n",
    "    Cat_Sum_Filt_cpx=(Jefferson_cpx_comps['Cation_Sum_Cpx'].between(3.95, 4.05))\n",
    "    Cat_Sum_Filt_opx=(Jefferson_cpx_comps['Cation_Sum_Cpx'].between(3.95, 4.05))\n",
    "    \n",
    "    Ca_Filt_Opx=Jefferson_opx_comps['Ca_CaMgFe'].between(-0.2, 0.06)\n",
    "    Ca_Filt_Cpx=Jefferson_cpx_comps['Ca_CaMgFe'].between(0.2, 0.5)\n",
    "    HighMgno=Jefferson_cpx_comps['Mgno_Cpx']>0.68\n",
    "    \n",
    "    Jefferson_Cpx_pairs_Filt=Jefferson_Cpx_pairs.loc[HighMgno&Ca_Filt_Opx&Ca_Filt_Cpx&Cat_Sum_Filt_cpx&Cat_Sum_Filt_opx].reset_index(drop=True)\n",
    "    Jefferson_Opx_pairs_Filt=Jefferson_Opx_pairs.loc[HighMgno&Ca_Filt_Opx&Ca_Filt_Cpx&Cat_Sum_Filt_cpx&Cat_Sum_Filt_opx].reset_index(drop=True)\n",
    "    Jefferson_All_Filt=Jefferson_Input_Cpx_Opx.loc[HighMgno&Ca_Filt_Opx&Ca_Filt_Cpx&Cat_Sum_Filt_cpx&Cat_Sum_Filt_opx].reset_index(drop=True)\n",
    "    \n",
    "\n",
    "\n",
    "\n",
    "#More than Mg#75\n",
    "Jefferson_cpx_opx_36_39=pt.calculate_cpx_opx_press_temp(cpx_comps=Jefferson_Cpx_pairs_Filt, \n",
    "                                                   opx_comps=Jefferson_Opx_pairs_Filt,\n",
    "                                                         eq_tests=True,\n",
    "                                                   equationP=\"P_Put2008_eq39\",\n",
    "                                                  equationT=\"T_Put2008_eq36\")\n",
    "\n",
    "Jefferson_cpx_opx_36_39['Preferred_P']=Jefferson_cpx_opx_36_39.P_kbar_calc\n",
    "Jefferson_cpx_opx_36_39['Model']=\"36-39\"\n",
    "\n",
    "Jefferson_cpx_opx_37_39=pt.calculate_cpx_opx_press_temp(cpx_comps=Jefferson_Cpx_pairs_Filt, \n",
    "                                                   opx_comps=Jefferson_Opx_pairs_Filt,\n",
    "                                                         eq_tests=True,\n",
    "                                                   equationP=\"P_Put2008_eq39\",\n",
    "                                                  equationT=\"T_Put2008_eq37\")\n",
    "\n",
    "Jefferson_cpx_opx_37_39['Preferred_P']=Jefferson_cpx_opx_37_39.P_kbar_calc\n",
    "Jefferson_cpx_opx_37_39['Model']=\"37-39\"\n",
    "Jefferson_cpx_opx_37_39_reas=Jefferson_cpx_opx_37_39.P_kbar_calc.between(-20, 20)\n",
    "Jefferson_cpx_opx_36_39_reas=Jefferson_cpx_opx_36_39.P_kbar_calc.between(-20, 20)\n",
    "\n",
    "Jefferson_cpx_opx_combo=pd.concat([Jefferson_cpx_opx_37_39.loc[Jefferson_cpx_opx_37_39_reas&Jefferson_cpx_opx_36_39_reas],\n",
    "                                   Jefferson_cpx_opx_36_39.loc[Jefferson_cpx_opx_37_39_reas&Jefferson_cpx_opx_36_39_reas]], axis=0)\n",
    "Jefferson_cpx_opx_combo['Sample_ID_Cpx']=\"Jeff\""
   ]
  },
  {
   "cell_type": "code",
   "execution_count": null,
   "id": "4877d4b5-b6d6-4269-a437-39e49df211db",
   "metadata": {},
   "outputs": [
    {
     "data": {
      "text/plain": [
       "25"
      ]
     },
     "execution_count": 12,
     "metadata": {},
     "output_type": "execute_result"
    }
   ],
   "source": [
    "len(Jefferson_Cpx_pairs)"
   ]
  },
  {
   "cell_type": "code",
   "execution_count": null,
   "id": "ce81a0ed-116a-40f6-8bac-04e14d92d0bb",
   "metadata": {},
   "outputs": [
    {
     "data": {
      "text/plain": [
       "23"
      ]
     },
     "execution_count": 13,
     "metadata": {},
     "output_type": "execute_result"
    }
   ],
   "source": [
    "sum(Jefferson_cpx_opx_37_39_reas)"
   ]
  },
  {
   "cell_type": "code",
   "execution_count": null,
   "id": "3043346c-21f6-42a4-b14d-045417358d16",
   "metadata": {},
   "outputs": [
    {
     "data": {
      "text/plain": [
       "23"
      ]
     },
     "execution_count": 14,
     "metadata": {},
     "output_type": "execute_result"
    }
   ],
   "source": [
    "sum(Jefferson_cpx_opx_36_39_reas)"
   ]
  },
  {
   "cell_type": "code",
   "execution_count": null,
   "id": "cf62ff6c-3235-42f5-8ca8-211625e66788",
   "metadata": {},
   "outputs": [
    {
     "data": {
      "text/plain": [
       "(46, 100)"
      ]
     },
     "execution_count": 15,
     "metadata": {},
     "output_type": "execute_result"
    }
   ],
   "source": [
    "np.shape(Jefferson_cpx_opx_combo)"
   ]
  },
  {
   "cell_type": "code",
   "execution_count": null,
   "id": "6eb79aae-70df-4dac-8cde-ca2e947a29ab",
   "metadata": {},
   "outputs": [
    {
     "data": {
      "text/plain": [
       "(0.0, 15.0)"
      ]
     },
     "execution_count": 16,
     "metadata": {},
     "output_type": "execute_result"
    },
    {
     "data": {
      "image/png": "[encoded data removed]",
      "text/plain": [
       "<Figure size 640x480 with 1 Axes>"
      ]
     },
     "metadata": {},
     "output_type": "display_data"
    }
   ],
   "source": [
    "plt.plot(Jefferson_cpx_opx_37_39['Kd_Fe_Mg_Cpx_Opx'], Jefferson_cpx_opx_37_39.P_kbar_calc, 'ok')\n",
    "plt.plot(Jefferson_cpx_opx_36_39['Kd_Fe_Mg_Cpx_Opx'], Jefferson_cpx_opx_36_39.P_kbar_calc, '.r')\n",
    "plt.ylim([0, 15])"
   ]
  },
  {
   "cell_type": "code",
   "execution_count": 18,
   "id": "59084433-4d8f-4961-a7ff-94809bfdc7b7",
   "metadata": {},
   "outputs": [
    {
     "data": {
      "image/png": "[encoded data removed]",
      "text/plain": [
       "<Figure size 200x400 with 2 Axes>"
      ]
     },
     "metadata": {},
     "output_type": "display_data"
    }
   ],
   "source": [
    "import seaborn as sns\n",
    "fig, (ax1) = plt.subplots(1, 1, figsize=(2,4), sharey=True)\n",
    "ax2 = ax1.twinx()\n",
    "\n",
    "# ticks = [40.540139,41.3099, 41.6108, 42.9446, 43.7221, 44.103449, 44.6743, 45.3736, 46.1914, 46.8523, 48.1119, 48.7767]\n",
    "# labels = ['Jefferson', 'Jefferson', 'Med Lake', 'Crater Lake', 'Newberry', '3 Sisters', 'Mt. Jeff', 'Mt. Hood', 'MSH', 'Rainier', 'Glac. Pk.', 'Mt. Baker']\n",
    "# ax2.set_xticks(ticks, minor=False)\n",
    "# ax2.set_xticklabels(labels, fontdict=None, minor=False, rotation=90)\n",
    "#ax1.set_xlim([40, 49])\n",
    "volc_order=[ \"Jeff\"]\n",
    "sns.violinplot(x=\"Sample_ID_Cpx\", y=\"Preferred_P\",  cut=0,  inner=None, hue=\"Model\",\n",
    "            data=Jefferson_cpx_opx_combo, split=True, ax=ax1, width=0.9, order=volc_order, \n",
    "               stick=True, palette=['lightblue', 'lightgrey'])\n",
    "\n",
    "ax1.plot(-0.1+0*Jefferson_cpx_opx_combo['Preferred_P'].loc[(Jefferson_cpx_opx_combo['Model']==\"37-39\")\n",
    "                                        &(Jefferson_cpx_opx_combo[\"Sample_ID_Cpx\"]==\"Jeff\")],\n",
    "      Jefferson_cpx_opx_combo['Preferred_P'].loc[(Jefferson_cpx_opx_combo['Model']==\"37-39\")\n",
    "                                        &(Jefferson_cpx_opx_combo[\"Sample_ID_Cpx\"]==\"Jeff\")],  \n",
    "         'xb')\n",
    "\n",
    "ax1.plot(0.1+0*Jefferson_cpx_opx_combo['Preferred_P'].loc[(Jefferson_cpx_opx_combo['Model']==\"36-39\")\n",
    "                                        &(Jefferson_cpx_opx_combo[\"Sample_ID_Cpx\"]==\"Jeff\")],\n",
    "      Jefferson_cpx_opx_combo['Preferred_P'].loc[(Jefferson_cpx_opx_combo['Model']==\"36-39\")\n",
    "                                        &(Jefferson_cpx_opx_combo[\"Sample_ID_Cpx\"]==\"Jeff\")],  \n",
    "         'x', mec='k')\n",
    "\n",
    "ax1.plot(-0.1,\n",
    "      np.nanmedian(Jefferson_cpx_opx_combo['Preferred_P'].loc[(Jefferson_cpx_opx_combo['Model']==\"37-39\")\n",
    "                                        &(Jefferson_cpx_opx_combo[\"Sample_ID_Cpx\"]==\"Jeff\")]),  \n",
    "         '*k', mfc='w', ms=20)\n",
    "\n",
    "ax1.plot(0.1,\n",
    "      np.nanmedian(Jefferson_cpx_opx_combo['Preferred_P'].loc[(Jefferson_cpx_opx_combo['Model']==\"36-39\")\n",
    "                                        &(Jefferson_cpx_opx_combo[\"Sample_ID_Cpx\"]==\"Jeff\")]),  \n",
    "         '*k', mfc='w', ms=20)\n",
    "\n",
    "ax1.legend()\n",
    "\n",
    "ax1.plot([-1, 5], [0, 0], '-k', lw=0.5)\n",
    "ax1.set_ylim([P_axis_max, P_axis_min])\n",
    "ax2.set_ylim([D_axis_max, D_axis_min])\n",
    "ax1.set_xlim([-0.55, 0.5])\n",
    "ax1.get_legend().remove()\n",
    "ax1.set_xlabel(None)\n",
    "ax1.set_ylabel(None)\n",
    "ax1.tick_params(direction=\"in\")\n",
    "ax2.tick_params(direction=\"in\")\n",
    "ax1.grid(color = 'k', linestyle = '--', axis='y',linewidth = 1, alpha = 0.1, zorder=0)\n",
    "ax2.set_yticks([])\n",
    "ax1.errorbar(-0.45, 5, xerr=0, yerr=3.69,  ecolor='cornflowerblue', elinewidth=1.5, fmt='none', capsize=4, mec='k')\n",
    "ax1.errorbar(-0.4, 5, xerr=0, yerr=4.12, ecolor='grey', elinewidth=1.5, fmt='none', capsize=4, mec='k')\n",
    "\n",
    "fig.savefig('Jefferson_Cpx_Opx.png', dpi=200)"
   ]
  },
  {
   "cell_type": "code",
   "execution_count": null,
   "id": "21aac1eb-4cd8-497e-a9a3-1f8e87cec0ca",
   "metadata": {},
   "outputs": [
    {
     "name": "stdout",
     "output_type": "stream",
     "text": [
      "6.721425695093178\n"
     ]
    }
   ],
   "source": [
    "print(np.nanmedian(Jefferson_cpx_opx_combo['Preferred_P'].loc[(Jefferson_cpx_opx_combo['Model']==\"37-39\")\n",
    "                                        &(Jefferson_cpx_opx_combo[\"Sample_ID_Cpx\"]==\"Jeff\")]))"
   ]
  },
  {
   "cell_type": "code",
   "execution_count": null,
   "id": "a341cca2-580c-4198-b890-4aafbd15f338",
   "metadata": {},
   "outputs": [
    {
     "name": "stdout",
     "output_type": "stream",
     "text": [
      "5.653119752898307\n"
     ]
    }
   ],
   "source": [
    "print(np.nanmedian(Jefferson_cpx_opx_combo['Preferred_P'].loc[(Jefferson_cpx_opx_combo['Model']==\"36-39\")\n",
    "                                        &(Jefferson_cpx_opx_combo[\"Sample_ID_Cpx\"]==\"Jeff\")]))"
   ]
  },
  {
   "cell_type": "markdown",
   "id": "b6db67a1-1597-4573-b3aa-7c91e8d39851",
   "metadata": {},
   "source": [
    "## NO LPS"
   ]
  },
  {
   "cell_type": "markdown",
   "id": "73d6e058-65fe-47c4-9925-6b0768b58720",
   "metadata": {},
   "source": [
    "## Amp"
   ]
  },
  {
   "cell_type": "code",
   "execution_count": 21,
   "id": "0722c122-01b6-4342-8d7b-d57560f9170d",
   "metadata": {},
   "outputs": [
    {
     "name": "stderr",
     "output_type": "stream",
     "text": [
      "C:\\Users\\penny\\AppData\\Local\\Temp\\ipykernel_25788\\3544960376.py:4: SettingWithCopyWarning: \n",
      "A value is trying to be set on a copy of a slice from a DataFrame.\n",
      "Try using .loc[row_indexer,col_indexer] = value instead\n",
      "\n",
      "See the caveats in the documentation: https://pandas.pydata.org/pandas-docs/stable/user_guide/indexing.html#returning-a-view-versus-a-copy\n",
      "  Jefferson_Amp['Sample_ID_Amp']=\"Jefferson\"\n",
      "C:\\Users\\penny\\AppData\\Local\\Temp\\ipykernel_25788\\3544960376.py:9: SettingWithCopyWarning: \n",
      "A value is trying to be set on a copy of a slice from a DataFrame.\n",
      "Try using .loc[row_indexer,col_indexer] = value instead\n",
      "\n",
      "See the caveats in the documentation: https://pandas.pydata.org/pandas-docs/stable/user_guide/indexing.html#returning-a-view-versus-a-copy\n",
      "  Jefferson_Amp_Filt['Sample_ID_Amp']=\"Jefferson\"\n",
      "C:\\Users\\penny\\AppData\\Local\\Temp\\ipykernel_25788\\3544960376.py:10: SettingWithCopyWarning: \n",
      "A value is trying to be set on a copy of a slice from a DataFrame.\n",
      "Try using .loc[row_indexer,col_indexer] = value instead\n",
      "\n",
      "See the caveats in the documentation: https://pandas.pydata.org/pandas-docs/stable/user_guide/indexing.html#returning-a-view-versus-a-copy\n",
      "  Jefferson_Amp['Class']='Unfilt'\n",
      "C:\\Users\\penny\\AppData\\Local\\Temp\\ipykernel_25788\\3544960376.py:11: SettingWithCopyWarning: \n",
      "A value is trying to be set on a copy of a slice from a DataFrame.\n",
      "Try using .loc[row_indexer,col_indexer] = value instead\n",
      "\n",
      "See the caveats in the documentation: https://pandas.pydata.org/pandas-docs/stable/user_guide/indexing.html#returning-a-view-versus-a-copy\n",
      "  Jefferson_Amp_Filt['Class']='filt'\n"
     ]
    },
    {
     "name": "stdout",
     "output_type": "stream",
     "text": [
      "247\n",
      "247\n"
     ]
    },
    {
     "data": {
      "image/png": "[encoded data removed]",
      "text/plain": [
       "<Figure size 200x393 with 2 Axes>"
      ]
     },
     "metadata": {},
     "output_type": "display_data"
    }
   ],
   "source": [
    "\n",
    "with open(r'../Combo_Amp.pkl', 'rb') as f:\n",
    "            All_Amp=load(f)\n",
    "Jefferson_Amp=All_Amp.loc[All_Amp['Volcano']==\"Jefferson\"]\n",
    "Jefferson_Amp['Sample_ID_Amp']=\"Jefferson\"\n",
    "\n",
    "with open(r'../Combo_Amp_Filt.pkl', 'rb') as f:\n",
    "            All_Amp_Filt=load(f)\n",
    "Jefferson_Amp_Filt=All_Amp_Filt.loc[All_Amp_Filt['Volcano']==\"Jefferson\"]\n",
    "Jefferson_Amp_Filt['Sample_ID_Amp']=\"Jefferson\"\n",
    "Jefferson_Amp['Class']='Unfilt'\n",
    "Jefferson_Amp_Filt['Class']='filt'\n",
    "\n",
    "Combo_Amp=pd.concat([Jefferson_Amp_Filt, Jefferson_Amp], axis=0)\n",
    "\n",
    "print(sum(Jefferson_Amp['P_kbar_calc']>-10))\n",
    "print(sum(Jefferson_Amp_Filt['P_kbar_calc']>-10))\n",
    "\n",
    "import seaborn as sns\n",
    "fig, (ax1) = plt.subplots(1, 1, figsize=(2,3.93), sharey=True)\n",
    "ax2 = ax1.twinx()\n",
    "\n",
    "\n",
    "# ax = sns.violinplot(y=Jefferson_Amp['P_Ridolfi21'],\n",
    "#                 inner=None, cut=0, ax=ax1, color=\"lightgreen\", linewidth=0.5)\n",
    "sns.violinplot(x=\"Volcano\", y=\"P_Ridolfi21\",  cut=0,  inner=None, hue=\"Class\",\n",
    "            data=Combo_Amp, split=True, ax=ax1, width=0.9,  palette=['lightgreen', 'grey'],\n",
    "               stick=True)\n",
    "\n",
    "\n",
    "ax1.plot(-0.1+0*Jefferson_Amp_Filt['P_Ridolfi21'],\n",
    "  Jefferson_Amp_Filt['P_Ridolfi21'],\n",
    "         'x', mec='grey')\n",
    "ax1.plot(+0.1+0*Jefferson_Amp['P_Ridolfi21'],\n",
    "  Jefferson_Amp['P_Ridolfi21'],\n",
    "         'x', mec='black')\n",
    "\n",
    "ax1.plot(-0.1,\n",
    "  np.nanmedian(Jefferson_Amp_Filt['P_Ridolfi21']),\n",
    "         '*k', mfc='w', ms=20)\n",
    "\n",
    "ax1.plot(+0.1,\n",
    "  np.nanmedian(Jefferson_Amp['P_Ridolfi21']),\n",
    "         '*k', mfc='w', ms=20)\n",
    "ax1.get_legend().remove()\n",
    "ax1.plot([-1, 5], [0, 0], '-k', lw=0.5)\n",
    "ax1.set_ylim([P_axis_max, P_axis_min])\n",
    "ax2.set_ylim([D_axis_max, D_axis_min])\n",
    "ax1.set_xlim([-0.55, 0.5])\n",
    "ax1.set_xlabel(None)\n",
    "ax1.set_ylabel(None)\n",
    "\n",
    "ax1.tick_params(direction=\"in\")\n",
    "ax2.tick_params(direction=\"in\")\n",
    "ax2.set_yticks([])\n",
    "ax1.set_xticks([])\n",
    "ax1.grid(color = 'k', linestyle = '--', axis='y',linewidth = 1, alpha = 0.1, zorder=0)\n",
    "ax1.errorbar(-0.5, 4, xerr=0, yerr=2.7,  ecolor='black', elinewidth=1.5, ms=0, capsize=4, mec='k')\n",
    "\n",
    "\n",
    "\n",
    "fig.savefig('Jefferson_Amp.png', dpi=200)"
   ]
  },
  {
   "cell_type": "code",
   "execution_count": null,
   "id": "f722dc6d-ff6b-438f-ba0a-ebfb08323e0a",
   "metadata": {},
   "outputs": [
    {
     "data": {
      "text/plain": [
       "3.0777624112497204"
      ]
     },
     "execution_count": 22,
     "metadata": {},
     "output_type": "execute_result"
    }
   ],
   "source": [
    "np.nanmedian(Jefferson_Amp_Filt['P_Ridolfi21'])"
   ]
  },
  {
   "cell_type": "code",
   "execution_count": null,
   "id": "f0398ba9-5843-431a-85c8-05903f1d6d5b",
   "metadata": {},
   "outputs": [
    {
     "data": {
      "image/png": "[encoded data removed]",
      "text/plain": [
       "<Figure size 144x288 with 2 Axes>"
      ]
     },
     "metadata": {
      "needs_background": "light"
     },
     "output_type": "display_data"
    }
   ],
   "source": [
    "import seaborn as sns\n",
    "fig, (ax1) = plt.subplots(1, 1, figsize=(2,4), sharey=True)\n",
    "ax2 = ax1.twinx()\n",
    "\n",
    "\n",
    "ax = sns.violinplot(y=Jefferson_Amp['P_Ridolfi21'],\n",
    "                inner=None, cut=0, ax=ax1, color=\"lightgreen\", linewidth=0.5)\n",
    "\n",
    "\n",
    "ax1.plot(0*Jefferson_Amp['P_Ridolfi21'],\n",
    "  Jefferson_Amp['P_Ridolfi21'],\n",
    "         'x', mec='green')\n",
    "\n",
    "ax1.plot(0,\n",
    "  np.nanmedian(Jefferson_Amp['P_Ridolfi21']),\n",
    "         '*k', mfc='w', ms=20)\n",
    "\n",
    "ax1.plot([-1, 5], [0, 0], '-k', lw=0.5)\n",
    "ax1.set_ylim([P_axis_max, P_axis_min])\n",
    "ax2.set_ylim([D_axis_max, D_axis_min])\n",
    "ax1.set_xlim([-0.5, 0.5])\n",
    "ax1.set_xlabel(None)\n",
    "ax1.set_ylabel(None)\n",
    "\n",
    "ax1.tick_params(direction=\"in\")\n",
    "ax2.tick_params(direction=\"in\")\n",
    "ax2.set_yticks([])\n",
    "ax1.set_xticks([])\n",
    "ax1.grid(color = 'k', linestyle = '--', axis='y',linewidth = 1, alpha = 0.1, zorder=0)\n",
    "\n",
    "\n",
    "fig.savefig('Jefferson_Amp.png', dpi=200)"
   ]
  },
  {
   "cell_type": "markdown",
   "id": "6e45a011-023a-4bff-ad06-e481b53d30ba",
   "metadata": {},
   "source": [
    "## Raw template for geophysics and Exp Pet"
   ]
  },
  {
   "cell_type": "code",
   "execution_count": null,
   "id": "2abcd680-574d-459f-93bc-01dc58c3f12d",
   "metadata": {},
   "outputs": [
    {
     "name": "stderr",
     "output_type": "stream",
     "text": [
      "C:\\Users\\penny\\anaconda3\\lib\\site-packages\\sklearn\\base.py:329: UserWarning: Trying to unpickle estimator SVC from version 0.24.1 when using version 1.0.2. This might lead to breaking code or invalid results. Use at your own risk. For more info please refer to:\n",
      "https://scikit-learn.org/stable/modules/model_persistence.html#security-maintainability-limitations\n",
      "  warnings.warn(\n",
      "C:\\Users\\penny\\anaconda3\\lib\\site-packages\\sklearn\\base.py:329: UserWarning: Trying to unpickle estimator StandardScaler from version 0.24.1 when using version 1.0.2. This might lead to breaking code or invalid results. Use at your own risk. For more info please refer to:\n",
      "https://scikit-learn.org/stable/modules/model_persistence.html#security-maintainability-limitations\n",
      "  warnings.warn(\n"
     ]
    },
    {
     "name": "stdout",
     "output_type": "stream",
     "text": [
      "['Amp' 'Px' 'Not Classified - Total>110']\n"
     ]
    }
   ],
   "source": [
    "## Same for amphibole\n",
    "\n",
    "Jefferson_read_Amp=pt.import_excel('Jefferson.xlsx', sheet_name='Amp_All')\n",
    "Jefferson_Input_Amp=Jefferson_read_Amp['my_input']\n",
    "Jefferson_Amp=Jefferson_read_Amp['Amps']\n",
    "Jefferson_Amp['Sample_ID_Amp']=\"Jeff\"\n",
    "Jefferson_Amp_copy=Jefferson_Amp.copy()\n",
    "Jefferson_Amp_comps=pt.get_amp_sites_from_input(amp_comps=Jefferson_Amp)\n",
    "# Are a few outside 3.95 to 4.05 Cat sums, CaCaMgFe lies 0.3 - 0.55\n",
    "Jefferson_Amp_filt1=Jefferson_Amp.loc[( (Jefferson_Amp_comps['cation_sum_All'].between(15, 16)) )]\n",
    "Jefferson_Amp_class=pt.classify_phases(df=Jefferson_Amp_filt1, return_end_members=True,\n",
    "                        str_to_drop='_Amp')\n",
    "print(Jefferson_Amp_class['Phase_Min_Group_ML'].unique())\n",
    "Jefferson_Amp_filt=Jefferson_Amp_filt1.loc[Jefferson_Amp_class['Phase_Min_Group_ML']==\"Amp\"].reset_index(drop=True)\n",
    "Jefferson_Amp_Press_NoFilter=pt.calculate_amp_only_press(amp_comps=Jefferson_Amp_filt, \n",
    "                        Ridolfi_Filter=False, equationP=\"P_Ridolfi2021\")\n",
    "Jefferson_Amp_Press_Filter=pt.calculate_amp_only_press(amp_comps=Jefferson_Amp_filt, \n",
    "                        Ridolfi_Filter=True, equationP=\"P_Ridolfi2021\")\n",
    "\n",
    "Amp_in_Filter=Jefferson_Input_Amp.loc[( (Jefferson_Amp_comps['cation_sum_All'].between(15, 16)) )\n",
    "                                      &\n",
    "                                      (Jefferson_Amp_class['Phase_Min_Group_ML']==\"Amp\")].reset_index(drop=True)\n",
    "                                      "
   ]
  },
  {
   "cell_type": "code",
   "execution_count": null,
   "id": "0c40be9e-ae71-4998-9ce7-52c8a0e2d835",
   "metadata": {},
   "outputs": [
    {
     "data": {
      "text/plain": [
       "298"
      ]
     },
     "execution_count": 6,
     "metadata": {},
     "output_type": "execute_result"
    }
   ],
   "source": [
    "len(Jefferson_Amp_Press_NoFilter)"
   ]
  },
  {
   "cell_type": "code",
   "execution_count": null,
   "id": "f75c362c-6356-41e1-8533-8bfbf38a4c4b",
   "metadata": {},
   "outputs": [
    {
     "data": {
      "text/plain": [
       "[<matplotlib.lines.Line2D at 0x26c5a065ee0>]"
      ]
     },
     "execution_count": 27,
     "metadata": {},
     "output_type": "execute_result"
    },
    {
     "data": {
      "image/png": "[encoded data removed]",
      "text/plain": [
       "<Figure size 432x288 with 1 Axes>"
      ]
     },
     "metadata": {
      "needs_background": "light"
     },
     "output_type": "display_data"
    }
   ],
   "source": [
    "plt.plot(\n",
    "         (Jefferson_Amp_filt['MgO_Amp']/40.3044)/(Jefferson_Amp_filt['MgO_Amp']/40.3044+Jefferson_Amp_filt['FeOt_Amp']/71.844),\n",
    "    Jefferson_Amp_Press_NoFilter['P_kbar_calc'], 'ok')"
   ]
  },
  {
   "cell_type": "code",
   "execution_count": null,
   "id": "209fe8f4-df37-4af2-befd-5c45109198c8",
   "metadata": {},
   "outputs": [
    {
     "name": "stderr",
     "output_type": "stream",
     "text": [
      "c:\\users\\penny\\onedrive - oregon state university\\postdoc\\pymme\\mybarometers\\thermobar_outer\\src\\Thermobar\\amphibole.py:229: UserWarning: You must enter a value for T in Kelvin to get results from equation3 and 5 from Zhang, and SiO2 from Putrka (2016)\n",
      "  w.warn('You must enter a value for T in Kelvin to get results from equation3 and 5 from Zhang, and SiO2 from Putrka (2016)')\n"
     ]
    }
   ],
   "source": [
    "Amp_Chem=pt.calculate_amp_only_melt_comps(amp_comps=Jefferson_Amp_filt)"
   ]
  },
  {
   "cell_type": "code",
   "execution_count": null,
   "id": "01277fd4-71d1-422f-99eb-84d72c944eb7",
   "metadata": {},
   "outputs": [
    {
     "data": {
      "text/plain": [
       "[<matplotlib.lines.Line2D at 0x26c59edaa60>]"
      ]
     },
     "execution_count": 29,
     "metadata": {},
     "output_type": "execute_result"
    },
    {
     "data": {
      "image/png": "[encoded data removed]",
      "text/plain": [
       "<Figure size 720x360 with 2 Axes>"
      ]
     },
     "metadata": {
      "needs_background": "light"
     },
     "output_type": "display_data"
    }
   ],
   "source": [
    "fig, (ax1, ax2) = plt.subplots(1, 2, figsize=(10,5), sharey=True)\n",
    "ax1.plot(\n",
    "         Amp_Chem['MgO_Eq9_Zhang17'],\n",
    "    Jefferson_Amp_Press_NoFilter['P_kbar_calc'], 'ok')\n",
    "ax1.set_xlabel('Calculated MgO Zhang')\n",
    "ax1.set_ylabel('Calcated P Ridolfi 21')\n",
    "\n",
    "ax2.set_xlabel('Calculated SiO2 Zhang')\n",
    "ax2.set_ylabel('Calcated P Ridolfi 21')\n",
    "\n",
    "ax2.plot(\n",
    "         Amp_Chem['SiO2_Eq1_Zhang17'],\n",
    "    Jefferson_Amp_Press_NoFilter['P_kbar_calc'], 'ok')"
   ]
  },
  {
   "cell_type": "code",
   "execution_count": null,
   "id": "af627d8c-c0dc-4fd5-8035-42f3c77dcb2c",
   "metadata": {},
   "outputs": [],
   "source": [
    "#None Filtered\n",
    "Jefferson_Amp_Press_All=Jefferson_Amp_Press_NoFilter.copy()\n",
    "Jefferson_Amp_Press_All['Preferred_P']=Jefferson_Amp_Press_All['P_kbar_calc']\n",
    "Jefferson_Amp_Press_All['Model']=\"Ridolfi not filtered\"\n",
    "Jefferson_Amp_Press_All['Sample_ID_Amp']=\"Jefferson domefield\"\n",
    "\n",
    "Jefferson_Amp_Press_Filt=Jefferson_Amp_Press_Filter.copy()\n",
    "Jefferson_Amp_Press_Filt['Preferred_P']=Jefferson_Amp_Press_Filt['P_kbar_calc']\n",
    "Jefferson_Amp_Press_Filt['Model']=\"Ridolfi filtered\"\n",
    "Jefferson_Amp_Press_Filt['Sample_ID_Amp']=\"Jefferson domefield\"\n",
    "\n",
    "Combo_Amp=pd.concat([Jefferson_Amp_Press_All, Jefferson_Amp_Press_Filt], axis=0)"
   ]
  },
  {
   "cell_type": "code",
   "execution_count": null,
   "id": "f92c6d72-583f-4f13-a58a-58688086e51f",
   "metadata": {},
   "outputs": [],
   "source": [
    "Combo_Amp.to_pickle(\"Amp_Jefferson.pkl\")"
   ]
  },
  {
   "cell_type": "code",
   "execution_count": null,
   "id": "e51f0090-05a8-4854-a7bc-0a89b349ba07",
   "metadata": {},
   "outputs": [
    {
     "data": {
      "text/plain": [
       "0      Jefferson domefield\n",
       "1      Jefferson domefield\n",
       "2      Jefferson domefield\n",
       "3      Jefferson domefield\n",
       "4      Jefferson domefield\n",
       "              ...         \n",
       "293    Jefferson domefield\n",
       "294    Jefferson domefield\n",
       "295    Jefferson domefield\n",
       "296    Jefferson domefield\n",
       "297    Jefferson domefield\n",
       "Name: Sample_ID_Amp, Length: 298, dtype: object"
      ]
     },
     "execution_count": 18,
     "metadata": {},
     "output_type": "execute_result"
    }
   ],
   "source": [
    "Jefferson_Amp_Press_All['Sample_ID_Amp']"
   ]
  },
  {
   "cell_type": "code",
   "execution_count": null,
   "id": "d9be12c5-5bc3-42c5-a28e-0d4fe1e8da1d",
   "metadata": {},
   "outputs": [
    {
     "ename": "NameError",
     "evalue": "name 'Combo_Amp' is not defined",
     "output_type": "error",
     "traceback": [
      "\u001b[1;31m---------------------------------------------------------------------------\u001b[0m",
      "\u001b[1;31mNameError\u001b[0m                                 Traceback (most recent call last)",
      "Input \u001b[1;32mIn [4]\u001b[0m, in \u001b[0;36m<module>\u001b[1;34m\u001b[0m\n\u001b[0;32m      3\u001b[0m ax2 \u001b[38;5;241m=\u001b[39m ax1\u001b[38;5;241m.\u001b[39mtwinx()\n\u001b[0;32m      5\u001b[0m volc_order\u001b[38;5;241m=\u001b[39m[\u001b[38;5;124m\"\u001b[39m\u001b[38;5;124mJeff\u001b[39m\u001b[38;5;124m\"\u001b[39m, \u001b[38;5;124m\"\u001b[39m\u001b[38;5;124mJefferson domefield\u001b[39m\u001b[38;5;124m\"\u001b[39m]\n\u001b[0;32m      6\u001b[0m sns\u001b[38;5;241m.\u001b[39mviolinplot(x\u001b[38;5;241m=\u001b[39m\u001b[38;5;124m\"\u001b[39m\u001b[38;5;124mSample_ID_Amp\u001b[39m\u001b[38;5;124m\"\u001b[39m, y\u001b[38;5;241m=\u001b[39m\u001b[38;5;124m\"\u001b[39m\u001b[38;5;124mPreferred_P\u001b[39m\u001b[38;5;124m\"\u001b[39m,  cut\u001b[38;5;241m=\u001b[39m\u001b[38;5;241m0\u001b[39m, \n\u001b[0;32m      7\u001b[0m                linewidth\u001b[38;5;241m=\u001b[39m\u001b[38;5;241m1\u001b[39m,hue\u001b[38;5;241m=\u001b[39m\u001b[38;5;124m\"\u001b[39m\u001b[38;5;124mModel\u001b[39m\u001b[38;5;124m\"\u001b[39m, inner\u001b[38;5;241m=\u001b[39m\u001b[38;5;28;01mNone\u001b[39;00m,\n\u001b[1;32m----> 8\u001b[0m             data\u001b[38;5;241m=\u001b[39m\u001b[43mCombo_Amp\u001b[49m, split\u001b[38;5;241m=\u001b[39m\u001b[38;5;28;01mTrue\u001b[39;00m, ax\u001b[38;5;241m=\u001b[39max1, width\u001b[38;5;241m=\u001b[39m\u001b[38;5;241m0.9\u001b[39m, order\u001b[38;5;241m=\u001b[39mvolc_order, stick\u001b[38;5;241m=\u001b[39m\u001b[38;5;28;01mTrue\u001b[39;00m\n\u001b[0;32m      9\u001b[0m               , palette\u001b[38;5;241m=\u001b[39m[\u001b[38;5;124m'\u001b[39m\u001b[38;5;124mlightgreen\u001b[39m\u001b[38;5;124m'\u001b[39m, \u001b[38;5;124m'\u001b[39m\u001b[38;5;124mgrey\u001b[39m\u001b[38;5;124m'\u001b[39m])\n\u001b[0;32m     11\u001b[0m \u001b[38;5;66;03m# ax1.plot(-0.1+0*Combo_Amp['Preferred_P'].loc[(Combo_Amp['Model']==\"Ridolfi not filtered\")\u001b[39;00m\n\u001b[0;32m     12\u001b[0m \u001b[38;5;66;03m#                                         &(Combo_Amp[\"Sample_ID_Cpx\"]==\"Jeff\")],\u001b[39;00m\n\u001b[0;32m     13\u001b[0m \u001b[38;5;66;03m#       Combo_Amp['Preferred_P'].loc[(Combo_Amp['Model']==\"Ridolfi not filtered\")\u001b[39;00m\n\u001b[1;32m   (...)\u001b[0m\n\u001b[0;32m     30\u001b[0m \u001b[38;5;66;03m#                                         &(Combo_Amp[\"Sample_ID_Cpx\"]==\"Jeff\")]),  \u001b[39;00m\n\u001b[0;32m     31\u001b[0m \u001b[38;5;66;03m#          '*k', mfc='w', ms=20)\u001b[39;00m\n\u001b[0;32m     33\u001b[0m ax1\u001b[38;5;241m.\u001b[39mplot(\u001b[38;5;241m0.9\u001b[39m\u001b[38;5;241m+\u001b[39m\u001b[38;5;241m0\u001b[39m\u001b[38;5;241m*\u001b[39mCombo_Amp[\u001b[38;5;124m'\u001b[39m\u001b[38;5;124mPreferred_P\u001b[39m\u001b[38;5;124m'\u001b[39m]\u001b[38;5;241m.\u001b[39mloc[(Combo_Amp[\u001b[38;5;124m'\u001b[39m\u001b[38;5;124mModel\u001b[39m\u001b[38;5;124m'\u001b[39m]\u001b[38;5;241m==\u001b[39m\u001b[38;5;124m\"\u001b[39m\u001b[38;5;124mRidolfi not filtered\u001b[39m\u001b[38;5;124m\"\u001b[39m)\n\u001b[0;32m     34\u001b[0m                                         \u001b[38;5;241m&\u001b[39m(Combo_Amp[\u001b[38;5;124m\"\u001b[39m\u001b[38;5;124mSample_ID_Amp\u001b[39m\u001b[38;5;124m\"\u001b[39m]\u001b[38;5;241m==\u001b[39m\u001b[38;5;124m\"\u001b[39m\u001b[38;5;124mJefferson domefield\u001b[39m\u001b[38;5;124m\"\u001b[39m)],\n\u001b[0;32m     35\u001b[0m       Combo_Amp[\u001b[38;5;124m'\u001b[39m\u001b[38;5;124mPreferred_P\u001b[39m\u001b[38;5;124m'\u001b[39m]\u001b[38;5;241m.\u001b[39mloc[(Combo_Amp[\u001b[38;5;124m'\u001b[39m\u001b[38;5;124mModel\u001b[39m\u001b[38;5;124m'\u001b[39m]\u001b[38;5;241m==\u001b[39m\u001b[38;5;124m\"\u001b[39m\u001b[38;5;124mRidolfi not filtered\u001b[39m\u001b[38;5;124m\"\u001b[39m)\n\u001b[0;32m     36\u001b[0m                                         \u001b[38;5;241m&\u001b[39m(Combo_Amp[\u001b[38;5;124m\"\u001b[39m\u001b[38;5;124mSample_ID_Amp\u001b[39m\u001b[38;5;124m\"\u001b[39m]\u001b[38;5;241m==\u001b[39m\u001b[38;5;124m\"\u001b[39m\u001b[38;5;124mJefferson domefield\u001b[39m\u001b[38;5;124m\"\u001b[39m)],  \n\u001b[0;32m     37\u001b[0m          \u001b[38;5;124m'\u001b[39m\u001b[38;5;124mx\u001b[39m\u001b[38;5;124m'\u001b[39m, mec\u001b[38;5;241m=\u001b[39m\u001b[38;5;124m'\u001b[39m\u001b[38;5;124mgreen\u001b[39m\u001b[38;5;124m'\u001b[39m)\n",
      "\u001b[1;31mNameError\u001b[0m: name 'Combo_Amp' is not defined"
     ]
    },
    {
     "data": {
      "image/png": "[encoded data removed]",
      "text/plain": [
       "<Figure size 144x288 with 2 Axes>"
      ]
     },
     "metadata": {
      "needs_background": "light"
     },
     "output_type": "display_data"
    }
   ],
   "source": [
    "import seaborn as sns\n",
    "fig, (ax1) = plt.subplots(1, 1, figsize=(2,4), sharey=True)\n",
    "ax2 = ax1.twinx()\n",
    "\n",
    "volc_order=[\"Jeff\", \"Jefferson domefield\"]\n",
    "sns.violinplot(x=\"Sample_ID_Amp\", y=\"Preferred_P\",  cut=0, \n",
    "               linewidth=1,hue=\"Model\", inner=None,\n",
    "            data=Combo_Amp, split=True, ax=ax1, width=0.9, order=volc_order, stick=True\n",
    "              , palette=['lightgreen', 'grey'])\n",
    "\n",
    "# ax1.plot(-0.1+0*Combo_Amp['Preferred_P'].loc[(Combo_Amp['Model']==\"Ridolfi not filtered\")\n",
    "#                                         &(Combo_Amp[\"Sample_ID_Cpx\"]==\"Jeff\")],\n",
    "#       Combo_Amp['Preferred_P'].loc[(Combo_Amp['Model']==\"Ridolfi not filtered\")\n",
    "#                                         &(Combo_Amp[\"Sample_ID_Cpx\"]==\"Jeff\")],  \n",
    "#          'xb')\n",
    "\n",
    "# ax1.plot(0.1+0*Combo_Amp['Preferred_P'].loc[(Combo_Amp['Model']==\"Ridolfi filtered\")\n",
    "#                                         &(Combo_Amp[\"Sample_ID_Cpx\"]==\"Jeff\")],\n",
    "#       Combo_Amp['Preferred_P'].loc[(Combo_Amp['Model']==\"Ridolfi filtered\")\n",
    "#                                         &(Combo_Amp[\"Sample_ID_Cpx\"]==\"Jeff\")],  \n",
    "#          'xr')\n",
    "\n",
    "# ax1.plot(-0.1,\n",
    "#       np.nanmedian(Combo_Amp['Preferred_P'].loc[(Combo_Amp['Model']==\"Ridolfi not filtered\")\n",
    "#                                         &(Combo_Amp[\"Sample_ID_Cpx\"]==\"Jeff\")]),  \n",
    "#          '*k', mfc='w', ms=20)\n",
    "\n",
    "# ax1.plot(0.1,\n",
    "#       np.nanmedian(Combo_Amp['Preferred_P'].loc[(Combo_Amp['Model']==\"Ridolfi filtered\")\n",
    "#                                         &(Combo_Amp[\"Sample_ID_Cpx\"]==\"Jeff\")]),  \n",
    "#          '*k', mfc='w', ms=20)\n",
    "\n",
    "ax1.plot(0.9+0*Combo_Amp['Preferred_P'].loc[(Combo_Amp['Model']==\"Ridolfi not filtered\")\n",
    "                                        &(Combo_Amp[\"Sample_ID_Amp\"]==\"Jefferson domefield\")],\n",
    "      Combo_Amp['Preferred_P'].loc[(Combo_Amp['Model']==\"Ridolfi not filtered\")\n",
    "                                        &(Combo_Amp[\"Sample_ID_Amp\"]==\"Jefferson domefield\")],  \n",
    "         'x', mec='green')\n",
    "\n",
    "ax1.plot(1.1+0*Combo_Amp['Preferred_P'].loc[(Combo_Amp['Model']==\"Ridolfi filtered\")\n",
    "                                        &(Combo_Amp[\"Sample_ID_Amp\"]==\"Jefferson domefield\")],\n",
    "      Combo_Amp['Preferred_P'].loc[(Combo_Amp['Model']==\"Ridolfi filtered\")\n",
    "                                        &(Combo_Amp[\"Sample_ID_Amp\"]==\"Jefferson domefield\")],  \n",
    "         'x', mec='k')\n",
    "\n",
    "ax1.plot(0.9,\n",
    "      np.nanmedian(Combo_Amp['Preferred_P'].loc[(Combo_Amp['Model']==\"Ridolfi not filtered\")\n",
    "                                        &(Combo_Amp[\"Sample_ID_Amp\"]==\"Jefferson domefield\")]),  \n",
    "         '*k', mfc='w', ms=20)\n",
    "\n",
    "ax1.plot(1.1,\n",
    "      np.nanmedian(Combo_Amp['Preferred_P'].loc[(Combo_Amp['Model']==\"Ridolfi filtered\")\n",
    "                                        &(Combo_Amp[\"Sample_ID_Amp\"]==\"Jefferson domefield\")]),  \n",
    "         '*k', mfc='w', ms=20)\n",
    "\n",
    "ax1.plot([-1, 5], [0, 0], '-k', lw=0.5)\n",
    "ax1.set_ylim([P_axis_max, P_axis_min])\n",
    "ax2.set_ylim([D_axis_max, D_axis_min])\n",
    "ax1.set_xlim([0.5, 1.5])\n",
    "ax1.get_legend().remove()\n",
    "ax1.set_xlabel(None)\n",
    "ax1.set_ylabel(None)\n",
    "\n",
    "ax1.tick_params(direction=\"in\")\n",
    "ax2.tick_params(direction=\"in\")\n",
    "#ax2.set_yticks([])\n",
    "ax1.set_xticks([])\n",
    "ax1.grid(color = 'k', linestyle = '--', axis='y',linewidth = 1, alpha = 0.1, zorder=0)\n",
    "\n",
    "\n",
    "fig.savefig('Jefferson_Amp.png', dpi=200, bbox_inches='tight')\n",
    "\n"
   ]
  },
  {
   "cell_type": "code",
   "execution_count": null,
   "id": "58a4756b-4dbb-4964-950a-bda2b1c59643",
   "metadata": {},
   "outputs": [
    {
     "data": {
      "text/html": [
       "<div>\n",
       "<style scoped>\n",
       "    .dataframe tbody tr th:only-of-type {\n",
       "        vertical-align: middle;\n",
       "    }\n",
       "\n",
       "    .dataframe tbody tr th {\n",
       "        vertical-align: top;\n",
       "    }\n",
       "\n",
       "    .dataframe thead th {\n",
       "        text-align: right;\n",
       "    }\n",
       "</style>\n",
       "<table border=\"1\" class=\"dataframe\">\n",
       "  <thead>\n",
       "    <tr style=\"text-align: right;\">\n",
       "      <th></th>\n",
       "      <th>Volcano</th>\n",
       "      <th>Reference</th>\n",
       "      <th>SampleID</th>\n",
       "      <th>Formation</th>\n",
       "      <th>Location</th>\n",
       "      <th>SiO2_Amp</th>\n",
       "      <th>Al2O3_Amp</th>\n",
       "      <th>TiO2_Amp</th>\n",
       "      <th>FeOt_Amp</th>\n",
       "      <th>MgO_Amp</th>\n",
       "      <th>CaO_Amp</th>\n",
       "      <th>MnO_Amp</th>\n",
       "      <th>Na2O_Amp</th>\n",
       "      <th>K2O_Amp</th>\n",
       "      <th>OH_Amp</th>\n",
       "      <th>Cr2O3_Amp</th>\n",
       "      <th>Cl_Amp</th>\n",
       "      <th>Total</th>\n",
       "      <th>test_total</th>\n",
       "    </tr>\n",
       "  </thead>\n",
       "  <tbody>\n",
       "  </tbody>\n",
       "</table>\n",
       "</div>"
      ],
      "text/plain": [
       "Empty DataFrame\n",
       "Columns: [Volcano, Reference, SampleID, Formation, Location, SiO2_Amp, Al2O3_Amp, TiO2_Amp, FeOt_Amp, MgO_Amp, CaO_Amp, MnO_Amp, Na2O_Amp, K2O_Amp, OH_Amp, Cr2O3_Amp, Cl_Amp, Total, test_total]\n",
       "Index: []"
      ]
     },
     "execution_count": 79,
     "metadata": {},
     "output_type": "execute_result"
    }
   ],
   "source": [
    "Amp_in_Filter.loc[Jefferson_Amp_Press_NoFilter['P_kbar_calc']>100]"
   ]
  },
  {
   "cell_type": "code",
   "execution_count": null,
   "id": "81a10478-4082-410e-b5b3-daf024b3db52",
   "metadata": {},
   "outputs": [
    {
     "data": {
      "text/plain": [
       "[<matplotlib.lines.Line2D at 0x1ab305aa1c0>]"
      ]
     },
     "execution_count": 80,
     "metadata": {},
     "output_type": "execute_result"
    },
    {
     "data": {
      "image/png": "[encoded data removed]",
      "text/plain": [
       "<Figure size 432x288 with 1 Axes>"
      ]
     },
     "metadata": {
      "needs_background": "light"
     },
     "output_type": "display_data"
    }
   ],
   "source": [
    "plt.plot(1.1,\n",
    "      np.nanmedian(Combo_Amp['Preferred_P'].loc[(Combo_Amp['Model']==\"Ridolfi filtered\")\n",
    "                                        &(Combo_Amp[\"Sample_ID_Amp\"]==\"Jefferson domefield\")]),  \n",
    "         '*k', mfc='w', ms=20)"
   ]
  },
  {
   "cell_type": "code",
   "execution_count": null,
   "id": "94bfe1b8-4f99-4503-88a4-1c712c542bda",
   "metadata": {},
   "outputs": [
    {
     "data": {
      "text/plain": [
       "0                   NaN\n",
       "1                   NaN\n",
       "2                   NaN\n",
       "3                   NaN\n",
       "4                   NaN\n",
       "             ...       \n",
       "537    Lassen domefield\n",
       "538    Lassen domefield\n",
       "539    Lassen domefield\n",
       "540    Lassen domefield\n",
       "541    Lassen domefield\n",
       "Name: Sample_ID_Amp, Length: 2168, dtype: object"
      ]
     },
     "execution_count": 25,
     "metadata": {},
     "output_type": "execute_result"
    }
   ],
   "source": [
    "Combo_Amp[\"Sample_ID_Amp\"]"
   ]
  },
  {
   "cell_type": "code",
   "execution_count": null,
   "id": "4759be25-6b15-45af-9281-f5e8ae9fe912",
   "metadata": {},
   "outputs": [
    {
     "data": {
      "text/plain": [
       "0     NaN\n",
       "1     NaN\n",
       "2     NaN\n",
       "3     NaN\n",
       "4     NaN\n",
       "       ..\n",
       "537   NaN\n",
       "538   NaN\n",
       "539   NaN\n",
       "540   NaN\n",
       "541   NaN\n",
       "Name: Preferred_P, Length: 542, dtype: float64"
      ]
     },
     "execution_count": 24,
     "metadata": {},
     "output_type": "execute_result"
    }
   ],
   "source": [
    "Combo_Amp['Preferred_P'].loc[(Combo_Amp['Model']==\"Ridolfi filtered\")\n",
    "                                        &(Combo_Amp[\"Sample_ID_Amp\"]==\"Jefferson domefield\")]"
   ]
  },
  {
   "cell_type": "code",
   "execution_count": null,
   "id": "de72aa5c-02a5-45df-b79d-202d25d2b679",
   "metadata": {},
   "outputs": [],
   "source": []
  }
 ],
 "metadata": {
  "kernelspec": {
   "display_name": "Python 3 (ipykernel)",
   "language": "python",
   "name": "python3"
  },
  "language_info": {
   "codemirror_mode": {
    "name": "ipython",
    "version": 3
   },
   "file_extension": ".py",
   "mimetype": "text/x-python",
   "name": "python",
   "nbconvert_exporter": "python",
   "pygments_lexer": "ipython3",
   "version": "3.9.17"
  }
 },
 "nbformat": 4,
 "nbformat_minor": 5
}
