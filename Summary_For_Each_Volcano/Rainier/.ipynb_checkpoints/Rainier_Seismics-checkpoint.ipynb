{
 "cells": [
  {
   "cell_type": "code",
   "execution_count": 1,
   "id": "274ece59-897a-40c2-8f2b-ab22b6389698",
   "metadata": {},
   "outputs": [],
   "source": [
    "import numpy as np\n",
    "import pandas as pd\n",
    "import matplotlib.pyplot as plt"
   ]
  },
  {
   "cell_type": "code",
   "execution_count": 4,
   "id": "e3938840-336c-430d-9657-0bb611c9450d",
   "metadata": {},
   "outputs": [],
   "source": [
    "df=pd.read_excel(r'../Cascade_Seismic_Stations.xlsx', sheet_name='Rainier')\n",
    "df_s=df.sort_values('Start Yr', ascending=True)\n",
    "df_tt=df_s.loc[df_s['Latitude']>0].reset_index(drop=True)\n",
    "df_tt['Name_No_Temp']=df_tt['Name']\n",
    "df_t=df_tt\n"
   ]
  },
  {
   "cell_type": "code",
   "execution_count": 5,
   "id": "e2b209ac-c87e-4382-9da8-a478eac94c2d",
   "metadata": {},
   "outputs": [],
   "source": [
    "sp1_p=(df_t['Classification: 1sp, 3sp, 3bb ']==\"1sp\") & (df_t['End Yr']>=2022)\n",
    "bb3_p=(df_t['Classification: 1sp, 3sp, 3bb ']==\"3bb\")  & (df_t['End Yr']>=2022)\n",
    "sp3_p=(df_t['Classification: 1sp, 3sp, 3bb ']==\"3sp\")& (df_t['End Yr']>=2022)\n",
    "if_p=(df_t['Classification: 1sp, 3sp, 3bb ']==\"IS\")& (df_t['End Yr']>=2022)\n",
    "\n",
    "sp1_r=(df_t['Classification: 1sp, 3sp, 3bb ']==\"1sp\") & (df_t['End Yr']<2022)\n",
    "bb3_r=(df_t['Classification: 1sp, 3sp, 3bb ']==\"3bb\")  & (df_t['End Yr']<2022)\n",
    "sp3_r=(df_t['Classification: 1sp, 3sp, 3bb ']==\"3sp\")& (df_t['End Yr']<2022)\n",
    "if_r=(df_t['Classification: 1sp, 3sp, 3bb ']==\"IS\")& (df_t['End Yr']<2022)"
   ]
  },
  {
   "cell_type": "markdown",
   "id": "7d421a0c-ef43-447c-b16f-0e5fe68842c8",
   "metadata": {},
   "source": [
    "## Loop for unique /name"
   ]
  },
  {
   "cell_type": "code",
   "execution_count": 6,
   "id": "157b1777-9f8b-49bd-9f85-9af411ddb52a",
   "metadata": {},
   "outputs": [
    {
     "name": "stdout",
     "output_type": "stream",
     "text": [
      "LON\n",
      "0    1964.0\n",
      "6    1992.0\n",
      "Name: Start Yr, dtype: float64\n",
      "FMW\n",
      "1     1972.0\n",
      "20    2018.0\n",
      "Name: Start Yr, dtype: float64\n",
      "RVC\n",
      "2    1983.0\n",
      "Name: Start Yr, dtype: float64\n",
      "LO2\n",
      "3    1988.0\n",
      "Name: Start Yr, dtype: float64\n",
      "RER\n",
      "4    1989.0\n",
      "Name: Start Yr, dtype: float64\n",
      "RCS\n",
      "5    1989.0\n",
      "Name: Start Yr, dtype: float64\n",
      "RCM\n",
      "7     1993.0\n",
      "13    2014.0\n",
      "19    2018.0\n",
      "Name: Start Yr, dtype: float64\n",
      "RSH\n",
      "8    1995.0\n",
      "Name: Start Yr, dtype: float64\n",
      "RSU\n",
      "9    1999.0\n",
      "Name: Start Yr, dtype: float64\n",
      "PANH\n",
      "10    2007.0\n",
      "Name: Start Yr, dtype: float64\n",
      "STAR\n",
      "11    2008.0\n",
      "Name: Start Yr, dtype: float64\n",
      "OBSR\n",
      "12    2008.0\n",
      "Name: Start Yr, dtype: float64\n",
      "SR41\n",
      "14    2015.0\n",
      "Name: Start Yr, dtype: float64\n",
      "PR04\n",
      "15    2017.0\n",
      "17    2018.0\n",
      "Name: Start Yr, dtype: float64\n",
      "PR05\n",
      "16    2017.0\n",
      "18    2018.0\n",
      "Name: Start Yr, dtype: float64\n",
      "RUSH\n",
      "21    2019.0\n",
      "Name: Start Yr, dtype: float64\n",
      "SIFT\n",
      "22    2019.0\n",
      "32    2020.0\n",
      "Name: Start Yr, dtype: float64\n",
      "PARA\n",
      "23    2020.0\n",
      "24    2020.0\n",
      "Name: Start Yr, dtype: float64\n",
      "OPCH\n",
      "25    2020.0\n",
      "26    2020.0\n",
      "Name: Start Yr, dtype: float64\n",
      "MIRR\n",
      "27    2020.0\n",
      "Name: Start Yr, dtype: float64\n",
      "KAUT\n",
      "28    2020.0\n",
      "29    2020.0\n",
      "Name: Start Yr, dtype: float64\n",
      "GTWY\n",
      "30    2020.0\n",
      "31    2020.0\n",
      "Name: Start Yr, dtype: float64\n",
      "ARAT\n",
      "33    2020.0\n",
      "Name: Start Yr, dtype: float64\n",
      "['LON' 'FMW' 'RVC' 'LO2' 'RER' 'RCS' 'RCM' 'RSH' 'RSU' 'PANH' 'STAR'\n",
      " 'OBSR' 'SR41' 'PR04' 'PR05' 'RUSH' 'SIFT' 'PARA' 'OPCH' 'MIRR' 'KAUT'\n",
      " 'GTWY' 'ARAT']\n"
     ]
    },
    {
     "name": "stderr",
     "output_type": "stream",
     "text": [
      "C:\\Users\\penny\\AppData\\Local\\Temp\\ipykernel_24052\\457821837.py:72: UserWarning: FixedFormatter should only be used together with FixedLocator\n",
      "  ax1.set_yticklabels(name.tolist())#, rotation=90)\n"
     ]
    },
    {
     "data": {
      "image/png": "[encoded data removed]",
      "text/plain": [
       "<Figure size 345.6x218.88 with 1 Axes>"
      ]
     },
     "metadata": {
      "needs_background": "light"
     },
     "output_type": "display_data"
    }
   ],
   "source": [
    "\n",
    "fig, (ax1) = plt.subplots(1, 1, figsize=(10*0.48,3.2*0.95), sharey=True)\n",
    "\n",
    "# Loop for ones that lasted more than 3 years not around major eruptions. \n",
    "Unique_station=df_t['Name_No_Temp'].unique()\n",
    "i=0\n",
    "name=np.empty((len(Unique_station)),  np.dtype('U100'))\n",
    "for station in Unique_station:\n",
    "    #print(station)\n",
    "    name[i]=str(df_t['Name_No_Temp'].loc[df_t['Name_No_Temp']==station].iloc[0])\n",
    "    print(station)\n",
    "    print(df_t['Start Yr'].loc[df_t['Name_No_Temp']==station])\n",
    "    \n",
    "    if any(df_t['Classification: 1sp, 3sp, 3bb '].loc[df_t['Name_No_Temp']==station]==\"IS\"):\n",
    "        Stat_type_IS=((df_t['Name_No_Temp']==station)&(df_t['Classification: 1sp, 3sp, 3bb ']==\"IS\"))\n",
    "        ax1.plot([df_t['Start Yr'].loc[Stat_type_IS],\n",
    "                  df_t['End Yr'].loc[Stat_type_IS]], [i+0.15, i+0.15], '-', color='lightskyblue')\n",
    "        ax1.plot([df_t['End Yr'].loc[Stat_type_IS],\n",
    "                  df_t['End Yr'].loc[Stat_type_IS]], [i+0.15, i+0.15], 'sk', mec='lightskyblue',mfc='white', ms=8)\n",
    "        ax1.plot([df_t['Start Yr'].loc[Stat_type_IS],\n",
    "                  df_t['Start Yr'].loc[Stat_type_IS]], [i+0.1, i+0.15], 'ok', mfc='lightskyblue', ms=4)\n",
    "\n",
    "        \n",
    "    if any(df_t['Classification: 1sp, 3sp, 3bb '].loc[df_t['Name_No_Temp']==station]==\"1sp\"):\n",
    "        Stat_type_1sp=((df_t['Name_No_Temp']==station)&(df_t['Classification: 1sp, 3sp, 3bb ']==\"1sp\"))\n",
    "        ax1.plot([df_t['Start Yr'].loc[Stat_type_1sp],\n",
    "                  df_t['End Yr'].loc[Stat_type_1sp]], [i+0.15, i+0.15], '-r')\n",
    "        ax1.plot([df_t['Start Yr'].loc[Stat_type_1sp],\n",
    "                  df_t['Start Yr'].loc[Stat_type_1sp]], [i+0.15, i+0.15], '^k', mfc='red', ms=9)\n",
    "        ax1.plot([df_t['End Yr'].loc[Stat_type_1sp],\n",
    "                  df_t['End Yr'].loc[Stat_type_1sp]], [i+0.15, i+0.15], 'sk', mec='red',mfc='white', ms=4)\n",
    "\n",
    "    if any(df_t['Classification: 1sp, 3sp, 3bb '].loc[df_t['Name_No_Temp']==station]==\"3bb\"):\n",
    "        Stat_type_3bb=((df_t['Name_No_Temp']==station)\n",
    "                       &(df_t['Classification: 1sp, 3sp, 3bb ']==\"3bb\"))\n",
    "        ax1.plot([df_t['Start Yr'].loc[Stat_type_3bb],\n",
    "                  df_t['End Yr'].loc[Stat_type_3bb]], [i, i], '-y', linewidth=2)\n",
    "        ax1.plot([df_t['End Yr'].loc[Stat_type_3bb],\n",
    "                  df_t['End Yr'].loc[Stat_type_3bb]], [i, i], 'sk', mec='k', mfc='white', ms=4, zorder=1000)\n",
    "        ax1.plot([df_t['Start Yr'].loc[Stat_type_3bb],\n",
    "                  df_t['Start Yr'].loc[Stat_type_3bb]], [i, i],  '^k', mfc='yellow', ms=9)\n",
    "\n",
    "    if any(df_t['Classification: 1sp, 3sp, 3bb '].loc[df_t['Name_No_Temp']==station]==\"3sp\"):\n",
    "        Stat_type_3sp=((df_t['Name_No_Temp']==station)\n",
    "                       &(df_t['Classification: 1sp, 3sp, 3bb ']==\"3sp\"))\n",
    "        ax1.plot([df_t['Start Yr'].loc[Stat_type_3sp],\n",
    "                  df_t['End Yr'].loc[Stat_type_3sp]], [i-0.1, i-0.1], '-', color='grey', linewidth=2, zorder=100)\n",
    "        ax1.plot([df_t['End Yr'].loc[Stat_type_3sp],\n",
    "                  df_t['End Yr'].loc[Stat_type_3sp]], [i-0.1, i-0.1], 'sk', mfc='white', ms=4, zorder=100)\n",
    "        ax1.plot([df_t['Start Yr'].loc[Stat_type_3sp],\n",
    "                  df_t['Start Yr'].loc[Stat_type_3sp]], [i-0.1, i-0.1], '^k', mfc='grey', ms=7, zorder=100)\n",
    "        \n",
    "        # Now print the lines\n",
    "        \n",
    "    i=i+1\n",
    "\n",
    "#     if df_t['Classification: 1sp, 3sp, 3bb '].iloc[i]==\"3bb\":\n",
    "#         ax1.plot([df_t['Start Yr'].iloc[i],df_t['End Yr'].iloc[i]], [i, i], '-',\n",
    "#                  color='y', lw=2)\n",
    "#         ax1.plot([df_t['End Yr'].iloc[i],df_t['End Yr'].iloc[i]], [i, i], '*k', mfc='yellow', ms=12)\n",
    "        \n",
    "#     if df_t['Classification: 1sp, 3sp, 3bb '].iloc[i]==\"3sp\":\n",
    "#         ax1.plot([df_t['Start Yr'].iloc[i],df_t['End Yr'].iloc[i]], [i, i], '-',\n",
    "#                  color='grey', lw=2)\n",
    "#         ax1.plot([df_t['End Yr'].iloc[i],df_t['End Yr'].iloc[i]], [i, i], '*k', mfc='grey', ms=12)\n",
    "        \n",
    "        \n",
    "#     #ax1.plot([df_t['Start Yr'].iloc[i],df_t['Start Yr'].iloc[i]], [i, i], '^k', mfc='white')\n",
    "#     #ax1.plot([df_t['End Yr'].iloc[i],df_t['End Yr'].iloc[i]], [i, i], '*k', mfc='white', ms=8)\n",
    "ax1.set_xlim([1955, 2023])\n",
    "#     name[i]=str(df_t['Name'].iloc[i])\n",
    "#     #print(df_t['Name'].iloc[i])\n",
    "ax1.set_yticklabels(name.tolist())#, rotation=90)\n",
    "ticks_loc = ax1.get_yticks().tolist()\n",
    "tick_y=np.linspace(0, len(Unique_station)-1,  len(Unique_station)).tolist()\n",
    "ax1.set_yticks(tick_y)\n",
    "ax1.set_ylim([-1, 23.5])\n",
    "print(name)\n",
    "ax1.set_yticklabels(name.tolist(), fontsize=7)\n",
    "\n",
    "for tick in ax1.yaxis.get_major_ticks()[1::2]:\n",
    "    tick.set_pad(1)\n",
    "for tick in ax1.yaxis.get_major_ticks()[0::2]:\n",
    "    tick.set_pad(-25)\n",
    "\n",
    "ax1.tick_params(length=5, direction=\"in\")\n",
    "plt.grid(color = 'k', linestyle = '--', linewidth = 1, axis='y', alpha = 0.1)\n",
    "fig.savefig('Rainier_Seismic_Stations.png', dpi=300)"
   ]
  },
  {
   "cell_type": "code",
   "execution_count": 19,
   "id": "7e0e575c-f496-4705-8d2d-f09f53fba080",
   "metadata": {},
   "outputs": [
    {
     "data": {
      "text/plain": [
       "23"
      ]
     },
     "execution_count": 19,
     "metadata": {},
     "output_type": "execute_result"
    }
   ],
   "source": [
    "len(Unique_station)"
   ]
  },
  {
   "cell_type": "code",
   "execution_count": 11,
   "id": "f59b9142-8cea-403a-a068-72d812fffb15",
   "metadata": {},
   "outputs": [],
   "source": [
    "name_plot=np.empty((len(df_t)),  np.dtype('U100'))\n",
    "for i in range(0, len(df_t)):\n",
    "    name_plot[i]=str(df_t['Name_No_Temp'].iloc[i])"
   ]
  },
  {
   "cell_type": "code",
   "execution_count": 13,
   "id": "4302bb58-a1c2-499f-9579-772c7a0c8629",
   "metadata": {},
   "outputs": [
    {
     "data": {
      "image/png": "[encoded data removed]",
      "text/plain": [
       "<Figure size 720x720 with 1 Axes>"
      ]
     },
     "metadata": {
      "needs_background": "light"
     },
     "output_type": "display_data"
    }
   ],
   "source": [
    "fig, (ax1) = plt.subplots(1, figsize=(10,10), sharey=True)\n",
    "df_a=df_t\n",
    "import matplotlib.patches as patches\n",
    "rect = patches.Circle((-121.7603,46.8523),0.235,linewidth=1,edgecolor='m',facecolor='none', label='test')\n",
    "\n",
    "\n",
    "# Add the patch to the Axes\n",
    "ax1.add_patch(rect)\n",
    "\n",
    "ax1.plot(df_t['Longitude'].loc[if_p],\n",
    "              df_t['Latitude'].loc[if_p],\n",
    "         '^k', mfc='cyan', ms=5)\n",
    "\n",
    "ax1.plot(df_t['Longitude'].loc[if_r],\n",
    "              df_t['Latitude'].loc[if_r],\n",
    "         'sk', mec='cyan', mfc='white', ms=5)\n",
    "\n",
    "ax1.plot(df_t['Longitude'].loc[sp1_p],\n",
    "              df_t['Latitude'].loc[sp1_p],\n",
    "         '^k', mfc='red', ms=15)\n",
    "ax1.plot(df_t['Longitude'].loc[bb3_p],\n",
    "              df_t['Latitude'].loc[bb3_p],\n",
    "         '^k', mfc='yellow', ms=15)\n",
    "ax1.plot(df_t['Longitude'].loc[sp3_p],\n",
    "              df_t['Latitude'].loc[sp3_p],\n",
    "         '^k', mfc='grey', ms=15)\n",
    "\n",
    "\n",
    "ax1.plot(df_t['Longitude'].loc[sp1_r],\n",
    "              df_t['Latitude'].loc[sp1_r],\n",
    "         'sr',  mfc='w')\n",
    "ax1.plot(df_t['Longitude'].loc[bb3_r],\n",
    "              df_t['Latitude'].loc[bb3_r],\n",
    "         'sy',  mfc='w')\n",
    "ax1.plot(df_t['Longitude'].loc[sp3_r],\n",
    "              df_t['Latitude'].loc[sp3_r],\n",
    "         's', mec='grey', mfc='w')\n",
    "for i in range(0, len(df_t)):\n",
    "    ax1.annotate(name_plot[i],\n",
    "                 xy=(df_t['Longitude'].iloc[i]+0.01,\n",
    "              df_t['Latitude'].iloc[i]),\n",
    "                 xycoords=\"data\", fontsize=9)"
   ]
  },
  {
   "cell_type": "code",
   "execution_count": 45,
   "id": "48479d7d-aa03-4d47-bbc6-9e3c264178d2",
   "metadata": {},
   "outputs": [
    {
     "data": {
      "text/plain": [
       "0.00456984017024841"
      ]
     },
     "execution_count": 45,
     "metadata": {},
     "output_type": "execute_result"
    }
   ],
   "source": [
    "np.random.normal(0, 1)/100"
   ]
  },
  {
   "cell_type": "code",
   "execution_count": 46,
   "id": "8f420ff5-6c7c-493b-8ba0-4c3750af7f76",
   "metadata": {},
   "outputs": [
    {
     "data": {
      "image/png": "[encoded data removed]",
      "text/plain": [
       "<Figure size 720x720 with 1 Axes>"
      ]
     },
     "metadata": {
      "needs_background": "light"
     },
     "output_type": "display_data"
    }
   ],
   "source": [
    "\n",
    "fig, (ax1) = plt.subplots(1, figsize=(10,10), sharey=True)\n",
    "\n",
    "import matplotlib.patches as patches\n",
    "rect = patches.Circle((-122.195618,46.191387),0.18,linewidth=1,edgecolor='m',facecolor='none', label='test')\n",
    "\n",
    "ax1.set_xlim([-122.225, -122.15])\n",
    "ax1.set_ylim([46.15, 46.25])\n",
    "# Add the patch to the Axes\n",
    "ax1.add_patch(rect)\n",
    "\n",
    "ax1.plot(df_a['Longitude'].loc[if_p],\n",
    "              df_a['Latitude'].loc[if_p],\n",
    "         '^k', mfc='cyan', ms=5)\n",
    "\n",
    "\n",
    "ax1.plot(df_a['Longitude'].loc[sp1_p],\n",
    "              df_a['Latitude'].loc[sp1_p],\n",
    "         '^k', mfc='red', ms=15)\n",
    "ax1.plot(df_a['Longitude'].loc[bb3_p],\n",
    "              df_a['Latitude'].loc[bb3_p],\n",
    "         '^k', mfc='yellow', ms=12)\n",
    "ax1.plot(df_a['Longitude'].loc[sp3_p],\n",
    "              df_a['Latitude'].loc[sp3_p],\n",
    "         '^k', mfc='grey', ms=10)\n",
    "\n",
    "\n",
    "\n",
    "for i in range(0, len(df_a)):\n",
    "    ax1.annotate(name_plot[i],\n",
    "                 xy=(df_a['Longitude'].iloc[i]+0.003,\n",
    "              df_a['Latitude'].iloc[i]),\n",
    "                 xycoords=\"data\", fontsize=9)\n",
    "    \n",
    "#ax1.plot(df_t2005['Longitude'], df_t2005['Latitude'], 'og', ms=5)\n",
    "#ax1.plot(df_t1980['Longitude'], df_t1980['Latitude'], 'om', ms=5)\n",
    "fig.savefig('MSH_map.png', dpi=500)"
   ]
  },
  {
   "cell_type": "code",
   "execution_count": 45,
   "id": "cef1f875-f95a-4b16-a8ed-34a7cb73c0fd",
   "metadata": {},
   "outputs": [
    {
     "data": {
      "text/plain": [
       "\"['BRSP' 'HIYU' 'HTHR' 'LSON' 'MHX' 'PALM' 'PALM' 'SHRK' 'STAD' 'TIMB'\\n 'TIMB' 'TIMB' 'YOCR' 'HOOD' 'MHD' 'TDH' 'TIMB' 'VFP' 'VHE' 'VLL']\""
      ]
     },
     "execution_count": 45,
     "metadata": {},
     "output_type": "execute_result"
    }
   ],
   "source": [
    "str(df_t['Name'].values)"
   ]
  },
  {
   "cell_type": "markdown",
   "id": "6366580f-ce04-49fb-a354-5f05ac118bf1",
   "metadata": {},
   "source": [
    "## Different plots showing age progresion"
   ]
  },
  {
   "cell_type": "code",
   "execution_count": 7,
   "id": "6e36f0d1-f21e-4a4c-a44c-e758eda7f2b5",
   "metadata": {},
   "outputs": [
    {
     "data": {
      "text/plain": [
       "list"
      ]
     },
     "execution_count": 7,
     "metadata": {},
     "output_type": "execute_result"
    }
   ],
   "source": [
    "a=['Exp Pet', 'Exp Pet', 'MT', 'Seismics']\n",
    "type(a)"
   ]
  },
  {
   "cell_type": "code",
   "execution_count": 8,
   "id": "b9c5c9fc-4e46-4463-80a7-eb66bea3f746",
   "metadata": {},
   "outputs": [],
   "source": [
    "name=np.empty(len(df_t), np.dtype('U100'))\n",
    "df_t['Name'].iloc[1]\n",
    "name[1]=str(df_t['Name'].iloc[1])"
   ]
  },
  {
   "cell_type": "code",
   "execution_count": 9,
   "id": "346afe72-d330-4b47-9790-0ade52ca86f3",
   "metadata": {},
   "outputs": [
    {
     "data": {
      "text/plain": [
       "array(['', 'LCF', '', '', '', '', '', '', '', '', '', '', ''],\n",
       "      dtype='<U100')"
      ]
     },
     "execution_count": 9,
     "metadata": {},
     "output_type": "execute_result"
    }
   ],
   "source": [
    "name"
   ]
  },
  {
   "cell_type": "code",
   "execution_count": 10,
   "id": "4ae0b701-6fc0-455a-866a-c7757ce5372b",
   "metadata": {},
   "outputs": [
    {
     "name": "stdout",
     "output_type": "stream",
     "text": [
      "['LBA' 'LCF' 'LDH' 'LEL' 'LEL (temp)' 'LME' 'LMZ' 'LRD'\n",
      " 'LRD (temp. upgrade)' 'LRR' 'LRR (upgrade)' 'LSI' 'LSL']\n"
     ]
    },
    {
     "data": {
      "text/plain": [
       "[Text(0, 0, 'LBA'),\n",
       " Text(0, 1, 'LCF'),\n",
       " Text(0, 2, 'LDH'),\n",
       " Text(0, 3, 'LEL'),\n",
       " Text(0, 4, 'LEL (temp)'),\n",
       " Text(0, 5, 'LME'),\n",
       " Text(0, 6, 'LMZ'),\n",
       " Text(0, 7, 'LRD'),\n",
       " Text(0, 8, 'LRD (temp. upgrade)'),\n",
       " Text(0, 9, 'LRR'),\n",
       " Text(0, 10, 'LRR (upgrade)'),\n",
       " Text(0, 11, 'LSI'),\n",
       " Text(0, 12, 'LSL')]"
      ]
     },
     "execution_count": 10,
     "metadata": {},
     "output_type": "execute_result"
    },
    {
     "data": {
      "image/png": "[encoded data removed]",
      "text/plain": [
       "<Figure size 720x360 with 1 Axes>"
      ]
     },
     "metadata": {
      "needs_background": "light"
     },
     "output_type": "display_data"
    }
   ],
   "source": []
  },
  {
   "cell_type": "code",
   "execution_count": 94,
   "id": "82708137-4762-4dbb-bb41-483e5e5f9e2b",
   "metadata": {},
   "outputs": [
    {
     "data": {
      "text/plain": [
       "13"
      ]
     },
     "execution_count": 94,
     "metadata": {},
     "output_type": "execute_result"
    }
   ],
   "source": [
    "len(name)"
   ]
  },
  {
   "cell_type": "code",
   "execution_count": 32,
   "id": "3a01ced8-76b6-4e73-b811-d3845fc052ed",
   "metadata": {},
   "outputs": [
    {
     "data": {
      "image/png": "[encoded data removed]",
      "text/plain": [
       "<Figure size 720x360 with 2 Axes>"
      ]
     },
     "metadata": {
      "needs_background": "light"
     },
     "output_type": "display_data"
    }
   ],
   "source": [
    "fig, (ax1, ax2) = plt.subplots(1, 2, figsize=(10,5), sharey=True)\n",
    "for i in range(0, len(df_t)):\n",
    "    if \n",
    "    ax1.plot([df_t['Start Yr'].iloc[i],df_t['End Yr'].iloc[i]], [i, i], '-r')\n",
    "    ax1.plot([df_t['Start Yr'].iloc[i],df_t['Start Yr'].iloc[i]], [i, i], '^k', mfc='white')\n",
    "    ax1.plot([df_t['End Yr'].iloc[i],df_t['End Yr'].iloc[i]], [i, i], '*k', mfc='white')\n",
    "    ax1.set_xlim([1970, 2022])\n",
    "#df_t['Classification: 1sp, 3sp, 3bb ']"
   ]
  },
  {
   "cell_type": "markdown",
   "id": "bbcb3c93-8d4b-47d5-abdf-572c9a847eeb",
   "metadata": {},
   "source": [
    "# 0  Bar for each different seimometer"
   ]
  },
  {
   "cell_type": "code",
   "execution_count": null,
   "id": "89418c7b-2301-469c-a542-9d483a2ad8e7",
   "metadata": {},
   "outputs": [],
   "source": []
  },
  {
   "cell_type": "markdown",
   "id": "cdff6dcb-5f1e-4694-8fd7-fbe4af50167f",
   "metadata": {},
   "source": [
    "## 1. CDF function"
   ]
  },
  {
   "cell_type": "code",
   "execution_count": null,
   "id": "e188b002-c467-4e57-95e2-43e1124867e8",
   "metadata": {},
   "outputs": [],
   "source": []
  }
 ],
 "metadata": {
  "kernelspec": {
   "display_name": "Python 3 (ipykernel)",
   "language": "python",
   "name": "python3"
  },
  "language_info": {
   "codemirror_mode": {
    "name": "ipython",
    "version": 3
   },
   "file_extension": ".py",
   "mimetype": "text/x-python",
   "name": "python",
   "nbconvert_exporter": "python",
   "pygments_lexer": "ipython3",
   "version": "3.9.12"
  }
 },
 "nbformat": 4,
 "nbformat_minor": 5
}
