{
 "cells": [
  {
   "cell_type": "code",
   "execution_count": 6,
   "id": "f7fb73cf-9460-47b8-9bd0-bd453bb17f0d",
   "metadata": {},
   "outputs": [],
   "source": [
    "import numpy as np\n",
    "import pandas as pd\n",
    "import matplotlib.pyplot as plt\n",
    "import Thermobar as pt\n",
    "from pickle import load\n",
    "import pickle"
   ]
  },
  {
   "cell_type": "markdown",
   "id": "8521678a-72c4-48d0-9753-648355b12ab4",
   "metadata": {},
   "source": [
    "## First, lets load Cpx data"
   ]
  },
  {
   "cell_type": "code",
   "execution_count": 9,
   "id": "8453bb64-2b6f-40f8-a7c9-ac9dc2a2aab8",
   "metadata": {},
   "outputs": [
    {
     "name": "stderr",
     "output_type": "stream",
     "text": [
      "C:\\Users\\penny\\AppData\\Local\\Temp\\ipykernel_6336\\2606712963.py:4: SettingWithCopyWarning: \n",
      "A value is trying to be set on a copy of a slice from a DataFrame.\n",
      "Try using .loc[row_indexer,col_indexer] = value instead\n",
      "\n",
      "See the caveats in the documentation: https://pandas.pydata.org/pandas-docs/stable/user_guide/indexing.html#returning-a-view-versus-a-copy\n",
      "  MedicineLake_Cpx['Sample_ID_Cpx']=\"MedicineLake\"\n"
     ]
    }
   ],
   "source": [
    "with open(r'../Combo_Cpx.pkl', 'rb') as f:\n",
    "            All_Cpx=load(f)\n",
    "MedicineLake_Cpx=All_Cpx.loc[All_Cpx['Volcano']==\"MedicineLake\"]\n",
    "MedicineLake_Cpx['Sample_ID_Cpx']=\"MedicineLake\"\n",
    "\n",
    "\n",
    "WangCopy=MedicineLake_Cpx.copy()\n",
    "WangCopy['Preferred_P']=WangCopy['P_Wang21_eq1']\n",
    "WangCopy['Model']=\"Wang\"\n",
    "JorgensonCopy=MedicineLake_Cpx.copy()\n",
    "JorgensonCopy['Preferred_P']=JorgensonCopy['P_Jorgenson22']\n",
    "JorgensonCopy['Model']=\"Jorgenson\"\n",
    "\n",
    "Combo_Cpx=pd.concat([WangCopy, JorgensonCopy], axis=0)\n",
    "\n"
   ]
  },
  {
   "cell_type": "code",
   "execution_count": 10,
   "id": "b374a56f-2faa-4dc4-86bf-2b8a68765f6a",
   "metadata": {},
   "outputs": [
    {
     "data": {
      "text/plain": [
       "12"
      ]
     },
     "execution_count": 10,
     "metadata": {},
     "output_type": "execute_result"
    }
   ],
   "source": [
    "len(WangCopy)"
   ]
  },
  {
   "cell_type": "markdown",
   "id": "ce5301c4-2fc5-4ffa-bea5-c3f2a2a10aa5",
   "metadata": {},
   "source": [
    "## Choose Crustal density"
   ]
  },
  {
   "cell_type": "code",
   "execution_count": 11,
   "id": "5969034c-fad7-4f3b-99e7-6e549602329a",
   "metadata": {},
   "outputs": [],
   "source": [
    "rho=2700\n",
    "P_axis_min=-3\n",
    "P_axis_max=12\n",
    "D_axis_min=100000*P_axis_min/(9.8*rho)\n",
    "D_axis_max=100000*P_axis_max/(9.8*rho)\n"
   ]
  },
  {
   "cell_type": "code",
   "execution_count": 12,
   "id": "03aecb9b-4065-4d14-a4ce-d29b9a6cdd76",
   "metadata": {},
   "outputs": [
    {
     "data": {
      "image/png": "[encoded data removed]",
      "text/plain": [
       "<Figure size 200x400 with 2 Axes>"
      ]
     },
     "metadata": {},
     "output_type": "display_data"
    }
   ],
   "source": [
    "import seaborn as sns\n",
    "fig, (ax1) = plt.subplots(1, 1, figsize=(2,4), sharey=True)\n",
    "ax2 = ax1.twinx()\n",
    "# ticks = [40.540139,41.3099, 41.6108, 42.9446, 43.7221, 44.103449, 44.6743, 45.3736, 46.1914, 46.8523, 48.1119, 48.7767]\n",
    "# labels = ['Medicine', 'Medicine', 'Med Lake', 'Crater Lake', 'Newberry', '3 Sisters', 'Mt. Jeff', 'Mt. Hood', 'MSH', 'Rainier', 'Glac. Pk.', 'Mt. Baker']\n",
    "# ax2.set_xticks(ticks, minor=False)\n",
    "# ax2.set_xticklabels(labels, fontdict=None, minor=False, rotation=90)\n",
    "#ax1.set_xlim([40, 49])\n",
    "volc_order=[\"MedicineLake\"]\n",
    "sns.violinplot(x=\"Sample_ID_Cpx\", y=\"Preferred_P\",  cut=0,  inner=None, hue=\"Model\",\n",
    "            data=Combo_Cpx, split=True, ax=ax1, width=0.9, order=volc_order, stick=True)\n",
    "\n",
    "ax1.plot(-0.1+0*Combo_Cpx['Preferred_P'].loc[(Combo_Cpx['Model']==\"Wang\")\n",
    "                                        &(Combo_Cpx[\"Sample_ID_Cpx\"]==\"MedicineLake\")],\n",
    "      Combo_Cpx['Preferred_P'].loc[(Combo_Cpx['Model']==\"Wang\")\n",
    "                                        &(Combo_Cpx[\"Sample_ID_Cpx\"]==\"MedicineLake\")],  \n",
    "         'xb')\n",
    "\n",
    "ax1.plot(0.1+0*Combo_Cpx['Preferred_P'].loc[(Combo_Cpx['Model']==\"Jorgenson\")\n",
    "                                        &(Combo_Cpx[\"Sample_ID_Cpx\"]==\"MedicineLake\")],\n",
    "      Combo_Cpx['Preferred_P'].loc[(Combo_Cpx['Model']==\"Jorgenson\")\n",
    "                                        &(Combo_Cpx[\"Sample_ID_Cpx\"]==\"MedicineLake\")],  \n",
    "         'xr')\n",
    "\n",
    "ax1.plot(-0.1,\n",
    "      np.nanmedian(Combo_Cpx['Preferred_P'].loc[(Combo_Cpx['Model']==\"Wang\")\n",
    "                                        &(Combo_Cpx[\"Sample_ID_Cpx\"]==\"MedicineLake\")]),  \n",
    "         '*k', mfc='w', ms=20)\n",
    "\n",
    "ax1.plot(0.1,\n",
    "      np.nanmedian(Combo_Cpx['Preferred_P'].loc[(Combo_Cpx['Model']==\"Jorgenson\")\n",
    "                                        &(Combo_Cpx[\"Sample_ID_Cpx\"]==\"MedicineLake\")]),  \n",
    "         '*k', mfc='w', ms=20)\n",
    "\n",
    "\n",
    "ax1.plot([-1, 5], [0, 0], '-k', lw=0.5)\n",
    "ax1.set_ylim([P_axis_max, P_axis_min])\n",
    "ax2.set_ylim([D_axis_max, D_axis_min])\n",
    "ax1.set_xlim([-0.5, 0.5])\n",
    "ax1.get_legend().remove()\n",
    "ax1.set_xlabel(None)\n",
    "ax1.set_ylabel(None)\n",
    "ax1.tick_params(direction=\"in\")\n",
    "ax2.tick_params(direction=\"in\")\n",
    "ax1.grid(color = 'k', linestyle = '--', axis='y',linewidth = 1, alpha = 0.1, zorder=0)\n",
    "ax2.set_yticks([])\n",
    "ax1.set_xticks([])\n",
    "fig.savefig('Medicine_Cpx.png', dpi=200)"
   ]
  },
  {
   "cell_type": "markdown",
   "id": "d6e34571-541c-4355-aa93-eff82999ae0f",
   "metadata": {},
   "source": [
    "## Amphibole"
   ]
  },
  {
   "cell_type": "code",
   "execution_count": 17,
   "id": "c266477b-78d8-42b1-a54f-b172c52c1fbf",
   "metadata": {},
   "outputs": [
    {
     "name": "stderr",
     "output_type": "stream",
     "text": [
      "C:\\Users\\penny\\AppData\\Local\\Temp\\ipykernel_6336\\1379293473.py:4: SettingWithCopyWarning: \n",
      "A value is trying to be set on a copy of a slice from a DataFrame.\n",
      "Try using .loc[row_indexer,col_indexer] = value instead\n",
      "\n",
      "See the caveats in the documentation: https://pandas.pydata.org/pandas-docs/stable/user_guide/indexing.html#returning-a-view-versus-a-copy\n",
      "  MedicineLake_Amp['Sample_ID_Amp']=\"MedicineLake\"\n",
      "C:\\Users\\penny\\AppData\\Local\\Temp\\ipykernel_6336\\1379293473.py:9: SettingWithCopyWarning: \n",
      "A value is trying to be set on a copy of a slice from a DataFrame.\n",
      "Try using .loc[row_indexer,col_indexer] = value instead\n",
      "\n",
      "See the caveats in the documentation: https://pandas.pydata.org/pandas-docs/stable/user_guide/indexing.html#returning-a-view-versus-a-copy\n",
      "  MedicineLake_Amp_Filt['Sample_ID_Amp']=\"MedicineLake\"\n",
      "C:\\Users\\penny\\AppData\\Local\\Temp\\ipykernel_6336\\1379293473.py:10: SettingWithCopyWarning: \n",
      "A value is trying to be set on a copy of a slice from a DataFrame.\n",
      "Try using .loc[row_indexer,col_indexer] = value instead\n",
      "\n",
      "See the caveats in the documentation: https://pandas.pydata.org/pandas-docs/stable/user_guide/indexing.html#returning-a-view-versus-a-copy\n",
      "  MedicineLake_Amp['Class']='Unfilt'\n",
      "C:\\Users\\penny\\AppData\\Local\\Temp\\ipykernel_6336\\1379293473.py:11: SettingWithCopyWarning: \n",
      "A value is trying to be set on a copy of a slice from a DataFrame.\n",
      "Try using .loc[row_indexer,col_indexer] = value instead\n",
      "\n",
      "See the caveats in the documentation: https://pandas.pydata.org/pandas-docs/stable/user_guide/indexing.html#returning-a-view-versus-a-copy\n",
      "  MedicineLake_Amp_Filt['Class']='filt'\n"
     ]
    },
    {
     "name": "stdout",
     "output_type": "stream",
     "text": [
      "6\n",
      "6\n"
     ]
    },
    {
     "data": {
      "image/png": "[encoded data removed]",
      "text/plain": [
       "<Figure size 200x393 with 2 Axes>"
      ]
     },
     "metadata": {},
     "output_type": "display_data"
    }
   ],
   "source": [
    "\n",
    "with open(r'../Combo_Amp.pkl', 'rb') as f:\n",
    "            All_Amp=load(f)\n",
    "MedicineLake_Amp=All_Amp.loc[All_Amp['Volcano']==\"MedicineLake\"]\n",
    "MedicineLake_Amp['Sample_ID_Amp']=\"MedicineLake\"\n",
    "\n",
    "with open(r'../Combo_Amp_Filt.pkl', 'rb') as f:\n",
    "            All_Amp_Filt=load(f)\n",
    "MedicineLake_Amp_Filt=All_Amp_Filt.loc[All_Amp_Filt['Volcano']==\"MedicineLake\"]\n",
    "MedicineLake_Amp_Filt['Sample_ID_Amp']=\"MedicineLake\"\n",
    "MedicineLake_Amp['Class']='Unfilt'\n",
    "MedicineLake_Amp_Filt['Class']='filt'\n",
    "\n",
    "Combo_Amp=pd.concat([MedicineLake_Amp_Filt, MedicineLake_Amp], axis=0)\n",
    "\n",
    "print(sum(MedicineLake_Amp['P_kbar_calc']>-10))\n",
    "print(sum(MedicineLake_Amp_Filt['P_kbar_calc']>-10))\n",
    "\n",
    "import seaborn as sns\n",
    "fig, (ax1) = plt.subplots(1, 1, figsize=(2,3.93), sharey=True)\n",
    "ax2 = ax1.twinx()\n",
    "\n",
    "\n",
    "# ax = sns.violinplot(y=MedicineLake_Amp['P_Ridolfi21'],\n",
    "#                 inner=None, cut=0, ax=ax1, color=\"lightgreen\", linewidth=0.5)\n",
    "sns.violinplot(x=\"Volcano\", y=\"P_Ridolfi21\",  cut=0,  inner=None, hue=\"Class\",\n",
    "            data=Combo_Amp, split=True, ax=ax1, width=0.9,  palette=['lightgreen', 'grey'],\n",
    "               stick=True)\n",
    "\n",
    "\n",
    "ax1.plot(-0.1+0*MedicineLake_Amp_Filt['P_Ridolfi21'],\n",
    "  MedicineLake_Amp_Filt['P_Ridolfi21'],\n",
    "         'x', mec='grey')\n",
    "ax1.plot(+0.1+0*MedicineLake_Amp['P_Ridolfi21'],\n",
    "  MedicineLake_Amp['P_Ridolfi21'],\n",
    "         'x', mec='black')\n",
    "\n",
    "ax1.plot(-0.1,\n",
    "  np.nanmedian(MedicineLake_Amp_Filt['P_Ridolfi21']),\n",
    "         '*k', mfc='w', ms=20)\n",
    "\n",
    "ax1.plot(+0.1,\n",
    "  np.nanmedian(MedicineLake_Amp['P_Ridolfi21']),\n",
    "         '*k', mfc='w', ms=20)\n",
    "ax1.get_legend().remove()\n",
    "ax1.plot([-1, 5], [0, 0], '-k', lw=0.5)\n",
    "ax1.set_ylim([P_axis_max, P_axis_min])\n",
    "ax2.set_ylim([D_axis_max, D_axis_min])\n",
    "ax1.set_xlim([-0.5, 0.5])\n",
    "ax1.set_xlabel(None)\n",
    "ax1.set_ylabel(None)\n",
    "\n",
    "ax1.tick_params(direction=\"in\")\n",
    "ax2.tick_params(direction=\"in\")\n",
    "ax2.set_yticks([])\n",
    "ax1.set_xticks([])\n",
    "ax1.grid(color = 'k', linestyle = '--', axis='y',linewidth = 1, alpha = 0.1, zorder=0)\n",
    "\n",
    "\n",
    "fig.savefig('MedicineLake_Amp.png', dpi=200, transparent=True)"
   ]
  },
  {
   "cell_type": "code",
   "execution_count": 31,
   "id": "12b55777-15b5-4591-a02e-a71ab90736a0",
   "metadata": {},
   "outputs": [
    {
     "data": {
      "text/html": [
       "<div>\n",
       "<style scoped>\n",
       "    .dataframe tbody tr th:only-of-type {\n",
       "        vertical-align: middle;\n",
       "    }\n",
       "\n",
       "    .dataframe tbody tr th {\n",
       "        vertical-align: top;\n",
       "    }\n",
       "\n",
       "    .dataframe thead th {\n",
       "        text-align: right;\n",
       "    }\n",
       "</style>\n",
       "<table border=\"1\" class=\"dataframe\">\n",
       "  <thead>\n",
       "    <tr style=\"text-align: right;\">\n",
       "      <th></th>\n",
       "      <th>P_kbar_calc</th>\n",
       "      <th>Input_Check</th>\n",
       "      <th>Fail Msg</th>\n",
       "      <th>classification</th>\n",
       "      <th>equation</th>\n",
       "      <th>H2O_calc</th>\n",
       "      <th>Fe2O3_calc</th>\n",
       "      <th>FeO_calc</th>\n",
       "      <th>Total_recalc</th>\n",
       "      <th>Sum_input</th>\n",
       "      <th>...</th>\n",
       "      <th>Na2O_Amp</th>\n",
       "      <th>K2O_Amp</th>\n",
       "      <th>Cr2O3_Amp</th>\n",
       "      <th>F_Amp</th>\n",
       "      <th>Cl_Amp</th>\n",
       "      <th>Sample_ID_Amp</th>\n",
       "      <th>Latitude</th>\n",
       "      <th>Volcano</th>\n",
       "      <th>Phase</th>\n",
       "      <th>Preferred_P</th>\n",
       "    </tr>\n",
       "  </thead>\n",
       "  <tbody>\n",
       "    <tr>\n",
       "      <th>1651</th>\n",
       "      <td>NaN</td>\n",
       "      <td>False</td>\n",
       "      <td>APE &gt;60</td>\n",
       "      <td>low-Ca</td>\n",
       "      <td>1b</td>\n",
       "      <td>1.926246</td>\n",
       "      <td>6.129484</td>\n",
       "      <td>11.144612</td>\n",
       "      <td>100.370342</td>\n",
       "      <td>97.83</td>\n",
       "      <td>...</td>\n",
       "      <td>2.62</td>\n",
       "      <td>0.68</td>\n",
       "      <td>0.05</td>\n",
       "      <td>0.0</td>\n",
       "      <td>0.0</td>\n",
       "      <td>MedicineLake</td>\n",
       "      <td>41.61063</td>\n",
       "      <td>MedicineLake</td>\n",
       "      <td>Amp</td>\n",
       "      <td>NaN</td>\n",
       "    </tr>\n",
       "    <tr>\n",
       "      <th>1652</th>\n",
       "      <td>2.591715</td>\n",
       "      <td>True</td>\n",
       "      <td></td>\n",
       "      <td>Tschermakitic pargasite</td>\n",
       "      <td>1b</td>\n",
       "      <td>1.968493</td>\n",
       "      <td>10.196633</td>\n",
       "      <td>5.614940</td>\n",
       "      <td>101.580066</td>\n",
       "      <td>98.59</td>\n",
       "      <td>...</td>\n",
       "      <td>2.45</td>\n",
       "      <td>0.44</td>\n",
       "      <td>0.07</td>\n",
       "      <td>0.0</td>\n",
       "      <td>0.0</td>\n",
       "      <td>MedicineLake</td>\n",
       "      <td>41.61063</td>\n",
       "      <td>MedicineLake</td>\n",
       "      <td>Amp</td>\n",
       "      <td>2.591715</td>\n",
       "    </tr>\n",
       "    <tr>\n",
       "      <th>1653</th>\n",
       "      <td>2.135498</td>\n",
       "      <td>True</td>\n",
       "      <td></td>\n",
       "      <td>Mg-hastingsite</td>\n",
       "      <td>1b</td>\n",
       "      <td>1.953566</td>\n",
       "      <td>7.379797</td>\n",
       "      <td>6.679564</td>\n",
       "      <td>100.972928</td>\n",
       "      <td>98.28</td>\n",
       "      <td>...</td>\n",
       "      <td>2.59</td>\n",
       "      <td>0.39</td>\n",
       "      <td>0.03</td>\n",
       "      <td>0.0</td>\n",
       "      <td>0.0</td>\n",
       "      <td>MedicineLake</td>\n",
       "      <td>41.61063</td>\n",
       "      <td>MedicineLake</td>\n",
       "      <td>Amp</td>\n",
       "      <td>2.135498</td>\n",
       "    </tr>\n",
       "    <tr>\n",
       "      <th>1654</th>\n",
       "      <td>2.342109</td>\n",
       "      <td>True</td>\n",
       "      <td></td>\n",
       "      <td>Tschermakitic pargasite</td>\n",
       "      <td>1b</td>\n",
       "      <td>1.945826</td>\n",
       "      <td>6.762868</td>\n",
       "      <td>8.664685</td>\n",
       "      <td>101.053379</td>\n",
       "      <td>98.43</td>\n",
       "      <td>...</td>\n",
       "      <td>2.49</td>\n",
       "      <td>0.56</td>\n",
       "      <td>0.09</td>\n",
       "      <td>0.0</td>\n",
       "      <td>0.0</td>\n",
       "      <td>MedicineLake</td>\n",
       "      <td>41.61063</td>\n",
       "      <td>MedicineLake</td>\n",
       "      <td>Amp</td>\n",
       "      <td>2.342109</td>\n",
       "    </tr>\n",
       "    <tr>\n",
       "      <th>1655</th>\n",
       "      <td>2.556983</td>\n",
       "      <td>True</td>\n",
       "      <td></td>\n",
       "      <td>Mg-hastingsite</td>\n",
       "      <td>1b</td>\n",
       "      <td>1.949645</td>\n",
       "      <td>7.111832</td>\n",
       "      <td>7.200683</td>\n",
       "      <td>101.022160</td>\n",
       "      <td>98.36</td>\n",
       "      <td>...</td>\n",
       "      <td>2.76</td>\n",
       "      <td>0.43</td>\n",
       "      <td>0.05</td>\n",
       "      <td>0.0</td>\n",
       "      <td>0.0</td>\n",
       "      <td>MedicineLake</td>\n",
       "      <td>41.61063</td>\n",
       "      <td>MedicineLake</td>\n",
       "      <td>Amp</td>\n",
       "      <td>2.556983</td>\n",
       "    </tr>\n",
       "    <tr>\n",
       "      <th>1656</th>\n",
       "      <td>2.395148</td>\n",
       "      <td>True</td>\n",
       "      <td></td>\n",
       "      <td>Mg-hastingsite</td>\n",
       "      <td>1b</td>\n",
       "      <td>1.941706</td>\n",
       "      <td>5.418851</td>\n",
       "      <td>9.024049</td>\n",
       "      <td>100.754605</td>\n",
       "      <td>98.27</td>\n",
       "      <td>...</td>\n",
       "      <td>2.61</td>\n",
       "      <td>0.45</td>\n",
       "      <td>0.05</td>\n",
       "      <td>0.0</td>\n",
       "      <td>0.0</td>\n",
       "      <td>MedicineLake</td>\n",
       "      <td>41.61063</td>\n",
       "      <td>MedicineLake</td>\n",
       "      <td>Amp</td>\n",
       "      <td>2.395148</td>\n",
       "    </tr>\n",
       "    <tr>\n",
       "      <th>1657</th>\n",
       "      <td>2.799602</td>\n",
       "      <td>True</td>\n",
       "      <td></td>\n",
       "      <td>Mg-hastingsite</td>\n",
       "      <td>1b</td>\n",
       "      <td>1.941825</td>\n",
       "      <td>4.361324</td>\n",
       "      <td>7.575625</td>\n",
       "      <td>99.798774</td>\n",
       "      <td>97.42</td>\n",
       "      <td>...</td>\n",
       "      <td>2.49</td>\n",
       "      <td>0.45</td>\n",
       "      <td>0.09</td>\n",
       "      <td>0.0</td>\n",
       "      <td>0.0</td>\n",
       "      <td>MedicineLake</td>\n",
       "      <td>41.61063</td>\n",
       "      <td>MedicineLake</td>\n",
       "      <td>Amp</td>\n",
       "      <td>2.799602</td>\n",
       "    </tr>\n",
       "  </tbody>\n",
       "</table>\n",
       "<p>7 rows × 80 columns</p>\n",
       "</div>"
      ],
      "text/plain": [
       "      P_kbar_calc  Input_Check Fail Msg           classification equation  \\\n",
       "1651          NaN        False  APE >60                   low-Ca       1b   \n",
       "1652     2.591715         True           Tschermakitic pargasite       1b   \n",
       "1653     2.135498         True                    Mg-hastingsite       1b   \n",
       "1654     2.342109         True           Tschermakitic pargasite       1b   \n",
       "1655     2.556983         True                    Mg-hastingsite       1b   \n",
       "1656     2.395148         True                    Mg-hastingsite       1b   \n",
       "1657     2.799602         True                    Mg-hastingsite       1b   \n",
       "\n",
       "      H2O_calc  Fe2O3_calc   FeO_calc  Total_recalc  Sum_input  ...  Na2O_Amp  \\\n",
       "1651  1.926246    6.129484  11.144612    100.370342      97.83  ...      2.62   \n",
       "1652  1.968493   10.196633   5.614940    101.580066      98.59  ...      2.45   \n",
       "1653  1.953566    7.379797   6.679564    100.972928      98.28  ...      2.59   \n",
       "1654  1.945826    6.762868   8.664685    101.053379      98.43  ...      2.49   \n",
       "1655  1.949645    7.111832   7.200683    101.022160      98.36  ...      2.76   \n",
       "1656  1.941706    5.418851   9.024049    100.754605      98.27  ...      2.61   \n",
       "1657  1.941825    4.361324   7.575625     99.798774      97.42  ...      2.49   \n",
       "\n",
       "      K2O_Amp  Cr2O3_Amp  F_Amp  Cl_Amp  Sample_ID_Amp  Latitude  \\\n",
       "1651     0.68       0.05    0.0     0.0   MedicineLake  41.61063   \n",
       "1652     0.44       0.07    0.0     0.0   MedicineLake  41.61063   \n",
       "1653     0.39       0.03    0.0     0.0   MedicineLake  41.61063   \n",
       "1654     0.56       0.09    0.0     0.0   MedicineLake  41.61063   \n",
       "1655     0.43       0.05    0.0     0.0   MedicineLake  41.61063   \n",
       "1656     0.45       0.05    0.0     0.0   MedicineLake  41.61063   \n",
       "1657     0.45       0.09    0.0     0.0   MedicineLake  41.61063   \n",
       "\n",
       "           Volcano  Phase  Preferred_P  \n",
       "1651  MedicineLake    Amp          NaN  \n",
       "1652  MedicineLake    Amp     2.591715  \n",
       "1653  MedicineLake    Amp     2.135498  \n",
       "1654  MedicineLake    Amp     2.342109  \n",
       "1655  MedicineLake    Amp     2.556983  \n",
       "1656  MedicineLake    Amp     2.395148  \n",
       "1657  MedicineLake    Amp     2.799602  \n",
       "\n",
       "[7 rows x 80 columns]"
      ]
     },
     "execution_count": 31,
     "metadata": {},
     "output_type": "execute_result"
    }
   ],
   "source": [
    "MedicineLake_Amp"
   ]
  },
  {
   "cell_type": "code",
   "execution_count": 19,
   "id": "09656e44-ac7f-4b62-af05-2c20bbb409a9",
   "metadata": {},
   "outputs": [],
   "source": [
    "## Load in LP data"
   ]
  },
  {
   "cell_type": "code",
   "execution_count": 21,
   "id": "41821936-e344-4fae-9a12-f803d537e6b2",
   "metadata": {},
   "outputs": [
    {
     "data": {
      "text/html": [
       "<div>\n",
       "<style scoped>\n",
       "    .dataframe tbody tr th:only-of-type {\n",
       "        vertical-align: middle;\n",
       "    }\n",
       "\n",
       "    .dataframe tbody tr th {\n",
       "        vertical-align: top;\n",
       "    }\n",
       "\n",
       "    .dataframe thead th {\n",
       "        text-align: right;\n",
       "    }\n",
       "</style>\n",
       "<table border=\"1\" class=\"dataframe\">\n",
       "  <thead>\n",
       "    <tr style=\"text-align: right;\">\n",
       "      <th></th>\n",
       "      <th>Volcano</th>\n",
       "      <th>Latitude</th>\n",
       "      <th>Depth</th>\n",
       "      <th>Depth definition</th>\n",
       "      <th>Reference</th>\n",
       "      <th>Unnamed: 5</th>\n",
       "      <th>Unnamed: 6</th>\n",
       "    </tr>\n",
       "  </thead>\n",
       "  <tbody>\n",
       "    <tr>\n",
       "      <th>20</th>\n",
       "      <td>Medicine Lake</td>\n",
       "      <td>41.6108</td>\n",
       "      <td>15.22</td>\n",
       "      <td>Mean elevation of seismic network</td>\n",
       "      <td>Pitt et al. 2002</td>\n",
       "      <td>NaN</td>\n",
       "      <td>NaN</td>\n",
       "    </tr>\n",
       "  </tbody>\n",
       "</table>\n",
       "</div>"
      ],
      "text/plain": [
       "          Volcano  Latitude  Depth                   Depth definition  \\\n",
       "20  Medicine Lake   41.6108  15.22  Mean elevation of seismic network   \n",
       "\n",
       "           Reference  Unnamed: 5  Unnamed: 6  \n",
       "20  Pitt et al. 2002         NaN         NaN  "
      ]
     },
     "execution_count": 21,
     "metadata": {},
     "output_type": "execute_result"
    }
   ],
   "source": [
    "LPs=pd.read_excel(r'../Geophysics_Sept2022.xlsx',\n",
    "                  sheet_name=\"LPEarthquakes\")\n",
    "LPs_Medicine=LPs.loc[LPs['Volcano']==\"Medicine Lake\"]\n",
    "LPs_Medicine"
   ]
  },
  {
   "cell_type": "markdown",
   "id": "1ece1bb4-f859-4a06-b72f-61fa15798cc7",
   "metadata": {},
   "source": [
    "## Raw template for Expet"
   ]
  },
  {
   "cell_type": "code",
   "execution_count": 22,
   "id": "7608e7e6-ac05-412f-97d0-f5d762f9df7a",
   "metadata": {},
   "outputs": [
    {
     "data": {
      "image/png": "[encoded data removed]",
      "text/plain": [
       "<Figure size 180x288 with 2 Axes>"
      ]
     },
     "metadata": {
      "needs_background": "light"
     },
     "output_type": "display_data"
    }
   ],
   "source": [
    "import seaborn as sns\n",
    "fig, (ax1) = plt.subplots(1, 1, figsize=(2.5,4), sharey=True)\n",
    "ax2 = ax1.twinx()\n",
    "from matplotlib import patches\n",
    "\n",
    "# Grove - greater than 1 kbar\n",
    "ax1.plot([0.3, 0.5], [1, 1], '-g', lw=3)\n",
    "# Groe quoted in Gerlach and Grove\n",
    "rect_G = patches.Rectangle((0.8,2),0.2,3,linewidth=1,\n",
    "                            edgecolor='k',facecolor='yellow')\n",
    "ax1.add_patch(rect_G)\n",
    "# Grove 1997\n",
    "ax1.plot([1.3, 1.5], [2, 2], '-g', lw=3)\n",
    "ax1.plot([1.6, 1.8], [1, 1], '-g', lw=3)\n",
    "\n",
    "\n",
    "\n",
    "\n",
    "ax1.plot([-1, 5], [0, 0], '-k', lw=0.5)\n",
    "ax1.set_ylim([P_axis_max, P_axis_min])\n",
    "ax2.set_ylim([D_axis_max, D_axis_min])\n",
    "\n",
    "ax1.tick_params(direction=\"in\")\n",
    "ax2.tick_params(direction=\"in\")\n",
    "ax1.set_xlim([0, 2.1])\n",
    "ax1.set_xlabel(None)\n",
    "ax1.set_ylabel(None)\n",
    "ax1.set_xticks([ ])\n",
    "#ax1.set_xticklabels(['Exp Pet', 'Exp Pet', 'MT', 'Seismics'], rotation=90)\n",
    "ax1.grid(color = 'k', linestyle = '--', axis='y',linewidth = 1, alpha = 0.1, zorder=0)\n",
    "ax2.set_yticks([])                 \n",
    "fig.savefig('ExPet_Medicine.png', dpi=200, bbox_inches=\"tight\")"
   ]
  },
  {
   "cell_type": "markdown",
   "id": "6e45a011-023a-4bff-ad06-e481b53d30ba",
   "metadata": {},
   "source": [
    "## Raw template for geophysics"
   ]
  },
  {
   "cell_type": "code",
   "execution_count": 41,
   "id": "85832d6e-9d94-47cd-9704-3d3255c3580e",
   "metadata": {},
   "outputs": [
    {
     "data": {
      "image/png": "[encoded data removed]",
      "text/plain": [
       "<Figure size 144x288 with 2 Axes>"
      ]
     },
     "metadata": {
      "needs_background": "light"
     },
     "output_type": "display_data"
    }
   ],
   "source": [
    "import seaborn as sns\n",
    "fig, (ax1) = plt.subplots(1, 1, figsize=(2,4), sharey=True)\n",
    "ax2 = ax1.twinx()\n",
    "from matplotlib import patches\n",
    "elev=2.376\n",
    "# Pit data is relative to mean elevation, \n",
    "pit=2\n",
    "\n",
    "\n",
    "# GChiarabba heter inversion, says 3-7 km depending on which \n",
    "rect_C1995_h = patches.Rectangle((2.2,3),0.2,7-3,linewidth=1,\n",
    "                            edgecolor='red',facecolor='red')\n",
    "\n",
    "# Evans and Zucca, slightly different values\n",
    "rect_EZ = patches.Rectangle((2.45,3.58),0.2,5.626-3.58,linewidth=1,\n",
    "                            edgecolor='red',facecolor='magenta')\n",
    "ax2.add_patch(rect_C1995_h)\n",
    "ax2.add_patch(rect_EZ)\n",
    "\n",
    "# Leave uot as poorly constrained\n",
    "#ax2.plot(2.8, 6.8, '*k', mfc='red', ms=12)\n",
    "\n",
    "ax2.plot(3, LPs_Medicine['Depth']+elev-pit, 'ok', mfc='red', ms=5)\n",
    "\n",
    "\n",
    "ax1.plot([-1, 5], [0, 0], '-k', lw=0.5)\n",
    "ax1.set_ylim([P_axis_max, P_axis_min])\n",
    "ax2.set_ylim([D_axis_max, D_axis_min])\n",
    "\n",
    "ax1.tick_params(direction=\"in\")\n",
    "ax2.tick_params(direction=\"in\")\n",
    "ax1.set_xlim([1.9, 3.3])\n",
    "ax1.set_xlabel(None)\n",
    "ax1.set_ylabel(None)\n",
    "ax1.set_xticks([])\n",
    "#ax1.set_xticklabels(['Exp Pet', 'Exp Pet', 'MT', 'Seismics'], rotation=90)\n",
    "ax1.grid(color = 'k', linestyle = '--', axis='y',linewidth = 1, alpha = 0.1, zorder=0)\n",
    "                 \n",
    "fig.savefig('Geophysical_Medicine.png', dpi=200, bbox_inches=\"tight\")"
   ]
  },
  {
   "cell_type": "code",
   "execution_count": 4,
   "id": "2abcd680-574d-459f-93bc-01dc58c3f12d",
   "metadata": {},
   "outputs": [
    {
     "name": "stdout",
     "output_type": "stream",
     "text": [
      "['Amp']\n"
     ]
    },
    {
     "name": "stderr",
     "output_type": "stream",
     "text": [
      "C:\\Users\\penny\\anaconda3\\lib\\site-packages\\sklearn\\base.py:329: UserWarning: Trying to unpickle estimator SVC from version 0.24.1 when using version 1.0.2. This might lead to breaking code or invalid results. Use at your own risk. For more info please refer to:\n",
      "https://scikit-learn.org/stable/modules/model_persistence.html#security-maintainability-limitations\n",
      "  warnings.warn(\n",
      "C:\\Users\\penny\\anaconda3\\lib\\site-packages\\sklearn\\base.py:329: UserWarning: Trying to unpickle estimator StandardScaler from version 0.24.1 when using version 1.0.2. This might lead to breaking code or invalid results. Use at your own risk. For more info please refer to:\n",
      "https://scikit-learn.org/stable/modules/model_persistence.html#security-maintainability-limitations\n",
      "  warnings.warn(\n"
     ]
    }
   ],
   "source": [
    "## Same for amphibole\n",
    "\n",
    "Medicine_read_Amp=pt.import_excel('MedicineLake.xlsx', sheet_name='Amp_All')\n",
    "Medicine_Input_Amp=Medicine_read_Amp['my_input']\n",
    "Medicine_Amp=Medicine_read_Amp['Amps']\n",
    "Medicine_Amp['Sample_ID_Amp']=Medicine_Input_Amp[\"Stage\"]\n",
    "Medicine_Amp_copy=Medicine_Amp.copy()\n",
    "Medicine_Amp_comps=pt.get_amp_sites_from_input(amp_comps=Medicine_Amp)\n",
    "# Are a few outside 3.95 to 4.05 Cat sums, CaCaMgFe lies 0.3 - 0.55\n",
    "Medicine_Amp_filt1=Medicine_Amp.loc[( (Medicine_Amp_comps['cation_sum_All'].between(15, 16)) )]\n",
    "Medicine_Amp_class=pt.classify_phases(df=Medicine_Amp_filt1, return_end_members=True,\n",
    "                        str_to_drop='_Amp')\n",
    "print(Medicine_Amp_class['Phase_Min_Group_ML'].unique())\n",
    "Medicine_Amp_filt=Medicine_Amp_filt1.loc[Medicine_Amp_class['Phase_Min_Group_ML']==\"Amp\"].reset_index(drop=True)\n",
    "Medicine_Amp_Press_NoFilter=pt.calculate_amp_only_press(amp_comps=Medicine_Amp_filt, \n",
    "                        Ridolfi_Filter=False, equationP=\"P_Ridolfi2021\")\n",
    "Medicine_Amp_Press_Filter=pt.calculate_amp_only_press(amp_comps=Medicine_Amp_filt, \n",
    "                        Ridolfi_Filter=True, equationP=\"P_Ridolfi2021\")\n"
   ]
  },
  {
   "cell_type": "code",
   "execution_count": 5,
   "id": "0c40be9e-ae71-4998-9ce7-52c8a0e2d835",
   "metadata": {},
   "outputs": [
    {
     "data": {
      "text/plain": [
       "7"
      ]
     },
     "execution_count": 5,
     "metadata": {},
     "output_type": "execute_result"
    }
   ],
   "source": [
    "len(Medicine_Amp_Press_NoFilter)"
   ]
  },
  {
   "cell_type": "code",
   "execution_count": 18,
   "id": "f75c362c-6356-41e1-8533-8bfbf38a4c4b",
   "metadata": {},
   "outputs": [
    {
     "data": {
      "text/plain": [
       "[<matplotlib.lines.Line2D at 0x19694ec1250>]"
      ]
     },
     "execution_count": 18,
     "metadata": {},
     "output_type": "execute_result"
    },
    {
     "data": {
      "image/png": "[encoded data removed]",
      "text/plain": [
       "<Figure size 432x288 with 1 Axes>"
      ]
     },
     "metadata": {
      "needs_background": "light"
     },
     "output_type": "display_data"
    }
   ],
   "source": [
    "plt.plot(\n",
    "         (Medicine_Amp_filt['MgO_Amp']/40.3044)/(Medicine_Amp_filt['MgO_Amp']/40.3044+Medicine_Amp_filt['FeOt_Amp']/71.844),\n",
    "    Medicine_Amp_Press_NoFilter['P_kbar_calc'], 'ok')"
   ]
  },
  {
   "cell_type": "code",
   "execution_count": 19,
   "id": "209fe8f4-df37-4af2-befd-5c45109198c8",
   "metadata": {},
   "outputs": [
    {
     "name": "stderr",
     "output_type": "stream",
     "text": [
      "c:\\users\\penny\\onedrive - oregon state university\\postdoc\\pymme\\mybarometers\\thermobar_outer\\src\\Thermobar\\amphibole.py:229: UserWarning: You must enter a value for T in Kelvin to get results from equation3 and 5 from Zhang, and SiO2 from Putrka (2016)\n",
      "  w.warn('You must enter a value for T in Kelvin to get results from equation3 and 5 from Zhang, and SiO2 from Putrka (2016)')\n"
     ]
    }
   ],
   "source": [
    "Amp_Chem=pt.calculate_amp_only_melt_comps(amp_comps=Medicine_Amp_filt)"
   ]
  },
  {
   "cell_type": "code",
   "execution_count": 20,
   "id": "01277fd4-71d1-422f-99eb-84d72c944eb7",
   "metadata": {},
   "outputs": [
    {
     "data": {
      "text/plain": [
       "[<matplotlib.lines.Line2D at 0x19694dd7700>]"
      ]
     },
     "execution_count": 20,
     "metadata": {},
     "output_type": "execute_result"
    },
    {
     "data": {
      "image/png": "[encoded data removed]",
      "text/plain": [
       "<Figure size 720x360 with 2 Axes>"
      ]
     },
     "metadata": {
      "needs_background": "light"
     },
     "output_type": "display_data"
    }
   ],
   "source": [
    "fig, (ax1, ax2) = plt.subplots(1, 2, figsize=(10,5), sharey=True)\n",
    "ax1.plot(\n",
    "         Amp_Chem['MgO_Eq9_Zhang17'],\n",
    "    Medicine_Amp_Press_NoFilter['P_kbar_calc'], 'ok')\n",
    "ax1.set_xlabel('Calculated MgO Zhang')\n",
    "ax1.set_ylabel('Calcated P Ridolfi 21')\n",
    "\n",
    "ax2.set_xlabel('Calculated SiO2 Zhang')\n",
    "ax2.set_ylabel('Calcated P Ridolfi 21')\n",
    "\n",
    "ax2.plot(\n",
    "         Amp_Chem['SiO2_Eq1_Zhang17'],\n",
    "    Medicine_Amp_Press_NoFilter['P_kbar_calc'], 'ok')"
   ]
  },
  {
   "cell_type": "code",
   "execution_count": 21,
   "id": "af627d8c-c0dc-4fd5-8035-42f3c77dcb2c",
   "metadata": {},
   "outputs": [],
   "source": [
    "#None Filtered\n",
    "Medicine_Amp_Press_All=Medicine_Amp_Press_NoFilter.copy()\n",
    "Medicine_Amp_Press_All['Preferred_P']=Medicine_Amp_Press_All['P_kbar_calc']\n",
    "Medicine_Amp_Press_All['Model']=\"Ridolfi not filtered\"\n",
    "Medicine_Amp_Press_All['Sample_ID_Amp']=\"Medicine domefield\"\n",
    "\n",
    "Medicine_Amp_Press_Filt=Medicine_Amp_Press_Filter.copy()\n",
    "Medicine_Amp_Press_Filt['Preferred_P']=Medicine_Amp_Press_Filt['P_kbar_calc']\n",
    "Medicine_Amp_Press_Filt['Model']=\"Ridolfi filtered\"\n",
    "Medicine_Amp_Press_Filt['Sample_ID_Amp']=\"Medicine domefield\"\n",
    "\n",
    "Combo_Amp=pd.concat([Medicine_Amp_Press_All, Medicine_Amp_Press_Filt], axis=0)"
   ]
  },
  {
   "cell_type": "code",
   "execution_count": 25,
   "id": "0879235f-f3a1-4cac-b10e-50ee24def426",
   "metadata": {},
   "outputs": [],
   "source": [
    "Combo_Amp.to_pickle(\"Amp_MedicineLake.pkl\")"
   ]
  },
  {
   "cell_type": "code",
   "execution_count": 13,
   "id": "e51f0090-05a8-4854-a7bc-0a89b349ba07",
   "metadata": {},
   "outputs": [
    {
     "data": {
      "text/plain": [
       "0    Medicine domefield\n",
       "1    Medicine domefield\n",
       "2    Medicine domefield\n",
       "3    Medicine domefield\n",
       "4    Medicine domefield\n",
       "5    Medicine domefield\n",
       "6    Medicine domefield\n",
       "Name: Sample_ID_Amp, dtype: object"
      ]
     },
     "execution_count": 13,
     "metadata": {},
     "output_type": "execute_result"
    }
   ],
   "source": [
    "Medicine_Amp_Press_All['Sample_ID_Amp']"
   ]
  },
  {
   "cell_type": "code",
   "execution_count": 14,
   "id": "d9be12c5-5bc3-42c5-a28e-0d4fe1e8da1d",
   "metadata": {},
   "outputs": [
    {
     "data": {
      "image/png": "[encoded data removed]",
      "text/plain": [
       "<Figure size 144x288 with 2 Axes>"
      ]
     },
     "metadata": {
      "needs_background": "light"
     },
     "output_type": "display_data"
    }
   ],
   "source": [
    "import seaborn as sns\n",
    "fig, (ax1) = plt.subplots(1, 1, figsize=(2,4), sharey=True)\n",
    "ax2 = ax1.twinx()\n",
    "\n",
    "volc_order=[\"MedicineLake\", \"Medicine domefield\"]\n",
    "sns.violinplot(x=\"Sample_ID_Amp\", y=\"Preferred_P\",  cut=0, \n",
    "               linewidth=1,hue=\"Model\", inner=None,\n",
    "            data=Combo_Amp, split=True, ax=ax1, width=0.9, order=volc_order, stick=True\n",
    "              , palette=['lightgreen', 'grey'])\n",
    "\n",
    "# ax1.plot(-0.1+0*Combo_Amp['Preferred_P'].loc[(Combo_Amp['Model']==\"Ridolfi not filtered\")\n",
    "#                                         &(Combo_Amp[\"Sample_ID_Cpx\"]==\"MedicineLake\")],\n",
    "#       Combo_Amp['Preferred_P'].loc[(Combo_Amp['Model']==\"Ridolfi not filtered\")\n",
    "#                                         &(Combo_Amp[\"Sample_ID_Cpx\"]==\"MedicineLake\")],  \n",
    "#          'xb')\n",
    "\n",
    "# ax1.plot(0.1+0*Combo_Amp['Preferred_P'].loc[(Combo_Amp['Model']==\"Ridolfi filtered\")\n",
    "#                                         &(Combo_Amp[\"Sample_ID_Cpx\"]==\"MedicineLake\")],\n",
    "#       Combo_Amp['Preferred_P'].loc[(Combo_Amp['Model']==\"Ridolfi filtered\")\n",
    "#                                         &(Combo_Amp[\"Sample_ID_Cpx\"]==\"MedicineLake\")],  \n",
    "#          'xr')\n",
    "\n",
    "# ax1.plot(-0.1,\n",
    "#       np.nanmedian(Combo_Amp['Preferred_P'].loc[(Combo_Amp['Model']==\"Ridolfi not filtered\")\n",
    "#                                         &(Combo_Amp[\"Sample_ID_Cpx\"]==\"MedicineLake\")]),  \n",
    "#          '*k', mfc='w', ms=20)\n",
    "\n",
    "# ax1.plot(0.1,\n",
    "#       np.nanmedian(Combo_Amp['Preferred_P'].loc[(Combo_Amp['Model']==\"Ridolfi filtered\")\n",
    "#                                         &(Combo_Amp[\"Sample_ID_Cpx\"]==\"MedicineLake\")]),  \n",
    "#          '*k', mfc='w', ms=20)\n",
    "\n",
    "ax1.plot(0.9+0*Combo_Amp['Preferred_P'].loc[(Combo_Amp['Model']==\"Ridolfi not filtered\")\n",
    "                                        &(Combo_Amp[\"Sample_ID_Amp\"]==\"Medicine domefield\")],\n",
    "      Combo_Amp['Preferred_P'].loc[(Combo_Amp['Model']==\"Ridolfi not filtered\")\n",
    "                                        &(Combo_Amp[\"Sample_ID_Amp\"]==\"Medicine domefield\")],  \n",
    "         'x', mec='green')\n",
    "\n",
    "ax1.plot(1.1+0*Combo_Amp['Preferred_P'].loc[(Combo_Amp['Model']==\"Ridolfi filtered\")\n",
    "                                        &(Combo_Amp[\"Sample_ID_Amp\"]==\"Medicine domefield\")],\n",
    "      Combo_Amp['Preferred_P'].loc[(Combo_Amp['Model']==\"Ridolfi filtered\")\n",
    "                                        &(Combo_Amp[\"Sample_ID_Amp\"]==\"Medicine domefield\")],  \n",
    "         'x', mec='k')\n",
    "\n",
    "ax1.plot(0.9,\n",
    "      np.nanmedian(Combo_Amp['Preferred_P'].loc[(Combo_Amp['Model']==\"Ridolfi not filtered\")\n",
    "                                        &(Combo_Amp[\"Sample_ID_Amp\"]==\"Medicine domefield\")]),  \n",
    "         '*k', mfc='w', ms=20)\n",
    "\n",
    "ax1.plot(1.1,\n",
    "      np.nanmedian(Combo_Amp['Preferred_P'].loc[(Combo_Amp['Model']==\"Ridolfi filtered\")\n",
    "                                        &(Combo_Amp[\"Sample_ID_Amp\"]==\"Medicine domefield\")]),  \n",
    "         '*k', mfc='w', ms=20)\n",
    "\n",
    "ax1.plot([-1, 5], [0, 0], '-k', lw=0.5)\n",
    "ax1.set_ylim([P_axis_max, P_axis_min])\n",
    "ax2.set_ylim([D_axis_max, D_axis_min])\n",
    "ax1.set_xlim([0.5, 1.5])\n",
    "ax1.get_legend().remove()\n",
    "ax1.set_xlabel(None)\n",
    "ax1.set_ylabel(None)\n",
    "\n",
    "ax1.tick_params(direction=\"in\")\n",
    "ax2.tick_params(direction=\"in\")\n",
    "ax2.set_yticks([])\n",
    "ax1.set_xticks([])\n",
    "ax1.grid(color = 'k', linestyle = '--', axis='y',linewidth = 1, alpha = 0.1, zorder=0)\n",
    "\n",
    "\n",
    "fig.savefig('Medicine_Amp.png', dpi=200)\n",
    "\n"
   ]
  },
  {
   "cell_type": "code",
   "execution_count": 25,
   "id": "58a4756b-4dbb-4964-950a-bda2b1c59643",
   "metadata": {},
   "outputs": [
    {
     "data": {
      "text/html": [
       "<div>\n",
       "<style scoped>\n",
       "    .dataframe tbody tr th:only-of-type {\n",
       "        vertical-align: middle;\n",
       "    }\n",
       "\n",
       "    .dataframe tbody tr th {\n",
       "        vertical-align: top;\n",
       "    }\n",
       "\n",
       "    .dataframe thead th {\n",
       "        text-align: right;\n",
       "    }\n",
       "</style>\n",
       "<table border=\"1\" class=\"dataframe\">\n",
       "  <thead>\n",
       "    <tr style=\"text-align: right;\">\n",
       "      <th></th>\n",
       "      <th>P_kbar_calc</th>\n",
       "      <th>Input_Check</th>\n",
       "      <th>Fail Msg</th>\n",
       "      <th>classification</th>\n",
       "      <th>equation</th>\n",
       "      <th>H2O_calc</th>\n",
       "      <th>Fe2O3_calc</th>\n",
       "      <th>FeO_calc</th>\n",
       "      <th>Total_recalc</th>\n",
       "      <th>Sum_input</th>\n",
       "      <th>...</th>\n",
       "      <th>Fe2_calc</th>\n",
       "      <th>O=F,Cl</th>\n",
       "      <th>Total</th>\n",
       "      <th>Mgno_Fe2</th>\n",
       "      <th>Mgno_FeT</th>\n",
       "      <th>Na_calc</th>\n",
       "      <th>B_Sum</th>\n",
       "      <th>A_Sum</th>\n",
       "      <th>class</th>\n",
       "      <th>APE</th>\n",
       "    </tr>\n",
       "  </thead>\n",
       "  <tbody>\n",
       "    <tr>\n",
       "      <th>0</th>\n",
       "      <td>NaN</td>\n",
       "      <td>False</td>\n",
       "      <td>APE &gt;60</td>\n",
       "      <td>low-Ca</td>\n",
       "      <td>1b</td>\n",
       "      <td>1.926246</td>\n",
       "      <td>6.129484</td>\n",
       "      <td>11.144612</td>\n",
       "      <td>100.370342</td>\n",
       "      <td>97.83</td>\n",
       "      <td>...</td>\n",
       "      <td>1.368988</td>\n",
       "      <td>-0.0</td>\n",
       "      <td>NaN</td>\n",
       "      <td>0.613411</td>\n",
       "      <td>0.514900</td>\n",
       "      <td>0.536409</td>\n",
       "      <td>2.0</td>\n",
       "      <td>0.337161</td>\n",
       "      <td>N/A</td>\n",
       "      <td>67.602982</td>\n",
       "    </tr>\n",
       "    <tr>\n",
       "      <th>1</th>\n",
       "      <td>2.591715</td>\n",
       "      <td>True</td>\n",
       "      <td></td>\n",
       "      <td>Tschermakitic pargasite</td>\n",
       "      <td>1b</td>\n",
       "      <td>1.968493</td>\n",
       "      <td>10.196633</td>\n",
       "      <td>5.614940</td>\n",
       "      <td>101.580066</td>\n",
       "      <td>98.59</td>\n",
       "      <td>...</td>\n",
       "      <td>0.674928</td>\n",
       "      <td>-0.0</td>\n",
       "      <td>NaN</td>\n",
       "      <td>0.807582</td>\n",
       "      <td>0.614402</td>\n",
       "      <td>0.421522</td>\n",
       "      <td>2.0</td>\n",
       "      <td>0.341916</td>\n",
       "      <td>N/A</td>\n",
       "      <td>53.754816</td>\n",
       "    </tr>\n",
       "    <tr>\n",
       "      <th>2</th>\n",
       "      <td>2.135498</td>\n",
       "      <td>True</td>\n",
       "      <td></td>\n",
       "      <td>Mg-hastingsite</td>\n",
       "      <td>1b</td>\n",
       "      <td>1.953566</td>\n",
       "      <td>7.379797</td>\n",
       "      <td>6.679564</td>\n",
       "      <td>100.972928</td>\n",
       "      <td>98.28</td>\n",
       "      <td>...</td>\n",
       "      <td>0.809033</td>\n",
       "      <td>-0.0</td>\n",
       "      <td>NaN</td>\n",
       "      <td>0.792257</td>\n",
       "      <td>0.656642</td>\n",
       "      <td>0.243424</td>\n",
       "      <td>2.0</td>\n",
       "      <td>0.555922</td>\n",
       "      <td>N/A</td>\n",
       "      <td>45.750939</td>\n",
       "    </tr>\n",
       "    <tr>\n",
       "      <th>3</th>\n",
       "      <td>2.342109</td>\n",
       "      <td>True</td>\n",
       "      <td></td>\n",
       "      <td>Tschermakitic pargasite</td>\n",
       "      <td>1b</td>\n",
       "      <td>1.945826</td>\n",
       "      <td>6.762868</td>\n",
       "      <td>8.664685</td>\n",
       "      <td>101.053379</td>\n",
       "      <td>98.43</td>\n",
       "      <td>...</td>\n",
       "      <td>1.053647</td>\n",
       "      <td>-0.0</td>\n",
       "      <td>NaN</td>\n",
       "      <td>0.724149</td>\n",
       "      <td>0.606625</td>\n",
       "      <td>0.315890</td>\n",
       "      <td>2.0</td>\n",
       "      <td>0.489979</td>\n",
       "      <td>N/A</td>\n",
       "      <td>47.399159</td>\n",
       "    </tr>\n",
       "    <tr>\n",
       "      <th>4</th>\n",
       "      <td>2.556983</td>\n",
       "      <td>True</td>\n",
       "      <td></td>\n",
       "      <td>Mg-hastingsite</td>\n",
       "      <td>1b</td>\n",
       "      <td>1.949645</td>\n",
       "      <td>7.111832</td>\n",
       "      <td>7.200683</td>\n",
       "      <td>101.022160</td>\n",
       "      <td>98.36</td>\n",
       "      <td>...</td>\n",
       "      <td>0.873905</td>\n",
       "      <td>-0.0</td>\n",
       "      <td>NaN</td>\n",
       "      <td>0.772291</td>\n",
       "      <td>0.642309</td>\n",
       "      <td>0.274098</td>\n",
       "      <td>2.0</td>\n",
       "      <td>0.582094</td>\n",
       "      <td>N/A</td>\n",
       "      <td>59.986917</td>\n",
       "    </tr>\n",
       "    <tr>\n",
       "      <th>5</th>\n",
       "      <td>2.395148</td>\n",
       "      <td>True</td>\n",
       "      <td></td>\n",
       "      <td>Mg-hastingsite</td>\n",
       "      <td>1b</td>\n",
       "      <td>1.941706</td>\n",
       "      <td>5.418851</td>\n",
       "      <td>9.024049</td>\n",
       "      <td>100.754605</td>\n",
       "      <td>98.27</td>\n",
       "      <td>...</td>\n",
       "      <td>1.099675</td>\n",
       "      <td>-0.0</td>\n",
       "      <td>NaN</td>\n",
       "      <td>0.719732</td>\n",
       "      <td>0.625072</td>\n",
       "      <td>0.282654</td>\n",
       "      <td>2.0</td>\n",
       "      <td>0.538379</td>\n",
       "      <td>N/A</td>\n",
       "      <td>44.485752</td>\n",
       "    </tr>\n",
       "    <tr>\n",
       "      <th>6</th>\n",
       "      <td>2.799602</td>\n",
       "      <td>True</td>\n",
       "      <td></td>\n",
       "      <td>Mg-hastingsite</td>\n",
       "      <td>1b</td>\n",
       "      <td>1.941825</td>\n",
       "      <td>4.361324</td>\n",
       "      <td>7.575625</td>\n",
       "      <td>99.798774</td>\n",
       "      <td>97.42</td>\n",
       "      <td>...</td>\n",
       "      <td>0.923113</td>\n",
       "      <td>-0.0</td>\n",
       "      <td>NaN</td>\n",
       "      <td>0.767134</td>\n",
       "      <td>0.684555</td>\n",
       "      <td>0.251537</td>\n",
       "      <td>2.0</td>\n",
       "      <td>0.535545</td>\n",
       "      <td>N/A</td>\n",
       "      <td>31.400148</td>\n",
       "    </tr>\n",
       "  </tbody>\n",
       "</table>\n",
       "<p>7 rows × 61 columns</p>\n",
       "</div>"
      ],
      "text/plain": [
       "   P_kbar_calc  Input_Check Fail Msg           classification equation  \\\n",
       "0          NaN        False  APE >60                   low-Ca       1b   \n",
       "1     2.591715         True           Tschermakitic pargasite       1b   \n",
       "2     2.135498         True                    Mg-hastingsite       1b   \n",
       "3     2.342109         True           Tschermakitic pargasite       1b   \n",
       "4     2.556983         True                    Mg-hastingsite       1b   \n",
       "5     2.395148         True                    Mg-hastingsite       1b   \n",
       "6     2.799602         True                    Mg-hastingsite       1b   \n",
       "\n",
       "   H2O_calc  Fe2O3_calc   FeO_calc  Total_recalc  Sum_input  ...  Fe2_calc  \\\n",
       "0  1.926246    6.129484  11.144612    100.370342      97.83  ...  1.368988   \n",
       "1  1.968493   10.196633   5.614940    101.580066      98.59  ...  0.674928   \n",
       "2  1.953566    7.379797   6.679564    100.972928      98.28  ...  0.809033   \n",
       "3  1.945826    6.762868   8.664685    101.053379      98.43  ...  1.053647   \n",
       "4  1.949645    7.111832   7.200683    101.022160      98.36  ...  0.873905   \n",
       "5  1.941706    5.418851   9.024049    100.754605      98.27  ...  1.099675   \n",
       "6  1.941825    4.361324   7.575625     99.798774      97.42  ...  0.923113   \n",
       "\n",
       "   O=F,Cl  Total  Mgno_Fe2  Mgno_FeT   Na_calc  B_Sum     A_Sum  class  \\\n",
       "0    -0.0    NaN  0.613411  0.514900  0.536409    2.0  0.337161    N/A   \n",
       "1    -0.0    NaN  0.807582  0.614402  0.421522    2.0  0.341916    N/A   \n",
       "2    -0.0    NaN  0.792257  0.656642  0.243424    2.0  0.555922    N/A   \n",
       "3    -0.0    NaN  0.724149  0.606625  0.315890    2.0  0.489979    N/A   \n",
       "4    -0.0    NaN  0.772291  0.642309  0.274098    2.0  0.582094    N/A   \n",
       "5    -0.0    NaN  0.719732  0.625072  0.282654    2.0  0.538379    N/A   \n",
       "6    -0.0    NaN  0.767134  0.684555  0.251537    2.0  0.535545    N/A   \n",
       "\n",
       "         APE  \n",
       "0  67.602982  \n",
       "1  53.754816  \n",
       "2  45.750939  \n",
       "3  47.399159  \n",
       "4  59.986917  \n",
       "5  44.485752  \n",
       "6  31.400148  \n",
       "\n",
       "[7 rows x 61 columns]"
      ]
     },
     "execution_count": 25,
     "metadata": {},
     "output_type": "execute_result"
    }
   ],
   "source": [
    "Medicine_Amp_Press_Filter"
   ]
  },
  {
   "cell_type": "code",
   "execution_count": 26,
   "id": "81a10478-4082-410e-b5b3-daf024b3db52",
   "metadata": {},
   "outputs": [
    {
     "data": {
      "text/plain": [
       "[<matplotlib.lines.Line2D at 0x117ed8bd190>]"
      ]
     },
     "execution_count": 26,
     "metadata": {},
     "output_type": "execute_result"
    },
    {
     "data": {
      "image/png": "[encoded data removed]",
      "text/plain": [
       "<Figure size 432x288 with 1 Axes>"
      ]
     },
     "metadata": {
      "needs_background": "light"
     },
     "output_type": "display_data"
    }
   ],
   "source": [
    "plt.plot(1.1,\n",
    "      np.nanmedian(Combo_Amp['Preferred_P'].loc[(Combo_Amp['Model']==\"Ridolfi filtered\")\n",
    "                                        &(Combo_Amp[\"Sample_ID_Amp\"]==\"Medicine domefield\")]),  \n",
    "         '*k', mfc='w', ms=20)"
   ]
  },
  {
   "cell_type": "code",
   "execution_count": 25,
   "id": "94bfe1b8-4f99-4503-88a4-1c712c542bda",
   "metadata": {},
   "outputs": [
    {
     "data": {
      "text/plain": [
       "0                   NaN\n",
       "1                   NaN\n",
       "2                   NaN\n",
       "3                   NaN\n",
       "4                   NaN\n",
       "             ...       \n",
       "537    Lassen domefield\n",
       "538    Lassen domefield\n",
       "539    Lassen domefield\n",
       "540    Lassen domefield\n",
       "541    Lassen domefield\n",
       "Name: Sample_ID_Amp, Length: 2168, dtype: object"
      ]
     },
     "execution_count": 25,
     "metadata": {},
     "output_type": "execute_result"
    }
   ],
   "source": [
    "Combo_Amp[\"Sample_ID_Amp\"]"
   ]
  },
  {
   "cell_type": "code",
   "execution_count": 24,
   "id": "4759be25-6b15-45af-9281-f5e8ae9fe912",
   "metadata": {},
   "outputs": [
    {
     "data": {
      "text/plain": [
       "0     NaN\n",
       "1     NaN\n",
       "2     NaN\n",
       "3     NaN\n",
       "4     NaN\n",
       "       ..\n",
       "537   NaN\n",
       "538   NaN\n",
       "539   NaN\n",
       "540   NaN\n",
       "541   NaN\n",
       "Name: Preferred_P, Length: 542, dtype: float64"
      ]
     },
     "execution_count": 24,
     "metadata": {},
     "output_type": "execute_result"
    }
   ],
   "source": [
    "Combo_Amp['Preferred_P'].loc[(Combo_Amp['Model']==\"Ridolfi filtered\")\n",
    "                                        &(Combo_Amp[\"Sample_ID_Amp\"]==\"Medicine domefield\")]"
   ]
  },
  {
   "cell_type": "code",
   "execution_count": null,
   "id": "de72aa5c-02a5-45df-b79d-202d25d2b679",
   "metadata": {},
   "outputs": [],
   "source": []
  }
 ],
 "metadata": {
  "kernelspec": {
   "display_name": "Python 3 (ipykernel)",
   "language": "python",
   "name": "python3"
  },
  "language_info": {
   "codemirror_mode": {
    "name": "ipython",
    "version": 3
   },
   "file_extension": ".py",
   "mimetype": "text/x-python",
   "name": "python",
   "nbconvert_exporter": "python",
   "pygments_lexer": "ipython3",
   "version": "3.9.13"
  }
 },
 "nbformat": 4,
 "nbformat_minor": 5
}
