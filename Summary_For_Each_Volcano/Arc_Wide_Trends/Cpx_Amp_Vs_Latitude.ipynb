{
 "cells": [
  {
   "cell_type": "code",
   "execution_count": 1,
   "id": "781e6136-0b7d-4994-a1a7-2efb524d8383",
   "metadata": {},
   "outputs": [],
   "source": [
    "import Thermobar as pt\n",
    "import pandas as pd\n",
    "import numpy as np\n",
    "import matplotlib.pyplot as plt\n",
    "from pickle import load\n",
    "import pickle"
   ]
  },
  {
   "cell_type": "markdown",
   "id": "c8fc91fa-fbfc-4145-9b0c-ac22657d6d26",
   "metadata": {},
   "source": [
    "## Latitudes"
   ]
  },
  {
   "cell_type": "code",
   "execution_count": 2,
   "id": "56c9a448-290e-478f-bdb3-77e1b1d388f5",
   "metadata": {},
   "outputs": [],
   "source": [
    "width=0.05\n",
    "offset=0.05\n",
    "\n",
    "Baker_Lat=48.7767\n",
    "Adams_Lat=46.2024\n",
    "Glacier_Lat=48.1119\n",
    "Rainier_Lat=46.8523\n",
    "MedicineLake_offset=0.1\n",
    "MSH_Lat=46.1914\n",
    "Adams_Lat=46.2024\n",
    "Hood_Lat=45.3736\n",
    "Jefferson_Lat=44.6743\n",
    "NorthSister_Lat=44.1662+offset\n",
    "SouthSister_Lat=44.1034\n",
    "Sisters_Lat=44.13\n",
    "CraterLake_Lat=42.85\n",
    "Shasta_Lat=41.544\n",
    "Lassen_Lat=40.654342\n",
    "MedicineLake_Lat=41.6108\n",
    "GVB_Lat=49.9366\n",
    "Newberry_Lat=43.7221"
   ]
  },
  {
   "cell_type": "code",
   "execution_count": 3,
   "id": "44767b18-7554-4774-8e80-9b08f778cb07",
   "metadata": {},
   "outputs": [],
   "source": [
    "plt.style.use(\"seaborn-colorblind\")\n",
    "plt.rcParams[\"font.family\"] = 'arial'\n",
    "plt.rcParams[\"font.size\"] =12\n",
    "plt.rcParams[\"mathtext.default\"] = \"regular\"\n",
    "plt.rcParams[\"mathtext.fontset\"] = \"dejavusans\"\n",
    "plt.rcParams['patch.linewidth'] = 1\n",
    "plt.rcParams['axes.linewidth'] = 1\n",
    "plt.rcParams[\"xtick.direction\"] = \"in\"\n",
    "plt.rcParams[\"ytick.direction\"] = \"in\"\n",
    "plt.rcParams[\"ytick.direction\"] = \"in\"\n",
    "plt.rcParams[\"xtick.major.size\"] = 6 # Sets length of ticks\n",
    "plt.rcParams[\"ytick.major.size\"] = 4 # Sets length of ticks\n",
    "plt.rcParams[\"ytick.labelsize\"] = 12 # Sets size of numbers on tick marks\n",
    "plt.rcParams[\"xtick.labelsize\"] = 12 # Sets size of numbers on tick marks\n",
    "plt.rcParams[\"axes.titlesize\"] = 14 # Overall title\n",
    "plt.rcParams[\"axes.labelsize\"] = 14 # Axes labels"
   ]
  },
  {
   "cell_type": "markdown",
   "id": "84eea999-2329-48cc-9080-4fd8e221df5a",
   "metadata": {},
   "source": [
    "## Loading in Cpx data"
   ]
  },
  {
   "cell_type": "code",
   "execution_count": 4,
   "id": "cb10e0ab-615c-4e4d-ba53-59a7308e20b7",
   "metadata": {},
   "outputs": [],
   "source": [
    "with open(r'../Combo_Cpx.pkl', 'rb') as f:\n",
    "            All_Cpx=load(f)"
   ]
  },
  {
   "cell_type": "code",
   "execution_count": 5,
   "id": "9bdb592f-e08f-49dd-8a28-cf7fbae459c0",
   "metadata": {},
   "outputs": [
    {
     "data": {
      "text/plain": [
       "array(['GVB', 'Baker', 'Glacier', 'Rainier', 'Adams', 'MSH', 'Hood',\n",
       "       'MedicineLake', 'Jefferson', 'North Sister', 'South Sister',\n",
       "       'CraterLake', 'Shasta', 'Lassen'], dtype=object)"
      ]
     },
     "execution_count": 5,
     "metadata": {},
     "output_type": "execute_result"
    }
   ],
   "source": [
    "All_Cpx['Volcano'].unique()"
   ]
  },
  {
   "cell_type": "markdown",
   "id": "9cdc0108-34ff-4915-867e-c10ee36d4ce7",
   "metadata": {},
   "source": [
    "## Loading in Amp data"
   ]
  },
  {
   "cell_type": "code",
   "execution_count": 8,
   "id": "a00764a1-cf2a-48ba-8874-7cf2eb26f3cc",
   "metadata": {},
   "outputs": [],
   "source": [
    "with open(r'../Combo_Amp.pkl', 'rb') as f:\n",
    "            All_Amp=load(f)\n",
    "\n",
    "with open(r'../Combo_Amp_Filt.pkl', 'rb') as f:\n",
    "            All_Amp_Filt=load(f)\n"
   ]
  },
  {
   "cell_type": "code",
   "execution_count": 9,
   "id": "152e440d-5278-41ea-8893-8894f7b3b223",
   "metadata": {},
   "outputs": [
    {
     "data": {
      "text/plain": [
       "array(['Baker', 'Rainier', 'MSH', 'Adams', 'Hood', 'CraterLake',\n",
       "       'Jefferson', 'MedicineLake', 'Lassen'], dtype=object)"
      ]
     },
     "execution_count": 9,
     "metadata": {},
     "output_type": "execute_result"
    }
   ],
   "source": [
    "All_Amp['Volcano'].unique()"
   ]
  },
  {
   "cell_type": "markdown",
   "id": "e0f87b2d-8387-4d10-9d92-cee8d472c3c6",
   "metadata": {},
   "source": [
    "## Looping over different volcanoes"
   ]
  },
  {
   "cell_type": "code",
   "execution_count": 10,
   "id": "26c62428-f1b9-4a9b-9e1f-698a83d98d7d",
   "metadata": {},
   "outputs": [],
   "source": [
    "rho=2700\n",
    "P_axis_min=-1.5\n",
    "P_axis_max=10\n",
    "D_axis_min=100000*P_axis_min/(9.8*rho)\n",
    "D_axis_max=100000*P_axis_max/(9.8*rho)\n"
   ]
  },
  {
   "cell_type": "code",
   "execution_count": 11,
   "id": "5c9aaa76-ea6b-41a7-ad47-98afc10e01c4",
   "metadata": {},
   "outputs": [
    {
     "data": {
      "text/html": [
       "<div>\n",
       "<style scoped>\n",
       "    .dataframe tbody tr th:only-of-type {\n",
       "        vertical-align: middle;\n",
       "    }\n",
       "\n",
       "    .dataframe tbody tr th {\n",
       "        vertical-align: top;\n",
       "    }\n",
       "\n",
       "    .dataframe thead th {\n",
       "        text-align: right;\n",
       "    }\n",
       "</style>\n",
       "<table border=\"1\" class=\"dataframe\">\n",
       "  <thead>\n",
       "    <tr style=\"text-align: right;\">\n",
       "      <th></th>\n",
       "      <th>P_Wang21_eq1</th>\n",
       "      <th>T_Wang21_eq2</th>\n",
       "      <th>T_Jorgenson22</th>\n",
       "      <th>P_Jorgenson22</th>\n",
       "      <th>T_Petrelli20</th>\n",
       "      <th>T_Petrelli21_H2O</th>\n",
       "      <th>P_Petrelli21_H2O</th>\n",
       "      <th>T_Put_Teq32d_Peq32a</th>\n",
       "      <th>T_Put_Teq32d_Peq32b</th>\n",
       "      <th>P_Petrelli20</th>\n",
       "      <th>...</th>\n",
       "      <th>K2O_Cpx</th>\n",
       "      <th>SampleID</th>\n",
       "      <th>Total</th>\n",
       "      <th>NiO</th>\n",
       "      <th>Stage</th>\n",
       "      <th>test_total</th>\n",
       "      <th>Unnamed: 16</th>\n",
       "      <th>Phase</th>\n",
       "      <th>Preferred_P</th>\n",
       "      <th>Preferred_P2</th>\n",
       "    </tr>\n",
       "  </thead>\n",
       "  <tbody>\n",
       "    <tr>\n",
       "      <th>0</th>\n",
       "      <td>0.194155</td>\n",
       "      <td>1400.801135</td>\n",
       "      <td>1358.921144</td>\n",
       "      <td>1.759463</td>\n",
       "      <td>1361.974444</td>\n",
       "      <td>1429.792222</td>\n",
       "      <td>1.508398</td>\n",
       "      <td>1400.863516</td>\n",
       "      <td>1394.704876</td>\n",
       "      <td>2.061416</td>\n",
       "      <td>...</td>\n",
       "      <td>NaN</td>\n",
       "      <td>NaN</td>\n",
       "      <td>NaN</td>\n",
       "      <td>NaN</td>\n",
       "      <td>NaN</td>\n",
       "      <td>NaN</td>\n",
       "      <td>NaN</td>\n",
       "      <td>Cpx</td>\n",
       "      <td>0.194155</td>\n",
       "      <td>1.759463</td>\n",
       "    </tr>\n",
       "    <tr>\n",
       "      <th>1</th>\n",
       "      <td>-1.426324</td>\n",
       "      <td>1404.939042</td>\n",
       "      <td>1290.846517</td>\n",
       "      <td>1.688204</td>\n",
       "      <td>1293.932222</td>\n",
       "      <td>1414.670000</td>\n",
       "      <td>1.369424</td>\n",
       "      <td>1389.102258</td>\n",
       "      <td>1387.899508</td>\n",
       "      <td>1.793087</td>\n",
       "      <td>...</td>\n",
       "      <td>NaN</td>\n",
       "      <td>NaN</td>\n",
       "      <td>NaN</td>\n",
       "      <td>NaN</td>\n",
       "      <td>NaN</td>\n",
       "      <td>NaN</td>\n",
       "      <td>NaN</td>\n",
       "      <td>Cpx</td>\n",
       "      <td>-1.426324</td>\n",
       "      <td>1.688204</td>\n",
       "    </tr>\n",
       "    <tr>\n",
       "      <th>2</th>\n",
       "      <td>0.331366</td>\n",
       "      <td>1393.253094</td>\n",
       "      <td>1348.876368</td>\n",
       "      <td>1.657224</td>\n",
       "      <td>1349.668889</td>\n",
       "      <td>1416.891111</td>\n",
       "      <td>1.927853</td>\n",
       "      <td>1402.150657</td>\n",
       "      <td>1393.330379</td>\n",
       "      <td>2.144638</td>\n",
       "      <td>...</td>\n",
       "      <td>NaN</td>\n",
       "      <td>NaN</td>\n",
       "      <td>NaN</td>\n",
       "      <td>NaN</td>\n",
       "      <td>NaN</td>\n",
       "      <td>NaN</td>\n",
       "      <td>NaN</td>\n",
       "      <td>Cpx</td>\n",
       "      <td>0.331366</td>\n",
       "      <td>1.657224</td>\n",
       "    </tr>\n",
       "    <tr>\n",
       "      <th>3</th>\n",
       "      <td>0.264655</td>\n",
       "      <td>1425.944868</td>\n",
       "      <td>1319.612687</td>\n",
       "      <td>1.571333</td>\n",
       "      <td>1308.003333</td>\n",
       "      <td>1421.067778</td>\n",
       "      <td>1.346060</td>\n",
       "      <td>1419.184754</td>\n",
       "      <td>1423.491658</td>\n",
       "      <td>1.595929</td>\n",
       "      <td>...</td>\n",
       "      <td>NaN</td>\n",
       "      <td>NaN</td>\n",
       "      <td>NaN</td>\n",
       "      <td>NaN</td>\n",
       "      <td>NaN</td>\n",
       "      <td>NaN</td>\n",
       "      <td>NaN</td>\n",
       "      <td>Cpx</td>\n",
       "      <td>0.264655</td>\n",
       "      <td>1.571333</td>\n",
       "    </tr>\n",
       "    <tr>\n",
       "      <th>4</th>\n",
       "      <td>-0.275789</td>\n",
       "      <td>1419.220640</td>\n",
       "      <td>1293.219652</td>\n",
       "      <td>1.844423</td>\n",
       "      <td>1290.923333</td>\n",
       "      <td>1423.687778</td>\n",
       "      <td>1.510140</td>\n",
       "      <td>1403.527163</td>\n",
       "      <td>1399.823308</td>\n",
       "      <td>1.927824</td>\n",
       "      <td>...</td>\n",
       "      <td>NaN</td>\n",
       "      <td>NaN</td>\n",
       "      <td>NaN</td>\n",
       "      <td>NaN</td>\n",
       "      <td>NaN</td>\n",
       "      <td>NaN</td>\n",
       "      <td>NaN</td>\n",
       "      <td>Cpx</td>\n",
       "      <td>-0.275789</td>\n",
       "      <td>1.844423</td>\n",
       "    </tr>\n",
       "  </tbody>\n",
       "</table>\n",
       "<p>5 rows × 45 columns</p>\n",
       "</div>"
      ],
      "text/plain": [
       "   P_Wang21_eq1  T_Wang21_eq2  T_Jorgenson22  P_Jorgenson22  T_Petrelli20  \\\n",
       "0      0.194155   1400.801135    1358.921144       1.759463   1361.974444   \n",
       "1     -1.426324   1404.939042    1290.846517       1.688204   1293.932222   \n",
       "2      0.331366   1393.253094    1348.876368       1.657224   1349.668889   \n",
       "3      0.264655   1425.944868    1319.612687       1.571333   1308.003333   \n",
       "4     -0.275789   1419.220640    1293.219652       1.844423   1290.923333   \n",
       "\n",
       "   T_Petrelli21_H2O  P_Petrelli21_H2O  T_Put_Teq32d_Peq32a  \\\n",
       "0       1429.792222          1.508398          1400.863516   \n",
       "1       1414.670000          1.369424          1389.102258   \n",
       "2       1416.891111          1.927853          1402.150657   \n",
       "3       1421.067778          1.346060          1419.184754   \n",
       "4       1423.687778          1.510140          1403.527163   \n",
       "\n",
       "   T_Put_Teq32d_Peq32b  P_Petrelli20  ...  K2O_Cpx  SampleID    Total   NiO  \\\n",
       "0          1394.704876      2.061416  ...      NaN       NaN        NaN NaN   \n",
       "1          1387.899508      1.793087  ...      NaN       NaN        NaN NaN   \n",
       "2          1393.330379      2.144638  ...      NaN       NaN        NaN NaN   \n",
       "3          1423.491658      1.595929  ...      NaN       NaN        NaN NaN   \n",
       "4          1399.823308      1.927824  ...      NaN       NaN        NaN NaN   \n",
       "\n",
       "  Stage test_total Unnamed: 16  Phase Preferred_P  Preferred_P2  \n",
       "0   NaN        NaN         NaN    Cpx    0.194155      1.759463  \n",
       "1   NaN        NaN         NaN    Cpx   -1.426324      1.688204  \n",
       "2   NaN        NaN         NaN    Cpx    0.331366      1.657224  \n",
       "3   NaN        NaN         NaN    Cpx    0.264655      1.571333  \n",
       "4   NaN        NaN         NaN    Cpx   -0.275789      1.844423  \n",
       "\n",
       "[5 rows x 45 columns]"
      ]
     },
     "execution_count": 11,
     "metadata": {},
     "output_type": "execute_result"
    }
   ],
   "source": [
    "All_Cpx.head()"
   ]
  },
  {
   "cell_type": "code",
   "execution_count": 12,
   "id": "a93da5d9-d73d-4259-958f-9791b19118f2",
   "metadata": {},
   "outputs": [
    {
     "data": {
      "text/plain": [
       "array(['Baker', 'Rainier', 'MSH', 'Adams', 'Hood', 'CraterLake',\n",
       "       'Jefferson', 'MedicineLake', 'Lassen'], dtype=object)"
      ]
     },
     "execution_count": 12,
     "metadata": {},
     "output_type": "execute_result"
    }
   ],
   "source": [
    "All_Amp['Volcano'].unique()"
   ]
  },
  {
   "cell_type": "code",
   "execution_count": 13,
   "id": "78bd651e-d4de-42e5-b818-167d16063164",
   "metadata": {},
   "outputs": [
    {
     "name": "stderr",
     "output_type": "stream",
     "text": [
      "C:\\Users\\penny\\anaconda3\\lib\\site-packages\\numpy\\lib\\nanfunctions.py:1117: RuntimeWarning: Mean of empty slice\n",
      "  return np.nanmean(a, axis, out=out, keepdims=keepdims)\n",
      "C:\\Users\\penny\\anaconda3\\lib\\site-packages\\numpy\\lib\\nanfunctions.py:1670: RuntimeWarning: Degrees of freedom <= 0 for slice.\n",
      "  var = nanvar(a, axis=axis, dtype=dtype, out=out, ddof=ddof,\n"
     ]
    },
    {
     "name": "stdout",
     "output_type": "stream",
     "text": [
      "new volc\n",
      "Adams\n",
      "new volc\n",
      "MedicineLake\n",
      "new volc\n",
      "North Sister\n"
     ]
    },
    {
     "data": {
      "image/png": "[encoded data removed]",
      "text/plain": [
       "<Figure size 1200x500 with 2 Axes>"
      ]
     },
     "metadata": {},
     "output_type": "display_data"
    }
   ],
   "source": [
    "\n",
    "fig, (ax1) = plt.subplots(1, figsize=(12,5))\n",
    "\n",
    "import matplotlib.patches as patches\n",
    "# Add the patch to the Axes\n",
    "\n",
    "ax2 = ax1.twinx()\n",
    "## Ax1\n",
    "ms_d=10\n",
    "offset=0.05\n",
    "for volc in All_Cpx['Volcano'].unique():\n",
    "    volc_index=All_Cpx['Volcano']==volc\n",
    "    volc_index_Amp=All_Amp['Volcano']==volc\n",
    "\n",
    "\n",
    "    # Color these red\n",
    "    if volc!=\"MedicineLake\" and volc!=\"Adams\" and volc!=\"Newberry\" and volc!=\"North Sister\":\n",
    "        # Cpx\n",
    "        rect=patches.Rectangle((np.nanmedian(All_Cpx['Latitude'].loc[volc_index])-2*offset,\n",
    "                    0),4*offset,P_axis_max,linewidth=1,\n",
    "                               edgecolor='none',facecolor='grey', alpha=0.1, \n",
    "                                 label='test')\n",
    "        ax1.add_patch(rect)\n",
    "        ax1.errorbar(np.nanmedian(All_Cpx['Latitude'].loc[volc_index])-2*offset,\n",
    "                     np.nanmedian(All_Cpx['P_Wang21_eq1'].loc[volc_index]),\n",
    "                     xerr=0,\n",
    "                     yerr=np.nanstd(All_Cpx['P_Wang21_eq1'].loc[volc_index]),\n",
    "                     fmt='d', ecolor='grey', elinewidth=0.8, mfc='blue',\n",
    "                     ms=ms_d, mec='k',  capsize=3)\n",
    "        ax1.errorbar(np.nanmedian(All_Cpx['Latitude'].loc[volc_index])-offset,\n",
    "                     np.nanmedian(All_Cpx['P_Jorgenson22'].loc[volc_index]),\n",
    "                     xerr=0,\n",
    "                     yerr=np.nanstd(All_Cpx['P_Jorgenson22'].loc[volc_index]),\n",
    "                     fmt='d', ecolor='grey', elinewidth=0.8, mfc='orange',\n",
    "                     ms=ms_d, mec='k',  capsize=3)\n",
    "        # Amphibole\n",
    "        ax1.errorbar(np.nanmedian(All_Amp['Latitude'].loc[volc_index_Amp])+offset,\n",
    "                     np.nanmedian(All_Amp['P_Ridolfi21'].loc[volc_index_Amp]),\n",
    "                     xerr=0,\n",
    "                     yerr=np.nanstd(All_Amp['P_Ridolfi21'].loc[volc_index_Amp]),\n",
    "                     fmt='*', ecolor='grey', elinewidth=0.8, mfc='grey',\n",
    "                     ms=ms_d, mec='k',  capsize=3) \n",
    "        \n",
    "        ax1.errorbar(np.nanmedian(All_Amp_Filt['Latitude'].loc[volc_index_Amp])+2*offset,\n",
    "                     np.nanmedian(All_Amp_Filt['P_Ridolfi21'].loc[volc_index_Amp]),\n",
    "                     xerr=0,\n",
    "                     yerr=np.nanstd(All_Amp_Filt['P_Ridolfi21'].loc[volc_index_Amp]),\n",
    "                     fmt='*', ecolor='grey', elinewidth=0.8, mfc='greenyellow',\n",
    "                     ms=ms_d, mec='k',  capsize=3)       \n",
    "    #elif volc!='Adams':\n",
    "    else:\n",
    "        print('new volc')\n",
    "        print(volc)\n",
    "        # rect=patches.Rectangle((np.nanmedian(All_Cpx['Latitude'].loc[volc_index])-2*offset,\n",
    "        #             0),4*offset,P_axis_max,linewidth=1,\n",
    "        #                        edgecolor='red',facecolor='none', alpha=1, \n",
    "        #                          label='test')\n",
    "        #ax1.add_patch(rect)\n",
    "        # if volc!='North Sister':\n",
    "        #     rect=patches.Rectangle((np.nanmedian(All_Cpx['Latitude'].loc[volc_index])-2*offset,\n",
    "        #                 0),4*offset,P_axis_max,linewidth=1,\n",
    "        #                            edgecolor='red',facecolor='red', alpha=0.1, \n",
    "        #                              label='test')\n",
    "        #     ax1.add_patch(rect)\n",
    "        ax1.errorbar(np.nanmedian(All_Cpx['Latitude'].loc[volc_index])-2*offset,\n",
    "                     np.nanmedian(All_Cpx['P_Wang21_eq1'].loc[volc_index]),\n",
    "                     xerr=0,\n",
    "                     yerr=np.nanstd(All_Cpx['P_Wang21_eq1'].loc[volc_index]),\n",
    "                     fmt='d', ecolor='red', elinewidth=1.5, mfc='blue',\n",
    "                     ms=ms_d, mec='r',  capsize=3)\n",
    "        ax1.errorbar(np.nanmedian(All_Cpx['Latitude'].loc[volc_index])-offset,\n",
    "                     np.nanmedian(All_Cpx['P_Jorgenson22'].loc[volc_index]),\n",
    "                     xerr=0,\n",
    "                     yerr=np.nanstd(All_Cpx['P_Jorgenson22'].loc[volc_index]),\n",
    "                     fmt='d', ecolor='red', elinewidth=1.5, mfc='orange',\n",
    "                     ms=ms_d, mec='r',  capsize=3)    \n",
    "        # Amphibole\n",
    "        ax1.errorbar(np.nanmedian(All_Amp['Latitude'].loc[volc_index_Amp])+offset,\n",
    "                     np.nanmedian(All_Amp['P_Ridolfi21'].loc[volc_index_Amp]),\n",
    "                     xerr=0,\n",
    "                     yerr=np.nanstd(All_Amp['P_Ridolfi21'].loc[volc_index_Amp]),\n",
    "                     fmt='*', ecolor='red', elinewidth=1.5, mfc='grey',\n",
    "                     ms=ms_d, mec='r',  capsize=3) \n",
    "        \n",
    "        ax1.errorbar(np.nanmedian(All_Amp_Filt['Latitude'].loc[volc_index_Amp])+2*offset,\n",
    "                     np.nanmedian(All_Amp_Filt['P_Ridolfi21'].loc[volc_index_Amp]),\n",
    "                     xerr=0,\n",
    "                     yerr=np.nanstd(All_Amp_Filt['P_Ridolfi21'].loc[volc_index_Amp]),\n",
    "                     fmt='*', ecolor='red', elinewidth=1.5, mfc='greenyellow',\n",
    "                     ms=ms_d, mec='r',  capsize=3)         \n",
    "        \n",
    "# for volc in All_Amp['Volcano'].unique():\n",
    "#     volc_index=All_Amp['Volcano']==volc\n",
    "ax1.plot([40, 51], [0, 0], '-k')\n",
    "ax1.set_xlim([40, 51])\n",
    "ax1.set_ylim([P_axis_max, P_axis_min])\n",
    "ax2.set_ylim([D_axis_max, D_axis_min])\n",
    "fig.savefig('Cpx_Amp_Lat.png', dpi=200, transparent=True)"
   ]
  },
  {
   "cell_type": "markdown",
   "id": "9c39f481-a7d3-47d0-aeb0-39731dd1afaa",
   "metadata": {},
   "source": [
    "## Hood"
   ]
  },
  {
   "cell_type": "code",
   "execution_count": null,
   "id": "84df20b8-8911-4682-a336-516147956132",
   "metadata": {},
   "outputs": [],
   "source": []
  }
 ],
 "metadata": {
  "kernelspec": {
   "display_name": "Python 3 (ipykernel)",
   "language": "python",
   "name": "python3"
  },
  "language_info": {
   "codemirror_mode": {
    "name": "ipython",
    "version": 3
   },
   "file_extension": ".py",
   "mimetype": "text/x-python",
   "name": "python",
   "nbconvert_exporter": "python",
   "pygments_lexer": "ipython3",
   "version": "3.9.13"
  }
 },
 "nbformat": 4,
 "nbformat_minor": 5
}
