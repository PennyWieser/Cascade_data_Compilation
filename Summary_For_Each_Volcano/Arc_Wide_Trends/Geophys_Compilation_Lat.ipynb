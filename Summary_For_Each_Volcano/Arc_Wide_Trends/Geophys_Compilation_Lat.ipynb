{
 "cells": [
  {
   "cell_type": "code",
   "execution_count": 6,
   "id": "781e6136-0b7d-4994-a1a7-2efb524d8383",
   "metadata": {},
   "outputs": [],
   "source": [
    "import Thermobar as pt\n",
    "import pandas as pd\n",
    "import numpy as np\n",
    "import matplotlib.pyplot as plt\n",
    "from pickle import load\n",
    "import pickle"
   ]
  },
  {
   "cell_type": "code",
   "execution_count": 7,
   "id": "3815ece6-9670-4293-8da5-5a99014a6491",
   "metadata": {},
   "outputs": [],
   "source": [
    "plt.style.use(\"seaborn-colorblind\")\n",
    "plt.rcParams[\"font.family\"] = 'arial'\n",
    "plt.rcParams[\"font.size\"] =12\n",
    "plt.rcParams[\"mathtext.default\"] = \"regular\"\n",
    "plt.rcParams[\"mathtext.fontset\"] = \"dejavusans\"\n",
    "plt.rcParams['patch.linewidth'] = 1\n",
    "plt.rcParams['axes.linewidth'] = 1\n",
    "plt.rcParams[\"xtick.direction\"] = \"in\"\n",
    "plt.rcParams[\"ytick.direction\"] = \"in\"\n",
    "plt.rcParams[\"ytick.direction\"] = \"in\"\n",
    "plt.rcParams[\"xtick.major.size\"] = 6 # Sets length of ticks\n",
    "plt.rcParams[\"ytick.major.size\"] = 4 # Sets length of ticks\n",
    "plt.rcParams[\"ytick.labelsize\"] = 12 # Sets size of numbers on tick marks\n",
    "plt.rcParams[\"xtick.labelsize\"] = 12 # Sets size of numbers on tick marks\n",
    "plt.rcParams[\"axes.titlesize\"] = 14 # Overall title\n",
    "plt.rcParams[\"axes.labelsize\"] = 14 # Axes labels"
   ]
  },
  {
   "cell_type": "markdown",
   "id": "c8fc91fa-fbfc-4145-9b0c-ac22657d6d26",
   "metadata": {},
   "source": [
    "## Latitudes"
   ]
  },
  {
   "cell_type": "code",
   "execution_count": 8,
   "id": "56c9a448-290e-478f-bdb3-77e1b1d388f5",
   "metadata": {},
   "outputs": [],
   "source": [
    "Baker_Lat=48.7767\n",
    "Adams_Lat=46.2024\n",
    "Glacier_Lat=48.1119\n",
    "Rainier_Lat=46.8523\n",
    "MedicineLake_offset=0.1\n",
    "MSH_Lat=46.1914\n",
    "Adams_Lat=46.2024\n",
    "Hood_Lat=45.3736\n",
    "Jefferson_Lat=44.6743\n",
    "NorthSister_Lat=44.1662\n",
    "SouthSister_Lat=44.1034\n",
    "Sisters_Lat=44.13\n",
    "CraterLake_Lat=42.85\n",
    "Shasta_Lat=41.544\n",
    "Lassen_Lat=40.654342\n",
    "MedicineLake_Lat=41.6108\n",
    "GVB_Lat=49.9366\n",
    "Newberry_Lat=43.7221"
   ]
  },
  {
   "cell_type": "markdown",
   "id": "1c3ec90d-d030-4738-8dc2-bd369323c839",
   "metadata": {},
   "source": [
    "# Plot and defining density-depth relationships"
   ]
  },
  {
   "cell_type": "code",
   "execution_count": 9,
   "id": "c3981e30-ae9f-4dc8-a758-3421381fffd5",
   "metadata": {},
   "outputs": [],
   "source": [
    "rho=2700\n",
    "P_axis_min=-1\n",
    "P_axis_max=6\n",
    "D_axis_min=100000*P_axis_min/(9.8*rho)\n",
    "D_axis_max=100000*P_axis_max/(9.8*rho)\n"
   ]
  },
  {
   "cell_type": "markdown",
   "id": "44196e44-f020-4ada-815c-cd8d78a71623",
   "metadata": {},
   "source": [
    "### Geophysical constraints "
   ]
  },
  {
   "cell_type": "code",
   "execution_count": 10,
   "id": "425b6894-afe4-4e19-b13f-368217cfe5c0",
   "metadata": {},
   "outputs": [
    {
     "data": {
      "text/html": [
       "<div>\n",
       "<style scoped>\n",
       "    .dataframe tbody tr th:only-of-type {\n",
       "        vertical-align: middle;\n",
       "    }\n",
       "\n",
       "    .dataframe tbody tr th {\n",
       "        vertical-align: top;\n",
       "    }\n",
       "\n",
       "    .dataframe thead th {\n",
       "        text-align: right;\n",
       "    }\n",
       "</style>\n",
       "<table border=\"1\" class=\"dataframe\">\n",
       "  <thead>\n",
       "    <tr style=\"text-align: right;\">\n",
       "      <th></th>\n",
       "      <th>Volcano</th>\n",
       "      <th>Latitude</th>\n",
       "      <th>Depth</th>\n",
       "      <th>Depth definition</th>\n",
       "      <th>Reference</th>\n",
       "      <th>Unnamed: 5</th>\n",
       "      <th>Unnamed: 6</th>\n",
       "    </tr>\n",
       "  </thead>\n",
       "  <tbody>\n",
       "    <tr>\n",
       "      <th>0</th>\n",
       "      <td>Lassen</td>\n",
       "      <td>40.654342</td>\n",
       "      <td>18.16</td>\n",
       "      <td>Mean elevation of seismic network (+2km for ML)</td>\n",
       "      <td>Pitt et al. 2002</td>\n",
       "      <td>NaN</td>\n",
       "      <td>NaN</td>\n",
       "    </tr>\n",
       "    <tr>\n",
       "      <th>1</th>\n",
       "      <td>Lassen</td>\n",
       "      <td>40.654342</td>\n",
       "      <td>12.42</td>\n",
       "      <td>Mean elevation of seismic network (+2km for ML)</td>\n",
       "      <td>Pitt et al. 2002</td>\n",
       "      <td>NaN</td>\n",
       "      <td>NaN</td>\n",
       "    </tr>\n",
       "    <tr>\n",
       "      <th>2</th>\n",
       "      <td>Lassen</td>\n",
       "      <td>40.654342</td>\n",
       "      <td>17.86</td>\n",
       "      <td>Mean elevation of seismic network (+2km for ML)</td>\n",
       "      <td>Pitt et al. 2002</td>\n",
       "      <td>NaN</td>\n",
       "      <td>NaN</td>\n",
       "    </tr>\n",
       "    <tr>\n",
       "      <th>3</th>\n",
       "      <td>Lassen</td>\n",
       "      <td>40.654342</td>\n",
       "      <td>26.62</td>\n",
       "      <td>Mean elevation of seismic network (+2km for ML)</td>\n",
       "      <td>Pitt et al. 2002</td>\n",
       "      <td>NaN</td>\n",
       "      <td>NaN</td>\n",
       "    </tr>\n",
       "    <tr>\n",
       "      <th>4</th>\n",
       "      <td>Lassen</td>\n",
       "      <td>40.654342</td>\n",
       "      <td>14.08</td>\n",
       "      <td>Mean elevation of seismic network (+2km for ML)</td>\n",
       "      <td>Pitt et al. 2002</td>\n",
       "      <td>NaN</td>\n",
       "      <td>NaN</td>\n",
       "    </tr>\n",
       "  </tbody>\n",
       "</table>\n",
       "</div>"
      ],
      "text/plain": [
       "  Volcano   Latitude  Depth                                 Depth definition  \\\n",
       "0  Lassen  40.654342  18.16  Mean elevation of seismic network (+2km for ML)   \n",
       "1  Lassen  40.654342  12.42  Mean elevation of seismic network (+2km for ML)   \n",
       "2  Lassen  40.654342  17.86  Mean elevation of seismic network (+2km for ML)   \n",
       "3  Lassen  40.654342  26.62  Mean elevation of seismic network (+2km for ML)   \n",
       "4  Lassen  40.654342  14.08  Mean elevation of seismic network (+2km for ML)   \n",
       "\n",
       "          Reference  Unnamed: 5  Unnamed: 6  \n",
       "0  Pitt et al. 2002         NaN         NaN  \n",
       "1  Pitt et al. 2002         NaN         NaN  \n",
       "2  Pitt et al. 2002         NaN         NaN  \n",
       "3  Pitt et al. 2002         NaN         NaN  \n",
       "4  Pitt et al. 2002         NaN         NaN  "
      ]
     },
     "execution_count": 10,
     "metadata": {},
     "output_type": "execute_result"
    }
   ],
   "source": [
    "LPs=pd.read_excel(r'../Geophysics_April23.xlsx',\n",
    "                  sheet_name=\"LPEarthquakes\")\n",
    "LPs_Lassen=LPs.loc[LPs['Volcano']==\"Lassen\"]\n",
    "LPs.head()"
   ]
  },
  {
   "cell_type": "code",
   "execution_count": 11,
   "id": "a2dd4338-0c0f-4102-9c8f-0621ebd1e223",
   "metadata": {},
   "outputs": [],
   "source": [
    "rho=2700\n",
    "P_axis_min2=0\n",
    "P_axis_max2=10\n",
    "D_axis_min2=100000*P_axis_min2/(9.8*rho)\n",
    "D_axis_max2=100000*P_axis_max2/(9.8*rho)"
   ]
  },
  {
   "cell_type": "code",
   "execution_count": 36,
   "id": "e20cfb01-dade-4cbc-b4dc-56e7ed22a7da",
   "metadata": {},
   "outputs": [
    {
     "data": {
      "image/png": "[encoded data removed]",
      "text/plain": [
       "<Figure size 1200x500 with 2 Axes>"
      ]
     },
     "metadata": {},
     "output_type": "display_data"
    }
   ],
   "source": [
    "fig, (ax1) = plt.subplots(1, figsize=(12,5))\n",
    "ax2 = ax1.twinx()\n",
    "width=0.05\n",
    "offset=0.05\n",
    "import matplotlib.patches as patches\n",
    "\n",
    "Adams_offset=0.2\n",
    "################################# NEWBERRY VOLCANO ##################################\n",
    "sep=0.5\n",
    "width=0.05\n",
    "### SEISMIC CONSTRAINTS\n",
    "# Achauer 1988 - 3-5 km depth below the caldera\n",
    "rect_A1988 = patches.Rectangle((Newberry_Lat,3),width, 2,linewidth=1,\n",
    "                            edgecolor='r',facecolor='red')\n",
    "ax2.add_patch(rect_A1988)\n",
    "\n",
    "# Beachy 2012 - low central velocity at 3-6 km depth. Best fit, molten at 4-5 km depth\n",
    "rect_B2012 = patches.Rectangle((Newberry_Lat+offset*0.3,3),0.2, 3,linewidth=1,\n",
    "                            edgecolor='k',facecolor='red', alpha=0.4)\n",
    "ax2.add_patch(rect_B2012)\n",
    "rect_B2012_M = patches.Rectangle((Newberry_Lat+offset*0.3,4),width, 1,linewidth=1,\n",
    "                            edgecolor='k',facecolor='red', alpha=1)\n",
    "ax2.add_patch(rect_B2012_M)\n",
    "\n",
    "# Heath et al. 2015 - 3-5 km below the crater flow. \n",
    "rect_H2015 = patches.Rectangle((Newberry_Lat+offset*0.6,3),width, 2,linewidth=1,\n",
    "                            edgecolor='r',facecolor='red')\n",
    "ax2.add_patch(rect_H2015)\n",
    "\n",
    "# Heath et al. 2018 - P wave reflectoin at 2.5 km\n",
    "ax2.plot([Newberry_Lat+offset*0.9, Newberry_Lat+offset*1.1],[2.5, 2.5], '-r',  lw=3)\n",
    "\n",
    "# MT\n",
    "rect_BM = patches.Rectangle((Newberry_Lat+offset*1.5,3),width, 1,linewidth=1,\n",
    "                            edgecolor='b',facecolor='blue')\n",
    "ax2.add_patch(rect_BM)\n",
    "\n",
    "# Geodetics.\n",
    "ax2.plot([Newberry_Lat, Newberry_Lat+width],[10, 10], '-k',  lw=3)\n",
    "\n",
    "\n",
    "###################################### LASSEN PEAK #######################################\n",
    "elev=3.189\n",
    "stat_elev_diff=elev-2.25\n",
    "\n",
    "# Park and Ostos (2013) MT\n",
    "rect_PO = patches.Rectangle((Lassen_Lat,15+elev),width,15+elev,linewidth=1,\n",
    "                            edgecolor='blue',facecolor='blue')\n",
    "ax2.add_patch(rect_PO)\n",
    "\n",
    "# Benz et al. (1992)\n",
    "# rect_PO = patches.Rectangle((Lassen_Lat+offset,0+elev),width,15+elev,linewidth=1,\n",
    "#                             edgecolor='r',facecolor='red')\n",
    "# ax2.add_patch(rect_PO)\n",
    "\n",
    "############################################ MOUNT SHASTA ############################3\n",
    "\n",
    "elev=4.321\n",
    "# # Thurber et al., (2009) LVZ - Doesnt explicitly say, but at one point, says below sea level in article, so presume all depths that way. \n",
    "ax2.plot(Shasta_Lat, 12+elev, '*k', mfc='red', ms=15)\n",
    "\n",
    "############################################ MEDICINE LAKE ################################\n",
    "\n",
    "\n",
    "\n",
    "\n",
    "# GChiarabba heter inversion, says 3-7 km depending on which \n",
    "rect_C1995_h = patches.Rectangle((MedicineLake_Lat+MedicineLake_offset,3),width,7-3,linewidth=1,\n",
    "                            edgecolor='red',facecolor='red')\n",
    "\n",
    "# Evans and Zucca, slightly different values\n",
    "rect_EZ = patches.Rectangle((MedicineLake_Lat+MedicineLake_offset+offset,3.58), width,5.626-3.58,linewidth=1,\n",
    "                            edgecolor='red',facecolor='magenta')\n",
    "ax2.add_patch(rect_C1995_h)\n",
    "ax2.add_patch(rect_EZ)\n",
    "\n",
    "########################################### Three Sisters ###########################\n",
    "\n",
    "elev=1.7 # Have choosen average elevation of ground around sisters, as source offset. \n",
    "\n",
    "# Wicks, 2002 - 6.5 +0.4\n",
    "ax2.errorbar(Sisters_Lat, 6.5, xerr=0, yerr=0.4,  \n",
    "             fmt='*', ecolor='k', elinewidth=0.8, mfc='k', \n",
    "             ms=15, mec='k', capsize=4)\n",
    "\n",
    "# dzurisin 2006 - 6.5 +2.5 km depth - Best fit sill\n",
    "ax2.errorbar(Sisters_Lat, 6.5, xerr=0, yerr=2.5, capsize=4,   fmt='*', ecolor='k', elinewidth=0.8, mfc='k', ms=15, mec='k')\n",
    "\n",
    "#Dzurisin 2009 - 4.4 km if network translation ignored\n",
    "ax2.plot(Sisters_Lat, 4.4, '*k', mfc='k', ms=15)\n",
    "ax2.plot(Sisters_Lat, 5.4, '*k', mfc='k', ms=15)\n",
    "\n",
    "# Riddick and Schmidt, 4-5.5 km bgl for mogi\n",
    "rect_RS = patches.Rectangle((Sisters_Lat,4),width,1.5,linewidth=1,\n",
    "                            edgecolor='black',facecolor='black')\n",
    "ax2.add_patch(rect_RS)\n",
    "\n",
    "# 7 km depth for Sill\n",
    "ax2.plot(Sisters_Lat, 7, '*k', mfc='k', ms=15)\n",
    "\n",
    "\n",
    "#################### MSH ########################################\n",
    "\n",
    "\n",
    "\n",
    "elev=2.549 # Elevation of MSH in Km\n",
    "mean_elev=elev-1.300 # Mean station elevation\n",
    "\n",
    "sep=0.5\n",
    "### SEISMIC CONSTRAINTS\n",
    "MSH_offset=0.03\n",
    "# Barker and Malone, 7-11 km bsl Aseismic Zone\n",
    "rect_BM1991 = patches.Rectangle((MSH_Lat,7+elev),width, 11-7,linewidth=1,\n",
    "                            edgecolor='k',facecolor='red')\n",
    "ax2.add_patch(rect_BM1991)\n",
    "\n",
    "# Musumeci et al. (2002) bsl Aseismic Zone\n",
    "rect_M2002 = patches.Rectangle((MSH_Lat-MSH_offset,5.5+elev),width, 10-5.5,linewidth=1,\n",
    "                            edgecolor='k',facecolor='red')\n",
    "ax2.add_patch(rect_M2002)\n",
    "\n",
    "# Waite and Moran, 2008 -  2-3.5 km - Low Velocity Zone\n",
    "rect_WM2008 = patches.Rectangle((-MSH_offset*2+MSH_Lat,2+elev),width, 3.5-2,linewidth=1,\n",
    "                            edgecolor='k',facecolor='red')\n",
    "ax2.add_patch(rect_WM2008)\n",
    "\n",
    "# Low evlocities at 5.5-8 k msl. \n",
    "rect_WM20082 = patches.Rectangle((-MSH_offset*3+MSH_Lat,5.5+elev),width, 8-5.5,linewidth=1,\n",
    "                            edgecolor='k',facecolor='red')\n",
    "ax2.add_patch(rect_WM20082)\n",
    "\n",
    "# Kiser et al. 2016 -High VP-VS region 4-13 km bsl  \n",
    "rect_K2016 = patches.Rectangle((MSH_offset*1+MSH_Lat,4+elev),width,13-4,linewidth=1,\n",
    "                            edgecolor='k',facecolor='red')\n",
    "ax2.add_patch(rect_K2016)\n",
    "\n",
    "#  Kiser et al. 2018 - 3.5 to 14 km bsl. \n",
    "rect_K2018 = patches.Rectangle((MSH_offset*2+MSH_Lat,3.5+elev),width,14-3.5,linewidth=1,\n",
    "                            edgecolor='k',facecolor='red', alpha=0.5)\n",
    "ax2.add_patch(rect_K2018)\n",
    "# Highest melt fractions\n",
    "rect_K2018H = patches.Rectangle((MSH_offset*3+MSH_Lat,4+elev),width,6-4,linewidth=1,\n",
    "                            edgecolor='k',facecolor='red', alpha=1)\n",
    "ax2.add_patch(rect_K2018H)\n",
    "\n",
    "# Ulberg et al. (2020) - \n",
    "rect_U2020 = patches.Rectangle((MSH_offset*4+MSH_Lat,6+elev),width,15-6,linewidth=1,\n",
    "                            edgecolor='k',facecolor='red')\n",
    "ax2.add_patch(rect_U2020)\n",
    "\n",
    "\n",
    "################################### GEODETIC EVIDENCE\n",
    "\n",
    "# Lisowski et al. GPS best fit, says 7.9 km from mean height of the volcano\n",
    "\n",
    "rect_L = patches.Rectangle((MSH_Lat,7+mean_elev),width,8-7,linewidth=1,\n",
    "                            edgecolor='k',facecolor='black')\n",
    "ax2.add_patch(rect_L)\n",
    "\n",
    "\n",
    "\n",
    "# Mastin et al. - top is at 5+-1 km, bottom is 10-20 km \n",
    "rect_M = patches.Rectangle((MSH_Lat,4+mean_elev),width,10-4,linewidth=1,\n",
    "                            edgecolor='k',facecolor='black', alpha=1)\n",
    "ax2.add_patch(rect_M)\n",
    "\n",
    "rect_M2 = patches.Rectangle((MSH_Lat,4+mean_elev),width,20-4,linewidth=1,\n",
    "                            edgecolor='k',facecolor='black', alpha=0.5)\n",
    "ax2.add_patch(rect_M2)\n",
    "\n",
    "## Magnetotelluric data \n",
    "# Hill et al. (2009)\n",
    "rect_H1 = patches.Rectangle((MSH_Lat,3+elev),width,15-3,linewidth=1,\n",
    "                            edgecolor='k',facecolor='blue', alpha=1)\n",
    "ax2.add_patch(rect_H1)\n",
    "# rect_H2 = patches.Rectangle((MSH_Lat,15+elev),width,25-15,linewidth=1,\n",
    "#                             edgecolor='k',facecolor='blue', alpha=0.5)\n",
    "# ax2.add_patch(rect_H2)\n",
    "\n",
    "\n",
    "\n",
    "######################################## MOUNT ADAMS ##########################################\n",
    "\n",
    "elev=3.7432 # Elevation of mt adams in km\n",
    "\n",
    "sep=0.5\n",
    "\n",
    "## Magnetotelluric data \n",
    "# # Hill et al. (2009)\n",
    "# rect_H1 = patches.Rectangle((Adams_Lat+Adams_offset, 3+elev),width,25-10,linewidth=1,\n",
    "#                             edgecolor='k',facecolor='blue', alpha=1)\n",
    "# ax2.add_patch(rect_H1)\n",
    "\n",
    "\n",
    "######################################### Mt. Rainier #########################################\n",
    "elev=4.3925 # Elevation of Rainier in Km\n",
    "mean_elev=elev-1.300 # Mean station elevation\n",
    "\n",
    "sep=0.5\n",
    "### SEISMIC CONSTRAINTS\n",
    "# Moran et al. 199 - P wave.\n",
    "rect_M1999 = patches.Rectangle((Rainier_Lat,1+elev),width, 14-1,linewidth=1,\n",
    "                            edgecolor='k',facecolor='red')\n",
    "ax2.add_patch(rect_M1999)\n",
    "\n",
    "# Flinders and Shen, 2017.\n",
    "rect_FS2017 = patches.Rectangle((Rainier_Lat,1+elev),width, 8-1,linewidth=1,\n",
    "                            edgecolor='k',facecolor='red')\n",
    "ax2.add_patch(rect_FS2017)\n",
    "\n",
    "# General region of Mt. St. Helens to Mt. Rainier\n",
    "# LatDiff=Rainier_Lat-MSH_Lat\n",
    "# rect_H1 = patches.Rectangle((LatDiff+MSH_Lat, 15),LatDiff,30,linewidth=1,\n",
    "#                              edgecolor='k',facecolor='blue', alpha=1)\n",
    "# ax2.add_patch(rect_H1)\n",
    "\n",
    "\n",
    "############################ Mount Baker ################################################\n",
    "av_stat_level=2.000\n",
    "summit_height=3.2876\n",
    "dif=summit_height-av_stat_level\n",
    "## Hodge and Crider - GPS.\n",
    "ax2.plot(Baker_Lat, 5.8+dif, 12, '*k', mfc='black', ms=15)\n",
    "\n",
    "\n",
    "\n",
    "# Glacier peak - Nothing\n",
    "# Baker - Hodge and Crider\n",
    "av_stat_level=2000\n",
    "summit_height=3287.6\n",
    "dif=summit_height-av_stat_level\n",
    "## Hodge and Crider - GPS.\n",
    "ax2.plot(Baker_Lat,  12, '*k', mfc='black', ms=15)\n",
    "\n",
    "\n",
    "ax1.set_ylim([P_axis_max2, P_axis_min2])\n",
    "ax2.set_ylim([D_axis_max2, D_axis_min2])\n",
    "\n",
    "rect_regional = patches.Rectangle((Rainier_Lat+0.1,10), Hood_Lat-Rainier_Lat-0.2, 10, linewidth=1,\n",
    "                            edgecolor='k',facecolor='None', alpha=0.5)\n",
    "ax2.add_patch(rect_regional)\n",
    "\n",
    "\n",
    "\n",
    "# ax1.set_xticks([Lassen_Lat, Shasta_Lat, MedicineLake_Lat+MedicineLake_offset, CraterLake_Lat, Newberry_Lat, Sisters_Lat, \n",
    "#                 Jefferson_Lat, Hood_Lat, MSH_Lat+offset, Adams_Lat+Adams_offset,\n",
    "#                Rainier_Lat, Glacier_Lat, Baker_Lat])\n",
    "# ax1.set_xticklabels(['Lassen', 'Shasta', 'Medicine Lake', 'Crater Lake', 'Newberry', 'Sisters', 'Jefferson', 'Hood', 'MSH', 'Adams', 'Rainier',\n",
    "#                     'Glacier', 'Baker'], rotation=90)\n",
    "ax1.grid(color = 'k', linestyle = '--', axis='y',linewidth = 1, alpha = 0.1, zorder=0)\n",
    "ax1.grid(color = 'k', linestyle = '--', axis='x',linewidth = 1, alpha = 0.1, zorder=0)\n",
    "ax1.set_xlim([40, 51])\n",
    "#ax2.set_xticklabels([40, 42, 44])\n",
    "# ax2.set_xticks([40, 42, 44, 46, 48, 50])\n",
    "# ax2.set_xticklabels([40, 42, 44, 46, 48, 50])\n",
    "ax2.set_xlim([40, 51])\n",
    "\n",
    "\n",
    "# ax1.set_ylabel('Pressure (kbar)')\n",
    "# ax2.set_ylabel('Depth (km)')\n",
    "\n",
    "fig.savefig('Along_arc_Geophys.png', dpi=200, transparent=True)"
   ]
  },
  {
   "cell_type": "code",
   "execution_count": 13,
   "id": "36b2fd2f-444e-4a44-8890-1f87021326c1",
   "metadata": {},
   "outputs": [
    {
     "data": {
      "text/plain": [
       "37.792894935752074"
      ]
     },
     "execution_count": 13,
     "metadata": {},
     "output_type": "execute_result"
    }
   ],
   "source": [
    "D_axis_max2"
   ]
  },
  {
   "cell_type": "markdown",
   "id": "00447959-d2ad-4d82-9c5b-466314237616",
   "metadata": {},
   "source": [
    "## Loading 2022 Dan Rasmusen data"
   ]
  },
  {
   "cell_type": "code",
   "execution_count": 15,
   "id": "d71afa40-00aa-4d7e-bec8-263eff2af0e1",
   "metadata": {},
   "outputs": [],
   "source": [
    "geo_df=pd.read_excel('Rasmussen_2022_Science.xlsx', sheet_name='Geophysic_Comp')\n",
    "geo_df['Av']=(geo_df['Depth_min_km']+geo_df['Depth_max_km'])/2"
   ]
  },
  {
   "cell_type": "code",
   "execution_count": 16,
   "id": "db88da42-dd8d-413d-b284-464686595426",
   "metadata": {},
   "outputs": [
    {
     "data": {
      "text/plain": [
       "array(['Seismicity', 'InSAR', 'GPS', 'Geodesy', 'Multidisciplinary',\n",
       "       'Infrasound', 'GPS, InSAR', 'Tilt', 'EM', 'InSAR, GPS', 'MT',\n",
       "       'Leveling', 'Gravity', 'EDM', 'GPS, Tilt', 'Muon radiography', nan],\n",
       "      dtype=object)"
      ]
     },
     "execution_count": 16,
     "metadata": {},
     "output_type": "execute_result"
    }
   ],
   "source": [
    "geo_df['Technique'].unique()"
   ]
  },
  {
   "cell_type": "code",
   "execution_count": 17,
   "id": "91c8f4fc-5493-4e29-8a84-d0c600e211be",
   "metadata": {},
   "outputs": [],
   "source": [
    "geo_geod=geo_df.loc[(geo_df['Technique']==\"GPS\") | \n",
    "                    (geo_df['Technique']==\"GPS, InSAR\") | \n",
    "                     (geo_df['Technique']==\"Geodesy\") | \n",
    "                    (geo_df['Technique']==\"Gravity\") | \n",
    "                    (geo_df['Technique']==\"Tilt\") | \n",
    "                    (geo_df['Technique']==\"Leveling\") | \n",
    "                    (geo_df['Technique']==\"EDM\") | \n",
    "                   (geo_df['Technique']==\"InSAR\")]"
   ]
  },
  {
   "cell_type": "code",
   "execution_count": 18,
   "id": "715ba7e1-151e-4a39-900c-62d431494857",
   "metadata": {},
   "outputs": [],
   "source": [
    "geo_seis=geo_df.loc[geo_df['Technique']==\"Seismicity\"]\n",
    "geo_geod=geo_df.loc[(geo_df['Technique']==\"GPS\") | \n",
    "                    (geo_df['Technique']==\"GPS, InSAR\") | \n",
    "                     (geo_df['Technique']==\"Geodesy\") | \n",
    "                    (geo_df['Technique']==\"Gravity\") | \n",
    "                    (geo_df['Technique']==\"Tilt\") | \n",
    "                    (geo_df['Technique']==\"Leveling\") | \n",
    "                    (geo_df['Technique']==\"EDM\") | \n",
    "                   (geo_df['Technique']==\"InSAR\")]\n",
    "\n",
    "\n",
    "geo_MT=geo_df.loc[(geo_df['Technique']==\"EM\")|\n",
    "                  (geo_df['Technique']==\"MT\")\n",
    "                   ]"
   ]
  },
  {
   "cell_type": "code",
   "execution_count": 41,
   "id": "0885a61b-f95a-4386-8ef0-a14a1176839d",
   "metadata": {},
   "outputs": [
    {
     "data": {
      "image/png": "[encoded data removed]",
      "text/plain": [
       "<Figure size 150x500 with 2 Axes>"
      ]
     },
     "metadata": {},
     "output_type": "display_data"
    }
   ],
   "source": [
    "fig, (ax1) = plt.subplots(1, figsize=(1.5,5))\n",
    "ax2 = ax1.twinx()\n",
    "ax2.hist(geo_geod['Av'], orientation=\"horizontal\", facecolor='black', ec='k'\n",
    "        , density='True')\n",
    "\n",
    "ax2.hist(geo_seis['Av'], orientation=\"horizontal\", facecolor='red', ec='k'\n",
    "       , density='True')\n",
    "ax2.hist(geo_MT['Av'], orientation=\"horizontal\", facecolor='blue', ec='w', density='True')\n",
    "\n",
    "ax1.set_ylim([P_axis_max2, P_axis_min2])\n",
    "ax2.set_ylim([D_axis_max2, D_axis_min2])\n",
    "ax1.set_xticks([])\n",
    "rect_Huber = patches.Rectangle((0,1.5),35,1,linewidth=1,\n",
    "                            edgecolor='None',facecolor='magenta', alpha=0.1)\n",
    "\n",
    "ax1.add_patch(rect_Huber)\n",
    "ax1.set_yticks([])\n",
    "ax1.set_xlim([0, 0.15])\n",
    "ax1.grid(color = 'k', linestyle = '--', axis='y',linewidth = 1, alpha = 0.1)\n",
    "\n",
    "fig.savefig('DanR.png', dpi=200,bbox_inches='tight', transparent=True)"
   ]
  },
  {
   "cell_type": "code",
   "execution_count": null,
   "id": "a07d5c9a-3319-485b-bf86-815908e9f994",
   "metadata": {},
   "outputs": [],
   "source": []
  },
  {
   "cell_type": "code",
   "execution_count": 39,
   "id": "bf73561c-ee2f-4e32-b4d0-0f81934e8818",
   "metadata": {},
   "outputs": [
    {
     "ename": "NameError",
     "evalue": "name 'ax' is not defined",
     "output_type": "error",
     "traceback": [
      "\u001b[1;31m---------------------------------------------------------------------------\u001b[0m",
      "\u001b[1;31mNameError\u001b[0m                                 Traceback (most recent call last)",
      "Input \u001b[1;32mIn [39]\u001b[0m, in \u001b[0;36m<module>\u001b[1;34m\u001b[0m\n\u001b[0;32m     10\u001b[0m ax1\u001b[38;5;241m.\u001b[39madd_patch(rect_Huber)\n\u001b[0;32m     11\u001b[0m \u001b[38;5;66;03m#ax1.set_yticks([])\u001b[39;00m\n\u001b[1;32m---> 12\u001b[0m \u001b[43max\u001b[49m\u001b[38;5;241m.\u001b[39mgrid(color \u001b[38;5;241m=\u001b[39m \u001b[38;5;124m'\u001b[39m\u001b[38;5;124mk\u001b[39m\u001b[38;5;124m'\u001b[39m, linestyle \u001b[38;5;241m=\u001b[39m \u001b[38;5;124m'\u001b[39m\u001b[38;5;124m--\u001b[39m\u001b[38;5;124m'\u001b[39m, axis\u001b[38;5;241m=\u001b[39m\u001b[38;5;124m'\u001b[39m\u001b[38;5;124my\u001b[39m\u001b[38;5;124m'\u001b[39m,linewidth \u001b[38;5;241m=\u001b[39m \u001b[38;5;241m1\u001b[39m, alpha \u001b[38;5;241m=\u001b[39m \u001b[38;5;241m0.1\u001b[39m)\n\u001b[0;32m     14\u001b[0m fig\u001b[38;5;241m.\u001b[39msavefig(\u001b[38;5;124m'\u001b[39m\u001b[38;5;124mDanR.png\u001b[39m\u001b[38;5;124m'\u001b[39m, dpi\u001b[38;5;241m=\u001b[39m\u001b[38;5;241m200\u001b[39m,bbox_inches\u001b[38;5;241m=\u001b[39m\u001b[38;5;124m'\u001b[39m\u001b[38;5;124mtight\u001b[39m\u001b[38;5;124m'\u001b[39m)\n",
      "\u001b[1;31mNameError\u001b[0m: name 'ax' is not defined"
     ]
    },
    {
     "data": {
      "image/png": "[encoded data removed]",
      "text/plain": [
       "<Figure size 108x360 with 2 Axes>"
      ]
     },
     "metadata": {
      "needs_background": "light"
     },
     "output_type": "display_data"
    }
   ],
   "source": [
    "fig, (ax1) = plt.subplots(1, figsize=(1.5,5))\n",
    "ax2 = ax1.twinx()\n",
    "ax2.hist(geo_df['Av'], orientation=\"horizontal\", facecolor='cyan', ec='k', bins=10)\n",
    "ax1.set_ylim([P_axis_max2, P_axis_min2])\n",
    "ax2.set_ylim([D_axis_max2, D_axis_min2])\n",
    "ax1.set_xticks([])\n",
    "rect_Huber = patches.Rectangle((0,1.5),35,1,linewidth=1,\n",
    "                            edgecolor='None',facecolor='magenta', alpha=0.1)\n",
    "\n",
    "ax1.add_patch(rect_Huber)\n",
    "#ax1.set_yticks([])\n",
    "ax.grid(color = 'k', linestyle = '--', axis='y',linewidth = 1, alpha = 0.1)\n",
    "\n",
    "fig.savefig('DanR.png', dpi=200,bbox_inches='tight')"
   ]
  },
  {
   "cell_type": "markdown",
   "id": "eb7cca89-d850-4258-9ce2-e922be44cd2f",
   "metadata": {},
   "source": [
    "## Loading Dans data"
   ]
  },
  {
   "cell_type": "code",
   "execution_count": 35,
   "id": "3014f9e4-bb0a-4855-b7d1-7749ca0d499a",
   "metadata": {},
   "outputs": [],
   "source": [
    "Dan=pd.read_excel('Rasmussen.xlsx', sheet_name='Python')"
   ]
  },
  {
   "cell_type": "code",
   "execution_count": 56,
   "id": "b9858a5f-8dd2-4018-aa96-60d99086e8a8",
   "metadata": {},
   "outputs": [
    {
     "data": {
      "image/png": "[encoded data removed]",
      "text/plain": [
       "<Figure size 144x360 with 2 Axes>"
      ]
     },
     "metadata": {
      "needs_background": "light"
     },
     "output_type": "display_data"
    }
   ],
   "source": [
    "fig, (ax1) = plt.subplots(1, figsize=(2,5))\n",
    "ax2 = ax1.twinx()\n",
    "Dan['Av']=0.5*Dan['Depthmina (km)']+0.5*Dan['Depthmaxa (km)'] \n",
    "ax2.hist(Dan['Av'], orientation=\"horizontal\", facecolor='cyan', ec='k')\n",
    "ax1.set_ylim([P_axis_max2, P_axis_min2])\n",
    "ax2.set_ylim([D_axis_max2, D_axis_min2])\n",
    "ax1.set_xticks([])\n",
    "rect_Huber = patches.Rectangle((0,1.5),35,1,linewidth=1,\n",
    "                            edgecolor='None',facecolor='magenta', alpha=0.1)\n",
    "ax1.add_patch(rect_Huber)\n",
    "\n",
    "fig.savefig('DanR.png', dpi=200,bbox_inches='tight')"
   ]
  },
  {
   "cell_type": "code",
   "execution_count": null,
   "id": "e2d21f3e-4cea-43ba-b4fe-8a1ec61dd899",
   "metadata": {},
   "outputs": [],
   "source": []
  }
 ],
 "metadata": {
  "kernelspec": {
   "display_name": "Python 3 (ipykernel)",
   "language": "python",
   "name": "python3"
  },
  "language_info": {
   "codemirror_mode": {
    "name": "ipython",
    "version": 3
   },
   "file_extension": ".py",
   "mimetype": "text/x-python",
   "name": "python",
   "nbconvert_exporter": "python",
   "pygments_lexer": "ipython3",
   "version": "3.9.13"
  }
 },
 "nbformat": 4,
 "nbformat_minor": 5
}
