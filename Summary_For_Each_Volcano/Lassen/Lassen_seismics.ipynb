{
 "cells": [
  {
   "cell_type": "code",
   "execution_count": 3,
   "id": "274ece59-897a-40c2-8f2b-ab22b6389698",
   "metadata": {},
   "outputs": [],
   "source": [
    "import numpy as np\n",
    "import pandas as pd\n",
    "import matplotlib.pyplot as plt"
   ]
  },
  {
   "cell_type": "code",
   "execution_count": 7,
   "id": "e0aa4456-440d-4bb4-86aa-12d7e8a78c9a",
   "metadata": {},
   "outputs": [],
   "source": [
    "df=pd.read_excel('Cascade_Seismic_Stations.xlsx', sheet_name='Lassen')\n",
    "df_t=df.iloc[0:13, :]\n",
    "df_t=df_t.sort_values('Start Yr', ascending=True)"
   ]
  },
  {
   "cell_type": "code",
   "execution_count": 8,
   "id": "e2b209ac-c87e-4382-9da8-a478eac94c2d",
   "metadata": {},
   "outputs": [],
   "source": [
    "sp1_p=(df_t['Classification: 1sp, 3sp, 3bb ']==\"1sp\") & (df_t['End Yr']>=2022)\n",
    "bb3_p=(df_t['Classification: 1sp, 3sp, 3bb ']==\"3bb\")  & (df_t['End Yr']>=2022)\n",
    "sp3_p=(df_t['Classification: 1sp, 3sp, 3bb ']==\"3sp\")& (df_t['End Yr']>=2022)\n",
    "\n",
    "sp1_r=(df_t['Classification: 1sp, 3sp, 3bb ']==\"1sp\") & (df_t['End Yr']<2022)\n",
    "bb3_r=(df_t['Classification: 1sp, 3sp, 3bb ']==\"3bb\")  & (df_t['End Yr']<2022)\n",
    "sp3_r=(df_t['Classification: 1sp, 3sp, 3bb ']==\"3sp\")& (df_t['End Yr']<2022)"
   ]
  },
  {
   "cell_type": "code",
   "execution_count": 9,
   "id": "d3591cf9-2a2f-4e34-a677-c4a0ebf4102c",
   "metadata": {},
   "outputs": [
    {
     "data": {
      "text/html": [
       "<div>\n",
       "<style scoped>\n",
       "    .dataframe tbody tr th:only-of-type {\n",
       "        vertical-align: middle;\n",
       "    }\n",
       "\n",
       "    .dataframe tbody tr th {\n",
       "        vertical-align: top;\n",
       "    }\n",
       "\n",
       "    .dataframe thead th {\n",
       "        text-align: right;\n",
       "    }\n",
       "</style>\n",
       "<table border=\"1\" class=\"dataframe\">\n",
       "  <thead>\n",
       "    <tr style=\"text-align: right;\">\n",
       "      <th></th>\n",
       "      <th>Network</th>\n",
       "      <th>Name_No_Temp</th>\n",
       "      <th>Name</th>\n",
       "      <th>Latitude</th>\n",
       "      <th>Longitude</th>\n",
       "      <th>Start Date</th>\n",
       "      <th>End Date</th>\n",
       "      <th>Start Yr</th>\n",
       "      <th>End Yr</th>\n",
       "      <th>Classification: 1sp, 3sp, 3bb</th>\n",
       "      <th>Unnamed: 10</th>\n",
       "      <th>Unnamed: 11</th>\n",
       "      <th>Unnamed: 12</th>\n",
       "      <th>Unnamed: 13</th>\n",
       "      <th>Unnamed: 14</th>\n",
       "      <th>Unnamed: 15</th>\n",
       "      <th>Unnamed: 16</th>\n",
       "      <th>Unnamed: 17</th>\n",
       "      <th>Unnamed: 18</th>\n",
       "      <th>Unnamed: 19</th>\n",
       "    </tr>\n",
       "  </thead>\n",
       "  <tbody>\n",
       "    <tr>\n",
       "      <th>10</th>\n",
       "      <td>NC</td>\n",
       "      <td>LRR</td>\n",
       "      <td>LRR (upgrade)</td>\n",
       "      <td>40.466305</td>\n",
       "      <td>-121.622299</td>\n",
       "      <td>1987-08-12</td>\n",
       "      <td>3000-01-01 00:00:00</td>\n",
       "      <td>2011.0</td>\n",
       "      <td>3000.0</td>\n",
       "      <td>3sp</td>\n",
       "      <td>NaN</td>\n",
       "      <td>NaN</td>\n",
       "      <td>NaN</td>\n",
       "      <td>NaN</td>\n",
       "      <td>NaN</td>\n",
       "      <td>NaN</td>\n",
       "      <td>NaN</td>\n",
       "      <td>NaN</td>\n",
       "      <td>NaN</td>\n",
       "      <td>NaN</td>\n",
       "    </tr>\n",
       "  </tbody>\n",
       "</table>\n",
       "</div>"
      ],
      "text/plain": [
       "   Network Name_No_Temp           Name   Latitude   Longitude Start Date  \\\n",
       "10      NC          LRR  LRR (upgrade)  40.466305 -121.622299 1987-08-12   \n",
       "\n",
       "               End Date  Start Yr  End Yr Classification: 1sp, 3sp, 3bb   \\\n",
       "10  3000-01-01 00:00:00    2011.0  3000.0                            3sp   \n",
       "\n",
       "    Unnamed: 10  Unnamed: 11  Unnamed: 12  Unnamed: 13  Unnamed: 14  \\\n",
       "10          NaN          NaN          NaN          NaN          NaN   \n",
       "\n",
       "    Unnamed: 15  Unnamed: 16  Unnamed: 17  Unnamed: 18 Unnamed: 19  \n",
       "10          NaN          NaN          NaN          NaN         NaN  "
      ]
     },
     "execution_count": 9,
     "metadata": {},
     "output_type": "execute_result"
    }
   ],
   "source": [
    "df_t.loc[sp3_p]"
   ]
  },
  {
   "cell_type": "markdown",
   "id": "7d421a0c-ef43-447c-b16f-0e5fe68842c8",
   "metadata": {},
   "source": [
    "## Loop for unique /name"
   ]
  },
  {
   "cell_type": "code",
   "execution_count": 10,
   "id": "157b1777-9f8b-49bd-9f85-9af411ddb52a",
   "metadata": {},
   "outputs": [
    {
     "name": "stderr",
     "output_type": "stream",
     "text": [
      "C:\\Users\\penny\\AppData\\Local\\Temp\\ipykernel_22132\\2486516006.py:58: UserWarning: FixedFormatter should only be used together with FixedLocator\n",
      "  ax1.set_yticklabels(name.tolist())#, rotation=90)\n"
     ]
    },
    {
     "name": "stdout",
     "output_type": "stream",
     "text": [
      "['LBA' 'LCF' 'LMZ' 'LRD' 'LSL' 'LRR' 'LME' 'LSI' 'LEL' 'LDH']\n"
     ]
    },
    {
     "data": {
      "image/png": "[encoded data removed]",
      "text/plain": [
       "<Figure size 395.433x221.386 with 1 Axes>"
      ]
     },
     "metadata": {
      "needs_background": "light"
     },
     "output_type": "display_data"
    }
   ],
   "source": [
    "fig, (ax1) = plt.subplots(1, 1, figsize=(10*(139.5/254),4*(78.1/101.6)), sharey=True)\n",
    "\n",
    "Unique_station=df_t['Name_No_Temp'].unique()\n",
    "i=0\n",
    "name=np.empty((len(Unique_station)),  np.dtype('U100'))\n",
    "for station in Unique_station:\n",
    "    #print(station)\n",
    "    name[i]=str(df_t['Name_No_Temp'].loc[df_t['Name_No_Temp']==station].iloc[0])\n",
    "    if any(df_t['Classification: 1sp, 3sp, 3bb '].loc[df_t['Name_No_Temp']==station]==\"1sp\"):\n",
    "        Stat_type_1sp=((df_t['Name_No_Temp']==station)&(df_t['Classification: 1sp, 3sp, 3bb ']==\"1sp\"))\n",
    "        ax1.plot([df_t['Start Yr'].loc[Stat_type_1sp],\n",
    "                  df_t['End Yr'].loc[Stat_type_1sp]], [i, i], '-r')\n",
    "        ax1.plot([df_t['End Yr'].loc[Stat_type_1sp],\n",
    "                  df_t['End Yr'].loc[Stat_type_1sp]], [i, i], 'sk', mec='red',mfc='white', ms=8)\n",
    "        ax1.plot([df_t['Start Yr'].loc[Stat_type_1sp],\n",
    "                  df_t['Start Yr'].loc[Stat_type_1sp]], [i, i], '^k', mfc='red', ms=9)\n",
    "\n",
    "    if any(df_t['Classification: 1sp, 3sp, 3bb '].loc[df_t['Name_No_Temp']==station]==\"3bb\"):\n",
    "        Stat_type_3bb=((df_t['Name_No_Temp']==station)\n",
    "                       &(df_t['Classification: 1sp, 3sp, 3bb ']==\"3bb\"))\n",
    "        ax1.plot([df_t['Start Yr'].loc[Stat_type_3bb],\n",
    "                  df_t['End Yr'].loc[Stat_type_3bb]], [i, i], '-y', linewidth=3)\n",
    "        ax1.plot([df_t['End Yr'].loc[Stat_type_3bb],\n",
    "                  df_t['End Yr'].loc[Stat_type_3bb]], [i, i], 'sk', mec='k', mfc='white', ms=4, zorder=1000)\n",
    "        ax1.plot([df_t['Start Yr'].loc[Stat_type_3bb],\n",
    "                  df_t['Start Yr'].loc[Stat_type_3bb]], [i, i],  '^k', mfc='yellow', ms=9)\n",
    "\n",
    "    if any(df_t['Classification: 1sp, 3sp, 3bb '].loc[df_t['Name_No_Temp']==station]==\"3sp\"):\n",
    "        Stat_type_3sp=((df_t['Name_No_Temp']==station)\n",
    "                       &(df_t['Classification: 1sp, 3sp, 3bb ']==\"3sp\"))\n",
    "        ax1.plot([df_t['Start Yr'].loc[Stat_type_3sp],\n",
    "                  df_t['End Yr'].loc[Stat_type_3sp]], [i, i], '-', color='grey', linewidth=3, zorder=100)\n",
    "        ax1.plot([df_t['End Yr'].loc[Stat_type_3sp],\n",
    "                  df_t['End Yr'].loc[Stat_type_3sp]], [i, i], '*k', mfc='grey', ms=12, zorder=100)\n",
    "        ax1.plot([df_t['Start Yr'].loc[Stat_type_3sp],\n",
    "                  df_t['Start Yr'].loc[Stat_type_3sp]], [i, i], '^k', mfc='grey', ms=7, zorder=100)\n",
    "        \n",
    "        # Now print the lines\n",
    "        \n",
    "    i=i+1\n",
    "\n",
    "#     if df_t['Classification: 1sp, 3sp, 3bb '].iloc[i]==\"3bb\":\n",
    "#         ax1.plot([df_t['Start Yr'].iloc[i],df_t['End Yr'].iloc[i]], [i, i], '-',\n",
    "#                  color='y', lw=3)\n",
    "#         ax1.plot([df_t['End Yr'].iloc[i],df_t['End Yr'].iloc[i]], [i, i], '*k', mfc='yellow', ms=12)\n",
    "        \n",
    "#     if df_t['Classification: 1sp, 3sp, 3bb '].iloc[i]==\"3sp\":\n",
    "#         ax1.plot([df_t['Start Yr'].iloc[i],df_t['End Yr'].iloc[i]], [i, i], '-',\n",
    "#                  color='grey', lw=3)\n",
    "#         ax1.plot([df_t['End Yr'].iloc[i],df_t['End Yr'].iloc[i]], [i, i], '*k', mfc='grey', ms=12)\n",
    "        \n",
    "        \n",
    "#     #ax1.plot([df_t['Start Yr'].iloc[i],df_t['Start Yr'].iloc[i]], [i, i], '^k', mfc='white')\n",
    "#     #ax1.plot([df_t['End Yr'].iloc[i],df_t['End Yr'].iloc[i]], [i, i], '*k', mfc='white', ms=8)\n",
    "ax1.set_xlim([1980, 2022])\n",
    "#     name[i]=str(df_t['Name'].iloc[i])\n",
    "#     #print(df_t['Name'].iloc[i])\n",
    "ax1.set_yticklabels(name.tolist())#, rotation=90)\n",
    "ticks_loc = ax1.get_yticks().tolist()\n",
    "ax1.set_yticks([0, 1, 2, 3, 4, 5, 6, 7, 8, 9])\n",
    "print(name)\n",
    "ax1.set_yticklabels(name.tolist(), fontsize=9)\n",
    "\n",
    "# #df_t['Classification: 1sp, 3sp, 3bb ']\n",
    "fig.savefig('Lassen_Seismic_Stations.png', dpi=300)"
   ]
  },
  {
   "cell_type": "code",
   "execution_count": 11,
   "id": "c511f320-d225-420b-850e-1b0617359c7a",
   "metadata": {},
   "outputs": [
    {
     "data": {
      "text/plain": [
       "'LDH'"
      ]
     },
     "execution_count": 11,
     "metadata": {},
     "output_type": "execute_result"
    }
   ],
   "source": [
    "df_t['Name_No_Temp'].loc[df_t['Name_No_Temp']==station].iloc[0]"
   ]
  },
  {
   "cell_type": "code",
   "execution_count": 12,
   "id": "b81c4840-7ae6-436b-b67a-a3063a6c0e83",
   "metadata": {},
   "outputs": [],
   "source": [
    "df_stat=df_t.loc[df_t['Name_No_Temp']==\"\"]"
   ]
  },
  {
   "cell_type": "code",
   "execution_count": 13,
   "id": "324aed8c-2e37-48a9-a04a-ae04800cd32f",
   "metadata": {},
   "outputs": [
    {
     "ename": "SyntaxError",
     "evalue": "invalid syntax (1485472890.py, line 1)",
     "output_type": "error",
     "traceback": [
      "\u001b[1;36m  Input \u001b[1;32mIn [13]\u001b[1;36m\u001b[0m\n\u001b[1;33m    if any(df_t['Name']==\"LEL\")\u001b[0m\n\u001b[1;37m                               ^\u001b[0m\n\u001b[1;31mSyntaxError\u001b[0m\u001b[1;31m:\u001b[0m invalid syntax\n"
     ]
    }
   ],
   "source": [
    "if any(df_t['Name']==\"LEL\")\n"
   ]
  },
  {
   "cell_type": "code",
   "execution_count": 14,
   "id": "9a97f3a7-d415-4a5e-9a97-640369d14501",
   "metadata": {},
   "outputs": [
    {
     "data": {
      "text/plain": [
       "array([], dtype=object)"
      ]
     },
     "execution_count": 14,
     "metadata": {},
     "output_type": "execute_result"
    }
   ],
   "source": [
    "df_stat['Classification: 1sp, 3sp, 3bb '].values"
   ]
  },
  {
   "cell_type": "code",
   "execution_count": 12,
   "id": "2b23ce38-eb61-4ccc-abda-91ed283cdfd8",
   "metadata": {},
   "outputs": [
    {
     "data": {
      "text/plain": [
       "array([1985.])"
      ]
     },
     "execution_count": 12,
     "metadata": {},
     "output_type": "execute_result"
    },
    {
     "name": "stdout",
     "output_type": "stream",
     "text": [
      "ERROR! Session/line number was not unique in database. History logging moved to new session 9596\n"
     ]
    }
   ],
   "source": [
    "df_stat['End Yr'].values"
   ]
  },
  {
   "cell_type": "code",
   "execution_count": null,
   "id": "df746410-f6dc-46ae-b3ca-86bc245d8ae9",
   "metadata": {},
   "outputs": [
    {
     "name": "stdout",
     "output_type": "stream",
     "text": [
      "yes\n"
     ]
    },
    {
     "data": {
      "image/png": "[encoded data removed]",
      "text/plain": [
       "<Figure size 432x288 with 1 Axes>"
      ]
     },
     "metadata": {
      "needs_background": "light"
     },
     "output_type": "display_data"
    }
   ],
   "source": [
    "df_stat\n",
    "if df_stat['Classification: 1sp, 3sp, 3bb '].values==\"1sp\":\n",
    "    j=1\n",
    "    print('yes')\n",
    "    plt.plot([df_stat['Start Yr'].values,df_stat['End Yr'].values, [j, j]], '-r')"
   ]
  },
  {
   "cell_type": "code",
   "execution_count": 9,
   "id": "64a80a1b-d846-4c0a-be4f-d87d8bf4ac7b",
   "metadata": {},
   "outputs": [
    {
     "data": {
      "text/html": [
       "<div>\n",
       "<style scoped>\n",
       "    .dataframe tbody tr th:only-of-type {\n",
       "        vertical-align: middle;\n",
       "    }\n",
       "\n",
       "    .dataframe tbody tr th {\n",
       "        vertical-align: top;\n",
       "    }\n",
       "\n",
       "    .dataframe thead th {\n",
       "        text-align: right;\n",
       "    }\n",
       "</style>\n",
       "<table border=\"1\" class=\"dataframe\">\n",
       "  <thead>\n",
       "    <tr style=\"text-align: right;\">\n",
       "      <th></th>\n",
       "      <th>Network</th>\n",
       "      <th>Name_No_Temp</th>\n",
       "      <th>Name</th>\n",
       "      <th>Latitude</th>\n",
       "      <th>Longitude</th>\n",
       "      <th>Start Date</th>\n",
       "      <th>End Date</th>\n",
       "      <th>Start Yr</th>\n",
       "      <th>End Yr</th>\n",
       "      <th>Classification: 1sp, 3sp, 3bb</th>\n",
       "      <th>Unnamed: 10</th>\n",
       "      <th>Unnamed: 11</th>\n",
       "      <th>Unnamed: 12</th>\n",
       "      <th>Unnamed: 13</th>\n",
       "      <th>Unnamed: 14</th>\n",
       "      <th>Unnamed: 15</th>\n",
       "      <th>Unnamed: 16</th>\n",
       "      <th>Unnamed: 17</th>\n",
       "      <th>Unnamed: 18</th>\n",
       "      <th>Unnamed: 19</th>\n",
       "    </tr>\n",
       "  </thead>\n",
       "  <tbody>\n",
       "    <tr>\n",
       "      <th>0</th>\n",
       "      <td>NC</td>\n",
       "      <td>LBA</td>\n",
       "      <td>LBA</td>\n",
       "      <td>40.572666</td>\n",
       "      <td>-121.431</td>\n",
       "      <td>1984-01-01</td>\n",
       "      <td>1985-07-18 00:00:00</td>\n",
       "      <td>1984.0</td>\n",
       "      <td>1985.0</td>\n",
       "      <td>1sp</td>\n",
       "      <td>NaN</td>\n",
       "      <td>NaN</td>\n",
       "      <td>NaN</td>\n",
       "      <td>NaN</td>\n",
       "      <td>NaN</td>\n",
       "      <td>NaN</td>\n",
       "      <td>NaN</td>\n",
       "      <td>NaN</td>\n",
       "      <td>NaN</td>\n",
       "      <td>NaN</td>\n",
       "    </tr>\n",
       "  </tbody>\n",
       "</table>\n",
       "</div>"
      ],
      "text/plain": [
       "  Network Name_No_Temp Name   Latitude  Longitude Start Date  \\\n",
       "0      NC          LBA  LBA  40.572666   -121.431 1984-01-01   \n",
       "\n",
       "              End Date  Start Yr  End Yr Classification: 1sp, 3sp, 3bb   \\\n",
       "0  1985-07-18 00:00:00    1984.0  1985.0                            1sp   \n",
       "\n",
       "   Unnamed: 10  Unnamed: 11  Unnamed: 12  Unnamed: 13  Unnamed: 14  \\\n",
       "0          NaN          NaN          NaN          NaN          NaN   \n",
       "\n",
       "   Unnamed: 15  Unnamed: 16  Unnamed: 17  Unnamed: 18 Unnamed: 19  \n",
       "0          NaN          NaN          NaN          NaN         NaN  "
      ]
     },
     "execution_count": 9,
     "metadata": {},
     "output_type": "execute_result"
    },
    {
     "name": "stdout",
     "output_type": "stream",
     "text": [
      "ERROR! Session/line number was not unique in database. History logging moved to new session 9594\n"
     ]
    }
   ],
   "source": [
    "df_stat"
   ]
  },
  {
   "cell_type": "code",
   "execution_count": null,
   "id": "a07b0d2f-b258-4a94-b44e-01a9871e5098",
   "metadata": {},
   "outputs": [
    {
     "name": "stdout",
     "output_type": "stream",
     "text": [
      "LBA\n"
     ]
    },
    {
     "name": "stderr",
     "output_type": "stream",
     "text": [
      "C:\\Users\\penny\\anaconda3\\lib\\site-packages\\numpy\\core\\shape_base.py:65: VisibleDeprecationWarning: Creating an ndarray from ragged nested sequences (which is a list-or-tuple of lists-or-tuples-or ndarrays with different lengths or shapes) is deprecated. If you meant to do this, you must specify 'dtype=object' when creating the ndarray.\n",
      "  ary = asanyarray(ary)\n"
     ]
    },
    {
     "data": {
      "image/png": "[encoded data removed]",
      "text/plain": [
       "<Figure size 720x360 with 1 Axes>"
      ]
     },
     "metadata": {
      "needs_background": "light"
     },
     "output_type": "display_data"
    }
   ],
   "source": [
    "##  Line chart on network name\n",
    "\n",
    "\n",
    "\n",
    "fig, (ax1) = plt.subplots(1, 1, figsize=(10,5), sharey=True)\n",
    "#name=np.empty((len(df_t)),  np.dtype('U100'))\n",
    "Unique_station=df_t['Name_No_Temp'].unique()\n",
    "i=1\n",
    "for station in Unique_station:\n",
    "    print(station)\n",
    "    df_stat=df_t.loc[df_t['Name_No_Temp']==station]\n",
    "    if len(df_stat)==1:\n",
    "    \n",
    "        \n",
    "        if df_stat['Classification: 1sp, 3sp, 3bb '].values==\"1sp\":\n",
    "            ax1.plot([df_stat['Start Yr'],df_stat['End Yr'], [i, i]], '-r')\n",
    "            ax1.plot([df_stat['End Yr'],df_stat['End Yr'], [i, i]], '*k', mfc='red', ms=12)\n",
    "\n",
    "        if df_stat['Classification: 1sp, 3sp, 3bb '].values==\"3bb\":\n",
    "            ax1.plot([df_stat['Start Yr'],df_stat['End Yr']], [i, i], '-',\n",
    "                     color='y', lw=3)\n",
    "            ax1.plot([df_stat['End Yr'],df_stat['End Yr']], [i, i], '*k', mfc='yellow', ms=12)\n",
    "\n",
    "        if df_stat['Classification: 1sp, 3sp, 3bb '].values==\"3sp\":\n",
    "            ax1.plot([df_stat['Start Yr'],df_stat['End Yr']], [i, i], '-',\n",
    "                     color='grey', lw=3)\n",
    "            ax1.plot([df_stat['End Yr'],df_stat['End Yr']], [i, i], '*k', mfc='grey', ms=12)    \n",
    "    \n",
    "    else:\n",
    "        print('2 stations!')\n",
    "    i+1\n",
    "        \n",
    "    #ax1.set_xlim([1980, 2022])\n",
    "    #name[i]=str(df_stat['Name'])\n",
    "    i+1\n",
    "    #print(df_t['Name'].loc[df_t['Name_No_Temp']==station])\n",
    "#ax1.set_yticklabels(name.tolist())#, rotation=90)\n",
    "# ticks_loc = ax1.get_yticks().tolist()\n",
    "# ax1.set_yticks([0, 1, 2, 3, 4, 5, 6, 7, 8, 9, 10, 11, 12])\n",
    "# print(name)\n",
    "# ax1.set_yticklabels(name.tolist())\n",
    "\n",
    "#df_t['Classification: 1sp, 3sp, 3bb ']\n",
    "    \n",
    "    #print(df_t['Name'].iloc[i])\n",
    "#ax1.set_yticklabels(name.tolist())#, rotation=90)\n",
    "# ticks_loc = ax1.get_yticks().tolist()\n",
    "# ax1.set_yticks([0, 1, 2, 3, 4, 5, 6, 7, 8, 9, 10, 11, 12])\n",
    "# print(name)\n",
    "# ax1.set_yticklabels(name.tolist())\n",
    "\n",
    "#df_t['Classification: 1sp, 3sp, 3bb ']"
   ]
  },
  {
   "cell_type": "markdown",
   "id": "4ca4e82c-0934-4709-803d-579e912741d8",
   "metadata": {},
   "source": [
    "# Line chart showing upgrades as separate stations"
   ]
  },
  {
   "cell_type": "code",
   "execution_count": 50,
   "id": "7a7cc99e-3d3c-477c-a478-909ee8e64bdd",
   "metadata": {},
   "outputs": [],
   "source": [
    "name_plot=np.empty((len(df_t)),  np.dtype('U100'))\n",
    "for i in range(0, len(df_t)):\n",
    "    name_plot[i]=str(df_t['Name_No_Temp'].iloc[i])"
   ]
  },
  {
   "cell_type": "code",
   "execution_count": 65,
   "id": "d2266f40-4582-457b-a826-894b4a9c1539",
   "metadata": {},
   "outputs": [
    {
     "name": "stdout",
     "output_type": "stream",
     "text": [
      "['LBA' 'LCF' 'LDH' 'LEL' 'LEL (temp)' 'LME' 'LMZ' 'LRD'\n",
      " 'LRD (temp. upgrade)' 'LRR' 'LRR (upgrade)' 'LSI' 'LSL']\n"
     ]
    },
    {
     "data": {
      "text/plain": [
       "[Text(0, 0, 'LBA'),\n",
       " Text(0, 1, 'LCF'),\n",
       " Text(0, 2, 'LDH'),\n",
       " Text(0, 3, 'LEL'),\n",
       " Text(0, 4, 'LEL (temp)'),\n",
       " Text(0, 5, 'LME'),\n",
       " Text(0, 6, 'LMZ'),\n",
       " Text(0, 7, 'LRD'),\n",
       " Text(0, 8, 'LRD (temp. upgrade)'),\n",
       " Text(0, 9, 'LRR'),\n",
       " Text(0, 10, 'LRR (upgrade)'),\n",
       " Text(0, 11, 'LSI'),\n",
       " Text(0, 12, 'LSL')]"
      ]
     },
     "execution_count": 65,
     "metadata": {},
     "output_type": "execute_result"
    },
    {
     "data": {
      "image/png": "[encoded data removed]",
      "text/plain": [
       "<Figure size 720x360 with 1 Axes>"
      ]
     },
     "metadata": {
      "needs_background": "light"
     },
     "output_type": "display_data"
    }
   ],
   "source": [
    "fig, (ax1) = plt.subplots(1, 1, figsize=(10,5), sharey=True)\n",
    "name=np.empty((len(df_t)),  np.dtype('U100'))\n",
    "for i in range(0, len(df_t)):\n",
    "    if df_t['Classification: 1sp, 3sp, 3bb '].iloc[i]==\"1sp\":\n",
    "        ax1.plot([df_t['Start Yr'].iloc[i],df_t['End Yr'].iloc[i]], [i, i], '-r')\n",
    "        ax1.plot([df_t['End Yr'].iloc[i],df_t['End Yr'].iloc[i]], [i, i], '*k', mfc='red', ms=12)\n",
    "        \n",
    "    if df_t['Classification: 1sp, 3sp, 3bb '].iloc[i]==\"3bb\":\n",
    "        ax1.plot([df_t['Start Yr'].iloc[i],df_t['End Yr'].iloc[i]], [i, i], '-',\n",
    "                 color='y', lw=3)\n",
    "        ax1.plot([df_t['End Yr'].iloc[i],df_t['End Yr'].iloc[i]], [i, i], '*k', mfc='yellow', ms=12)\n",
    "        \n",
    "    if df_t['Classification: 1sp, 3sp, 3bb '].iloc[i]==\"3sp\":\n",
    "        ax1.plot([df_t['Start Yr'].iloc[i],df_t['End Yr'].iloc[i]], [i, i], '-',\n",
    "                 color='grey', lw=3)\n",
    "        ax1.plot([df_t['End Yr'].iloc[i],df_t['End Yr'].iloc[i]], [i, i], '*k', mfc='grey', ms=12)\n",
    "        \n",
    "        \n",
    "    #ax1.plot([df_t['Start Yr'].iloc[i],df_t['Start Yr'].iloc[i]], [i, i], '^k', mfc='white')\n",
    "    #ax1.plot([df_t['End Yr'].iloc[i],df_t['End Yr'].iloc[i]], [i, i], '*k', mfc='white', ms=8)\n",
    "    ax1.set_xlim([1980, 2022])\n",
    "    name[i]=str(df_t['Name'].iloc[i])\n",
    "    #print(df_t['Name'].iloc[i])\n",
    "#ax1.set_yticklabels(name.tolist())#, rotation=90)\n",
    "ticks_loc = ax1.get_yticks().tolist()\n",
    "ax1.set_yticks([0, 1, 2, 3, 4, 5, 6, 7, 8, 9, 10, 11, 12])\n",
    "print(name)\n",
    "ax1.set_yticklabels(name.tolist())\n",
    "\n",
    "#df_t['Classification: 1sp, 3sp, 3bb ']"
   ]
  },
  {
   "cell_type": "code",
   "execution_count": 52,
   "id": "4302bb58-a1c2-499f-9579-772c7a0c8629",
   "metadata": {},
   "outputs": [
    {
     "data": {
      "image/png": "[encoded data removed]",
      "text/plain": [
       "<Figure size 720x720 with 1 Axes>"
      ]
     },
     "metadata": {
      "needs_background": "light"
     },
     "output_type": "display_data"
    }
   ],
   "source": [
    "fig, (ax1) = plt.subplots(1, figsize=(10,10), sharey=True)\n",
    "\n",
    "import matplotlib.patches as patches\n",
    "rect = patches.Circle((-121.50496,40.488165),0.18,linewidth=1,edgecolor='m',facecolor='none', label='test')\n",
    "\n",
    "# Add the patch to the Axes\n",
    "ax1.add_patch(rect)\n",
    "\n",
    "ax1.plot(df_t['Longitude'].loc[sp1_p],\n",
    "              df_t['Latitude'].loc[sp1_p],\n",
    "         '^k', mfc='red', ms=15)\n",
    "ax1.plot(df_t['Longitude'].loc[bb3_p],\n",
    "              df_t['Latitude'].loc[bb3_p],\n",
    "         '^k', mfc='yellow', ms=15)\n",
    "ax1.plot(df_t['Longitude'].loc[sp3_p],\n",
    "              df_t['Latitude'].loc[sp3_p],\n",
    "         '^k', mfc='grey', ms=15)\n",
    "\n",
    "\n",
    "ax1.plot(df_t['Longitude'].loc[sp1_r],\n",
    "              df_t['Latitude'].loc[sp1_r],\n",
    "         'sr',  mfc='w')\n",
    "ax1.plot(df_t['Longitude'].loc[bb3_r],\n",
    "              df_t['Latitude'].loc[bb3_r],\n",
    "         'sy',  mfc='w')\n",
    "ax1.plot(df_t['Longitude'].loc[sp3_r],\n",
    "              df_t['Latitude'].loc[sp3_r],\n",
    "         's', mec='grey', mfc='w')\n",
    "for i in range(0, len(df_t)):\n",
    "    ax1.annotate(name_plot[i],\n",
    "                 xy=(df_t['Longitude'].iloc[i]+0.01,\n",
    "              df_t['Latitude'].iloc[i]),\n",
    "                 xycoords=\"data\", fontsize=9)"
   ]
  },
  {
   "cell_type": "code",
   "execution_count": 24,
   "id": "cef1f875-f95a-4b16-a8ed-34a7cb73c0fd",
   "metadata": {},
   "outputs": [
    {
     "data": {
      "text/plain": [
       "\"['LBA' 'LCF' 'LDH' 'LEL' 'LEL (temp)' 'LME' 'LMZ' 'LRD'\\n 'LRD (temp. upgrade)' 'LRR' 'LRR (upgrade)' 'LSI' 'LSL']\""
      ]
     },
     "execution_count": 24,
     "metadata": {},
     "output_type": "execute_result"
    }
   ],
   "source": [
    "str(df_t['Name'].values)"
   ]
  },
  {
   "cell_type": "markdown",
   "id": "6366580f-ce04-49fb-a354-5f05ac118bf1",
   "metadata": {},
   "source": [
    "## Different plots showing age progresion"
   ]
  },
  {
   "cell_type": "code",
   "execution_count": 7,
   "id": "6e36f0d1-f21e-4a4c-a44c-e758eda7f2b5",
   "metadata": {},
   "outputs": [
    {
     "data": {
      "text/plain": [
       "list"
      ]
     },
     "execution_count": 7,
     "metadata": {},
     "output_type": "execute_result"
    }
   ],
   "source": [
    "a=['Exp Pet', 'Exp Pet', 'MT', 'Seismics']\n",
    "type(a)"
   ]
  },
  {
   "cell_type": "code",
   "execution_count": 8,
   "id": "b9c5c9fc-4e46-4463-80a7-eb66bea3f746",
   "metadata": {},
   "outputs": [],
   "source": [
    "name=np.empty(len(df_t), np.dtype('U100'))\n",
    "df_t['Name'].iloc[1]\n",
    "name[1]=str(df_t['Name'].iloc[1])"
   ]
  },
  {
   "cell_type": "code",
   "execution_count": 9,
   "id": "346afe72-d330-4b47-9790-0ade52ca86f3",
   "metadata": {},
   "outputs": [
    {
     "data": {
      "text/plain": [
       "array(['', 'LCF', '', '', '', '', '', '', '', '', '', '', ''],\n",
       "      dtype='<U100')"
      ]
     },
     "execution_count": 9,
     "metadata": {},
     "output_type": "execute_result"
    }
   ],
   "source": [
    "name"
   ]
  },
  {
   "cell_type": "code",
   "execution_count": 10,
   "id": "4ae0b701-6fc0-455a-866a-c7757ce5372b",
   "metadata": {},
   "outputs": [
    {
     "name": "stdout",
     "output_type": "stream",
     "text": [
      "['LBA' 'LCF' 'LDH' 'LEL' 'LEL (temp)' 'LME' 'LMZ' 'LRD'\n",
      " 'LRD (temp. upgrade)' 'LRR' 'LRR (upgrade)' 'LSI' 'LSL']\n"
     ]
    },
    {
     "data": {
      "text/plain": [
       "[Text(0, 0, 'LBA'),\n",
       " Text(0, 1, 'LCF'),\n",
       " Text(0, 2, 'LDH'),\n",
       " Text(0, 3, 'LEL'),\n",
       " Text(0, 4, 'LEL (temp)'),\n",
       " Text(0, 5, 'LME'),\n",
       " Text(0, 6, 'LMZ'),\n",
       " Text(0, 7, 'LRD'),\n",
       " Text(0, 8, 'LRD (temp. upgrade)'),\n",
       " Text(0, 9, 'LRR'),\n",
       " Text(0, 10, 'LRR (upgrade)'),\n",
       " Text(0, 11, 'LSI'),\n",
       " Text(0, 12, 'LSL')]"
      ]
     },
     "execution_count": 10,
     "metadata": {},
     "output_type": "execute_result"
    },
    {
     "data": {
      "image/png": "[encoded data removed]",
      "text/plain": [
       "<Figure size 720x360 with 1 Axes>"
      ]
     },
     "metadata": {
      "needs_background": "light"
     },
     "output_type": "display_data"
    }
   ],
   "source": []
  },
  {
   "cell_type": "code",
   "execution_count": 94,
   "id": "82708137-4762-4dbb-bb41-483e5e5f9e2b",
   "metadata": {},
   "outputs": [
    {
     "data": {
      "text/plain": [
       "13"
      ]
     },
     "execution_count": 94,
     "metadata": {},
     "output_type": "execute_result"
    }
   ],
   "source": [
    "len(name)"
   ]
  },
  {
   "cell_type": "code",
   "execution_count": 32,
   "id": "3a01ced8-76b6-4e73-b811-d3845fc052ed",
   "metadata": {},
   "outputs": [
    {
     "data": {
      "image/png": "[encoded data removed]",
      "text/plain": [
       "<Figure size 720x360 with 2 Axes>"
      ]
     },
     "metadata": {
      "needs_background": "light"
     },
     "output_type": "display_data"
    }
   ],
   "source": [
    "fig, (ax1, ax2) = plt.subplots(1, 2, figsize=(10,5), sharey=True)\n",
    "for i in range(0, len(df_t)):\n",
    "    if \n",
    "    ax1.plot([df_t['Start Yr'].iloc[i],df_t['End Yr'].iloc[i]], [i, i], '-r')\n",
    "    ax1.plot([df_t['Start Yr'].iloc[i],df_t['Start Yr'].iloc[i]], [i, i], '^k', mfc='white')\n",
    "    ax1.plot([df_t['End Yr'].iloc[i],df_t['End Yr'].iloc[i]], [i, i], '*k', mfc='white')\n",
    "    ax1.set_xlim([1970, 2022])\n",
    "#df_t['Classification: 1sp, 3sp, 3bb ']"
   ]
  },
  {
   "cell_type": "markdown",
   "id": "bbcb3c93-8d4b-47d5-abdf-572c9a847eeb",
   "metadata": {},
   "source": [
    "# 0  Bar for each different seimometer"
   ]
  },
  {
   "cell_type": "code",
   "execution_count": null,
   "id": "89418c7b-2301-469c-a542-9d483a2ad8e7",
   "metadata": {},
   "outputs": [],
   "source": []
  },
  {
   "cell_type": "markdown",
   "id": "cdff6dcb-5f1e-4694-8fd7-fbe4af50167f",
   "metadata": {},
   "source": [
    "## 1. CDF function"
   ]
  },
  {
   "cell_type": "code",
   "execution_count": null,
   "id": "e188b002-c467-4e57-95e2-43e1124867e8",
   "metadata": {},
   "outputs": [],
   "source": []
  }
 ],
 "metadata": {
  "kernelspec": {
   "display_name": "Python 3 (ipykernel)",
   "language": "python",
   "name": "python3"
  },
  "language_info": {
   "codemirror_mode": {
    "name": "ipython",
    "version": 3
   },
   "file_extension": ".py",
   "mimetype": "text/x-python",
   "name": "python",
   "nbconvert_exporter": "python",
   "pygments_lexer": "ipython3",
   "version": "3.9.13"
  }
 },
 "nbformat": 4,
 "nbformat_minor": 5
}
