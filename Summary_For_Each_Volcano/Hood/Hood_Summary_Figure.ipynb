{
 "cells": [
  {
   "cell_type": "code",
   "execution_count": 1,
   "id": "f7fb73cf-9460-47b8-9bd0-bd453bb17f0d",
   "metadata": {},
   "outputs": [],
   "source": [
    "import numpy as np\n",
    "import pandas as pd\n",
    "import matplotlib.pyplot as plt\n",
    "import Thermobar as pt\n",
    "from pickle import load\n",
    "import pickle"
   ]
  },
  {
   "cell_type": "markdown",
   "id": "8521678a-72c4-48d0-9753-648355b12ab4",
   "metadata": {},
   "source": [
    "## First, lets load Cpx data"
   ]
  },
  {
   "cell_type": "code",
   "execution_count": 2,
   "id": "8453bb64-2b6f-40f8-a7c9-ac9dc2a2aab8",
   "metadata": {},
   "outputs": [
    {
     "name": "stderr",
     "output_type": "stream",
     "text": [
      "C:\\Users\\penny\\AppData\\Local\\Temp\\ipykernel_31360\\1441611354.py:4: SettingWithCopyWarning: \n",
      "A value is trying to be set on a copy of a slice from a DataFrame.\n",
      "Try using .loc[row_indexer,col_indexer] = value instead\n",
      "\n",
      "See the caveats in the documentation: https://pandas.pydata.org/pandas-docs/stable/user_guide/indexing.html#returning-a-view-versus-a-copy\n",
      "  Hood_Cpx['Sample_ID_Cpx']=\"Hood\"\n"
     ]
    }
   ],
   "source": [
    "with open(r'../Combo_Cpx.pkl', 'rb') as f:\n",
    "            All_Cpx=load(f)\n",
    "Hood_Cpx=All_Cpx.loc[All_Cpx['Volcano']==\"Hood\"]\n",
    "Hood_Cpx['Sample_ID_Cpx']=\"Hood\""
   ]
  },
  {
   "cell_type": "code",
   "execution_count": 3,
   "id": "37298a46-a90c-435f-b6f2-4d41e78bf9aa",
   "metadata": {},
   "outputs": [],
   "source": [
    "WangCopy=Hood_Cpx.copy()\n",
    "WangCopy['Preferred_P']=WangCopy['P_Wang21_eq1']\n",
    "WangCopy['Model']=\"Wang\"\n",
    "JorgensonCopy=Hood_Cpx.copy()\n",
    "JorgensonCopy['Preferred_P']=JorgensonCopy['P_Jorgenson22']\n",
    "JorgensonCopy['Model']=\"Jorgenson\"\n",
    "\n",
    "Combo_Cpx=pd.concat([WangCopy, JorgensonCopy], axis=0)"
   ]
  },
  {
   "cell_type": "code",
   "execution_count": 4,
   "id": "e62969a6-fd61-4189-ad9e-69fc11ce4a0d",
   "metadata": {},
   "outputs": [
    {
     "data": {
      "text/plain": [
       "56"
      ]
     },
     "execution_count": 4,
     "metadata": {},
     "output_type": "execute_result"
    }
   ],
   "source": [
    "len(WangCopy)"
   ]
  },
  {
   "cell_type": "markdown",
   "id": "ce5301c4-2fc5-4ffa-bea5-c3f2a2a10aa5",
   "metadata": {},
   "source": [
    "## Choose Crustal density"
   ]
  },
  {
   "cell_type": "code",
   "execution_count": 5,
   "id": "5969034c-fad7-4f3b-99e7-6e549602329a",
   "metadata": {},
   "outputs": [],
   "source": [
    "rho=2700\n",
    "P_axis_min=-3\n",
    "P_axis_max=12\n",
    "D_axis_min=100000*P_axis_min/(9.8*rho)\n",
    "D_axis_max=100000*P_axis_max/(9.8*rho)\n"
   ]
  },
  {
   "cell_type": "code",
   "execution_count": 6,
   "id": "03aecb9b-4065-4d14-a4ce-d29b9a6cdd76",
   "metadata": {},
   "outputs": [
    {
     "data": {
      "image/png": "[encoded data removed]",
      "text/plain": [
       "<Figure size 200x400 with 2 Axes>"
      ]
     },
     "metadata": {},
     "output_type": "display_data"
    }
   ],
   "source": [
    "import seaborn as sns\n",
    "fig, (ax1) = plt.subplots(1, 1, figsize=(2,4), sharey=True)\n",
    "ax2 = ax1.twinx()\n",
    "\n",
    "# ticks = [40.540139,41.3099, 41.6108, 42.9446, 43.7221, 44.103449, 44.6743, 45.3736, 46.1914, 46.8523, 48.1119, 48.7767]\n",
    "# labels = ['Hood', 'Hood', 'Med Lake', 'Crater Lake', 'Newberry', '3 Sisters', 'Mt. Jeff', 'Mt. Hood', 'MSH', 'Rainier', 'Glac. Pk.', 'Mt. Baker']\n",
    "# ax2.set_xticks(ticks, minor=False)\n",
    "# ax2.set_xticklabels(labels, fontdict=None, minor=False, rotation=90)\n",
    "#ax1.set_xlim([40, 49])\n",
    "volc_order=[\"Hood\"]\n",
    "sns.violinplot(x=\"Sample_ID_Cpx\", y=\"Preferred_P\",  cut=0,  inner=None, hue=\"Model\",\n",
    "            data=Combo_Cpx, split=True, ax=ax1, width=0.9, order=volc_order, stick=True)\n",
    "\n",
    "ax1.plot(-0.1+0*Combo_Cpx['Preferred_P'].loc[(Combo_Cpx['Model']==\"Wang\")\n",
    "                                        &(Combo_Cpx[\"Sample_ID_Cpx\"]==\"Hood\")],\n",
    "      Combo_Cpx['Preferred_P'].loc[(Combo_Cpx['Model']==\"Wang\")\n",
    "                                        &(Combo_Cpx[\"Sample_ID_Cpx\"]==\"Hood\")],  \n",
    "         'xb')\n",
    "\n",
    "ax1.plot(0.1+0*Combo_Cpx['Preferred_P'].loc[(Combo_Cpx['Model']==\"Jorgenson\")\n",
    "                                        &(Combo_Cpx[\"Sample_ID_Cpx\"]==\"Hood\")],\n",
    "      Combo_Cpx['Preferred_P'].loc[(Combo_Cpx['Model']==\"Jorgenson\")\n",
    "                                        &(Combo_Cpx[\"Sample_ID_Cpx\"]==\"Hood\")],  \n",
    "         'xr')\n",
    "\n",
    "ax1.plot(-0.1,\n",
    "      np.nanmedian(Combo_Cpx['Preferred_P'].loc[(Combo_Cpx['Model']==\"Wang\")\n",
    "                                        &(Combo_Cpx[\"Sample_ID_Cpx\"]==\"Hood\")]),  \n",
    "         '*k', mfc='w', ms=20)\n",
    "\n",
    "ax1.plot(0.1,\n",
    "      np.nanmedian(Combo_Cpx['Preferred_P'].loc[(Combo_Cpx['Model']==\"Jorgenson\")\n",
    "                                        &(Combo_Cpx[\"Sample_ID_Cpx\"]==\"Hood\")]),  \n",
    "         '*k', mfc='w', ms=20)\n",
    "\n",
    "ax1.plot(0.9+0*Combo_Cpx['Preferred_P'].loc[(Combo_Cpx['Model']==\"Wang\")\n",
    "                                        &(Combo_Cpx[\"Sample_ID_Cpx\"]==\"Hood\")],\n",
    "      Combo_Cpx['Preferred_P'].loc[(Combo_Cpx['Model']==\"Wang\")\n",
    "                                        &(Combo_Cpx[\"Sample_ID_Cpx\"]==\"Hood\")],  \n",
    "         'xb')\n",
    "\n",
    "ax1.plot(1.1+0*Combo_Cpx['Preferred_P'].loc[(Combo_Cpx['Model']==\"Jorgenson\")\n",
    "                                        &(Combo_Cpx[\"Sample_ID_Cpx\"]==\"Hood\")],\n",
    "      Combo_Cpx['Preferred_P'].loc[(Combo_Cpx['Model']==\"Jorgenson\")\n",
    "                                        &(Combo_Cpx[\"Sample_ID_Cpx\"]==\"Hood\")],  \n",
    "         'xr')\n",
    "\n",
    "ax1.plot(0.9,\n",
    "      np.nanmedian(Combo_Cpx['Preferred_P'].loc[(Combo_Cpx['Model']==\"Wang\")\n",
    "                                        &(Combo_Cpx[\"Sample_ID_Cpx\"]==\"Hood\")]),  \n",
    "         '*k', mfc='w', ms=20)\n",
    "\n",
    "ax1.plot(1.1,\n",
    "      np.nanmedian(Combo_Cpx['Preferred_P'].loc[(Combo_Cpx['Model']==\"Jorgenson\")\n",
    "                                        &(Combo_Cpx[\"Sample_ID_Cpx\"]==\"Hood\")]),  \n",
    "         '*k', mfc='w', ms=20)\n",
    "\n",
    "ax1.plot([-1, 5], [0, 0], '-k', lw=0.5)\n",
    "ax1.set_ylim([P_axis_max, P_axis_min])\n",
    "ax2.set_ylim([D_axis_max, D_axis_min])\n",
    "ax1.set_xlim([-0.5, 0.5])\n",
    "ax1.get_legend().remove()\n",
    "ax1.set_xlabel(None)\n",
    "ax1.set_ylabel(None)\n",
    "ax1.tick_params(direction=\"in\")\n",
    "ax2.tick_params(direction=\"in\")\n",
    "ax1.grid(color = 'k', linestyle = '--', axis='y',linewidth = 1, alpha = 0.1, zorder=0)\n",
    "ax2.set_yticks([])\n",
    "ax1.set_xticks([])\n",
    "fig.savefig('Hood_Cpx.png', dpi=200)"
   ]
  },
  {
   "cell_type": "code",
   "execution_count": 8,
   "id": "8e61750f-1cb9-47a3-97f7-ff8d4d39bcb0",
   "metadata": {},
   "outputs": [
    {
     "data": {
      "text/plain": [
       "1.426166617545615"
      ]
     },
     "execution_count": 8,
     "metadata": {},
     "output_type": "execute_result"
    }
   ],
   "source": [
    "np.nanmedian(Combo_Cpx['Preferred_P'].loc[(Combo_Cpx['Model']==\"Wang\")\n",
    "                                        &(Combo_Cpx[\"Sample_ID_Cpx\"]==\"Hood\")])"
   ]
  },
  {
   "cell_type": "code",
   "execution_count": 9,
   "id": "827f85a9-ace8-4fdf-af70-451b9b15144f",
   "metadata": {},
   "outputs": [
    {
     "data": {
      "text/plain": [
       "1.5509415422885566"
      ]
     },
     "execution_count": 9,
     "metadata": {},
     "output_type": "execute_result"
    }
   ],
   "source": [
    "np.nanmedian(Combo_Cpx['Preferred_P'].loc[(Combo_Cpx['Model']==\"Jorgenson\")\n",
    "                                        &(Combo_Cpx[\"Sample_ID_Cpx\"]==\"Hood\")])"
   ]
  },
  {
   "cell_type": "markdown",
   "id": "0eddac88-92da-4c39-a06c-fac736e17669",
   "metadata": {},
   "source": [
    "## Amphibole"
   ]
  },
  {
   "cell_type": "code",
   "execution_count": 11,
   "id": "8b7e3192-2e26-4c87-993a-bebb69f1466e",
   "metadata": {},
   "outputs": [
    {
     "name": "stdout",
     "output_type": "stream",
     "text": [
      "153\n",
      "145\n"
     ]
    },
    {
     "name": "stderr",
     "output_type": "stream",
     "text": [
      "C:\\Users\\penny\\AppData\\Local\\Temp\\ipykernel_31360\\3131563225.py:4: SettingWithCopyWarning: \n",
      "A value is trying to be set on a copy of a slice from a DataFrame.\n",
      "Try using .loc[row_indexer,col_indexer] = value instead\n",
      "\n",
      "See the caveats in the documentation: https://pandas.pydata.org/pandas-docs/stable/user_guide/indexing.html#returning-a-view-versus-a-copy\n",
      "  Hood_Amp['Sample_ID_Amp']=\"Hood\"\n",
      "C:\\Users\\penny\\AppData\\Local\\Temp\\ipykernel_31360\\3131563225.py:9: SettingWithCopyWarning: \n",
      "A value is trying to be set on a copy of a slice from a DataFrame.\n",
      "Try using .loc[row_indexer,col_indexer] = value instead\n",
      "\n",
      "See the caveats in the documentation: https://pandas.pydata.org/pandas-docs/stable/user_guide/indexing.html#returning-a-view-versus-a-copy\n",
      "  Hood_Amp_Filt['Sample_ID_Amp']=\"Hood\"\n",
      "C:\\Users\\penny\\AppData\\Local\\Temp\\ipykernel_31360\\3131563225.py:10: SettingWithCopyWarning: \n",
      "A value is trying to be set on a copy of a slice from a DataFrame.\n",
      "Try using .loc[row_indexer,col_indexer] = value instead\n",
      "\n",
      "See the caveats in the documentation: https://pandas.pydata.org/pandas-docs/stable/user_guide/indexing.html#returning-a-view-versus-a-copy\n",
      "  Hood_Amp['Class']='Unfilt'\n",
      "C:\\Users\\penny\\AppData\\Local\\Temp\\ipykernel_31360\\3131563225.py:11: SettingWithCopyWarning: \n",
      "A value is trying to be set on a copy of a slice from a DataFrame.\n",
      "Try using .loc[row_indexer,col_indexer] = value instead\n",
      "\n",
      "See the caveats in the documentation: https://pandas.pydata.org/pandas-docs/stable/user_guide/indexing.html#returning-a-view-versus-a-copy\n",
      "  Hood_Amp_Filt['Class']='filt'\n"
     ]
    },
    {
     "data": {
      "image/png": "[encoded data removed]",
      "text/plain": [
       "<Figure size 200x393 with 2 Axes>"
      ]
     },
     "metadata": {},
     "output_type": "display_data"
    }
   ],
   "source": [
    "\n",
    "with open(r'../Combo_Amp.pkl', 'rb') as f:\n",
    "            All_Amp=load(f)\n",
    "Hood_Amp=All_Amp.loc[All_Amp['Volcano']==\"Hood\"]\n",
    "Hood_Amp['Sample_ID_Amp']=\"Hood\"\n",
    "\n",
    "with open(r'../Combo_Amp_Filt.pkl', 'rb') as f:\n",
    "            All_Amp_Filt=load(f)\n",
    "Hood_Amp_Filt=All_Amp_Filt.loc[All_Amp_Filt['Volcano']==\"Hood\"]\n",
    "Hood_Amp_Filt['Sample_ID_Amp']=\"Hood\"\n",
    "Hood_Amp['Class']='Unfilt'\n",
    "Hood_Amp_Filt['Class']='filt'\n",
    "\n",
    "Combo_Amp=pd.concat([Hood_Amp_Filt, Hood_Amp], axis=0)\n",
    "\n",
    "print(sum(Hood_Amp['P_kbar_calc']>-10))\n",
    "print(sum(Hood_Amp_Filt['P_kbar_calc']>-10))\n",
    "\n",
    "import seaborn as sns\n",
    "fig, (ax1) = plt.subplots(1, 1, figsize=(2,3.93), sharey=True)\n",
    "ax2 = ax1.twinx()\n",
    "\n",
    "\n",
    "# ax = sns.violinplot(y=Hood_Amp['P_Ridolfi21'],\n",
    "#                 inner=None, cut=0, ax=ax1, color=\"lightgreen\", linewidth=0.5)\n",
    "sns.violinplot(x=\"Volcano\", y=\"P_Ridolfi21\",  cut=0,  inner=None, hue=\"Class\",\n",
    "            data=Combo_Amp, split=True, ax=ax1, width=0.9,  palette=['lightgreen', 'grey'],\n",
    "               stick=True)\n",
    "\n",
    "\n",
    "ax1.plot(-0.1+0*Hood_Amp_Filt['P_Ridolfi21'],\n",
    "  Hood_Amp_Filt['P_Ridolfi21'],\n",
    "         'x', mec='grey')\n",
    "ax1.plot(+0.1+0*Hood_Amp['P_Ridolfi21'],\n",
    "  Hood_Amp['P_Ridolfi21'],\n",
    "         'x', mec='black')\n",
    "\n",
    "ax1.plot(-0.1,\n",
    "  np.nanmedian(Hood_Amp_Filt['P_Ridolfi21']),\n",
    "         '*k', mfc='w', ms=20)\n",
    "\n",
    "ax1.plot(+0.1,\n",
    "  np.nanmedian(Hood_Amp['P_Ridolfi21']),\n",
    "         '*k', mfc='w', ms=20)\n",
    "ax1.get_legend().remove()\n",
    "ax1.plot([-1, 5], [0, 0], '-k', lw=0.5)\n",
    "ax1.set_ylim([P_axis_max, P_axis_min])\n",
    "ax2.set_ylim([D_axis_max, D_axis_min])\n",
    "ax1.set_xlim([-0.5, 0.5])\n",
    "ax1.set_xlabel(None)\n",
    "ax1.set_ylabel(None)\n",
    "\n",
    "ax1.tick_params(direction=\"in\")\n",
    "ax2.tick_params(direction=\"in\")\n",
    "ax2.set_yticks([])\n",
    "ax1.set_xticks([])\n",
    "ax1.grid(color = 'k', linestyle = '--', axis='y',linewidth = 1, alpha = 0.1, zorder=0)\n",
    "\n",
    "\n",
    "fig.savefig('Hood_Amp.png', dpi=200, transparent=True)"
   ]
  },
  {
   "cell_type": "code",
   "execution_count": 12,
   "id": "cc002bf4-8dff-45f1-8be3-0056d5ed1a39",
   "metadata": {},
   "outputs": [
    {
     "data": {
      "text/plain": [
       "1.574581514202967"
      ]
     },
     "execution_count": 12,
     "metadata": {},
     "output_type": "execute_result"
    }
   ],
   "source": [
    "np.nanmedian(Hood_Amp_Filt['P_Ridolfi21'])"
   ]
  },
  {
   "cell_type": "code",
   "execution_count": 13,
   "id": "b621128c-2186-49a2-b964-4b6e3b9227fd",
   "metadata": {},
   "outputs": [
    {
     "data": {
      "text/plain": [
       "1.557944835996455"
      ]
     },
     "execution_count": 13,
     "metadata": {},
     "output_type": "execute_result"
    }
   ],
   "source": [
    "np.nanmedian(Hood_Amp['P_Ridolfi21'])"
   ]
  },
  {
   "cell_type": "code",
   "execution_count": 10,
   "id": "56982922-8d7d-4c84-b6df-ba3b3ffb1b5a",
   "metadata": {},
   "outputs": [
    {
     "data": {
      "text/plain": [
       "145"
      ]
     },
     "execution_count": 10,
     "metadata": {},
     "output_type": "execute_result"
    }
   ],
   "source": [
    "sum(Hood_Amp['P_kbar_calc']>-10)"
   ]
  },
  {
   "cell_type": "code",
   "execution_count": 9,
   "id": "8653ca84-9b76-42d0-bd3c-3fab82038e33",
   "metadata": {},
   "outputs": [
    {
     "data": {
      "image/png": "[encoded data removed]",
      "text/plain": [
       "<Figure size 144x288 with 2 Axes>"
      ]
     },
     "metadata": {
      "needs_background": "light"
     },
     "output_type": "display_data"
    }
   ],
   "source": [
    "import seaborn as sns\n",
    "fig, (ax1) = plt.subplots(1, 1, figsize=(2,4), sharey=True)\n",
    "ax2 = ax1.twinx()\n",
    "\n",
    "\n",
    "ax = sns.violinplot(y=Hood_Amp['P_Ridolfi21'],\n",
    "                inner=None, cut=0, ax=ax1, color=\"lightgreen\", linewidth=0.5)\n",
    "\n",
    "\n",
    "ax1.plot(0*Hood_Amp['P_Ridolfi21'],\n",
    "  Hood_Amp['P_Ridolfi21'],\n",
    "         'x', mec='green')\n",
    "\n",
    "ax1.plot(0,\n",
    "  np.nanmedian(Hood_Amp['P_Ridolfi21']),\n",
    "         '*k', mfc='w', ms=20)\n",
    "# ax1.plot(0,\n",
    "#   np.nanmean(Hood_Amp['P_Ridolfi21']),\n",
    "#          'pk', mfc='w', ms=5)\n",
    "ax1.plot([-1, 5], [0, 0], '-k', lw=0.5)\n",
    "ax1.set_ylim([P_axis_max, P_axis_min])\n",
    "ax2.set_ylim([D_axis_max, D_axis_min])\n",
    "ax1.set_xlim([-0.5, 0.5])\n",
    "ax1.set_xlabel(None)\n",
    "ax1.set_ylabel(None)\n",
    "\n",
    "ax1.tick_params(direction=\"in\")\n",
    "ax2.tick_params(direction=\"in\")\n",
    "ax2.set_yticks([])\n",
    "ax1.set_xticks([])\n",
    "ax1.grid(color = 'k', linestyle = '--', axis='y',linewidth = 1, alpha = 0.1, zorder=0)\n",
    "\n",
    "\n",
    "fig.savefig('Hood_Amp.png', dpi=200)"
   ]
  }
 ],
 "metadata": {
  "kernelspec": {
   "display_name": "Python 3 (ipykernel)",
   "language": "python",
   "name": "python3"
  },
  "language_info": {
   "codemirror_mode": {
    "name": "ipython",
    "version": 3
   },
   "file_extension": ".py",
   "mimetype": "text/x-python",
   "name": "python",
   "nbconvert_exporter": "python",
   "pygments_lexer": "ipython3",
   "version": "3.9.13"
  }
 },
 "nbformat": 4,
 "nbformat_minor": 5
}
