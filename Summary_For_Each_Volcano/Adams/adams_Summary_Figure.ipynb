{
 "cells": [
  {
   "cell_type": "code",
   "execution_count": 2,
   "id": "f7fb73cf-9460-47b8-9bd0-bd453bb17f0d",
   "metadata": {},
   "outputs": [],
   "source": [
    "import numpy as np\n",
    "import pandas as pd\n",
    "import matplotlib.pyplot as plt\n",
    "import Thermobar as pt\n",
    "from pickle import load\n",
    "import pickle"
   ]
  },
  {
   "cell_type": "markdown",
   "id": "60cc5d23-c5be-456d-ba04-5fc4dac6fe83",
   "metadata": {},
   "source": [
    "## Loading in Cpx data from Pkl"
   ]
  },
  {
   "cell_type": "code",
   "execution_count": 3,
   "id": "1db85c55-e425-4530-82eb-6c01692d65eb",
   "metadata": {},
   "outputs": [
    {
     "name": "stderr",
     "output_type": "stream",
     "text": [
      "C:\\Users\\penny\\AppData\\Local\\Temp\\ipykernel_25396\\4009078991.py:4: SettingWithCopyWarning: \n",
      "A value is trying to be set on a copy of a slice from a DataFrame.\n",
      "Try using .loc[row_indexer,col_indexer] = value instead\n",
      "\n",
      "See the caveats in the documentation: https://pandas.pydata.org/pandas-docs/stable/user_guide/indexing.html#returning-a-view-versus-a-copy\n",
      "  Adams_Cpx['Sample_ID_Cpx']=\"Adams\"\n"
     ]
    }
   ],
   "source": [
    "with open(r'../Combo_Cpx.pkl', 'rb') as f:\n",
    "            All_Cpx=load(f)\n",
    "Adams_Cpx=All_Cpx.loc[All_Cpx['Volcano']==\"Adams\"]\n",
    "Adams_Cpx['Sample_ID_Cpx']=\"Adams\""
   ]
  },
  {
   "cell_type": "code",
   "execution_count": 4,
   "id": "9f5aaa32-0bd9-4c99-94c8-76bd067518e5",
   "metadata": {},
   "outputs": [
    {
     "name": "stdout",
     "output_type": "stream",
     "text": [
      "1214\n"
     ]
    }
   ],
   "source": [
    "print(len(Adams_Cpx))"
   ]
  },
  {
   "cell_type": "code",
   "execution_count": 5,
   "id": "d1c3fc6e-7eac-40e1-85f4-bbfbc3359899",
   "metadata": {},
   "outputs": [],
   "source": [
    "WangCopy=Adams_Cpx.copy()\n",
    "WangCopy['Preferred_P']=WangCopy['P_Wang21_eq1']\n",
    "WangCopy['Model']=\"Wang\"\n",
    "JorgensonCopy=Adams_Cpx.copy()\n",
    "JorgensonCopy['Preferred_P']=JorgensonCopy['P_Jorgenson22']\n",
    "JorgensonCopy['Model']=\"Jorgenson\"\n",
    "\n",
    "Combo_Cpx=pd.concat([WangCopy, JorgensonCopy], axis=0)"
   ]
  },
  {
   "cell_type": "markdown",
   "id": "ce5301c4-2fc5-4ffa-bea5-c3f2a2a10aa5",
   "metadata": {},
   "source": [
    "## Choose Crustal density"
   ]
  },
  {
   "cell_type": "code",
   "execution_count": 6,
   "id": "5969034c-fad7-4f3b-99e7-6e549602329a",
   "metadata": {},
   "outputs": [],
   "source": [
    "rho=2700\n",
    "P_axis_min=-3\n",
    "P_axis_max=12\n",
    "D_axis_min=100000*P_axis_min/(9.8*rho)\n",
    "D_axis_max=100000*P_axis_max/(9.8*rho)\n"
   ]
  },
  {
   "cell_type": "code",
   "execution_count": 22,
   "id": "03aecb9b-4065-4d14-a4ce-d29b9a6cdd76",
   "metadata": {},
   "outputs": [
    {
     "data": {
      "image/png": "[encoded data removed]",
      "text/plain": [
       "<Figure size 200x400 with 2 Axes>"
      ]
     },
     "metadata": {},
     "output_type": "display_data"
    }
   ],
   "source": [
    "import seaborn as sns\n",
    "fig, (ax1) = plt.subplots(1, 1, figsize=(2,4), sharey=True)\n",
    "ax2 = ax1.twinx()\n",
    "\n",
    "volc_order=[\"Adams\"]\n",
    "sns.violinplot(x=\"Sample_ID_Cpx\", y=\"Preferred_P\",  cut=0,  inner=None, hue=\"Model\",\n",
    "            data=Combo_Cpx, split=True, ax=ax1, width=0.9, order=volc_order, stick=True)\n",
    "\n",
    "# This bit plots an x for every measurement\n",
    "ax1.plot(-0.1+0*Combo_Cpx['Preferred_P'].loc[(Combo_Cpx['Model']==\"Wang\")\n",
    "                                        &(Combo_Cpx[\"Sample_ID_Cpx\"]==\"Adams\")],\n",
    "      Combo_Cpx['Preferred_P'].loc[(Combo_Cpx['Model']==\"Wang\")\n",
    "                                        &(Combo_Cpx[\"Sample_ID_Cpx\"]==\"Adams\")],  \n",
    "         'xb')\n",
    "\n",
    "ax1.plot(0.1+0*Combo_Cpx['Preferred_P'].loc[(Combo_Cpx['Model']==\"Jorgenson\")\n",
    "                                        &(Combo_Cpx[\"Sample_ID_Cpx\"]==\"Adams\")],\n",
    "      Combo_Cpx['Preferred_P'].loc[(Combo_Cpx['Model']==\"Jorgenson\")\n",
    "                                        &(Combo_Cpx[\"Sample_ID_Cpx\"]==\"Adams\")],  \n",
    "         'xr')\n",
    "\n",
    "# This plots the star at the median of each one\n",
    "ax1.plot(-0.1,\n",
    "      np.nanmedian(Combo_Cpx['Preferred_P'].loc[(Combo_Cpx['Model']==\"Wang\")\n",
    "                                        &(Combo_Cpx[\"Sample_ID_Cpx\"]==\"Adams\")]),  \n",
    "         '*k', mfc='w', ms=20)\n",
    "\n",
    "ax1.plot(0.1,\n",
    "      np.nanmedian(Combo_Cpx['Preferred_P'].loc[(Combo_Cpx['Model']==\"Jorgenson\")\n",
    "                                        &(Combo_Cpx[\"Sample_ID_Cpx\"]==\"Adams\")]),  \n",
    "         '*k', mfc='w', ms=20)\n",
    "\n",
    "\n",
    "ax1.plot([-1, 5], [0, 0], '-k', lw=0.5)\n",
    "ax1.set_ylim([P_axis_max, P_axis_min])\n",
    "ax2.set_ylim([D_axis_max, D_axis_min])\n",
    "ax1.set_xlim([-0.5, 0.5])\n",
    "ax1.get_legend().remove()\n",
    "ax1.set_xlabel(None)\n",
    "ax1.set_ylabel(None)\n",
    "ax1.tick_params(direction=\"in\")\n",
    "ax2.tick_params(direction=\"in\")\n",
    "ax1.grid(color = 'k', linestyle = '--', axis='y',linewidth = 1, alpha = 0.1, zorder=0)\n",
    "ax2.set_yticks([])\n",
    "ax1.set_xticks([])\n",
    "ax1.errorbar(-0.4, 4, xerr=0, yerr=2.4,  ecolor='blue', elinewidth=1.5, fmt='none', capsize=4, mec='k')\n",
    "ax1.errorbar(-0.3, 4, xerr=0, yerr=1.9,  ecolor='darkorange', elinewidth=1.5, fmt='none', capsize=4, mec='k')\n",
    "\n",
    "\n",
    "fig.savefig('Adams_Cpx.png', dpi=200)"
   ]
  },
  {
   "cell_type": "code",
   "execution_count": 8,
   "id": "5706bf54-a613-43c1-980f-222d761042fb",
   "metadata": {},
   "outputs": [
    {
     "data": {
      "text/plain": [
       "1.3338805970149252"
      ]
     },
     "execution_count": 8,
     "metadata": {},
     "output_type": "execute_result"
    }
   ],
   "source": [
    "np.nanmedian(Combo_Cpx['Preferred_P'].loc[(Combo_Cpx['Model']==\"Jorgenson\")\n",
    "                                        &(Combo_Cpx[\"Sample_ID_Cpx\"]==\"Adams\")])"
   ]
  },
  {
   "cell_type": "code",
   "execution_count": 9,
   "id": "7cc2f16a-26dd-4cd0-9115-92a25a802437",
   "metadata": {},
   "outputs": [
    {
     "data": {
      "text/plain": [
       "0.440049962744844"
      ]
     },
     "execution_count": 9,
     "metadata": {},
     "output_type": "execute_result"
    }
   ],
   "source": [
    "np.nanmedian(Combo_Cpx['Preferred_P'].loc[(Combo_Cpx['Model']==\"Wang\")\n",
    "                                        &(Combo_Cpx[\"Sample_ID_Cpx\"]==\"Adams\")])"
   ]
  },
  {
   "cell_type": "code",
   "execution_count": 10,
   "id": "ea930be7-da77-44bf-b232-c59eaff14ee0",
   "metadata": {},
   "outputs": [
    {
     "data": {
      "text/plain": [
       "(array([323., 541., 210.,  83.,  31.,  13.,   5.,   4.,   2.,   2.]),\n",
       " array([0.38012438, 1.02508806, 1.67005174, 2.31501542, 2.9599791 ,\n",
       "        3.60494279, 4.24990647, 4.89487015, 5.53983383, 6.18479751,\n",
       "        6.82976119]),\n",
       " <BarContainer object of 10 artists>)"
      ]
     },
     "execution_count": 10,
     "metadata": {},
     "output_type": "execute_result"
    },
    {
     "data": {
      "image/png": "[encoded data removed]",
      "text/plain": [
       "<Figure size 640x480 with 1 Axes>"
      ]
     },
     "metadata": {},
     "output_type": "display_data"
    }
   ],
   "source": [
    "plt.hist(WangCopy['Preferred_P'])\n",
    "plt.hist(JorgensonCopy['Preferred_P'])"
   ]
  },
  {
   "cell_type": "code",
   "execution_count": 11,
   "id": "32152334-4b43-4f00-809c-52b5f2280222",
   "metadata": {},
   "outputs": [
    {
     "data": {
      "text/plain": [
       "1214.0"
      ]
     },
     "execution_count": 11,
     "metadata": {},
     "output_type": "execute_result"
    }
   ],
   "source": [
    "len(Combo_Cpx)/2"
   ]
  },
  {
   "cell_type": "code",
   "execution_count": 12,
   "id": "5ab298ae-0e39-4d03-9840-a0ca1d8c656e",
   "metadata": {},
   "outputs": [
    {
     "data": {
      "text/plain": [
       "271"
      ]
     },
     "execution_count": 12,
     "metadata": {},
     "output_type": "execute_result"
    }
   ],
   "source": [
    "sum(Adams_Cpx['Jd_from 0=Na, 1=Al']==0)"
   ]
  },
  {
   "cell_type": "code",
   "execution_count": 13,
   "id": "dd0d6e4a-427b-4df8-b0a4-f96e429c3db2",
   "metadata": {},
   "outputs": [
    {
     "data": {
      "text/plain": [
       "943"
      ]
     },
     "execution_count": 13,
     "metadata": {},
     "output_type": "execute_result"
    }
   ],
   "source": [
    "sum(Adams_Cpx['Jd_from 0=Na, 1=Al']==1)"
   ]
  },
  {
   "cell_type": "markdown",
   "id": "38b89876-1529-43a0-a9f5-9acba2d911e5",
   "metadata": {},
   "source": [
    "## Load in LP data"
   ]
  },
  {
   "cell_type": "code",
   "execution_count": 14,
   "id": "41821936-e344-4fae-9a12-f803d537e6b2",
   "metadata": {},
   "outputs": [],
   "source": [
    "LPs=pd.read_excel(r'../Geophysics_April23.xlsx',\n",
    "                  sheet_name=\"LPEarthquakes\")"
   ]
  },
  {
   "cell_type": "code",
   "execution_count": 15,
   "id": "4cdf240f-87c5-4294-aa4a-412c5b1490df",
   "metadata": {},
   "outputs": [
    {
     "data": {
      "text/plain": [
       "array(['Lassen', 'Medicine Lake', 'Three sisters', 'Crater Lake',\n",
       "       'Mount Baker', 'Glacier Peak', 'Mount Rainier'], dtype=object)"
      ]
     },
     "execution_count": 15,
     "metadata": {},
     "output_type": "execute_result"
    }
   ],
   "source": [
    "# No Adams LPS\n",
    "LPs.Volcano.unique()"
   ]
  },
  {
   "cell_type": "markdown",
   "id": "6e45a011-023a-4bff-ad06-e481b53d30ba",
   "metadata": {},
   "source": [
    "## Raw template for geophysics and Exp Pet"
   ]
  },
  {
   "cell_type": "code",
   "execution_count": 16,
   "id": "85832d6e-9d94-47cd-9704-3d3255c3580e",
   "metadata": {},
   "outputs": [
    {
     "data": {
      "image/png": "[encoded data removed]",
      "text/plain": [
       "<Figure size 200x400 with 2 Axes>"
      ]
     },
     "metadata": {},
     "output_type": "display_data"
    }
   ],
   "source": [
    "import seaborn as sns\n",
    "fig, (ax1) = plt.subplots(1, 1, figsize=(2,4), sharey=True)\n",
    "ax2 = ax1.twinx()\n",
    "from matplotlib import patches\n",
    "elev=3.7432 # Elevation of mt adams in km\n",
    "\n",
    "sep=0.5\n",
    "\n",
    "## Magnetotelluric data \n",
    "# Hill et al. (2009)\n",
    "# rect_H1 = patches.Rectangle((10*sep,3+elev),0.2,25-10,linewidth=1,\n",
    "#                             edgecolor='k',facecolor='blue', alpha=1)\n",
    "# ax2.add_patch(rect_H1)\n",
    "rect_Reg = patches.Rectangle((10*sep,10),0.2,30-10,linewidth=1,\n",
    "                             edgecolor='k',facecolor='None', alpha=0.5)\n",
    "ax2.add_patch(rect_Reg)\n",
    "\n",
    "ax1.plot([-1, 8], [0, 0], '-k', lw=0.5)\n",
    "ax1.set_ylim([P_axis_max, P_axis_min])\n",
    "ax2.set_ylim([D_axis_max, D_axis_min])\n",
    "\n",
    "ax1.tick_params(direction=\"in\")\n",
    "ax2.tick_params(direction=\"in\")\n",
    "ax1.set_xlim([4, 6])\n",
    "ax1.set_xlabel(None)\n",
    "ax1.set_ylabel(None)\n",
    "ax1.set_xticks([])\n",
    "#ax1.set_xticklabels(['Exp Pet', 'Exp Pet', 'MT', 'Seismics'], rotation=90)\n",
    "ax1.grid(color = 'k', linestyle = '--', axis='y',linewidth = 1, alpha = 0.1, zorder=0)\n",
    "                 \n",
    "fig.savefig('Geophysical+Other_Adams.png', dpi=200, bbox_inches=\"tight\")"
   ]
  },
  {
   "cell_type": "markdown",
   "id": "4a679786-a08a-4351-9129-a1533a08872f",
   "metadata": {},
   "source": [
    "## Loading in amphibole data"
   ]
  },
  {
   "cell_type": "code",
   "execution_count": 26,
   "id": "f8f39b3c-f1fe-48e1-90e5-1ddd2b556411",
   "metadata": {},
   "outputs": [
    {
     "name": "stderr",
     "output_type": "stream",
     "text": [
      "C:\\Users\\penny\\AppData\\Local\\Temp\\ipykernel_25396\\61696603.py:4: SettingWithCopyWarning: \n",
      "A value is trying to be set on a copy of a slice from a DataFrame.\n",
      "Try using .loc[row_indexer,col_indexer] = value instead\n",
      "\n",
      "See the caveats in the documentation: https://pandas.pydata.org/pandas-docs/stable/user_guide/indexing.html#returning-a-view-versus-a-copy\n",
      "  Adams_Amp['Sample_ID_Amp']=\"Adams\"\n",
      "C:\\Users\\penny\\AppData\\Local\\Temp\\ipykernel_25396\\61696603.py:9: SettingWithCopyWarning: \n",
      "A value is trying to be set on a copy of a slice from a DataFrame.\n",
      "Try using .loc[row_indexer,col_indexer] = value instead\n",
      "\n",
      "See the caveats in the documentation: https://pandas.pydata.org/pandas-docs/stable/user_guide/indexing.html#returning-a-view-versus-a-copy\n",
      "  Adams_Amp_Filt['Sample_ID_Amp']=\"Adams\"\n",
      "C:\\Users\\penny\\AppData\\Local\\Temp\\ipykernel_25396\\61696603.py:10: SettingWithCopyWarning: \n",
      "A value is trying to be set on a copy of a slice from a DataFrame.\n",
      "Try using .loc[row_indexer,col_indexer] = value instead\n",
      "\n",
      "See the caveats in the documentation: https://pandas.pydata.org/pandas-docs/stable/user_guide/indexing.html#returning-a-view-versus-a-copy\n",
      "  Adams_Amp['Class']='Unfilt'\n",
      "C:\\Users\\penny\\AppData\\Local\\Temp\\ipykernel_25396\\61696603.py:11: SettingWithCopyWarning: \n",
      "A value is trying to be set on a copy of a slice from a DataFrame.\n",
      "Try using .loc[row_indexer,col_indexer] = value instead\n",
      "\n",
      "See the caveats in the documentation: https://pandas.pydata.org/pandas-docs/stable/user_guide/indexing.html#returning-a-view-versus-a-copy\n",
      "  Adams_Amp_Filt['Class']='filt'\n"
     ]
    },
    {
     "name": "stdout",
     "output_type": "stream",
     "text": [
      "30\n",
      "30\n"
     ]
    },
    {
     "data": {
      "image/png": "[encoded data removed]",
      "text/plain": [
       "<Figure size 200x393 with 2 Axes>"
      ]
     },
     "metadata": {},
     "output_type": "display_data"
    }
   ],
   "source": [
    "\n",
    "with open(r'../Combo_Amp.pkl', 'rb') as f:\n",
    "            All_Amp=load(f)\n",
    "Adams_Amp=All_Amp.loc[All_Amp['Volcano']==\"Adams\"]\n",
    "Adams_Amp['Sample_ID_Amp']=\"Adams\"\n",
    "\n",
    "with open(r'../Combo_Amp_Filt.pkl', 'rb') as f:\n",
    "            All_Amp_Filt=load(f)\n",
    "Adams_Amp_Filt=All_Amp_Filt.loc[All_Amp_Filt['Volcano']==\"Adams\"]\n",
    "Adams_Amp_Filt['Sample_ID_Amp']=\"Adams\"\n",
    "Adams_Amp['Class']='Unfilt'\n",
    "Adams_Amp_Filt['Class']='filt'\n",
    "\n",
    "Combo_Amp=pd.concat([Adams_Amp_Filt, Adams_Amp], axis=0)\n",
    "\n",
    "print(sum(Adams_Amp['P_kbar_calc']>-10))\n",
    "print(sum(Adams_Amp_Filt['P_kbar_calc']>-10))\n",
    "\n",
    "import seaborn as sns\n",
    "fig, (ax1) = plt.subplots(1, 1, figsize=(2,3.93), sharey=True)\n",
    "ax2 = ax1.twinx()\n",
    "\n",
    "\n",
    "# ax = sns.violinplot(y=Adams_Amp['P_Ridolfi21'],\n",
    "#                 inner=None, cut=0, ax=ax1, color=\"lightgreen\", linewidth=0.5)\n",
    "sns.violinplot(x=\"Volcano\", y=\"P_Ridolfi21\",  cut=0,  inner=None, hue=\"Class\",\n",
    "            data=Combo_Amp, split=True, ax=ax1, width=0.9,  palette=['lightgreen', 'grey'],\n",
    "               stick=True)\n",
    "\n",
    "\n",
    "ax1.plot(-0.1+0*Adams_Amp_Filt['P_Ridolfi21'],\n",
    "  Adams_Amp_Filt['P_Ridolfi21'],\n",
    "         'x', mec='grey')\n",
    "ax1.plot(+0.1+0*Adams_Amp['P_Ridolfi21'],\n",
    "  Adams_Amp['P_Ridolfi21'],\n",
    "         'x', mec='black')\n",
    "\n",
    "ax1.plot(-0.1,\n",
    "  np.nanmedian(Adams_Amp_Filt['P_Ridolfi21']),\n",
    "         '*k', mfc='w', ms=20)\n",
    "\n",
    "ax1.plot(+0.1,\n",
    "  np.nanmedian(Adams_Amp['P_Ridolfi21']),\n",
    "         '*k', mfc='w', ms=20)\n",
    "ax1.get_legend().remove()\n",
    "ax1.plot([-1, 5], [0, 0], '-k', lw=0.5)\n",
    "ax1.set_ylim([P_axis_max, P_axis_min])\n",
    "ax2.set_ylim([D_axis_max, D_axis_min])\n",
    "ax1.set_xlim([-0.6, 0.5])\n",
    "ax1.set_xlabel(None)\n",
    "ax1.set_ylabel(None)\n",
    "\n",
    "ax1.tick_params(direction=\"in\")\n",
    "ax2.tick_params(direction=\"in\")\n",
    "ax2.set_yticks([])\n",
    "ax1.set_xticks([])\n",
    "ax1.grid(color = 'k', linestyle = '--', axis='y',linewidth = 1, alpha = 0.1, zorder=0)\n",
    "ax1.errorbar(-0.5, 4, xerr=0, yerr=2.7,  ecolor='black', elinewidth=1.5, ms=0, capsize=4, mec='k')\n",
    "\n",
    "\n",
    "fig.savefig('Adams_Amp.png', dpi=200)"
   ]
  },
  {
   "cell_type": "code",
   "execution_count": 18,
   "id": "12247c43-89bb-4980-ba94-e17e65b473b3",
   "metadata": {},
   "outputs": [
    {
     "data": {
      "text/plain": [
       "3.8824323375500995"
      ]
     },
     "execution_count": 18,
     "metadata": {},
     "output_type": "execute_result"
    }
   ],
   "source": [
    "np.nanmedian(Adams_Amp_Filt['P_Ridolfi21'])"
   ]
  },
  {
   "cell_type": "code",
   "execution_count": 19,
   "id": "aebf35bf-4f0a-4660-ac49-2d1dec0ca747",
   "metadata": {},
   "outputs": [
    {
     "name": "stdout",
     "output_type": "stream",
     "text": [
      "43\n"
     ]
    }
   ],
   "source": [
    "print(len(Adams_Amp['P_kbar_calc']>-20))"
   ]
  },
  {
   "cell_type": "code",
   "execution_count": 20,
   "id": "32238b9d-4ae1-4b03-9ec5-0aee09af7c43",
   "metadata": {},
   "outputs": [
    {
     "data": {
      "text/plain": [
       "array(['Baker', 'Rainier', 'MSH', 'Adams', 'Hood', 'CraterLake',\n",
       "       'Jefferson', 'MedicineLake', 'Lassen'], dtype=object)"
      ]
     },
     "execution_count": 20,
     "metadata": {},
     "output_type": "execute_result"
    }
   ],
   "source": [
    "All_Amp['Volcano'].unique()"
   ]
  },
  {
   "cell_type": "code",
   "execution_count": 21,
   "id": "4940f260-c5f7-420e-a0de-5b24004450ed",
   "metadata": {},
   "outputs": [
    {
     "data": {
      "image/png": "[encoded data removed]",
      "text/plain": [
       "<Figure size 200x400 with 2 Axes>"
      ]
     },
     "metadata": {},
     "output_type": "display_data"
    }
   ],
   "source": [
    "import seaborn as sns\n",
    "fig, (ax1) = plt.subplots(1, 1, figsize=(2,4), sharey=True)\n",
    "ax2 = ax1.twinx()\n",
    "\n",
    "\n",
    "ax = sns.violinplot(y=Adams_Amp['P_Ridolfi21'],\n",
    "                inner=None, cut=0, ax=ax1, color=\"lightgreen\", linewidth=0.5)\n",
    "\n",
    "\n",
    "ax1.plot(0*Adams_Amp['P_Ridolfi21'],\n",
    "  Adams_Amp['P_Ridolfi21'],\n",
    "         'x', mec='green')\n",
    "\n",
    "ax1.plot(0,\n",
    "  np.nanmedian(Adams_Amp['P_Ridolfi21']),\n",
    "         '*k', mfc='w', ms=20)\n",
    "\n",
    "ax1.plot([-1, 5], [0, 0], '-k', lw=0.5)\n",
    "ax1.set_ylim([P_axis_max, P_axis_min])\n",
    "ax2.set_ylim([D_axis_max, D_axis_min])\n",
    "ax1.set_xlim([-0.5, 0.5])\n",
    "ax1.set_xlabel(None)\n",
    "ax1.set_ylabel(None)\n",
    "\n",
    "ax1.tick_params(direction=\"in\")\n",
    "ax2.tick_params(direction=\"in\")\n",
    "ax2.set_yticks([])\n",
    "ax1.set_xticks([])\n",
    "ax1.grid(color = 'k', linestyle = '--', axis='y',linewidth = 1, alpha = 0.1, zorder=0)\n",
    "\n",
    "\n",
    "fig.savefig('Adams_Amp.png', dpi=200)"
   ]
  }
 ],
 "metadata": {
  "kernelspec": {
   "display_name": "Python 3 (ipykernel)",
   "language": "python",
   "name": "python3"
  },
  "language_info": {
   "codemirror_mode": {
    "name": "ipython",
    "version": 3
   },
   "file_extension": ".py",
   "mimetype": "text/x-python",
   "name": "python",
   "nbconvert_exporter": "python",
   "pygments_lexer": "ipython3",
   "version": "3.9.17"
  }
 },
 "nbformat": 4,
 "nbformat_minor": 5
}
