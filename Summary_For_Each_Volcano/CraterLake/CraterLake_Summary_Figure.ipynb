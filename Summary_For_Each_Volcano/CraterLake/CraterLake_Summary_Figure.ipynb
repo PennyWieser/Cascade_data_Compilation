{
 "cells": [
  {
   "cell_type": "code",
   "execution_count": 1,
   "id": "f7fb73cf-9460-47b8-9bd0-bd453bb17f0d",
   "metadata": {},
   "outputs": [],
   "source": [
    "import numpy as np\n",
    "import pandas as pd\n",
    "import matplotlib.pyplot as plt\n",
    "import Thermobar as pt\n",
    "from pickle import load\n",
    "import pickle"
   ]
  },
  {
   "cell_type": "markdown",
   "id": "8521678a-72c4-48d0-9753-648355b12ab4",
   "metadata": {},
   "source": [
    "## First, lets load Cpx data"
   ]
  },
  {
   "cell_type": "code",
   "execution_count": 2,
   "id": "8453bb64-2b6f-40f8-a7c9-ac9dc2a2aab8",
   "metadata": {},
   "outputs": [
    {
     "name": "stderr",
     "output_type": "stream",
     "text": [
      "C:\\Users\\penny\\AppData\\Local\\Temp\\ipykernel_44276\\2148374806.py:4: SettingWithCopyWarning: \n",
      "A value is trying to be set on a copy of a slice from a DataFrame.\n",
      "Try using .loc[row_indexer,col_indexer] = value instead\n",
      "\n",
      "See the caveats in the documentation: https://pandas.pydata.org/pandas-docs/stable/user_guide/indexing.html#returning-a-view-versus-a-copy\n",
      "  CraterLake_Cpx['Volcano']=\"Crater Lake\"\n"
     ]
    }
   ],
   "source": [
    "with open(r'../Combo_Cpx.pkl', 'rb') as f:\n",
    "            All_Cpx=load(f)\n",
    "CraterLake_Cpx=All_Cpx.loc[All_Cpx['Volcano']==\"CraterLake\"]\n",
    "CraterLake_Cpx['Volcano']=\"Crater Lake\""
   ]
  },
  {
   "cell_type": "code",
   "execution_count": 3,
   "id": "7075f3c7-c762-4da5-8b79-7102817d5de0",
   "metadata": {},
   "outputs": [
    {
     "data": {
      "text/plain": [
       "array(['GVB', 'Baker', 'Glacier', 'Rainier', 'Adams', 'MSH', 'Hood',\n",
       "       'MedicineLake', 'Jefferson', 'North Sister', 'South Sister',\n",
       "       'CraterLake', 'Shasta', 'Lassen'], dtype=object)"
      ]
     },
     "execution_count": 3,
     "metadata": {},
     "output_type": "execute_result"
    }
   ],
   "source": [
    "All_Cpx['Volcano'].unique()"
   ]
  },
  {
   "cell_type": "markdown",
   "id": "79109bd2-298f-4ef9-8fed-438d36167630",
   "metadata": {},
   "source": [
    "## Splitting into Petrelli and Wang"
   ]
  },
  {
   "cell_type": "code",
   "execution_count": 4,
   "id": "9cee4e09-c573-4fbc-bc74-da8c4942b71e",
   "metadata": {},
   "outputs": [],
   "source": [
    "WangCopy=CraterLake_Cpx.copy()\n",
    "WangCopy['Preferred_P']=WangCopy['P_Wang21_eq1']\n",
    "WangCopy['Model']=\"Wang\"\n",
    "JorgensonCopy=CraterLake_Cpx.copy()\n",
    "JorgensonCopy['Preferred_P']=JorgensonCopy['P_Jorgenson22']\n",
    "JorgensonCopy['Model']=\"Jorgenson\"\n",
    "\n",
    "Combo_Cpx=pd.concat([WangCopy, JorgensonCopy], axis=0)"
   ]
  },
  {
   "cell_type": "code",
   "execution_count": 5,
   "id": "5969034c-fad7-4f3b-99e7-6e549602329a",
   "metadata": {},
   "outputs": [],
   "source": [
    "rho=2700\n",
    "P_axis_min=-3\n",
    "P_axis_max=12\n",
    "D_axis_min=100000*P_axis_min/(9.8*rho)\n",
    "D_axis_max=100000*P_axis_max/(9.8*rho)\n"
   ]
  },
  {
   "cell_type": "code",
   "execution_count": 6,
   "id": "d6d5841a-6f2a-4884-a88e-0de55bafbb54",
   "metadata": {},
   "outputs": [
    {
     "data": {
      "text/plain": [
       "333"
      ]
     },
     "execution_count": 6,
     "metadata": {},
     "output_type": "execute_result"
    }
   ],
   "source": [
    "len(WangCopy)"
   ]
  },
  {
   "cell_type": "code",
   "execution_count": 7,
   "id": "cfbad5e5-b464-4b21-b2f9-69b7824425a4",
   "metadata": {},
   "outputs": [
    {
     "data": {
      "text/plain": [
       "array(['Crater Lake'], dtype=object)"
      ]
     },
     "execution_count": 7,
     "metadata": {},
     "output_type": "execute_result"
    }
   ],
   "source": [
    "Combo_Cpx['Volcano'].unique()"
   ]
  },
  {
   "cell_type": "code",
   "execution_count": 8,
   "id": "c65f0c31-f7f5-46e6-8d36-0d7d2df3be36",
   "metadata": {},
   "outputs": [
    {
     "data": {
      "text/plain": [
       "0      1.252668\n",
       "1      1.649548\n",
       "2      1.233271\n",
       "3      1.055356\n",
       "4      0.546042\n",
       "         ...   \n",
       "328   -2.077082\n",
       "329   -1.755523\n",
       "330   -0.653637\n",
       "331   -1.908139\n",
       "332   -1.075896\n",
       "Name: Preferred_P, Length: 333, dtype: float64"
      ]
     },
     "execution_count": 8,
     "metadata": {},
     "output_type": "execute_result"
    }
   ],
   "source": [
    "Combo_Cpx['Preferred_P'].loc[(Combo_Cpx['Model']==\"Wang\")\n",
    "                                        &(Combo_Cpx[\"Volcano\"]==\"Crater Lake\")]"
   ]
  },
  {
   "cell_type": "code",
   "execution_count": 22,
   "id": "03aecb9b-4065-4d14-a4ce-d29b9a6cdd76",
   "metadata": {},
   "outputs": [
    {
     "data": {
      "image/png": "[encoded data removed]",
      "text/plain": [
       "<Figure size 200x400 with 2 Axes>"
      ]
     },
     "metadata": {},
     "output_type": "display_data"
    }
   ],
   "source": [
    "import seaborn as sns\n",
    "fig, (ax1) = plt.subplots(1, 1, figsize=(2,4), sharey=True)\n",
    "ax2 = ax1.twinx()\n",
    "\n",
    "volc_order=[\"Crater Lake\"]\n",
    "sns.violinplot(x=\"Volcano\", y=\"Preferred_P\",  cut=0,  inner=None, hue=\"Model\",\n",
    "            data=Combo_Cpx, split=True, ax=ax1, width=0.9, order=volc_order, stick=True)\n",
    "\n",
    "ax1.plot(-0.1+0*Combo_Cpx['Preferred_P'].loc[(Combo_Cpx['Model']==\"Wang\")\n",
    "                                        &(Combo_Cpx[\"Volcano\"]==\"Crater Lake\")],\n",
    "      Combo_Cpx['Preferred_P'].loc[(Combo_Cpx['Model']==\"Wang\")\n",
    "                                        &(Combo_Cpx[\"Volcano\"]==\"Crater Lake\")],  \n",
    "         'xb', alpha=0.3)\n",
    "\n",
    "ax1.plot(0.1+0*Combo_Cpx['Preferred_P'].loc[(Combo_Cpx['Model']==\"Jorgenson\")\n",
    "                                        &(Combo_Cpx[\"Volcano\"]==\"Crater Lake\")],\n",
    "      Combo_Cpx['Preferred_P'].loc[(Combo_Cpx['Model']==\"Jorgenson\")\n",
    "                                        &(Combo_Cpx[\"Volcano\"]==\"Crater Lake\")],  \n",
    "         'xr')\n",
    "\n",
    "ax1.plot(-0.1,\n",
    "      np.nanmedian(Combo_Cpx['Preferred_P'].loc[(Combo_Cpx['Model']==\"Wang\")\n",
    "                                        &(Combo_Cpx[\"Volcano\"]==\"Crater Lake\")]),  \n",
    "         '*k', mfc='w', ms=20)\n",
    "\n",
    "ax1.plot(0.1,\n",
    "      np.nanmedian(Combo_Cpx['Preferred_P'].loc[(Combo_Cpx['Model']==\"Jorgenson\")\n",
    "                                        &(Combo_Cpx[\"Volcano\"]==\"Crater Lake\")]),  \n",
    "         '*k', mfc='w', ms=20)\n",
    "\n",
    "\n",
    "ax1.errorbar(-0.3, 4, xerr=0, yerr=2.4,  ecolor='blue', elinewidth=1.5, fmt='none', capsize=4, mec='k')\n",
    "ax1.errorbar(-0.4, 4, xerr=0, yerr=1.9,  ecolor='darkorange', elinewidth=1.5, fmt='none', capsize=4, mec='k')\n",
    "\n",
    "\n",
    "ax1.plot([-1, 5], [0, 0], '-k', lw=0.5)\n",
    "ax1.set_ylim([P_axis_max, P_axis_min])\n",
    "ax2.set_ylim([D_axis_max, D_axis_min])\n",
    "ax1.set_xlim([-0.5, 0.5])\n",
    "ax1.set_xticks([])\n",
    "ax1.get_legend().remove()\n",
    "ax1.set_xlabel(None)\n",
    "ax1.set_ylabel(None)\n",
    "ax1.tick_params(direction=\"in\")\n",
    "ax2.tick_params(direction=\"in\")\n",
    "ax1.grid(color = 'k', linestyle = '--', axis='y',linewidth = 1, alpha = 0.1, zorder=0)\n",
    "ax2.set_yticks([])\n",
    "fig.savefig('Crater_Cpx.png', dpi=200)"
   ]
  },
  {
   "cell_type": "code",
   "execution_count": 10,
   "id": "f103a87f-735b-4d08-b36f-d10df027d009",
   "metadata": {},
   "outputs": [
    {
     "name": "stdout",
     "output_type": "stream",
     "text": [
      "Jorgenson Median pressure\n",
      "1.242748756218906\n"
     ]
    }
   ],
   "source": [
    "print('Jorgenson Median pressure')\n",
    "print(np.nanmedian(Combo_Cpx['Preferred_P'].loc[(Combo_Cpx['Model']==\"Jorgenson\")]))\n"
   ]
  },
  {
   "cell_type": "code",
   "execution_count": 11,
   "id": "c1e20a49-557b-4a89-8317-74a6e47923f2",
   "metadata": {},
   "outputs": [
    {
     "name": "stdout",
     "output_type": "stream",
     "text": [
      "Jorgenson Median pressure\n",
      "-0.19269108448018457\n"
     ]
    }
   ],
   "source": [
    "print('Jorgenson Median pressure')\n",
    "print(np.nanmedian(Combo_Cpx['Preferred_P'].loc[(Combo_Cpx['Model']==\"Wang\")]))\n"
   ]
  },
  {
   "cell_type": "code",
   "execution_count": 12,
   "id": "d0502fd5-09fa-4cec-9077-718834062b4b",
   "metadata": {},
   "outputs": [
    {
     "name": "stdout",
     "output_type": "stream",
     "text": [
      "Jorgenson Mean\n",
      "-1.2812063843504364\n"
     ]
    }
   ],
   "source": [
    "print('Jorgenson Mean')\n",
    "print(np.nanmean(Combo_Cpx['Preferred_P'].loc[(Combo_Cpx['Model']==\"Wang\")])\n",
    "     -np.nanstd(Combo_Cpx['Preferred_P'].loc[(Combo_Cpx['Model']==\"Wang\")])\n",
    "     )\n"
   ]
  },
  {
   "cell_type": "code",
   "execution_count": 13,
   "id": "7db4a5ba-47f0-4ba6-981b-6700d22ec596",
   "metadata": {},
   "outputs": [
    {
     "name": "stderr",
     "output_type": "stream",
     "text": [
      "g:\\my drive\\postdoc\\pymme\\mybarometers\\thermobar_outer\\src\\Thermobar\\core.py:1561: FutureWarning: In a future version, the Index constructor will not infer numeric dtypes when passed object-dtype sequences (matching Series behavior)\n",
      "  cpx_calc.loc[(AlVI_minus_Na<0), 'Jd']=cpx_calc['Al_VI_cat_6ox']\n"
     ]
    }
   ],
   "source": [
    "cpx_cpn=pt.calculate_clinopyroxene_components(cpx_comps=CraterLake_Cpx)"
   ]
  },
  {
   "cell_type": "code",
   "execution_count": 14,
   "id": "9406a347-1b72-4abf-a66e-8ef7c714020b",
   "metadata": {},
   "outputs": [
    {
     "data": {
      "text/plain": [
       "[<matplotlib.lines.Line2D at 0x1bc4b6d40d0>]"
      ]
     },
     "execution_count": 14,
     "metadata": {},
     "output_type": "execute_result"
    },
    {
     "data": {
      "image/png": "[encoded data removed]",
      "text/plain": [
       "<Figure size 640x480 with 1 Axes>"
      ]
     },
     "metadata": {},
     "output_type": "display_data"
    }
   ],
   "source": [
    "plt.plot(cpx_cpn['Mgno_Cpx'], CraterLake_Cpx['P_Wang21_eq1'], 'or')"
   ]
  },
  {
   "cell_type": "code",
   "execution_count": 15,
   "id": "96181bc8-4043-4c25-b54d-62949676266d",
   "metadata": {},
   "outputs": [
    {
     "data": {
      "text/html": [
       "<div>\n",
       "<style scoped>\n",
       "    .dataframe tbody tr th:only-of-type {\n",
       "        vertical-align: middle;\n",
       "    }\n",
       "\n",
       "    .dataframe tbody tr th {\n",
       "        vertical-align: top;\n",
       "    }\n",
       "\n",
       "    .dataframe thead th {\n",
       "        text-align: right;\n",
       "    }\n",
       "</style>\n",
       "<table border=\"1\" class=\"dataframe\">\n",
       "  <thead>\n",
       "    <tr style=\"text-align: right;\">\n",
       "      <th></th>\n",
       "      <th>P_Wang21_eq1</th>\n",
       "      <th>T_Wang21_eq2</th>\n",
       "      <th>T_Jorgenson22</th>\n",
       "      <th>P_Jorgenson22</th>\n",
       "      <th>T_Petrelli20</th>\n",
       "      <th>T_Petrelli21_H2O</th>\n",
       "      <th>P_Petrelli21_H2O</th>\n",
       "      <th>T_Put_Teq32d_Peq32a</th>\n",
       "      <th>T_Put_Teq32d_Peq32b</th>\n",
       "      <th>P_Petrelli20</th>\n",
       "      <th>...</th>\n",
       "      <th>SampleID</th>\n",
       "      <th>Total</th>\n",
       "      <th>NiO</th>\n",
       "      <th>Stage</th>\n",
       "      <th>test_total</th>\n",
       "      <th>Unnamed: 16</th>\n",
       "      <th>Phase</th>\n",
       "      <th>Preferred_P</th>\n",
       "      <th>Preferred_P2</th>\n",
       "      <th>Model</th>\n",
       "    </tr>\n",
       "  </thead>\n",
       "  <tbody>\n",
       "    <tr>\n",
       "      <th>0</th>\n",
       "      <td>1.252668</td>\n",
       "      <td>1385.668381</td>\n",
       "      <td>1309.214677</td>\n",
       "      <td>0.804102</td>\n",
       "      <td>1297.474444</td>\n",
       "      <td>1350.441111</td>\n",
       "      <td>0.782291</td>\n",
       "      <td>1412.240204</td>\n",
       "      <td>1423.078168</td>\n",
       "      <td>0.928709</td>\n",
       "      <td>...</td>\n",
       "      <td>NaN</td>\n",
       "      <td>NaN</td>\n",
       "      <td>NaN</td>\n",
       "      <td>NaN</td>\n",
       "      <td>NaN</td>\n",
       "      <td>NaN</td>\n",
       "      <td>Cpx</td>\n",
       "      <td>1.252668</td>\n",
       "      <td>0.804102</td>\n",
       "      <td>Wang</td>\n",
       "    </tr>\n",
       "    <tr>\n",
       "      <th>1</th>\n",
       "      <td>1.649548</td>\n",
       "      <td>1393.584976</td>\n",
       "      <td>1322.841542</td>\n",
       "      <td>0.911194</td>\n",
       "      <td>1275.094444</td>\n",
       "      <td>1347.505556</td>\n",
       "      <td>0.957044</td>\n",
       "      <td>1412.221882</td>\n",
       "      <td>1429.404233</td>\n",
       "      <td>1.391891</td>\n",
       "      <td>...</td>\n",
       "      <td>NaN</td>\n",
       "      <td>NaN</td>\n",
       "      <td>NaN</td>\n",
       "      <td>NaN</td>\n",
       "      <td>NaN</td>\n",
       "      <td>NaN</td>\n",
       "      <td>Cpx</td>\n",
       "      <td>1.649548</td>\n",
       "      <td>0.911194</td>\n",
       "      <td>Wang</td>\n",
       "    </tr>\n",
       "    <tr>\n",
       "      <th>2</th>\n",
       "      <td>1.233271</td>\n",
       "      <td>1391.180584</td>\n",
       "      <td>1320.140050</td>\n",
       "      <td>0.861975</td>\n",
       "      <td>1295.645556</td>\n",
       "      <td>1346.338889</td>\n",
       "      <td>1.213500</td>\n",
       "      <td>1408.435603</td>\n",
       "      <td>1423.020055</td>\n",
       "      <td>1.349667</td>\n",
       "      <td>...</td>\n",
       "      <td>NaN</td>\n",
       "      <td>NaN</td>\n",
       "      <td>NaN</td>\n",
       "      <td>NaN</td>\n",
       "      <td>NaN</td>\n",
       "      <td>NaN</td>\n",
       "      <td>Cpx</td>\n",
       "      <td>1.233271</td>\n",
       "      <td>0.861975</td>\n",
       "      <td>Wang</td>\n",
       "    </tr>\n",
       "    <tr>\n",
       "      <th>3</th>\n",
       "      <td>1.055356</td>\n",
       "      <td>1390.725994</td>\n",
       "      <td>1306.349005</td>\n",
       "      <td>0.929769</td>\n",
       "      <td>1275.743333</td>\n",
       "      <td>1347.338889</td>\n",
       "      <td>1.174362</td>\n",
       "      <td>1406.937766</td>\n",
       "      <td>1420.153549</td>\n",
       "      <td>1.742933</td>\n",
       "      <td>...</td>\n",
       "      <td>NaN</td>\n",
       "      <td>NaN</td>\n",
       "      <td>NaN</td>\n",
       "      <td>NaN</td>\n",
       "      <td>NaN</td>\n",
       "      <td>NaN</td>\n",
       "      <td>Cpx</td>\n",
       "      <td>1.055356</td>\n",
       "      <td>0.929769</td>\n",
       "      <td>Wang</td>\n",
       "    </tr>\n",
       "    <tr>\n",
       "      <th>4</th>\n",
       "      <td>0.546042</td>\n",
       "      <td>1387.224210</td>\n",
       "      <td>1304.005721</td>\n",
       "      <td>1.368393</td>\n",
       "      <td>1310.825556</td>\n",
       "      <td>1356.037778</td>\n",
       "      <td>1.706631</td>\n",
       "      <td>1404.370896</td>\n",
       "      <td>1409.586320</td>\n",
       "      <td>1.713789</td>\n",
       "      <td>...</td>\n",
       "      <td>NaN</td>\n",
       "      <td>NaN</td>\n",
       "      <td>NaN</td>\n",
       "      <td>NaN</td>\n",
       "      <td>NaN</td>\n",
       "      <td>NaN</td>\n",
       "      <td>Cpx</td>\n",
       "      <td>0.546042</td>\n",
       "      <td>1.368393</td>\n",
       "      <td>Wang</td>\n",
       "    </tr>\n",
       "    <tr>\n",
       "      <th>...</th>\n",
       "      <td>...</td>\n",
       "      <td>...</td>\n",
       "      <td>...</td>\n",
       "      <td>...</td>\n",
       "      <td>...</td>\n",
       "      <td>...</td>\n",
       "      <td>...</td>\n",
       "      <td>...</td>\n",
       "      <td>...</td>\n",
       "      <td>...</td>\n",
       "      <td>...</td>\n",
       "      <td>...</td>\n",
       "      <td>...</td>\n",
       "      <td>...</td>\n",
       "      <td>...</td>\n",
       "      <td>...</td>\n",
       "      <td>...</td>\n",
       "      <td>...</td>\n",
       "      <td>...</td>\n",
       "      <td>...</td>\n",
       "      <td>...</td>\n",
       "    </tr>\n",
       "    <tr>\n",
       "      <th>328</th>\n",
       "      <td>-2.077082</td>\n",
       "      <td>1376.051595</td>\n",
       "      <td>1307.941045</td>\n",
       "      <td>1.084816</td>\n",
       "      <td>1274.412222</td>\n",
       "      <td>1349.065556</td>\n",
       "      <td>1.735845</td>\n",
       "      <td>1351.513836</td>\n",
       "      <td>1349.392955</td>\n",
       "      <td>2.045471</td>\n",
       "      <td>...</td>\n",
       "      <td>NaN</td>\n",
       "      <td>NaN</td>\n",
       "      <td>NaN</td>\n",
       "      <td>NaN</td>\n",
       "      <td>NaN</td>\n",
       "      <td>NaN</td>\n",
       "      <td>Cpx</td>\n",
       "      <td>1.084816</td>\n",
       "      <td>1.084816</td>\n",
       "      <td>Jorgenson</td>\n",
       "    </tr>\n",
       "    <tr>\n",
       "      <th>329</th>\n",
       "      <td>-1.755523</td>\n",
       "      <td>1386.975456</td>\n",
       "      <td>1314.473383</td>\n",
       "      <td>1.322147</td>\n",
       "      <td>1280.816667</td>\n",
       "      <td>1358.798889</td>\n",
       "      <td>2.014507</td>\n",
       "      <td>1372.575312</td>\n",
       "      <td>1371.421703</td>\n",
       "      <td>2.246282</td>\n",
       "      <td>...</td>\n",
       "      <td>NaN</td>\n",
       "      <td>NaN</td>\n",
       "      <td>NaN</td>\n",
       "      <td>NaN</td>\n",
       "      <td>NaN</td>\n",
       "      <td>NaN</td>\n",
       "      <td>Cpx</td>\n",
       "      <td>1.322147</td>\n",
       "      <td>1.322147</td>\n",
       "      <td>Jorgenson</td>\n",
       "    </tr>\n",
       "    <tr>\n",
       "      <th>330</th>\n",
       "      <td>-0.653637</td>\n",
       "      <td>1381.506514</td>\n",
       "      <td>1330.224627</td>\n",
       "      <td>1.275488</td>\n",
       "      <td>1280.354444</td>\n",
       "      <td>1359.754444</td>\n",
       "      <td>1.313547</td>\n",
       "      <td>1395.355757</td>\n",
       "      <td>1397.338542</td>\n",
       "      <td>1.763360</td>\n",
       "      <td>...</td>\n",
       "      <td>NaN</td>\n",
       "      <td>NaN</td>\n",
       "      <td>NaN</td>\n",
       "      <td>NaN</td>\n",
       "      <td>NaN</td>\n",
       "      <td>NaN</td>\n",
       "      <td>Cpx</td>\n",
       "      <td>1.275488</td>\n",
       "      <td>1.275488</td>\n",
       "      <td>Jorgenson</td>\n",
       "    </tr>\n",
       "    <tr>\n",
       "      <th>331</th>\n",
       "      <td>-1.908139</td>\n",
       "      <td>1381.200246</td>\n",
       "      <td>1308.306716</td>\n",
       "      <td>1.056649</td>\n",
       "      <td>1273.238889</td>\n",
       "      <td>1353.283333</td>\n",
       "      <td>1.743038</td>\n",
       "      <td>1371.715620</td>\n",
       "      <td>1372.860109</td>\n",
       "      <td>2.131673</td>\n",
       "      <td>...</td>\n",
       "      <td>NaN</td>\n",
       "      <td>NaN</td>\n",
       "      <td>NaN</td>\n",
       "      <td>NaN</td>\n",
       "      <td>NaN</td>\n",
       "      <td>NaN</td>\n",
       "      <td>Cpx</td>\n",
       "      <td>1.056649</td>\n",
       "      <td>1.056649</td>\n",
       "      <td>Jorgenson</td>\n",
       "    </tr>\n",
       "    <tr>\n",
       "      <th>332</th>\n",
       "      <td>-1.075896</td>\n",
       "      <td>1385.733558</td>\n",
       "      <td>1298.120149</td>\n",
       "      <td>1.366343</td>\n",
       "      <td>1275.114444</td>\n",
       "      <td>1351.158889</td>\n",
       "      <td>2.383749</td>\n",
       "      <td>1381.200319</td>\n",
       "      <td>1378.420737</td>\n",
       "      <td>2.434991</td>\n",
       "      <td>...</td>\n",
       "      <td>NaN</td>\n",
       "      <td>NaN</td>\n",
       "      <td>NaN</td>\n",
       "      <td>NaN</td>\n",
       "      <td>NaN</td>\n",
       "      <td>NaN</td>\n",
       "      <td>Cpx</td>\n",
       "      <td>1.366343</td>\n",
       "      <td>1.366343</td>\n",
       "      <td>Jorgenson</td>\n",
       "    </tr>\n",
       "  </tbody>\n",
       "</table>\n",
       "<p>666 rows × 46 columns</p>\n",
       "</div>"
      ],
      "text/plain": [
       "     P_Wang21_eq1  T_Wang21_eq2  T_Jorgenson22  P_Jorgenson22  T_Petrelli20  \\\n",
       "0        1.252668   1385.668381    1309.214677       0.804102   1297.474444   \n",
       "1        1.649548   1393.584976    1322.841542       0.911194   1275.094444   \n",
       "2        1.233271   1391.180584    1320.140050       0.861975   1295.645556   \n",
       "3        1.055356   1390.725994    1306.349005       0.929769   1275.743333   \n",
       "4        0.546042   1387.224210    1304.005721       1.368393   1310.825556   \n",
       "..            ...           ...            ...            ...           ...   \n",
       "328     -2.077082   1376.051595    1307.941045       1.084816   1274.412222   \n",
       "329     -1.755523   1386.975456    1314.473383       1.322147   1280.816667   \n",
       "330     -0.653637   1381.506514    1330.224627       1.275488   1280.354444   \n",
       "331     -1.908139   1381.200246    1308.306716       1.056649   1273.238889   \n",
       "332     -1.075896   1385.733558    1298.120149       1.366343   1275.114444   \n",
       "\n",
       "     T_Petrelli21_H2O  P_Petrelli21_H2O  T_Put_Teq32d_Peq32a  \\\n",
       "0         1350.441111          0.782291          1412.240204   \n",
       "1         1347.505556          0.957044          1412.221882   \n",
       "2         1346.338889          1.213500          1408.435603   \n",
       "3         1347.338889          1.174362          1406.937766   \n",
       "4         1356.037778          1.706631          1404.370896   \n",
       "..                ...               ...                  ...   \n",
       "328       1349.065556          1.735845          1351.513836   \n",
       "329       1358.798889          2.014507          1372.575312   \n",
       "330       1359.754444          1.313547          1395.355757   \n",
       "331       1353.283333          1.743038          1371.715620   \n",
       "332       1351.158889          2.383749          1381.200319   \n",
       "\n",
       "     T_Put_Teq32d_Peq32b  P_Petrelli20  ...  SampleID    Total    NiO Stage  \\\n",
       "0            1423.078168      0.928709  ...       NaN        NaN  NaN   NaN   \n",
       "1            1429.404233      1.391891  ...       NaN        NaN  NaN   NaN   \n",
       "2            1423.020055      1.349667  ...       NaN        NaN  NaN   NaN   \n",
       "3            1420.153549      1.742933  ...       NaN        NaN  NaN   NaN   \n",
       "4            1409.586320      1.713789  ...       NaN        NaN  NaN   NaN   \n",
       "..                   ...           ...  ...       ...        ...  ...   ...   \n",
       "328          1349.392955      2.045471  ...       NaN        NaN  NaN   NaN   \n",
       "329          1371.421703      2.246282  ...       NaN        NaN  NaN   NaN   \n",
       "330          1397.338542      1.763360  ...       NaN        NaN  NaN   NaN   \n",
       "331          1372.860109      2.131673  ...       NaN        NaN  NaN   NaN   \n",
       "332          1378.420737      2.434991  ...       NaN        NaN  NaN   NaN   \n",
       "\n",
       "    test_total Unnamed: 16 Phase  Preferred_P Preferred_P2      Model  \n",
       "0          NaN         NaN   Cpx     1.252668     0.804102       Wang  \n",
       "1          NaN         NaN   Cpx     1.649548     0.911194       Wang  \n",
       "2          NaN         NaN   Cpx     1.233271     0.861975       Wang  \n",
       "3          NaN         NaN   Cpx     1.055356     0.929769       Wang  \n",
       "4          NaN         NaN   Cpx     0.546042     1.368393       Wang  \n",
       "..         ...         ...   ...          ...          ...        ...  \n",
       "328        NaN         NaN   Cpx     1.084816     1.084816  Jorgenson  \n",
       "329        NaN         NaN   Cpx     1.322147     1.322147  Jorgenson  \n",
       "330        NaN         NaN   Cpx     1.275488     1.275488  Jorgenson  \n",
       "331        NaN         NaN   Cpx     1.056649     1.056649  Jorgenson  \n",
       "332        NaN         NaN   Cpx     1.366343     1.366343  Jorgenson  \n",
       "\n",
       "[666 rows x 46 columns]"
      ]
     },
     "execution_count": 15,
     "metadata": {},
     "output_type": "execute_result"
    }
   ],
   "source": [
    "Combo_Cpx"
   ]
  },
  {
   "cell_type": "markdown",
   "id": "85ce27d4-d8bf-4548-b4a7-d87ba45c4446",
   "metadata": {},
   "source": [
    "## Amphibole data"
   ]
  },
  {
   "cell_type": "code",
   "execution_count": 26,
   "id": "8c6f1760-b8eb-412f-93dc-c01f420dbb01",
   "metadata": {},
   "outputs": [
    {
     "name": "stderr",
     "output_type": "stream",
     "text": [
      "C:\\Users\\penny\\AppData\\Local\\Temp\\ipykernel_44276\\1310255835.py:4: SettingWithCopyWarning: \n",
      "A value is trying to be set on a copy of a slice from a DataFrame.\n",
      "Try using .loc[row_indexer,col_indexer] = value instead\n",
      "\n",
      "See the caveats in the documentation: https://pandas.pydata.org/pandas-docs/stable/user_guide/indexing.html#returning-a-view-versus-a-copy\n",
      "  CraterLake_Amp['Sample_ID_Amp']=\"CraterLake\"\n",
      "C:\\Users\\penny\\AppData\\Local\\Temp\\ipykernel_44276\\1310255835.py:9: SettingWithCopyWarning: \n",
      "A value is trying to be set on a copy of a slice from a DataFrame.\n",
      "Try using .loc[row_indexer,col_indexer] = value instead\n",
      "\n",
      "See the caveats in the documentation: https://pandas.pydata.org/pandas-docs/stable/user_guide/indexing.html#returning-a-view-versus-a-copy\n",
      "  CraterLake_Amp_Filt['Sample_ID_Amp']=\"CraterLake\"\n",
      "C:\\Users\\penny\\AppData\\Local\\Temp\\ipykernel_44276\\1310255835.py:10: SettingWithCopyWarning: \n",
      "A value is trying to be set on a copy of a slice from a DataFrame.\n",
      "Try using .loc[row_indexer,col_indexer] = value instead\n",
      "\n",
      "See the caveats in the documentation: https://pandas.pydata.org/pandas-docs/stable/user_guide/indexing.html#returning-a-view-versus-a-copy\n",
      "  CraterLake_Amp['Class']='Unfilt'\n",
      "C:\\Users\\penny\\AppData\\Local\\Temp\\ipykernel_44276\\1310255835.py:11: SettingWithCopyWarning: \n",
      "A value is trying to be set on a copy of a slice from a DataFrame.\n",
      "Try using .loc[row_indexer,col_indexer] = value instead\n",
      "\n",
      "See the caveats in the documentation: https://pandas.pydata.org/pandas-docs/stable/user_guide/indexing.html#returning-a-view-versus-a-copy\n",
      "  CraterLake_Amp_Filt['Class']='filt'\n"
     ]
    },
    {
     "name": "stdout",
     "output_type": "stream",
     "text": [
      "233\n",
      "229\n"
     ]
    },
    {
     "data": {
      "image/png": "[encoded data removed]",
      "text/plain": [
       "<Figure size 200x393 with 2 Axes>"
      ]
     },
     "metadata": {},
     "output_type": "display_data"
    }
   ],
   "source": [
    "\n",
    "with open(r'../Combo_Amp.pkl', 'rb') as f:\n",
    "            All_Amp=load(f)\n",
    "CraterLake_Amp=All_Amp.loc[All_Amp['Volcano']==\"CraterLake\"]\n",
    "CraterLake_Amp['Sample_ID_Amp']=\"CraterLake\"\n",
    "\n",
    "with open(r'../Combo_Amp_Filt.pkl', 'rb') as f:\n",
    "            All_Amp_Filt=load(f)\n",
    "CraterLake_Amp_Filt=All_Amp_Filt.loc[All_Amp_Filt['Volcano']==\"CraterLake\"]\n",
    "CraterLake_Amp_Filt['Sample_ID_Amp']=\"CraterLake\"\n",
    "CraterLake_Amp['Class']='Unfilt'\n",
    "CraterLake_Amp_Filt['Class']='filt'\n",
    "\n",
    "Combo_Amp=pd.concat([CraterLake_Amp_Filt, CraterLake_Amp], axis=0)\n",
    "\n",
    "print(sum(CraterLake_Amp['P_kbar_calc']>-10))\n",
    "print(sum(CraterLake_Amp_Filt['P_kbar_calc']>-10))\n",
    "\n",
    "import seaborn as sns\n",
    "fig, (ax1) = plt.subplots(1, 1, figsize=(2,3.93), sharey=True)\n",
    "ax2 = ax1.twinx()\n",
    "\n",
    "\n",
    "# ax = sns.violinplot(y=CraterLake_Amp['P_Ridolfi21'],\n",
    "#                 inner=None, cut=0, ax=ax1, color=\"lightgreen\", linewidth=0.5)\n",
    "sns.violinplot(x=\"Volcano\", y=\"P_Ridolfi21\",  cut=0,  inner=None, hue=\"Class\",\n",
    "            data=Combo_Amp, split=True, ax=ax1, width=0.9,  palette=['lightgreen', 'grey'],\n",
    "               stick=True)\n",
    "\n",
    "\n",
    "ax1.plot(-0.1+0*CraterLake_Amp_Filt['P_Ridolfi21'],\n",
    "  CraterLake_Amp_Filt['P_Ridolfi21'],\n",
    "         'x', mec='grey')\n",
    "ax1.plot(+0.1+0*CraterLake_Amp['P_Ridolfi21'],\n",
    "  CraterLake_Amp['P_Ridolfi21'],\n",
    "         'x', mec='black')\n",
    "\n",
    "ax1.plot(-0.1,\n",
    "  np.nanmedian(CraterLake_Amp_Filt['P_Ridolfi21']),\n",
    "         '*k', mfc='w', ms=20)\n",
    "\n",
    "ax1.plot(+0.1,\n",
    "  np.nanmedian(CraterLake_Amp['P_Ridolfi21']),\n",
    "         '*k', mfc='w', ms=20)\n",
    "ax1.get_legend().remove()\n",
    "ax1.plot([-1, 5], [0, 0], '-k', lw=0.5)\n",
    "ax1.set_ylim([P_axis_max, P_axis_min])\n",
    "ax2.set_ylim([D_axis_max, D_axis_min])\n",
    "ax1.set_xlim([-0.6, 0.5])\n",
    "ax1.set_xlabel(None)\n",
    "ax1.set_ylabel(None)\n",
    "\n",
    "ax1.tick_params(direction=\"in\")\n",
    "ax2.tick_params(direction=\"in\")\n",
    "ax2.set_yticks([])\n",
    "ax1.set_xticks([])\n",
    "ax1.grid(color = 'k', linestyle = '--', axis='y',linewidth = 1, alpha = 0.1, zorder=0)\n",
    "ax1.errorbar(-0.5, 4, xerr=0, yerr=2.7,  ecolor='black', elinewidth=1.5, ms=0, capsize=4, mec='k')\n",
    "\n",
    "\n",
    "fig.savefig('CraterLake_Amp.png', dpi=200)"
   ]
  },
  {
   "cell_type": "code",
   "execution_count": 17,
   "id": "ee5851e4-f169-43d9-9d35-0823ac104029",
   "metadata": {},
   "outputs": [
    {
     "data": {
      "text/plain": [
       "2.9665490198043694"
      ]
     },
     "execution_count": 17,
     "metadata": {},
     "output_type": "execute_result"
    }
   ],
   "source": [
    "np.nanmedian(CraterLake_Amp['P_Ridolfi21'])"
   ]
  },
  {
   "cell_type": "code",
   "execution_count": 18,
   "id": "96cbf03c-1e77-49d0-8795-b08a0888337a",
   "metadata": {},
   "outputs": [
    {
     "data": {
      "text/plain": [
       "2.9794234916765547"
      ]
     },
     "execution_count": 18,
     "metadata": {},
     "output_type": "execute_result"
    }
   ],
   "source": [
    "np.nanmedian(CraterLake_Amp_Filt['P_Ridolfi21'])"
   ]
  },
  {
   "cell_type": "code",
   "execution_count": 19,
   "id": "42261574-71bf-4d23-b745-e0f6383587d5",
   "metadata": {},
   "outputs": [
    {
     "data": {
      "text/plain": [
       "245"
      ]
     },
     "execution_count": 19,
     "metadata": {},
     "output_type": "execute_result"
    }
   ],
   "source": [
    "len(CraterLake_Amp)"
   ]
  },
  {
   "cell_type": "code",
   "execution_count": 20,
   "id": "09656e44-ac7f-4b62-af05-2c20bbb409a9",
   "metadata": {},
   "outputs": [],
   "source": [
    "## Load in LP data"
   ]
  },
  {
   "cell_type": "code",
   "execution_count": 21,
   "id": "41821936-e344-4fae-9a12-f803d537e6b2",
   "metadata": {},
   "outputs": [
    {
     "ename": "FileNotFoundError",
     "evalue": "[Errno 2] No such file or directory: 'C:\\\\Users\\\\penny\\\\OneDrive - Oregon State University\\\\Postdoc\\\\Compilations\\\\Geophysics_Jan2021.xlsx'",
     "output_type": "error",
     "traceback": [
      "\u001b[1;31m---------------------------------------------------------------------------\u001b[0m",
      "\u001b[1;31mFileNotFoundError\u001b[0m                         Traceback (most recent call last)",
      "Cell \u001b[1;32mIn[21], line 1\u001b[0m\n\u001b[1;32m----> 1\u001b[0m LPs\u001b[39m=\u001b[39mpd\u001b[39m.\u001b[39;49mread_excel(\u001b[39mr\u001b[39;49m\u001b[39m'\u001b[39;49m\u001b[39mC:\u001b[39;49m\u001b[39m\\\u001b[39;49m\u001b[39mUsers\u001b[39;49m\u001b[39m\\\u001b[39;49m\u001b[39mpenny\u001b[39;49m\u001b[39m\\\u001b[39;49m\u001b[39mOneDrive - Oregon State University\u001b[39;49m\u001b[39m\\\u001b[39;49m\u001b[39mPostdoc\u001b[39;49m\u001b[39m\\\u001b[39;49m\u001b[39mCompilations\u001b[39;49m\u001b[39m\\\u001b[39;49m\u001b[39mGeophysics_Jan2021.xlsx\u001b[39;49m\u001b[39m'\u001b[39;49m,\n\u001b[0;32m      2\u001b[0m                   sheet_name\u001b[39m=\u001b[39;49m\u001b[39m\"\u001b[39;49m\u001b[39mLPEarthquakes\u001b[39;49m\u001b[39m\"\u001b[39;49m)\n\u001b[0;32m      3\u001b[0m LPs_Crater\u001b[39m=\u001b[39mLPs\u001b[39m.\u001b[39mloc[LPs[\u001b[39m'\u001b[39m\u001b[39mVolcano\u001b[39m\u001b[39m'\u001b[39m]\u001b[39m==\u001b[39m\u001b[39m\"\u001b[39m\u001b[39mCrater Lake\u001b[39m\u001b[39m\"\u001b[39m]\n\u001b[0;32m      4\u001b[0m LPs_Crater\n",
      "File \u001b[1;32mc:\\Users\\penny\\anaconda3\\lib\\site-packages\\pandas\\util\\_decorators.py:211\u001b[0m, in \u001b[0;36mdeprecate_kwarg.<locals>._deprecate_kwarg.<locals>.wrapper\u001b[1;34m(*args, **kwargs)\u001b[0m\n\u001b[0;32m    209\u001b[0m     \u001b[39melse\u001b[39;00m:\n\u001b[0;32m    210\u001b[0m         kwargs[new_arg_name] \u001b[39m=\u001b[39m new_arg_value\n\u001b[1;32m--> 211\u001b[0m \u001b[39mreturn\u001b[39;00m func(\u001b[39m*\u001b[39margs, \u001b[39m*\u001b[39m\u001b[39m*\u001b[39mkwargs)\n",
      "File \u001b[1;32mc:\\Users\\penny\\anaconda3\\lib\\site-packages\\pandas\\util\\_decorators.py:331\u001b[0m, in \u001b[0;36mdeprecate_nonkeyword_arguments.<locals>.decorate.<locals>.wrapper\u001b[1;34m(*args, **kwargs)\u001b[0m\n\u001b[0;32m    325\u001b[0m \u001b[39mif\u001b[39;00m \u001b[39mlen\u001b[39m(args) \u001b[39m>\u001b[39m num_allow_args:\n\u001b[0;32m    326\u001b[0m     warnings\u001b[39m.\u001b[39mwarn(\n\u001b[0;32m    327\u001b[0m         msg\u001b[39m.\u001b[39mformat(arguments\u001b[39m=\u001b[39m_format_argument_list(allow_args)),\n\u001b[0;32m    328\u001b[0m         \u001b[39mFutureWarning\u001b[39;00m,\n\u001b[0;32m    329\u001b[0m         stacklevel\u001b[39m=\u001b[39mfind_stack_level(),\n\u001b[0;32m    330\u001b[0m     )\n\u001b[1;32m--> 331\u001b[0m \u001b[39mreturn\u001b[39;00m func(\u001b[39m*\u001b[39margs, \u001b[39m*\u001b[39m\u001b[39m*\u001b[39mkwargs)\n",
      "File \u001b[1;32mc:\\Users\\penny\\anaconda3\\lib\\site-packages\\pandas\\io\\excel\\_base.py:482\u001b[0m, in \u001b[0;36mread_excel\u001b[1;34m(io, sheet_name, header, names, index_col, usecols, squeeze, dtype, engine, converters, true_values, false_values, skiprows, nrows, na_values, keep_default_na, na_filter, verbose, parse_dates, date_parser, thousands, decimal, comment, skipfooter, convert_float, mangle_dupe_cols, storage_options)\u001b[0m\n\u001b[0;32m    480\u001b[0m \u001b[39mif\u001b[39;00m \u001b[39mnot\u001b[39;00m \u001b[39misinstance\u001b[39m(io, ExcelFile):\n\u001b[0;32m    481\u001b[0m     should_close \u001b[39m=\u001b[39m \u001b[39mTrue\u001b[39;00m\n\u001b[1;32m--> 482\u001b[0m     io \u001b[39m=\u001b[39m ExcelFile(io, storage_options\u001b[39m=\u001b[39;49mstorage_options, engine\u001b[39m=\u001b[39;49mengine)\n\u001b[0;32m    483\u001b[0m \u001b[39melif\u001b[39;00m engine \u001b[39mand\u001b[39;00m engine \u001b[39m!=\u001b[39m io\u001b[39m.\u001b[39mengine:\n\u001b[0;32m    484\u001b[0m     \u001b[39mraise\u001b[39;00m \u001b[39mValueError\u001b[39;00m(\n\u001b[0;32m    485\u001b[0m         \u001b[39m\"\u001b[39m\u001b[39mEngine should not be specified when passing \u001b[39m\u001b[39m\"\u001b[39m\n\u001b[0;32m    486\u001b[0m         \u001b[39m\"\u001b[39m\u001b[39man ExcelFile - ExcelFile already has the engine set\u001b[39m\u001b[39m\"\u001b[39m\n\u001b[0;32m    487\u001b[0m     )\n",
      "File \u001b[1;32mc:\\Users\\penny\\anaconda3\\lib\\site-packages\\pandas\\io\\excel\\_base.py:1652\u001b[0m, in \u001b[0;36mExcelFile.__init__\u001b[1;34m(self, path_or_buffer, engine, storage_options)\u001b[0m\n\u001b[0;32m   1650\u001b[0m     ext \u001b[39m=\u001b[39m \u001b[39m\"\u001b[39m\u001b[39mxls\u001b[39m\u001b[39m\"\u001b[39m\n\u001b[0;32m   1651\u001b[0m \u001b[39melse\u001b[39;00m:\n\u001b[1;32m-> 1652\u001b[0m     ext \u001b[39m=\u001b[39m inspect_excel_format(\n\u001b[0;32m   1653\u001b[0m         content_or_path\u001b[39m=\u001b[39;49mpath_or_buffer, storage_options\u001b[39m=\u001b[39;49mstorage_options\n\u001b[0;32m   1654\u001b[0m     )\n\u001b[0;32m   1655\u001b[0m     \u001b[39mif\u001b[39;00m ext \u001b[39mis\u001b[39;00m \u001b[39mNone\u001b[39;00m:\n\u001b[0;32m   1656\u001b[0m         \u001b[39mraise\u001b[39;00m \u001b[39mValueError\u001b[39;00m(\n\u001b[0;32m   1657\u001b[0m             \u001b[39m\"\u001b[39m\u001b[39mExcel file format cannot be determined, you must specify \u001b[39m\u001b[39m\"\u001b[39m\n\u001b[0;32m   1658\u001b[0m             \u001b[39m\"\u001b[39m\u001b[39man engine manually.\u001b[39m\u001b[39m\"\u001b[39m\n\u001b[0;32m   1659\u001b[0m         )\n",
      "File \u001b[1;32mc:\\Users\\penny\\anaconda3\\lib\\site-packages\\pandas\\io\\excel\\_base.py:1525\u001b[0m, in \u001b[0;36minspect_excel_format\u001b[1;34m(content_or_path, storage_options)\u001b[0m\n\u001b[0;32m   1522\u001b[0m \u001b[39mif\u001b[39;00m \u001b[39misinstance\u001b[39m(content_or_path, \u001b[39mbytes\u001b[39m):\n\u001b[0;32m   1523\u001b[0m     content_or_path \u001b[39m=\u001b[39m BytesIO(content_or_path)\n\u001b[1;32m-> 1525\u001b[0m \u001b[39mwith\u001b[39;00m get_handle(\n\u001b[0;32m   1526\u001b[0m     content_or_path, \u001b[39m\"\u001b[39;49m\u001b[39mrb\u001b[39;49m\u001b[39m\"\u001b[39;49m, storage_options\u001b[39m=\u001b[39;49mstorage_options, is_text\u001b[39m=\u001b[39;49m\u001b[39mFalse\u001b[39;49;00m\n\u001b[0;32m   1527\u001b[0m ) \u001b[39mas\u001b[39;00m handle:\n\u001b[0;32m   1528\u001b[0m     stream \u001b[39m=\u001b[39m handle\u001b[39m.\u001b[39mhandle\n\u001b[0;32m   1529\u001b[0m     stream\u001b[39m.\u001b[39mseek(\u001b[39m0\u001b[39m)\n",
      "File \u001b[1;32mc:\\Users\\penny\\anaconda3\\lib\\site-packages\\pandas\\io\\common.py:865\u001b[0m, in \u001b[0;36mget_handle\u001b[1;34m(path_or_buf, mode, encoding, compression, memory_map, is_text, errors, storage_options)\u001b[0m\n\u001b[0;32m    856\u001b[0m         handle \u001b[39m=\u001b[39m \u001b[39mopen\u001b[39m(\n\u001b[0;32m    857\u001b[0m             handle,\n\u001b[0;32m    858\u001b[0m             ioargs\u001b[39m.\u001b[39mmode,\n\u001b[1;32m   (...)\u001b[0m\n\u001b[0;32m    861\u001b[0m             newline\u001b[39m=\u001b[39m\u001b[39m\"\u001b[39m\u001b[39m\"\u001b[39m,\n\u001b[0;32m    862\u001b[0m         )\n\u001b[0;32m    863\u001b[0m     \u001b[39melse\u001b[39;00m:\n\u001b[0;32m    864\u001b[0m         \u001b[39m# Binary mode\u001b[39;00m\n\u001b[1;32m--> 865\u001b[0m         handle \u001b[39m=\u001b[39m \u001b[39mopen\u001b[39;49m(handle, ioargs\u001b[39m.\u001b[39;49mmode)\n\u001b[0;32m    866\u001b[0m     handles\u001b[39m.\u001b[39mappend(handle)\n\u001b[0;32m    868\u001b[0m \u001b[39m# Convert BytesIO or file objects passed with an encoding\u001b[39;00m\n",
      "\u001b[1;31mFileNotFoundError\u001b[0m: [Errno 2] No such file or directory: 'C:\\\\Users\\\\penny\\\\OneDrive - Oregon State University\\\\Postdoc\\\\Compilations\\\\Geophysics_Jan2021.xlsx'"
     ]
    }
   ],
   "source": [
    "LPs=pd.read_excel(r'C:\\Users\\penny\\OneDrive - Oregon State University\\Postdoc\\Compilations\\Geophysics_Jan2021.xlsx',\n",
    "                  sheet_name=\"LPEarthquakes\")\n",
    "LPs_Crater=LPs.loc[LPs['Volcano']==\"Crater Lake\"]\n",
    "LPs_Crater"
   ]
  },
  {
   "cell_type": "markdown",
   "id": "6e45a011-023a-4bff-ad06-e481b53d30ba",
   "metadata": {},
   "source": [
    "## Raw template for geophysics and Exp Pet"
   ]
  },
  {
   "cell_type": "code",
   "execution_count": null,
   "id": "0c40be9e-ae71-4998-9ce7-52c8a0e2d835",
   "metadata": {},
   "outputs": [
    {
     "data": {
      "text/plain": [
       "245"
      ]
     },
     "execution_count": 6,
     "metadata": {},
     "output_type": "execute_result"
    }
   ],
   "source": [
    "len(Crater_Amp_Press_NoFilter)"
   ]
  }
 ],
 "metadata": {
  "kernelspec": {
   "display_name": "Python 3 (ipykernel)",
   "language": "python",
   "name": "python3"
  },
  "language_info": {
   "codemirror_mode": {
    "name": "ipython",
    "version": 3
   },
   "file_extension": ".py",
   "mimetype": "text/x-python",
   "name": "python",
   "nbconvert_exporter": "python",
   "pygments_lexer": "ipython3",
   "version": "3.9.17"
  }
 },
 "nbformat": 4,
 "nbformat_minor": 5
}
