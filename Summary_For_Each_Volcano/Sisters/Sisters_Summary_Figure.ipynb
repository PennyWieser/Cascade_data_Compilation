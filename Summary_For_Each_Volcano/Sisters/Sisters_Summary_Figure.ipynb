{
 "cells": [
  {
   "cell_type": "code",
   "execution_count": 1,
   "id": "f7fb73cf-9460-47b8-9bd0-bd453bb17f0d",
   "metadata": {},
   "outputs": [],
   "source": [
    "import numpy as np\n",
    "import pandas as pd\n",
    "import matplotlib.pyplot as plt\n",
    "import Thermobar as pt\n",
    "from pickle import load"
   ]
  },
  {
   "cell_type": "markdown",
   "id": "8521678a-72c4-48d0-9753-648355b12ab4",
   "metadata": {},
   "source": [
    "## First, lets load Cpx data"
   ]
  },
  {
   "cell_type": "code",
   "execution_count": 2,
   "id": "8453bb64-2b6f-40f8-a7c9-ac9dc2a2aab8",
   "metadata": {},
   "outputs": [
    {
     "name": "stderr",
     "output_type": "stream",
     "text": [
      "C:\\Users\\penny\\AppData\\Local\\Temp\\ipykernel_32684\\259473622.py:4: SettingWithCopyWarning: \n",
      "A value is trying to be set on a copy of a slice from a DataFrame.\n",
      "Try using .loc[row_indexer,col_indexer] = value instead\n",
      "\n",
      "See the caveats in the documentation: https://pandas.pydata.org/pandas-docs/stable/user_guide/indexing.html#returning-a-view-versus-a-copy\n",
      "  Sisters_Cpx['Sample_ID_Cpx']=\"Sisters\"\n"
     ]
    }
   ],
   "source": [
    "with open(r'../Combo_Cpx.pkl', 'rb') as f:\n",
    "            All_Cpx=load(f)\n",
    "Sisters_Cpx=All_Cpx.loc[(All_Cpx['Volcano']==\"North Sister\")| (All_Cpx['Volcano']==\"South Sister\")]\n",
    "Sisters_Cpx['Sample_ID_Cpx']=\"Sisters\""
   ]
  },
  {
   "cell_type": "code",
   "execution_count": 3,
   "id": "657b3d69-140f-4fdf-bdba-d2d8a11778c9",
   "metadata": {},
   "outputs": [
    {
     "data": {
      "text/plain": [
       "6"
      ]
     },
     "execution_count": 3,
     "metadata": {},
     "output_type": "execute_result"
    }
   ],
   "source": [
    "sum(Sisters_Cpx['Volcano']==\"North Sister\")"
   ]
  },
  {
   "cell_type": "code",
   "execution_count": 4,
   "id": "f31c07dc-9975-46e2-a82b-50c2713274a3",
   "metadata": {},
   "outputs": [
    {
     "data": {
      "text/plain": [
       "11"
      ]
     },
     "execution_count": 4,
     "metadata": {},
     "output_type": "execute_result"
    }
   ],
   "source": [
    "sum(Sisters_Cpx['Volcano']==\"South Sister\")"
   ]
  },
  {
   "cell_type": "markdown",
   "id": "79109bd2-298f-4ef9-8fed-438d36167630",
   "metadata": {},
   "source": [
    "## Splitting into Jorgenson and Wang"
   ]
  },
  {
   "cell_type": "code",
   "execution_count": 5,
   "id": "9cee4e09-c573-4fbc-bc74-da8c4942b71e",
   "metadata": {},
   "outputs": [],
   "source": [
    "WangCopy=Sisters_Cpx.copy()\n",
    "WangCopy['Preferred_P']=WangCopy['P_Wang21_eq1']\n",
    "#WangCopy.loc[(Sisters_Cpx['Volcano']==\"South Sister\"), 'Preferred_P']=np.nan\n",
    "\n",
    "WangCopy['Model']=\"Wang\"\n",
    "JorgensonCopy=Sisters_Cpx.copy()\n",
    "JorgensonCopy['Preferred_P']=JorgensonCopy['P_Jorgenson22']\n",
    "JorgensonCopy['Model']=\"Jorgenson\"\n",
    "\n",
    "Combo_Cpx=pd.concat([WangCopy, JorgensonCopy], axis=0)"
   ]
  },
  {
   "cell_type": "markdown",
   "id": "ce5301c4-2fc5-4ffa-bea5-c3f2a2a10aa5",
   "metadata": {},
   "source": [
    "## Choose Crustal density"
   ]
  },
  {
   "cell_type": "code",
   "execution_count": 6,
   "id": "5969034c-fad7-4f3b-99e7-6e549602329a",
   "metadata": {},
   "outputs": [],
   "source": [
    "rho=2700\n",
    "P_axis_min=-3\n",
    "P_axis_max=12\n",
    "D_axis_min=100000*P_axis_min/(9.8*rho)\n",
    "D_axis_max=100000*P_axis_max/(9.8*rho)\n"
   ]
  },
  {
   "cell_type": "code",
   "execution_count": 17,
   "id": "03aecb9b-4065-4d14-a4ce-d29b9a6cdd76",
   "metadata": {},
   "outputs": [
    {
     "data": {
      "image/png": "[encoded data removed]",
      "text/plain": [
       "<Figure size 300x400 with 2 Axes>"
      ]
     },
     "metadata": {},
     "output_type": "display_data"
    }
   ],
   "source": [
    "import seaborn as sns\n",
    "fig, (ax1) = plt.subplots(1, 1, figsize=(3,4), sharey=True)\n",
    "ax2 = ax1.twinx()\n",
    "\n",
    "volc_order=[\"North Sister\", \"South Sister\"]\n",
    "sns.violinplot(x=\"Volcano\", y=\"Preferred_P\",  cut=0,  inner=None, hue=\"Model\",\n",
    "            data=Combo_Cpx, split=True, ax=ax1, width=0.9, order=volc_order, stick=True)\n",
    "\n",
    "ax1.plot(-0.1+0*Combo_Cpx['Preferred_P'].loc[(Combo_Cpx['Model']==\"Wang\")\n",
    "                                        &(Combo_Cpx[\"Volcano\"]==\"North Sister\")],\n",
    "      Combo_Cpx['Preferred_P'].loc[(Combo_Cpx['Model']==\"Wang\")\n",
    "                                        &(Combo_Cpx[\"Volcano\"]==\"North Sister\")],  \n",
    "         'xb')\n",
    "\n",
    "ax1.plot(0.1+0*Combo_Cpx['Preferred_P'].loc[(Combo_Cpx['Model']==\"Jorgenson\")\n",
    "                                        &(Combo_Cpx[\"Volcano\"]==\"North Sister\")],\n",
    "      Combo_Cpx['Preferred_P'].loc[(Combo_Cpx['Model']==\"Jorgenson\")\n",
    "                                        &(Combo_Cpx[\"Volcano\"]==\"North Sister\")],  \n",
    "         'xr')\n",
    "\n",
    "ax1.plot(-0.1,\n",
    "      np.nanmedian(Combo_Cpx['Preferred_P'].loc[(Combo_Cpx['Model']==\"Wang\")\n",
    "                                        &(Combo_Cpx[\"Volcano\"]==\"North Sister\")]),  \n",
    "         '*k', mfc='w', ms=20)\n",
    "\n",
    "ax1.plot(0.1,\n",
    "      np.nanmedian(Combo_Cpx['Preferred_P'].loc[(Combo_Cpx['Model']==\"Jorgenson\")\n",
    "                                        &(Combo_Cpx[\"Volcano\"]==\"North Sister\")]),  \n",
    "         '*k', mfc='w', ms=20)\n",
    "\n",
    "ax1.plot(0.9+0*Combo_Cpx['Preferred_P'].loc[(Combo_Cpx['Model']==\"Wang\")\n",
    "                                        &(Combo_Cpx[\"Volcano\"]==\"South Sister\")],\n",
    "      Combo_Cpx['Preferred_P'].loc[(Combo_Cpx['Model']==\"Wang\")\n",
    "                                        &(Combo_Cpx[\"Volcano\"]==\"South Sister\")],  \n",
    "         'xb')\n",
    "\n",
    "ax1.plot(1.1+0*Combo_Cpx['Preferred_P'].loc[(Combo_Cpx['Model']==\"Jorgenson\")\n",
    "                                        &(Combo_Cpx[\"Volcano\"]==\"South Sister\")],\n",
    "      Combo_Cpx['Preferred_P'].loc[(Combo_Cpx['Model']==\"Jorgenson\")\n",
    "                                        &(Combo_Cpx[\"Volcano\"]==\"South Sister\")],  \n",
    "         'xr')\n",
    "\n",
    "ax1.plot(0.9,\n",
    "      np.nanmedian(Combo_Cpx['Preferred_P'].loc[(Combo_Cpx['Model']==\"Wang\")\n",
    "                                        &(Combo_Cpx[\"Volcano\"]==\"South Sister\")]),  \n",
    "         '*k', mfc='w', ms=20)\n",
    "\n",
    "ax1.plot(1.1,\n",
    "      np.nanmedian(Combo_Cpx['Preferred_P'].loc[(Combo_Cpx['Model']==\"Jorgenson\")\n",
    "                                        &(Combo_Cpx[\"Volcano\"]==\"South Sister\")]),  \n",
    "         '*k', mfc='w', ms=20)\n",
    "\n",
    "ax1.plot([-1, 5], [0, 0], '-k', lw=0.5)\n",
    "ax1.set_ylim([P_axis_max, P_axis_min])\n",
    "ax2.set_ylim([D_axis_max, D_axis_min])\n",
    "ax1.set_xlim([-0.5, 1.5])\n",
    "ax1.get_legend().remove()\n",
    "ax1.set_xlabel(None)\n",
    "ax1.set_ylabel(None)\n",
    "ax1.tick_params(direction=\"in\")\n",
    "ax2.tick_params(direction=\"in\")\n",
    "ax1.grid(color = 'k', linestyle = '--', axis='y',linewidth = 1, alpha = 0.1, zorder=0)\n",
    "ax2.set_yticks([])\n",
    "ax1.errorbar(0.5, 4, xerr=0, yerr=2.4,  ecolor='blue', elinewidth=1.5, fmt='none', capsize=4, mec='k')\n",
    "ax1.errorbar(0.6, 4, xerr=0, yerr=1.9,  ecolor='darkorange', elinewidth=1.5, fmt='none', capsize=4, mec='k')\n",
    "\n",
    "fig.savefig('Sisters_Cpx.png', dpi=200)"
   ]
  },
  {
   "cell_type": "code",
   "execution_count": 8,
   "id": "09656e44-ac7f-4b62-af05-2c20bbb409a9",
   "metadata": {},
   "outputs": [],
   "source": [
    "## Load in LP data"
   ]
  },
  {
   "cell_type": "code",
   "execution_count": 9,
   "id": "41821936-e344-4fae-9a12-f803d537e6b2",
   "metadata": {},
   "outputs": [
    {
     "data": {
      "text/html": [
       "<div>\n",
       "<style scoped>\n",
       "    .dataframe tbody tr th:only-of-type {\n",
       "        vertical-align: middle;\n",
       "    }\n",
       "\n",
       "    .dataframe tbody tr th {\n",
       "        vertical-align: top;\n",
       "    }\n",
       "\n",
       "    .dataframe thead th {\n",
       "        text-align: right;\n",
       "    }\n",
       "</style>\n",
       "<table border=\"1\" class=\"dataframe\">\n",
       "  <thead>\n",
       "    <tr style=\"text-align: right;\">\n",
       "      <th></th>\n",
       "      <th>Volcano</th>\n",
       "      <th>Latitude</th>\n",
       "      <th>Depth</th>\n",
       "      <th>Depth definition</th>\n",
       "      <th>Reference</th>\n",
       "      <th>Unnamed: 5</th>\n",
       "      <th>Unnamed: 6</th>\n",
       "    </tr>\n",
       "  </thead>\n",
       "  <tbody>\n",
       "    <tr>\n",
       "      <th>21</th>\n",
       "      <td>Three sisters</td>\n",
       "      <td>44.103449</td>\n",
       "      <td>12.0</td>\n",
       "      <td>presume sea level based on their Fig. 7, which...</td>\n",
       "      <td>Nichols et al. 2011</td>\n",
       "      <td>NaN</td>\n",
       "      <td>NaN</td>\n",
       "    </tr>\n",
       "  </tbody>\n",
       "</table>\n",
       "</div>"
      ],
      "text/plain": [
       "          Volcano   Latitude  Depth  \\\n",
       "21  Three sisters  44.103449   12.0   \n",
       "\n",
       "                                     Depth definition            Reference  \\\n",
       "21  presume sea level based on their Fig. 7, which...  Nichols et al. 2011   \n",
       "\n",
       "    Unnamed: 5  Unnamed: 6  \n",
       "21         NaN         NaN  "
      ]
     },
     "execution_count": 9,
     "metadata": {},
     "output_type": "execute_result"
    }
   ],
   "source": [
    "LPs=pd.read_excel(r'../Geophysics_April23.xlsx',\n",
    "                  sheet_name=\"LPEarthquakes\")\n",
    "LPs_Sisters=LPs.loc[LPs['Volcano']==\"Three sisters\"]\n",
    "LPs_Sisters"
   ]
  },
  {
   "cell_type": "markdown",
   "id": "6e45a011-023a-4bff-ad06-e481b53d30ba",
   "metadata": {},
   "source": [
    "## Raw template for geophysics and Exp Pet"
   ]
  },
  {
   "cell_type": "code",
   "execution_count": 10,
   "id": "85832d6e-9d94-47cd-9704-3d3255c3580e",
   "metadata": {},
   "outputs": [
    {
     "data": {
      "image/png": "[encoded data removed]",
      "text/plain": [
       "<Figure size 300x400 with 2 Axes>"
      ]
     },
     "metadata": {},
     "output_type": "display_data"
    }
   ],
   "source": [
    "import seaborn as sns\n",
    "fig, (ax1) = plt.subplots(1, 1, figsize=(3,4), sharey=True)\n",
    "ax2 = ax1.twinx()\n",
    "from matplotlib import patches\n",
    "elev=1.7 # Have choosen average elevation of ground around sisters, as source offset. \n",
    "\n",
    "# Wicks, 2002 - 6.5 +0.4\n",
    "ax2.errorbar(0, 6.5, xerr=0, yerr=0.4,  \n",
    "             fmt='*', ecolor='k', elinewidth=0.8, mfc='k', \n",
    "             ms=15, mec='k', capsize=4)\n",
    "\n",
    "# dzurisin 2006 - 6.5 +2.5 km depth - Best fit sill\n",
    "ax2.errorbar(0.5, 6.5, xerr=0, yerr=2.5, capsize=4,   fmt='*', ecolor='k', elinewidth=0.8, mfc='k', ms=15, mec='k')\n",
    "\n",
    "#Dzurisin 2009 - 4.4 km if network translation ignored\n",
    "ax2.plot(1, 4.4, '*k', mfc='k', ms=15)\n",
    "ax2.plot(1.5, 5.4, '*k', mfc='k', ms=15)\n",
    "\n",
    "# Riddick and Schmidt, 4-5.5 km bgl for mogi\n",
    "rect_RS = patches.Rectangle((2,4),0.4,1.5,linewidth=1,\n",
    "                            edgecolor='black',facecolor='black')\n",
    "ax2.add_patch(rect_RS)\n",
    "\n",
    "# 7 km depth for Sill\n",
    "ax2.plot(2.5, 7, '*k', mfc='k', ms=15)\n",
    "\n",
    "ax2.plot(3, LPs_Sisters['Depth']+elev, 'ok', mfc='red', ms=5)\n",
    "\n",
    "\n",
    "ax1.plot([-1, 5], [0, 0], '-k', lw=0.5)\n",
    "ax1.set_ylim([P_axis_max, P_axis_min])\n",
    "ax2.set_ylim([D_axis_max, D_axis_min])\n",
    "\n",
    "ax1.tick_params(direction=\"in\")\n",
    "ax2.tick_params(direction=\"in\")\n",
    "ax1.set_xlim([-0.5, 3.2])\n",
    "ax1.set_xlabel(None)\n",
    "ax1.set_ylabel(None)\n",
    "ax1.set_xticks([ ])\n",
    "\n",
    "#ax1.set_xticklabels(['Exp Pet', 'Exp Pet', 'MT', 'Seismics'], rotation=90)\n",
    "ax1.grid(color = 'k', linestyle = '--', axis='y',linewidth = 1, alpha = 0.1, zorder=0)\n",
    "                 \n",
    "fig.savefig('Geophysical+Other_Sisters.png', dpi=200, bbox_inches=\"tight\")"
   ]
  },
  {
   "cell_type": "code",
   "execution_count": 11,
   "id": "2abcd680-574d-459f-93bc-01dc58c3f12d",
   "metadata": {},
   "outputs": [
    {
     "ename": "FileNotFoundError",
     "evalue": "[Errno 2] No such file or directory: 'Sisters.xlsx'",
     "output_type": "error",
     "traceback": [
      "\u001b[1;31m---------------------------------------------------------------------------\u001b[0m",
      "\u001b[1;31mFileNotFoundError\u001b[0m                         Traceback (most recent call last)",
      "Cell \u001b[1;32mIn[11], line 3\u001b[0m\n\u001b[0;32m      1\u001b[0m \u001b[39m## Same for amphibole\u001b[39;00m\n\u001b[1;32m----> 3\u001b[0m Sisters_read_Amp\u001b[39m=\u001b[39mpt\u001b[39m.\u001b[39;49mimport_excel(\u001b[39m'\u001b[39;49m\u001b[39mSisters.xlsx\u001b[39;49m\u001b[39m'\u001b[39;49m, sheet_name\u001b[39m=\u001b[39;49m\u001b[39m'\u001b[39;49m\u001b[39mAmp_All\u001b[39;49m\u001b[39m'\u001b[39;49m)\n\u001b[0;32m      4\u001b[0m Sisters_Input_Amp\u001b[39m=\u001b[39mSisters_read_Amp[\u001b[39m'\u001b[39m\u001b[39mmy_input\u001b[39m\u001b[39m'\u001b[39m]\n\u001b[0;32m      5\u001b[0m Sisters_Amp\u001b[39m=\u001b[39mSisters_read_Amp[\u001b[39m'\u001b[39m\u001b[39mAmps\u001b[39m\u001b[39m'\u001b[39m]\n",
      "File \u001b[1;32mg:\\my drive\\postdoc\\pymme\\mybarometers\\thermobar_outer\\src\\Thermobar\\import_export.py:343\u001b[0m, in \u001b[0;36mimport_excel\u001b[1;34m(filename, sheet_name, sample_label, GEOROC, suffix)\u001b[0m\n\u001b[0;32m    341\u001b[0m \u001b[39melif\u001b[39;00m \u001b[39m'\u001b[39m\u001b[39mxls\u001b[39m\u001b[39m'\u001b[39m \u001b[39min\u001b[39;00m filename:\n\u001b[0;32m    342\u001b[0m     \u001b[39mif\u001b[39;00m sheet_name \u001b[39mis\u001b[39;00m \u001b[39mnot\u001b[39;00m \u001b[39mNone\u001b[39;00m:\n\u001b[1;32m--> 343\u001b[0m         my_input \u001b[39m=\u001b[39m pd\u001b[39m.\u001b[39;49mread_excel(filename, sheet_name\u001b[39m=\u001b[39;49msheet_name)\n\u001b[0;32m    344\u001b[0m         \u001b[39m#my_input[my_input < 0] = 0\u001b[39;00m\n\u001b[0;32m    345\u001b[0m     \u001b[39melse\u001b[39;00m:\n\u001b[0;32m    346\u001b[0m         my_input \u001b[39m=\u001b[39m pd\u001b[39m.\u001b[39mread_excel(filename)\n",
      "File \u001b[1;32mc:\\Users\\penny\\anaconda3\\lib\\site-packages\\pandas\\util\\_decorators.py:211\u001b[0m, in \u001b[0;36mdeprecate_kwarg.<locals>._deprecate_kwarg.<locals>.wrapper\u001b[1;34m(*args, **kwargs)\u001b[0m\n\u001b[0;32m    209\u001b[0m     \u001b[39melse\u001b[39;00m:\n\u001b[0;32m    210\u001b[0m         kwargs[new_arg_name] \u001b[39m=\u001b[39m new_arg_value\n\u001b[1;32m--> 211\u001b[0m \u001b[39mreturn\u001b[39;00m func(\u001b[39m*\u001b[39margs, \u001b[39m*\u001b[39m\u001b[39m*\u001b[39mkwargs)\n",
      "File \u001b[1;32mc:\\Users\\penny\\anaconda3\\lib\\site-packages\\pandas\\util\\_decorators.py:331\u001b[0m, in \u001b[0;36mdeprecate_nonkeyword_arguments.<locals>.decorate.<locals>.wrapper\u001b[1;34m(*args, **kwargs)\u001b[0m\n\u001b[0;32m    325\u001b[0m \u001b[39mif\u001b[39;00m \u001b[39mlen\u001b[39m(args) \u001b[39m>\u001b[39m num_allow_args:\n\u001b[0;32m    326\u001b[0m     warnings\u001b[39m.\u001b[39mwarn(\n\u001b[0;32m    327\u001b[0m         msg\u001b[39m.\u001b[39mformat(arguments\u001b[39m=\u001b[39m_format_argument_list(allow_args)),\n\u001b[0;32m    328\u001b[0m         \u001b[39mFutureWarning\u001b[39;00m,\n\u001b[0;32m    329\u001b[0m         stacklevel\u001b[39m=\u001b[39mfind_stack_level(),\n\u001b[0;32m    330\u001b[0m     )\n\u001b[1;32m--> 331\u001b[0m \u001b[39mreturn\u001b[39;00m func(\u001b[39m*\u001b[39margs, \u001b[39m*\u001b[39m\u001b[39m*\u001b[39mkwargs)\n",
      "File \u001b[1;32mc:\\Users\\penny\\anaconda3\\lib\\site-packages\\pandas\\io\\excel\\_base.py:482\u001b[0m, in \u001b[0;36mread_excel\u001b[1;34m(io, sheet_name, header, names, index_col, usecols, squeeze, dtype, engine, converters, true_values, false_values, skiprows, nrows, na_values, keep_default_na, na_filter, verbose, parse_dates, date_parser, thousands, decimal, comment, skipfooter, convert_float, mangle_dupe_cols, storage_options)\u001b[0m\n\u001b[0;32m    480\u001b[0m \u001b[39mif\u001b[39;00m \u001b[39mnot\u001b[39;00m \u001b[39misinstance\u001b[39m(io, ExcelFile):\n\u001b[0;32m    481\u001b[0m     should_close \u001b[39m=\u001b[39m \u001b[39mTrue\u001b[39;00m\n\u001b[1;32m--> 482\u001b[0m     io \u001b[39m=\u001b[39m ExcelFile(io, storage_options\u001b[39m=\u001b[39;49mstorage_options, engine\u001b[39m=\u001b[39;49mengine)\n\u001b[0;32m    483\u001b[0m \u001b[39melif\u001b[39;00m engine \u001b[39mand\u001b[39;00m engine \u001b[39m!=\u001b[39m io\u001b[39m.\u001b[39mengine:\n\u001b[0;32m    484\u001b[0m     \u001b[39mraise\u001b[39;00m \u001b[39mValueError\u001b[39;00m(\n\u001b[0;32m    485\u001b[0m         \u001b[39m\"\u001b[39m\u001b[39mEngine should not be specified when passing \u001b[39m\u001b[39m\"\u001b[39m\n\u001b[0;32m    486\u001b[0m         \u001b[39m\"\u001b[39m\u001b[39man ExcelFile - ExcelFile already has the engine set\u001b[39m\u001b[39m\"\u001b[39m\n\u001b[0;32m    487\u001b[0m     )\n",
      "File \u001b[1;32mc:\\Users\\penny\\anaconda3\\lib\\site-packages\\pandas\\io\\excel\\_base.py:1652\u001b[0m, in \u001b[0;36mExcelFile.__init__\u001b[1;34m(self, path_or_buffer, engine, storage_options)\u001b[0m\n\u001b[0;32m   1650\u001b[0m     ext \u001b[39m=\u001b[39m \u001b[39m\"\u001b[39m\u001b[39mxls\u001b[39m\u001b[39m\"\u001b[39m\n\u001b[0;32m   1651\u001b[0m \u001b[39melse\u001b[39;00m:\n\u001b[1;32m-> 1652\u001b[0m     ext \u001b[39m=\u001b[39m inspect_excel_format(\n\u001b[0;32m   1653\u001b[0m         content_or_path\u001b[39m=\u001b[39;49mpath_or_buffer, storage_options\u001b[39m=\u001b[39;49mstorage_options\n\u001b[0;32m   1654\u001b[0m     )\n\u001b[0;32m   1655\u001b[0m     \u001b[39mif\u001b[39;00m ext \u001b[39mis\u001b[39;00m \u001b[39mNone\u001b[39;00m:\n\u001b[0;32m   1656\u001b[0m         \u001b[39mraise\u001b[39;00m \u001b[39mValueError\u001b[39;00m(\n\u001b[0;32m   1657\u001b[0m             \u001b[39m\"\u001b[39m\u001b[39mExcel file format cannot be determined, you must specify \u001b[39m\u001b[39m\"\u001b[39m\n\u001b[0;32m   1658\u001b[0m             \u001b[39m\"\u001b[39m\u001b[39man engine manually.\u001b[39m\u001b[39m\"\u001b[39m\n\u001b[0;32m   1659\u001b[0m         )\n",
      "File \u001b[1;32mc:\\Users\\penny\\anaconda3\\lib\\site-packages\\pandas\\io\\excel\\_base.py:1525\u001b[0m, in \u001b[0;36minspect_excel_format\u001b[1;34m(content_or_path, storage_options)\u001b[0m\n\u001b[0;32m   1522\u001b[0m \u001b[39mif\u001b[39;00m \u001b[39misinstance\u001b[39m(content_or_path, \u001b[39mbytes\u001b[39m):\n\u001b[0;32m   1523\u001b[0m     content_or_path \u001b[39m=\u001b[39m BytesIO(content_or_path)\n\u001b[1;32m-> 1525\u001b[0m \u001b[39mwith\u001b[39;00m get_handle(\n\u001b[0;32m   1526\u001b[0m     content_or_path, \u001b[39m\"\u001b[39;49m\u001b[39mrb\u001b[39;49m\u001b[39m\"\u001b[39;49m, storage_options\u001b[39m=\u001b[39;49mstorage_options, is_text\u001b[39m=\u001b[39;49m\u001b[39mFalse\u001b[39;49;00m\n\u001b[0;32m   1527\u001b[0m ) \u001b[39mas\u001b[39;00m handle:\n\u001b[0;32m   1528\u001b[0m     stream \u001b[39m=\u001b[39m handle\u001b[39m.\u001b[39mhandle\n\u001b[0;32m   1529\u001b[0m     stream\u001b[39m.\u001b[39mseek(\u001b[39m0\u001b[39m)\n",
      "File \u001b[1;32mc:\\Users\\penny\\anaconda3\\lib\\site-packages\\pandas\\io\\common.py:865\u001b[0m, in \u001b[0;36mget_handle\u001b[1;34m(path_or_buf, mode, encoding, compression, memory_map, is_text, errors, storage_options)\u001b[0m\n\u001b[0;32m    856\u001b[0m         handle \u001b[39m=\u001b[39m \u001b[39mopen\u001b[39m(\n\u001b[0;32m    857\u001b[0m             handle,\n\u001b[0;32m    858\u001b[0m             ioargs\u001b[39m.\u001b[39mmode,\n\u001b[1;32m   (...)\u001b[0m\n\u001b[0;32m    861\u001b[0m             newline\u001b[39m=\u001b[39m\u001b[39m\"\u001b[39m\u001b[39m\"\u001b[39m,\n\u001b[0;32m    862\u001b[0m         )\n\u001b[0;32m    863\u001b[0m     \u001b[39melse\u001b[39;00m:\n\u001b[0;32m    864\u001b[0m         \u001b[39m# Binary mode\u001b[39;00m\n\u001b[1;32m--> 865\u001b[0m         handle \u001b[39m=\u001b[39m \u001b[39mopen\u001b[39;49m(handle, ioargs\u001b[39m.\u001b[39;49mmode)\n\u001b[0;32m    866\u001b[0m     handles\u001b[39m.\u001b[39mappend(handle)\n\u001b[0;32m    868\u001b[0m \u001b[39m# Convert BytesIO or file objects passed with an encoding\u001b[39;00m\n",
      "\u001b[1;31mFileNotFoundError\u001b[0m: [Errno 2] No such file or directory: 'Sisters.xlsx'"
     ]
    }
   ],
   "source": [
    "## Same for amphibole\n",
    "\n",
    "Sisters_read_Amp=pt.import_excel('Sisters.xlsx', sheet_name='Amp_All')\n",
    "Sisters_Input_Amp=Sisters_read_Amp['my_input']\n",
    "Sisters_Amp=Sisters_read_Amp['Amps']\n",
    "Sisters_Amp['Sample_ID_Amp']='Holocene'\n",
    "Sisters_Amp_copy=Sisters_Amp.copy()\n",
    "Sisters_Amp_comps=pt.get_amp_sites_from_input(amp_comps=Sisters_Amp)\n",
    "# Are a few outside 3.95 to 4.05 Cat sums, CaCaMgFe lies 0.3 - 0.55\n",
    "Sisters_Amp_filt1=Sisters_Amp.loc[(Sisters_Amp_comps['cation_sum_All'].between(15, 16))]\n",
    "\n",
    "Sisters_Amp_class=pt.classify_phases(df=Sisters_Amp_filt1, return_end_members=True,\n",
    "                        str_to_drop='_Amp')\n",
    "print(Sisters_Amp_class['Phase_Min_Group_ML'].unique())\n",
    "Sisters_Amp_filt=Sisters_Amp_filt1.loc[Sisters_Amp_class['Phase_Min_Group_ML']==\"Amp\"].reset_index(drop=True)\n",
    "Sisters_Amp_Press_NoFilter=pt.calculate_amp_only_press(amp_comps=Sisters_Amp_filt, \n",
    "                        Ridolfi_Filter=False, equationP=\"P_Ridolfi2021\")\n",
    "Sisters_Amp_Press_Filter=pt.calculate_amp_only_press(amp_comps=Sisters_Amp_filt, \n",
    "                        Ridolfi_Filter=True, equationP=\"P_Ridolfi2021\")\n",
    "\n",
    "Input_filt=Sisters_Input_Amp.loc[(Sisters_Amp_comps['cation_sum_All'].between(15, 16))\n",
    "                                & (Sisters_Amp_class['Phase_Min_Group_ML']==\"Amp\")].reset_index(drop=True)\n",
    "                                "
   ]
  },
  {
   "cell_type": "code",
   "execution_count": null,
   "id": "825f5613-9c0d-4896-86f7-f6c5a779b77a",
   "metadata": {},
   "outputs": [],
   "source": [
    "Sisters_Input_Amp\n",
    "Amp_Mgno="
   ]
  },
  {
   "cell_type": "code",
   "execution_count": null,
   "id": "0c40be9e-ae71-4998-9ce7-52c8a0e2d835",
   "metadata": {},
   "outputs": [],
   "source": [
    "len(Sisters_Amp_Press_NoFilter)"
   ]
  },
  {
   "cell_type": "code",
   "execution_count": null,
   "id": "f75c362c-6356-41e1-8533-8bfbf38a4c4b",
   "metadata": {},
   "outputs": [],
   "source": [
    "plt.plot(\n",
    "         (Sisters_Amp_filt['MgO_Amp']/40.3044)/(Sisters_Amp_filt['MgO_Amp']/40.3044+Sisters_Amp_filt['FeOt_Amp']/71.844),\n",
    "    Sisters_Amp_Press_NoFilter['P_kbar_calc'], 'ok')"
   ]
  },
  {
   "cell_type": "code",
   "execution_count": null,
   "id": "912585fa-3138-4f6e-b980-0dc717badc1c",
   "metadata": {},
   "outputs": [],
   "source": [
    "Sisters_Amp_Press_NoFilter[Sisters_Amp_Press_NoFilter['P_kbar_calc']>5.5"
   ]
  },
  {
   "cell_type": "code",
   "execution_count": null,
   "id": "08f3fec1-471e-4e38-83ad-591409ae94fd",
   "metadata": {},
   "outputs": [],
   "source": [
    "Kaw_P=pt.calculate_amp_only_press(amp_comps=Sisters_Amp_filt, equationP=\"P_Kraw2012\"\n",
    "                                 ,deltaNNO=0)\n",
    "plt.plot(Kaw_P['Mg#_Amp'], Kaw_P['PH2O_kbar_calc'], 'ok')"
   ]
  },
  {
   "cell_type": "code",
   "execution_count": null,
   "id": "aed2c450-8e4b-49f2-940d-4ded1074c91b",
   "metadata": {},
   "outputs": [],
   "source": [
    "plt.plot(Sisters_Amp_Press_NoFilter['P_kbar_calc'].loc[Kaw_P['Mg#_Amp']>75],\n",
    "         Kaw_P['PH2O_kbar_calc'].loc[Kaw_P['Mg#_Amp']>75], 'ok')"
   ]
  },
  {
   "cell_type": "code",
   "execution_count": null,
   "id": "ed1ec676-bc60-4079-b667-36ec670e7f97",
   "metadata": {},
   "outputs": [],
   "source": [
    "Input_filt.loc[(Kaw_P['Mg#_Amp']<65)& (Sisters_Amp_Press_NoFilter['P_kbar_calc']<5.5)]"
   ]
  },
  {
   "cell_type": "code",
   "execution_count": null,
   "id": "5487e0d2-36ee-4780-933e-c06c4874a7ed",
   "metadata": {},
   "outputs": [],
   "source": [
    "Input_filt.loc[(Kaw_P['Mg#_Amp']>75)& (Sisters_Amp_Press_NoFilter['P_kbar_calc']>5.5)]"
   ]
  },
  {
   "cell_type": "code",
   "execution_count": null,
   "id": "f6b47070-9186-44ed-941e-b7f0240a11a5",
   "metadata": {},
   "outputs": [],
   "source": []
  },
  {
   "cell_type": "code",
   "execution_count": null,
   "id": "da0da966-95a3-4ead-85d5-30b092cbd351",
   "metadata": {},
   "outputs": [],
   "source": [
    "Kaw_P"
   ]
  },
  {
   "cell_type": "code",
   "execution_count": null,
   "id": "209fe8f4-df37-4af2-befd-5c45109198c8",
   "metadata": {},
   "outputs": [],
   "source": [
    "Amp_Chem=pt.calculate_amp_only_melt_comps(amp_comps=Sisters_Amp_filt)"
   ]
  },
  {
   "cell_type": "code",
   "execution_count": null,
   "id": "01277fd4-71d1-422f-99eb-84d72c944eb7",
   "metadata": {},
   "outputs": [],
   "source": [
    "fig, (ax1, ax2) = plt.subplots(1, 2, figsize=(10,5), sharey=True)\n",
    "ax1.plot(\n",
    "         Amp_Chem['MgO_Eq9_Zhang17'],\n",
    "    Sisters_Amp_Press_NoFilter['P_kbar_calc'], 'ok')\n",
    "ax1.set_xlabel('Calculated MgO Zhang')\n",
    "ax1.set_ylabel('Calcated P Ridolfi 21')\n",
    "\n",
    "ax2.set_xlabel('Calculated SiO2 Zhang')\n",
    "ax2.set_ylabel('Calcated P Ridolfi 21')\n",
    "\n",
    "ax2.plot(\n",
    "         Amp_Chem['SiO2_Eq1_Zhang17'],\n",
    "    Sisters_Amp_Press_NoFilter['P_kbar_calc'], 'ok')"
   ]
  },
  {
   "cell_type": "code",
   "execution_count": null,
   "id": "af627d8c-c0dc-4fd5-8035-42f3c77dcb2c",
   "metadata": {},
   "outputs": [],
   "source": [
    "#None Filtered\n",
    "Sisters_Amp_Press_All=Sisters_Amp_Press_NoFilter.copy()\n",
    "Sisters_Amp_Press_All['Preferred_P']=Sisters_Amp_Press_All['P_kbar_calc']\n",
    "Sisters_Amp_Press_All['Model']=\"Ridolfi not filtered\"\n",
    "Sisters_Amp_Press_All['Sample_ID_Amp']=\"Sisters domefield\"\n",
    "\n",
    "Sisters_Amp_Press_Filt=Sisters_Amp_Press_Filter.copy()\n",
    "Sisters_Amp_Press_Filt['Preferred_P']=Sisters_Amp_Press_Filt['P_kbar_calc']\n",
    "Sisters_Amp_Press_Filt['Model']=\"Ridolfi filtered\"\n",
    "Sisters_Amp_Press_Filt['Sample_ID_Amp']=\"Sisters domefield\"\n",
    "\n",
    "Combo_Amp=pd.concat([Sisters_Amp_Press_All, Sisters_Amp_Press_Filt], axis=0)"
   ]
  },
  {
   "cell_type": "code",
   "execution_count": null,
   "id": "71b2d9ed-990a-45ce-943a-2dda9cf0e142",
   "metadata": {},
   "outputs": [],
   "source": [
    "Combo_Amp.to_pickle(\"Amp_Sisters.pkl\")"
   ]
  },
  {
   "cell_type": "code",
   "execution_count": null,
   "id": "0c86a60d-b431-431c-8cf3-eb9b073ffdd5",
   "metadata": {},
   "outputs": [
    {
     "data": {
      "text/plain": [
       "245"
      ]
     },
     "execution_count": 61,
     "metadata": {},
     "output_type": "execute_result"
    }
   ],
   "source": [
    "len(Sisters_Amp_Press_All)"
   ]
  },
  {
   "cell_type": "code",
   "execution_count": null,
   "id": "e51f0090-05a8-4854-a7bc-0a89b349ba07",
   "metadata": {},
   "outputs": [
    {
     "data": {
      "text/plain": [
       "0      Crater domefield\n",
       "1      Crater domefield\n",
       "2      Crater domefield\n",
       "3      Crater domefield\n",
       "4      Crater domefield\n",
       "             ...       \n",
       "240    Crater domefield\n",
       "241    Crater domefield\n",
       "242    Crater domefield\n",
       "243    Crater domefield\n",
       "244    Crater domefield\n",
       "Name: Sample_ID_Amp, Length: 245, dtype: object"
      ]
     },
     "execution_count": 26,
     "metadata": {},
     "output_type": "execute_result"
    }
   ],
   "source": [
    "Sisters_Amp_Press_All['Sample_ID_Amp']"
   ]
  },
  {
   "cell_type": "code",
   "execution_count": null,
   "id": "d9be12c5-5bc3-42c5-a28e-0d4fe1e8da1d",
   "metadata": {},
   "outputs": [
    {
     "data": {
      "image/png": "[encoded data removed]",
      "text/plain": [
       "<Figure size 216x288 with 2 Axes>"
      ]
     },
     "metadata": {
      "needs_background": "light"
     },
     "output_type": "display_data"
    }
   ],
   "source": [
    "import seaborn as sns\n",
    "fig, (ax1) = plt.subplots(1, 1, figsize=(5*0.6,4), sharey=True)\n",
    "ax2 = ax1.twinx()\n",
    "\n",
    "volc_order=[\"Sisters\", \"Sisters domefield\"]\n",
    "sns.violinplot(x=\"Sample_ID_Amp\", y=\"Preferred_P\",  cut=0, \n",
    "               linewidth=1,hue=\"Model\", inner=None,\n",
    "            data=Combo_Amp, split=True, ax=ax1, width=0.9, order=volc_order, stick=True\n",
    "              , palette=['lightgreen', 'grey'])\n",
    "\n",
    "# ax1.plot(-0.1+0*Combo_Amp['Preferred_P'].loc[(Combo_Amp['Model']==\"Ridolfi not filtered\")\n",
    "#                                         &(Combo_Amp[\"Volcano\"]==\"North Sister\")],\n",
    "#       Combo_Amp['Preferred_P'].loc[(Combo_Amp['Model']==\"Ridolfi not filtered\")\n",
    "#                                         &(Combo_Amp[\"Volcano\"]==\"North Sister\")],  \n",
    "#          'xb')\n",
    "\n",
    "# ax1.plot(0.1+0*Combo_Amp['Preferred_P'].loc[(Combo_Amp['Model']==\"Ridolfi filtered\")\n",
    "#                                         &(Combo_Amp[\"Volcano\"]==\"North Sister\")],\n",
    "#       Combo_Amp['Preferred_P'].loc[(Combo_Amp['Model']==\"Ridolfi filtered\")\n",
    "#                                         &(Combo_Amp[\"Volcano\"]==\"North Sister\")],  \n",
    "#          'xr')\n",
    "\n",
    "# ax1.plot(-0.1,\n",
    "#       np.nanmedian(Combo_Amp['Preferred_P'].loc[(Combo_Amp['Model']==\"Ridolfi not filtered\")\n",
    "#                                         &(Combo_Amp[\"Volcano\"]==\"North Sister\")]),  \n",
    "#          '*k', mfc='w', ms=20)\n",
    "\n",
    "# ax1.plot(0.1,\n",
    "#       np.nanmedian(Combo_Amp['Preferred_P'].loc[(Combo_Amp['Model']==\"Ridolfi filtered\")\n",
    "#                                         &(Combo_Amp[\"Volcano\"]==\"North Sister\")]),  \n",
    "#          '*k', mfc='w', ms=20)\n",
    "\n",
    "ax1.plot(0.9+0*Combo_Amp['Preferred_P'].loc[(Combo_Amp['Model']==\"Ridolfi not filtered\")\n",
    "                                        &(Combo_Amp[\"Sample_ID_Amp\"]==\"South Sister\")],\n",
    "      Combo_Amp['Preferred_P'].loc[(Combo_Amp['Model']==\"Ridolfi not filtered\")\n",
    "                                        &(Combo_Amp[\"Sample_ID_Amp\"]==\"South Sister\")],  \n",
    "         'x', mec='green')\n",
    "\n",
    "ax1.plot(1.1+0*Combo_Amp['Preferred_P'].loc[(Combo_Amp['Model']==\"Ridolfi filtered\")\n",
    "                                        &(Combo_Amp[\"Sample_ID_Amp\"]==\"South Sister\")],\n",
    "      Combo_Amp['Preferred_P'].loc[(Combo_Amp['Model']==\"Ridolfi filtered\")\n",
    "                                        &(Combo_Amp[\"Sample_ID_Amp\"]==\"South Sister\")],  \n",
    "         'x', mec='k')\n",
    "\n",
    "ax1.plot(0.9,\n",
    "      np.nanmedian(Combo_Amp['Preferred_P'].loc[(Combo_Amp['Model']==\"Ridolfi not filtered\")\n",
    "                                        &(Combo_Amp[\"Sample_ID_Amp\"]==\"South Sister\")]),  \n",
    "         '*k', mfc='w', ms=20)\n",
    "\n",
    "ax1.plot(1.1,\n",
    "      np.nanmedian(Combo_Amp['Preferred_P'].loc[(Combo_Amp['Model']==\"Ridolfi filtered\")\n",
    "                                        &(Combo_Amp[\"Sample_ID_Amp\"]==\"South Sister\")]),  \n",
    "         '*k', mfc='w', ms=20)\n",
    "\n",
    "ax1.plot([-1, 5], [0, 0], '-k', lw=0.5)\n",
    "ax1.set_ylim([P_axis_max, P_axis_min])\n",
    "ax2.set_ylim([D_axis_max, D_axis_min])\n",
    "ax1.set_xlim([0.5, 1.5])\n",
    "ax1.get_legend().remove()\n",
    "ax1.set_xlabel(None)\n",
    "ax1.set_ylabel(None)\n",
    "\n",
    "ax1.tick_params(direction=\"in\")\n",
    "ax2.tick_params(direction=\"in\")\n",
    "ax2.set_yticks([])\n",
    "# ax1.set_yticks([])\n",
    "ax1.grid(color = 'k', linestyle = '--', axis='y',linewidth = 1, alpha = 0.1, zorder=0)\n",
    "\n",
    "\n",
    "fig.savefig('Sisters_Amp.png', dpi=200)\n",
    "\n"
   ]
  },
  {
   "cell_type": "code",
   "execution_count": null,
   "id": "58a4756b-4dbb-4964-950a-bda2b1c59643",
   "metadata": {},
   "outputs": [
    {
     "data": {
      "text/html": [
       "<div>\n",
       "<style scoped>\n",
       "    .dataframe tbody tr th:only-of-type {\n",
       "        vertical-align: middle;\n",
       "    }\n",
       "\n",
       "    .dataframe tbody tr th {\n",
       "        vertical-align: top;\n",
       "    }\n",
       "\n",
       "    .dataframe thead th {\n",
       "        text-align: right;\n",
       "    }\n",
       "</style>\n",
       "<table border=\"1\" class=\"dataframe\">\n",
       "  <thead>\n",
       "    <tr style=\"text-align: right;\">\n",
       "      <th></th>\n",
       "      <th>P_kbar_calc</th>\n",
       "      <th>Input_Check</th>\n",
       "      <th>Fail Msg</th>\n",
       "      <th>classification</th>\n",
       "      <th>equation</th>\n",
       "      <th>H2O_calc</th>\n",
       "      <th>Fe2O3_calc</th>\n",
       "      <th>FeO_calc</th>\n",
       "      <th>Total_recalc</th>\n",
       "      <th>Sum_input</th>\n",
       "      <th>...</th>\n",
       "      <th>FeOt_Amp</th>\n",
       "      <th>MnO_Amp</th>\n",
       "      <th>MgO_Amp</th>\n",
       "      <th>CaO_Amp</th>\n",
       "      <th>Na2O_Amp</th>\n",
       "      <th>K2O_Amp</th>\n",
       "      <th>Cr2O3_Amp</th>\n",
       "      <th>F_Amp</th>\n",
       "      <th>Cl_Amp</th>\n",
       "      <th>Sample_ID_Amp</th>\n",
       "    </tr>\n",
       "  </thead>\n",
       "  <tbody>\n",
       "    <tr>\n",
       "      <th>0</th>\n",
       "      <td>2.900868</td>\n",
       "      <td>True</td>\n",
       "      <td></td>\n",
       "      <td>Mg-hastingsite</td>\n",
       "      <td>1b</td>\n",
       "      <td>1.793710</td>\n",
       "      <td>6.749393</td>\n",
       "      <td>6.809810</td>\n",
       "      <td>99.567063</td>\n",
       "      <td>97.222</td>\n",
       "      <td>...</td>\n",
       "      <td>NaN</td>\n",
       "      <td>NaN</td>\n",
       "      <td>NaN</td>\n",
       "      <td>NaN</td>\n",
       "      <td>NaN</td>\n",
       "      <td>NaN</td>\n",
       "      <td>NaN</td>\n",
       "      <td>NaN</td>\n",
       "      <td>NaN</td>\n",
       "      <td>NaN</td>\n",
       "    </tr>\n",
       "    <tr>\n",
       "      <th>1</th>\n",
       "      <td>NaN</td>\n",
       "      <td>False</td>\n",
       "      <td>APE &gt;60</td>\n",
       "      <td>Mg-Hornblende</td>\n",
       "      <td>1b</td>\n",
       "      <td>1.753117</td>\n",
       "      <td>5.839672</td>\n",
       "      <td>6.877389</td>\n",
       "      <td>100.417060</td>\n",
       "      <td>98.281</td>\n",
       "      <td>...</td>\n",
       "      <td>NaN</td>\n",
       "      <td>NaN</td>\n",
       "      <td>NaN</td>\n",
       "      <td>NaN</td>\n",
       "      <td>NaN</td>\n",
       "      <td>NaN</td>\n",
       "      <td>NaN</td>\n",
       "      <td>NaN</td>\n",
       "      <td>NaN</td>\n",
       "      <td>NaN</td>\n",
       "    </tr>\n",
       "    <tr>\n",
       "      <th>2</th>\n",
       "      <td>1.327280</td>\n",
       "      <td>True</td>\n",
       "      <td></td>\n",
       "      <td>Mg-Hornblende</td>\n",
       "      <td>1b</td>\n",
       "      <td>1.853930</td>\n",
       "      <td>8.814875</td>\n",
       "      <td>4.703263</td>\n",
       "      <td>100.169790</td>\n",
       "      <td>97.539</td>\n",
       "      <td>...</td>\n",
       "      <td>NaN</td>\n",
       "      <td>NaN</td>\n",
       "      <td>NaN</td>\n",
       "      <td>NaN</td>\n",
       "      <td>NaN</td>\n",
       "      <td>NaN</td>\n",
       "      <td>NaN</td>\n",
       "      <td>NaN</td>\n",
       "      <td>NaN</td>\n",
       "      <td>NaN</td>\n",
       "    </tr>\n",
       "    <tr>\n",
       "      <th>3</th>\n",
       "      <td>1.082220</td>\n",
       "      <td>True</td>\n",
       "      <td></td>\n",
       "      <td>Mg-Hornblende</td>\n",
       "      <td>1b</td>\n",
       "      <td>1.818471</td>\n",
       "      <td>8.855900</td>\n",
       "      <td>4.058348</td>\n",
       "      <td>99.182058</td>\n",
       "      <td>96.610</td>\n",
       "      <td>...</td>\n",
       "      <td>NaN</td>\n",
       "      <td>NaN</td>\n",
       "      <td>NaN</td>\n",
       "      <td>NaN</td>\n",
       "      <td>NaN</td>\n",
       "      <td>NaN</td>\n",
       "      <td>NaN</td>\n",
       "      <td>NaN</td>\n",
       "      <td>NaN</td>\n",
       "      <td>NaN</td>\n",
       "    </tr>\n",
       "    <tr>\n",
       "      <th>4</th>\n",
       "      <td>1.019863</td>\n",
       "      <td>True</td>\n",
       "      <td></td>\n",
       "      <td>Mg-Hornblende</td>\n",
       "      <td>1b</td>\n",
       "      <td>1.846387</td>\n",
       "      <td>6.915142</td>\n",
       "      <td>5.870667</td>\n",
       "      <td>100.207881</td>\n",
       "      <td>97.786</td>\n",
       "      <td>...</td>\n",
       "      <td>NaN</td>\n",
       "      <td>NaN</td>\n",
       "      <td>NaN</td>\n",
       "      <td>NaN</td>\n",
       "      <td>NaN</td>\n",
       "      <td>NaN</td>\n",
       "      <td>NaN</td>\n",
       "      <td>NaN</td>\n",
       "      <td>NaN</td>\n",
       "      <td>NaN</td>\n",
       "    </tr>\n",
       "    <tr>\n",
       "      <th>...</th>\n",
       "      <td>...</td>\n",
       "      <td>...</td>\n",
       "      <td>...</td>\n",
       "      <td>...</td>\n",
       "      <td>...</td>\n",
       "      <td>...</td>\n",
       "      <td>...</td>\n",
       "      <td>...</td>\n",
       "      <td>...</td>\n",
       "      <td>...</td>\n",
       "      <td>...</td>\n",
       "      <td>...</td>\n",
       "      <td>...</td>\n",
       "      <td>...</td>\n",
       "      <td>...</td>\n",
       "      <td>...</td>\n",
       "      <td>...</td>\n",
       "      <td>...</td>\n",
       "      <td>...</td>\n",
       "      <td>...</td>\n",
       "      <td>...</td>\n",
       "    </tr>\n",
       "    <tr>\n",
       "      <th>537</th>\n",
       "      <td>NaN</td>\n",
       "      <td>NaN</td>\n",
       "      <td>NaN</td>\n",
       "      <td>NaN</td>\n",
       "      <td>NaN</td>\n",
       "      <td>NaN</td>\n",
       "      <td>NaN</td>\n",
       "      <td>NaN</td>\n",
       "      <td>NaN</td>\n",
       "      <td>NaN</td>\n",
       "      <td>...</td>\n",
       "      <td>13.4128</td>\n",
       "      <td>0.3021</td>\n",
       "      <td>12.2825</td>\n",
       "      <td>10.5433</td>\n",
       "      <td>2.7719</td>\n",
       "      <td>0.4604</td>\n",
       "      <td>0.0054</td>\n",
       "      <td>0.0</td>\n",
       "      <td>0.0</td>\n",
       "      <td>Lassen domefield</td>\n",
       "    </tr>\n",
       "    <tr>\n",
       "      <th>538</th>\n",
       "      <td>NaN</td>\n",
       "      <td>NaN</td>\n",
       "      <td>NaN</td>\n",
       "      <td>NaN</td>\n",
       "      <td>NaN</td>\n",
       "      <td>NaN</td>\n",
       "      <td>NaN</td>\n",
       "      <td>NaN</td>\n",
       "      <td>NaN</td>\n",
       "      <td>NaN</td>\n",
       "      <td>...</td>\n",
       "      <td>11.4141</td>\n",
       "      <td>0.6550</td>\n",
       "      <td>13.2942</td>\n",
       "      <td>18.2989</td>\n",
       "      <td>0.3220</td>\n",
       "      <td>0.0459</td>\n",
       "      <td>0.0330</td>\n",
       "      <td>0.0</td>\n",
       "      <td>0.0</td>\n",
       "      <td>Lassen domefield</td>\n",
       "    </tr>\n",
       "    <tr>\n",
       "      <th>539</th>\n",
       "      <td>NaN</td>\n",
       "      <td>NaN</td>\n",
       "      <td>NaN</td>\n",
       "      <td>NaN</td>\n",
       "      <td>NaN</td>\n",
       "      <td>NaN</td>\n",
       "      <td>NaN</td>\n",
       "      <td>NaN</td>\n",
       "      <td>NaN</td>\n",
       "      <td>NaN</td>\n",
       "      <td>...</td>\n",
       "      <td>10.0572</td>\n",
       "      <td>0.6882</td>\n",
       "      <td>12.9776</td>\n",
       "      <td>18.4196</td>\n",
       "      <td>0.6676</td>\n",
       "      <td>0.1259</td>\n",
       "      <td>0.1680</td>\n",
       "      <td>0.0</td>\n",
       "      <td>0.0</td>\n",
       "      <td>Lassen domefield</td>\n",
       "    </tr>\n",
       "    <tr>\n",
       "      <th>540</th>\n",
       "      <td>NaN</td>\n",
       "      <td>NaN</td>\n",
       "      <td>NaN</td>\n",
       "      <td>NaN</td>\n",
       "      <td>NaN</td>\n",
       "      <td>NaN</td>\n",
       "      <td>NaN</td>\n",
       "      <td>NaN</td>\n",
       "      <td>NaN</td>\n",
       "      <td>NaN</td>\n",
       "      <td>...</td>\n",
       "      <td>12.0174</td>\n",
       "      <td>0.4440</td>\n",
       "      <td>13.7267</td>\n",
       "      <td>12.0664</td>\n",
       "      <td>1.3288</td>\n",
       "      <td>0.3254</td>\n",
       "      <td>0.0407</td>\n",
       "      <td>0.0</td>\n",
       "      <td>0.0</td>\n",
       "      <td>Lassen domefield</td>\n",
       "    </tr>\n",
       "    <tr>\n",
       "      <th>541</th>\n",
       "      <td>NaN</td>\n",
       "      <td>NaN</td>\n",
       "      <td>NaN</td>\n",
       "      <td>NaN</td>\n",
       "      <td>NaN</td>\n",
       "      <td>NaN</td>\n",
       "      <td>NaN</td>\n",
       "      <td>NaN</td>\n",
       "      <td>NaN</td>\n",
       "      <td>NaN</td>\n",
       "      <td>...</td>\n",
       "      <td>12.4572</td>\n",
       "      <td>0.2455</td>\n",
       "      <td>14.1538</td>\n",
       "      <td>11.0903</td>\n",
       "      <td>2.2611</td>\n",
       "      <td>0.4510</td>\n",
       "      <td>0.0000</td>\n",
       "      <td>0.0</td>\n",
       "      <td>0.0</td>\n",
       "      <td>Lassen domefield</td>\n",
       "    </tr>\n",
       "  </tbody>\n",
       "</table>\n",
       "<p>1084 rows × 74 columns</p>\n",
       "</div>"
      ],
      "text/plain": [
       "     P_kbar_calc Input_Check Fail Msg  classification equation  H2O_calc  \\\n",
       "0       2.900868        True           Mg-hastingsite       1b  1.793710   \n",
       "1            NaN       False  APE >60   Mg-Hornblende       1b  1.753117   \n",
       "2       1.327280        True            Mg-Hornblende       1b  1.853930   \n",
       "3       1.082220        True            Mg-Hornblende       1b  1.818471   \n",
       "4       1.019863        True            Mg-Hornblende       1b  1.846387   \n",
       "..           ...         ...      ...             ...      ...       ...   \n",
       "537          NaN         NaN      NaN             NaN      NaN       NaN   \n",
       "538          NaN         NaN      NaN             NaN      NaN       NaN   \n",
       "539          NaN         NaN      NaN             NaN      NaN       NaN   \n",
       "540          NaN         NaN      NaN             NaN      NaN       NaN   \n",
       "541          NaN         NaN      NaN             NaN      NaN       NaN   \n",
       "\n",
       "     Fe2O3_calc  FeO_calc  Total_recalc  Sum_input  ...  FeOt_Amp  MnO_Amp  \\\n",
       "0      6.749393  6.809810     99.567063     97.222  ...       NaN      NaN   \n",
       "1      5.839672  6.877389    100.417060     98.281  ...       NaN      NaN   \n",
       "2      8.814875  4.703263    100.169790     97.539  ...       NaN      NaN   \n",
       "3      8.855900  4.058348     99.182058     96.610  ...       NaN      NaN   \n",
       "4      6.915142  5.870667    100.207881     97.786  ...       NaN      NaN   \n",
       "..          ...       ...           ...        ...  ...       ...      ...   \n",
       "537         NaN       NaN           NaN        NaN  ...   13.4128   0.3021   \n",
       "538         NaN       NaN           NaN        NaN  ...   11.4141   0.6550   \n",
       "539         NaN       NaN           NaN        NaN  ...   10.0572   0.6882   \n",
       "540         NaN       NaN           NaN        NaN  ...   12.0174   0.4440   \n",
       "541         NaN       NaN           NaN        NaN  ...   12.4572   0.2455   \n",
       "\n",
       "     MgO_Amp  CaO_Amp  Na2O_Amp  K2O_Amp  Cr2O3_Amp  F_Amp  Cl_Amp  \\\n",
       "0        NaN      NaN       NaN      NaN        NaN    NaN     NaN   \n",
       "1        NaN      NaN       NaN      NaN        NaN    NaN     NaN   \n",
       "2        NaN      NaN       NaN      NaN        NaN    NaN     NaN   \n",
       "3        NaN      NaN       NaN      NaN        NaN    NaN     NaN   \n",
       "4        NaN      NaN       NaN      NaN        NaN    NaN     NaN   \n",
       "..       ...      ...       ...      ...        ...    ...     ...   \n",
       "537  12.2825  10.5433    2.7719   0.4604     0.0054    0.0     0.0   \n",
       "538  13.2942  18.2989    0.3220   0.0459     0.0330    0.0     0.0   \n",
       "539  12.9776  18.4196    0.6676   0.1259     0.1680    0.0     0.0   \n",
       "540  13.7267  12.0664    1.3288   0.3254     0.0407    0.0     0.0   \n",
       "541  14.1538  11.0903    2.2611   0.4510     0.0000    0.0     0.0   \n",
       "\n",
       "        Sample_ID_Amp  \n",
       "0                 NaN  \n",
       "1                 NaN  \n",
       "2                 NaN  \n",
       "3                 NaN  \n",
       "4                 NaN  \n",
       "..                ...  \n",
       "537  Lassen domefield  \n",
       "538  Lassen domefield  \n",
       "539  Lassen domefield  \n",
       "540  Lassen domefield  \n",
       "541  Lassen domefield  \n",
       "\n",
       "[1084 rows x 74 columns]"
      ]
     },
     "execution_count": 85,
     "metadata": {},
     "output_type": "execute_result"
    }
   ],
   "source": [
    "Sisters_Amp_Press_Filter"
   ]
  },
  {
   "cell_type": "code",
   "execution_count": null,
   "id": "81a10478-4082-410e-b5b3-daf024b3db52",
   "metadata": {},
   "outputs": [
    {
     "data": {
      "text/plain": [
       "[<matplotlib.lines.Line2D at 0x2bf870b2760>]"
      ]
     },
     "execution_count": 22,
     "metadata": {},
     "output_type": "execute_result"
    },
    {
     "data": {
      "image/png": "[encoded data removed]",
      "text/plain": [
       "<Figure size 432x288 with 1 Axes>"
      ]
     },
     "metadata": {
      "needs_background": "light"
     },
     "output_type": "display_data"
    }
   ],
   "source": [
    "plt.plot(1.1,\n",
    "      np.nanmedian(Combo_Amp['Preferred_P'].loc[(Combo_Amp['Model']==\"Ridolfi filtered\")\n",
    "                                        &(Combo_Amp[\"Sample_ID_Amp\"]==\"South Sister\")]),  \n",
    "         '*k', mfc='w', ms=20)"
   ]
  },
  {
   "cell_type": "code",
   "execution_count": null,
   "id": "94bfe1b8-4f99-4503-88a4-1c712c542bda",
   "metadata": {},
   "outputs": [
    {
     "data": {
      "text/plain": [
       "0                   NaN\n",
       "1                   NaN\n",
       "2                   NaN\n",
       "3                   NaN\n",
       "4                   NaN\n",
       "             ...       \n",
       "537    Lassen domefield\n",
       "538    Lassen domefield\n",
       "539    Lassen domefield\n",
       "540    Lassen domefield\n",
       "541    Lassen domefield\n",
       "Name: Sample_ID_Amp, Length: 2168, dtype: object"
      ]
     },
     "execution_count": 25,
     "metadata": {},
     "output_type": "execute_result"
    }
   ],
   "source": [
    "Combo_Amp[\"Sample_ID_Amp\"]"
   ]
  },
  {
   "cell_type": "code",
   "execution_count": null,
   "id": "4759be25-6b15-45af-9281-f5e8ae9fe912",
   "metadata": {},
   "outputs": [
    {
     "data": {
      "text/plain": [
       "0     NaN\n",
       "1     NaN\n",
       "2     NaN\n",
       "3     NaN\n",
       "4     NaN\n",
       "       ..\n",
       "537   NaN\n",
       "538   NaN\n",
       "539   NaN\n",
       "540   NaN\n",
       "541   NaN\n",
       "Name: Preferred_P, Length: 542, dtype: float64"
      ]
     },
     "execution_count": 24,
     "metadata": {},
     "output_type": "execute_result"
    }
   ],
   "source": [
    "Combo_Amp['Preferred_P'].loc[(Combo_Amp['Model']==\"Ridolfi filtered\")\n",
    "                                        &(Combo_Amp[\"Sample_ID_Amp\"]==\"South Sister\")]"
   ]
  },
  {
   "cell_type": "code",
   "execution_count": null,
   "id": "de72aa5c-02a5-45df-b79d-202d25d2b679",
   "metadata": {},
   "outputs": [],
   "source": []
  }
 ],
 "metadata": {
  "kernelspec": {
   "display_name": "Python 3 (ipykernel)",
   "language": "python",
   "name": "python3"
  },
  "language_info": {
   "codemirror_mode": {
    "name": "ipython",
    "version": 3
   },
   "file_extension": ".py",
   "mimetype": "text/x-python",
   "name": "python",
   "nbconvert_exporter": "python",
   "pygments_lexer": "ipython3",
   "version": "3.9.17"
  }
 },
 "nbformat": 4,
 "nbformat_minor": 5
}
