{
 "cells": [
  {
   "cell_type": "code",
   "execution_count": 1,
   "id": "f7fb73cf-9460-47b8-9bd0-bd453bb17f0d",
   "metadata": {},
   "outputs": [],
   "source": [
    "import numpy as np\n",
    "import pandas as pd\n",
    "import matplotlib.pyplot as plt\n",
    "import Thermobar as pt\n",
    "from pickle import load\n",
    "import pickle"
   ]
  },
  {
   "cell_type": "markdown",
   "id": "8521678a-72c4-48d0-9753-648355b12ab4",
   "metadata": {},
   "source": [
    "## First, lets load Cpx data"
   ]
  },
  {
   "cell_type": "code",
   "execution_count": 2,
   "id": "94b9640b-7813-4869-898a-5e2e8415e052",
   "metadata": {},
   "outputs": [
    {
     "name": "stderr",
     "output_type": "stream",
     "text": [
      "C:\\Users\\penny\\AppData\\Local\\Temp\\ipykernel_12144\\1471596190.py:4: SettingWithCopyWarning: \n",
      "A value is trying to be set on a copy of a slice from a DataFrame.\n",
      "Try using .loc[row_indexer,col_indexer] = value instead\n",
      "\n",
      "See the caveats in the documentation: https://pandas.pydata.org/pandas-docs/stable/user_guide/indexing.html#returning-a-view-versus-a-copy\n",
      "  MSH_Cpx['Sample_ID_Cpx']=\"MSH\"\n"
     ]
    }
   ],
   "source": [
    "with open(r'../Combo_Cpx.pkl', 'rb') as f:\n",
    "            All_Cpx=load(f)\n",
    "MSH_Cpx=All_Cpx.loc[All_Cpx['Volcano']==\"MSH\"]\n",
    "MSH_Cpx['Sample_ID_Cpx']=\"MSH\""
   ]
  },
  {
   "cell_type": "code",
   "execution_count": 3,
   "id": "de358fb4-8bba-4112-a65a-cc4f15a0e263",
   "metadata": {},
   "outputs": [],
   "source": [
    "WangCopy=MSH_Cpx.copy()\n",
    "WangCopy['Preferred_P']=WangCopy['P_Wang21_eq1']\n",
    "WangCopy['Model']=\"Wang\"\n",
    "JorgensonCopy=MSH_Cpx.copy()\n",
    "JorgensonCopy['Preferred_P']=JorgensonCopy['P_Jorgenson22']\n",
    "JorgensonCopy['Model']=\"Jorgenson\"\n",
    "\n",
    "Combo_Cpx=pd.concat([WangCopy, JorgensonCopy], axis=0)"
   ]
  },
  {
   "cell_type": "markdown",
   "id": "ce5301c4-2fc5-4ffa-bea5-c3f2a2a10aa5",
   "metadata": {},
   "source": [
    "## Choose Crustal density"
   ]
  },
  {
   "cell_type": "code",
   "execution_count": 4,
   "id": "5969034c-fad7-4f3b-99e7-6e549602329a",
   "metadata": {},
   "outputs": [],
   "source": [
    "rho=2700\n",
    "P_axis_min=-3\n",
    "P_axis_max=12\n",
    "D_axis_min=100000*P_axis_min/(9.8*rho)\n",
    "D_axis_max=100000*P_axis_max/(9.8*rho)\n"
   ]
  },
  {
   "cell_type": "code",
   "execution_count": 5,
   "id": "03aecb9b-4065-4d14-a4ce-d29b9a6cdd76",
   "metadata": {},
   "outputs": [
    {
     "data": {
      "image/png": "[encoded data removed]",
      "text/plain": [
       "<Figure size 250x400 with 2 Axes>"
      ]
     },
     "metadata": {},
     "output_type": "display_data"
    }
   ],
   "source": [
    "import seaborn as sns\n",
    "fig, (ax1) = plt.subplots(1, 1, figsize=(2.5,4), sharey=True)\n",
    "ax2 = ax1.twinx()\n",
    "# ticks = [40.540139,41.3099, 41.6108, 42.9446, 43.7221, 44.103449, 44.6743, 45.3736, 46.1914, 46.8523, 48.1119, 48.7767]\n",
    "# labels = ['MSH', 'MSH', 'Med Lake', 'Crater Lake', 'Newberry', '3 Sisters', 'Mt. Jeff', 'Mt. MSH', 'MSH', 'Rainier', 'Glac. Pk.', 'Mt. Baker']\n",
    "# ax2.set_xticks(ticks, minor=False)\n",
    "# ax2.set_xticklabels(labels, fontdict=None, minor=False, rotation=90)\n",
    "#ax1.set_xlim([40, 49])\n",
    "volc_order=[\"MSH\"]\n",
    "sns.violinplot(x=\"Sample_ID_Cpx\", y=\"Preferred_P\",  cut=0,  inner=None, hue=\"Model\",\n",
    "            data=Combo_Cpx, split=True, ax=ax1, width=0.9, order=volc_order, stick=True)\n",
    "\n",
    "ax1.plot(-0.1+0*Combo_Cpx['Preferred_P'].loc[(Combo_Cpx['Model']==\"Wang\")\n",
    "                                        &(Combo_Cpx[\"Sample_ID_Cpx\"]==\"MSH\")],\n",
    "      Combo_Cpx['Preferred_P'].loc[(Combo_Cpx['Model']==\"Wang\")\n",
    "                                        &(Combo_Cpx[\"Sample_ID_Cpx\"]==\"MSH\")],  \n",
    "         'xb')\n",
    "\n",
    "ax1.plot(0.1+0*Combo_Cpx['Preferred_P'].loc[(Combo_Cpx['Model']==\"Jorgenson\")\n",
    "                                        &(Combo_Cpx[\"Sample_ID_Cpx\"]==\"MSH\")],\n",
    "      Combo_Cpx['Preferred_P'].loc[(Combo_Cpx['Model']==\"Jorgenson\")\n",
    "                                        &(Combo_Cpx[\"Sample_ID_Cpx\"]==\"MSH\")],  \n",
    "         'xr')\n",
    "\n",
    "ax1.plot(-0.1,\n",
    "      np.nanmedian(Combo_Cpx['Preferred_P'].loc[(Combo_Cpx['Model']==\"Wang\")\n",
    "                                        &(Combo_Cpx[\"Sample_ID_Cpx\"]==\"MSH\")]),  \n",
    "         '*k', mfc='w', ms=20)\n",
    "\n",
    "ax1.plot(0.1,\n",
    "      np.nanmedian(Combo_Cpx['Preferred_P'].loc[(Combo_Cpx['Model']==\"Jorgenson\")\n",
    "                                        &(Combo_Cpx[\"Sample_ID_Cpx\"]==\"MSH\")]),  \n",
    "         '*k', mfc='w', ms=20)\n",
    "\n",
    "ax1.plot(0.9+0*Combo_Cpx['Preferred_P'].loc[(Combo_Cpx['Model']==\"Wang\")\n",
    "                                        &(Combo_Cpx[\"Sample_ID_Cpx\"]==\"MSH\")],\n",
    "      Combo_Cpx['Preferred_P'].loc[(Combo_Cpx['Model']==\"Wang\")\n",
    "                                        &(Combo_Cpx[\"Sample_ID_Cpx\"]==\"MSH\")],  \n",
    "         'xb')\n",
    "\n",
    "ax1.plot(1.1+0*Combo_Cpx['Preferred_P'].loc[(Combo_Cpx['Model']==\"Jorgenson\")\n",
    "                                        &(Combo_Cpx[\"Sample_ID_Cpx\"]==\"MSH\")],\n",
    "      Combo_Cpx['Preferred_P'].loc[(Combo_Cpx['Model']==\"Jorgenson\")\n",
    "                                        &(Combo_Cpx[\"Sample_ID_Cpx\"]==\"MSH\")],  \n",
    "         'xr')\n",
    "\n",
    "ax1.plot(0.9,\n",
    "      np.nanmedian(Combo_Cpx['Preferred_P'].loc[(Combo_Cpx['Model']==\"Wang\")\n",
    "                                        &(Combo_Cpx[\"Sample_ID_Cpx\"]==\"MSH\")]),  \n",
    "         '*k', mfc='w', ms=20)\n",
    "\n",
    "ax1.plot(1.1,\n",
    "      np.nanmedian(Combo_Cpx['Preferred_P'].loc[(Combo_Cpx['Model']==\"Jorgenson\")\n",
    "                                        &(Combo_Cpx[\"Sample_ID_Cpx\"]==\"MSH\")]),  \n",
    "         '*k', mfc='w', ms=20)\n",
    "\n",
    "ax1.plot([-1, 5], [0, 0], '-k', lw=0.5)\n",
    "ax1.set_ylim([P_axis_max, P_axis_min])\n",
    "ax2.set_ylim([D_axis_max, D_axis_min])\n",
    "ax1.set_xlim([-0.5, 0.5])\n",
    "ax1.get_legend().remove()\n",
    "ax1.set_xlabel(None)\n",
    "ax1.set_ylabel(None)\n",
    "ax1.tick_params(direction=\"in\")\n",
    "ax2.tick_params(direction=\"in\")\n",
    "ax1.grid(color = 'k', linestyle = '--', axis='y',linewidth = 1, alpha = 0.1, zorder=0)\n",
    "ax2.set_yticks([])\n",
    "ax1.set_xticks([])\n",
    "fig.savefig('MSH_Cpx.png', dpi=200)"
   ]
  },
  {
   "cell_type": "code",
   "execution_count": 6,
   "id": "fec96253-5d65-4e42-a26f-c414eaa00293",
   "metadata": {},
   "outputs": [
    {
     "data": {
      "text/plain": [
       "2.2787508199987627"
      ]
     },
     "execution_count": 6,
     "metadata": {},
     "output_type": "execute_result"
    }
   ],
   "source": [
    "np.nanmedian(Combo_Cpx['Preferred_P'].loc[(Combo_Cpx['Model']==\"Wang\")\n",
    "                                        &(Combo_Cpx[\"Sample_ID_Cpx\"]==\"MSH\")])"
   ]
  },
  {
   "cell_type": "code",
   "execution_count": 7,
   "id": "a174435c-14bd-46a7-b7ac-7ee3e1f411b2",
   "metadata": {},
   "outputs": [
    {
     "data": {
      "text/plain": [
       "1.7981791044776119"
      ]
     },
     "execution_count": 7,
     "metadata": {},
     "output_type": "execute_result"
    }
   ],
   "source": [
    "np.nanmedian(Combo_Cpx['Preferred_P'].loc[(Combo_Cpx['Model']==\"Jorgenson\")\n",
    "                                        &(Combo_Cpx[\"Sample_ID_Cpx\"]==\"MSH\")])"
   ]
  },
  {
   "cell_type": "markdown",
   "id": "80befca7-62b8-454b-be35-0314c9f836f5",
   "metadata": {},
   "source": [
    "## Amphibole"
   ]
  },
  {
   "cell_type": "code",
   "execution_count": 8,
   "id": "19370771-c8cf-4380-ae55-adac3b816ee6",
   "metadata": {},
   "outputs": [
    {
     "name": "stdout",
     "output_type": "stream",
     "text": [
      "508\n",
      "495\n"
     ]
    },
    {
     "name": "stderr",
     "output_type": "stream",
     "text": [
      "C:\\Users\\penny\\AppData\\Local\\Temp\\ipykernel_12144\\4225863512.py:4: SettingWithCopyWarning: \n",
      "A value is trying to be set on a copy of a slice from a DataFrame.\n",
      "Try using .loc[row_indexer,col_indexer] = value instead\n",
      "\n",
      "See the caveats in the documentation: https://pandas.pydata.org/pandas-docs/stable/user_guide/indexing.html#returning-a-view-versus-a-copy\n",
      "  MSH_Amp['Sample_ID_Amp']=\"MSH\"\n",
      "C:\\Users\\penny\\AppData\\Local\\Temp\\ipykernel_12144\\4225863512.py:9: SettingWithCopyWarning: \n",
      "A value is trying to be set on a copy of a slice from a DataFrame.\n",
      "Try using .loc[row_indexer,col_indexer] = value instead\n",
      "\n",
      "See the caveats in the documentation: https://pandas.pydata.org/pandas-docs/stable/user_guide/indexing.html#returning-a-view-versus-a-copy\n",
      "  MSH_Amp_Filt['Sample_ID_Amp']=\"MSH\"\n",
      "C:\\Users\\penny\\AppData\\Local\\Temp\\ipykernel_12144\\4225863512.py:10: SettingWithCopyWarning: \n",
      "A value is trying to be set on a copy of a slice from a DataFrame.\n",
      "Try using .loc[row_indexer,col_indexer] = value instead\n",
      "\n",
      "See the caveats in the documentation: https://pandas.pydata.org/pandas-docs/stable/user_guide/indexing.html#returning-a-view-versus-a-copy\n",
      "  MSH_Amp['Class']='Unfilt'\n",
      "C:\\Users\\penny\\AppData\\Local\\Temp\\ipykernel_12144\\4225863512.py:11: SettingWithCopyWarning: \n",
      "A value is trying to be set on a copy of a slice from a DataFrame.\n",
      "Try using .loc[row_indexer,col_indexer] = value instead\n",
      "\n",
      "See the caveats in the documentation: https://pandas.pydata.org/pandas-docs/stable/user_guide/indexing.html#returning-a-view-versus-a-copy\n",
      "  MSH_Amp_Filt['Class']='filt'\n"
     ]
    },
    {
     "data": {
      "image/png": "[encoded data removed]",
      "text/plain": [
       "<Figure size 200x393 with 2 Axes>"
      ]
     },
     "metadata": {},
     "output_type": "display_data"
    }
   ],
   "source": [
    "\n",
    "with open(r'../Combo_Amp.pkl', 'rb') as f:\n",
    "            All_Amp=load(f)\n",
    "MSH_Amp=All_Amp.loc[All_Amp['Volcano']==\"MSH\"]\n",
    "MSH_Amp['Sample_ID_Amp']=\"MSH\"\n",
    "\n",
    "with open(r'../Combo_Amp_Filt.pkl', 'rb') as f:\n",
    "            All_Amp_Filt=load(f)\n",
    "MSH_Amp_Filt=All_Amp_Filt.loc[All_Amp_Filt['Volcano']==\"MSH\"]\n",
    "MSH_Amp_Filt['Sample_ID_Amp']=\"MSH\"\n",
    "MSH_Amp['Class']='Unfilt'\n",
    "MSH_Amp_Filt['Class']='filt'\n",
    "\n",
    "Combo_Amp=pd.concat([MSH_Amp_Filt, MSH_Amp], axis=0)\n",
    "\n",
    "print(sum(MSH_Amp['P_kbar_calc']>-10))\n",
    "print(sum(MSH_Amp_Filt['P_kbar_calc']>-10))\n",
    "\n",
    "import seaborn as sns\n",
    "fig, (ax1) = plt.subplots(1, 1, figsize=(2,3.93), sharey=True)\n",
    "ax2 = ax1.twinx()\n",
    "\n",
    "\n",
    "# ax = sns.violinplot(y=MSH_Amp['P_Ridolfi21'],\n",
    "#                 inner=None, cut=0, ax=ax1, color=\"lightgreen\", linewidth=0.5)\n",
    "sns.violinplot(x=\"Volcano\", y=\"P_Ridolfi21\",  cut=0,  inner=None, hue=\"Class\",\n",
    "            data=Combo_Amp, split=True, ax=ax1, width=0.9,  palette=['lightgreen', 'grey'],\n",
    "               stick=True)\n",
    "\n",
    "\n",
    "ax1.plot(-0.1+0*MSH_Amp_Filt['P_Ridolfi21'],\n",
    "  MSH_Amp_Filt['P_Ridolfi21'],\n",
    "         'x', mec='grey')\n",
    "ax1.plot(+0.1+0*MSH_Amp['P_Ridolfi21'],\n",
    "  MSH_Amp['P_Ridolfi21'],\n",
    "         'x', mec='black')\n",
    "\n",
    "ax1.plot(-0.1,\n",
    "  np.nanmedian(MSH_Amp_Filt['P_Ridolfi21']),\n",
    "         '*k', mfc='w', ms=20)\n",
    "\n",
    "ax1.plot(+0.1,\n",
    "  np.nanmedian(MSH_Amp['P_Ridolfi21']),\n",
    "         '*k', mfc='w', ms=20)\n",
    "ax1.get_legend().remove()\n",
    "ax1.plot([-1, 5], [0, 0], '-k', lw=0.5)\n",
    "ax1.set_ylim([P_axis_max, P_axis_min])\n",
    "ax2.set_ylim([D_axis_max, D_axis_min])\n",
    "ax1.set_xlim([-0.5, 0.5])\n",
    "ax1.set_xlabel(None)\n",
    "ax1.set_ylabel(None)\n",
    "\n",
    "ax1.tick_params(direction=\"in\")\n",
    "ax2.tick_params(direction=\"in\")\n",
    "ax2.set_yticks([])\n",
    "ax1.set_xticks([])\n",
    "ax1.grid(color = 'k', linestyle = '--', axis='y',linewidth = 1, alpha = 0.1, zorder=0)\n",
    "\n",
    "\n",
    "fig.savefig('MSH_Amp.png', dpi=200, transparent=True)"
   ]
  },
  {
   "cell_type": "code",
   "execution_count": 9,
   "id": "6f6b9200-6e26-4ccf-b071-f76960845d30",
   "metadata": {},
   "outputs": [
    {
     "data": {
      "text/plain": [
       "3.169985331710294"
      ]
     },
     "execution_count": 9,
     "metadata": {},
     "output_type": "execute_result"
    }
   ],
   "source": [
    "np.nanmedian(MSH_Amp_Filt['P_Ridolfi21'])"
   ]
  },
  {
   "cell_type": "code",
   "execution_count": 10,
   "id": "f1f8e819-7e06-410f-a076-cd92e76894f8",
   "metadata": {},
   "outputs": [
    {
     "data": {
      "text/plain": [
       "3.1116699929024607"
      ]
     },
     "execution_count": 10,
     "metadata": {},
     "output_type": "execute_result"
    }
   ],
   "source": [
    "np.nanmedian(MSH_Amp['P_Ridolfi21'])"
   ]
  },
  {
   "cell_type": "code",
   "execution_count": 11,
   "id": "cf2f78d4-72b4-474b-87cf-4b9ae588712f",
   "metadata": {},
   "outputs": [
    {
     "data": {
      "text/plain": [
       "508"
      ]
     },
     "execution_count": 11,
     "metadata": {},
     "output_type": "execute_result"
    }
   ],
   "source": [
    "sum(MSH_Amp['P_kbar_calc']>-10)"
   ]
  },
  {
   "cell_type": "code",
   "execution_count": 12,
   "id": "b810419a-37d8-4dc6-ab27-a7078e007837",
   "metadata": {},
   "outputs": [
    {
     "data": {
      "image/png": "[encoded data removed]",
      "text/plain": [
       "<Figure size 200x400 with 2 Axes>"
      ]
     },
     "metadata": {},
     "output_type": "display_data"
    }
   ],
   "source": [
    "import seaborn as sns\n",
    "fig, (ax1) = plt.subplots(1, 1, figsize=(2,4), sharey=True)\n",
    "ax2 = ax1.twinx()\n",
    "\n",
    "\n",
    "ax = sns.violinplot(y=MSH_Amp['P_Ridolfi21'],\n",
    "                inner=None, cut=0, ax=ax1, color=\"lightgreen\", linewidth=0.5)\n",
    "\n",
    "\n",
    "ax1.plot(0*MSH_Amp['P_Ridolfi21'],\n",
    "  MSH_Amp['P_Ridolfi21'],\n",
    "         'x', mec='green')\n",
    "\n",
    "ax1.plot(0,\n",
    "  np.nanmedian(MSH_Amp['P_Ridolfi21']),\n",
    "         '*k', mfc='w', ms=20)\n",
    "# ax1.plot(0,\n",
    "#   np.nanmean(MSH_Amp['P_Ridolfi21']),\n",
    "#          'pk', mfc='w', ms=5)\n",
    "ax1.plot([-1, 5], [0, 0], '-k', lw=0.5)\n",
    "ax1.set_ylim([P_axis_max, P_axis_min])\n",
    "ax2.set_ylim([D_axis_max, D_axis_min])\n",
    "ax1.set_xlim([-0.5, 0.5])\n",
    "ax1.set_xlabel(None)\n",
    "ax1.set_ylabel(None)\n",
    "\n",
    "ax1.tick_params(direction=\"in\")\n",
    "ax2.tick_params(direction=\"in\")\n",
    "ax2.set_yticks([])\n",
    "ax1.set_xticks([])\n",
    "ax1.grid(color = 'k', linestyle = '--', axis='y',linewidth = 1, alpha = 0.1, zorder=0)\n",
    "\n",
    "\n",
    "fig.savefig('MSH_Amp.png', dpi=200)"
   ]
  },
  {
   "cell_type": "markdown",
   "id": "3db2c430-8218-47b0-91bd-e25111be5fd0",
   "metadata": {},
   "source": [
    "## Load in LP data"
   ]
  },
  {
   "cell_type": "code",
   "execution_count": 13,
   "id": "41821936-e344-4fae-9a12-f803d537e6b2",
   "metadata": {},
   "outputs": [
    {
     "data": {
      "text/html": [
       "<div>\n",
       "<style scoped>\n",
       "    .dataframe tbody tr th:only-of-type {\n",
       "        vertical-align: middle;\n",
       "    }\n",
       "\n",
       "    .dataframe tbody tr th {\n",
       "        vertical-align: top;\n",
       "    }\n",
       "\n",
       "    .dataframe thead th {\n",
       "        text-align: right;\n",
       "    }\n",
       "</style>\n",
       "<table border=\"1\" class=\"dataframe\">\n",
       "  <thead>\n",
       "    <tr style=\"text-align: right;\">\n",
       "      <th></th>\n",
       "      <th>Volcano</th>\n",
       "      <th>Latitude</th>\n",
       "      <th>Depth</th>\n",
       "      <th>Depth definition</th>\n",
       "      <th>Reference</th>\n",
       "      <th>Unnamed: 5</th>\n",
       "      <th>Unnamed: 6</th>\n",
       "    </tr>\n",
       "  </thead>\n",
       "  <tbody>\n",
       "  </tbody>\n",
       "</table>\n",
       "</div>"
      ],
      "text/plain": [
       "Empty DataFrame\n",
       "Columns: [Volcano, Latitude, Depth, Depth definition, Reference, Unnamed: 5, Unnamed: 6]\n",
       "Index: []"
      ]
     },
     "execution_count": 13,
     "metadata": {},
     "output_type": "execute_result"
    }
   ],
   "source": [
    "LPs=pd.read_excel(r'../Geophysics_April23.xlsx',\n",
    "                  sheet_name=\"LPEarthquakes\")\n",
    "LPs_MSH=LPs.loc[LPs['Volcano']==\"Mount Saint Helens\"]\n",
    "LPs_MSH.head()"
   ]
  },
  {
   "cell_type": "code",
   "execution_count": 23,
   "id": "23cc9261-0ac1-4eb1-8e53-6c60969dabea",
   "metadata": {},
   "outputs": [
    {
     "data": {
      "text/plain": [
       "array(['Lassen', 'Medicine Lake', 'Three sisters', 'Crater Lake',\n",
       "       'Mount Baker', 'Glacier Peak', 'Mount Rainier'], dtype=object)"
      ]
     },
     "execution_count": 23,
     "metadata": {},
     "output_type": "execute_result"
    }
   ],
   "source": [
    "LPs['Volcano'].unique()"
   ]
  },
  {
   "cell_type": "markdown",
   "id": "6e45a011-023a-4bff-ad06-e481b53d30ba",
   "metadata": {},
   "source": [
    "## Raw template for geophysics and Exp Pet"
   ]
  },
  {
   "cell_type": "markdown",
   "id": "6035d4ad-4d02-499f-ae79-251d829f289d",
   "metadata": {},
   "source": [
    "## Expet plot"
   ]
  },
  {
   "cell_type": "code",
   "execution_count": 14,
   "id": "701c220e-87c7-41d4-8b8d-6e29e84923f0",
   "metadata": {},
   "outputs": [
    {
     "data": {
      "image/png": "[encoded data removed]",
      "text/plain": [
       "<Figure size 250x400 with 2 Axes>"
      ]
     },
     "metadata": {},
     "output_type": "display_data"
    }
   ],
   "source": [
    "import seaborn as sns\n",
    "fig, (ax1) = plt.subplots(1, 1, figsize=(2.5,4), sharey=True)\n",
    "ax2 = ax1.twinx()\n",
    "from matplotlib import patches\n",
    "elev=2.549\n",
    "\n",
    "# Rutherford et al. (1985)\n",
    "ax1.plot(-0.2, 2.2, '*k', mfc='yellow', ms=20)\n",
    "# Rutherford and Devine (1988)\n",
    "ax1.plot(0.2, 2.2, '*k', mfc='orange', ms=20)\n",
    "# Rutherford and Devine (2008) Amp cores\n",
    "rect_RD2008 = patches.Rectangle((0.6,2),0.2,1,linewidth=1,\n",
    "                            edgecolor='k',facecolor='peachpuff')\n",
    "ax1.add_patch(rect_RD2008)\n",
    "# Plag forming\n",
    "ax1.plot(1, 2, '*k', mfc='peachpuff', ms=20)\n",
    "# Amp rims\n",
    "\n",
    "rect_RD20082 = patches.Rectangle((1.2,1),0.2,1,linewidth=1,\n",
    "                            edgecolor='k',facecolor='peachpuff')\n",
    "ax1.add_patch(rect_RD20082)\n",
    "ax1.plot([-1, 5], [0, 0], '-k', lw=0.5)\n",
    "ax1.set_ylim([P_axis_max, P_axis_min])\n",
    "ax2.set_ylim([D_axis_max, D_axis_min])\n",
    "\n",
    "ax1.tick_params(direction=\"in\")\n",
    "ax2.tick_params(direction=\"in\")\n",
    "ax1.set_xlim([-0.5, 1.5])\n",
    "ax1.set_xlabel(None)\n",
    "ax1.set_ylabel(None)\n",
    "ax1.set_xticks([])\n",
    "ax1.grid(color = 'k', linestyle = '--', axis='y',linewidth = 1, alpha = 0.1, zorder=0)\n",
    "ax2.set_yticks([])                 \n",
    "fig.savefig('Expet_MSH.png', dpi=200, bbox_inches=\"tight\")"
   ]
  },
  {
   "cell_type": "code",
   "execution_count": 38,
   "id": "85832d6e-9d94-47cd-9704-3d3255c3580e",
   "metadata": {},
   "outputs": [
    {
     "data": {
      "image/png": "[encoded data removed]",
      "text/plain": [
       "<Figure size 430x400 with 2 Axes>"
      ]
     },
     "metadata": {},
     "output_type": "display_data"
    }
   ],
   "source": [
    "import seaborn as sns\n",
    "fig, (ax1) = plt.subplots(1, 1, figsize=(4.3,4), sharey=True)\n",
    "ax2 = ax1.twinx()\n",
    "from matplotlib import patches\n",
    "elev=2.549 # Elevation of MSH in Km\n",
    "mean_elev=elev-1.300 # Mean station elevation\n",
    "\n",
    "sep=0.5\n",
    "### SEISMIC CONSTRAINTS\n",
    "# Barker and Malone, 7-11 km bsl Aseismic Zone\n",
    "rect_BM1991 = patches.Rectangle((0.5-2.5*sep,7+elev),0.2, 11-7,linewidth=1,\n",
    "                            edgecolor='k',facecolor='red')\n",
    "ax2.add_patch(rect_BM1991)\n",
    "\n",
    "# Musumeci et al. (2002) bsl Aseismic Zone\n",
    "rect_M2002 = patches.Rectangle((0.5-1.25*sep,5.5+elev),0.2, 10-5.5,linewidth=1,\n",
    "                            edgecolor='k',facecolor='red')\n",
    "ax2.add_patch(rect_M2002)\n",
    "\n",
    "# Waite and Moran, 2008 -  2-3.5 km - Low Velocity Zone\n",
    "rect_WM2008 = patches.Rectangle((0.5,2+elev),0.2, 3.5-2,linewidth=1,\n",
    "                            edgecolor='k',facecolor='red')\n",
    "ax2.add_patch(rect_WM2008)\n",
    "\n",
    "# Low evlocities at 5.5-8 k msl. \n",
    "rect_WM20082 = patches.Rectangle((0.5+0.5*sep,5.5+elev),0.2, 8-5.5,linewidth=1,\n",
    "                            edgecolor='k',facecolor='red')\n",
    "ax2.add_patch(rect_WM20082)\n",
    "\n",
    "# Kiser et al. 2016 -High VP-VS region 4-13 km bsl  \n",
    "rect_K2016 = patches.Rectangle((0.5+1.7*sep,4+elev),0.2,13-4,linewidth=1,\n",
    "                            edgecolor='k',facecolor='red')\n",
    "ax2.add_patch(rect_K2016)\n",
    "\n",
    "#  Kiser et al. 2018 - 3.5 to 14 km bsl. \n",
    "rect_K2018 = patches.Rectangle((0.5+3*sep,3.5+elev),0.2,14-3.5,linewidth=1,\n",
    "                            edgecolor='k',facecolor='red', alpha=0.5)\n",
    "ax2.add_patch(rect_K2018)\n",
    "# Highest melt fractions\n",
    "rect_K2018H = patches.Rectangle((0.5+3*sep,4+elev),0.2,6-4,linewidth=1,\n",
    "                            edgecolor='k',facecolor='red', alpha=1)\n",
    "ax2.add_patch(rect_K2018H)\n",
    "\n",
    "# Ulberg et al. (2020) - \n",
    "rect_U2020 = patches.Rectangle((0.5+4.5*sep,6+elev),0.2,15-6,linewidth=1,\n",
    "                            edgecolor='k',facecolor='red')\n",
    "ax2.add_patch(rect_U2020)\n",
    "\n",
    "ax2.plot(0.5+6.5*sep+0*LPs_MSH['Depth'], LPs_MSH['Depth']+elev, 'ok', mfc='red', ms=5)\n",
    "\n",
    "\n",
    "################################### GEODETIC EVIDENCE\n",
    "\n",
    "# Lisowski et al. GPS best fit, says 7.9 km from mean height of the volcano\n",
    "\n",
    "rect_L = patches.Rectangle((0.5+6*sep,7+mean_elev),0.2,8-7,linewidth=1,\n",
    "                            edgecolor='k',facecolor='black')\n",
    "ax2.add_patch(rect_L)\n",
    "\n",
    "\n",
    "\n",
    "# Mastin et al. - top is at 5+-1 km, bottom is 10-20 km \n",
    "rect_M = patches.Rectangle((0.5+7*sep,4+mean_elev),0.2,10-4,linewidth=1,\n",
    "                            edgecolor='k',facecolor='black', alpha=1)\n",
    "ax2.add_patch(rect_M)\n",
    "\n",
    "rect_M2 = patches.Rectangle((0.5+7*sep,4+mean_elev),0.2,20-4,linewidth=1,\n",
    "                            edgecolor='k',facecolor='black', alpha=0.5)\n",
    "ax2.add_patch(rect_M2)\n",
    "\n",
    "## Magnetotelluric data \n",
    "# Hill et al. (2009)\n",
    "rect_H1 = patches.Rectangle((0.5+9*sep,3+elev),0.2,15-3,linewidth=1,\n",
    "                            edgecolor='k',facecolor='blue', alpha=1)\n",
    "ax2.add_patch(rect_H1)\n",
    "# rect_H2 = patches.Rectangle((0.5+11.5*sep,15+elev),0.2,25-15,linewidth=1,\n",
    "#                             edgecolor='k',facecolor='blue', alpha=0.5)\n",
    "# ax2.add_patch(rect_H2)\n",
    "rect_Reg = patches.Rectangle((0.5+9.5*sep+0.3,10),0.2,30-10,linewidth=1,\n",
    "                             edgecolor='k',facecolor='None', alpha=0.5)\n",
    "ax2.add_patch(rect_Reg)\n",
    "\n",
    "ax1.plot([-1, 9], [0, 0], '-k', lw=0.5)\n",
    "ax1.set_ylim([P_axis_max, P_axis_min])\n",
    "ax2.set_ylim([D_axis_max, D_axis_min])\n",
    "\n",
    "ax1.tick_params(direction=\"in\")\n",
    "ax2.tick_params(direction=\"in\")\n",
    "ax1.set_xlim([-1, 6.6])\n",
    "ax1.set_xlabel(None)\n",
    "ax1.set_ylabel(None)\n",
    "ax1.set_xticks([])\n",
    "#ax1.set_xticklabels(['Exp Pet', 'Exp Pet', 'MT', 'Seismics'], rotation=90)\n",
    "ax1.grid(color = 'k', linestyle = '--', axis='y',linewidth = 1, alpha = 0.1, zorder=0)\n",
    "                 \n",
    "fig.savefig('Geophysical+Other_MSH.png', dpi=200, bbox_inches=\"tight\")"
   ]
  },
  {
   "cell_type": "code",
   "execution_count": 8,
   "id": "2abcd680-574d-459f-93bc-01dc58c3f12d",
   "metadata": {},
   "outputs": [
    {
     "name": "stderr",
     "output_type": "stream",
     "text": [
      "C:\\Users\\penny\\anaconda3\\lib\\site-packages\\sklearn\\base.py:329: UserWarning: Trying to unpickle estimator SVC from version 0.24.1 when using version 1.0.2. This might lead to breaking code or invalid results. Use at your own risk. For more info please refer to:\n",
      "https://scikit-learn.org/stable/modules/model_persistence.html#security-maintainability-limitations\n",
      "  warnings.warn(\n",
      "C:\\Users\\penny\\anaconda3\\lib\\site-packages\\sklearn\\base.py:329: UserWarning: Trying to unpickle estimator StandardScaler from version 0.24.1 when using version 1.0.2. This might lead to breaking code or invalid results. Use at your own risk. For more info please refer to:\n",
      "https://scikit-learn.org/stable/modules/model_persistence.html#security-maintainability-limitations\n",
      "  warnings.warn(\n"
     ]
    },
    {
     "name": "stdout",
     "output_type": "stream",
     "text": [
      "['Amp' 'Px']\n"
     ]
    }
   ],
   "source": [
    "## Same for amphibole\n",
    "\n",
    "MSH_read_Amp=pt.import_excel('MSH.xlsx', sheet_name='Amp_All')\n",
    "MSH_Input_Amp=MSH_read_Amp['my_input']\n",
    "MSH_Amp=MSH_read_Amp['Amps']\n",
    "MSH_Amp['Sample_ID_Amp']='MSH'\n",
    "MSH_Amp_copy=MSH_Amp.copy()\n",
    "MSH_Amp_comps=pt.get_amp_sites_from_input(amp_comps=MSH_Amp)\n",
    "# Are a few outside 3.95 to 4.05 Cat sums, CaCaMgFe lies 0.3 - 0.55\n",
    "MSH_Amp_filt1=MSH_Amp.loc[( (MSH_Amp_comps['cation_sum_All'].between(15, 16)) )]\n",
    "MSH_Amp_class=pt.classify_phases(df=MSH_Amp_filt1, return_end_members=True,\n",
    "                        str_to_drop='_Amp')\n",
    "print(MSH_Amp_class['Phase_Min_Group_ML'].unique())\n",
    "MSH_Amp_filt=MSH_Amp_filt1.loc[MSH_Amp_class['Phase_Min_Group_ML']==\"Amp\"].reset_index(drop=True)\n",
    "MSH_Amp_Press_NoFilter=pt.calculate_amp_only_press(amp_comps=MSH_Amp_filt, \n",
    "                        Ridolfi_Filter=False, equationP=\"P_Ridolfi2021\")\n",
    "MSH_Amp_Press_Filter=pt.calculate_amp_only_press(amp_comps=MSH_Amp_filt, \n",
    "                        Ridolfi_Filter=True, equationP=\"P_Ridolfi2021\")\n"
   ]
  },
  {
   "cell_type": "code",
   "execution_count": 9,
   "id": "8829f0ad-e7b5-4ddf-89c6-27baa8c22518",
   "metadata": {},
   "outputs": [
    {
     "data": {
      "text/plain": [
       "993"
      ]
     },
     "execution_count": 9,
     "metadata": {},
     "output_type": "execute_result"
    }
   ],
   "source": [
    "len(MSH_Amp_filt)"
   ]
  },
  {
   "cell_type": "code",
   "execution_count": 19,
   "id": "0c40be9e-ae71-4998-9ce7-52c8a0e2d835",
   "metadata": {},
   "outputs": [
    {
     "data": {
      "text/plain": [
       "993"
      ]
     },
     "execution_count": 19,
     "metadata": {},
     "output_type": "execute_result"
    }
   ],
   "source": [
    "len(MSH_Amp_Press_NoFilter)"
   ]
  },
  {
   "cell_type": "code",
   "execution_count": 20,
   "id": "f75c362c-6356-41e1-8533-8bfbf38a4c4b",
   "metadata": {},
   "outputs": [
    {
     "data": {
      "text/plain": [
       "[<matplotlib.lines.Line2D at 0x24bfb5dd370>]"
      ]
     },
     "execution_count": 20,
     "metadata": {},
     "output_type": "execute_result"
    },
    {
     "data": {
      "image/png": "[encoded data removed]",
      "text/plain": [
       "<Figure size 432x288 with 1 Axes>"
      ]
     },
     "metadata": {
      "needs_background": "light"
     },
     "output_type": "display_data"
    }
   ],
   "source": [
    "plt.plot(\n",
    "         (MSH_Amp_filt['MgO_Amp']/40.3044)/(MSH_Amp_filt['MgO_Amp']/40.3044+MSH_Amp_filt['FeOt_Amp']/71.844),\n",
    "    MSH_Amp_Press_NoFilter['P_kbar_calc'], 'ok')"
   ]
  },
  {
   "cell_type": "code",
   "execution_count": 21,
   "id": "209fe8f4-df37-4af2-befd-5c45109198c8",
   "metadata": {},
   "outputs": [
    {
     "name": "stderr",
     "output_type": "stream",
     "text": [
      "c:\\users\\penny\\onedrive - oregon state university\\postdoc\\pymme\\mybarometers\\thermobar_outer\\src\\Thermobar\\amphibole.py:229: UserWarning: You must enter a value for T in Kelvin to get results from equation3 and 5 from Zhang, and SiO2 from Putrka (2016)\n",
      "  w.warn('You must enter a value for T in Kelvin to get results from equation3 and 5 from Zhang, and SiO2 from Putrka (2016)')\n"
     ]
    }
   ],
   "source": [
    "Amp_Chem=pt.calculate_amp_only_melt_comps(amp_comps=MSH_Amp_filt)"
   ]
  },
  {
   "cell_type": "code",
   "execution_count": 22,
   "id": "01277fd4-71d1-422f-99eb-84d72c944eb7",
   "metadata": {},
   "outputs": [
    {
     "data": {
      "text/plain": [
       "[<matplotlib.lines.Line2D at 0x24bf6345c70>]"
      ]
     },
     "execution_count": 22,
     "metadata": {},
     "output_type": "execute_result"
    },
    {
     "data": {
      "image/png": "[encoded data removed]",
      "text/plain": [
       "<Figure size 720x360 with 2 Axes>"
      ]
     },
     "metadata": {
      "needs_background": "light"
     },
     "output_type": "display_data"
    }
   ],
   "source": [
    "fig, (ax1, ax2) = plt.subplots(1, 2, figsize=(10,5), sharey=True)\n",
    "ax1.plot(\n",
    "         Amp_Chem['MgO_Eq9_Zhang17'],\n",
    "    MSH_Amp_Press_NoFilter['P_kbar_calc'], 'ok')\n",
    "ax1.set_xlabel('Calculated MgO Zhang')\n",
    "ax1.set_ylabel('Calcated P Ridolfi 21')\n",
    "\n",
    "ax2.set_xlabel('Calculated SiO2 Zhang')\n",
    "ax2.set_ylabel('Calcated P Ridolfi 21')\n",
    "\n",
    "ax2.plot(\n",
    "         Amp_Chem['SiO2_Eq1_Zhang17'],\n",
    "    MSH_Amp_Press_NoFilter['P_kbar_calc'], 'ok')"
   ]
  },
  {
   "cell_type": "code",
   "execution_count": 23,
   "id": "af627d8c-c0dc-4fd5-8035-42f3c77dcb2c",
   "metadata": {},
   "outputs": [],
   "source": [
    "#None Filtered\n",
    "MSH_Amp_Press_All=MSH_Amp_Press_NoFilter.copy()\n",
    "MSH_Amp_Press_All['Preferred_P']=MSH_Amp_Press_All['P_kbar_calc']\n",
    "MSH_Amp_Press_All['Model']=\"Ridolfi not filtered\"\n",
    "MSH_Amp_Press_All['Sample_ID_Amp']=\"MSH\"\n",
    "\n",
    "MSH_Amp_Press_Filt=MSH_Amp_Press_Filter.copy()\n",
    "MSH_Amp_Press_Filt['Preferred_P']=MSH_Amp_Press_Filt['P_kbar_calc']\n",
    "MSH_Amp_Press_Filt['Model']=\"Ridolfi filtered\"\n",
    "MSH_Amp_Press_Filt['Sample_ID_Amp']=\"MSH\"\n",
    "\n",
    "Combo_Amp=pd.concat([MSH_Amp_Press_All, MSH_Amp_Press_Filt], axis=0)"
   ]
  },
  {
   "cell_type": "code",
   "execution_count": 24,
   "id": "623490b2-513e-42b3-863e-992d9f028fc5",
   "metadata": {},
   "outputs": [],
   "source": [
    "Combo_Amp.to_pickle(\"Amp_MSH.pkl\")"
   ]
  },
  {
   "cell_type": "code",
   "execution_count": 25,
   "id": "e51f0090-05a8-4854-a7bc-0a89b349ba07",
   "metadata": {},
   "outputs": [
    {
     "data": {
      "text/plain": [
       "0      MSH\n",
       "1      MSH\n",
       "2      MSH\n",
       "3      MSH\n",
       "4      MSH\n",
       "      ... \n",
       "988    MSH\n",
       "989    MSH\n",
       "990    MSH\n",
       "991    MSH\n",
       "992    MSH\n",
       "Name: Sample_ID_Amp, Length: 993, dtype: object"
      ]
     },
     "execution_count": 25,
     "metadata": {},
     "output_type": "execute_result"
    }
   ],
   "source": [
    "MSH_Amp_Press_All['Sample_ID_Amp']"
   ]
  },
  {
   "cell_type": "code",
   "execution_count": null,
   "id": "d9be12c5-5bc3-42c5-a28e-0d4fe1e8da1d",
   "metadata": {},
   "outputs": [],
   "source": [
    "import seaborn as sns\n",
    "fig, (ax1) = plt.subplots(1, 1, figsize=(2.5,4), sharey=True)\n",
    "ax2 = ax1.twinx()\n",
    "\n",
    "volc_order=['' 'MSH']\n",
    "sns.violinplot(x=\"Sample_ID_Amp\", y=\"Preferred_P\",  cut=0, \n",
    "               linewidth=1,hue=\"Model\", inner=None,\n",
    "            data=Combo_Amp, split=True, ax=ax1, width=0.9, order=volc_order, stick=True\n",
    "              , palette=['lightgreen', 'grey'])\n",
    "\n",
    "# ax1.plot(-0.1+0*Combo_Amp['Preferred_P'].loc[(Combo_Amp['Model']==\"Ridolfi not filtered\")\n",
    "#                                         &(Combo_Amp[\"Sample_ID_Cpx\"]==\"MSH\")],\n",
    "#       Combo_Amp['Preferred_P'].loc[(Combo_Amp['Model']==\"Ridolfi not filtered\")\n",
    "#                                         &(Combo_Amp[\"Sample_ID_Cpx\"]==\"MSH\")],  \n",
    "#          'xb')\n",
    "\n",
    "# ax1.plot(0.1+0*Combo_Amp['Preferred_P'].loc[(Combo_Amp['Model']==\"Ridolfi filtered\")\n",
    "#                                         &(Combo_Amp[\"Sample_ID_Cpx\"]==\"MSH\")],\n",
    "#       Combo_Amp['Preferred_P'].loc[(Combo_Amp['Model']==\"Ridolfi filtered\")\n",
    "#                                         &(Combo_Amp[\"Sample_ID_Cpx\"]==\"MSH\")],  \n",
    "#          'xr')\n",
    "\n",
    "# ax1.plot(-0.1,\n",
    "#       np.nanmedian(Combo_Amp['Preferred_P'].loc[(Combo_Amp['Model']==\"Ridolfi not filtered\")\n",
    "#                                         &(Combo_Amp[\"Sample_ID_Cpx\"]==\"MSH\")]),  \n",
    "#          '*k', mfc='w', ms=20)\n",
    "\n",
    "# ax1.plot(0.1,\n",
    "#       np.nanmedian(Combo_Amp['Preferred_P'].loc[(Combo_Amp['Model']==\"Ridolfi filtered\")\n",
    "#                                         &(Combo_Amp[\"Sample_ID_Cpx\"]==\"MSH\")]),  \n",
    "#          '*k', mfc='w', ms=20)\n",
    "\n",
    "ax1.plot(-0.1+0*Combo_Amp['Preferred_P'].loc[(Combo_Amp['Model']==\"Ridolfi not filtered\")\n",
    "                                        &(Combo_Amp[\"Sample_ID_Amp\"]==\"MSH\")],\n",
    "      Combo_Amp['Preferred_P'].loc[(Combo_Amp['Model']==\"Ridolfi not filtered\")\n",
    "                                        &(Combo_Amp[\"Sample_ID_Amp\"]==\"MSH\")],  \n",
    "         'x', mec='green')\n",
    "\n",
    "ax1.plot(0.1+0*Combo_Amp['Preferred_P'].loc[(Combo_Amp['Model']==\"Ridolfi filtered\")\n",
    "                                        &(Combo_Amp[\"Sample_ID_Amp\"]==\"MSH\")],\n",
    "      Combo_Amp['Preferred_P'].loc[(Combo_Amp['Model']==\"Ridolfi filtered\")\n",
    "                                        &(Combo_Amp[\"Sample_ID_Amp\"]==\"MSH\")],  \n",
    "         'x', mec='k')\n",
    "\n",
    "ax1.plot(-0.1,\n",
    "      np.nanmedian(Combo_Amp['Preferred_P'].loc[(Combo_Amp['Model']==\"Ridolfi not filtered\")\n",
    "                                        &(Combo_Amp[\"Sample_ID_Amp\"]==\"MSH\")]),  \n",
    "         '*k', mfc='w', ms=20)\n",
    "\n",
    "ax1.plot(0.1,\n",
    "      np.nanmedian(Combo_Amp['Preferred_P'].loc[(Combo_Amp['Model']==\"Ridolfi filtered\")\n",
    "                                        &(Combo_Amp[\"Sample_ID_Amp\"]==\"MSH\")]),  \n",
    "         '*k', mfc='w', ms=20)\n",
    "\n",
    "ax1.plot([-1, 5], [0, 0], '-k', lw=0.5)\n",
    "ax1.set_ylim([P_axis_max, P_axis_min])\n",
    "ax2.set_ylim([D_axis_max, D_axis_min])\n",
    "ax1.set_xlim([-0.5, 0.5])\n",
    "ax1.get_legend().remove()\n",
    "ax1.set_xlabel(None)\n",
    "ax1.set_ylabel(None)\n",
    "\n",
    "ax1.tick_params(direction=\"in\")\n",
    "ax2.tick_params(direction=\"in\")\n",
    "ax2.set_yticks([])\n",
    "ax1.set_xticks([])\n",
    "ax1.grid(color = 'k', linestyle = '--', axis='y',linewidth = 1, alpha = 0.1, zorder=0)\n",
    "\n",
    "\n",
    "fig.savefig('MSH_Amp.png', dpi=200)\n",
    "\n"
   ]
  },
  {
   "cell_type": "code",
   "execution_count": null,
   "id": "58a4756b-4dbb-4964-950a-bda2b1c59643",
   "metadata": {},
   "outputs": [],
   "source": [
    "MSH_Amp_Press_Filter"
   ]
  },
  {
   "cell_type": "code",
   "execution_count": null,
   "id": "81a10478-4082-410e-b5b3-daf024b3db52",
   "metadata": {},
   "outputs": [],
   "source": [
    "plt.plot(1.1,\n",
    "      np.nanmedian(Combo_Amp['Preferred_P'].loc[(Combo_Amp['Model']==\"Ridolfi filtered\")\n",
    "                                        &(Combo_Amp[\"Sample_ID_Amp\"]==\"MSH\")]),  \n",
    "         '*k', mfc='w', ms=20)"
   ]
  },
  {
   "cell_type": "code",
   "execution_count": null,
   "id": "94bfe1b8-4f99-4503-88a4-1c712c542bda",
   "metadata": {},
   "outputs": [],
   "source": [
    "Combo_Amp[\"Sample_ID_Amp\"]"
   ]
  },
  {
   "cell_type": "code",
   "execution_count": null,
   "id": "4759be25-6b15-45af-9281-f5e8ae9fe912",
   "metadata": {},
   "outputs": [],
   "source": [
    "Combo_Amp['Preferred_P'].loc[(Combo_Amp['Model']==\"Ridolfi filtered\")\n",
    "                                        &(Combo_Amp[\"Sample_ID_Amp\"]==\"MSH\")]"
   ]
  },
  {
   "cell_type": "code",
   "execution_count": null,
   "id": "de72aa5c-02a5-45df-b79d-202d25d2b679",
   "metadata": {},
   "outputs": [],
   "source": []
  }
 ],
 "metadata": {
  "kernelspec": {
   "display_name": "Python 3 (ipykernel)",
   "language": "python",
   "name": "python3"
  },
  "language_info": {
   "codemirror_mode": {
    "name": "ipython",
    "version": 3
   },
   "file_extension": ".py",
   "mimetype": "text/x-python",
   "name": "python",
   "nbconvert_exporter": "python",
   "pygments_lexer": "ipython3",
   "version": "3.9.13"
  }
 },
 "nbformat": 4,
 "nbformat_minor": 5
}
