{
 "cells": [
  {
   "cell_type": "code",
   "execution_count": 1,
   "id": "274ece59-897a-40c2-8f2b-ab22b6389698",
   "metadata": {},
   "outputs": [],
   "source": [
    "import numpy as np\n",
    "import pandas as pd\n",
    "import matplotlib.pyplot as plt"
   ]
  },
  {
   "cell_type": "code",
   "execution_count": 2,
   "id": "e3938840-336c-430d-9657-0bb611c9450d",
   "metadata": {},
   "outputs": [
    {
     "name": "stdout",
     "output_type": "stream",
     "text": [
      "temp for 2005\n",
      "9\n",
      "temp for 1980\n",
      "17\n"
     ]
    }
   ],
   "source": [
    "df=pd.read_excel(r'../Cascade_Seismic_Stations.xlsx', sheet_name='MSH')\n",
    "df_s=df.sort_values('Start Yr', ascending=True)\n",
    "df_tt=df_s.loc[df_s['Latitude']>0].reset_index(drop=True)\n",
    "df_tt['Name_No_Temp']=df_tt['Name']\n",
    "\n",
    "# Lets filter df_t as anything which lasted more than a year, not between 2005 and 1980\n",
    "df_tt['Duration']=df_tt['End Yr']-df_tt['Start Yr']\n",
    "temp_2005=(df_tt['Start Yr'].between(2004, 2005)) & (df_tt['Duration']<4)\n",
    "temp_1980=(df_tt['Start Yr'].between(1979, 1985)) & (df_tt['Duration']<4)\n",
    "print('temp for 2005')\n",
    "print(sum(temp_2005))\n",
    "print('temp for 1980')\n",
    "print(sum(temp_1980))\n",
    "temp_1980\n",
    "\n",
    "df_t=df_tt.loc[~(temp_2005|temp_1980)].reset_index(drop=True)\n",
    "df_t2005=df_tt.loc[(temp_2005)]\n",
    "df_t1980=df_tt.loc[(temp_1980)]"
   ]
  },
  {
   "cell_type": "code",
   "execution_count": 31,
   "id": "92217f9b-0595-4292-99fd-1fb70b2c7500",
   "metadata": {},
   "outputs": [
    {
     "data": {
      "text/plain": [
       "53"
      ]
     },
     "execution_count": 31,
     "metadata": {},
     "output_type": "execute_result"
    }
   ],
   "source": [
    "len(df_tt)-len(df_t2005)-len(df_t1980)"
   ]
  },
  {
   "cell_type": "code",
   "execution_count": 32,
   "id": "998c13b1-2ebd-4608-bfb5-905c38a001d8",
   "metadata": {},
   "outputs": [
    {
     "data": {
      "text/plain": [
       "53"
      ]
     },
     "execution_count": 32,
     "metadata": {},
     "output_type": "execute_result"
    }
   ],
   "source": [
    "len(df_t)"
   ]
  },
  {
   "cell_type": "code",
   "execution_count": 3,
   "id": "bf3075af-3121-4974-9a34-7ee3cf09035c",
   "metadata": {},
   "outputs": [
    {
     "data": {
      "text/html": [
       "<div>\n",
       "<style scoped>\n",
       "    .dataframe tbody tr th:only-of-type {\n",
       "        vertical-align: middle;\n",
       "    }\n",
       "\n",
       "    .dataframe tbody tr th {\n",
       "        vertical-align: top;\n",
       "    }\n",
       "\n",
       "    .dataframe thead th {\n",
       "        text-align: right;\n",
       "    }\n",
       "</style>\n",
       "<table border=\"1\" class=\"dataframe\">\n",
       "  <thead>\n",
       "    <tr style=\"text-align: right;\">\n",
       "      <th></th>\n",
       "      <th>Network</th>\n",
       "      <th>Name</th>\n",
       "      <th>Latitude</th>\n",
       "      <th>Longitude</th>\n",
       "      <th>Start Date</th>\n",
       "      <th>End Date</th>\n",
       "      <th>Start Yr</th>\n",
       "      <th>End Yr</th>\n",
       "      <th>Classification: 1sp, 3sp, 3bb</th>\n",
       "      <th>Name_No_Temp</th>\n",
       "      <th>Duration</th>\n",
       "    </tr>\n",
       "  </thead>\n",
       "  <tbody>\n",
       "    <tr>\n",
       "      <th>0</th>\n",
       "      <td>UW</td>\n",
       "      <td>SHW</td>\n",
       "      <td>46.193640</td>\n",
       "      <td>-122.234920</td>\n",
       "      <td>1972-10-01</td>\n",
       "      <td>2599-12-31 00:00:00</td>\n",
       "      <td>1972.0</td>\n",
       "      <td>2599.0</td>\n",
       "      <td>1sp</td>\n",
       "      <td>SHW</td>\n",
       "      <td>627.0</td>\n",
       "    </tr>\n",
       "    <tr>\n",
       "      <th>1</th>\n",
       "      <td>UW</td>\n",
       "      <td>MTM</td>\n",
       "      <td>46.025330</td>\n",
       "      <td>-122.212868</td>\n",
       "      <td>1980-03-27</td>\n",
       "      <td>2599-12-31 00:00:00</td>\n",
       "      <td>1980.0</td>\n",
       "      <td>2599.0</td>\n",
       "      <td>1sp</td>\n",
       "      <td>MTM</td>\n",
       "      <td>619.0</td>\n",
       "    </tr>\n",
       "    <tr>\n",
       "      <th>2</th>\n",
       "      <td>UW</td>\n",
       "      <td>JUN</td>\n",
       "      <td>46.147060</td>\n",
       "      <td>-122.152428</td>\n",
       "      <td>1980-05-08</td>\n",
       "      <td>2599-12-31 00:00:00</td>\n",
       "      <td>1980.0</td>\n",
       "      <td>2599.0</td>\n",
       "      <td>1sp</td>\n",
       "      <td>JUN</td>\n",
       "      <td>619.0</td>\n",
       "    </tr>\n",
       "    <tr>\n",
       "      <th>3</th>\n",
       "      <td>UW</td>\n",
       "      <td>FLT</td>\n",
       "      <td>46.189079</td>\n",
       "      <td>-122.357460</td>\n",
       "      <td>1980-12-01</td>\n",
       "      <td>1984-08-03 00:00:00</td>\n",
       "      <td>1980.0</td>\n",
       "      <td>1984.0</td>\n",
       "      <td>1sp</td>\n",
       "      <td>FLT</td>\n",
       "      <td>4.0</td>\n",
       "    </tr>\n",
       "    <tr>\n",
       "      <th>4</th>\n",
       "      <td>UW</td>\n",
       "      <td>ELK</td>\n",
       "      <td>46.305389</td>\n",
       "      <td>-122.342049</td>\n",
       "      <td>1980-05-16</td>\n",
       "      <td>2599-12-31 00:00:00</td>\n",
       "      <td>1980.0</td>\n",
       "      <td>2599.0</td>\n",
       "      <td>1sp</td>\n",
       "      <td>ELK</td>\n",
       "      <td>619.0</td>\n",
       "    </tr>\n",
       "    <tr>\n",
       "      <th>5</th>\n",
       "      <td>UW</td>\n",
       "      <td>SOS</td>\n",
       "      <td>46.243858</td>\n",
       "      <td>-122.137871</td>\n",
       "      <td>1980-05-16</td>\n",
       "      <td>2599-12-31 00:00:00</td>\n",
       "      <td>1980.0</td>\n",
       "      <td>2599.0</td>\n",
       "      <td>1sp</td>\n",
       "      <td>SOS</td>\n",
       "      <td>619.0</td>\n",
       "    </tr>\n",
       "    <tr>\n",
       "      <th>6</th>\n",
       "      <td>UW</td>\n",
       "      <td>CDF</td>\n",
       "      <td>46.116890</td>\n",
       "      <td>-122.046227</td>\n",
       "      <td>1980-03-29</td>\n",
       "      <td>2599-12-31 00:00:00</td>\n",
       "      <td>1980.0</td>\n",
       "      <td>2599.0</td>\n",
       "      <td>1sp</td>\n",
       "      <td>CDF</td>\n",
       "      <td>619.0</td>\n",
       "    </tr>\n",
       "    <tr>\n",
       "      <th>7</th>\n",
       "      <td>UW</td>\n",
       "      <td>EDM</td>\n",
       "      <td>46.197170</td>\n",
       "      <td>-122.151210</td>\n",
       "      <td>1980-06-01</td>\n",
       "      <td>2599-12-31 00:00:00</td>\n",
       "      <td>1980.0</td>\n",
       "      <td>2599.0</td>\n",
       "      <td>1sp</td>\n",
       "      <td>EDM</td>\n",
       "      <td>619.0</td>\n",
       "    </tr>\n",
       "    <tr>\n",
       "      <th>8</th>\n",
       "      <td>UW</td>\n",
       "      <td>YEL</td>\n",
       "      <td>46.209549</td>\n",
       "      <td>-122.188988</td>\n",
       "      <td>1981-10-01</td>\n",
       "      <td>2007-09-18 00:00:00</td>\n",
       "      <td>1981.0</td>\n",
       "      <td>2007.0</td>\n",
       "      <td>1sp</td>\n",
       "      <td>YEL</td>\n",
       "      <td>26.0</td>\n",
       "    </tr>\n",
       "    <tr>\n",
       "      <th>9</th>\n",
       "      <td>UW</td>\n",
       "      <td>SUG</td>\n",
       "      <td>46.215549</td>\n",
       "      <td>-122.176262</td>\n",
       "      <td>1981-08-23</td>\n",
       "      <td>2009-08-07 00:00:00</td>\n",
       "      <td>1981.0</td>\n",
       "      <td>2009.0</td>\n",
       "      <td>1sp</td>\n",
       "      <td>SUG</td>\n",
       "      <td>28.0</td>\n",
       "    </tr>\n",
       "  </tbody>\n",
       "</table>\n",
       "</div>"
      ],
      "text/plain": [
       "  Network Name   Latitude   Longitude Start Date             End Date  \\\n",
       "0      UW  SHW  46.193640 -122.234920 1972-10-01  2599-12-31 00:00:00   \n",
       "1      UW  MTM  46.025330 -122.212868 1980-03-27  2599-12-31 00:00:00   \n",
       "2      UW  JUN  46.147060 -122.152428 1980-05-08  2599-12-31 00:00:00   \n",
       "3      UW  FLT  46.189079 -122.357460 1980-12-01  1984-08-03 00:00:00   \n",
       "4      UW  ELK  46.305389 -122.342049 1980-05-16  2599-12-31 00:00:00   \n",
       "5      UW  SOS  46.243858 -122.137871 1980-05-16  2599-12-31 00:00:00   \n",
       "6      UW  CDF  46.116890 -122.046227 1980-03-29  2599-12-31 00:00:00   \n",
       "7      UW  EDM  46.197170 -122.151210 1980-06-01  2599-12-31 00:00:00   \n",
       "8      UW  YEL  46.209549 -122.188988 1981-10-01  2007-09-18 00:00:00   \n",
       "9      UW  SUG  46.215549 -122.176262 1981-08-23  2009-08-07 00:00:00   \n",
       "\n",
       "   Start Yr  End Yr Classification: 1sp, 3sp, 3bb  Name_No_Temp  Duration  \n",
       "0    1972.0  2599.0                            1sp          SHW     627.0  \n",
       "1    1980.0  2599.0                            1sp          MTM     619.0  \n",
       "2    1980.0  2599.0                            1sp          JUN     619.0  \n",
       "3    1980.0  1984.0                            1sp          FLT       4.0  \n",
       "4    1980.0  2599.0                            1sp          ELK     619.0  \n",
       "5    1980.0  2599.0                            1sp          SOS     619.0  \n",
       "6    1980.0  2599.0                            1sp          CDF     619.0  \n",
       "7    1980.0  2599.0                            1sp          EDM     619.0  \n",
       "8    1981.0  2007.0                            1sp          YEL      26.0  \n",
       "9    1981.0  2009.0                            1sp          SUG      28.0  "
      ]
     },
     "execution_count": 3,
     "metadata": {},
     "output_type": "execute_result"
    }
   ],
   "source": [
    "df_t.iloc[0:10]"
   ]
  },
  {
   "cell_type": "code",
   "execution_count": 4,
   "id": "47e5761a-675e-4d88-bb26-2f0f860056dc",
   "metadata": {},
   "outputs": [
    {
     "data": {
      "text/plain": [
       "array(['3sp', '1sp'], dtype=object)"
      ]
     },
     "execution_count": 4,
     "metadata": {},
     "output_type": "execute_result"
    }
   ],
   "source": [
    "df_t1980['Classification: 1sp, 3sp, 3bb '].unique()"
   ]
  },
  {
   "cell_type": "code",
   "execution_count": 5,
   "id": "192f954a-b4f0-475a-b94e-b3679f0b6de3",
   "metadata": {},
   "outputs": [
    {
     "data": {
      "text/html": [
       "<div>\n",
       "<style scoped>\n",
       "    .dataframe tbody tr th:only-of-type {\n",
       "        vertical-align: middle;\n",
       "    }\n",
       "\n",
       "    .dataframe tbody tr th {\n",
       "        vertical-align: top;\n",
       "    }\n",
       "\n",
       "    .dataframe thead th {\n",
       "        text-align: right;\n",
       "    }\n",
       "</style>\n",
       "<table border=\"1\" class=\"dataframe\">\n",
       "  <thead>\n",
       "    <tr style=\"text-align: right;\">\n",
       "      <th></th>\n",
       "      <th>Network</th>\n",
       "      <th>Name</th>\n",
       "      <th>Latitude</th>\n",
       "      <th>Longitude</th>\n",
       "      <th>Start Date</th>\n",
       "      <th>End Date</th>\n",
       "      <th>Start Yr</th>\n",
       "      <th>End Yr</th>\n",
       "      <th>Classification: 1sp, 3sp, 3bb</th>\n",
       "      <th>Name_No_Temp</th>\n",
       "      <th>Duration</th>\n",
       "    </tr>\n",
       "  </thead>\n",
       "  <tbody>\n",
       "    <tr>\n",
       "      <th>38</th>\n",
       "      <td>CC</td>\n",
       "      <td>BLIS</td>\n",
       "      <td>46.197472</td>\n",
       "      <td>-122.186569</td>\n",
       "      <td>2004-10-12</td>\n",
       "      <td>2005-02-17 00:00:00</td>\n",
       "      <td>2004.0</td>\n",
       "      <td>2005.0</td>\n",
       "      <td>1sp</td>\n",
       "      <td>BLIS</td>\n",
       "      <td>1.0</td>\n",
       "    </tr>\n",
       "    <tr>\n",
       "      <th>40</th>\n",
       "      <td>CC</td>\n",
       "      <td>SEP</td>\n",
       "      <td>46.199780</td>\n",
       "      <td>-122.190857</td>\n",
       "      <td>2004-11-05</td>\n",
       "      <td>2019-07-25 00:00:00</td>\n",
       "      <td>2004.0</td>\n",
       "      <td>2005.0</td>\n",
       "      <td>3sp</td>\n",
       "      <td>SEP</td>\n",
       "      <td>1.0</td>\n",
       "    </tr>\n",
       "    <tr>\n",
       "      <th>41</th>\n",
       "      <td>CC</td>\n",
       "      <td>AHAB</td>\n",
       "      <td>46.194790</td>\n",
       "      <td>-122.187027</td>\n",
       "      <td>2005-02-08</td>\n",
       "      <td>2005-02-17 00:00:00</td>\n",
       "      <td>2005.0</td>\n",
       "      <td>2005.0</td>\n",
       "      <td>1sp</td>\n",
       "      <td>AHAB</td>\n",
       "      <td>0.0</td>\n",
       "    </tr>\n",
       "    <tr>\n",
       "      <th>42</th>\n",
       "      <td>CC</td>\n",
       "      <td>MIBL</td>\n",
       "      <td>46.197319</td>\n",
       "      <td>-122.186913</td>\n",
       "      <td>2005-11-18</td>\n",
       "      <td>2007-12-31 00:00:00</td>\n",
       "      <td>2005.0</td>\n",
       "      <td>2007.0</td>\n",
       "      <td>1sp</td>\n",
       "      <td>MIBL</td>\n",
       "      <td>2.0</td>\n",
       "    </tr>\n",
       "    <tr>\n",
       "      <th>43</th>\n",
       "      <td>CC</td>\n",
       "      <td>MIDE</td>\n",
       "      <td>46.197750</td>\n",
       "      <td>-122.187439</td>\n",
       "      <td>2005-02-16</td>\n",
       "      <td>2005-07-26 00:00:00</td>\n",
       "      <td>2005.0</td>\n",
       "      <td>2005.0</td>\n",
       "      <td>1sp</td>\n",
       "      <td>MIDE</td>\n",
       "      <td>0.0</td>\n",
       "    </tr>\n",
       "    <tr>\n",
       "      <th>44</th>\n",
       "      <td>CC</td>\n",
       "      <td>RAFT</td>\n",
       "      <td>46.195679</td>\n",
       "      <td>-122.186317</td>\n",
       "      <td>2005-07-28</td>\n",
       "      <td>2007-12-31 00:00:00</td>\n",
       "      <td>2005.0</td>\n",
       "      <td>2007.0</td>\n",
       "      <td>1sp</td>\n",
       "      <td>RAFT</td>\n",
       "      <td>2.0</td>\n",
       "    </tr>\n",
       "    <tr>\n",
       "      <th>45</th>\n",
       "      <td>CC</td>\n",
       "      <td>WESG</td>\n",
       "      <td>46.195831</td>\n",
       "      <td>-122.193748</td>\n",
       "      <td>2005-07-12</td>\n",
       "      <td>2005-09-14 00:00:00</td>\n",
       "      <td>2005.0</td>\n",
       "      <td>2005.0</td>\n",
       "      <td>1sp</td>\n",
       "      <td>WESG</td>\n",
       "      <td>0.0</td>\n",
       "    </tr>\n",
       "    <tr>\n",
       "      <th>46</th>\n",
       "      <td>CC</td>\n",
       "      <td>SEND</td>\n",
       "      <td>46.193501</td>\n",
       "      <td>-122.185432</td>\n",
       "      <td>2005-06-30</td>\n",
       "      <td>2005-11-17 00:00:00</td>\n",
       "      <td>2005.0</td>\n",
       "      <td>2005.0</td>\n",
       "      <td>1sp</td>\n",
       "      <td>SEND</td>\n",
       "      <td>0.0</td>\n",
       "    </tr>\n",
       "    <tr>\n",
       "      <th>47</th>\n",
       "      <td>CC</td>\n",
       "      <td>SEP</td>\n",
       "      <td>46.199780</td>\n",
       "      <td>-122.190857</td>\n",
       "      <td>2005-03-15</td>\n",
       "      <td>2006-02-24 00:00:00</td>\n",
       "      <td>2005.0</td>\n",
       "      <td>2006.0</td>\n",
       "      <td>1sp</td>\n",
       "      <td>SEP</td>\n",
       "      <td>1.0</td>\n",
       "    </tr>\n",
       "  </tbody>\n",
       "</table>\n",
       "</div>"
      ],
      "text/plain": [
       "   Network  Name   Latitude   Longitude Start Date             End Date  \\\n",
       "38      CC  BLIS  46.197472 -122.186569 2004-10-12  2005-02-17 00:00:00   \n",
       "40      CC   SEP  46.199780 -122.190857 2004-11-05  2019-07-25 00:00:00   \n",
       "41      CC  AHAB  46.194790 -122.187027 2005-02-08  2005-02-17 00:00:00   \n",
       "42      CC  MIBL  46.197319 -122.186913 2005-11-18  2007-12-31 00:00:00   \n",
       "43      CC  MIDE  46.197750 -122.187439 2005-02-16  2005-07-26 00:00:00   \n",
       "44      CC  RAFT  46.195679 -122.186317 2005-07-28  2007-12-31 00:00:00   \n",
       "45      CC  WESG  46.195831 -122.193748 2005-07-12  2005-09-14 00:00:00   \n",
       "46      CC  SEND  46.193501 -122.185432 2005-06-30  2005-11-17 00:00:00   \n",
       "47      CC   SEP  46.199780 -122.190857 2005-03-15  2006-02-24 00:00:00   \n",
       "\n",
       "    Start Yr  End Yr Classification: 1sp, 3sp, 3bb  Name_No_Temp  Duration  \n",
       "38    2004.0  2005.0                            1sp         BLIS       1.0  \n",
       "40    2004.0  2005.0                            3sp          SEP       1.0  \n",
       "41    2005.0  2005.0                            1sp         AHAB       0.0  \n",
       "42    2005.0  2007.0                            1sp         MIBL       2.0  \n",
       "43    2005.0  2005.0                            1sp         MIDE       0.0  \n",
       "44    2005.0  2007.0                            1sp         RAFT       2.0  \n",
       "45    2005.0  2005.0                            1sp         WESG       0.0  \n",
       "46    2005.0  2005.0                            1sp         SEND       0.0  \n",
       "47    2005.0  2006.0                            1sp          SEP       1.0  "
      ]
     },
     "execution_count": 5,
     "metadata": {},
     "output_type": "execute_result"
    }
   ],
   "source": [
    "df_t2005"
   ]
  },
  {
   "cell_type": "code",
   "execution_count": 6,
   "id": "e2b209ac-c87e-4382-9da8-a478eac94c2d",
   "metadata": {},
   "outputs": [],
   "source": [
    "sp1_p=(df_t['Classification: 1sp, 3sp, 3bb ']==\"1sp\") & (df_t['End Yr']>=2022)\n",
    "bb3_p=(df_t['Classification: 1sp, 3sp, 3bb ']==\"3bb\")  & (df_t['End Yr']>=2022)\n",
    "sp3_p=(df_t['Classification: 1sp, 3sp, 3bb ']==\"3sp\")& (df_t['End Yr']>=2022)\n",
    "if_p=(df_t['Classification: 1sp, 3sp, 3bb ']==\"IS\")& (df_t['End Yr']>=2022)\n",
    "\n",
    "sp1_r=(df_t['Classification: 1sp, 3sp, 3bb ']==\"1sp\") & (df_t['End Yr']<2022)\n",
    "bb3_r=(df_t['Classification: 1sp, 3sp, 3bb ']==\"3bb\")  & (df_t['End Yr']<2022)\n",
    "sp3_r=(df_t['Classification: 1sp, 3sp, 3bb ']==\"3sp\")& (df_t['End Yr']<2022)\n",
    "if_r=(df_t['Classification: 1sp, 3sp, 3bb ']==\"IS\")& (df_t['End Yr']<2022)"
   ]
  },
  {
   "cell_type": "code",
   "execution_count": 7,
   "id": "d3591cf9-2a2f-4e34-a677-c4a0ebf4102c",
   "metadata": {},
   "outputs": [
    {
     "data": {
      "text/html": [
       "<div>\n",
       "<style scoped>\n",
       "    .dataframe tbody tr th:only-of-type {\n",
       "        vertical-align: middle;\n",
       "    }\n",
       "\n",
       "    .dataframe tbody tr th {\n",
       "        vertical-align: top;\n",
       "    }\n",
       "\n",
       "    .dataframe thead th {\n",
       "        text-align: right;\n",
       "    }\n",
       "</style>\n",
       "<table border=\"1\" class=\"dataframe\">\n",
       "  <thead>\n",
       "    <tr style=\"text-align: right;\">\n",
       "      <th></th>\n",
       "      <th>Network</th>\n",
       "      <th>Name</th>\n",
       "      <th>Latitude</th>\n",
       "      <th>Longitude</th>\n",
       "      <th>Start Date</th>\n",
       "      <th>End Date</th>\n",
       "      <th>Start Yr</th>\n",
       "      <th>End Yr</th>\n",
       "      <th>Classification: 1sp, 3sp, 3bb</th>\n",
       "      <th>Name_No_Temp</th>\n",
       "      <th>Duration</th>\n",
       "    </tr>\n",
       "  </thead>\n",
       "  <tbody>\n",
       "    <tr>\n",
       "      <th>25</th>\n",
       "      <td>PB</td>\n",
       "      <td>B201</td>\n",
       "      <td>46.303300</td>\n",
       "      <td>-122.264800</td>\n",
       "      <td>2007-09-13</td>\n",
       "      <td>3000-01-01 00:00:00</td>\n",
       "      <td>2007.0</td>\n",
       "      <td>3000.0</td>\n",
       "      <td>3sp</td>\n",
       "      <td>B201</td>\n",
       "      <td>993.0</td>\n",
       "    </tr>\n",
       "    <tr>\n",
       "      <th>27</th>\n",
       "      <td>PB</td>\n",
       "      <td>B204</td>\n",
       "      <td>46.136000</td>\n",
       "      <td>-122.169000</td>\n",
       "      <td>2007-08-01</td>\n",
       "      <td>3000-01-01 00:00:00</td>\n",
       "      <td>2007.0</td>\n",
       "      <td>3000.0</td>\n",
       "      <td>3sp</td>\n",
       "      <td>B204</td>\n",
       "      <td>993.0</td>\n",
       "    </tr>\n",
       "    <tr>\n",
       "      <th>28</th>\n",
       "      <td>PB</td>\n",
       "      <td>B203</td>\n",
       "      <td>46.169000</td>\n",
       "      <td>-122.333667</td>\n",
       "      <td>2007-07-19</td>\n",
       "      <td>3000-01-01 00:00:00</td>\n",
       "      <td>2007.0</td>\n",
       "      <td>3000.0</td>\n",
       "      <td>3sp</td>\n",
       "      <td>B203</td>\n",
       "      <td>993.0</td>\n",
       "    </tr>\n",
       "    <tr>\n",
       "      <th>29</th>\n",
       "      <td>PB</td>\n",
       "      <td>B203</td>\n",
       "      <td>46.168999</td>\n",
       "      <td>-122.333664</td>\n",
       "      <td>2007-07-18</td>\n",
       "      <td>2599-12-31 00:00:00</td>\n",
       "      <td>2007.0</td>\n",
       "      <td>2599.0</td>\n",
       "      <td>3sp</td>\n",
       "      <td>B203</td>\n",
       "      <td>592.0</td>\n",
       "    </tr>\n",
       "    <tr>\n",
       "      <th>30</th>\n",
       "      <td>PB</td>\n",
       "      <td>B202</td>\n",
       "      <td>46.244701</td>\n",
       "      <td>-122.136703</td>\n",
       "      <td>2007-07-25</td>\n",
       "      <td>3000-01-01 00:00:00</td>\n",
       "      <td>2007.0</td>\n",
       "      <td>3000.0</td>\n",
       "      <td>3sp</td>\n",
       "      <td>B202</td>\n",
       "      <td>993.0</td>\n",
       "    </tr>\n",
       "    <tr>\n",
       "      <th>31</th>\n",
       "      <td>PB</td>\n",
       "      <td>B201</td>\n",
       "      <td>46.303299</td>\n",
       "      <td>-122.264801</td>\n",
       "      <td>2007-09-12</td>\n",
       "      <td>2599-12-31 00:00:00</td>\n",
       "      <td>2007.0</td>\n",
       "      <td>2599.0</td>\n",
       "      <td>3sp</td>\n",
       "      <td>B201</td>\n",
       "      <td>592.0</td>\n",
       "    </tr>\n",
       "  </tbody>\n",
       "</table>\n",
       "</div>"
      ],
      "text/plain": [
       "   Network  Name   Latitude   Longitude Start Date             End Date  \\\n",
       "25      PB  B201  46.303300 -122.264800 2007-09-13  3000-01-01 00:00:00   \n",
       "27      PB  B204  46.136000 -122.169000 2007-08-01  3000-01-01 00:00:00   \n",
       "28      PB  B203  46.169000 -122.333667 2007-07-19  3000-01-01 00:00:00   \n",
       "29      PB  B203  46.168999 -122.333664 2007-07-18  2599-12-31 00:00:00   \n",
       "30      PB  B202  46.244701 -122.136703 2007-07-25  3000-01-01 00:00:00   \n",
       "31      PB  B201  46.303299 -122.264801 2007-09-12  2599-12-31 00:00:00   \n",
       "\n",
       "    Start Yr  End Yr Classification: 1sp, 3sp, 3bb  Name_No_Temp  Duration  \n",
       "25    2007.0  3000.0                            3sp         B201     993.0  \n",
       "27    2007.0  3000.0                            3sp         B204     993.0  \n",
       "28    2007.0  3000.0                            3sp         B203     993.0  \n",
       "29    2007.0  2599.0                            3sp         B203     592.0  \n",
       "30    2007.0  3000.0                            3sp         B202     993.0  \n",
       "31    2007.0  2599.0                            3sp         B201     592.0  "
      ]
     },
     "execution_count": 7,
     "metadata": {},
     "output_type": "execute_result"
    }
   ],
   "source": [
    "df_t.loc[sp3_p]"
   ]
  },
  {
   "cell_type": "markdown",
   "id": "7d421a0c-ef43-447c-b16f-0e5fe68842c8",
   "metadata": {},
   "source": [
    "## Loop for unique /name"
   ]
  },
  {
   "cell_type": "code",
   "execution_count": 34,
   "id": "157b1777-9f8b-49bd-9f85-9af411ddb52a",
   "metadata": {},
   "outputs": [
    {
     "name": "stderr",
     "output_type": "stream",
     "text": [
      "C:\\Users\\penny\\AppData\\Local\\Temp\\ipykernel_27448\\2928871037.py:72: UserWarning: FixedFormatter should only be used together with FixedLocator\n",
      "  ax1.set_yticklabels(name.tolist())#, rotation=90)\n"
     ]
    },
    {
     "data": {
      "image/png": "[encoded data removed]",
      "text/plain": [
       "<Figure size 396x230.4 with 1 Axes>"
      ]
     },
     "metadata": {
      "needs_background": "light"
     },
     "output_type": "display_data"
    }
   ],
   "source": [
    "\n",
    "fig, (ax1) = plt.subplots(1, 1, figsize=(10*0.55,3.2), sharey=True)\n",
    "\n",
    "# Loop for ones that lasted more than 3 years not around major eruptions. \n",
    "Unique_station=df_t['Name_No_Temp'].unique()\n",
    "i=0\n",
    "name=np.empty((len(Unique_station)),  np.dtype('U100'))\n",
    "for station in Unique_station:\n",
    "    #print(station)\n",
    "    name[i]=str(df_t['Name_No_Temp'].loc[df_t['Name_No_Temp']==station].iloc[0])\n",
    "    #print(station)\n",
    "    #print(df_t['Start Yr'].loc[df_t['Name_No_Temp']==station])\n",
    "    \n",
    "    if any(df_t['Classification: 1sp, 3sp, 3bb '].loc[df_t['Name_No_Temp']==station]==\"IS\"):\n",
    "        Stat_type_IS=((df_t['Name_No_Temp']==station)&(df_t['Classification: 1sp, 3sp, 3bb ']==\"IS\"))\n",
    "        ax1.plot([df_t['Start Yr'].loc[Stat_type_IS],\n",
    "                  df_t['End Yr'].loc[Stat_type_IS]], [i+0.15, i+0.15], '-', color='lightskyblue')\n",
    "        ax1.plot([df_t['End Yr'].loc[Stat_type_IS],\n",
    "                  df_t['End Yr'].loc[Stat_type_IS]], [i+0.15, i+0.15], 'sk', mec='lightskyblue',mfc='white', ms=8)\n",
    "        ax1.plot([df_t['Start Yr'].loc[Stat_type_IS],\n",
    "                  df_t['Start Yr'].loc[Stat_type_IS]], [i+0.1, i+0.15], 'ok', mfc='lightskyblue', ms=4)\n",
    "\n",
    "        \n",
    "    if any(df_t['Classification: 1sp, 3sp, 3bb '].loc[df_t['Name_No_Temp']==station]==\"1sp\"):\n",
    "        Stat_type_1sp=((df_t['Name_No_Temp']==station)&(df_t['Classification: 1sp, 3sp, 3bb ']==\"1sp\"))\n",
    "        ax1.plot([df_t['Start Yr'].loc[Stat_type_1sp],\n",
    "                  df_t['End Yr'].loc[Stat_type_1sp]], [i+0.15, i+0.15], '-r')\n",
    "        ax1.plot([df_t['End Yr'].loc[Stat_type_1sp],\n",
    "                  df_t['End Yr'].loc[Stat_type_1sp]], [i+0.15, i+0.15], 'sk', mec='red',mfc='white', ms=4)\n",
    "        ax1.plot([df_t['Start Yr'].loc[Stat_type_1sp],\n",
    "                  df_t['Start Yr'].loc[Stat_type_1sp]], [i+0.15, i+0.15], '^k', mfc='red', ms=9)\n",
    "\n",
    "    if any(df_t['Classification: 1sp, 3sp, 3bb '].loc[df_t['Name_No_Temp']==station]==\"3bb\"):\n",
    "        Stat_type_3bb=((df_t['Name_No_Temp']==station)\n",
    "                       &(df_t['Classification: 1sp, 3sp, 3bb ']==\"3bb\"))\n",
    "        ax1.plot([df_t['Start Yr'].loc[Stat_type_3bb],\n",
    "                  df_t['End Yr'].loc[Stat_type_3bb]], [i, i], '-y', linewidth=2)\n",
    "        ax1.plot([df_t['End Yr'].loc[Stat_type_3bb],\n",
    "                  df_t['End Yr'].loc[Stat_type_3bb]], [i, i], 'sk', mec='k', mfc='white', ms=4, zorder=1000)\n",
    "        ax1.plot([df_t['Start Yr'].loc[Stat_type_3bb],\n",
    "                  df_t['Start Yr'].loc[Stat_type_3bb]], [i, i],  '^k', mfc='yellow', ms=9)\n",
    "\n",
    "    if any(df_t['Classification: 1sp, 3sp, 3bb '].loc[df_t['Name_No_Temp']==station]==\"3sp\"):\n",
    "        Stat_type_3sp=((df_t['Name_No_Temp']==station)\n",
    "                       &(df_t['Classification: 1sp, 3sp, 3bb ']==\"3sp\"))\n",
    "        ax1.plot([df_t['Start Yr'].loc[Stat_type_3sp],\n",
    "                  df_t['End Yr'].loc[Stat_type_3sp]], [i-0.1, i-0.1], '-', color='grey', linewidth=2, zorder=100)\n",
    "        ax1.plot([df_t['End Yr'].loc[Stat_type_3sp],\n",
    "                  df_t['End Yr'].loc[Stat_type_3sp]], [i-0.1, i-0.1], 'sk', mfc='white', ms=4, zorder=100)\n",
    "        ax1.plot([df_t['Start Yr'].loc[Stat_type_3sp],\n",
    "                  df_t['Start Yr'].loc[Stat_type_3sp]], [i-0.1, i-0.1], '^k', mfc='grey', ms=7, zorder=100)\n",
    "        \n",
    "        # Now print the lines\n",
    "        \n",
    "    i=i+1\n",
    "\n",
    "#     if df_t['Classification: 1sp, 3sp, 3bb '].iloc[i]==\"3bb\":\n",
    "#         ax1.plot([df_t['Start Yr'].iloc[i],df_t['End Yr'].iloc[i]], [i, i], '-',\n",
    "#                  color='y', lw=2)\n",
    "#         ax1.plot([df_t['End Yr'].iloc[i],df_t['End Yr'].iloc[i]], [i, i], '*k', mfc='yellow', ms=12)\n",
    "        \n",
    "#     if df_t['Classification: 1sp, 3sp, 3bb '].iloc[i]==\"3sp\":\n",
    "#         ax1.plot([df_t['Start Yr'].iloc[i],df_t['End Yr'].iloc[i]], [i, i], '-',\n",
    "#                  color='grey', lw=2)\n",
    "#         ax1.plot([df_t['End Yr'].iloc[i],df_t['End Yr'].iloc[i]], [i, i], '*k', mfc='grey', ms=12)\n",
    "        \n",
    "        \n",
    "#     #ax1.plot([df_t['Start Yr'].iloc[i],df_t['Start Yr'].iloc[i]], [i, i], '^k', mfc='white')\n",
    "#     #ax1.plot([df_t['End Yr'].iloc[i],df_t['End Yr'].iloc[i]], [i, i], '*k', mfc='white', ms=8)\n",
    "ax1.set_xlim([1965, 2023])\n",
    "#     name[i]=str(df_t['Name'].iloc[i])\n",
    "#     #print(df_t['Name'].iloc[i])\n",
    "ax1.set_yticklabels(name.tolist())#, rotation=90)\n",
    "ticks_loc = ax1.get_yticks().tolist()\n",
    "tick_y=np.linspace(0, len(Unique_station)-1,  len(Unique_station)).tolist()\n",
    "ax1.set_yticks(tick_y)\n",
    "ax1.set_ylim([-1.5, 37])\n",
    "#print(name)\n",
    "ax1.set_yticklabels(name.tolist(), fontsize=7)\n",
    "\n",
    "for tick in ax1.yaxis.get_major_ticks()[1::2]:\n",
    "    tick.set_pad(1)\n",
    "for tick in ax1.yaxis.get_major_ticks()[0::2]:\n",
    "    tick.set_pad(-25)\n",
    "\n",
    "ax1.tick_params(length=5, direction=\"in\")\n",
    "plt.grid(color = 'k', linestyle = '--', linewidth = 1, axis='y', alpha = 0.1)\n",
    "fig.savefig('MSH_Seismic_Stations.png', dpi=300)"
   ]
  },
  {
   "cell_type": "code",
   "execution_count": 9,
   "id": "34f94107-faee-4478-a449-10cbe5cd6e25",
   "metadata": {},
   "outputs": [
    {
     "data": {
      "image/png": "[encoded data removed]",
      "text/plain": [
       "<Figure size 396x72 with 1 Axes>"
      ]
     },
     "metadata": {
      "needs_background": "light"
     },
     "output_type": "display_data"
    }
   ],
   "source": [
    "fig, (ax1) = plt.subplots(1, 1, figsize=(10*0.55,1), sharey=True)\n",
    "# Adding temprary ones in from 1980\n",
    "#-----------------------------------------------------------------------------------------\n",
    "\n",
    "Unique_station=df_t1980['Name_No_Temp'].unique()\n",
    "i=0\n",
    "k=0\n",
    "name=np.empty((len(Unique_station)),  np.dtype('U100'))\n",
    "for station in Unique_station:\n",
    "    #print(station)\n",
    "    name[i]=str(df_t1980['Name_No_Temp'].loc[df_t1980['Name_No_Temp']==station].iloc[0])\n",
    "\n",
    "        \n",
    "    if any(df_t1980['Classification: 1sp, 3sp, 3bb '].loc[df_t1980['Name_No_Temp']==station]==\"1sp\"):\n",
    "        Stat_type_1sp=((df_t1980['Name_No_Temp']==station)&(df_t1980['Classification: 1sp, 3sp, 3bb ']==\"1sp\"))\n",
    "        ax1.plot([df_t1980['Start Yr'].loc[Stat_type_1sp],\n",
    "                  df_t1980['End Yr'].loc[Stat_type_1sp]], [k+0.15, k+0.15], '-r')\n",
    "        ax1.plot([df_t1980['End Yr'].loc[Stat_type_1sp],\n",
    "                  df_t1980['End Yr'].loc[Stat_type_1sp]], [k+0.15, k+0.15], 'sk', mec='red',mfc='white', ms=4)\n",
    "        ax1.plot([df_t1980['Start Yr'].loc[Stat_type_1sp],\n",
    "                  df_t1980['Start Yr'].loc[Stat_type_1sp]], [k+0.15, k+0.15], '^k', mfc='red', ms=9)\n",
    "\n",
    "\n",
    "    if any(df_t1980['Classification: 1sp, 3sp, 3bb '].loc[df_t1980['Name_No_Temp']==station]==\"3sp\"):\n",
    "        Stat_type_3sp=((df_t1980['Name_No_Temp']==station)\n",
    "                       &(df_t1980['Classification: 1sp, 3sp, 3bb ']==\"3sp\"))\n",
    "        ax1.plot([df_t1980['Start Yr'].loc[Stat_type_3sp],\n",
    "                  df_t1980['End Yr'].loc[Stat_type_3sp]], [k-0.1, k-0.1], '-', color='grey', linewidth=2, zorder=100)\n",
    "        ax1.plot([df_t1980['End Yr'].loc[Stat_type_3sp],\n",
    "                  df_t1980['End Yr'].loc[Stat_type_3sp]], [k-0.1, k-0.1], 'sk', mfc='white', ms=4, zorder=100)\n",
    "        ax1.plot([df_t1980['Start Yr'].loc[Stat_type_3sp],\n",
    "                  df_t1980['Start Yr'].loc[Stat_type_3sp]], [k-0.1, k-0.1], '^k', mfc='grey', ms=7, zorder=100)\n",
    "        \n",
    "        # Now print the lines\n",
    "        \n",
    "    i=i+1\n",
    "    k=k+0.1\n",
    "    \n",
    "# Now for 2005\n",
    "Unique_station=df_t2005['Name_No_Temp'].unique()\n",
    "i=0\n",
    "k=0\n",
    "name=np.empty((len(Unique_station)),  np.dtype('U100'))\n",
    "for station in Unique_station:\n",
    "    #print(station)\n",
    "    name[i]=str(df_t2005['Name_No_Temp'].loc[df_t2005['Name_No_Temp']==station].iloc[0])\n",
    "\n",
    "        \n",
    "    if any(df_t2005['Classification: 1sp, 3sp, 3bb '].loc[df_t2005['Name_No_Temp']==station]==\"1sp\"):\n",
    "        Stat_type_1sp=((df_t2005['Name_No_Temp']==station)&(df_t2005['Classification: 1sp, 3sp, 3bb ']==\"1sp\"))\n",
    "        ax1.plot([df_t2005['Start Yr'].loc[Stat_type_1sp],\n",
    "                  df_t2005['End Yr'].loc[Stat_type_1sp]], [k+0.15, k+0.15], '-r')\n",
    "        ax1.plot([df_t2005['End Yr'].loc[Stat_type_1sp],\n",
    "                  df_t2005['End Yr'].loc[Stat_type_1sp]], [k+0.15, k+0.15], 'sk', mec='red',mfc='white', ms=4)\n",
    "        ax1.plot([df_t2005['Start Yr'].loc[Stat_type_1sp],\n",
    "                  df_t2005['Start Yr'].loc[Stat_type_1sp]], [k+0.15, k+0.15], '^k', mfc='red', ms=9)\n",
    "\n",
    "\n",
    " \n",
    "        \n",
    "    i=i+1\n",
    "    k=k+0.1\n",
    "\n",
    "\n",
    "#ax1.set_yticklabels(name.tolist())#, rotation=90)\n",
    "# ticks_loc = ax1.get_yticks().tolist()\n",
    "# tick_y=np.linspace(0, len(Unique_station)-1,  len(Unique_station)).tolist()\n",
    "# ax1.set_yticks(tick_y)\n",
    "ax1.set_ylim([-0.5, 2.5])\n",
    "# print(name)\n",
    "ax1.set_xlim([1970, 2022])\n",
    "ax1.set_yticks([])\n",
    "#ax1.set_yticklabels(name.tolist(), fontsize=8)\n",
    "fig.savefig('MSH_Seismic_Stations_Temporary.png', dpi=300, bbox_inches=\"tight\")"
   ]
  },
  {
   "cell_type": "code",
   "execution_count": 13,
   "id": "b37b0347-bf16-40a9-8717-b98e470dac7f",
   "metadata": {},
   "outputs": [
    {
     "data": {
      "text/plain": [
       "array(['BLIS', 'AHAB', 'MIBL', 'MIDE', 'RAFT', 'WESG', 'SEND', 'SEP'],\n",
       "      dtype=object)"
      ]
     },
     "execution_count": 13,
     "metadata": {},
     "output_type": "execute_result"
    }
   ],
   "source": [
    "Stat_type_1sp=(df_t2005['Classification: 1sp, 3sp, 3bb ']==\"1sp\")\n",
    "\n",
    "df_t2005['Name_No_Temp'].loc[Stat_type_1sp].unique()"
   ]
  },
  {
   "cell_type": "code",
   "execution_count": 14,
   "id": "2bbac9e4-ef56-41fb-9926-e1f407930ae7",
   "metadata": {},
   "outputs": [
    {
     "name": "stdout",
     "output_type": "stream",
     "text": [
      "['NWD' 'SCB' 'JLF' 'SFT' 'SPL' 'DOG' 'TIM' 'GOA' 'ASH' 'SOA' 'ROA' 'NSP']\n",
      "12\n"
     ]
    }
   ],
   "source": [
    "Stat_type_1sp=(df_t1980['Classification: 1sp, 3sp, 3bb ']==\"1sp\")\n",
    "\n",
    "print(df_t1980['Name_No_Temp'].loc[Stat_type_1sp].unique())\n",
    "print(len(df_t1980['Name_No_Temp'].loc[Stat_type_1sp].unique()))\n"
   ]
  },
  {
   "cell_type": "code",
   "execution_count": 15,
   "id": "27aa6284-535c-4480-8458-aa8048ebba1f",
   "metadata": {},
   "outputs": [
    {
     "data": {
      "text/plain": [
       "array(['APE', 'MUD', 'CWC', 'CDF', 'DIG'], dtype=object)"
      ]
     },
     "execution_count": 15,
     "metadata": {},
     "output_type": "execute_result"
    }
   ],
   "source": [
    "Stat_type_3sp=(df_t1980['Classification: 1sp, 3sp, 3bb ']==\"3sp\")\n",
    "\n",
    "df_t1980['Name_No_Temp'].loc[Stat_type_3sp].unique()"
   ]
  },
  {
   "cell_type": "code",
   "execution_count": 16,
   "id": "46939cfd-59ce-45b3-ad3c-fa1ee82069f6",
   "metadata": {},
   "outputs": [
    {
     "data": {
      "text/plain": [
       "array(['SEND'], dtype=object)"
      ]
     },
     "execution_count": 16,
     "metadata": {},
     "output_type": "execute_result"
    }
   ],
   "source": [
    "Stat_type_1sp=((df_t2005['Name_No_Temp']==station)&(df_t2005['Classification: 1sp, 3sp, 3bb ']==\"1sp\"))\n",
    "\n",
    "df_t2005['Name_No_Temp'].loc[Stat_type_1sp].unique()"
   ]
  },
  {
   "cell_type": "code",
   "execution_count": 17,
   "id": "5ee66d4d-f3f6-4833-9390-db4fc29408cc",
   "metadata": {},
   "outputs": [
    {
     "data": {
      "text/plain": [
       "9"
      ]
     },
     "execution_count": 17,
     "metadata": {},
     "output_type": "execute_result"
    }
   ],
   "source": [
    "len(df_t2005)"
   ]
  },
  {
   "cell_type": "code",
   "execution_count": 18,
   "id": "f4a4f066-1d3c-429a-8684-c7b0a0af235b",
   "metadata": {},
   "outputs": [
    {
     "data": {
      "text/html": [
       "<div>\n",
       "<style scoped>\n",
       "    .dataframe tbody tr th:only-of-type {\n",
       "        vertical-align: middle;\n",
       "    }\n",
       "\n",
       "    .dataframe tbody tr th {\n",
       "        vertical-align: top;\n",
       "    }\n",
       "\n",
       "    .dataframe thead th {\n",
       "        text-align: right;\n",
       "    }\n",
       "</style>\n",
       "<table border=\"1\" class=\"dataframe\">\n",
       "  <thead>\n",
       "    <tr style=\"text-align: right;\">\n",
       "      <th></th>\n",
       "      <th>Network</th>\n",
       "      <th>Name</th>\n",
       "      <th>Latitude</th>\n",
       "      <th>Longitude</th>\n",
       "      <th>Start Date</th>\n",
       "      <th>End Date</th>\n",
       "      <th>Start Yr</th>\n",
       "      <th>End Yr</th>\n",
       "      <th>Classification: 1sp, 3sp, 3bb</th>\n",
       "      <th>Name_No_Temp</th>\n",
       "      <th>Duration</th>\n",
       "    </tr>\n",
       "  </thead>\n",
       "  <tbody>\n",
       "    <tr>\n",
       "      <th>38</th>\n",
       "      <td>CC</td>\n",
       "      <td>BLIS</td>\n",
       "      <td>46.197472</td>\n",
       "      <td>-122.186569</td>\n",
       "      <td>2004-10-12</td>\n",
       "      <td>2005-02-17 00:00:00</td>\n",
       "      <td>2004.0</td>\n",
       "      <td>2005.0</td>\n",
       "      <td>1sp</td>\n",
       "      <td>BLIS</td>\n",
       "      <td>1.0</td>\n",
       "    </tr>\n",
       "    <tr>\n",
       "      <th>40</th>\n",
       "      <td>CC</td>\n",
       "      <td>SEP</td>\n",
       "      <td>46.199780</td>\n",
       "      <td>-122.190857</td>\n",
       "      <td>2004-11-05</td>\n",
       "      <td>2019-07-25 00:00:00</td>\n",
       "      <td>2004.0</td>\n",
       "      <td>2005.0</td>\n",
       "      <td>3sp</td>\n",
       "      <td>SEP</td>\n",
       "      <td>1.0</td>\n",
       "    </tr>\n",
       "    <tr>\n",
       "      <th>41</th>\n",
       "      <td>CC</td>\n",
       "      <td>AHAB</td>\n",
       "      <td>46.194790</td>\n",
       "      <td>-122.187027</td>\n",
       "      <td>2005-02-08</td>\n",
       "      <td>2005-02-17 00:00:00</td>\n",
       "      <td>2005.0</td>\n",
       "      <td>2005.0</td>\n",
       "      <td>1sp</td>\n",
       "      <td>AHAB</td>\n",
       "      <td>0.0</td>\n",
       "    </tr>\n",
       "    <tr>\n",
       "      <th>42</th>\n",
       "      <td>CC</td>\n",
       "      <td>MIBL</td>\n",
       "      <td>46.197319</td>\n",
       "      <td>-122.186913</td>\n",
       "      <td>2005-11-18</td>\n",
       "      <td>2007-12-31 00:00:00</td>\n",
       "      <td>2005.0</td>\n",
       "      <td>2007.0</td>\n",
       "      <td>1sp</td>\n",
       "      <td>MIBL</td>\n",
       "      <td>2.0</td>\n",
       "    </tr>\n",
       "    <tr>\n",
       "      <th>43</th>\n",
       "      <td>CC</td>\n",
       "      <td>MIDE</td>\n",
       "      <td>46.197750</td>\n",
       "      <td>-122.187439</td>\n",
       "      <td>2005-02-16</td>\n",
       "      <td>2005-07-26 00:00:00</td>\n",
       "      <td>2005.0</td>\n",
       "      <td>2005.0</td>\n",
       "      <td>1sp</td>\n",
       "      <td>MIDE</td>\n",
       "      <td>0.0</td>\n",
       "    </tr>\n",
       "    <tr>\n",
       "      <th>44</th>\n",
       "      <td>CC</td>\n",
       "      <td>RAFT</td>\n",
       "      <td>46.195679</td>\n",
       "      <td>-122.186317</td>\n",
       "      <td>2005-07-28</td>\n",
       "      <td>2007-12-31 00:00:00</td>\n",
       "      <td>2005.0</td>\n",
       "      <td>2007.0</td>\n",
       "      <td>1sp</td>\n",
       "      <td>RAFT</td>\n",
       "      <td>2.0</td>\n",
       "    </tr>\n",
       "    <tr>\n",
       "      <th>45</th>\n",
       "      <td>CC</td>\n",
       "      <td>WESG</td>\n",
       "      <td>46.195831</td>\n",
       "      <td>-122.193748</td>\n",
       "      <td>2005-07-12</td>\n",
       "      <td>2005-09-14 00:00:00</td>\n",
       "      <td>2005.0</td>\n",
       "      <td>2005.0</td>\n",
       "      <td>1sp</td>\n",
       "      <td>WESG</td>\n",
       "      <td>0.0</td>\n",
       "    </tr>\n",
       "    <tr>\n",
       "      <th>46</th>\n",
       "      <td>CC</td>\n",
       "      <td>SEND</td>\n",
       "      <td>46.193501</td>\n",
       "      <td>-122.185432</td>\n",
       "      <td>2005-06-30</td>\n",
       "      <td>2005-11-17 00:00:00</td>\n",
       "      <td>2005.0</td>\n",
       "      <td>2005.0</td>\n",
       "      <td>1sp</td>\n",
       "      <td>SEND</td>\n",
       "      <td>0.0</td>\n",
       "    </tr>\n",
       "    <tr>\n",
       "      <th>47</th>\n",
       "      <td>CC</td>\n",
       "      <td>SEP</td>\n",
       "      <td>46.199780</td>\n",
       "      <td>-122.190857</td>\n",
       "      <td>2005-03-15</td>\n",
       "      <td>2006-02-24 00:00:00</td>\n",
       "      <td>2005.0</td>\n",
       "      <td>2006.0</td>\n",
       "      <td>1sp</td>\n",
       "      <td>SEP</td>\n",
       "      <td>1.0</td>\n",
       "    </tr>\n",
       "  </tbody>\n",
       "</table>\n",
       "</div>"
      ],
      "text/plain": [
       "   Network  Name   Latitude   Longitude Start Date             End Date  \\\n",
       "38      CC  BLIS  46.197472 -122.186569 2004-10-12  2005-02-17 00:00:00   \n",
       "40      CC   SEP  46.199780 -122.190857 2004-11-05  2019-07-25 00:00:00   \n",
       "41      CC  AHAB  46.194790 -122.187027 2005-02-08  2005-02-17 00:00:00   \n",
       "42      CC  MIBL  46.197319 -122.186913 2005-11-18  2007-12-31 00:00:00   \n",
       "43      CC  MIDE  46.197750 -122.187439 2005-02-16  2005-07-26 00:00:00   \n",
       "44      CC  RAFT  46.195679 -122.186317 2005-07-28  2007-12-31 00:00:00   \n",
       "45      CC  WESG  46.195831 -122.193748 2005-07-12  2005-09-14 00:00:00   \n",
       "46      CC  SEND  46.193501 -122.185432 2005-06-30  2005-11-17 00:00:00   \n",
       "47      CC   SEP  46.199780 -122.190857 2005-03-15  2006-02-24 00:00:00   \n",
       "\n",
       "    Start Yr  End Yr Classification: 1sp, 3sp, 3bb  Name_No_Temp  Duration  \n",
       "38    2004.0  2005.0                            1sp         BLIS       1.0  \n",
       "40    2004.0  2005.0                            3sp          SEP       1.0  \n",
       "41    2005.0  2005.0                            1sp         AHAB       0.0  \n",
       "42    2005.0  2007.0                            1sp         MIBL       2.0  \n",
       "43    2005.0  2005.0                            1sp         MIDE       0.0  \n",
       "44    2005.0  2007.0                            1sp         RAFT       2.0  \n",
       "45    2005.0  2005.0                            1sp         WESG       0.0  \n",
       "46    2005.0  2005.0                            1sp         SEND       0.0  \n",
       "47    2005.0  2006.0                            1sp          SEP       1.0  "
      ]
     },
     "execution_count": 18,
     "metadata": {},
     "output_type": "execute_result"
    }
   ],
   "source": [
    "df_t2005"
   ]
  },
  {
   "cell_type": "markdown",
   "id": "a0774bc4-00fe-452e-b349-edf7b1a283a7",
   "metadata": {},
   "source": [
    "## temporary 2005 stations"
   ]
  },
  {
   "cell_type": "code",
   "execution_count": 19,
   "id": "6cbc65c6-5a0d-4e7c-91ea-560652d1fd70",
   "metadata": {},
   "outputs": [
    {
     "name": "stderr",
     "output_type": "stream",
     "text": [
      "C:\\Users\\penny\\AppData\\Local\\Temp\\ipykernel_27448\\706958980.py:1: SettingWithCopyWarning: \n",
      "A value is trying to be set on a copy of a slice from a DataFrame.\n",
      "Try using .loc[row_indexer,col_indexer] = value instead\n",
      "\n",
      "See the caveats in the documentation: https://pandas.pydata.org/pandas-docs/stable/user_guide/indexing.html#returning-a-view-versus-a-copy\n",
      "  df_t2005['Name_No_Temp']=df_t2005['Name']\n",
      "C:\\Users\\penny\\AppData\\Local\\Temp\\ipykernel_27448\\706958980.py:71: UserWarning: FixedFormatter should only be used together with FixedLocator\n",
      "  ax1.set_yticklabels(name.tolist())#, rotation=90)\n"
     ]
    },
    {
     "name": "stdout",
     "output_type": "stream",
     "text": [
      "['BLIS' 'SEP' 'AHAB' 'MIBL' 'MIDE' 'RAFT' 'WESG' 'SEND']\n"
     ]
    },
    {
     "data": {
      "image/png": "[encoded data removed]",
      "text/plain": [
       "<Figure size 720x432 with 1 Axes>"
      ]
     },
     "metadata": {
      "needs_background": "light"
     },
     "output_type": "display_data"
    }
   ],
   "source": [
    "df_t2005['Name_No_Temp']=df_t2005['Name']\n",
    "fig, (ax1) = plt.subplots(1, 1, figsize=(10,6), sharey=True)\n",
    "\n",
    "# Loop for ones that lasted more than 3 years not around major eruptions. \n",
    "Unique_station=df_t2005['Name_No_Temp'].unique()\n",
    "i=0\n",
    "name=np.empty((len(Unique_station)),  np.dtype('U100'))\n",
    "for station in Unique_station:\n",
    "    #print(station)\n",
    "    name[i]=str(df_t2005['Name_No_Temp'].loc[df_t2005['Name_No_Temp']==station].iloc[0])\n",
    "    if any(df_t2005['Classification: 1sp, 3sp, 3bb '].loc[df_t2005['Name_No_Temp']==station]==\"IS\"):\n",
    "        Stat_type_IS=((df_t2005['Name_No_Temp']==station)&(df_t2005['Classification: 1sp, 3sp, 3bb ']==\"IS\"))\n",
    "        ax1.plot([df_t2005['Start Yr'].loc[Stat_type_IS],\n",
    "                  df_t2005['End Yr'].loc[Stat_type_IS]], [k+0.15, k+0.15], '-', color='lightskyblue')\n",
    "        ax1.plot([df_t2005['End Yr'].loc[Stat_type_IS],\n",
    "                  df_t2005['End Yr'].loc[Stat_type_IS]], [k+0.15, k+0.15], 'sk', mec='lightskyblue',mfc='white', ms=8)\n",
    "        ax1.plot([df_t2005['Start Yr'].loc[Stat_type_IS],\n",
    "                  df_t2005['Start Yr'].loc[Stat_type_IS]], [k+0.1, k+0.15], 'ok', mfc='lightskyblue', ms=4)\n",
    "\n",
    "        \n",
    "    if any(df_t2005['Classification: 1sp, 3sp, 3bb '].loc[df_t2005['Name_No_Temp']==station]==\"1sp\"):\n",
    "        Stat_type_1sp=((df_t2005['Name_No_Temp']==station)&(df_t2005['Classification: 1sp, 3sp, 3bb ']==\"1sp\"))\n",
    "        ax1.plot([df_t2005['Start Yr'].loc[Stat_type_1sp],\n",
    "                  df_t2005['End Yr'].loc[Stat_type_1sp]], [k+0.15, k+0.15], '-r')\n",
    "        ax1.plot([df_t2005['End Yr'].loc[Stat_type_1sp],\n",
    "                  df_t2005['End Yr'].loc[Stat_type_1sp]], [k+0.15, k+0.15], 'sk', mec='red',mfc='white', ms=4)\n",
    "        ax1.plot([df_t2005['Start Yr'].loc[Stat_type_1sp],\n",
    "                  df_t2005['Start Yr'].loc[Stat_type_1sp]], [k+0.15, k+0.15], '^k', mfc='red', ms=9)\n",
    "\n",
    "    if any(df_t2005['Classification: 1sp, 3sp, 3bb '].loc[df_t2005['Name_No_Temp']==station]==\"3bb\"):\n",
    "        Stat_type_3bb=((df_t2005['Name_No_Temp']==station)\n",
    "                       &(df_t2005['Classification: 1sp, 3sp, 3bb ']==\"3bb\"))\n",
    "        ax1.plot([df_t2005['Start Yr'].loc[Stat_type_3bb],\n",
    "                  df_t2005['End Yr'].loc[Stat_type_3bb]], [k, k], '-y', linewidth=2)\n",
    "        ax1.plot([df_t2005['End Yr'].loc[Stat_type_3bb],\n",
    "                  df_t2005['End Yr'].loc[Stat_type_3bb]], [k, k], 'sk', mec='k', mfc='white', ms=4, zorder=1000)\n",
    "        ax1.plot([df_t2005['Start Yr'].loc[Stat_type_3bb],\n",
    "                  df_t2005['Start Yr'].loc[Stat_type_3bb]], [k, k],  '^k', mfc='yellow', ms=9)\n",
    "\n",
    "    if any(df_t2005['Classification: 1sp, 3sp, 3bb '].loc[df_t2005['Name_No_Temp']==station]==\"3sp\"):\n",
    "        Stat_type_3sp=((df_t2005['Name_No_Temp']==station)\n",
    "                       &(df_t2005['Classification: 1sp, 3sp, 3bb ']==\"3sp\"))\n",
    "        ax1.plot([df_t2005['Start Yr'].loc[Stat_type_3sp],\n",
    "                  df_t2005['End Yr'].loc[Stat_type_3sp]], [k-0.1, k-0.1], '-', color='grey', linewidth=2, zorder=100)\n",
    "        ax1.plot([df_t2005['End Yr'].loc[Stat_type_3sp],\n",
    "                  df_t2005['End Yr'].loc[Stat_type_3sp]], [k-0.1, k-0.1], 'sk', mfc='white', ms=4, zorder=100)\n",
    "        ax1.plot([df_t2005['Start Yr'].loc[Stat_type_3sp],\n",
    "                  df_t2005['Start Yr'].loc[Stat_type_3sp]], [k-0.1, k-0.1], '^k', mfc='grey', ms=7, zorder=100)\n",
    "        \n",
    "        # Now print the lines\n",
    "        \n",
    "    i=i+1\n",
    "    k=k+0.1\n",
    "\n",
    "#     if df_t2005['Classification: 1sp, 3sp, 3bb '].iloc[i]==\"3bb\":\n",
    "#         ax1.plot([df_t2005['Start Yr'].iloc[i],df_t2005['End Yr'].iloc[i]], [k, k], '-',\n",
    "#                  color='y', lw=2)\n",
    "#         ax1.plot([df_t2005['End Yr'].iloc[i],df_t2005['End Yr'].iloc[i]], [k, k], '*k', mfc='yellow', ms=12)\n",
    "        \n",
    "#     if df_t2005['Classification: 1sp, 3sp, 3bb '].iloc[i]==\"3sp\":\n",
    "#         ax1.plot([df_t2005['Start Yr'].iloc[i],df_t2005['End Yr'].iloc[i]], [k, k], '-',\n",
    "#                  color='grey', lw=2)\n",
    "#         ax1.plot([df_t2005['End Yr'].iloc[i],df_t2005['End Yr'].iloc[i]], [k, k], '*k', mfc='grey', ms=12)\n",
    "        \n",
    "        \n",
    "#     #ax1.plot([df_t2005['Start Yr'].iloc[i],df_t2005['Start Yr'].iloc[i]], [k, k], '^k', mfc='white')\n",
    "#     #ax1.plot([df_t2005['End Yr'].iloc[i],df_t2005['End Yr'].iloc[i]], [k, k], '*k', mfc='white', ms=8)\n",
    "ax1.set_xlim([1970, 2022])\n",
    "#     name[i]=str(df_t2005['Name'].iloc[i])\n",
    "#     #print(df_t2005['Name'].iloc[i])\n",
    "ax1.set_yticklabels(name.tolist())#, rotation=90)\n",
    "ticks_loc = ax1.get_yticks().tolist()\n",
    "tick_y=np.linspace(0, len(Unique_station)-1,  len(Unique_station)).tolist()\n",
    "ax1.set_yticks(tick_y)\n",
    "#ax1.set_ylim([-0.5, 4.5])\n",
    "print(name)\n",
    "ax1.set_yticklabels(name.tolist(), fontsize=8)\n",
    "\n",
    "# #df_t2005['Classification: 1sp, 3sp, 3bb ']\n",
    "\n",
    "fig.savefig('MSH_Seismic_Stations.png', dpi=300)"
   ]
  },
  {
   "cell_type": "markdown",
   "id": "2b53bf5c-afa7-44cf-9fbf-76b89affa305",
   "metadata": {},
   "source": [
    "## 1980"
   ]
  },
  {
   "cell_type": "code",
   "execution_count": 20,
   "id": "8574171b-2741-4a18-9959-25b40fe1af84",
   "metadata": {},
   "outputs": [
    {
     "name": "stderr",
     "output_type": "stream",
     "text": [
      "C:\\Users\\penny\\AppData\\Local\\Temp\\ipykernel_27448\\4042747845.py:1: SettingWithCopyWarning: \n",
      "A value is trying to be set on a copy of a slice from a DataFrame.\n",
      "Try using .loc[row_indexer,col_indexer] = value instead\n",
      "\n",
      "See the caveats in the documentation: https://pandas.pydata.org/pandas-docs/stable/user_guide/indexing.html#returning-a-view-versus-a-copy\n",
      "  df_t1980['Name_No_Temp']=df_t1980['Name']\n",
      "C:\\Users\\penny\\AppData\\Local\\Temp\\ipykernel_27448\\4042747845.py:54: UserWarning: FixedFormatter should only be used together with FixedLocator\n",
      "  ax1.set_yticklabels(name.tolist())#, rotation=90)\n"
     ]
    },
    {
     "name": "stdout",
     "output_type": "stream",
     "text": [
      "['APE' 'NWD' 'SCB' 'JLF' 'SFT' 'MUD' 'SPL' 'DOG' 'CWC' 'CDF' 'TIM' 'GOA'\n",
      " 'ASH' 'SOA' 'ROA' 'DIG' 'NSP']\n"
     ]
    },
    {
     "data": {
      "image/png": "[encoded data removed]",
      "text/plain": [
       "<Figure size 720x432 with 1 Axes>"
      ]
     },
     "metadata": {
      "needs_background": "light"
     },
     "output_type": "display_data"
    }
   ],
   "source": [
    "df_t1980['Name_No_Temp']=df_t1980['Name']\n",
    "fig, (ax1) = plt.subplots(1, 1, figsize=(10,6), sharey=True)\n",
    "\n",
    "# Loop for ones that lasted more than 3 years not around major eruptions. \n",
    "Unique_station=df_t1980['Name_No_Temp'].unique()\n",
    "i=0\n",
    "name=np.empty((len(Unique_station)),  np.dtype('U100'))\n",
    "for station in Unique_station:\n",
    "    #print(station)\n",
    "    name[i]=str(df_t1980['Name_No_Temp'].loc[df_t1980['Name_No_Temp']==station].iloc[0])\n",
    "\n",
    "        \n",
    "    if any(df_t1980['Classification: 1sp, 3sp, 3bb '].loc[df_t1980['Name_No_Temp']==station]==\"1sp\"):\n",
    "        Stat_type_1sp=((df_t1980['Name_No_Temp']==station)&(df_t1980['Classification: 1sp, 3sp, 3bb ']==\"1sp\"))\n",
    "        ax1.plot([df_t1980['Start Yr'].loc[Stat_type_1sp],\n",
    "                  df_t1980['End Yr'].loc[Stat_type_1sp]], [k+0.15, k+0.15], '-r')\n",
    "        ax1.plot([df_t1980['End Yr'].loc[Stat_type_1sp],\n",
    "                  df_t1980['End Yr'].loc[Stat_type_1sp]], [k+0.15, k+0.15], 'sk', mec='red',mfc='white', ms=4)\n",
    "        ax1.plot([df_t1980['Start Yr'].loc[Stat_type_1sp],\n",
    "                  df_t1980['Start Yr'].loc[Stat_type_1sp]], [k+0.15, k+0.15], '^k', mfc='red', ms=9)\n",
    "\n",
    "\n",
    "    if any(df_t1980['Classification: 1sp, 3sp, 3bb '].loc[df_t1980['Name_No_Temp']==station]==\"3sp\"):\n",
    "        Stat_type_3sp=((df_t1980['Name_No_Temp']==station)\n",
    "                       &(df_t1980['Classification: 1sp, 3sp, 3bb ']==\"3sp\"))\n",
    "        ax1.plot([df_t1980['Start Yr'].loc[Stat_type_3sp],\n",
    "                  df_t1980['End Yr'].loc[Stat_type_3sp]], [k-0.1, k-0.1], '-', color='grey', linewidth=2, zorder=100)\n",
    "        ax1.plot([df_t1980['End Yr'].loc[Stat_type_3sp],\n",
    "                  df_t1980['End Yr'].loc[Stat_type_3sp]], [k-0.1, k-0.1], 'sk', mfc='white', ms=4, zorder=100)\n",
    "        ax1.plot([df_t1980['Start Yr'].loc[Stat_type_3sp],\n",
    "                  df_t1980['Start Yr'].loc[Stat_type_3sp]], [k-0.1, k-0.1], '^k', mfc='grey', ms=7, zorder=100)\n",
    "        \n",
    "        # Now print the lines\n",
    "        \n",
    "    i=i+1\n",
    "    k=k+0.1\n",
    "\n",
    "#     if df_t1980['Classification: 1sp, 3sp, 3bb '].iloc[i]==\"3bb\":\n",
    "#         ax1.plot([df_t1980['Start Yr'].iloc[i],df_t1980['End Yr'].iloc[i]], [k, k], '-',\n",
    "#                  color='y', lw=2)\n",
    "#         ax1.plot([df_t1980['End Yr'].iloc[i],df_t1980['End Yr'].iloc[i]], [k, k], '*k', mfc='yellow', ms=12)\n",
    "        \n",
    "#     if df_t1980['Classification: 1sp, 3sp, 3bb '].iloc[i]==\"3sp\":\n",
    "#         ax1.plot([df_t1980['Start Yr'].iloc[i],df_t1980['End Yr'].iloc[i]], [k, k], '-',\n",
    "#                  color='grey', lw=2)\n",
    "#         ax1.plot([df_t1980['End Yr'].iloc[i],df_t1980['End Yr'].iloc[i]], [k, k], '*k', mfc='grey', ms=12)\n",
    "        \n",
    "        \n",
    "#     #ax1.plot([df_t1980['Start Yr'].iloc[i],df_t1980['Start Yr'].iloc[i]], [k, k], '^k', mfc='white')\n",
    "#     #ax1.plot([df_t1980['End Yr'].iloc[i],df_t1980['End Yr'].iloc[i]], [k, k], '*k', mfc='white', ms=8)\n",
    "ax1.set_xlim([1970, 2022])\n",
    "#     name[i]=str(df_t1980['Name'].iloc[i])\n",
    "#     #print(df_t1980['Name'].iloc[i])\n",
    "ax1.set_yticklabels(name.tolist())#, rotation=90)\n",
    "ticks_loc = ax1.get_yticks().tolist()\n",
    "tick_y=np.linspace(0, len(Unique_station)-1,  len(Unique_station)).tolist()\n",
    "ax1.set_yticks(tick_y)\n",
    "#ax1.set_ylim([-0.5, 4.5])\n",
    "print(name)\n",
    "ax1.set_yticklabels(name.tolist(), fontsize=8)\n",
    "\n",
    "# #df_t1980['Classification: 1sp, 3sp, 3bb ']\n",
    "\n",
    "fig.savefig('MSH_Seismic_Stations.png', dpi=300)"
   ]
  },
  {
   "cell_type": "code",
   "execution_count": 21,
   "id": "9d5eb99d-3c33-4dd8-b3ab-5799e46f5b49",
   "metadata": {},
   "outputs": [],
   "source": [
    "#df_a=df_t.loc[df_t['End Yr']>2021]\n",
    "df_a=df_t\n",
    "name_plot=np.empty((len(df_a)),  np.dtype('U100'))\n",
    "for i in range(0, len(df_a)):\n",
    "    name_plot[i]=str(df_a['Name_No_Temp'].iloc[i])"
   ]
  },
  {
   "cell_type": "code",
   "execution_count": 36,
   "id": "4302bb58-a1c2-499f-9579-772c7a0c8629",
   "metadata": {},
   "outputs": [
    {
     "data": {
      "image/png": "[encoded data removed]",
      "text/plain": [
       "<Figure size 720x720 with 1 Axes>"
      ]
     },
     "metadata": {
      "needs_background": "light"
     },
     "output_type": "display_data"
    }
   ],
   "source": [
    "fig, (ax1) = plt.subplots(1, figsize=(10,10), sharey=True)\n",
    "\n",
    "import matplotlib.patches as patches\n",
    "rect = patches.Circle((-122.195618,46.191387),0.18,linewidth=1,edgecolor='m',facecolor='none', label='test')\n",
    "\n",
    "# Add the patch to the Axes\n",
    "ax1.add_patch(rect)\n",
    "\n",
    "ax1.plot(df_a['Longitude'].loc[if_p],\n",
    "              df_a['Latitude'].loc[if_p],\n",
    "         '^k', mfc='cyan', ms=5)\n",
    "\n",
    "ax1.plot(df_a['Longitude'].loc[if_r],\n",
    "              df_a['Latitude'].loc[if_r],\n",
    "         'sk', mec='cyan', mfc='white', ms=5)\n",
    "\n",
    "ax1.plot(df_a['Longitude'].loc[sp1_p],\n",
    "              df_a['Latitude'].loc[sp1_p],\n",
    "         '^k', mfc='red', ms=15)\n",
    "ax1.plot(df_a['Longitude'].loc[bb3_p],\n",
    "              df_a['Latitude'].loc[bb3_p],\n",
    "         '^k', mfc='yellow', ms=12)\n",
    "ax1.plot(df_a['Longitude'].loc[sp3_p],\n",
    "              df_a['Latitude'].loc[sp3_p],\n",
    "         '^k', mfc='grey', ms=10)\n",
    "\n",
    "\n",
    "ax1.plot(df_a['Longitude'].loc[sp1_r],\n",
    "              df_a['Latitude'].loc[sp1_r],\n",
    "         'sr',  mfc='w')\n",
    "ax1.plot(df_a['Longitude'].loc[bb3_r],\n",
    "              df_a['Latitude'].loc[bb3_r],\n",
    "         'sy',  mfc='w')\n",
    "ax1.plot(df_a['Longitude'].loc[sp3_r],\n",
    "              df_a['Latitude'].loc[sp3_r],\n",
    "         's', mec='grey', mfc='w')\n",
    "for i in range(0, len(df_a)):\n",
    "    ax1.annotate(name_plot[i],\n",
    "                 xy=(df_a['Longitude'].iloc[i]+0.01,\n",
    "              df_a['Latitude'].iloc[i]),\n",
    "                 xycoords=\"data\", fontsize=9)\n",
    "    \n",
    "ax1.plot(df_t2005['Longitude'], df_t2005['Latitude'], 'og', ms=3)\n",
    "ax1.plot(df_t1980['Longitude'], df_t1980['Latitude'], 'om', ms=3)\n",
    "fig.savefig('MSH_map.png', dpi=500)"
   ]
  },
  {
   "cell_type": "code",
   "execution_count": 23,
   "id": "8f420ff5-6c7c-493b-8ba0-4c3750af7f76",
   "metadata": {},
   "outputs": [
    {
     "data": {
      "image/png": "[encoded data removed]",
      "text/plain": [
       "<Figure size 720x720 with 1 Axes>"
      ]
     },
     "metadata": {
      "needs_background": "light"
     },
     "output_type": "display_data"
    }
   ],
   "source": [
    "\n",
    "fig, (ax1) = plt.subplots(1, figsize=(10,10), sharey=True)\n",
    "\n",
    "import matplotlib.patches as patches\n",
    "rect = patches.Circle((-122.195618,46.191387),0.18,linewidth=1,edgecolor='m',facecolor='none', label='test')\n",
    "\n",
    "ax1.set_xlim([-122.225, -122.15])\n",
    "ax1.set_ylim([46.15, 46.25])\n",
    "# Add the patch to the Axes\n",
    "ax1.add_patch(rect)\n",
    "\n",
    "ax1.plot(df_a['Longitude'].loc[if_p],\n",
    "              df_a['Latitude'].loc[if_p],\n",
    "         '^k', mfc='cyan', ms=5)\n",
    "\n",
    "\n",
    "ax1.plot(df_a['Longitude'].loc[sp1_p],\n",
    "              df_a['Latitude'].loc[sp1_p],\n",
    "         '^k', mfc='red', ms=15)\n",
    "ax1.plot(df_a['Longitude'].loc[bb3_p],\n",
    "              df_a['Latitude'].loc[bb3_p],\n",
    "         '^k', mfc='yellow', ms=12)\n",
    "ax1.plot(df_a['Longitude'].loc[sp3_p],\n",
    "              df_a['Latitude'].loc[sp3_p],\n",
    "         '^k', mfc='grey', ms=10)\n",
    "\n",
    "\n",
    "\n",
    "for i in range(0, len(df_a)):\n",
    "    ax1.annotate(name_plot[i],\n",
    "                 xy=(df_a['Longitude'].iloc[i]+0.003,\n",
    "              df_a['Latitude'].iloc[i]),\n",
    "                 xycoords=\"data\", fontsize=9)\n",
    "    \n",
    "#ax1.plot(df_t2005['Longitude'], df_t2005['Latitude'], 'og', ms=5)\n",
    "#ax1.plot(df_t1980['Longitude'], df_t1980['Latitude'], 'om', ms=5)\n",
    "fig.savefig('MSH_map.png', dpi=500)"
   ]
  },
  {
   "cell_type": "code",
   "execution_count": 24,
   "id": "cef1f875-f95a-4b16-a8ed-34a7cb73c0fd",
   "metadata": {},
   "outputs": [
    {
     "data": {
      "text/plain": [
       "\"['SHW' 'MTM' 'JUN' 'FLT' 'ELK' 'SOS' 'CDF' 'EDM' 'YEL' 'SUG' 'SH2' 'STD'\\n 'TDL' 'FL2' 'HSR' 'DIO' 'REM' 'SEP' 'SEP' 'NED' 'STD' 'JRO' 'SEP' 'VALT'\\n 'SWFL' 'B201' 'SPN5' 'B204' 'B203' 'B203' 'B202' 'B201' 'SUG' 'SWF2'\\n 'SUG' 'SEP' 'GUAC' 'REM' 'SUG' 'SEP' 'HOA' 'HOA' 'LOO' 'MAR' 'MAR' 'SHW'\\n 'EDM' 'NFT' 'SMSF' 'UNFR' 'NMSF' 'USFR' 'HSR']\""
      ]
     },
     "execution_count": 24,
     "metadata": {},
     "output_type": "execute_result"
    }
   ],
   "source": [
    "str(df_t['Name'].values)"
   ]
  },
  {
   "cell_type": "markdown",
   "id": "6366580f-ce04-49fb-a354-5f05ac118bf1",
   "metadata": {},
   "source": [
    "## Different plots showing age progresion"
   ]
  },
  {
   "cell_type": "code",
   "execution_count": 25,
   "id": "6e36f0d1-f21e-4a4c-a44c-e758eda7f2b5",
   "metadata": {},
   "outputs": [
    {
     "data": {
      "text/plain": [
       "list"
      ]
     },
     "execution_count": 25,
     "metadata": {},
     "output_type": "execute_result"
    }
   ],
   "source": [
    "a=['Exp Pet', 'Exp Pet', 'MT', 'Seismics']\n",
    "type(a)"
   ]
  },
  {
   "cell_type": "code",
   "execution_count": 26,
   "id": "b9c5c9fc-4e46-4463-80a7-eb66bea3f746",
   "metadata": {},
   "outputs": [],
   "source": [
    "name=np.empty(len(df_t), np.dtype('U100'))\n",
    "df_t['Name'].iloc[1]\n",
    "name[1]=str(df_t['Name'].iloc[1])"
   ]
  },
  {
   "cell_type": "code",
   "execution_count": 27,
   "id": "346afe72-d330-4b47-9790-0ade52ca86f3",
   "metadata": {},
   "outputs": [
    {
     "data": {
      "text/plain": [
       "array(['', 'MTM', '', '', '', '', '', '', '', '', '', '', '', '', '', '',\n",
       "       '', '', '', '', '', '', '', '', '', '', '', '', '', '', '', '', '',\n",
       "       '', '', '', '', '', '', '', '', '', '', '', '', '', '', '', '', '',\n",
       "       '', '', ''], dtype='<U100')"
      ]
     },
     "execution_count": 27,
     "metadata": {},
     "output_type": "execute_result"
    }
   ],
   "source": [
    "name"
   ]
  },
  {
   "cell_type": "code",
   "execution_count": null,
   "id": "4ae0b701-6fc0-455a-866a-c7757ce5372b",
   "metadata": {},
   "outputs": [],
   "source": []
  },
  {
   "cell_type": "code",
   "execution_count": 28,
   "id": "82708137-4762-4dbb-bb41-483e5e5f9e2b",
   "metadata": {},
   "outputs": [
    {
     "data": {
      "text/plain": [
       "53"
      ]
     },
     "execution_count": 28,
     "metadata": {},
     "output_type": "execute_result"
    }
   ],
   "source": [
    "len(name)"
   ]
  },
  {
   "cell_type": "code",
   "execution_count": 29,
   "id": "3a01ced8-76b6-4e73-b811-d3845fc052ed",
   "metadata": {},
   "outputs": [
    {
     "ename": "SyntaxError",
     "evalue": "invalid syntax (2302358890.py, line 3)",
     "output_type": "error",
     "traceback": [
      "\u001b[1;36m  Input \u001b[1;32mIn [29]\u001b[1;36m\u001b[0m\n\u001b[1;33m    if\u001b[0m\n\u001b[1;37m       ^\u001b[0m\n\u001b[1;31mSyntaxError\u001b[0m\u001b[1;31m:\u001b[0m invalid syntax\n"
     ]
    }
   ],
   "source": [
    "fig, (ax1, ax2) = plt.subplots(1, 2, figsize=(10,5), sharey=True)\n",
    "for i in range(0, len(df_t)):\n",
    "    if \n",
    "    ax1.plot([df_t['Start Yr'].iloc[i],df_t['End Yr'].iloc[i]], [i, i], '-r')\n",
    "    ax1.plot([df_t['Start Yr'].iloc[i],df_t['Start Yr'].iloc[i]], [i, i], '^k', mfc='white')\n",
    "    ax1.plot([df_t['End Yr'].iloc[i],df_t['End Yr'].iloc[i]], [i, i], '*k', mfc='white')\n",
    "    ax1.set_xlim([1970, 2022])\n",
    "#df_t['Classification: 1sp, 3sp, 3bb ']"
   ]
  },
  {
   "cell_type": "markdown",
   "id": "bbcb3c93-8d4b-47d5-abdf-572c9a847eeb",
   "metadata": {},
   "source": [
    "# 0  Bar for each different seimometer"
   ]
  },
  {
   "cell_type": "code",
   "execution_count": null,
   "id": "89418c7b-2301-469c-a542-9d483a2ad8e7",
   "metadata": {},
   "outputs": [],
   "source": []
  },
  {
   "cell_type": "markdown",
   "id": "cdff6dcb-5f1e-4694-8fd7-fbe4af50167f",
   "metadata": {},
   "source": [
    "## 1. CDF function"
   ]
  },
  {
   "cell_type": "code",
   "execution_count": null,
   "id": "e188b002-c467-4e57-95e2-43e1124867e8",
   "metadata": {},
   "outputs": [],
   "source": []
  },
  {
   "cell_type": "code",
   "execution_count": null,
   "id": "6bbd057f-56a7-43a5-a230-d963a07e00b3",
   "metadata": {},
   "outputs": [],
   "source": []
  },
  {
   "cell_type": "code",
   "execution_count": null,
   "id": "18378f3f-a65e-4cc0-9408-f10e1571f5f3",
   "metadata": {},
   "outputs": [],
   "source": []
  },
  {
   "cell_type": "code",
   "execution_count": null,
   "id": "9667c879-c977-4d06-afb7-ded73bf524da",
   "metadata": {},
   "outputs": [],
   "source": []
  },
  {
   "cell_type": "code",
   "execution_count": null,
   "id": "00651446-4293-41eb-86f6-4732a341ecfa",
   "metadata": {},
   "outputs": [],
   "source": []
  }
 ],
 "metadata": {
  "kernelspec": {
   "display_name": "Python 3 (ipykernel)",
   "language": "python",
   "name": "python3"
  },
  "language_info": {
   "codemirror_mode": {
    "name": "ipython",
    "version": 3
   },
   "file_extension": ".py",
   "mimetype": "text/x-python",
   "name": "python",
   "nbconvert_exporter": "python",
   "pygments_lexer": "ipython3",
   "version": "3.9.12"
  }
 },
 "nbformat": 4,
 "nbformat_minor": 5
}
