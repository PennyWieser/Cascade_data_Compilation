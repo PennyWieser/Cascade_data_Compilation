{
 "cells": [
  {
   "cell_type": "code",
   "execution_count": 1,
   "id": "61d3dbc3-9a57-45da-b398-68858779b2ad",
   "metadata": {},
   "outputs": [],
   "source": [
    "import pandas as pd\n",
    "import numpy as np\n",
    "import os\n",
    "from os.path import splitext, basename\n",
    "import matplotlib.pyplot as plt\n",
    "import warnings\n",
    "warnings.filterwarnings('ignore')"
   ]
  },
  {
   "cell_type": "code",
   "execution_count": 2,
   "id": "01fba3fe-0b2d-4787-82a3-6c93bc17c9c6",
   "metadata": {},
   "outputs": [],
   "source": [
    "# Reads in the compiled dataset\n",
    "dfm=pd.read_excel('MeltInclusionCompilation_april23.xlsx')"
   ]
  },
  {
   "cell_type": "code",
   "execution_count": 3,
   "id": "2e74bb43-cec3-4ef5-b1a8-c06b6eaf6b3a",
   "metadata": {},
   "outputs": [],
   "source": [
    "rho=2700\n",
    "P_axis_min=-3\n",
    "P_axis_max=12\n",
    "D_axis_min=100000*P_axis_min/(9.8*rho)\n",
    "D_axis_max=100000*P_axis_max/(9.8*rho)\n"
   ]
  },
  {
   "cell_type": "code",
   "execution_count": 5,
   "id": "36c2bbcf-d1e8-47e6-a899-fb51f95038b5",
   "metadata": {},
   "outputs": [],
   "source": [
    "MSH=dfm.loc[dfm['reference']==\"Blundy et al. 2010 EPSL\"]\n",
    "MSH['Sat_P_Pref']=MSH['satp_meash2omeasco2']/1000\n",
    "MSH['Study']=\"Blundy\"\n",
    "MSH['Comp']=\"Rhyodacite\"\n",
    "\n",
    "\n",
    "\n",
    "\n",
    "\n",
    "MI_Combo_allH2O=pd.concat([MSH], axis=0)\n",
    "MI_Combo=MI_Combo_allH2O#.loc[MI_Combo_allH2O['h2o_raw_wt']>3]"
   ]
  },
  {
   "cell_type": "code",
   "execution_count": 8,
   "id": "24845945-c334-46a1-8c7d-e0169ec7ade0",
   "metadata": {},
   "outputs": [
    {
     "data": {
      "text/plain": [
       "65"
      ]
     },
     "execution_count": 8,
     "metadata": {},
     "output_type": "execute_result"
    }
   ],
   "source": [
    "len(MI_Combo)"
   ]
  },
  {
   "cell_type": "code",
   "execution_count": 9,
   "id": "970000fe-555d-47e0-b2b0-45083b6afcbd",
   "metadata": {},
   "outputs": [
    {
     "data": {
      "image/png": "[encoded data removed]",
      "text/plain": [
       "<Figure size 180x288 with 2 Axes>"
      ]
     },
     "metadata": {
      "needs_background": "light"
     },
     "output_type": "display_data"
    }
   ],
   "source": [
    "import seaborn as sns\n",
    "fig, (ax1) = plt.subplots(1, 1, figsize=(2.5,4), sharey=True)\n",
    "ax2 = ax1.twinx()\n",
    "\n",
    "volc_order=[\"Blundy\", ]\n",
    "violin_parts=sns.violinplot(x=\"Study\", y=\"Sat_P_Pref\",  cut=0, inner=\"stick\", linewidth=1,\n",
    "              palette=['orange'],\n",
    "            data=MI_Combo,  ax=ax1,  order=volc_order, stick=True)\n",
    "##\n",
    "\n",
    "#ax1.plot(MI_Combo['Sat_P_Pref']*0, MI_Combo['Sat_P_Pref'], 'xk')\n",
    "\n",
    "ax1.plot([-1, 5], [0, 0], '-k', lw=0.5)\n",
    "ax1.set_ylim([P_axis_max, P_axis_min])\n",
    "ax2.set_ylim([D_axis_max, D_axis_min])\n",
    "\n",
    "ax1.tick_params(direction=\"in\")\n",
    "ax2.tick_params(direction=\"in\")\n",
    "ax1.set_xlim([-0.5, 0.5])\n",
    "ax1.set_xlabel(None)\n",
    "ax1.set_ylabel(None)\n",
    "#ax1.set_xticks([ 0, 1, 2, 3])\n",
    "#ax1.set_xticklabels(['MSH', 'W2016', 'W2019', ''], rotation=90)\n",
    "ax1.grid(color = 'k', linestyle = '--', axis='y',linewidth = 1, alpha = 0.1, zorder=0)\n",
    "#ax1.get_legend().remove()   \n",
    "ax1.set_xticks([])\n",
    "fig.savefig('MSH_MIs.png', dpi=200, bbox_inches=\"tight\")"
   ]
  },
  {
   "cell_type": "code",
   "execution_count": 11,
   "id": "7e5aa420-37d3-4bfa-9d25-1c5b82544c10",
   "metadata": {},
   "outputs": [
    {
     "data": {
      "text/plain": [
       "65"
      ]
     },
     "execution_count": 11,
     "metadata": {},
     "output_type": "execute_result"
    }
   ],
   "source": [
    "len(MI_Combo)"
   ]
  },
  {
   "cell_type": "code",
   "execution_count": null,
   "id": "2566a2f6-630a-4b5d-8b62-4e6d2fdd5cb9",
   "metadata": {},
   "outputs": [],
   "source": []
  }
 ],
 "metadata": {
  "kernelspec": {
   "display_name": "Python 3 (ipykernel)",
   "language": "python",
   "name": "python3"
  },
  "language_info": {
   "codemirror_mode": {
    "name": "ipython",
    "version": 3
   },
   "file_extension": ".py",
   "mimetype": "text/x-python",
   "name": "python",
   "nbconvert_exporter": "python",
   "pygments_lexer": "ipython3",
   "version": "3.9.12"
  }
 },
 "nbformat": 4,
 "nbformat_minor": 5
}
